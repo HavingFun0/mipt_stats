{
 "cells": [
  {
   "cell_type": "code",
   "execution_count": 3,
   "metadata": {
    "ExecuteTime": {
     "end_time": "2021-02-03T15:34:35.051967Z",
     "start_time": "2021-02-03T15:34:33.986139Z"
    },
    "id": "Rr7iJvmXRNA1"
   },
   "outputs": [],
   "source": [
    "import numpy as np\n",
    "import pandas as pd\n",
    "from scipy.stats import t\n",
    "from scipy.stats import norm\n",
    "\n",
    "from sklearn.linear_model import Ridge, Lasso, ElasticNet\n",
    "from sklearn.model_selection import train_test_split  \n",
    "from sklearn.datasets import load_diabetes\n",
    "\n",
    "import ipywidgets as widgets\n",
    "import matplotlib.pyplot as plt\n",
    "import seaborn as sns\n",
    "import warnings\n",
    "\n",
    "warnings.filterwarnings(\"ignore\")\n",
    "sns.set('notebook', font_scale=1.7)\n",
    "%matplotlib inline"
   ]
  },
  {
   "cell_type": "markdown",
   "metadata": {
    "id": "4iYMCCdYGSo7"
   },
   "source": [
    "# Регуляризация"
   ]
  },
  {
   "cell_type": "markdown",
   "metadata": {
    "id": "g0eq8iGtzCEc"
   },
   "source": [
    "\n",
    "* **Ridge** &mdash; это модель линейной регрессии, которая минимизирует $\\lVert y - X \\theta\\rVert^2_2 + \\alpha \\cdot \\lVert\\theta\\rVert^2_2$, где $y$ &mdash; истинные значения целевой переменной, $X$ &mdash; матрица \"объект-признак\", $\\theta$ &mdash; параметры модели, $\\alpha$ &mdash; параметр регуляризации.  \n",
    "* **Lasso**-регрессия минимизирует $\\lVert y - X \\theta\\rVert^2_2 + \\alpha \\cdot \\lVert\\theta\\rVert_1$   \n",
    "* **Elastic**-регрессия минимизирует $\\lVert y - X\\theta\\rVert^2_2 + \\alpha_1 \\cdot \\lVert\\theta\\rVert_1 + \\alpha_2 \\cdot \\lVert\\theta\\rVert^2_2$. Таким образом Elastic-регрессия является компромиссом между $l_1$ и $l_2$ регуляризацией, позже мы в этом убедимся. "
   ]
  },
  {
   "cell_type": "markdown",
   "metadata": {
    "id": "Sean6klwF9rZ"
   },
   "source": [
    "Остановимся подробнее на каждой из моделей в контексте их использования с помощью библиотеки sklearn."
   ]
  },
  {
   "cell_type": "markdown",
   "metadata": {
    "id": "rLSsnZXgGxfg"
   },
   "source": [
    "Рассмотрим работу линейных моделей на данных о диабете. Мы будем восстанавливать зависимость количественного показателя прогрессирования заболевания от давления, массы, пола, возраста и шести показателей сыворотки крови."
   ]
  },
  {
   "cell_type": "markdown",
   "metadata": {
    "id": "_KI8m8mFGSo-"
   },
   "source": [
    "## Данные"
   ]
  },
  {
   "cell_type": "markdown",
   "metadata": {
    "id": "mKAZbUAbHWv8"
   },
   "source": [
    "Считываем данные:"
   ]
  },
  {
   "cell_type": "code",
   "execution_count": 4,
   "metadata": {
    "ExecuteTime": {
     "end_time": "2021-02-03T15:34:35.106625Z",
     "start_time": "2021-02-03T15:34:35.055232Z"
    },
    "id": "XuvOx5dAGHQK"
   },
   "outputs": [],
   "source": [
    "X = load_diabetes()['data']\n",
    "y = load_diabetes()['target']\n",
    "columns_name = load_diabetes()['feature_names'] + ['target']\n",
    "\n",
    "data = pd.DataFrame(np.hstack((X, y.reshape(-1, 1))), columns=columns_name)"
   ]
  },
  {
   "cell_type": "markdown",
   "metadata": {
    "id": "i7IAVdATGSpA"
   },
   "source": [
    "Описание датасета:"
   ]
  },
  {
   "cell_type": "code",
   "execution_count": 5,
   "metadata": {
    "ExecuteTime": {
     "end_time": "2021-02-03T15:34:35.137135Z",
     "start_time": "2021-02-03T15:34:35.109712Z"
    },
    "colab": {
     "base_uri": "https://localhost:8080/"
    },
    "id": "SCMF3BgSGSpA",
    "outputId": "da277d3b-d4ec-4c72-f66e-4611a1c9eb9c"
   },
   "outputs": [
    {
     "name": "stdout",
     "output_type": "stream",
     "text": [
      ".. _diabetes_dataset:\n",
      "\n",
      "Diabetes dataset\n",
      "----------------\n",
      "\n",
      "Ten baseline variables, age, sex, body mass index, average blood\n",
      "pressure, and six blood serum measurements were obtained for each of n =\n",
      "442 diabetes patients, as well as the response of interest, a\n",
      "quantitative measure of disease progression one year after baseline.\n",
      "\n",
      "**Data Set Characteristics:**\n",
      "\n",
      "  :Number of Instances: 442\n",
      "\n",
      "  :Number of Attributes: First 10 columns are numeric predictive values\n",
      "\n",
      "  :Target: Column 11 is a quantitative measure of disease progression one year after baseline\n",
      "\n",
      "  :Attribute Information:\n",
      "      - age     age in years\n",
      "      - sex\n",
      "      - bmi     body mass index\n",
      "      - bp      average blood pressure\n",
      "      - s1      tc, T-Cells (a type of white blood cells)\n",
      "      - s2      ldl, low-density lipoproteins\n",
      "      - s3      hdl, high-density lipoproteins\n",
      "      - s4      tch, thyroid stimulating hormone\n",
      "      - s5      ltg, lamotrigine\n",
      "      - s6      glu, blood sugar level\n",
      "\n",
      "Note: Each of these 10 feature variables have been mean centered and scaled by the standard deviation times `n_samples` (i.e. the sum of squares of each column totals 1).\n",
      "\n",
      "Source URL:\n",
      "https://www4.stat.ncsu.edu/~boos/var.select/diabetes.html\n",
      "\n",
      "For more information see:\n",
      "Bradley Efron, Trevor Hastie, Iain Johnstone and Robert Tibshirani (2004) \"Least Angle Regression,\" Annals of Statistics (with discussion), 407-499.\n",
      "(https://web.stanford.edu/~hastie/Papers/LARS/LeastAngle_2002.pdf)\n"
     ]
    }
   ],
   "source": [
    "print(load_diabetes()['DESCR'])"
   ]
  },
  {
   "cell_type": "code",
   "execution_count": 6,
   "metadata": {
    "ExecuteTime": {
     "end_time": "2021-02-03T15:34:35.228939Z",
     "start_time": "2021-02-03T15:34:35.140891Z"
    },
    "colab": {
     "base_uri": "https://localhost:8080/",
     "height": 297
    },
    "id": "kDySD80AH5r7",
    "outputId": "8d739f8b-c2b0-43ee-f8b2-de515ecee433"
   },
   "outputs": [
    {
     "data": {
      "text/html": [
       "<div>\n",
       "<style scoped>\n",
       "    .dataframe tbody tr th:only-of-type {\n",
       "        vertical-align: middle;\n",
       "    }\n",
       "\n",
       "    .dataframe tbody tr th {\n",
       "        vertical-align: top;\n",
       "    }\n",
       "\n",
       "    .dataframe thead th {\n",
       "        text-align: right;\n",
       "    }\n",
       "</style>\n",
       "<table border=\"1\" class=\"dataframe\">\n",
       "  <thead>\n",
       "    <tr style=\"text-align: right;\">\n",
       "      <th></th>\n",
       "      <th>age</th>\n",
       "      <th>sex</th>\n",
       "      <th>bmi</th>\n",
       "      <th>bp</th>\n",
       "      <th>s1</th>\n",
       "      <th>s2</th>\n",
       "      <th>s3</th>\n",
       "      <th>s4</th>\n",
       "      <th>s5</th>\n",
       "      <th>s6</th>\n",
       "      <th>target</th>\n",
       "    </tr>\n",
       "  </thead>\n",
       "  <tbody>\n",
       "    <tr>\n",
       "      <th>count</th>\n",
       "      <td>442.0000</td>\n",
       "      <td>442.0000</td>\n",
       "      <td>442.0000</td>\n",
       "      <td>442.0000</td>\n",
       "      <td>442.0000</td>\n",
       "      <td>442.0000</td>\n",
       "      <td>442.0000</td>\n",
       "      <td>442.0000</td>\n",
       "      <td>442.0000</td>\n",
       "      <td>442.0000</td>\n",
       "      <td>442.0000</td>\n",
       "    </tr>\n",
       "    <tr>\n",
       "      <th>mean</th>\n",
       "      <td>-0.0000</td>\n",
       "      <td>0.0000</td>\n",
       "      <td>-0.0000</td>\n",
       "      <td>0.0000</td>\n",
       "      <td>-0.0000</td>\n",
       "      <td>0.0000</td>\n",
       "      <td>-0.0000</td>\n",
       "      <td>0.0000</td>\n",
       "      <td>-0.0000</td>\n",
       "      <td>-0.0000</td>\n",
       "      <td>152.1335</td>\n",
       "    </tr>\n",
       "    <tr>\n",
       "      <th>std</th>\n",
       "      <td>0.0476</td>\n",
       "      <td>0.0476</td>\n",
       "      <td>0.0476</td>\n",
       "      <td>0.0476</td>\n",
       "      <td>0.0476</td>\n",
       "      <td>0.0476</td>\n",
       "      <td>0.0476</td>\n",
       "      <td>0.0476</td>\n",
       "      <td>0.0476</td>\n",
       "      <td>0.0476</td>\n",
       "      <td>77.0930</td>\n",
       "    </tr>\n",
       "    <tr>\n",
       "      <th>min</th>\n",
       "      <td>-0.1072</td>\n",
       "      <td>-0.0446</td>\n",
       "      <td>-0.0903</td>\n",
       "      <td>-0.1124</td>\n",
       "      <td>-0.1268</td>\n",
       "      <td>-0.1156</td>\n",
       "      <td>-0.1023</td>\n",
       "      <td>-0.0764</td>\n",
       "      <td>-0.1261</td>\n",
       "      <td>-0.1378</td>\n",
       "      <td>25.0000</td>\n",
       "    </tr>\n",
       "    <tr>\n",
       "      <th>25%</th>\n",
       "      <td>-0.0373</td>\n",
       "      <td>-0.0446</td>\n",
       "      <td>-0.0342</td>\n",
       "      <td>-0.0367</td>\n",
       "      <td>-0.0342</td>\n",
       "      <td>-0.0304</td>\n",
       "      <td>-0.0351</td>\n",
       "      <td>-0.0395</td>\n",
       "      <td>-0.0332</td>\n",
       "      <td>-0.0332</td>\n",
       "      <td>87.0000</td>\n",
       "    </tr>\n",
       "    <tr>\n",
       "      <th>50%</th>\n",
       "      <td>0.0054</td>\n",
       "      <td>-0.0446</td>\n",
       "      <td>-0.0073</td>\n",
       "      <td>-0.0057</td>\n",
       "      <td>-0.0043</td>\n",
       "      <td>-0.0038</td>\n",
       "      <td>-0.0066</td>\n",
       "      <td>-0.0026</td>\n",
       "      <td>-0.0019</td>\n",
       "      <td>-0.0011</td>\n",
       "      <td>140.5000</td>\n",
       "    </tr>\n",
       "    <tr>\n",
       "      <th>75%</th>\n",
       "      <td>0.0381</td>\n",
       "      <td>0.0507</td>\n",
       "      <td>0.0312</td>\n",
       "      <td>0.0356</td>\n",
       "      <td>0.0284</td>\n",
       "      <td>0.0298</td>\n",
       "      <td>0.0293</td>\n",
       "      <td>0.0343</td>\n",
       "      <td>0.0324</td>\n",
       "      <td>0.0279</td>\n",
       "      <td>211.5000</td>\n",
       "    </tr>\n",
       "    <tr>\n",
       "      <th>max</th>\n",
       "      <td>0.1107</td>\n",
       "      <td>0.0507</td>\n",
       "      <td>0.1706</td>\n",
       "      <td>0.1320</td>\n",
       "      <td>0.1539</td>\n",
       "      <td>0.1988</td>\n",
       "      <td>0.1812</td>\n",
       "      <td>0.1852</td>\n",
       "      <td>0.1336</td>\n",
       "      <td>0.1356</td>\n",
       "      <td>346.0000</td>\n",
       "    </tr>\n",
       "  </tbody>\n",
       "</table>\n",
       "</div>"
      ],
      "text/plain": [
       "            age       sex       bmi        bp        s1        s2        s3  \\\n",
       "count  442.0000  442.0000  442.0000  442.0000  442.0000  442.0000  442.0000   \n",
       "mean    -0.0000    0.0000   -0.0000    0.0000   -0.0000    0.0000   -0.0000   \n",
       "std      0.0476    0.0476    0.0476    0.0476    0.0476    0.0476    0.0476   \n",
       "min     -0.1072   -0.0446   -0.0903   -0.1124   -0.1268   -0.1156   -0.1023   \n",
       "25%     -0.0373   -0.0446   -0.0342   -0.0367   -0.0342   -0.0304   -0.0351   \n",
       "50%      0.0054   -0.0446   -0.0073   -0.0057   -0.0043   -0.0038   -0.0066   \n",
       "75%      0.0381    0.0507    0.0312    0.0356    0.0284    0.0298    0.0293   \n",
       "max      0.1107    0.0507    0.1706    0.1320    0.1539    0.1988    0.1812   \n",
       "\n",
       "             s4        s5        s6    target  \n",
       "count  442.0000  442.0000  442.0000  442.0000  \n",
       "mean     0.0000   -0.0000   -0.0000  152.1335  \n",
       "std      0.0476    0.0476    0.0476   77.0930  \n",
       "min     -0.0764   -0.1261   -0.1378   25.0000  \n",
       "25%     -0.0395   -0.0332   -0.0332   87.0000  \n",
       "50%     -0.0026   -0.0019   -0.0011  140.5000  \n",
       "75%      0.0343    0.0324    0.0279  211.5000  \n",
       "max      0.1852    0.1336    0.1356  346.0000  "
      ]
     },
     "execution_count": 6,
     "metadata": {},
     "output_type": "execute_result"
    }
   ],
   "source": [
    "data.describe().round(4)"
   ]
  },
  {
   "cell_type": "markdown",
   "metadata": {
    "id": "_TxwlVbYdDH_"
   },
   "source": [
    "Как видим, данные уже центрированы."
   ]
  },
  {
   "cell_type": "markdown",
   "metadata": {
    "id": "yDtkuUI4iqiS"
   },
   "source": [
    "## Ridge-регрессия"
   ]
  },
  {
   "cell_type": "markdown",
   "metadata": {
    "id": "qQU6ut0pdIOR"
   },
   "source": [
    "Используем Ridge-регрессию:"
   ]
  },
  {
   "cell_type": "code",
   "execution_count": 7,
   "metadata": {
    "ExecuteTime": {
     "end_time": "2021-02-03T15:34:35.237540Z",
     "start_time": "2021-02-03T15:34:35.231951Z"
    },
    "id": "xdNXxToAIYCf"
   },
   "outputs": [],
   "source": [
    "model = Ridge(\n",
    "    # коэффициент регуляризации, чем больше - тем сильнее регуляризация\n",
    "    alpha=1.0,\n",
    "    # использовать ли параметр-остаток при обучении \n",
    "    fit_intercept=True,\n",
    "    # максимальное количество итераций в методе оптимизации\n",
    "    # при использовании итеративного метода\n",
    "    max_iter=100,\n",
    "    # точность решения, \n",
    "    # чем значение меньше, тем больше может потребоваться итераций\n",
    "    tol=0.0001,\n",
    "    # используемый метод оптимизации\n",
    "    solver='auto'\n",
    ")"
   ]
  },
  {
   "cell_type": "markdown",
   "metadata": {
    "id": "9V1wxaVkJ07G"
   },
   "source": [
    "Рассмотрим подробнее параметр `solver`."
   ]
  },
  {
   "cell_type": "markdown",
   "metadata": {
    "id": "WGqcDDJNJ4Qm"
   },
   "source": [
    " Доступные параметры:\n",
    "\n",
    "* `auto` выбирает автоматически под тип даннных.\n",
    "  \n",
    "\n",
    "* `svd` использует сингулярное разложение матрицы для вычисления коэффициентов регрессии. Более стабильный метод для вырожденных матриц, чем метод `cholesky`.\n",
    "  \n",
    "\n",
    "* [`cholesky`](https://docs.scipy.org/doc/scipy/reference/generated/scipy.linalg.solve.html) использует функцию из `scipy.linalg.solve`. \n",
    "  \n",
    "\n",
    "* [`sparse_cg`](https://docs.scipy.org/doc/scipy/reference/generated/scipy.sparse.linalg.cg.html) использует функцию из `scipy.sparse.linalg.cg`.\n",
    "  \n",
    "\n",
    "* [`lsqr`](https://docs.scipy.org/doc/scipy-0.14.0/reference/generated/scipy.sparse.linalg.lsqr.html) использует функцию из `scipy.sparse.linalg.lsqr`.\n",
    "  \n",
    "\n",
    "* `sag` и `saga` - стохастический градиентный спуск. Метод `saga` заявлен как улучшенная версия метода `sag`. Данные методы являются итеративными и лучше сходятся, когда признаки находятся в одном масштабе (то есть для данных нужно выполнять некоторый препроцессинг, например, при помощи `StandartScaler` из `sklearn`)."
   ]
  },
  {
   "cell_type": "markdown",
   "metadata": {
    "id": "MZpBnLn_GSpE"
   },
   "source": [
    "Обучаем модель."
   ]
  },
  {
   "cell_type": "code",
   "execution_count": 8,
   "metadata": {
    "ExecuteTime": {
     "end_time": "2021-02-03T15:34:35.259203Z",
     "start_time": "2021-02-03T15:34:35.240805Z"
    },
    "colab": {
     "base_uri": "https://localhost:8080/"
    },
    "id": "Ra8Bw7UwNj-x",
    "outputId": "683b380a-4527-4a83-c454-def3995b6fdc"
   },
   "outputs": [
    {
     "data": {
      "text/plain": [
       "Ridge(max_iter=100, tol=0.0001)"
      ]
     },
     "execution_count": 8,
     "metadata": {},
     "output_type": "execute_result"
    }
   ],
   "source": [
    "model.fit(X, y)"
   ]
  },
  {
   "cell_type": "markdown",
   "metadata": {
    "id": "zHMlc9HCGSpF"
   },
   "source": [
    "Посмотрим на различные параметры модели."
   ]
  },
  {
   "cell_type": "markdown",
   "metadata": {
    "id": "OEJPYuJuGSpF"
   },
   "source": [
    "Коэффициенты модели."
   ]
  },
  {
   "cell_type": "code",
   "execution_count": 9,
   "metadata": {
    "ExecuteTime": {
     "end_time": "2021-02-03T15:34:35.279800Z",
     "start_time": "2021-02-03T15:34:35.263593Z"
    },
    "colab": {
     "base_uri": "https://localhost:8080/"
    },
    "id": "7iYuN-wLNne7",
    "outputId": "bd9d31f9-0d93-4166-94ce-fe2020c0f65b"
   },
   "outputs": [
    {
     "data": {
      "text/plain": [
       "array([  29.46574564,  -83.15488546,  306.35162706,  201.62943384,\n",
       "          5.90936896,  -29.51592665, -152.04046539,  117.31171538,\n",
       "        262.94499533,  111.878718  ])"
      ]
     },
     "execution_count": 9,
     "metadata": {},
     "output_type": "execute_result"
    }
   ],
   "source": [
    "model.coef_"
   ]
  },
  {
   "cell_type": "markdown",
   "metadata": {
    "id": "ZGZxVvWrGSpF"
   },
   "source": [
    "Свободный параметр."
   ]
  },
  {
   "cell_type": "code",
   "execution_count": 10,
   "metadata": {
    "ExecuteTime": {
     "end_time": "2021-02-03T15:34:35.294212Z",
     "start_time": "2021-02-03T15:34:35.284948Z"
    },
    "colab": {
     "base_uri": "https://localhost:8080/"
    },
    "id": "y6e-WTKuNwx6",
    "outputId": "c62bc736-298f-4f12-a6c1-4608de25e578"
   },
   "outputs": [
    {
     "data": {
      "text/plain": [
       "152.13348416289622"
      ]
     },
     "execution_count": 10,
     "metadata": {},
     "output_type": "execute_result"
    }
   ],
   "source": [
    "model.intercept_"
   ]
  },
  {
   "cell_type": "markdown",
   "metadata": {
    "id": "-bBxpexwGSpG"
   },
   "source": [
    "Число итераций, вернет None если solver не итеративный."
   ]
  },
  {
   "cell_type": "code",
   "execution_count": 11,
   "metadata": {
    "ExecuteTime": {
     "end_time": "2021-02-03T15:34:35.302456Z",
     "start_time": "2021-02-03T15:34:35.298901Z"
    },
    "id": "vawo4ckfN-Gr"
   },
   "outputs": [],
   "source": [
    "model.n_iter_ "
   ]
  },
  {
   "cell_type": "markdown",
   "metadata": {
    "id": "6iRaNUFuGSpG"
   },
   "source": [
    "Настройки модели, которые использовались при обучении."
   ]
  },
  {
   "cell_type": "code",
   "execution_count": 12,
   "metadata": {
    "ExecuteTime": {
     "end_time": "2021-02-03T15:34:35.314429Z",
     "start_time": "2021-02-03T15:34:35.306792Z"
    },
    "colab": {
     "base_uri": "https://localhost:8080/"
    },
    "id": "Vz_Y5K1iOWit",
    "outputId": "4616c8d3-9e07-48d3-bd3b-b9549a16d71e"
   },
   "outputs": [
    {
     "data": {
      "text/plain": [
       "{'alpha': 1.0,\n",
       " 'copy_X': True,\n",
       " 'fit_intercept': True,\n",
       " 'max_iter': 100,\n",
       " 'normalize': False,\n",
       " 'random_state': None,\n",
       " 'solver': 'auto',\n",
       " 'tol': 0.0001}"
      ]
     },
     "execution_count": 12,
     "metadata": {},
     "output_type": "execute_result"
    }
   ],
   "source": [
    "model.get_params()"
   ]
  },
  {
   "cell_type": "markdown",
   "metadata": {
    "id": "H9aqnEkVWp59"
   },
   "source": [
    "Теперь займемся визуализацией. Посмотрим, как ведут себя предсказания в зависимости от изменения параметров модели."
   ]
  },
  {
   "cell_type": "code",
   "execution_count": 15,
   "metadata": {
    "ExecuteTime": {
     "end_time": "2021-02-03T15:34:35.344621Z",
     "start_time": "2021-02-03T15:34:35.317211Z"
    },
    "id": "LYGQcIhbQe9s"
   },
   "outputs": [],
   "source": [
    "def linear_predictor(alpha, model, count_of_objects=20):\n",
    "    \"\"\"Данная функция строит график предсказаний модели \n",
    "    на первых count_of_objects объектах датасета.\n",
    "    \n",
    "    :param alpha: коэффициент регуляризации\n",
    "    :param model: тип модели\n",
    "    \"\"\"\n",
    "\n",
    "    if model == 'Ridge':\n",
    "        model = Ridge(alpha=alpha, max_iter=1000, fit_intercept=True)\n",
    "    elif model == 'Lasso':\n",
    "        model = Lasso(alpha=alpha, max_iter=1000, fit_intercept=True)\n",
    "    elif model == 'Elastic':\n",
    "        model = ElasticNet(alpha=alpha, max_iter=1000, fit_intercept=True)\n",
    "\n",
    "    model.fit(X, y)\n",
    "    y_pred = model.predict(X)\n",
    "\n",
    "    plt.figure(figsize=(14, 5))\n",
    "\n",
    "    plt.scatter(np.arange(count_of_objects), y_pred[:count_of_objects], \n",
    "              color='#0066FF', label='Предсказания модели')\n",
    "    plt.plot(np.arange(count_of_objects), y_pred[:count_of_objects], \n",
    "          color='#0066FF')\n",
    "    plt.scatter(np.arange(count_of_objects), y[:count_of_objects], \n",
    "                color='#FF3300', label='Истинные значения')\n",
    "\n",
    "    plt.grid(ls=':')\n",
    "    plt.xlabel('Номер объекта', fontsize=19)\n",
    "    plt.xticks(np.arange(count_of_objects))\n",
    "    plt.ylabel('Предсказание', fontsize=19)\n",
    "    plt.title('Предсказания на {} объектах'.format(count_of_objects), \n",
    "              fontsize=22)\n",
    "    plt.legend(fontsize=19)\n",
    "    plt.show() "
   ]
  },
  {
   "cell_type": "code",
   "execution_count": 16,
   "metadata": {
    "ExecuteTime": {
     "end_time": "2021-02-03T15:34:36.025978Z",
     "start_time": "2021-02-03T15:34:35.354576Z"
    },
    "colab": {
     "base_uri": "https://localhost:8080/",
     "height": 410,
     "referenced_widgets": [
      "553b320a10c24a1fb4b6c60c06d25199",
      "39a282ebc5cf4f22b02a293dca3b2dcc",
      "f06304dd225042848a7ce8093d60bb24",
      "a34284c0707f44809aac12a99182cc36",
      "daf8575c20ba40bfaed769cdbd392d0f",
      "c0d44592016a4298ad9c6489fcbcec69",
      "aed78abd543a4fb6a6e16cffc7bc2335"
     ]
    },
    "id": "qC6iO4I7QcVq",
    "outputId": "5c3b5c9f-f39c-4eab-f99f-82881197daf1"
   },
   "outputs": [
    {
     "data": {
      "application/vnd.jupyter.widget-view+json": {
       "model_id": "423d4cd127164ad080a16ac83e85cfd6",
       "version_major": 2,
       "version_minor": 0
      },
      "text/plain": [
       "HBox(children=(FloatSlider(value=1.0, description='alpha', max=10.0, min=0.0001, step=0.01),))"
      ]
     },
     "metadata": {},
     "output_type": "display_data"
    },
    {
     "data": {
      "application/vnd.jupyter.widget-view+json": {
       "model_id": "15ae51c4923343289be9c8ccf2af4fa7",
       "version_major": 2,
       "version_minor": 0
      },
      "text/plain": [
       "Output()"
      ]
     },
     "metadata": {},
     "output_type": "display_data"
    }
   ],
   "source": [
    "# создать виджет, но не отображать его\n",
    "ip = widgets.interactive(\n",
    "    linear_predictor, \n",
    "    alpha=widgets.FloatSlider(min=0.0001, max=10, step=0.01, value=1),\n",
    "    model='Ridge'\n",
    ");\n",
    "\n",
    "# отображаем слайдер\n",
    "display(widgets.HBox(ip.children[:1]))\n",
    "\n",
    "# отображаем вывод функции\n",
    "display(ip.children[-1])\n",
    "ip.update() # чтобы функция запустилась до первого изменения слайдеров"
   ]
  },
  {
   "cell_type": "markdown",
   "metadata": {
    "id": "iCLnoImJUbpK"
   },
   "source": [
    "## Lasso-регрессия"
   ]
  },
  {
   "cell_type": "code",
   "execution_count": 13,
   "metadata": {
    "ExecuteTime": {
     "end_time": "2021-02-03T15:34:36.037024Z",
     "start_time": "2021-02-03T15:34:36.028753Z"
    },
    "id": "YQrJPa8FUa1W"
   },
   "outputs": [],
   "source": [
    "model = Lasso(\n",
    "    # коэффициент регуляризации, чем больше - тем сильнее регуляризация\n",
    "    alpha=1.0,\n",
    "    # использовать ли параметр-остаток при обучении\n",
    "    fit_intercept=True,\n",
    "    # максимальное количество итераций в методе оптимизации\n",
    "    max_iter=100,\n",
    "    # точность решения, \n",
    "    # чем значение меньше, тем больше может потребоваться итераций\n",
    "    tol=0.0001,\n",
    "    # использовать ли предпосчитанную матрицу Грамма для ускорения расчетов\n",
    "    precompute=True,\n",
    "    # использовать ли результаты последнего обучения для инициализации\n",
    "    warm_start=False,\n",
    "    # если True, то будет подбирать положительные коэффициенты\n",
    "    positive=False  \n",
    ")"
   ]
  },
  {
   "cell_type": "markdown",
   "metadata": {
    "id": "8HfZkraMGSpI"
   },
   "source": [
    "Для оптимизации используется покоординатный градиентный спуск."
   ]
  },
  {
   "cell_type": "markdown",
   "metadata": {
    "id": "R0DGfX7MGSpI"
   },
   "source": [
    "Обучаем модель"
   ]
  },
  {
   "cell_type": "code",
   "execution_count": 14,
   "metadata": {
    "ExecuteTime": {
     "end_time": "2021-02-03T15:34:36.050290Z",
     "start_time": "2021-02-03T15:34:36.040342Z"
    },
    "colab": {
     "base_uri": "https://localhost:8080/"
    },
    "id": "ZuZgv19JVtmf",
    "outputId": "c5d780cd-de39-4c2c-c273-c903f1a5831a"
   },
   "outputs": [
    {
     "data": {
      "text/plain": [
       "Lasso(alpha=1.0, copy_X=True, fit_intercept=True, max_iter=100, normalize=False,\n",
       "      positive=False, precompute=True, random_state=None, selection='cyclic',\n",
       "      tol=0.0001, warm_start=False)"
      ]
     },
     "execution_count": 14,
     "metadata": {},
     "output_type": "execute_result"
    }
   ],
   "source": [
    "model.fit(X, y)"
   ]
  },
  {
   "cell_type": "markdown",
   "metadata": {
    "id": "tfwUbVJKGSpI"
   },
   "source": [
    "Посмотрим на различные параметры модели."
   ]
  },
  {
   "cell_type": "markdown",
   "metadata": {
    "id": "Xxe-4ik0GSpI"
   },
   "source": [
    "Коэффициенты модели."
   ]
  },
  {
   "cell_type": "code",
   "execution_count": 15,
   "metadata": {
    "ExecuteTime": {
     "end_time": "2021-02-03T15:34:36.060931Z",
     "start_time": "2021-02-03T15:34:36.053713Z"
    },
    "colab": {
     "base_uri": "https://localhost:8080/"
    },
    "id": "1lcf8wOKV1Zn",
    "outputId": "b850a68a-e6e5-43c5-ad54-167ead217d42"
   },
   "outputs": [
    {
     "data": {
      "text/plain": [
       "array([  0.        ,  -0.        , 367.70185207,   6.30190419,\n",
       "         0.        ,   0.        ,  -0.        ,   0.        ,\n",
       "       307.6057    ,   0.        ])"
      ]
     },
     "execution_count": 15,
     "metadata": {},
     "output_type": "execute_result"
    }
   ],
   "source": [
    "model.coef_"
   ]
  },
  {
   "cell_type": "markdown",
   "metadata": {
    "id": "zBKFanCjGSpJ"
   },
   "source": [
    "Свободный параметр."
   ]
  },
  {
   "cell_type": "code",
   "execution_count": 16,
   "metadata": {
    "ExecuteTime": {
     "end_time": "2021-02-03T15:34:36.070678Z",
     "start_time": "2021-02-03T15:34:36.063694Z"
    },
    "colab": {
     "base_uri": "https://localhost:8080/"
    },
    "id": "qtu5CzcJGSpJ",
    "outputId": "eaee3250-aac4-4256-978e-5566fcfbf9a4"
   },
   "outputs": [
    {
     "data": {
      "text/plain": [
       "152.13348416289637"
      ]
     },
     "execution_count": 16,
     "metadata": {},
     "output_type": "execute_result"
    }
   ],
   "source": [
    "model.intercept_"
   ]
  },
  {
   "cell_type": "markdown",
   "metadata": {
    "id": "poUHSM8-GSpJ"
   },
   "source": [
    "Разряженное представление коэффициентов, хранятся только ненулевые элементы."
   ]
  },
  {
   "cell_type": "code",
   "execution_count": 17,
   "metadata": {
    "ExecuteTime": {
     "end_time": "2021-02-03T15:34:36.083428Z",
     "start_time": "2021-02-03T15:34:36.073425Z"
    },
    "colab": {
     "base_uri": "https://localhost:8080/"
    },
    "id": "Si7HhqFXV4NK",
    "outputId": "6ac6280b-e803-44f7-f4f0-d98b301f8917"
   },
   "outputs": [
    {
     "data": {
      "text/plain": [
       "<1x10 sparse matrix of type '<class 'numpy.float64'>'\n",
       "\twith 3 stored elements in Compressed Sparse Row format>"
      ]
     },
     "execution_count": 17,
     "metadata": {},
     "output_type": "execute_result"
    }
   ],
   "source": [
    "model.sparse_coef_ "
   ]
  },
  {
   "cell_type": "code",
   "execution_count": 18,
   "metadata": {
    "ExecuteTime": {
     "end_time": "2021-02-03T15:34:36.093828Z",
     "start_time": "2021-02-03T15:34:36.086124Z"
    },
    "colab": {
     "base_uri": "https://localhost:8080/"
    },
    "id": "3VdAV8A4V8-W",
    "outputId": "a8dcd73b-83a4-444e-f127-3ac5c0157b1e"
   },
   "outputs": [
    {
     "name": "stdout",
     "output_type": "stream",
     "text": [
      "  (0, 2)\t367.70185206981677\n",
      "  (0, 3)\t6.301904186054684\n",
      "  (0, 8)\t307.6057000044809\n"
     ]
    }
   ],
   "source": [
    "print(model.sparse_coef_)"
   ]
  },
  {
   "cell_type": "markdown",
   "metadata": {
    "id": "0jip0NjnGSpK"
   },
   "source": [
    "Количество итераций."
   ]
  },
  {
   "cell_type": "code",
   "execution_count": 19,
   "metadata": {
    "ExecuteTime": {
     "end_time": "2021-02-03T15:34:36.102914Z",
     "start_time": "2021-02-03T15:34:36.096818Z"
    },
    "colab": {
     "base_uri": "https://localhost:8080/"
    },
    "id": "YJEI3TegWIz4",
    "outputId": "d678e681-f28e-4dd1-db5d-3f9a54f6c98f"
   },
   "outputs": [
    {
     "data": {
      "text/plain": [
       "8"
      ]
     },
     "execution_count": 19,
     "metadata": {},
     "output_type": "execute_result"
    }
   ],
   "source": [
    "model.n_iter_ "
   ]
  },
  {
   "cell_type": "markdown",
   "metadata": {
    "id": "wV02m8HsGSpK"
   },
   "source": [
    "Визуализация."
   ]
  },
  {
   "cell_type": "code",
   "execution_count": 20,
   "metadata": {
    "ExecuteTime": {
     "end_time": "2021-02-03T15:34:36.714758Z",
     "start_time": "2021-02-03T15:34:36.105843Z"
    },
    "colab": {
     "base_uri": "https://localhost:8080/",
     "height": 410,
     "referenced_widgets": [
      "6c095cdfcbb6421a8bbc935d5d3338d0",
      "0f1a99ae79ba4984a8d580554738c484",
      "605527c07e0345369727d681ee04a9c5",
      "4ae51fbd693f47daac2351e4c6ccfcaf",
      "1470170e3f5747608596d79c00f1c644",
      "4c20e81ef31a4f3d9595725dd2c5344c",
      "b0515fd641704d02b12bfb69a9f2ab78"
     ]
    },
    "id": "qHdZ75jlWwBG",
    "outputId": "a3ad8ec7-c36f-487b-99bf-a6b531fd792f"
   },
   "outputs": [
    {
     "data": {
      "application/vnd.jupyter.widget-view+json": {
       "model_id": "6c095cdfcbb6421a8bbc935d5d3338d0",
       "version_major": 2,
       "version_minor": 0
      },
      "text/plain": [
       "HBox(children=(FloatSlider(value=1.0, description='alpha', max=10.0, min=0.0001, step=0.01),))"
      ]
     },
     "metadata": {},
     "output_type": "display_data"
    },
    {
     "data": {
      "application/vnd.jupyter.widget-view+json": {
       "model_id": "4c20e81ef31a4f3d9595725dd2c5344c",
       "version_major": 2,
       "version_minor": 0
      },
      "text/plain": [
       "Output()"
      ]
     },
     "metadata": {},
     "output_type": "display_data"
    }
   ],
   "source": [
    "# создать виджет, но не отображать его\n",
    "ip = widgets.interactive(\n",
    "    linear_predictor, \n",
    "    alpha=widgets.FloatSlider(min=0.0001, max=10, step=0.01, value=1),\n",
    "    model=\"Lasso\"\n",
    ");\n",
    "\n",
    "# отображаем слайдер\n",
    "display(widgets.HBox(ip.children[:1]))\n",
    "\n",
    "# отображаем вывод функции\n",
    "display(ip.children[-1])\n",
    "ip.update() # чтобы функция запустилась до первого изменения слайдеров"
   ]
  },
  {
   "cell_type": "markdown",
   "metadata": {
    "id": "ulTCNVa3aDw0"
   },
   "source": [
    "# Elastic-регрессия"
   ]
  },
  {
   "cell_type": "code",
   "execution_count": 22,
   "metadata": {
    "ExecuteTime": {
     "end_time": "2021-02-03T15:34:36.724592Z",
     "start_time": "2021-02-03T15:34:36.717747Z"
    },
    "id": "OvibO53qaFzv"
   },
   "outputs": [],
   "source": [
    "model = ElasticNet(\n",
    "    # коэффициент регуляризации, чем больше - тем сильнее регуляризация\n",
    "    alpha=0.01, \n",
    "    # какое предпочтение отдавать l1, а не l2\n",
    "    l1_ratio=0.6, \n",
    "    # использовать ли параметр-остаток при обучении\n",
    "    fit_intercept=True,    \n",
    "    # максимальное количество итераций в методе оптимизации\n",
    "    max_iter=100,\n",
    "    # точность решения, \n",
    "    # чем значение меньше, тем больше может потребоваться итераций\n",
    "    tol=0.0001, \n",
    "    # использовать ли предпосчитанную матрицу Грамма для ускорения расчетов\n",
    "    precompute=True,  \n",
    "    # использовать ли результаты последнего обучения для инициализации\n",
    "    warm_start=False, \n",
    "    # если True, то будет подбирать положительные коэффициенты\n",
    "    positive=False  \n",
    ")"
   ]
  },
  {
   "cell_type": "markdown",
   "metadata": {
    "id": "lRz5r-2-GSpK"
   },
   "source": [
    "Для оптимизации используется покоординатный градиентный спуск."
   ]
  },
  {
   "cell_type": "markdown",
   "metadata": {
    "id": "oBWMqtvoGSpL"
   },
   "source": [
    "Разберемся чуть подробнее в связи между `alpha`, `l1_ratio` с $\\alpha_1, \\alpha_2$, которые мы вводили:\n",
    "\n",
    "$$\n",
    "\\verb|alpha| = \\alpha_1 + 2\\alpha_2\n",
    "\\\\\n",
    "\\verb|l1_ratio| = \\frac{\\alpha_1}{\\alpha_1 + 2\\alpha_2}\n",
    "\\\\\n",
    "\\alpha_1 = \\verb|alpha| \\cdot \\verb|l1_ratio|\n",
    "\\\\\n",
    "\\alpha_2 = \\frac{1}{2} \\verb|alpha| \\cdot (1 - \\verb|l1_ratio|)\n",
    "$$"
   ]
  },
  {
   "cell_type": "markdown",
   "metadata": {
    "id": "l-q6WmPMGSpL"
   },
   "source": [
    " Обучаем модель."
   ]
  },
  {
   "cell_type": "code",
   "execution_count": 23,
   "metadata": {
    "ExecuteTime": {
     "end_time": "2021-02-03T15:34:36.741884Z",
     "start_time": "2021-02-03T15:34:36.727668Z"
    },
    "colab": {
     "base_uri": "https://localhost:8080/"
    },
    "id": "u6g4kGO0atD0",
    "outputId": "2cb5ee6b-0724-4240-8a0a-361e6e843713"
   },
   "outputs": [
    {
     "data": {
      "text/plain": [
       "ElasticNet(alpha=0.01, copy_X=True, fit_intercept=True, l1_ratio=0.6,\n",
       "           max_iter=100, normalize=False, positive=False, precompute=True,\n",
       "           random_state=None, selection='cyclic', tol=0.0001, warm_start=False)"
      ]
     },
     "execution_count": 23,
     "metadata": {},
     "output_type": "execute_result"
    }
   ],
   "source": [
    "model.fit(X, y)"
   ]
  },
  {
   "cell_type": "markdown",
   "metadata": {
    "id": "ZErocfckGSpL"
   },
   "source": [
    "Посмотрим на различные параметры модели."
   ]
  },
  {
   "cell_type": "markdown",
   "metadata": {
    "id": "P3AIlDcCGSpL"
   },
   "source": [
    "Коэффициенты модели."
   ]
  },
  {
   "cell_type": "code",
   "execution_count": 24,
   "metadata": {
    "ExecuteTime": {
     "end_time": "2021-02-03T15:34:36.771034Z",
     "start_time": "2021-02-03T15:34:36.754109Z"
    },
    "colab": {
     "base_uri": "https://localhost:8080/"
    },
    "id": "Aq9PzSQSaux_",
    "outputId": "29f3aefe-54d7-47ff-928e-dda3977eff0a"
   },
   "outputs": [
    {
     "data": {
      "text/plain": [
       "array([  32.69601043,  -46.27021937,  237.0691138 ,  160.4502964 ,\n",
       "         17.84040055,   -5.07757963, -126.15582569,  106.14137675,\n",
       "        206.58033298,  102.02605962])"
      ]
     },
     "execution_count": 24,
     "metadata": {},
     "output_type": "execute_result"
    }
   ],
   "source": [
    "model.coef_"
   ]
  },
  {
   "cell_type": "markdown",
   "metadata": {
    "id": "U2xlkU8uGSpL"
   },
   "source": [
    "Свободный параметр."
   ]
  },
  {
   "cell_type": "code",
   "execution_count": 25,
   "metadata": {
    "ExecuteTime": {
     "end_time": "2021-02-03T15:34:36.789159Z",
     "start_time": "2021-02-03T15:34:36.778628Z"
    },
    "colab": {
     "base_uri": "https://localhost:8080/"
    },
    "id": "rb3f7NS5GSpM",
    "outputId": "bcad2ff9-5518-4f3e-aec2-36b84b6db1dc"
   },
   "outputs": [
    {
     "data": {
      "text/plain": [
       "152.13348416289614"
      ]
     },
     "execution_count": 25,
     "metadata": {},
     "output_type": "execute_result"
    }
   ],
   "source": [
    "model.intercept_"
   ]
  },
  {
   "cell_type": "markdown",
   "metadata": {
    "id": "A0DRMkYFGSpM"
   },
   "source": [
    "Разряженное представление коэффициентов, хранятся только ненулевые элементы."
   ]
  },
  {
   "cell_type": "code",
   "execution_count": 26,
   "metadata": {
    "ExecuteTime": {
     "end_time": "2021-02-03T15:34:36.811532Z",
     "start_time": "2021-02-03T15:34:36.792715Z"
    },
    "colab": {
     "base_uri": "https://localhost:8080/"
    },
    "id": "uQa6s1baavSY",
    "outputId": "7d44bdf0-a1d6-4db5-8857-5d6569d6a0c6"
   },
   "outputs": [
    {
     "data": {
      "text/plain": [
       "<1x10 sparse matrix of type '<class 'numpy.float64'>'\n",
       "\twith 10 stored elements in Compressed Sparse Row format>"
      ]
     },
     "execution_count": 26,
     "metadata": {},
     "output_type": "execute_result"
    }
   ],
   "source": [
    "model.sparse_coef_ "
   ]
  },
  {
   "cell_type": "code",
   "execution_count": 27,
   "metadata": {
    "ExecuteTime": {
     "end_time": "2021-02-03T15:34:36.825185Z",
     "start_time": "2021-02-03T15:34:36.815646Z"
    },
    "colab": {
     "base_uri": "https://localhost:8080/"
    },
    "id": "XUiOz-Z8aynJ",
    "outputId": "7affc7ea-c265-41ba-83cb-63a944d56055"
   },
   "outputs": [
    {
     "name": "stdout",
     "output_type": "stream",
     "text": [
      "  (0, 0)\t32.69601043051574\n",
      "  (0, 1)\t-46.270219374896996\n",
      "  (0, 2)\t237.0691137994074\n",
      "  (0, 3)\t160.45029639906863\n",
      "  (0, 4)\t17.840400545463883\n",
      "  (0, 5)\t-5.077579634271823\n",
      "  (0, 6)\t-126.15582569323873\n",
      "  (0, 7)\t106.14137675009519\n",
      "  (0, 8)\t206.58033298459728\n",
      "  (0, 9)\t102.0260596167729\n"
     ]
    }
   ],
   "source": [
    "print(model.sparse_coef_)"
   ]
  },
  {
   "cell_type": "markdown",
   "metadata": {
    "id": "0i_vRyyDGSpM"
   },
   "source": [
    "Количество итераций."
   ]
  },
  {
   "cell_type": "code",
   "execution_count": 28,
   "metadata": {
    "ExecuteTime": {
     "end_time": "2021-02-03T15:34:36.839220Z",
     "start_time": "2021-02-03T15:34:36.830718Z"
    },
    "colab": {
     "base_uri": "https://localhost:8080/"
    },
    "id": "gmIPcVPta0k6",
    "outputId": "b273ebdf-eff1-4cca-9f95-9986ac358bed"
   },
   "outputs": [
    {
     "data": {
      "text/plain": [
       "8"
      ]
     },
     "execution_count": 28,
     "metadata": {},
     "output_type": "execute_result"
    }
   ],
   "source": [
    "model.n_iter_ "
   ]
  },
  {
   "cell_type": "markdown",
   "metadata": {
    "id": "hL2quoZ-GSpM"
   },
   "source": [
    "Визуализация."
   ]
  },
  {
   "cell_type": "code",
   "execution_count": 29,
   "metadata": {
    "ExecuteTime": {
     "end_time": "2021-02-03T15:34:37.509241Z",
     "start_time": "2021-02-03T15:34:36.842800Z"
    },
    "colab": {
     "base_uri": "https://localhost:8080/",
     "height": 410,
     "referenced_widgets": [
      "525d077b973b4fe48071d163ea76ebae",
      "32b2972d86044ed5bd14c0f4c80f4a5b",
      "2bd5a220977a40a3b342cdb6940f88eb",
      "45f2e1d1b70e4ccbbcc6ef7e77ab6e5b",
      "1c38844d639f4f94a541ddc000023991",
      "f92f093efca14ed5902aee6a75deeb36",
      "0ffcd4e735f5496f9ea937601ee85853"
     ]
    },
    "id": "aIWAlzoya29u",
    "outputId": "4b1491c8-dae3-46ce-86e3-dab8dfdd7189"
   },
   "outputs": [
    {
     "data": {
      "application/vnd.jupyter.widget-view+json": {
       "model_id": "525d077b973b4fe48071d163ea76ebae",
       "version_major": 2,
       "version_minor": 0
      },
      "text/plain": [
       "HBox(children=(FloatSlider(value=0.01, description='alpha', max=0.1, min=0.0001, step=0.001),))"
      ]
     },
     "metadata": {},
     "output_type": "display_data"
    },
    {
     "data": {
      "application/vnd.jupyter.widget-view+json": {
       "model_id": "f92f093efca14ed5902aee6a75deeb36",
       "version_major": 2,
       "version_minor": 0
      },
      "text/plain": [
       "Output()"
      ]
     },
     "metadata": {},
     "output_type": "display_data"
    }
   ],
   "source": [
    "# создать виджет, но не отображать его\n",
    "ip = widgets.interactive(\n",
    "    linear_predictor, \n",
    "    alpha=widgets.FloatSlider(min=0.0001, max=0.1, step=0.001, value=0.01),\n",
    "    model=\"Elastic\"\n",
    ");\n",
    "\n",
    "# отображаем слайдер\n",
    "display(widgets.HBox(ip.children[:1]))\n",
    "\n",
    "# отображаем вывод функции\n",
    "display(ip.children[-1])\n",
    "ip.update() # чтобы функция запустилась до первого изменения слайдеров"
   ]
  },
  {
   "cell_type": "markdown",
   "metadata": {
    "id": "bmql4Zo0bYk8"
   },
   "source": [
    "## Сравнение моделей"
   ]
  },
  {
   "cell_type": "markdown",
   "metadata": {
    "id": "fqJqE8sLc5qF"
   },
   "source": [
    "Рассмотрим графики зависимости значений параметров моделей от параметра регуляризации."
   ]
  },
  {
   "cell_type": "code",
   "execution_count": 1,
   "metadata": {
    "ExecuteTime": {
     "end_time": "2021-02-03T15:34:37.530097Z",
     "start_time": "2021-02-03T15:34:37.516556Z"
    },
    "id": "9QzlSOCXbbf6"
   },
   "outputs": [],
   "source": [
    "def draw_track(model, X, y, log_min, log_max, num, title='', figsize=(12, 6)):\n",
    "    \"\"\"Данная функция строит график зависимости значений \n",
    "    коэффициентов модели от параметра регуляризации.\n",
    "    \n",
    "    :param model: модель\n",
    "    :param X: регрессоры\n",
    "    :param y: отклик\n",
    "    :param log_min: десятичный логарифм \n",
    "        минимального значения коэффициента регуляризации\n",
    "    :param log_max: десятичный логарифм \n",
    "        максимального значения коэффициента регуляризации\n",
    "    :param num: количество элементов в сетке для коэффициента регуляризации\n",
    "    :param title: заголовок графика\n",
    "    :param figsize: размер полотна\n",
    "    \"\"\"\n",
    "    \n",
    "    alphas = np.logspace(log_min, log_max, num)   \n",
    "    coefs = []\n",
    "    for a in alphas:\n",
    "        if 'l1_ratio' in model.get_params():\n",
    "            # равномерно распределим alpha по обоим коэффициентам\n",
    "            a *= 3/2\n",
    "            model.set_params(alpha=a)\n",
    "        else:\n",
    "            model.set_params(alpha=a)\n",
    "        model.fit(X, y)\n",
    "        coefs.append(model.coef_)\n",
    "\n",
    "    plt.figure(figsize=figsize)\n",
    "    ax = plt.gca()\n",
    "    ax.hlines(0, 10 ** log_min, 10 ** log_max, linewidth=15, alpha=0.15)\n",
    "    ind = 1\n",
    "    for coef in np.array(coefs).T:\n",
    "        label = r'$\\theta_{' + str(ind) + '}$'\n",
    "        ax.plot(alphas, coef, linewidth=2, label=label)\n",
    "        ind += 1\n",
    "        \n",
    "    ax.set_xscale('log')\n",
    "    ax.set_xlim(ax.get_xlim()[::-1])  # reverse axis\n",
    "    plt.xlabel('alpha', fontsize=19)\n",
    "    plt.ylabel('weights', fontsize=19)\n",
    "    plt.title(title, fontsize=22)\n",
    "    plt.legend(loc='upper left', fontsize=15)\n",
    "    plt.axis('tight')\n",
    "    plt.show()"
   ]
  },
  {
   "cell_type": "code",
   "execution_count": 2,
   "metadata": {
    "ExecuteTime": {
     "end_time": "2021-02-03T15:34:43.804207Z",
     "start_time": "2021-02-03T15:34:37.533910Z"
    },
    "colab": {
     "base_uri": "https://localhost:8080/",
     "height": 1000
    },
    "id": "XCXYozvhbf_Z",
    "outputId": "04d2907a-0f3b-49ab-b62a-b6c1f00acff4",
    "scrolled": false
   },
   "outputs": [
    {
     "ename": "NameError",
     "evalue": "name 'Ridge' is not defined",
     "output_type": "error",
     "traceback": [
      "\u001b[0;31m---------------------------------------------------------------------------\u001b[0m",
      "\u001b[0;31mNameError\u001b[0m                                 Traceback (most recent call last)",
      "\u001b[0;32m<ipython-input-2-1adfcce1858f>\u001b[0m in \u001b[0;36m<module>\u001b[0;34m\u001b[0m\n\u001b[0;32m----> 1\u001b[0;31m draw_track(Ridge(fit_intercept=False), X, y, -1.5, 5, 200, \n\u001b[0m\u001b[1;32m      2\u001b[0m            title='Ridge')\n\u001b[1;32m      3\u001b[0m draw_track(Lasso(fit_intercept=False), X, y, -2, 2.5, 200, \n\u001b[1;32m      4\u001b[0m            title='Lasso')\n\u001b[1;32m      5\u001b[0m draw_track(ElasticNet(fit_intercept=False, l1_ratio=1/3), X, y, -2, 2, 200, \n",
      "\u001b[0;31mNameError\u001b[0m: name 'Ridge' is not defined"
     ]
    }
   ],
   "source": [
    "draw_track(Ridge(fit_intercept=False), X, y, -1.5, 5, 200, \n",
    "           title='Ridge')\n",
    "draw_track(Lasso(fit_intercept=False), X, y, -2, 2.5, 200, \n",
    "           title='Lasso')\n",
    "draw_track(ElasticNet(fit_intercept=False, l1_ratio=1/3), X, y, -2, 2, 200, \n",
    "           title='ElasticNet')"
   ]
  },
  {
   "cell_type": "markdown",
   "metadata": {
    "id": "ZLjg--Fac3f-"
   },
   "source": [
    "Из графиков выше можно сделать вывод, что при высоких значениях коэффициента регуляризации модели не учатся и все коээфициенты зануляются.  Также важно заметить, что Lasso при высоких значениях коэффициента регуляризации склонна занулять параметры, но в отличие от других моделей она **отбирает** определенные признаки начиная с некоторого значения коэффициента регуляризации. Другими словами, с ослаблением регуляризации Lasso присваивает ненулевые значения лишь каким-то конкретным признакам, которые считает наиболее важными. "
   ]
  }
 ],
 "metadata": {
  "colab": {
   "collapsed_sections": [],
   "name": "reguljarizacija_small.ipynb",
   "provenance": []
  },
  "kernelspec": {
   "display_name": "Python 3",
   "language": "python",
   "name": "python3"
  },
  "language_info": {
   "codemirror_mode": {
    "name": "ipython",
    "version": 3
   },
   "file_extension": ".py",
   "mimetype": "text/x-python",
   "name": "python",
   "nbconvert_exporter": "python",
   "pygments_lexer": "ipython3",
   "version": "3.8.10"
  },
  "widgets": {
   "application/vnd.jupyter.widget-state+json": {
    "0f1a99ae79ba4984a8d580554738c484": {
     "model_module": "@jupyter-widgets/base",
     "model_module_version": "1.2.0",
     "model_name": "LayoutModel",
     "state": {
      "_model_module": "@jupyter-widgets/base",
      "_model_module_version": "1.2.0",
      "_model_name": "LayoutModel",
      "_view_count": null,
      "_view_module": "@jupyter-widgets/base",
      "_view_module_version": "1.2.0",
      "_view_name": "LayoutView",
      "align_content": null,
      "align_items": null,
      "align_self": null,
      "border": null,
      "bottom": null,
      "display": null,
      "flex": null,
      "flex_flow": null,
      "grid_area": null,
      "grid_auto_columns": null,
      "grid_auto_flow": null,
      "grid_auto_rows": null,
      "grid_column": null,
      "grid_gap": null,
      "grid_row": null,
      "grid_template_areas": null,
      "grid_template_columns": null,
      "grid_template_rows": null,
      "height": null,
      "justify_content": null,
      "justify_items": null,
      "left": null,
      "margin": null,
      "max_height": null,
      "max_width": null,
      "min_height": null,
      "min_width": null,
      "object_fit": null,
      "object_position": null,
      "order": null,
      "overflow": null,
      "overflow_x": null,
      "overflow_y": null,
      "padding": null,
      "right": null,
      "top": null,
      "visibility": null,
      "width": null
     }
    },
    "0ffcd4e735f5496f9ea937601ee85853": {
     "model_module": "@jupyter-widgets/base",
     "model_module_version": "1.2.0",
     "model_name": "LayoutModel",
     "state": {
      "_model_module": "@jupyter-widgets/base",
      "_model_module_version": "1.2.0",
      "_model_name": "LayoutModel",
      "_view_count": null,
      "_view_module": "@jupyter-widgets/base",
      "_view_module_version": "1.2.0",
      "_view_name": "LayoutView",
      "align_content": null,
      "align_items": null,
      "align_self": null,
      "border": null,
      "bottom": null,
      "display": null,
      "flex": null,
      "flex_flow": null,
      "grid_area": null,
      "grid_auto_columns": null,
      "grid_auto_flow": null,
      "grid_auto_rows": null,
      "grid_column": null,
      "grid_gap": null,
      "grid_row": null,
      "grid_template_areas": null,
      "grid_template_columns": null,
      "grid_template_rows": null,
      "height": null,
      "justify_content": null,
      "justify_items": null,
      "left": null,
      "margin": null,
      "max_height": null,
      "max_width": null,
      "min_height": null,
      "min_width": null,
      "object_fit": null,
      "object_position": null,
      "order": null,
      "overflow": null,
      "overflow_x": null,
      "overflow_y": null,
      "padding": null,
      "right": null,
      "top": null,
      "visibility": null,
      "width": null
     }
    },
    "1470170e3f5747608596d79c00f1c644": {
     "model_module": "@jupyter-widgets/base",
     "model_module_version": "1.2.0",
     "model_name": "LayoutModel",
     "state": {
      "_model_module": "@jupyter-widgets/base",
      "_model_module_version": "1.2.0",
      "_model_name": "LayoutModel",
      "_view_count": null,
      "_view_module": "@jupyter-widgets/base",
      "_view_module_version": "1.2.0",
      "_view_name": "LayoutView",
      "align_content": null,
      "align_items": null,
      "align_self": null,
      "border": null,
      "bottom": null,
      "display": null,
      "flex": null,
      "flex_flow": null,
      "grid_area": null,
      "grid_auto_columns": null,
      "grid_auto_flow": null,
      "grid_auto_rows": null,
      "grid_column": null,
      "grid_gap": null,
      "grid_row": null,
      "grid_template_areas": null,
      "grid_template_columns": null,
      "grid_template_rows": null,
      "height": null,
      "justify_content": null,
      "justify_items": null,
      "left": null,
      "margin": null,
      "max_height": null,
      "max_width": null,
      "min_height": null,
      "min_width": null,
      "object_fit": null,
      "object_position": null,
      "order": null,
      "overflow": null,
      "overflow_x": null,
      "overflow_y": null,
      "padding": null,
      "right": null,
      "top": null,
      "visibility": null,
      "width": null
     }
    },
    "1c38844d639f4f94a541ddc000023991": {
     "model_module": "@jupyter-widgets/base",
     "model_module_version": "1.2.0",
     "model_name": "LayoutModel",
     "state": {
      "_model_module": "@jupyter-widgets/base",
      "_model_module_version": "1.2.0",
      "_model_name": "LayoutModel",
      "_view_count": null,
      "_view_module": "@jupyter-widgets/base",
      "_view_module_version": "1.2.0",
      "_view_name": "LayoutView",
      "align_content": null,
      "align_items": null,
      "align_self": null,
      "border": null,
      "bottom": null,
      "display": null,
      "flex": null,
      "flex_flow": null,
      "grid_area": null,
      "grid_auto_columns": null,
      "grid_auto_flow": null,
      "grid_auto_rows": null,
      "grid_column": null,
      "grid_gap": null,
      "grid_row": null,
      "grid_template_areas": null,
      "grid_template_columns": null,
      "grid_template_rows": null,
      "height": null,
      "justify_content": null,
      "justify_items": null,
      "left": null,
      "margin": null,
      "max_height": null,
      "max_width": null,
      "min_height": null,
      "min_width": null,
      "object_fit": null,
      "object_position": null,
      "order": null,
      "overflow": null,
      "overflow_x": null,
      "overflow_y": null,
      "padding": null,
      "right": null,
      "top": null,
      "visibility": null,
      "width": null
     }
    },
    "2bd5a220977a40a3b342cdb6940f88eb": {
     "model_module": "@jupyter-widgets/controls",
     "model_module_version": "1.5.0",
     "model_name": "FloatSliderModel",
     "state": {
      "_dom_classes": [],
      "_model_module": "@jupyter-widgets/controls",
      "_model_module_version": "1.5.0",
      "_model_name": "FloatSliderModel",
      "_view_count": null,
      "_view_module": "@jupyter-widgets/controls",
      "_view_module_version": "1.5.0",
      "_view_name": "FloatSliderView",
      "continuous_update": true,
      "description": "alpha",
      "description_tooltip": null,
      "disabled": false,
      "layout": "IPY_MODEL_1c38844d639f4f94a541ddc000023991",
      "max": 0.1,
      "min": 0.0001,
      "orientation": "horizontal",
      "readout": true,
      "readout_format": ".2f",
      "step": 0.001,
      "style": "IPY_MODEL_45f2e1d1b70e4ccbbcc6ef7e77ab6e5b",
      "value": 0.0991
     }
    },
    "32b2972d86044ed5bd14c0f4c80f4a5b": {
     "model_module": "@jupyter-widgets/base",
     "model_module_version": "1.2.0",
     "model_name": "LayoutModel",
     "state": {
      "_model_module": "@jupyter-widgets/base",
      "_model_module_version": "1.2.0",
      "_model_name": "LayoutModel",
      "_view_count": null,
      "_view_module": "@jupyter-widgets/base",
      "_view_module_version": "1.2.0",
      "_view_name": "LayoutView",
      "align_content": null,
      "align_items": null,
      "align_self": null,
      "border": null,
      "bottom": null,
      "display": null,
      "flex": null,
      "flex_flow": null,
      "grid_area": null,
      "grid_auto_columns": null,
      "grid_auto_flow": null,
      "grid_auto_rows": null,
      "grid_column": null,
      "grid_gap": null,
      "grid_row": null,
      "grid_template_areas": null,
      "grid_template_columns": null,
      "grid_template_rows": null,
      "height": null,
      "justify_content": null,
      "justify_items": null,
      "left": null,
      "margin": null,
      "max_height": null,
      "max_width": null,
      "min_height": null,
      "min_width": null,
      "object_fit": null,
      "object_position": null,
      "order": null,
      "overflow": null,
      "overflow_x": null,
      "overflow_y": null,
      "padding": null,
      "right": null,
      "top": null,
      "visibility": null,
      "width": null
     }
    },
    "39a282ebc5cf4f22b02a293dca3b2dcc": {
     "model_module": "@jupyter-widgets/base",
     "model_module_version": "1.2.0",
     "model_name": "LayoutModel",
     "state": {
      "_model_module": "@jupyter-widgets/base",
      "_model_module_version": "1.2.0",
      "_model_name": "LayoutModel",
      "_view_count": null,
      "_view_module": "@jupyter-widgets/base",
      "_view_module_version": "1.2.0",
      "_view_name": "LayoutView",
      "align_content": null,
      "align_items": null,
      "align_self": null,
      "border": null,
      "bottom": null,
      "display": null,
      "flex": null,
      "flex_flow": null,
      "grid_area": null,
      "grid_auto_columns": null,
      "grid_auto_flow": null,
      "grid_auto_rows": null,
      "grid_column": null,
      "grid_gap": null,
      "grid_row": null,
      "grid_template_areas": null,
      "grid_template_columns": null,
      "grid_template_rows": null,
      "height": null,
      "justify_content": null,
      "justify_items": null,
      "left": null,
      "margin": null,
      "max_height": null,
      "max_width": null,
      "min_height": null,
      "min_width": null,
      "object_fit": null,
      "object_position": null,
      "order": null,
      "overflow": null,
      "overflow_x": null,
      "overflow_y": null,
      "padding": null,
      "right": null,
      "top": null,
      "visibility": null,
      "width": null
     }
    },
    "45f2e1d1b70e4ccbbcc6ef7e77ab6e5b": {
     "model_module": "@jupyter-widgets/controls",
     "model_module_version": "1.5.0",
     "model_name": "SliderStyleModel",
     "state": {
      "_model_module": "@jupyter-widgets/controls",
      "_model_module_version": "1.5.0",
      "_model_name": "SliderStyleModel",
      "_view_count": null,
      "_view_module": "@jupyter-widgets/base",
      "_view_module_version": "1.2.0",
      "_view_name": "StyleView",
      "description_width": "",
      "handle_color": null
     }
    },
    "4ae51fbd693f47daac2351e4c6ccfcaf": {
     "model_module": "@jupyter-widgets/controls",
     "model_module_version": "1.5.0",
     "model_name": "SliderStyleModel",
     "state": {
      "_model_module": "@jupyter-widgets/controls",
      "_model_module_version": "1.5.0",
      "_model_name": "SliderStyleModel",
      "_view_count": null,
      "_view_module": "@jupyter-widgets/base",
      "_view_module_version": "1.2.0",
      "_view_name": "StyleView",
      "description_width": "",
      "handle_color": null
     }
    },
    "4c20e81ef31a4f3d9595725dd2c5344c": {
     "model_module": "@jupyter-widgets/output",
     "model_module_version": "1.0.0",
     "model_name": "OutputModel",
     "state": {
      "_dom_classes": [],
      "_model_module": "@jupyter-widgets/output",
      "_model_module_version": "1.0.0",
      "_model_name": "OutputModel",
      "_view_count": null,
      "_view_module": "@jupyter-widgets/output",
      "_view_module_version": "1.0.0",
      "_view_name": "OutputView",
      "layout": "IPY_MODEL_b0515fd641704d02b12bfb69a9f2ab78",
      "msg_id": "",
      "outputs": [
       {
        "data": {
         "image/png": "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\n",
         "text/plain": "<Figure size 1008x360 with 1 Axes>"
        },
        "metadata": {
         "needs_background": "light"
        },
        "output_type": "display_data"
       }
      ]
     }
    },
    "525d077b973b4fe48071d163ea76ebae": {
     "model_module": "@jupyter-widgets/controls",
     "model_module_version": "1.5.0",
     "model_name": "HBoxModel",
     "state": {
      "_dom_classes": [],
      "_model_module": "@jupyter-widgets/controls",
      "_model_module_version": "1.5.0",
      "_model_name": "HBoxModel",
      "_view_count": null,
      "_view_module": "@jupyter-widgets/controls",
      "_view_module_version": "1.5.0",
      "_view_name": "HBoxView",
      "box_style": "",
      "children": [
       "IPY_MODEL_2bd5a220977a40a3b342cdb6940f88eb"
      ],
      "layout": "IPY_MODEL_32b2972d86044ed5bd14c0f4c80f4a5b"
     }
    },
    "553b320a10c24a1fb4b6c60c06d25199": {
     "model_module": "@jupyter-widgets/controls",
     "model_module_version": "1.5.0",
     "model_name": "HBoxModel",
     "state": {
      "_dom_classes": [],
      "_model_module": "@jupyter-widgets/controls",
      "_model_module_version": "1.5.0",
      "_model_name": "HBoxModel",
      "_view_count": null,
      "_view_module": "@jupyter-widgets/controls",
      "_view_module_version": "1.5.0",
      "_view_name": "HBoxView",
      "box_style": "",
      "children": [
       "IPY_MODEL_f06304dd225042848a7ce8093d60bb24"
      ],
      "layout": "IPY_MODEL_39a282ebc5cf4f22b02a293dca3b2dcc"
     }
    },
    "605527c07e0345369727d681ee04a9c5": {
     "model_module": "@jupyter-widgets/controls",
     "model_module_version": "1.5.0",
     "model_name": "FloatSliderModel",
     "state": {
      "_dom_classes": [],
      "_model_module": "@jupyter-widgets/controls",
      "_model_module_version": "1.5.0",
      "_model_name": "FloatSliderModel",
      "_view_count": null,
      "_view_module": "@jupyter-widgets/controls",
      "_view_module_version": "1.5.0",
      "_view_name": "FloatSliderView",
      "continuous_update": true,
      "description": "alpha",
      "description_tooltip": null,
      "disabled": false,
      "layout": "IPY_MODEL_1470170e3f5747608596d79c00f1c644",
      "max": 10,
      "min": 0.0001,
      "orientation": "horizontal",
      "readout": true,
      "readout_format": ".2f",
      "step": 0.01,
      "style": "IPY_MODEL_4ae51fbd693f47daac2351e4c6ccfcaf",
      "value": 6.2501
     }
    },
    "6c095cdfcbb6421a8bbc935d5d3338d0": {
     "model_module": "@jupyter-widgets/controls",
     "model_module_version": "1.5.0",
     "model_name": "HBoxModel",
     "state": {
      "_dom_classes": [],
      "_model_module": "@jupyter-widgets/controls",
      "_model_module_version": "1.5.0",
      "_model_name": "HBoxModel",
      "_view_count": null,
      "_view_module": "@jupyter-widgets/controls",
      "_view_module_version": "1.5.0",
      "_view_name": "HBoxView",
      "box_style": "",
      "children": [
       "IPY_MODEL_605527c07e0345369727d681ee04a9c5"
      ],
      "layout": "IPY_MODEL_0f1a99ae79ba4984a8d580554738c484"
     }
    },
    "a34284c0707f44809aac12a99182cc36": {
     "model_module": "@jupyter-widgets/controls",
     "model_module_version": "1.5.0",
     "model_name": "SliderStyleModel",
     "state": {
      "_model_module": "@jupyter-widgets/controls",
      "_model_module_version": "1.5.0",
      "_model_name": "SliderStyleModel",
      "_view_count": null,
      "_view_module": "@jupyter-widgets/base",
      "_view_module_version": "1.2.0",
      "_view_name": "StyleView",
      "description_width": "",
      "handle_color": null
     }
    },
    "aed78abd543a4fb6a6e16cffc7bc2335": {
     "model_module": "@jupyter-widgets/base",
     "model_module_version": "1.2.0",
     "model_name": "LayoutModel",
     "state": {
      "_model_module": "@jupyter-widgets/base",
      "_model_module_version": "1.2.0",
      "_model_name": "LayoutModel",
      "_view_count": null,
      "_view_module": "@jupyter-widgets/base",
      "_view_module_version": "1.2.0",
      "_view_name": "LayoutView",
      "align_content": null,
      "align_items": null,
      "align_self": null,
      "border": null,
      "bottom": null,
      "display": null,
      "flex": null,
      "flex_flow": null,
      "grid_area": null,
      "grid_auto_columns": null,
      "grid_auto_flow": null,
      "grid_auto_rows": null,
      "grid_column": null,
      "grid_gap": null,
      "grid_row": null,
      "grid_template_areas": null,
      "grid_template_columns": null,
      "grid_template_rows": null,
      "height": null,
      "justify_content": null,
      "justify_items": null,
      "left": null,
      "margin": null,
      "max_height": null,
      "max_width": null,
      "min_height": null,
      "min_width": null,
      "object_fit": null,
      "object_position": null,
      "order": null,
      "overflow": null,
      "overflow_x": null,
      "overflow_y": null,
      "padding": null,
      "right": null,
      "top": null,
      "visibility": null,
      "width": null
     }
    },
    "b0515fd641704d02b12bfb69a9f2ab78": {
     "model_module": "@jupyter-widgets/base",
     "model_module_version": "1.2.0",
     "model_name": "LayoutModel",
     "state": {
      "_model_module": "@jupyter-widgets/base",
      "_model_module_version": "1.2.0",
      "_model_name": "LayoutModel",
      "_view_count": null,
      "_view_module": "@jupyter-widgets/base",
      "_view_module_version": "1.2.0",
      "_view_name": "LayoutView",
      "align_content": null,
      "align_items": null,
      "align_self": null,
      "border": null,
      "bottom": null,
      "display": null,
      "flex": null,
      "flex_flow": null,
      "grid_area": null,
      "grid_auto_columns": null,
      "grid_auto_flow": null,
      "grid_auto_rows": null,
      "grid_column": null,
      "grid_gap": null,
      "grid_row": null,
      "grid_template_areas": null,
      "grid_template_columns": null,
      "grid_template_rows": null,
      "height": null,
      "justify_content": null,
      "justify_items": null,
      "left": null,
      "margin": null,
      "max_height": null,
      "max_width": null,
      "min_height": null,
      "min_width": null,
      "object_fit": null,
      "object_position": null,
      "order": null,
      "overflow": null,
      "overflow_x": null,
      "overflow_y": null,
      "padding": null,
      "right": null,
      "top": null,
      "visibility": null,
      "width": null
     }
    },
    "c0d44592016a4298ad9c6489fcbcec69": {
     "model_module": "@jupyter-widgets/output",
     "model_module_version": "1.0.0",
     "model_name": "OutputModel",
     "state": {
      "_dom_classes": [],
      "_model_module": "@jupyter-widgets/output",
      "_model_module_version": "1.0.0",
      "_model_name": "OutputModel",
      "_view_count": null,
      "_view_module": "@jupyter-widgets/output",
      "_view_module_version": "1.0.0",
      "_view_name": "OutputView",
      "layout": "IPY_MODEL_aed78abd543a4fb6a6e16cffc7bc2335",
      "msg_id": "",
      "outputs": [
       {
        "data": {
         "image/png": "iVBORw0KGgoAAAANSUhEUgAAA18AAAFpCAYAAABj+pLwAAAABHNCSVQICAgIfAhkiAAAAAlwSFlzAAALEgAACxIB0t1+/AAAADh0RVh0U29mdHdhcmUAbWF0cGxvdGxpYiB2ZXJzaW9uMy4yLjIsIGh0dHA6Ly9tYXRwbG90bGliLm9yZy+WH4yJAAAgAElEQVR4nOydZ5gUxdaA39lZ2ExGoldUsAyIYAIVA5gwRzCLiIgYMNyrn+GaL+o1K6KgIqiYEEURAcGMgkoyYwlKlCCZXZbN8/2omWXibu+yy5zlnvd5eAa6q6vf6p4Z+kxVnfIFAgEURVEURVEURVGU2iUl2QKKoiiKoiiKoij/C2jwpSiKoiiKoiiKsgPQ4EtRFEVRFEVRFGUHoMGXoiiKoiiKoijKDkCDL0VRFEVRFEVRlB2ABl+KoiiKoiiKoig7gNRkCyiKoiiKooQwxqQAhwFdgX8A2cE/edbaK5LppiiKsr34dJ0vRVGkYIxZDOxWhUP6WWtH14qMotQRgsFKN+BkoCewDy5YWQ/MAZ631r5XSR29gJuAg4F04E/gDeBRa21h7dnHeJwOPAW0i7N7PbC7tXbzjvJRFEWpabTnS1EUiXwErKpgfy+gxQ5yURTp7AF8Hfz7euA7YENw+0nAScaY0cDl1tqYX1yNMbcA/wVKgc+Dxx4N/Ac41RhzrLU2v5bbgDHmMuAloBh4EBgD/G6tLantcyuKouwoNPhSFEUiD1lrP0+00xjzORp8KUqIAPAp8AgwzVpbGtphjDka+BC4DPgSGBV+oDHmYOAhIB/oaa39Nrg9O3jcUcAQ4MbabIAxZnfgOWAjcIK1dnZtnk9RFCVZaMINRVEURanDWGv/sNYea62dEh54Bfd9gQuuAC6Oc/itgA/4byjwCh6XB/QDyoCrjTGNase+nOtxwx0HaeClKMrOjPZ8KYqy02CMuQe4G7gXeBm4HzgeaAj8gRvS9FSiYUzGmK64X/i7A7sAm4CZwMPW2q8qOO9ooG8Favdaa++Jc1w93APuBcABQBawGvgReMNa+1pY2c9xQ8F6hPcKGmP8uOFZ5wNTgTOstQVh9Z+Pmwt0INAa8AOLgQ9wD9zro5xSgeFAZ1yyg0bAOmAB7vq9Yq0tizrmHOAUXIKENriH6OW44aMPWWuXxWl73PaE7b8M10vzsrX2ssq2B/elAT8BHQCstb449Z4FDApej8bE/gjpeR7hdrShyvdlO5kXfG0b5VcfNywR4DWisNb+aYyZCRwRdH3d6wmNMVnADUAfoH1w8wJgLPBknGGMJ+N635YbY97GfQab4nrCZgJPRL3v2wGL4pz6C2vtMV49g3XtCvwLN5z5H7hhjz8BL+DuXSCq/OdU4bMYVt4L5f7GmObAhbh7ZIBWQCEwH3gVGB7Vy+kDJgXb8aK1dkCUdwowDTcvcJi19lqPToqi1CDa86Uoys7I7sBsoAduDstnuPkvjwJvBx9CIjDG/BP3kNcHN9/sfWAhLqj4whgzIPqYOHyNC/pCf35IVNAY0xj4AhiBy+w2D3gX90B5BG6oV4UE2/EK7mFvGmGBV5AWwf0n4gKoScFzNgduAWYZY5pFVZsKXIr7/2Em8DbwM3AoLpB4IY7KW7jrtgX4OOiSBlwNzDXG7FVZW2qImwkGXvEwxgzEXePjccHhWLbdqz92hGCQ6tyX7SF0TVZGbTdAJrDeWpuo/bOCr128nizoPhM3Z2xXXBD+ES6ZzhBghjGmSdRhbYF6uOtwLvAXMA73GTwd+MwY86+w8nlEftY+8uoX5doDF2gNxr3npwDfAp0IBs4e66noszglyjW8zujtU8L2nQg8CeyH+14YD8zF/TDyDPBOMOACIBgkXoK7dlcYYy6I0rwLF3jNA/7ppV2KotQ82vOlKMrOyKXAO8DFYb1AHXBB2JnAVcCzocLGmJNwgdkK4Ozw4VfGmCNwD8fDjDFfWGt/j3O+UDD3YnivSbAn7oAEjqNwQddM4Fxr7Yqw49JxgWNCgg97o3G/jH9CbOAFrufudGCKtbY47NgMYBiu1+1+XE8QAMFf6nOiM9wFewdmA5cZY26Myjh3ITAxvDcj2IN2N/BvXPa6k6hFgj0htwNLcb0X8bgl+Pp/1tqHo44fDexZW35RVPm+VBdjTCYusAD3mQhn9+Dr0gqqCO3bvYIy0TwL7A9MB0631m4MujQGJgKH49oZHhxkBF8DwEXW2vJeNmPMqbig+WFjzExr7dfW2rW4eWyhMsfgghXPGGNa4a5JdrCuV0K9XMH3+wTgEmPMpxX1hlb2WbTWPhTnmL7BfZdF7wtjDtAt/PsozHsScAbuR4+3ws61Nhh0fQaMMMbMttYuMMb0BO4EcoE+OzKDpaIokWjPl6IoOyP5wNVRD0ALcA8fEJs84J7g6xXRDzrW2q9xD8L1gIEJzpcefC1OsD8CY0xn3INTLu5BbUX4fmttgbV2cgXHp+CGAF6Ce8g6zVq7NbqctTbXWvtB+AN+cPtW4FqgBDgnznHxHszCh2pGDDu01o6NHkZmrS2x1t6JC2hPMMbkJGpPDfEU7gG+osQQbYKvb9eyS4VU975Uk2dxgdOvwPNR+7KDr1sqOD4v+Orp/hljdsP1XJUBA0KBF4C1dgMwILivTzDAieat8MAreNxEYCRublpN9tjcgBt6+pi1NmJ4YXCobKi3+7pEFXj9LFYHa+386O+j4PaVbPsh4dw4+6fjerlygLeMMf/ADStNwd2ThTXhpyhK9dCeL0VRdkamWWv/jrP9deBFoL0xpo219q/gEKlDgc24eRrx+CL4eliC/VnBV6/puHsFXydYa9d4PCaEDzf0ry9uqNyplT3sGWO6AMfi1k7KCtYBUAQ0N8Y0Dj4Yhx/TEBfQ+HDD5I7EDVF7JJiMIfocewXb1R73UB/6cS81+Pf2bJt7VKMYY07B9SR9ZK191xiTqOifuDWwzselMk8q1bkvVaz/Ttz7ZBM7rrfjSFw7ZlprbfROa+2vxphvcZ+lo4idazYq+pggI3E91hX2CFeRk4OviYLxObjgs7MxJj1Oz3KVP4tVJdiD3BN3vVrifujxsS0YTjSk90Hc9T0RN4e0ITDCWvtWgvKKouwgNPhSFGVnJN5EfKy1hcaYlbgekLa4uRGh4VQNgJIKHtzBzcmJR6hHZZ1Hv9BC0r95LB/OI8BBwb/vgRvC9XG8gsF04a/hApOKaIBb2ymcDCKTiOQD11trn446Ryqud+UKtgUPic4Rj88queYVEhyi+TQuEUHCHoog9+GuxwPBoVm/BI8Dl+ChulSpDdt5X7ye4yZce/OAk6y1v8QpFgqis+LsCxHqHcv1eOrQZyHuZzDIn7hgok2CffEIzUlrZIzJrGDdsaONMeEJMrbgEn2MBx6P+uFgj+DrLA/3rynu+yIcz5/F6hD8QeM93A8GiYj7ubLWBowxl+DuQ0Ncz+cNNeWmKEr10eBLUZT/dfzB1024B52KWBu9ITjsKBTAVfTAGU7MQrdV4CBcYo9HcA+Uo40xnRJkx3sQ94D/Ky6l+GxgbWi4mzFmBS6DWkzQZK1dBfiCwdWuwJXAU8aYva21V4cVvR43PGsFcBMwA/g71MtijJmBe9BOFJglWlC7PS7xSGXcinvw/U9waGlCrLVvGmMW4xJznI2bl1QTVLUN1b4vXjDGXAc8BmzF9cbMTFB0cfA10Rw5cPc+vKxXqvoe38q2eV/bw2q2Ja1IwfXaHoXLgHqaMebwsOGeoc/+W0B0r1Y08XoNq/JZrA7jcIHXBOBhXJbDTdba0mBgZqn4PXIm2wLrtrhgd0cmllEUJQ4afCmKsjPSLt7GYGrtVsF/hn7FDqVBL65k8nsi9sH9+rw6Xkr1BISSGFSny+cbXE9GrjHmCVzAMwLoHadsaNt51tqfw3cEU4G3rOxk1qXlXwTcFnzgG2SM+dBa+2HUOQYG5+ZE0z7OtnDiLqgdTNNeYfBljNkD+D9cYPBAJecBwFr7jTFmefCfT1trrw/WNZqKlwuoiKq2YbvvSyKMMdfgegILcMkuvqig+G+4oKeJMWbPBBkPDw2+eh0yGvpc7VFBmdC+8J6kv3DvlT1wGQ4THbOxgl4vgN+iP8fBuWWzgINxiV8mBHctC57z/gQ9g5VRlc9ilTDG7I37ceBvXBKg0qgiFX6ujDEdccOGi3DDKi/Czf863FpbtL1+iqJUH024oSjKzsgJCVJ1X4D73vvDWrscwFr7Fy7VdLNgxrSqEkqMUJVU16GyZ1Qjpfjt1trQELDbcfM5zg0+6EcTSucdLyi8kKr3rITm0XX0cg5jzPEkHqpZEzyNmwNzg9e5NsaYE3HDE3/BBW7JoKbvCwDGmKtwKcgLgTOttRUOgQs+hIcSu1wUp749cL2WRcCH0fsTMB3X69Ut3hIDxph9cOvBlQFfhu0K/f2yBPVeHnz9zKNHOcEfRWYE/7lb2K5Q26sbLFXls1hVQu+RFXECL4hzv0IEA/ixuJ7E/8Nlf/0M11P3SA24KYqyHWjwpSjKzkgmLjV8WmiDMWZPXNZCcL8IhxPKgjjGGHNCdGXGGL8xpqcxplvU9l3ZNs/oOa9y1tp5uMV0c4DxwdTR4fWmB9PfxyM8I1sh7iGsAHjaGBOdDjw0pyx8mCDGmINJkHDCOFrH2X4U2x74fo1zjkEmbP204PUenqANNcGxuDXYJllr3/dygHGL1o7GBRMXxkmgsKOo8n2pDOPWoXsWF3idZa31+mPAQ7j31P8ZY0K9XKF5aS/hnhOeDc9aWBHW2iW49O0puFTnDcPqbITrGUoBxkb1FA8DSoHzjDF9otp2Em5OYQA3nLJKBD+noR7IJWG7HsEl2rndGHNNcIht9LH7GWPOTlB1VT6LVWUBLkDtGPzshTuFFmZPxDCCwxWttU9atyj6RbgfTwYbY87YTjdFUbYDHXaoKMrOyKu4B/M/jDFf44KcHrhekg9wDyflWGvfN26R5YeBj4wxv+PmU+ThhoB1ARrh1l36BsAY8yhuPaYmuEn9VwV7HsLpHHw90xjTLmo41GW4uSndgT+NMV8Ba4DWuLXBNpFg+GSU+8/GmFtxi7GOMcYcFfZL+X24IUcPGGPOw80ZaR0855u4B9Ldoqo8CXjMGPM9rmemCLdIb6gtk4jsBXkQl+VwINDDGDMveE2Oxq1htgqXiKCmaYt70B1cWcEwRuLu5z+ttT/WgpNXqnNfEmLc0gUjcD1mi3ABzHlxiq611oYvVIy1dlbw/fNf3OLHnwIbcfdvF9yCw3dUrXkMAvYGjsG9tz8Pbu+BS+3+A3BNlMdc4xZRfhw3PO5m4HfcZ+BwXKBzS3Dph4rYOziEFCLnfKXj5taVL+FgrV1mjDkTN7fqGeAOY8wvuCClEW7Y3664OWHvVtboSj6LVcJau8YY8yxu6YHPjDFf4D5L++N6nh8Ebos+zrj1w/rihjb3C6tvZTABxxRglDGmSzBQVhRlB6M9X4qi7Iz8CRwCfIV74DsWNy/oFuCc4C/BEVhrH8cNyxmJm4h/PHAa7iH/S1xSibFhh5zLtqFBWbgHnug/oQWWDyBqPlFwUv6RuJ6zubi5NWfjkndMxyVi8MrTuDT5h+OGP4XOMS7Y/s9wD5Gn4ean3YBblyge03Ep+bNxKa7Pxk3U/wR3DU4Pv37BZA6H4AKyhrj1y9oCQ3Bprj2tfVZNHk4wTykGY8wgXPs/AZ6oRadKqeZ9qYhGbBuquDfx34t9ibMmVNDnYVzQ/RnuXp6GSy7zb+DoSuZYxatvLW644p24uVwnBf8swwVyR8RLSmGtfRJ3Xd7HBZ99cIH/+0APa+2jHk7fgm3tvQQX0Fpcwo2ecdZW+wzYDzdn8G+gG24o8X6475HbqFrwGfezWE2uxyW6+QH3/XASLqHIScSu2RaaJzYMt07cBdHX2Fo7FRdkNwbejNfTpyhK7eMLBLYn6ZaiKIocjDH3AHcD91pr76nlcy0GFltrj/HqZa2t1lweRVEURVF2DrTnS1EURVEURVEUZQegXc6KoijV419sW6S2Mt6j6uskKYqiKIqyk6HBl6IoSjUIztvxWvZ74Pta1FEURVEUpQ6gc74URVEURVEURVF2ANrz5Z00XBaolbi1SBRFURRFURRFUaLxA62AWbj1F8vR4Ms7h+BSMCuKoiiKoiiKolTGkbhlb8rR4Ms7KwE2bNhCWZmMoZoNGmSwefPWZGtEINEJZHqpk3ckeqmTdyR6SXQCmV7q5B2JXhKdQKaXOnlHopckp5QUH40bZ0EwfghH53x5px2waN26PDHBV2pqCiUlMWvFJhWJTiDTS528I9FLnbwj0UuiE8j0UifvSPSS6AQyvdTJOxK9JDmlpPho2jQbYHeish3rOl91GImBs0QnkOmlTt6R6KVO3pHoJdEJZHqpk3ckekl0Aple6uQdiV4SneKhwVcdpkGDzGQrxCDRCWR6qZN3JHqpk3ckekl0Aple6uQdiV4SnUCmlzp5R6KXRKd46LBD77RD2LBDRVEURVEURVFkocMOd1IyM+snWyEGiU4g00udvCPRS528I9FLohPI9FIn70j0kugEMr3UyTsSvSQ6xUODL0VRFEVRFEVRlB2ADjv0Tjt02KGiKIqiKIqiKBVQ0bBDXeerDtO4cRYbNmxJtkYEEp1Appc6eUeilzp5R5JX2qdjyXr5XlLWLKeseVu29L2bwp59kq1VjqRrFUKKU0lJMVu2bKawcCtQJvKH0JQUnzgviU4g00udvCPRqzadUlL8pKVlkJXVgNTUettVl/Z8eacdwnq+/H4fpaUyXEJIdAKZXurkHYle6uQdKV5pn44l5+nr8BVuW4QzkJZB7uChYgIwKdcqHAlOJSXFrF+/mszMHNLTs/D7/fh8vqQ6KYryv0EgEKC0tJSCgi3k5+fSpEmLSgMwTbixkyLxPx6JTiDTS528I9FLnbwjxSvr5XsjAi8AX+FWsl6+N0lGsUi5VuFIcNqyZTOZmTlkZzckNTVVhJOiKP8b+Hw+UlNTyc5uSGZmDlu2bN6u+jT4qsNkZ6cnWyEGiU4g00udvCPRS528I8UrZc3yKm1PBlKuVTgSnAoLt5KenlX+b79f5uOLRC+JTiDTS528I9FrRzilp2cFhz5XH3lXTvHMxo35yVaIQaITyPRSJ+9I9FIn70jxKmvetkrbk4GUaxWOBKeyslL8fn/5v0tLy5JokxiJXhKdQKaXOnlHoteOcPL7/ZSVlW5XHRp81WGystKSrRCDRCeQ6aVO3pHopU7ekeK1pe/dBNIyIrYF0jLY0vfuJBnFIuVahSPFKXyoYUqKzGGHEr0kOoFML3XyjkSvHeFUE0OeNdthHaasTN6vDhKdQKaXOnlHopc6eUeKVyiphuRsh1KuVTgSnaTmCpPoJdEJZHqpk3ckekl0ikfSsx0aY5oA9wJdcRkFGwIrgDnAg9baOXGOOQe4Bdgf2Ap8Atxqrf0zwTkGAtcAHYBNwETgdmvt31VQbYewbIeKoiiK8r/AqlVLaNlyt2RrKIqiePo+kp7tcBfgMmADMA54HJgJnAR8Z4zpHV7YGHNVsFwbYDjwHnAq8K0xZvfoyo0xDwXLpQFDgU+D5/vaGNO4Vlq0g2jSJKvyQjsYiU4g00udvCPRS528I9FLohPI9JLoJHGyP8j0kugEMr3UyTsSvSQ6xUPCsMOFQGNrbUn4RmPM3sA84CHg7eC25sCjwCrgwFDPlTHmVVxQ9RhwdlgdHYGbgZ+Abtba/OD2KcDLwJ3ATbXZuNpEwiToaCQ6gUwvdfKORC918o5EL4lOINNLopPEyf5Q814rV66gd+/TPZW9/fa7Ofnk02rdqaaQ6KVO3pHoJdEpHkkPvqKDrrDtvxlj5gMHGGN81toA0AfIAv4TPmTQWvu5MeZj4HRjTDNr7drgrr643r0HQoFXsPwrxpg7gEuNMbckcpCO35+y3RlXahqJTiDTS528I9FLnbwj0UuiE8j0kujk88mc31FbXu3a7U6PHsfF3Td//i98882MHe60vUj0UifvSPSS6BSPpAdfiTDGtAP2AuYHAy+AI4Ovn8Q55GPgeOBwYIKH8p8Ag4B9gR9rQHmHk5lZn02btm+tgZpGohPI9FIn70j0UifvSPSS6AQyvSQ6paT4KC2V95RVW17t2u1O//4D4+575523Kgy+/teu1fagTt6R6CXRKR5igi9jTGvgSsAP7AqcCQSA68KKtQ++/hGnij+iyoT+nmutXVNJ+ToZfEn7zxBkOoFML3XyjkQvdfKORC+JTiDTS6KT1AcsSV7dux9M584HcvvtdzN06BPMmzeb0tIyunQ5kKuvvp527WKmybN06WJGjx7JnDmz2Lx5E02bNqNHj+Po1+8KMjNj5/7NnTubwYOvinv+zp0P5Jlnno/ZPmvWN7z11uvMn/8LW7dupWnTZnTpchCXXNKPXXf9BwDXXnsl338/l6++ml1+XCAQ4L777mTatCkMHnwTffpcCEBxcTHvvfcOX331JUuWLGLjxg00btyEQw/txhVXXEXz5rtEnP/555/lm29msGrVSgoKttKsWXMOO+wILrmkH82aNQ+7FkuYMGE8s2Z9y+rVKykuLqZt239wyimn07v3+TEpx0PXO16b47Vn5MgRjBr1Ak8/PZwDDzw44h5ccsl5lJaWxgwlLSgo4M03x/Dxx1NZvXoVW7dGDgkOrz8RQ4bcw+TJE/H7/bzzzsSINgO88cYYhg17EiDGrbi4mDffHMNHH01mxYrlpKWls//+nbjssivYd9+OFZ4vHvGGyhYWFvLWW68xbdoU/vrrL+rXr0+nTgfQv/9VuBlJkVQ0NLdly1aMG/dB+b/j3QeAiRPf46GH/gPA229PoFWr1nHrqykkzUxrDdwN/Bs3XLAIONta+1lYmQbB181xjg9taxhVPl7ZROUrJSOjHgCNG2fh9/tITU2hUaNMwK2FEtrfpEkWKSk+6tXz07ChW1cmOzuN9HS3v2nTbHw+qF/fT4MGbn9OTjppaS4ebt48B4C0tFRyctJdYxpkUL++H5/PHR+qLzvbrcHSsGEG9er5SUnxlU+QzsioV75GS6NGmaSmpuD3+2jc2O3PzKxPZmb9GmtTdnbadrUJqJU25eSkJ+0+JWpTdnZa0u5TojZlZ6cl9T4lalOzZtlJu0+J2tS0aVbS7lOiNjVpkpXU+5SoTaG/J+M+JWpTyF/Cd3l4m0LXK9nf5eFtys5OS/p3efj6PX5/CikpPlJSfOUPwKGJ9j4f+P2+8mPi7Q/V5fa7OlNTK96/7Xhf+X6/P3a/3x++f9sjVujvIe+K9kc7h85b0f4Q4c4AubmbueaaAWzatIEzzzyXww47nG++mcHVV1/BihXLI9r0ww/fc8UVl/L555/SuXMXevc+n113/QdvvPEqgwcPoqioKK4zQJcuB9Gv3wD697+Sfv0GJHR+441XuPHGa/nll5/o3v0o+vS5kP3378SMGV/x008/RNyn6DY9/vjDTJs2hX79BnDeeReWX8e8vM0888wTABx11DH06XMBe+yxJ5MmfcBVV11OXt7miPu0YIGldes2nHTSKfTpcyF77LEn48eP49prryQQKC0/55dffsaUKRNp164dp512FieffDqFhQU8/fRjPPnkI9W6TxW/t9z2YcOeorR02zDfbe9NH4899iAvvjgcCHDGGWeVX/OWLVtF1F/Zey/Ehx9OiHnvffDB+PIFzcM/TxDgttv+yYgRw/D7U+jd+wKOPvoY5s6dzTXXDOC772bG/TyFtvXpcwGXXz6Afv0GcNRRx8RcE7/fR1FRAddfP4jnn3+W7OxszjrrXI4+ugc//DCPQYP688MP3ydsU4cOe3H55VeWX5Ps7OyIexJ5Tbbdh4KCAl54YXjYPaz8OyJUZ2Xfe4kQ0/NlrZ0N+Iwx9YE9gX8Ck40x11prh1d89I5j69ZiADZs2BLcEiifjLxlS2F5ufXr3f6ystLyXw3z8rbtX7cuD4CiolKKitz+3NyC8v1r1uQCUFhYQmGhm5K2efPWiOPT0+tRUFBcvi3818nQ+UO+EDlpOuSfn18Us2172pSeXm+72gTUSpuKi0vLXXb0fUrUJr8/hby85NynRG3y+XxJvU+J2pSXV0hZWSAp9ylRm7ZsKaKkpKzabaqN915+fhFFRaXVblNtvfdCD/XJuE+J2hRaMkTCd3l4m9LT60XUn6zv8vA2Rf9fk4zviPAlXkpLy/D5fIQvlROaaB8IbOt9ij4mtD90XPj+0Gc50f5txwfK55SE93KF9peVbTs+fPL/tv2xx3jZX5FTONFL4fzxx0JOPfUMbr31zvJtkydPZMiQexg69EkefPBRAoEARUXF3HvvHdSrV4+RI8eU90ABvPXWawwd+gRvv/0GF13UN+L8oTXgunQ5iMsvv7J836hRL8Q4W/sbzz33DG3atOXZZ1+kWbPm5WWKi4vJy8uLuE/hbXr++WcZP/5tzj33fPr3Hxhxn7KycnjnnQ9p1qxZRNunTZvCvff+m3HjxnLZZVeUOz/yyFMx1+3FF4czevSLWGvZe+99KSsL0KvXKZx33kXUq1cvrM2l/N//3cj48eM4//yLadWqdZXuU2h7WVn4+2hbm+fMmcXXX0+nQ4e9WLDg9+D+bddo2rSPaN26DSNHjiEtbdsD/pw5s1m1amV5/ZW9twC6dTuciRPf59JLL8fn81FWFmDevDksXbqE7t2P4quvvoz4PE2cOIFvvpnBEUccyQMPPEpqaiqBQIBzzjmPK6+8jAceuI9x4z4gNTU14vMUCiT79LmwPEicNOkDvvzy8wiv0tIAI0e+wM8//8h1193IeeddVO7at29/Lr/8Ih555AHGjBkb0aaSEld/hw4m+N5w9X344QcR9yTymmy7D6+99jLr16+jffu9WLjwdwKByPsUIt53REXfexUt+Cyp5wsAa22RtXa+tfYK3DyuJ40xbYK7Q71VDeIcGtq2KWzb5gRlE5WvU4T/xyYFiU4g00udvCPRS528I9FLohPI9JLoVNNrlL7zfSoHPpJFi39nc+AjWbzzffV+m0722qnR+P3+iKAIoFevU9htt3bMmDGdLVvcA+PXX3/J33+vpm/f/hGBF0Dv3hfQuHETPvlkWkz9RUUuQA4PUDI4HiwAACAASURBVBIxYcK7lJWVcdVV19K0abOIa1WvXj0aN46/+s9bb73GK6+8RK9ep3D99f+M2V+/fv2YwAvguONOJDs7m9mzv0voVFJSwoIFv/PttzPx+/0RQ/CaNWse0y6/389pp51FWVkZ8+bFLEO7XQQCAYYNe4o2bdpy5pnnRmwHyMvLo6SkhNat20QEXtXltNPOYuXKFcya9W35tgkTxmPMPnToYGLKf/TRJAAGDRqM3+8v9+rQwXD88b1Yu3YNs2Z9E3NcYaF7j6SmVvweKS0t5f3336VDh70iAi+A1q3bcNppZ7F48Z/88cfCiH0lJSXB+lOr/Plbu3Ytb745hhNO6EWHDntV6djtQUzPVwI+BU4EDgXG49LSH4TrGVsfVXbP4Gv4XVkIdDXGNI8z7yte+TpF06bZ5ZG2FCQ6gUwvdfKORC918o5EL4lOINNLopPfn1JjaaXf+T6Vm95PZ2ux+6V6+SYfN72fDhRwTueqJUOuSa+aoGXLVrRq1SrCyefz0bFjJ5YsWcyiRX/SsWMnfv31FwAWLlzAyJEjYurx+/0sW7YkZntenusFTUtLr9Tlt9/mA3Dood2CdVZ+rT78cALPPPMkPp+PSy7pFzPPKsQvv/zM66+/zM8//8TGjRsihu2tW7c2pvySJYu56KJtAU6DBg25+ebbadGiRblTKBiYMuVDFi9exNat+REP9/HqXbVqZdzrt2rVygrbCTB16mSsnc999z1EQcG2HpXQdWrUqBEtWrRk3rw5TJ48kaOP7hF3Hp5X9tyzPfvttz8TJrzLoYd2Y/PmTXzxxadcf/2/WLs2NlXCwoULaNSocflcwfD716XLQUya9AELFy7gsMO6RxwXeo+kp1f8Hlm2bCl5ebn4fK3jXsPFi/8E3Jy4Pffclt4hP9/1lNevn1blz9+LLz5HaWkZV155TXA4545BevDVKvga+vabDpwHHAvMiip7HFAKhKf8mQ50DZZ/M6r8scA64Nca9N2hrF8v6z9DkOkEMr3UyTsSvdTJOxK9JDqBTC+JTjUZ4AyZllYeeIXYWuxjyLS0KgdfkgIvgEaNGsd1aty4CQBbtrgH19xcN7Bo0qQPYspWxJo1btWf6KQN8diyJY+MjAyystzcGC/X6uGHh7D33vuwcOECHnnkAYYOHRETgM2bN4cbb7wGv99P166H06ZN2/IH/bfffoPi4tie24YNG9Gv3wAKCwuxdj55eXk0bdoswunRRx/igw/G06pVa3r0OJYmTZqSmprKqlUrmTx5YnmvXzirVq1k1KgXKm1XNIWFhTz//LN07NiJnj2Pi7gP4U533nkfd911G0OG3MOQIfdU+TzRnH76WTzyyANs2LCeqVMn4/encvzxvXjjjVdjyubnb2G33drF9Yp+P4Wzdu0aMjIyyudgJWLzZjcQ7fffLb//bhOWKygoiPj3pk3uuEaNGlXp8/fnnwuZPHkiF1xwCS1atPR8XE2Q9ODLGLMfsMBaWxS1vRNwOZAPfBXcPBb4LzDYGPNS2CLLR+OCr/fC1vgCt5DyTcDtxpgJYYssX4pLY/9EXV3jC6BePX/5/A4pSHQCmV7q5B2JXurkHYleEp1AppdEp5pcz+evTfF7UxJtrwhp6wxt3LghrtOGDW7wUFZWKLmJe43OblcZf/7pBg9FD1WMR3Z2DsuXL2PLljyysrI9Xas99+zAk08+yzvvjOX5559l3Li36N37/Igyr732MiUlJTzzzAt07Lh/+fZAIBA3iAD3oB6euv+VV17i1ltv4qWXxrDnnh1Yt24tEye+R4cOezF8+KiIYX6ffDI1Yfa+yrIdJmLs2DdYvXoV99wzJGZf+HXq3PlA3n77ffr3v4QVK/7iggsuISUlhcmTJ3rqXYvm2GNP4OmnH2PSpA+YPHkixx13ApmZmXHLZmZmsX79tkFn4V7R76cQhYWFLFu2lD322JPKCAXlJ510KnfccY/nNqxcuQKAFi1aVunz98wzT5GTk8Mll1zm+Vw1hYQ5XwOAFcaY94wxTxpjHjPGTATmAtnAtdbaDQDBoYM343rE5hpjHjfGvAhMxvViRQwGttb+DDwK7A/MM8Y8bIx5DXgJN9zw/h3TxNohPb1+shVikOgEMr3UyTsSvdTJOxK9JDqBTC+JTomGn1WHNg3jP60l2l4RNelVE6xatbK8dypEIBDg559/xO/3s/vuewCw7777AfDrrz97rjsQCDBv3lyys3MihoElYu+99wXgu+/cvCAv1+qxx4aSlZXNhRdeijH7MGLEM/z11/KIMitW/EXDhg0jAi+AhQt/j+klScRhh3WntLS0fM7SypUrCQQCHHTQoTHzq37++SdPdXpl06aNjBkzimOO6cn++x8Qsz/6On300WQWL17EFVcMYsCAQfTvP7A8kUVVSU9P5/jjT+KVV15i8eJFnH76WQnLtm/fgY0bN7BkyeIYrx9+mBcsEzlv6scfv6e0tJQDDjiwUpfddmtHZmYW8+f/Wp7IxQvz57shs8bs7fnzN2vWN3z33Uz69RtQHvTtSCQEX+OAD3GLHfcHrsUFS2OBw6y1o8ILW2ufA3oDK4CrgLODx3ez1i6KU/+twXJFwGBcD9nLwBGhoK6uEp5lRQoSnUCmlzp5R6KXOnlHopdEJ5DpJdEpOnPb9nDH8YVk1IusL6NegDuOL0xwRGJq0qsmKC0tjUijDTBlyocsWbKYww/vXv7g2b370eyySwtefXUUv//+W0w9eXl5MdunT/+Cv/9ezXHHnUhKSuWPk2eccRYpKSkMH/4M69evi8okV8LGjRtjjgkl4UhNTeWOO+6mtLSUBx+8L2Lu1S67tGDz5s0sXbq4fFt+fj5PPfVYTH0FBQVxA7Jp0yYDkJ3tcrG1aNECgF9++SniXPPn/8L7779baVurwujRIyksLOSqq66Luz/8Oq1Y8RdDhz5Bp06dOf/8i+KWrypnnHE2mZlZHHTQIeyzz34Jy5144skADB8+lLKysnKvhQsX8NFHk2jWrDmHHNI14ph33x0LwAkn9KrUIzU1lTPOOJvFi/9k1KgXYgKwQCAQ03u4bNlSPv/8U9q23ZU99mjv+fP3zDNPseuu/+CMM87xVL6mSfqwQ2vtV2wbVuj1mHG4oM1L2QAwIvhnpyInJz0ipbEEJDqBTC918o5EL3XyjkQviU4g00uiU0qKr8YCHTevq4Ah09L4a5OPNg1d4FXV+V417VUT7Llne7777hsGDepP584Hsnz5Mr744lNychpwzTU3lJdLS0vjvvse5F//GswVV1xK166Hsdtuu1NYWMjKlX8xb94cevU6hZtvvh2AYcOe4r333GNYUVFhwiQTI0eOoE+fC8nJyaFDB8OgQYMZNuxJLrzwXI45pieNGzfh779XM2vWt1x11bUxC+6Gs8ce7enbtz8vvjicd98dyznnnAfAmWeew+zZ3zFoUH969jyBQCDAt9/OpFGjRjFz0ZYtW8J11w3kkEO60bJlK0pKSvjxx++xdj6tWrXh2GOPA6B58104/PAjmTFjOldeeRlduhzI6tWrmD79C7p1O4Ivv/wsxq+6/PHHAnr3voC2bXeNuz/0niorKyuf53XHHfd4Cni90KHDXowfP6nScieffBqfffYJ06d/Qf/+F9O162Fs3LiRTz6ZCsCtt95JaqoLKxYssLz00gtMn/4F2dk5zJz5NTNnfl1e18KFLo3+9Omfl9cNcMUVVzF//i+MGvUCn3/+CfvvfwDZ2dmsXr2KX375mfXr1/Hppy61w2OP/ZcpUz6kuLiIG264GfD++fvjjwXl6fKTQdKDL6X6FBXJm64m0QlkeqmTdyR6qZN3JHpJdAKZXhKdajql+zmdS6oVbEUjLdV8Tk4DHnzwUYYOfZLx49+mtLSUrl0P45prboh52O/YsROjRr3OmDGj+e67b5g9+zsyMzNp0aIl55xzXkRgFD6XKlGSjlDyiZNPPo2cHLcw9wUXXMwee+zJm2+O4fPPP6GoqJimTZvRrdvhdOrUudL2XHzxZXz55ecMH/4Mhx3Wndat23DMMcdy55338frrr/DhhxNo0KABRx11DAMHXkPfvhdEHN+sWXOOOOIofvrpB77+ejr16qWyyy4tuPTSy+nd+wIyM7PK5wzdddf9DB/+DDNmTGfcuLH84x+7BTMitqzR4Cs7O4d+/a5IuD/0nnrzzdf44Yd5/Otft9GmTdsaO79XUlJSeOihx3jjjVf56KNJvPXW66SlpdO584H06zeAffftWF52wYLfywOrvLzchElIpk//gtzc3PL3VlpaGk8++Szjx49j6tRJTJs2hUAgQNOmzdhvv4707Hl8+bGzZn3LoYd25aKL+paf2+vn74ADukQs9Lyj8Un7ohBMO2DRunV5on7VUhRFUZSdnVWrltCy5W7J1qhTdO9+cMIEEDVR9+23311hT9XcubMZPPgq3n57Aq1ata5xB0UukyZ9wAMP3MtXX82usNyQIfewcuWKWnmP1iZevo9SUnw0bZoNsDuwOGJfrZkptU7z5jnJVohBohPI9FIn70j0UifvSPSS6AQyvSQ6pabKfHyR6CXRCWR6qZN3JHpJdIqHDjusw6xZk5tshRgkOoFML3XyjkQvdfKORC+JTiDTS6JTSYms9bRCSPSqDad+/QbQocNeFZZp1ao1/foNIDs7fvD+v3KttheJTlCxV4cOe9Gv34BK6zjyyGPKF2GubSdJaPBVh0lLS6WwUNZYfIlOINNLnbwj0UudvCPRS6ITyPSS6CRtPa0QEr1qwyl8jaxEtGrVusJy/yvXanuR6AQVe3XoYOjQwVRaR03Pu5J6raLR4KsOU7++vP8QJTqBTC918o5EL3XyjkQviU4g00uik8/nE5fcAmR5hebbSHIKR6KXOnlHopdEp3jUjcGRSlykpf4FmU4g00udvCPRS528I9FLohPI9JLoJDXxlUQviU4g00udvCPRS6JTPDT4qsM0aJCRbIUYJDqBTC918o5EL3XyjkQviU4g00uiU0qKL9kKcZHoJdEJZHqpk3ckekl0iocGX3WYgoKiZCvEINEJZHqpk3ckeqmTdyR6SXQCmV4SnaQOLZLoJdEJZHqpk3ckekl0iocGX3WY4uLSZCvEINEJZHqpk3ckeqmTdyR6SXQCmV4SnaQ+Y0n0kugEMr3UyTsSvSQ6xUODrzpMkybZyVaIQaITyPRSJ+9I9FIn70j0kugEMr0kOvn9Mh9fJHpJdAKZXurkHYleEp3i4asrXXQCaAcsWrcur85M6FMURVGUnYFVq5bQsuVuydZQFEXx9H2UkuKjadNsgN2BxRH7as1MqXXS0+slWyEGiU4g00udvCPRS528I9FLohPI9JLo5PPJnFgv0UuiE8j0UifvSPSS6BQPDb7qMKmp8m6fRCeQ6aVO3pHopU7ekegl0Qlkekl0kvqMJdFLohPI9FIn70j0kugUD3nfqIpn8vIKk60Qg0QnkOmlTt6R6KVO3pHoJdEJZHpJdJI6/F+il0QnkOmlTt6R6CXRKR4afNVhGjaUt/aKRCeQ6aVO3pHopU7ekegl0Qlkekl08vtl/sQt0UuiE8j0UifvSPSS6BQPDb7qMPn58tZekegEMr3UyTsSvdTJOxK9JDqBTC+JTlJ/4a5pr5UrV9C9+8H8+9+3xN3/3nvj6N79YLp3P5hJkz7YIU41hUQvdfKORC+JTvHQ4KsOU1palmyFGCQ6gUwvdfKORC918o5EL4lOINNLopPURM070quwsIDRo0dWWk6vlXfUyTsSvSQ6xUODrzpMo0aZyVaIQaITyPRSJ+9I9FIn70j0kugEMr0kOkldz2dHeo0b9xZr166hTZu2FZbTa+UddfKORC+JTvGoG5ZKXNav35JshRgkOoFML3XyjkQvdfKORC+JTiDTS6KTxN442HFeeXl5vPbaKzRr1pwzzjg7Ybn583/htttu5vTTT6RHj8M4++xTuPPOW/ntt18BOPfc08qHLVb0Z+XKFQAMGXJPxL9DzJ79XXnZuXNnl2+fO3c23bsfzMiRI2LcSkvL6N79YK699sqI7ddeeyXdux8ctz0jR46o0jnCmTTpg4TDM7/77htuvPEajj/+aHr2PJy+fc/nnXfG4nUt3LfffpOBA/tx6qnH06PHYZxzzqn85z93s3Tpkkr9K2vHp59+zJ133krv3mfQs+fhnHRST26++Xp++eXnmDoSXTsvbe/Vq0eFbY92D3+vJ3KPd38B7r//Trp3P5hzzz0tZt/PP//ILbfcwJlnnsRRRx0a8T6s7B5L/V6IJjXZAkr1yciox9atxcnWiECiE8j0UifvSPRSJ+9I9JLoBDK9JDr5fD7PD8Y7kh3l9frrr7B58yb+9a/bKC0tiVtm6tQpDBlyN35/KkcddQwtW7Zi7do1fP/9XL7+ejp7770vffpcQG5ubvkxkydPJC8vl969L4ioKzs7J6FLWVkZw4Y9WeU2SFmTaezY13n66cdp2rQZxxzTk8zMTObMmcUTTzzM0qWLufHG+PPtwvnjjwU0atSIffbZj4yMDJYvX8Ynn0xl5syveO21d2jUqFG1/Z5//lnS0tLo0uVAGjduwt9/r+bLLz9j9uzvePrp4ey//wHVrnt72l7d9/pvv81n6tQpcfctWvQn118/iLKyMo46qgdt2+5KSkoKq1atZPLkiZXWLfV7IRoNvuowKSnyOi4lOoFML3XyjkQvdfKORC+JTiDTS6KTz1ez8zvSPh1L1sv3krJmOWXN27Kl790U9uyTdK94rF+/jrfffoO2bXfl1FPP4P3334kps3btWv773/vJyspmxIiX2HXX3cr3lZWVsX79egD69Lkw4rh58+awahX07z/Qs8+UKR+yYMHvdOiwFwsW/O75OAmx159/LmTYsKfo1Kkzjz76FNnZ2ZSVBSgpKeHuu2/jnXfGcuKJJ7Pvvh0rrOfWW++M2TZx4vs89ND9zJ07m549j6u24+OPD6VFi1YR25YuXcwVV/TlxReH89RTz5VvDwW0gUCg0uA2uu2ZmVkAntte3ff6sGFP0qRJU8rKYnupPvvsYwoLC7nlljs4/fSzyrfPnTvbY/BVN+Z9yftGVTyzZYu8tVckOoFML3XyjkQvdfKORC+JTiDTS6JTTWY1S/t0LDlPX4f/72X4AgH8fy8j5+nrSPt0bFK9EvHyyyPZunUr/fsPJDU1/m/okydPpLCwkIsvviwi8AIXTDdr1qxGXAoLC3jhhec44IAudO9+dJWOlZCZ7v3336W0tJQbb7yZzMyscqfU1FT6978KgE8+mValOktLS1m6dAlffvkZAC1bttwux+jAC+Af/2jHgQcexA8/zKO4eFuvdKNGjQH4++/VldYb3fYQXttenfv31VdfMG/eHAYMuIq0tLSY/Rs3bgCgXbvdq1x3dZ2SgfZ81WEaNcpk48b8ZGtEINEJZHqpk3ckeqmTdyR6SXQCmV4Snfz+lBqb35H18r34CrdGbPMVbiXr5Xur3PtVk17xWLlyBRMmjKd9+7047rgTE5az1s3pOvTQbrXq9MYbY1i7dg1DhjzMzJlfJyw3b96cmPk6KSkV98zEm98zb94cT+fIzs6mZcvWdOt2GGlp6QmP+fXXX/D7/Xz55ed8+eXnpKT4yh/gS0rccM5ly5YkPD6cwsJCjj32iPJ/Z2RkMmDAoLg9R5MnT4xpy6pVK+PWu27dWkaNepFZs77h779XRwRbAJs2bSoPpvfeex8+++xjnn9+GIMH/5OGDRMPd4xuezgVtT3kHn6tErlH1/ncc0PZc8/2nHzy6XEzdRqzD+Du/T//eWv5sEOv1Pbnr6bQ4KsOk5dXkGyFGCQ6gUwvdfKORC918o5EL4lOINNLolNNPmClrFlepe0VUdsPfiNHjqC4uJgrr7y6wmFleXl5ADRr1rzWnNavX8frr79Kz57Hs+++HSsMvr7/fi7ffz+3SvWPGvVClcrHO0ejRo256677OfTQbnGPyc3dTGlpaYXn2rp1a8J94fj9fvr1G0BJSQmLFv3B8uXLadEifq+XlyF0ABs3bqR//0tYt24tBxzQhcMPP5KsrCx8Ph/Tp3/BwoW/U1y8bR2+s8/uw6effsxHH03mo48mV1h3ddvu1T2aCRPGs2TJYh57bGjCgKpXr1OYM2cWU6dO5sILz6nyOepC4AUafNVpJE4qlOgEMr3UyTsSvdTJOxK9JDqBTC+JTjVJWfO2+P9eFne7JP788w+mTp1Mp06dOfzw7hWWDSXIWLt2zXYle6iIkSNHUFJSzMCB11Ratl+/AXHnkSXKagjw1VexGQFHjhyRMFgIP0dubi6fffYxjz32EA8+eB/vvvth3GMyM7Pw+/188snXCYdwesUN19vWxqlTp3Dfff+mQYOGMffr6aeHc+CBkW2fO3c2gwdfFbHtww/fZ+3aNQwceC2XXHJZxL5ff/2FhQsj59hlZGQwYsQovv56OosX/1neg7Vw4e9Mn/5FRNnqtt2rezj5+VsYNeoFDjmkK127HpawnN/v56677ueQQ7oyZMg9HHTQoXTqdIDnhBt1BZ3zVYdp0EDe2isSnUCmlzp5R6KXOnlHopdEJ5DpJdGpJtfz2dL3bgJpGRHbAmkZbOl7d5Xrqs11hl544TnKysoYOPDaSsvus8++gEsjXhtOixcvYuLE9zn77D60bt2mWnXU5rXKycnh9NPPonPnA1mz5m/Wr18Xt9y+++5HaWkp1v5W406hgOubbxL3CFbGihV/AXDEEZHBW2FhIQsW2LjHpKamcvTRPejbtz/9+w+kf/+BHHnkMTHlotteVapyrV59dTSbNm3kmmtuqLRsQUEBL7/8Es2b78J//vNf+vcfyEknnVrjTsmkblgqcdmwQd7aKxKdQKaXOnlHopc6eUeil0QnkOkl0akmhxcV9uxD7uChlO6yKwGfj9JddiV38NBqZTusrWFPv/9umT79cw477AgOOKBzpeV79TqF9PR0xowZzaJFiyL2lZWVsW7d2u3yGT78GbKysunbt3+166jtIWIlJSWsXr0av98fkVAinDPOOAe/38/jj/+XDRvWxzitWrUyZk2zaEpLSyPS9YeYOtUN+2vQoGE1WwC77NICgJ9++rF8WyAQ4MUXhycMKL0S3fZoKmu71/u3du1axo59nV69TqF9+w6Vlh827CmWL1/KbbfdRU5O4iUOtscp2eiwwzpMZmZ98vOLKi+4A5HoBDK91Mk7Er3UyTsSvSQ6gUwviU7hk/1rgsKefaoVbEVT014hVqz4C5/Px5VXXu2pfNOmzbjttru477476dfvQo46qgctW7Zi3bq1zJs3l169Tq5SOvlo/vhjAYMH31Tlh+NwKku4UVWsnc97740DIDc3j+nTP2f58qWccMJJZGRkxD2mQ4e9GDz4Jp588lEuuOBsunU7ghYtWrJp00aWLFnEzz//xN13/4dWrVonPG9+fj5nntmLQw7pSps2bQEf1s7n++/n0qBBQ0499Yxqt+nEE09mzJjRPPHEw3z//VyaNGnKTz/9wLJlS+nc+cAqz6MLJ7rtXbseTsuWrTy33et7ffnypaSnp3t6786a9Q3vvTeOM888N+E8vYqorc9fTaPBl6IoiqIoinB69jyeDh2M5/LHHnsCLVu25rXXRvPddzPJz8+nceMmdOzYiSOOOGq7XNq0actZZ/XerjpqmhkzvmLGjK8AyMrKomXL1lx99fWce+55FR53zjnn0b694a23XmPOnFnk5m6mYcNGtG27K4MGDebgg7tWeHxaWhonnHAyP/wwlzlzZgE+mjdvzrnnnsf5519My5axqeK90rJlK4YOHc6wYU8zY8Z0UlL8HHBAZ/7973t49dXR2xV8QWTb586dXeW2e+X88y+mWbPmFZbJzc3lwQfvp3XrNlxzzfU1cl6p+Hb2ibQ1SDtg0bp1eXUiqlYURVGUnYVVq5bQsuVulRdUFEWpZbx8H6Wk+GjaNBtgd2BxxL5aM1NqncaN449hTiYSnUCmlzp5R6KXOnlHopdEJ5DpJdFJ6sR6iV4SnUCmlzp5R6KXRKd41A1LJS6bN8ta9BJkOoFML3XyjkQvdfKORC+JTiDTS6KT1In1Er0kOoFML3XyjkQviU7x0OCrDlPRAovJQqITyPRSJ+9I9FIn70j0kugEMr0kOimKotRVNPiqw2RnpydbIQaJTiDTS528I9FLnbwj0UuiE8j0kugkdXiRRC+JTiDTS528I9FLolM8kp5wwxjTFugDnALsDTQHVgPTgPuttYvCyrYDFsWpJsQ+Ns5qccaYgcA1QAdgEzARuN1a+3cVVNuhCTcURVEUZYejCTcURZHCzpBw41rgMaAV8AHwBPA70A+Ya4zpGOeYH4B74/yJWTXQGPMQMBxIA4YCnwKXAV8bYxrXcFt2KFlZaclWiEGiE8j0UifvSPRSJ+9I9JLoBDK9JDrV9BpRNYVEL4lOINNLnbwj0UuiUzyqvc6XMeZg4DzAAJnW2uOC23cDugIfW2tjl8yO5VvgCGvtjKj6bwQeBx4FekUd87219h4Pjh2Bm4GfgG7W2vzg9inAy8CdwE0eHEVSViZvYqFEJ5DppU7ekeilTt6R6CXRCWR6SXEKBALl88+krpIj0UuiE8j0UifvSPTaEU41MWKwWj1fxpincEHTP4FTgR7hXsAbQF8vdVlrx0cHXkGeAvKB7tVxDNIX18YHQoFX8Jyv4HrXLjXG1NmFprduLU62QgwSnUCmlzp5R6KXOnlHopdEJ5DpJcEpJcVPaWlp+b+TPWUiERK9JDqBTC918o5Erx3hVFpaSkqKf7vqqHLwZYy5GrgOGA90BB4M32+tXQrMBM7YLjNHSfBPNG2MMdcZY24zxlxkjEm0bPaRwddP4uz7BGgK7FsDnkmhSRN5a69IdAKZXurkHYle6uQdiV4SnUCmlwSntLQMCgq2lP9b6sR6iV4SnUCmlzp5R6LXgeetwAAAIABJREFUjnAqKNhCWlrGdtVRHcuBwI9AH2vtr0BRnDLzgfbbI4YL3hrg5mhFcxzwNPAAMAZYYoy5IU659kCutXZNnH1/hJWpk2zcKG/tFYlOINNLnbwj0UudvCPRS6ITyPSS4JSV1YD8/Fzy8jZRUlJCSUlp5QclAYnrDEl0Aple6uQdiV615RQIBCgpKSEvbxP5+blkZTXYrvqqM+RuL+BZa21FLVwLNKueEhhjWuCSYxQCd4XtygfuwfW6/QlkAz2BR4AnjDGrrbVvhJVvACTKaLg5+NqwKm4ZGfXYsqWIxo2z2Lw5H5/PR3Z2Ohs35pOVlUZZWRlbtxbTpEkWGzfm4/enkJlZn02btpKdnUZJSRkFBcU0bZrN+vV51KvnJz29Pps3byUnJ52iohIKC0to3jyHNWtySUtLpX79VHJzC2jQIIOCgiKKi0tp0iSbzZu3Ur9+CqmpKeTlFdKwYQb5+UWUlpbRqFEm69dvISOjHikpKWzZUkijRpnk5RUQCARo0CCTDRu2kJlZ313Y/Jpp0+bNW0lNpdptWrcuj/T0ejXeptB1TsZ9StQmd53TknKfErWprCxA06aZSbtPidrUuHEmGzYk5z4lalPDhpnk5m5Nyn2qqE35+YVJu0+J2hQIBNiypSgp9ylRm/z+FHJzC0R8l4e3qbCwhJyc+kn/Lg9v09atRWRl1Uvqd3nz5o1ISfGRl7eJjRtXU1JSEjb/K0BKiq88E7HP5yufH+ZGIQVISUkpn7tW8X4fPh9h+12dle935w93qmx/IueablNip+S2Kfx4vU/appppkzt/bbSpXr16pKam0bJla7KyMiv93svPj9c35ahyqnljzHpgnLX2yuC/7wbustb6w8q8DvSw1raqUuXu2CzckMCuwABr7YsejukCfAcssNbuG7a9CPjbWts2zjEDgOeBy621ozyotUNYqvmGDTPYtGlrsjUikOgEMr3UyTsSvdTJOxK9JDqBTC918o5EL4lOINNLnbwj0UuSU02nmp8NnGyMyYy3Mzj/6iTg66pWbIzJwKWb7wrc7CXwArDWzgPmAfsYY8L7Ajfjer/iEdq+qaqeUpDyBgtHohPI9FIn70j0UifvSPSS6AQyvdTJOxK9JDqBTC918o5EL4lO8ahO8PUo0BqYZIzpBPgAjDEpxphDgA+BHFyaeM8YY9Jwwwl7AHdbax+toldoja/wmcELgZwECTn2DCtTJ8nOlrf2ikQnkOmlTt6R6KVO3pHoJdEJZHqpk3ckekl0Aple6uQdiV4SneJR5eDLWjsVtzbWEbjeptuDu7YC3wBdgOsTpI+PizGmHjAWOBF42Fp7X1WcgscfgJsTFp5cY3rw9dg4hx0LrAN+rcq5JFFSIm+yo0QnkOmlTt6R6KVO3pHoJdEJZHqpk3ckekl0Aple6uQdiV4SneJRrZyM1tongc7As8BcXObAn4ARwEHW2mFe6zLG+HEZC08Hhlpr/6+Csp2MMSlR2/y4hButgXetteGp6V8GyoDbw4dJGmMuxSUOeSWqfJ2ioCD5a69EI9EJZHqpk3ckeqmTdyR6SXQCmV7q5B2JXhKdQKaXOnlHopdEp3hUOeFGTWOMuReX0XAtLpiLEbLW3hMs+x5wEDADWIrLdng0sA9u+GB3a+3qqPr/C9yCW1T5faANcB6wCDjUWrvBo2o7hCXcaNrUZVaRhEQnkOmlTt6R6KVO3pHoJdEJZHqpk3ckekl0Aple6uQdiV6SnCpKuCEh+BoN9K2ojLU2NK/sIuAi3OLOzXGB2h/Ae8Cj1tqY5BnGGB9wJXAt0AGXYGMicJu1NlEa+ni0Q1jw5dJzJtsiEolOINNLnbwj0UudvCPRS6ITyPRSJ+9I9JLoBDK91Mk7Er0kOdVo8BUcsucJa+0rVapcNu0QFnzVr++nqEjWQpMSnUCmlzp5R6KXOnlHopdEJ5DppU7ekegl0QlkeqmTdyR6SXKqKPiqziLLo9k2NNAXfI2ORnzBbTtT8CWO9PT6FBXJSqsp0QlkeqmTdyR6qZN3JHpJdAKZXurkHYleEp1Appc6eUeil0SneFSn56sY8OMyHT4HJJzdZq19ebvsZNEOYT1fiqIoiqIoiqLIoqZ7vvbDrfV1Ki6Rxa3W2ne301GpBjk56eTmFiRbIwKJTiDTS528I9FLnbwj0UuiE8j0UifvSPSS6AQyvdTJOxK9JDrFozrrfP1urT0d6AlsBt42xkw3xnStcTulQoqK5GXJl+gEMr3UyTsSvdTJOxK9JDqBTC918o5EL4lOINNLnbwj0UuiUzy2O9uhMeZiYAjQFhiHyyL4Zw24SaMdOuxQURRFURRFUZQKqGjYYbUWWQ7HWjsGt2DxHcCJwK/GmMeMMY22t26lYpo3z0m2QgwSnUCmlzp5R6KXOnlHopdEJ5DppU7ekegl0QlkeqmTdyR6SXSKR3USbhxVwe7mwJ3A/sAGa22z7XCTRju050tRFEVRFEVRlAqo6YQbnxObWj6cUPr5xtWoW6kCaWmpFBbKGt8q0QlkeqmTdyR6qZN3JHpJdAKZXurkHYleEp1Appc6eUeil0SneFQn+LqPioMvZQdRv768N5lEJ5DppU7ekeilTt6R6CXRCWR6qZN3JHpJdAKZXurkHYleEp3isd0JN/6HaIcOO1QURVEURVEUpQJqNeGGkjwaNMhItkIMEp1Appc6eUeilzp5R6KXRCeQ6aVO3pHoJdEJZHqpk3ckekl0iocGX3WYgoKiZCvEINEJZHqpk3ckeqmTdyR6SXQCmV7q5B2JXhKdQKaXOnlHopdEp3hUec6XMaYMb3O+Atba6swpUzxSXFyabIUYJDqBTC918o5EL3XyjkQviU4g00udvCPRS6ITyPRSJ+9I9JLoFI/q9Hx9GfVnKS7DYfT26TXkqCSgSZPsZCvEINEJZHqpk3ckeqmTdyR6SXQCmV7q5B2JXhKdQKaXOnlHopdEp3hsd8INY8zdwF3WWn/NKImlHZpwQ1EURVEURVGUCtCEGzsp6en1kq0Qg0QnkOmlTt6R6KVO3pHoJdEJZHqpk3ckekl0Aple6uQdiV4SneKhwVcdJjVV3u2T6AQyvdTJOxK91Mk7Er0kOoFML3XyjkQviU4g00udvCPRS6JTPOqGpRKXvLzCZCvEINEJZHqpk3ckeqmTdyR6SXQCmV7q5B2JXhKdQKaXOnlHopdEp3ho8FWHadhQ3noGEp1Appc6eUeilzp5R6KXRCeQ6aVO3pHoJdEJZHqpk3ckekl0ikd1Us1/GrWpXYLtAWvtsdX0UjyQny9vPQOJTiDTS528I9FLnbwj0UuiE8j0UifvSPSS6AQyvdTJOxK9JDrFozrrcB3jcbumBKxlSkvLkq0Qg0QnkOmlTt6R6KVO3pHoJdEJZHqp0/+zd97hUVXpA37vlExLCB0pSkTxiuiKriJ2RbGgKyqKYsPysyuuuvaCWHZ11bXg2tay6CqKXewKunbUtbcDCiKg0gkkmZKZub8/7gQnyUxyZzLlA877PHmS3LmZvPe7k8n97jnn+5wj0UuiE8j00k7Okegl0SkTOSdfSik9VVEInTsHWb68vtwazZDoBDK9tJNzJHppJ+dI9JLoBDK9tJNzJHpJdAKZXtrJORK9JDplosN9vtYjatB9vjQajUaj0Wg0Gk0b6D5f6yiBgLx+BhKdQKaXdnKORC/t5ByJXhKdQKaXdnKORC+JTiDTSzs5R6KXRKdM5LPmCwDTNDfCXufVG/Bl2MVSSl2T7/Nr2sflkpc7S3QCmV7ayTkSvbSTcyR6SXQCmV7ayTkSvSQ6gUwv7eQciV4SnTKR17RD0zRvB06n+ciZwe9FNgzs5MvdYUM51KCnHWo0Go1Go9FoNJo2KOi0Q9M0xwNnAa8Bh2EnWpOBI4FJQBR4GhjeEWlN+3TuHCy3QiskOoFML+3kHIle2sk5Er0kOoFML+3kHIleEp1Appd2co5EL4lOmchnfO5EYDZwoFLqmdS2n5RSU5VSfwZ2Bw4ANiyQoyYLdXWRciu0QqITyPTSTs6R6KWdnCPRS6ITyPTSTs6R6CXRCWR6aSfnSPSS6JSJfJKvgcBrSqmmuXcWsGaFm1LqY+A54LyO62naQmKlSolOINNLOzlHopd2co5EL4lOINNLOzlHopdEJ5DppZ2cI9FLolMm8km+YkBD2vd1wAYt9pkHmPlKaZzRqZO84VWJTiDTSzs5R6KXdnKORC+JTiDTSzs5R6KXRCeQ6aWdnCPRS6JTJvJJvuYBG6V9/y0w3DTNirRtuwNLOyKmaZ8VK+Q1kpPoBDK9tJNzJHppJ+dI9JLoBDK9tJNzJHpJdAKZXtrJORK9JDplIp/k6w3sZKupTP3D2JU83jdN8++mab4NbA9MK5CjJgvBYEX7O5UYiU4g00s7OUeil3ZyjkQviU4g00s7OUeil0QnkOmlnZwj0UuiUyby6fN1D7AE6A78BtwNDAFOArZN7fMCcEkhBDWadQ3fjKmEJk/EtWQB/h79qB83gejwMeXW0mg0Go1Go9EUmbz6fGXCNM1e2L2w5iulfinIk8qiBt3nS9NBfDOmUnX72RjR8Jptli/A6vGTdAKm0Wg0Go1Gsw5Q0D5f2VBKLVJKzVxHEy+RdOkSKrdCKyQ6gRyv0OSJzRIvACMaJjR5YpmMmiMlTi2R6KWdnCPRS6ITyPTSTs6R6CXRCWR6aSfnSPSS6JSJvEa+TNN0Y081XKiU+i21bUtgH2A58KRSqs7hc/UDxmD3Btsc6AEsAl4HrlFKzc3wM6OBC4GtgDAwHbhYKTUny+84FTgTu0x+Lfa0yEuVUoudHjMCR77cboNEQoZLExKdQI5X95HVGBn+5izDYOlLtWUwao6UOLVEopd2co5EL4lOINNLOzlHopdEJ5DppZ2cI9FLklNBR75M0+yNXeHwI2CeaZrjTNPcF/gMuAm4H/jMNM1uDp/yLOBmoDd2kY5bgFnACcCnqaQu/fefBjwJ9MVeb/YscCAw0zTNjTP4Xp/azwdMAmYAxwPvmabZxfmRy8MwjHIrtEKiE8jxSvbol9P2UiMlTi2R6KWdnCPRS6ITyPTSTs6R6CXRCWR6aSfnSPSS6JSJfKYdXgJsAlzL7wnXNcCV2KNhN6ceH+/w+WYCOyultlBKnaaUukgptRd2k+bOqecHwDTNHqnvfwO2VUqdp5Q6CRgJdEv9btL23xK4APgK2EYpdaFS6ijgRGBT4Io8jl8MlZX+ciu0QqITyPGqHzcByxdots3yBagfN6FMRs2REqeWSPTSTs6R6CXRCWR6aSfnSPSS6AQyvbSTcyR6SXTKRM7TDk3T/AH4Wil1sGmaW2MnYNOVUiPS9vkY8Cml/pCvmGmaLmA1YCmlKlPbzgTuAC5RSl3fYv/XgOHABkqppaltNwJ/AcYqpR5rsb/CTtg2UErFHSjVIGzaoWbtJL3aYVJXO9RoNBqNRqNZpyh0wY2+wDepr5s+f9Jin3eBDfN47pbEUx9N7Jr6PD3Dvm8AbmAnh/tPx06+tuigY9kIhXzlVmiFRCeQ5RUdPoblk78h/N8Iyyd/IyrxkhSndCR6aSfnSPSS6AQyvbSTcyR6SXQCmV7ayTkSvSQ6ZSKf5Kse8AOkjRiFW+zTCHS009kooBP2Gq0mNk19/jHD/j+22Kfp69VKqSUO91+rSCaT5VZohUQnkOmlnZwj0Us7OUeil0QnkOmlnZwj0UuiE8j00k7Okegl0SkT+SRfP9F8VGsQ8M8W+/QH8i45n+oZNgmIYq8la6JT6vOqDD/WtK26xf6Z9s22f7sEAl7ALmfpdht4PC46dw4Cdsbd9HjXriFcLgOv1011tb3Gp7LSh99vP96tWyWGARUVbjp1sh+vqvLj89l9r3v0qALA5/NQVWXPYe3UKUBFhRvDsH8+HG7E7/dSWWln+tXVAbxeNy6XQdeuoTW+TXcCOncO4vG4cLuNNeU4g8GKNR3BC3FMkUhjh44JKMoxNTYmynaesh1TNBov23nKdkzhcGNZz1O2YwoEKsp2nrIdk8/nLdt5ynZMXq+nrOcp2zE1zW4vx3nKdkxNC7MlvJenH1M43CjivTz9mMLhRjHv5U3HFA43inkvTz+mpliX4zxlO6Zk0hLzXp5+TBUVnrKdp2zH5PdXlO08ZTumYNBX1vO0Nl3vxWJxMe/lbZHPmq9rgSFKqQOzPB7ATryeU0odn9OT2z8fwp4SuANwslLqvrTHZmGXi/e2XKdlmuYI4DXgaqXUhNS2GLBYKdWqlJxpmicD9wInKqUedKBWg7A1X127hli+vL7cGs2Q6AQyvbSTcyR6aSfnSPSS6AQyvbSTcyR6SXQCmV7ayTkSvSQ5tbXmy5PrkymlLnew2x7kMfKVStymYSdeF6QnXimaRqs6YfcTS6dpVCy9WdKqtO0tybT/WsXKlQ3lVmiFRCeQ6aWdnCPRSzs5R6KXRCeQ6aWdnCPRS6ITyPTSTs6R6CXRKRP5TDtsE6VUWCn1RZZ1VlkxTdMHPAPsCUxQSt2UYbcfUp83yfDYJi32afq6KlWi3sn+axVud8FPX4eR6AQyvbSTcyR6aSfnSPSS6AQyvbSTcyR6SXQCmV7ayTkSvSQ6ZUKEpWmaXmAqsC/wd6XU1Vl2fSf1ea8Mj+0NJID3He6/F7AMu2H0WknTPFdJSHQCmV7ayTkSvbSTcyR6SXQCmV7ayTkSvSQ6gUwv7eQciV4SnTKR85ovANM0OwNnYicwvYFMK8sspVSmEaqWz+UGHgXGAJOUUlmbM6dGsOZiTyccopRanNq+O/Am8KxS6tC0/bcEvsAuiT9MKdWQ2n4cMBm4RSl1XvtHDAhc86XRaDQajUaj0Whk0daar3wKbvQB3sOuaFiLXS2wFvACwdRuvwCNSqmNHTzfROyKhkuBO4FWQkqpq9L2Pz2130Ls0bJOwFHYJfCHKqXmtnj+G4ALgVnAc9h9yo7ATuKGKqVWODtyeclXZaWPurpouTWaIdEJZHppJ+dI9NJOzpHoJdEJZHppJ+dI9JLoBDK9tJNzJHpJcip0k+WrgY2AsUDX1LZblFKVwLbA28B8YCuHz9c/9bk7dhI2IcPHGpRSdwGHYyd4pwGHAi9ij2w1S7xSXJzaLwaMx56eOBnYOYfESyTxuLx+BhKdQKaXdnKORC/t5ByJXhKdQKaXdnKORC+JTiDTSzs5R6KXRKdM5DPyNR/4Sik1MvV9EriqaZ2WaZqV2FP9XlBKnVNg33JSg7CRL41Go9FoNBqNRiOLQo989QS+TPs+DqzpLqiUqgNewR6R0hSRpoZukpDoBDK9tJNzJHppJ+dI9JLoBDK9tJNzJHpJdAKZXtrJORK9JDplIp/kawlQ2eL7loU1LH6fkqgpEsuX15VboRUSnUCml3ZyjkQv7eQciV4SnUCml3ZyjkQviU4g00s7OUeil0SnTOSTfH0HbJb2/YfAfqZpbg9gmuZA7IIWszuup2kLr9ddboVWSHQCmV7ayTkSvbSTcyR6SXQCmV7ayTkSvSQ6gUwv7eQciV4SnTKRT/I1DdjTNM1eqe//jl3p8EPTNBdjJ2fdUts1RcTvl9fPQKITyPTSTs6R6KWdnCPRS6ITyPTSTu3jmzGVruMG02nvSrqOG4xvxtRyK61BWqyakOilnZwj0UuiUybyKbjhxZ5SuEIpFUtt2x24CHtR2XzgbqXU0wV2LTc16IIbGo1Go9Fo0vDNmErV7WdjRMNrtlm+AKvHTyI6fEwZzTQaTbkoaJ+v9ZgahCVfVVV+Vq+OlFujGRKdQKaXdnKORC/t5ByJXhKdQKaXdmqbruMG4148v9X2RM8NWT75mzIYNUdSrNKR6KWdnCPRS5JToasdOsI0zf7t76XpCLFYvNwKrZDoBDK9tJNzJHppJ+dI9JLoBDK9tFPbuJYsyGl7qZEUq3Qkemkn50j0kuiUiZyTL9M0xzvY50zgq7yMNI6JRuW9yCQ6gUwv7eQciV7ayTkSvSQ6gUwv7dQ2yR79ctpeaiTFKh2JXtrJORK9JDplIp+Rr1tN07wi0wOmadaYpjkDmATM6pCZpl169Kgqt0IrJDqBTC/t5ByJXtrJORK9JDqBTC/t1Db14yZg+QLNtlm+APXjJpTJqDmSYpWORC/t5ByJXhKdMpFPwY1HgCOB25RS56VtPwv4G3blw2uA65VSiQK6lpsahK350mg0Go1mfcI3YyqhyRNxLVlAskc/6sdNEFHUQqqXRqMpDwUvuGGa5j+B04F/A9cD9wC7A/8DjldKlX+FaeGpQVjy5fN5xA2xSnQCmV7ayTkSvbSTcyR6SXQCmV5SnNaGqoJSYpWORCeQ6aWdnCPRS5JTwQtuKKXOBP4KHA98CwwDLgOGraOJl0gqKjzlVmiFRCeQ6aWdnCPRSzs5R6KXRCeQ6SXFKTR5YrPEC8CIhglNnlgmo9ZIiVU6Ep1Appd2co5EL4lOmehQqXnTNM8FbgI+BvZWStUVSkwgNQgb+dJoNBqNZn2h+8hqjAzXLJZhsPSl2jIYaTQaTWaKVmpeKXULcBLwR2CGaZpdO/J8mtzo1CnQ/k4lRqITyPTSTs6R6KWdnCPRS6ITyPSS4iS9qiDIiVU6Ep1Appd2co5EL4lOmch5fM40zSTQ8taTAWwHLDFNs2mbpZRaO8b/1lIikVi5FVoh0Qlkemkn50j00k7Okegl0Qlkeklxqh83IeOaLylVBUFOrNKR6AQyvbSTcyR6SXTKRD7J0du0Tr40ZaCxUV4xSYlOINNLOzlHopd2co5EL4lOINNLilNTUQ3JVQWlxCodaU5Pfe7hutd9LKw16FttcdmIKKOHyCiSIC1WINMJZHpJdMpEh9Z8rWfUIGzNV7dulSxbJmuZnUQnkOmlnZwj0Us7OUeil0QnkOmlnZwj0UuS01OfezjvOT/hRmPNtoDX4h+jIiISMGmxkpqkgqxYNSHJqeCl5tdTahCWfGk0Go1Go9GsLWx7Y4id5zzG/qteYbe6tzGAS/tcxzsDxvLpBfXl1hOD9CRV0z4FLbhhmuYmpmkeZ5pmtyyPd0s9PiAfWY1z/H5vuRVaIdEJZHppJ+dI9NJOzpHoJdEJZHppJ+dI9JLktNucKXRNrOT4jR9iwFY/scdmb2EAfRfOZM4yg3KPB0iI1YoGuPwlX7PECyDcaHDd674yWbVGQqxaItEpE/ms+boMGAk8muXxWuAG4AXg5Dy9NA7weDpUrLIoSHQCmV7ayTkSvbSTcyR6SXQCmV7ayTkSvSQ5mdFZTOgzkVOX3M3g8Df8t2p3Xu80giXengy7BTaoSrJjTYIdN06wU02CgT2SGEb7z1soSh0ry4KfVxjMnOdm5jw3H//s5vvF7qz7L6gtYTDaQdLrqgmJTpnIedqhaZpzgPeUUse2sc9DwE5KqU076CeJGvS0Q41Go9FoNJqcefV7N+Me9vGn2mk89eNo3CQBu4Lbd/5BvHjJp3ww1837P7lZtNq+iO4eSjKsxk7EhtUk2KJXEtfacX2dkXgCvl3kYuY8Nx+lEq7fUsda5bMY2j/B0I0S3PeBlyX1rQ806LX49pI6ghWlNpeNb8ZUcYV42pp2mM/IV2/g53b2mZ/aT1MEJC/CrK4OUFsbbn/HEiPRSzs5R6KXdnKORC+JTiDTSzs5R6KXBKcvf3Fx6uMBtmn8ikfmHr0m8QK7V5HZqY4eQxs5fmgjlgVzlxt8MNfDBz+5+eAnNy98Y08n6xywGNY/bidkGyfYcoMknuwDRTlT6FjVReHTBb8nWp/Md1Mfs0ev+lUn2WnjBEP7x9ihf4LNeyZxp/KtjTonW6358rgsGhoNDrg3yP1jwwzoVt6BAAmvK7ATr/QWFO7F86m6/WyAsidg2cgn+aoDNmhnn15ANI/n1rRDy0WYC2oNznvOD8hYhNnQILPHgkQv7eQciV7ayTkSvSQ6gUwv7eQciV7ldlq40uDohwN0CVo8OvRrgrOsZleILXu1GQYM6GYxoFsjR2/XCMD8FcaaROz9nzy88r2djFX6LIZuZI+M7bhxnK37JKnI48o2feSkawdGThatNvhonpuPfraTra9+dZFIGhiGxRa9kozZppEdNkowtH+Cfp2zJ0/29Vyk1Y326oDFGU8GGHFniEmjI4zconzXfeV+XTURmjyxWe8/ACMaJjR5otjkK59phy8BOwCbK6WWZHi8J/A98JFSar+CWMqgBgHTDre9McSC2tZD0f2qkyIqBblchshpmRK9tJNzJHppJ+dI9JLoBDK9tJNzJHqV06kuCgf+K8jPK1y8cHIDW2yQLMgUsd9WGalEzM2HP7lRqXVSQa/FHze0R8V2rEmwbb8E7dVgaDlyAnZCuHr8pDa9LAtmL0lNIUwlWz8tt6/P/B6Lbfsl2KG//bHdRgk6+XM6xDW0PH8/rzA4aUqAL35xc9auUS7dO1bQ0b98vcpF95HVGBlyGcswWPpSbRmMbApaat40zRHAq8Bs4GLgdaVUnWmalcA+wPXAJsB+SqnXO2wvhxoEJF+9Lq/EovWCSwOLRdeWv7dB164hli8vfxLYEole2sk5Er20k3Mkekl0Aple2sk5Er3K5RRPwLGPBHjrBzePHBtm+MDmDXAL6bW03k7GPvzJzftz3Xy7yIVlGfhSSdCONfbHdhslCLVYL9V13GDci+e3es5Ezw1ZPvmbNd9H4/DFLy57ZCuVcC1vsJOtbsEkQ/v/nmxt1Tu/EbhMZIpTpNGuiPjQxxXsVBPnniMi9Koq7bWplNe60/NXagre58s0zQuBv8KaLKAeCKW+toALlVL/yNNXKjUISL6kj3xpNBqNRqNZv7EsuGiaj39/VMFNoyIct31jSX//yjDMnOfm/dS6sS9/cZG0DDwui637JtmpJs6ONXaitPGhmUdOlnu68OpNC9ZUIvxsoZto3L7sHdAtmUq04uzQP8GAblZJqzI2MfUzDxc876fKZ/HZ3bfjAAAgAElEQVSvIyLsuHGi/R9ax8h35LLYFKXJsmma2wCnAn8EqoGVwMfAvUqpLzrgK5UaBCRfmRrveVwWkw6VseYrEPASDpf2TdYJEr20k3Mkemkn50jyklywCGTFqgnt5ByJXuVwuvs9L1e+7OfMXWJM2C9zCYBSeq2OwMc/29MUP/jJw+cLXTQmDFyGxdbhr9ij9g12W/029e4Q71buwruVu/B1YCvAvsb6Q5/fR7a23yhBz8rSXQe2F6dvf3Nx4pQA81YYXL5PlDN2bixJIijptb62VTvMO/laD6lBQPIFzS8egl6obzR4fFwDew4s/x2PUMhHfb28WisSvbSTcyR6aSfnSPHKdPMq4LX4xygZN69ATqzS0U7OkehVaqeXvvVwwhQ/B2wR574jIllLw5czVg0x+GS+XcBjyhsrWWZUE3XZi7KqEqvYoW4mq4M9uOjUzdimX+upiqXESZxWR2D8035e/NbLyC0auf3QSN5rzArpVWokOZU8+TJNsxPQOW3TSqXUqoL/otJSg5DkK52GGOx3d5Cl9QZvntVQ8jm/Go1GIxnLsqcgLVrt4tAHAizN0DtHT9vWaArD5wtdjLovyKBeSZ4+sWGt6EfV6/JKDl/2GIevfJIB0TlUJ2q5os81PNbtKBFr6Z1iWXD3+16uftXHRl0sHhgbZvAGyfZ/UFMUCt3nywnnAlemfT8RuLpIv2u9pXPnIKxs4N4jIux7d5Azn/QzdVy4rA0IO3cOsnJlQ/kEWiB5ipG0WIFMJ5DppZ2cUwyvSCMsqTNYVGeweLWLxXUGi1YbLF5t2NtT2xbXGTQm2p6Ds7C2DIs1siDxHGon50j0KpXT/BUGxzwcoHvI4qFjwu0mXlJi1bfaYipjmdptbLPt/aplJC5O42QYcPrOjWzTN8nJj/sZeU+QG/4U4chti3PNI+X8pSPRKRM5J1+mac5wsFtN6vPw1Oefcv09mvapq4sAsHmvJNcdEOW8Z/1MeqeCc3YvX++FJicJSO+JJilWTUh0Aplekpya32QIibnJkKtXMgkrwqkkqs5OpBanEqklqe+bkq3aSIaqr4ZFt6BFzyqLnpUWA3sk6VWVXPP95S/6WJJh5KtvtZwZA5JeV01oJ+dI9CqF06oIHPOfAJG4wVMnNjhaEyUlVpeNiGacjnzZCBnT13KN07CaBG+c0cBpU/2MfzrAxz/HuO6AaLsl94vtVQokOmUin5GvPRzuZyml/pvH82sckj5l9Og/NvL2j26un17BjhvHGbpRee7YSFpDeN3rvmZvpgDhRoMrX/ax52ZxugbLJJZCUqyakOgEMr2kOGW6yfDnZ/0srouy36A4hgEuwy5Na6Q+u1xp37d8zLCabXOl/oR+f5xWj6c/V1te5zzj57OFMQZ0t+zEarXB4rrfR62W1BnEk62TqoDXTp56VSUxeybZdUCCXqmEqmdVcs3X3UIW3jb63SSTtLrIAoux28poFgpyXlfpaCfnSPQqtlNjAk6aEmD2EhdTjgtj9nR2/SElVtkaGku4gQX5xalXlcUTx4e5fnoFt7/t44tf3Nx/ZJj+XQsXcynnLx2JTpnIp89XErhKKZV1GqFpmlcBVyilytD2rWjUIGzNV5cuIVas+H2dwqoI7PXPEIkkTD+zni5lSC5aOpWTnpdXQoaeaE10DyUZ2MP+2Cztc5/q0pSMlRSrJiQ6gUwvKU7Z2k+UC8OwOxHab5PZ/5AMw6J7qCmpap1IpX8fqqBgf5Ppo3EbVFnEk3Z/lJdObaCmgBcm+SLldZWOdmofyVPcixkry4K/POfj4U8quOXgCEdv57z6nbRzCOum0yvfuTnrqQAuA/55WJgRZmGKs62LsSokhW6y7CT5mgBcqZOv0vPZAhcH3Btkn83jPDg2Upa+ExKINMKm11YSy7DWo1swydm7xZi9xMWsJW5mL3GxMvz7fqEKq1VSNrBHkpquyTbvqms05SD7TQaLSaMjNL3FWxYkLQMr9bWFnSA1fW21+DqZvp3Uz1pAhp/N9Dy3/Lciq9dXF9XTLWjhEfD39ONSg5H3hOgWSvLiKQ1luWmlWbtZG6poFos73vFy9at+ztktymX7yBlB1jRn7jKDkx4L8PWvbv68e5SL9orhlnPPbp2kHAU3NCUgGKygoaH5m902/ZJcvk+Uq17x88DMBCcNK20PhkxOpSaZhLOf8hNLGFS4rWYJWMBrce3I5nckLQuW1BvMXuxi1hJXKilz8e4cN098/vskaa/bYuOuLUbKeibZpHsyrzK0EmLVEolOINNLgtPKMFS4IZbhRma/aosjtinfhd8Tn3tZkKGQRb9qS0RV1qbzt0l3i8lHhznswQAnPBrg8ePD+Mr4n1HC66ol2qltsk1xv+51n4jkq1ixmva1h6tf9TNqy0Yu2Tv355d0DptYV5027mbx4ikNXPqCj1v/6+N/893cPSZCjw70K1tXY1UK8v0Xs4dpmhYQAxqAX4BZSqmvcn0i0zTHA9unPjbDvlUaUEq1WjVnmmYNMLeNpxuklPo+w8+dCpwJDARqgReAS5VSi3P1XRs4badG3p3jYcLLPob2T7BVbxkVe0rFta9X8NzXXq7cN0LvKqvdqSCGQWqaU4KdBzS/iq2LsiYZa/r8/WI3r3zvIZG2NmXDzhmmMPZMZFxX1nx6ilfU9BTN2sOClQZjHwqQSNo3Bhpb3GQo92Jx6YvY0xlWk+C2QyOc/kSAc5/x88/D1t9ZA5rcyXSTAWRV0Sw0/5vv4swn/Wy3YYLbR2fv5aWRQ8ALtxwSZfuNElw8zc/edwb515HhstUIWJ/Jd9phS5qeZCUwBQgC45xMO0wlcQDzgGrs/mDtJV9fAM9meLo7lFJLW/zM9cBFwCzgOaAfMCb1PEOVUivac0xRw1ow7bCJpfUGw+8IEvLB66fXU+krt1Fp+PdHXi583s/xQ2Pc8Kdo0S6gonGYu8zVKjH7camr2cVm07qyTbvbo2SLVxnc+2EF0fj6Nz1FUzi++tXFUQ8FCDca/PuoMItWGSLXm0heB5OJf7xZwfXTfZy/pz0tR6NpiyV1Bte+5mPKp5nLyPXplOTzC2WsPykk85Yb7H9PkFAFvHxaA91D8q+JNM356lcXJz4aYGGtwVX7RTl5x0Z9w6nAFHrN1+6pL92AHztZ6gtsBewObEgqGXOYfO0PfKyUWmqa5lup52gv+ZqslDrewXNviZ2ofQMMU0o1pLYfB0wGblFKndfe86SoQUjy5ZsxldDkibiWLCDZox/14yYQHT6m1X7vzXFz6IMBxgyJM2l0acpvlnOx4xvKzTH/CbDXZgkmHxVutp6kVF7JJMxfaTB7iYvZS11pUxndrAhnf2eT0uRV0mLVdCR6lcvprR/cnDglQCefxZRxYQb1+v1+mMQ4gUyvTE6WBX9+xs+UT73cfmi4aP1xcvUqN9qpOYmkfaPv+jd81Mdg+MA4b//oIRJPf4+36BKwePCoCDttXJgCB/lSyFjVhuGAe4MsWu3ipVMbGNgj/1ET/bpyRrGcasP2Eo1XvvcyastGbjkkktON+vUpVvlQ0OSrPUzTPBh4GHv063jsaYSfK6W+dPCzb1HY5OtG4C/AWKXUYy0eU0A3YAOllJP/sDUISL58M6ZSdfvZGNHwmm2WL8Dq8ZMyJmA3TK/g5jd93DE6zJgSrP9wuw0SidLH58tfXBx0X5BNuyd59qSGVm8g5fJqwrLs0cjB14fIVoTg8hExDhjcyCbdy+dZ7jhlQ6JXOZwe+9TDec/62axnkinHhendqfnvlxgnkOmVzakxAUdODvDhPDePjwuzy4DSXjivTbEqJ+Vy+uhnFxdP8/P1r2522yTO3w6MMrBHstUo79F/jDH1iwp+Wm5wzm4xLhgeK1vBpkLFKhaHsQ/ZfxtTx4VbTdMvl1chWd+ckkm4490K/vp6BQO6JXlgbITNezlLqNe3WOVKW8lXwWfpKqWeBe7GvsKcDPwbOLjAv6avaZpnm6Z5iWmaR5um2SPLfrumPk/P8Nh07ORriwK7FZXQ5InNEi8AIxomNHlixv3P3yPGjjVxLpzm58elxR9TNsowbr1gpcHRDwfoGrB45Nhwxjs35fBq/vuhR6VFvyzNXL1uuPZ1HzveWsmutwf52+sVfPmLi1K3rCh3nLIh0auUTpZlT4kb/3SAnTZOMO3/GlolXqV2ygWJXtmcvG54YGyYAd2SHP9ogFmLS7uYZW2KVTkptdOSOoPxT/k58N4Qy+sN7jsyzBPHh9eM/IweEufTC+pZdn0Dn15Qz/nDG5l+Rj1HbdvIrf/1ccC9QeaU4H9wJgoRK8uCC573884cDzePinQ48SqUV6FZ35xcLhi/W4ynTghTGzHY7+4gT37urBzE+harQlKU/ypKqQuUUq60j6xl6fNkb+B24K/Af4B5pmn+OcN+mwKrlVJLMjz2Y9o+aw2uJQty2u5xw12HR/B7LE5+PEC0yINflZX+4v6CFqyKwNEPB2iIGTx6XDhrFbVSe2XjshFRAt7mjgGvxe2HRPjsL3X89YAIPUIWt71dwd53htju5hCXv+jjg7luEiVYEyslTi2R6FUqp3jC7qNz/XQfhw9p5NFjw1Rl+dUS4wQyvdpyqg7Ao8eG8XksjnoowOK60v1DX9tiVS5K+fd3/4dedrw1xFNfejh71yjvnlPPQVvGM66RSfeq9NkFDu4fG+an5S6G3xnikU+8Jb+pVohY3fbfCqZ86uW8PaIFm467Pr+ucqEUTjsPSDD9jAa26pPgjCcDXDTN1+714voaq0KwttWnaQCuArYGqoDewNHACuAW0zTHtti/E7Aqy3M1ba/ORSAQsBfWdukSwu028HhcdO5sl7QLhXxrHu/aNYTLZeD1uqmuDgBQWenD77cf79atEsOAigo3nTrZj1dV+fGlahz36FEFgM/noSp1pdWpUwCrR7+MXske/aiuDuD1unG5DLp2Da3xHdingtsPjfD1r26uec2P223QpYv9eDBYQTBYUbBjqq1tyPmYKircGAZNw7P4/V4qU8NX2Y4pFPIRi8MpT1Qye4mLycdE2HHzQNZjqquLlPQ8ZTum0UPi3DU2Sb/OSQwsNupqF9s4ZkeDzfpW8H87NjLjfAN1eQO3j46w9YYGkz/2Mur+IFv9vZJzn/HxwcIQcas4r72VKxsKfp4AOncO4vG48n7tuVxGSc+Tk2MCOnRMTs5TfQyOnxLk4U8qOHf3KJOPh6pQ9mNKJq2ynqdsxxSJNJbtPGU7plgs3uYxbdbHw3+OCbOk3uDY/wRotErz2lu5sqFs5ynbMa1c2VC285TtmFaubCj6e/k3SwPse0+IS17ws30NvHVWA9eNstigW/ZjikYbWx3TwX9I8NllFn/sl+DcZ/2cPDXI8obSXUeEw7EOnacXv/fx1zd8HPqHRv422lOw117Tspdyv5env/aaRk6K+feU6zG5Uw25iv1evknvCl4+M87pO8d4cGYFo+4L8ludR8T1ntNjWr06XLbzlOmYspHXmi/TNL3AOcARgAkElVKe1GNDgFOA25RSKsfnfYs21ny18XPbAB8Bs5VSW6RtjwGLlVKtMhbTNE8G7gVOVEo96ODX1LAWrvlK54qXfNzzfgWTjw6z/6DiDIGFQj7q64tfStqy4Jyn/Tz2mbOF8aXyygWnTnVRmDHbw0vfenhNeaiLGlT6LPbeLM7ILeLsvVm8YNUsJcYJZHoV22lxncExDwf48hcXN/wpyrih7ffskxgnkOnl1Onl7zwc/6if/QfFuf/ISNEbk0qKleRqlcWM05I6g2te9fHYZ176dEpyzcgoBw7OPNKVi1cyCXe+5+Vvb/joFrS447AIu21S/DWFHYnVzHluDnswwJC+CZ48obA98CS91pvQTjYvfONh/NN+KtwWdx4eYfjA1q9THau2KeiaL9M0K4F3gb9jVzZcRfMKAnOAcamPkqCU+gz4DBhkmmantIdWYY9+ZaJpe20x3QpNdPgYVo+fRKLnhliGQaLnho4SL4DL94mydZ8E5zztZ8HK4kyjSSZL0y/i5jcreOwzLxcMdzYFolReueDUqdIHB20Z5+4xEb67pI4pxzVwyFaNvDvHzSmPB9j8r5Uc/XCARz7xsrS+Y+dVYpxAplcxnX5YYjDyniCzFrt46Oiwo8Sr2E4dQaKXU6f9B8W5Zv8oL33rZeKrxe/ZISVWT33u4bzn/CyodWFhsKDWxXnP+XnK4XqQYlOMOGWbYvinLFMMc/VyueCsXRt5+dQGKn0Wh/87wMRX2p/e1VHyjdWcZQbjHvHTt9puRF7o5uNSXuvpaCebAwfHef30enpVWYx9KMCNMypoqaFjlT/53MO7Ersh8rnY0/7uS39QKbUKeAvYp6NyOdLU3yuUtu0HoCpLQY5N0vZZq4gOH8Pyyd+w9KValk/+xlHiBeDzwD1HhIkn4bSpfuJFuOEWDju7SOwIj3/m4e8zfByxTSN/2dNZL55SeOVKPk4+D+y1WYKbD47y1UX1PP9/DZywQyNqkYtzn/Wz5fUhDr4vwL3ve/NKsCXGCWR6Fcvpo59dHHBviIYYPHNSA/ts7vwPVWKcQKZXLk6n7NTI/w2Lcfd7FTwwM3NPp0IhJVbXve5r1rMQINxo95OTQKHjNHOemxF3BbnkBT9D+iZ466wGrtg3lvOsAidef+iT5I0zGjhu+0b++W7FmhstxSKfWK1ogKMfDmJZBo8e20DXoAyvYiPJyTdjKl3HDSa0Z5Cu4wbjmzG1pL9/k+4WL5/awOFbx7lxho+xDwdYlnaDV1KsmpDolIl8/toPB15TSt2mlLL4vcFyOnOBjTpklgOpaZBbY68JSy+u8U7q814ZfmwvYBnwbXHtikfTnNhcGNDN4qaDInz0s4cbZ1SIcMqFd350c+4zfnYdEOfmURHHdyOL7ZUPHXVyu2BYTYJrRkb5+Px6pp9Rz593j7EibHD5S362vamSEXcGueWtCtRiZ5UTJcYJZHoVw+mFbzwc9kCQLkGLF09pYJt+ud3FkxgnkOmVq9M1I6Psu3mcS1/w8Xr7LSzzRkqsFtRmfnNdUGtQJ2BWT6HitLjO4Oyn/PzpX0FWNBjc36KKYbG8ghVw40FRHjq6gV9qDUbcFeTfHxWnGEeusYrG4fhHA8xfYTD56DADitT+RMprPR0pTk1LTNyL52NYFu7F86m6/eySJ2DBCpg0OsJNoyK8N8fN3ncGuXmGl21vDNHr8kq2vTEkZjQc5Jy/9sgn+eqN3bi4LcLYBTEKimmafzBN09Vimxu4EegDPN2iZ9dkIAlcappmMO1njgM2Ax5y2ONLJCtXNuT1c4duHeeobWPc+nYFb/9Y2IuIfJ2c8P0iFydMCbBp9yQPjA1TkcPfezG98qWQToYBW/VJcvHeMf57dgMf/rmOK/aN4nHD397wsevtIXa6LcS1r1Xw6YLsiZjEOIFMr0I73feBl5Me8zO4d5IXT2lg4265X/BIjBPI9MrVye2Cuw4Ps2XvJCc/HuCrX4ozUiEhVj8sMfBmPTyDLf5WyfGP+nnmS0/ZErGOximesP/mdro1xNNfehi/W+5TDAvhtd+gBG+d3cAO/RNc+Lyf4x4JdHj6eEecLAvOe9bPBz95uO3QCMNqircmTcJrvSVSnHJtK1RMDAOO276RF05pINwIN8zwiZ2OLOX8tUfOBTdM01wI/FcpdVTq+wnAlUr9fivQNM0XgEFKqU2yPE36810MbJ76dj+gF3b5+Ka/+L8opZam9n0W+CPwPvAzUIldoGMQ9vTBXZRSi1o8/w3AhcAs4DmgL3ahkLnAUKXUCoeHXoOAghvpeL1uGhvze2Osj8G+dwVZGTaYcVYDPSsLc0wdcWqLRasN9r87SCwBL5/awIZdnPn6ZkwlNHkiriULSPboR/24CY6naRabYsWqJb+uMnj5O7tgx3tz3SSSBr07JRm5RZyRg+LsWJPgua/kLqyH0sUqFwrllEzC1a/5uPPdCvYf1Mhdh0cI5jkoLTFOINMrX6dFq+1eOPEkvHJqA307F/b/QTljZVl2I+9LXvBjGHbD6Vji90TA77E4Y+cYtVGDaV97WFznwu+xGL5ZnIMGx9ln88IV/2mPjsRp5jw3F0/z8c1vbnbfJM7fDoywaY/y/g9MJuG+D71c/aqP6oDFpEMjDN+sMK+DXJxumlHB32f4uGivKOc7nNZfCq9SIcWp+8hqjAzX55ZhsPSl8pUqGHJDiF9Wt74z07sqyRcX1ZfBqDlSzh8Uvsnym8Ao0zQHZHowVe1wP+BVh8+3H78X6OiV2nZM2rbKtH2fAL4CdgTOSj2eAK4FtmuZeKW4GDgNiAHjsXuETQZ2ziHxEkkw3ys0IFQB9x4RYVXEnnJRqDWKHXHKRl3U7uW1PGz38sol8ZIwbJ+NYsQqE707WZy4QyNPnhDm24vrmDQ6zJC+CR79n5fRDwYZeF0lZz0ld2E9lC5WuVAIp2gcTnvCz53vVnDiDjEeGJt/4lUop2Ig0Stfp15VdjP3hpjBUQ8HWO24Lm9xvTrKqgic/oSfc54JsE2/BO//uZ7bDonQr9pui9GvOsktB0e4eESMvx0Y5YsL63nupAaO3q6R/813c9oTgTUjYk9/UfwRsXzilGmK4dTjwwVLvPL1ArsYxyk7NfLq6Q10C1oc+VCQy1/0ESnAEhanTk98bq+nHjOkkfP2KG7iBevW+0KhSbbRVqic/Lo686jsr6kb5H+fXsEn810l6UuaCSnnrz3yGfnaDPgf9vqq67DXWh0P7AEMAy7FXgc2RCn1cwFdy00Nwka+CsHkj7xc8LyfK/aNcvauxX+zzZV4wp57/sYsNw8fE2aE6fyORtdxg3Evnt9qe6Lnhiyf/E0hNddK6mPw5mwPZz3pp6Gx9Rtqv+okn15Q/jtZ6yorwzDukQAf/OThyn0jnLlLY4emO2lKy1s/uDnqoQC7bpLgP8eE8RZvGVjR+d98F6dODbCw1uDC4THG7xbLqaR+Mgkf/ezm+a89TPvGw6LV5RsRy0Q8Af/+yMv1032EG+H0nWOcu0eMkNDrtHAjXPuaj399UMGgXgnuOjzCFhsU92r2g7luDv93gO03SvD4uNym9WsKT0faChWTbW8MsaC29ZtDJ1+SgT0tPlvgImkZdA5Y7L5JnOED4+w5MMEGndad62antDXylW+fr12AR4F+2ImWkfZ5ATBGKfVhh6zlUYOw5Kuy0kddB28vWhb832N+Xv7Ow/MnN7Ddhh17gy+EU7rbxS/4eHBmBTf8KcIJO+R2C1DqsH0ThYxVR+h1eSUWma76LRZfW1dyn0xIiRUUZirr/BUGYx8KMHe5i0mHRjh068JM8ZQUp3QkehXC6ZFPvJz7rJ9jt4tx06hoQZLnUsYqmYQ73q3g+jcq6N3J4q4xYYZu1Pp/QC5O2RKxPQfGGbVl4RIxp07FnGLYES8nTJ/lZvzTflZFDK7cN8r/DcvvBk17Tj8uNRh5T4huIXu9aZciVDbMx6scSHKSuGyiqQVFeiXUgNfiH6MijB4SZ0UDvP2jhxmzPbw5281vqSmKg3ol2HNgguED4+zQP1HwtgVNSDp/BU++YE2FwYOwy853xe6p9RHwnFJKxpEXlhqEJV9+v5dIAeYk1IZhr3/aFWKmn1lPqvF3WZ0A7nzXy1Wv+DlzlxgT9sv9JSV95KuQseoI2e5kGVjcNCrKMduVf0RGSqwKcTfyq19dHPVQgHCjweSjwuw8oHDz06XEqSUSvQrldN1rFdz2tq9gswdKFatFqw3OfNLP2z96OGjLRm4eFcn63p+vU6ZEzOexGD4wzkFbxtm3A4lYe06LU42SH//MS9/qJFePjHLgFh0rplEIr1xZUmdw7jN+XlMehg+Mc9uhEXpV5XYN0pbTsnqDkfcGWRWGl07Nr9BPvqzL7wuFRJqT0+brlgXfLXIxY7abN2d7mDnPTSxhEPRa7DwgkRoVizOggK85SbEqSvK1HlKDsOSrkPxvvos//SvIfoPi3H+k8xLuxWLa1x5OeizAQVs2cu+YCK48VidKHbaXRqY7WT6PRf8uSWYtcbPbJnFuOTjieK3dukxHE/o3Z7s5cUqAzgGLKceF2bzX2tEQUpOdZNJet/fsV17uOzLMQVvKKVSTjemz3Jz9lJ/6mMG1I0tzg6UpEZv2jYdpX3v4rYCJWDotpxiesXOMPwueYugEy7KPacLLPkIVFrceGmHfHPr/ZSPSCIc9GOCLX9w8dWJDxlFPjaZQ1EXh/blue1TsBw9zl9kXdv27JBm+mT1FceeNE2WdolxIipZ8maZZCQwGOmGPfH2jlJIxT6nw1CAs+erWrZJlywoX7jve8XL1q37+flCE44fmd+egEE4f/exi9ANB/tAnyVMnNODvQE9TicP2TRT6/HWELx58ks2fu4o+0fn84tuQ70ddxVbjDuOhT7xMfMV+J7xy3yjjtm/MKxHuKFJi1ZGprI996uG8Z/1s1jPJlOPC9C7CHHgpcWqJRK9COhXyIraYsYrG7bVE97xvryW694gIZs/2XQvtlC0Ra5qa6CQRy+T04U9uLn7Bx7clmmLo1KtQqMUuTpvq55vf3Bw/NMZV+0UdFejJ5GRZdoGVp7/0cu8RYQ7eqvQ3Ddb194VCIdEJOu41Z5nBm7M9vPWDh3fmuGmIGXjdFjtslGDPzRLsuWmcwRskc7oxJClWxVjzNQC7t9afgPRlxglgGnCBUmpOnr5SqUFY8mUYFLQhYzIJYx8O8P5cN6+c1sDgPBb4dtRpzjKDkfcE6RyAF09poFuoMAdY6FgVAilO7Y0Qzl9hcO6z9vSkXTaOc8shEfp3La24lFjlM/JlWfCPtyq4YbqP3TaJ8+DYMFX+4vhJiVNLJHoV2qlQ07eKFasflxqcOjXAl7+4OWlYjAn7Rh3f2Crm+Usm4eP5qamJLRKxgwbbiVimv5d0p8V1Ble/4mPq56WdYpiJYr/Wo3H464zgHjcAACAASURBVOs+7nqvgoE9Etx9eISt+rT9vzqT0/VvVPCPt3xcNiLKObuXp9jW+vC+UAgkOkFhvaJx+PhnNzNm2yNj3/5mpxa9qpLsuWmCPQfG2X3TOF3bWY8oKVYFTb5M09wceAfoBnyP3XNrMdAT2Am7Z9cy7J5bqoPukqhBWPJVUeEmFitsP4MldQZ73hGkc8Di1dMbcp6q0RGnpouX2tTFSyHnARcjVh1FipOThMKy4D+feJnwio+kBVfsE+WEoaUbBZMSq1ynssYTcOHzPv7zvwoOH9LILQdHilpFTEqcWiLRqxhOc5ba72FdgvDiKfXtXiiUwsuyYOrnHi6a5sfnhlsPjbD/oNxGOUp1/poSsWlfe3g+SyL22ve/rzfp08lip43jvPK9l0hcxhTDUsXqrR/sqaPLGwwuHRHl9J2yvx+3dHrsUw/jnw5w1LYxbjmkMIVi8mF9eV/oKBKdoLhev60yeOsHOxF76wcPK8MGhmGxbd8kewy0pyhu0zeJJzX843QdWikpdPI1DdgfOEEp9XCGx48DHgBeUkodlKezRGoQlnx16hRg1apw+zvmyNs/2iVnx27TyK2H5lboIl+ncCMc9mCQL39xFWXuebFi1RGkOOUylW7BSoPzn/Pz5mwPO9bEufWQSEkWaEuJFTifyloXhVMeD/DGLA/n7h7l4r1jRb/IkRSndCR6Fcvpw5/cHPZggG37JXjihHDOVb0K6bU6AhdO8/PUF152qolz5+ER+lTn/vdajvOXnohN+8bDr6tceFwWSQuSVvM/pEG9Etx/ZGH7deVLKWO1rN7gvGd9vPydl10HxLnjsEjG6czpTu/OcXPE5ADD+id4bFx5WySsT+8LHUGiE5TOK5GEzxe6mDHbrqLYVM6+2m+x+6Zxqn0WT3zhJRLPXIGxXBQ6+VqFnVgd2cY+U4H9lFKdcraVSw3Ckq9i0jQl4a7Dw4wuUBnsbCSTcMpUP9O+8XDfERH+tBYsWF+XyHUqnWXBlE89XPGSn3gSLhthl0Aux1owqSyuMzj6oQBf/eri7wdFOW57GdWXNKXhmS89nDo1wKF/aOSuw8tTwOizBXbvrp9XGFwwPMafd8+td5ckkkn4ZIGLI/8dpC7WOph9OyX57ML1sydh06yEK17y4fPAPw6JcMAWmf+Hzl7iYuQ9QXpV2SXlO1LZWKMpF9nK2bek3L1K20q+8nkrTgA/trPPbEBfQReZqmItHAH+smeMoRvF+ctzfuYsc37lkI/TNa/5eP5rLxP2jRYt8SpmrPJFilP9uAlYvub/hS1fgPpxEzLubxhw1B/jvDO+np03TnD5S35G3R9gztLiXWFKiVU62Zx+WGKvW5y9xMVDR4dLmnhJjBPI9Cqm0yF/iHPZiChPf+nlhum5zYHrqFcyaRdPOuDeII0JePakMOfv2bHEq9znz+WCoRslqc+yNOmXVXK6k5c6VoYBx27fyBtn1LNRlyQnPBrgvGd8pLc6qqrys7Te7i3odVs8cmxYROJV7tdVJrSTc8rl1SUIo7ay2y58cWE9dpvh1iyslfO+0JJ83o7fAnZtZ5/dgDfzeG5NDsRixctvPW64e0wEr9ueOhV1+KtydXpwppd/vlvBCTvEOH3n4l2kFjNW+SLFKTp8DKvHTyLRc0MswyDRc0NH5fj7VNv/xCeNDvP9Ijd73BHirve8JIpQrVhKrNLJ5PTRzy4OuDdEQwyeOamBfQpQDrqjThKQ6FVsp/G7xTj6jzH+8ZaPKf9zPvewI16LVhsc+VCAq1/1s9+gOG+eVc+wmo6/BqWcv75Zpkxm214OyhWrTXtYvHhKA+N3i/LIp172vjPEzTO8bHtjiMA5Hob8PcSvtQYPHxMuecGkbEh5XaWjnZwjwcswoN9a8L7QknymHdZgF9x4GbhKKfVL2mN9gInAvsBuSqmfCmZafmpYj6YdNvHydx7GPRLg1J1iXDOysL2zX1dujv1PgL03S/Dvo8JrFk5q1j5+W2VwwfN+Xv3ew3YbJrjt0AgDe6xfPWNe+MbDGU/46VNtMeW40jYr1cikMQFHPRTgvbluHhsXZrdNipeMz5jt5qwn/dRFDa4ZaU91LXe/xkKTqSehhLUd0nhvjpsTp/hZETaA32NV4ba47RAdK826hdT3hUJPO3wAu5rhScBc0zRnmab5nmmas4C5wInAcuAB0zRnpH1M78hBaFrTo0dV0X/H/oPi/N+wGPe8X8Gr37efHTl1+mKhi5MfD7BV7yT3HFH8xKsUscqVdclpg04WDx0d5s7Dwvyw1MXwfwa5453CjYJJj9W/PvBy0mN+Bve211KUK/GSGCeQ6VUKJ68b7h8bZmCPJCdOCaAWt/8vN1evWByuesXHkZOD9Ki0eO30BsYNLWziJeX8jR4S5x+jIvSrTmJgr+ko9wVWSyTEaucBCQJeSE+8AGIJg+tel9PBVkKsWqKdnCPFa214X2hJPiNf+V5OWUqptXlso4b1cOQL7P4LI+8JsmClizfPqs+rWlY681cY7H9PkAo3vHxaA72q1q94russWm1w4fN2Ba5t+9mjYE4aua6NJJMw8VW7587+g+ziCk6anmrWLxasNNjv7iA+j91Go1DveXOWGZw2NcDnC+2muxP3j6YuujXrO70ur8SidQZuYLHoWhlNaDWadZmCN1leT6lBWPLl83mIOl2M1UF+XGqw150h/tA7wdMnZh+pas+pNgx/+leQX1a5eOHkBjbvVZqL8lLGyinrspNlwbNfebjkBR91Ubva2pm7xPIe4ZQUq6Z+IgtqDQJeCDcanDQsxrUjo2WvJicpTulI9Cq10xcLXYy6L4jZM8kzJzVkTdKdej35uYcLnvfjdcMtbVS4KwT6/DlHite2N4ZYUNv6DancFeDSkRKrdLSTcyR6SXIq9LRDjRAqitmttQWbdLe48aAIH87zcPNb2W/tt+UUi8OJUwL8uMzFg2PDJUu82vMqF+uyk2HYFd/eHt/APpvHue51HyPvDfLdovzecqTEqmluuX1RYxBuNPC4LP7YN1H2xAvkxKklEr1K7bR1X3uK9Re/uDj9CX/WKbntedVF4awn/ZzxZICteieYcWZ9URMvJ07lQKITyPG6bESUgLf5jeKA124+KwUpsUpHOzlHopdEp0w4GvlKNU7OGaXUQ/n8nFBqEDbyVQ7OfsrP1M89PHVCmF0GOF88bllNP+tl0ugwR2wj486EpjQ8/7WHi573sSpqcP4eMc7eLVbW5p658tsqgw/nuTn3GT/1GfoMSbqbrJHNfR94ufRFf15FjL5Y6OKUqQHmLTc4f88Y5+6e/2iyZt2naZR+Ya1B32o78ZK8DkajWZfo8LTD1DqvXDIOg7V/jVdLahCWfJWj63ldFPa5K8jqqMGbZzXQPdQ8FtmcbpxRwY0zfFw4PMpfhmdp1lJEJHaIX9+cltYbXDLNx3Nfe9mqd4LbR0cYvIGz0c9SxsqyYO4yO9n68CcPH/zkZt6KpmEti5aL2EHOOgqJrymQ6VVOp8tf9HHvBxX87cAIJw1r3mIjk1cyCfd84OXa13z0CFncdXiEHTcuXRsDff6cI9FLohPI9NJOzpHoJcmpreQrl/G5l1MfGiFEIqVPYip9cO8REfa/J8jZT/l55JgwrrTpVpmcHvvUw40zfBy5TSPn71l6ZyhPrNpjfXPqHrL415ERDvomzkXP+xhxZ5Bz94hxzm4x2pspUEyvRBK+XeRi5k/uVMLlZnGd/aLuGkyyQ/8EJw6LMax/ghMfDbAwQ0NXKf1EJL6mQKZXOZ0m7h/l55UGl73oY8POyWb94Fp6LakzOPspPzNme9h/UCO3HhKhS7C0vvr8OUeil0QnkOmlnZwj0UuiUyZyGfm6Sil1dfGVxFKDsJEvw7Dv0peDB2Z6uXian6v2i3DGLr/fuW3p9PaPbo6cHGDHmgRTjgu3e5FdLMoZq2ysz07L6u0Lz6e/9DJ4gwS3Hxphqz7ZR8EK6RWNw+cL3WuSrY9+drMqYidUfauTDKtJMKx/gmE1CQZ2Tza7uSC1n0gTEl9TINOr3E71MTjk/iCzFrt4/uQG/pB6/ad7vfWDmzOf9LMqYnD1/lGOL3AJeaeUO1aZkOgEMr0kOoFML+3kHIlekpwKNe1QJ1/Ckq9u3SpZtqw8U50sC06Y4ue17z28eEoD2/RLtnL6bpGLA+8N0q9zkmknN9DJXxbVVl5S0E7w0rceLnjex4oGg/G7xThvj8yjYB3xqovCxz+7mZka1fp0gZtI3L6CHdjj90RrWP8EG3Zp/29b8joKia8pkOklwWnRaoOR9wSJJWD8rjHueq+ChbUGfTpZDN4gwWuzvJg9E9wzJsIWDqfoFgMJsWqJRCeQ6SXRCWR6aSfnSPSS5KSTr8JQg7Dkq9ysDMPwO0K4XTD9zPpmydWi1Qb73x2kMQkvn9pAv846ZprMrGiAy1/y88TnXgb1svuCDemb/4Xm0npjTaI1c56br351kUgauAyLrXqnRrZqEuzQP9FqzaJGU2q+X+Ri37uDRBpp1Zdp1wFxHj4mrHvHafLCN2MqockTcS1ZQLJHP+rHTSA6fEy5tTSa9YJCrfnSCMPv9xKJNLa/Y5HoHIC7jwgz6r4gf3nOzz1jIgQCXpbWNnL0wwGWhw2m/Z+MxKvcscqEdrLpEoR/HhZh1JaN/OU5v72ecNcY5+8Zw+dp32v+CmPNWq2Z89zMWmLX+fF5LLbtl+Cc3WLs0D/B9hslqPQVzlufP+dI9JLitHmvJKEKi3Bj614Fc5e5RCReUmKVjkQnkOPlmzGVqtvPxojaxQfci+dTdfvZAGISMCmxSkc7OUeil0SnTOjkay3G4yl/Y6GhGyW5ZK8Y177u478/uFkRNvB7fMQS8J9jwm2u4yklEmLVEu3UnH02T/B2/3qufMnPrf/18fJ3Hg7espFH/leRmuJXwaV7R9mqb5IPU+u1Zv7kXtNItMpnsUP/BGOGRNmhJsGQvok1yVsx0OfPORK9JDktq8+8kGthbRkWeGVAUqyakOgEcrxCkyeuSbyaMKJhQpMnikm+pMQqHe3kHIleEp0yoZOvtZi6OhnNEnt3SuIyLFaE7Rd9JA5el0VtWMaFA8iJVTraqTWdA3D76Aijtmrk9CcC3DDDR1Np9wW1Bmc85V/zfY/KJDvWJDhjlxg71CTYoleypI2Oyx2rTEh0Aplekpz6VlssyJBoSamiKSlWTUh0AjleriULctpeDqTEKh3t5ByJXhKdMpFL8jXGNM0tc9jfUkodkauQxjnV1QFqa8vfz+Bvb/hIWs0vHBqTBte97hNTiEBKrNLRTtnZa7MEQa/FynDLbMqgSyDJy6c2sHE3qyyV35qQEqt0JDqBTC9JTpeNiGasonnZCBkXEpJi1YREJ5DjlezRD/fi+Rm3S0FKrNLRTs6R6CXRKRO5JF9bpD6cIuOW3TpMQ4OMfgbZpsZImTIDcmKVjnZqm18z9NMCWBk2GNC9/G8vkmLVhEQnkOklycm+SRURW0VTUqyakOgEcrzqx01otuYLwPIFqB83oYxWzZESq3S0k3Mkekl0yoTT5Gvjolpo8iKRkLGeSvqUGZATq3S0U9tIf11JilUTEp1Appc0p9FD4oweEsflMsRV1JUWK5DpBHK8mtZ1Sa52KCVW6Wgn50j0kuiUCUfJl1JqXrFFNLnTuXOQ5cvry60hfsoMyIlVOtqpbaS/riTFqgmJTiDTS6ITyPTSTs6R5BUdPobo8DF07RoS45SOpFg1oZ2cI9FLolMmHPX50gC6z1ebSG48q1l70a+rtRvdZ0ij0Wg06yMdbrKsAQQmX4GAl3BYVj8DiU4g00s7OUeil3Zqm5Z9hsBec7J6/CQRCZikWKUj0Us7OUeil0QnkOmlnZwj0UuSU1vJ19pREF+TEZdL3umT6AQyvbSTcyR6aae2aavPkAQkxSodiV7ayTkSvSQ6gUwv7eQciV4SnTKhR76cU4OwkS+NRqORSveR1RgZ/r9YhsHSl2rLYKTRaDQaTWnQI1/rKJ07B8ut0AqJTiDTSzs5R6KXdmqbbP2EpPQZkhSrdCR6aSfnSPSS6AQyvbSTcyR6SXTKhE6+1mLq6iLlVmiFRCeQ6aWdnCPRSzu1Tf24CVi+QLNtkvoMSYpVOhK9tJNzJHpJdAKZXtrJORK9JDplIpcmyxphSJwyKtEJZHppJ+dI9NJObSO9z5CkWKUj0Us7OUeil0QnkOmlnZwj0UuiUybKnnyZpjke2D71sRlgAAGlVNb01TTN0cCFwFZAGJgOXKyUmpNl/1OBM4GBQC3wAnCpUmpxAQ+l5HTqFGTFCln9DCQ6gUwv7eQciV7aqX2a+gx16RIS5QXyYtWERC/t5ByJXhKdQKaXdnKORC+JTpkoe8EN0zSbBOYB1UBn2ki+TNM8DbgLWAhMTf3MWKAeGKqUmtti/+uBi4BZwHNAP2AMMDe1/wqHqjXoghsajUaj0Wg0Go2mDaQX3BgJ9FBK1QBftLWjaZo9gJuA34BtlVLnKaVOSj1HN+DmFvtvCVwAfAVso5S6UCl1FHAisClwRYGPpaQEgxXlVmiFRCeQ6aWdnCPRSzs5R6KXNCffjKl0HTeY7iOr6TpuML4ZU8uttAZpsQKZTiDTS6ITyPTSTs6R6CXRKRNlT76UUi8rpZY63H0MEAJuS58yqJR6C3gDOMg0ze7/396Zx9lRVvn76XT2DQgkqIA0oB4QFUcFZZRFlh+gIKIYBIWgIC5ABkcRBIUE+Y27bA46IyBBRSfqgIKKChg29wUUhzkIArLJLoEkJCTp+ePUTW5uV3eqSafqdPg+n08+1amqe+9Tde99b516z3vetv1nEMf4b+6+sG3/i4iesMPMrPHUSyGEEM9eWhNSdz94N129vXQ/eDeTzj42VQAmhBBiaGg8+BokOxXLq0q2XQl0A/9ccf+riN6yFw+ZXc0sXLikaYU+ZHSCnF5yqk5GLzlVJ6NXJqfsE1JnOlctMjpBTq+MTpDTS07VyeiV0amM4RZ8vaBY3l6y7faOfVp/P+HuD1Xcf1ixwQYTmlboQ0YnyOklp+pk9JJTdTJ6ZXIa8dA9g1pfN5nOVYuMTpDTK6MT5PSSU3UyemV0KmO4BV+Ti+X8km2tdet17F+2b3/7r5Zx40YB8QZ3d3cxcuSIFZO6TZgwZsX2KVMmMGJEF6NGdbPeejHXzcSJYxg7NrZvuOFEurpg9OhuJk+O7ZMmjWXMmMiCnDp1EgBjxoxk0qSxcTCTxzF6dDddXfH4+fMXMnbsKCZOHBMHst44Ro3qZsSILqZMmbDCd8KE2L7++uMZOXIE3d1dKz6g48ePXpEjOxTHNH/+wjU6JmCtHNOCBU819j71d0xPPLGosfepv2OaP39ho+9T5zFNuv67TJmxLd07jmTKjG0Zf+13an+f+jsm6G3sfervmJYvX97I+7S6Y1q8eElj71N/x/T000sbe586j2mgCakztBHz5y9M05a3jmn+/IVp2vL2Y1qy5OkUbXn7MT311JLG2/KyY2oVfGu6LW8/pq4uGnuf+jum7u6uRt+nzmMac/VcNnrXS+jecSQbztiW9X95ae3vU3/H9OSTixptyzuPqT8ar3bYjpnNA3ahn2qHZnYrUS5+lLsv7di2J/AT4DR3P7VYtwR40N37/LKZ2XuA/wTe7e5fraDXQ7JqhyNHjmDp0uVNa6xCRifI6SWngWmNg2lPx+odM44nZp6TYq6oTOeqRUYnyOmVyUmf9cGT0QlyemV0gpxechoYtVXVyV7tcDC0eqsml2xrrXu8Y/+yffvbf1gxceLYphX6kNEJcnrJaWCyj4PJdK5aZHSCnF6ZnBbvNp0nZp7Dsmmb0dvVxbJpm6W5mIFc56pFRifI6ZXRCXJ6yWlg9Ls8NAy3Sn+3Aa8EtgIe7di2Vds+7fu/2symloz7Ktt/WPGPfyxc/U41k9EJcnrJaWCyj4PJdK5aZHSCnF7ZnFoTUmck27mCnE6Q0yujE+T0ktPA6Hd5aBhuPV/XFcvdS7btASwDfl5x/92BR4D/GTK7mlk59iQPGZ0gp5ecBmagcTAZyHSuWmR0gpxeGZ0gp5ecqpPRK6MT5PSS08Dod3loGG7B11xgATDTzKa1VprZLkTw9f2OOcPmAMuBk8xsfNv+hwEvAi7qHDs2nFi+PEdeazsZnSCnl5wGZsGMU+kdM26Vdb1jxrFgxqkNGa1KpnPVIqMT5PTK6AQ5veRUnYxeGZ0gp5ecBka/y0ND4wU3zOxEYOviv3sDGwNfJ3qxAD7cHlCZ2fuBc4F7iWBsMnAIEZTt4O53dDz/p4GPEJMqfw/YBDgIuKPY/7GKqj0kK7ghxLrOmKvnMmHObEY8dA/Lp27Kghmnpk3NEkIIIdZ19LtcjYEKbmQIvuYRFQ77Ywt3v7PjMQcSAdVLgKeICZNPdPc+83+ZWRdwFHAMUSnxceBy4KPu/uAgVHtIFnxNmTKBRx9d0LTGKmR0gpxecqpORi85VSejV0YnyOklp+pk9MroBDm95FSdjF6ZnFIHX8OIHpIFXyNGdKVxaZHRCXJ6yak6Gb3kVJ2MXhmdIKeXnKqT0SujE+T0klN1MnplclqXSs2LNrq78719GZ0gp5ecqpPRS07VyeiV0QlyesmpOhm9MjpBTi85VSejV0anMoaHpSilNat3JjI6QU4vOVUno5ecqpPRK6MT5PSSU3UyemV0gpxecqpORq+MTmUo7bA6PSRLOxRCCCGEEELkQmmH6ygTJ+abzyCjE+T0klN1MnrJqToZvTI6QU4vOVUno1dGJ8jpJafqZPTK6FSGgq9hzNKl+eYzyOgEOb3kVJ2MXnKqTkavjE6Q00tO1cnoldEJcnrJqToZvTI6laG0w+r0oLRDIYQQQgghxAAo7XAdpXhTU5HRCXJ6yak6Gb3kVJ2MXhmdIKeXnKqT0SujE+T0klN1MnpldCpDPV/V6SFZz1dXF2R7+zI6QU4vOVUno5ecqpPRK6MT5PSSU3UyemV0gpxecqpORq9MTur5WkcZNaq7aYU+ZHSCnF5yqk5GLzlVJ6NXRifI6SWn6mT0yugEOb3kVJ2MXhmdylDwNYwZOzbffAYZnSCnl5yqk9FLTtXJ6JXRCXJ6yak6Gb0yOkFOLzlVJ6NXRqcylHZYnR6SpR0KIYQQQgghcqG0w3WUSZPGNq3Qh4xOkNNLTtXJ6CWn6mT0yugEOb3kVJ2MXhmdIKeXnKqT0SujUxkKvoYxS5YsbVqhDxmdIKeXnKqT0UtO1cnoldEJcnrJqToZvTI6QU4vOVUno1dGpzIUfA1jFi/O8yEbc/VcpszYlkm7T2DKjG0Zc/XcppVWIdO5aiGn6mT0klN1MnpldIKcXnKqTkavjE6Q00tO1cnoldGpDAVfw5ipUyc1rQBE4DXp7GPpfvBuunp76X7wbiadfWyqACzLuWpHTtXJ6CWn6mT0yugEOb3kVJ2MXhmdIKeXnKqT0SujUxkquFGdHlRwo5QpM7al+8G7+6xfNm0zHp3z5waMhBBCCCGEaAYV3FhHGTNmZNMKAIx46J5BrW+CLOeqHTlVJ6OXnKqT0SujE+T0klN1MnpldIKcXnKqTkavjE5lKPgaxoweneNDtnzqpoNa3wRZzlU7cqpORi85VSejV0YnyOklp+pk9MroBDm95FSdjF4ZncpQ2mF1elDaYSmtMV9dixetWNc7ZhxPzDyHxbtNb9BMCCGEEEKIelHa4TrK5MnjmlYAYPFu03li5jksm7YZvV1dLJu2WbrAK8u5akdO1cnoJafqZPTK6AS5vFpVbDd6w3rpqthmOk/tZPTK6AQ5veRUnYxeGZ3KGB79c6KUp55a0rTCChbvNp3Fu01n9OhulixZ1rROHzKdqxZyqk5GLzlVJ6NXRifI49WZ0dCqYgukuLGW5Tx1ktEroxPk9JJTdTJ6ZXQqQ2mH1ekhWdphVxdke/syOkFOLzlVJ6OXnKqT0SujE+Txyl7FNst56iSjV0YnyOklp+pk9MrkpLTDdZQpUyY2rdCHjE6Q00tO1cnoJafqZPTK6AR5vLJXsc1ynjrJ6JXRCXJ6yak6Gb0yOpWhnq/q9JCs50sIIYRYG2Tv+RJCiMyo52sdZezYUU0r9CGjE+T0klN1MnrJqToZvTI6QR6vBTNOpXfMqoPXe8eMY8GMUxsyWpUs56mTjF4ZnSCnl5yqk9Ero1MZCr6GMSNH5nv7MjpBTi85VSejVyanVlW6ibuNT1eVDnKdqxYZnSCPV/YqtlnOUycZvTI6QU4vOVUno1dGpzKUdlidHpR2KIRIhubZE0IIIXKhtMN1lPXWyzefQUYnyOklp+pk9MriNGHO7FUCL4CuxYuYMGd2Q0Z9yXKu2snoBDm95FSdjF4ZnSCnl5yqk9Ero1MZCr6GMQsX5pvPIKMT5PSSU3UyemVxyl6VDvKcq3YyOkFOLzlVJ6NXRifI6SWn6mT0yuhUhoKvYcyyZcubVuhDRifI6SWn6mT0yuK0fOqmg1rfBFnOVTsZnSCnl5yqk9EroxPk9JJTdTJ6ZXQqQ8HXMGb99cc3rdCHjE6Q00tO1cnolcUpe1U6yHOu2snoBDm95FSdjF4ZnSCnl5yqk9Ero1MZKrhRnR5UcEMIkZAxV89lwpzZjHjoHpZP3ZQFM05VsQ0hhBCiIVRwYx1l3Lh88xlkdIKcXnKqTkavTE6Ld5vOo3P+zIKfLeTROX9OF3hlOlctMjpBTi85VSejV0YnyOklp+pk9MroVIaCr2HMiBH53r6MTpDTS07Vyeglp+pk9MroBDm95FSdjF4ZnSCnl5yqk9Ero1MZSjusTg9KOxRCCCGEEEIMgNIO11EyDizM6AQ5veRUnYxecqpORq+MTpDTS07VyeiV0QlyesmpOhm9MjqVoeBrGPPkk081rdCHjE6Q00tO1cnoJafqZPTK6AQ5veRUnYxeGZ0gp5ecqpPRK6NTGQq+7X2A8gAAGmBJREFUhjEZU0YzOkFOLzlVJ6OXnKqT0SujE+T0klN1MnpldIKcXnKqTkavjE5lKPgaxkyenK97NaMT5PSSU3UyesmpOhm9MjpBTi85VSejV0YnyOklp+pk9MroVIYKblSnBxXcEEIIIYQQQgzAQAU3RjYhNEzphjiZWRg3bhSLFj3dtMYqZHSCnF5yqk5GLzlVJ6NXRifI6SWn6mT0yugEOb3kVJ2MXpmc2uKF7s5t6vmqzuuA65qWEEIIIYQQQgwLdgKub1+h4Ks6Y4DtgfuBZQ27CCGEEEIIIXLSDTwX+A2wuH2Dgi8hhBBCCCGEqAFVOxRCCCGEEEKIGlDwJYQQQgghhBA1oOBLCCGEEEIIIWpAwZcQQgghhBBC1ICCLyGEEEIIIYSoAQVfQgghhBBCCFEDCr6EEEIIIYQQogZGNi0gBoeZ7QqcCryKmOz5F8BJ7v6HhnxmEpNPbw+8COgCxrn7U034FE6bAtOBNwJbA1OBB4CfAp9w9zsacJoCzAZeDfQA6wH3Ab8DPunuv6vbqT/M7BLgzcAD7v6chhwGmoBwH3e/ojaZNsxsJHA0cCjx2VoG/BW41N1nN+Azi2gPBmJnd7+uBp0VmNkY4H3ADGBLYDlwO3ABcJ67P12nT+E0EfgYcCCwGfAY8EPgZHe/v4bXH3RbaWZvBT4CvBRYBFwFnOjuf63byczGAx8Adij272EttBGDdHoR0dbvDbwQWB+4B7gcON3dH2rIawvgo8S52hSYCNwN3AD8m7vfWrdTyWO7gV8S1xK/cvfXDIXTYL3MrAcY6Dd5G3f/3zqd2h4zHvgw8RnbEngKuBWY4+5fqtPJzC4k2tOBeL67312nV7H/JOBfibZ1C2AhcZ7OBb7p7ms8ofAzcJoGzAL2AzYG/g58F5jl7o+vqc+aouBrGGFmbwS+DzwOzClWHwLcYGa7uPtvGtA6q1jeVXit34BDJ8cAJwC3AJcRXq8C3gUcYGY7ufvNNTtNAw4Hfg78tnDaHNi/cHq7u3+7Zqc+mNl04E3Ej0zT3AVcWLL+tpo9gBU/xD8AdgWuI35YRhEXfW8hguu6mdfP+rHEd+BxoNZ2wcy6iIvfPYAbiYBrJPAG4pztAby1ZqfxwDXAK4jv3/eIi+LDgD3MbAd3//ta1hhUW2lm7wO+BNwLfJm4YXMw8PrCdyhuIg3GaRrwWaAX+Atrr40YjNNpwEHA74G5wGJgJ2Am0a6+xt3va8DLiM/4DURbsYC4YDwEOMjM9nD3G2p26uRDwDZD4FDGM/G6Cbi0ZP3DTTgVF+9XAS8Gfky0aeOJc7Yf8d2s0+lS4M6S9c8B3gvcOhSB12C9zGwccV3zEuKzfgUwATgA+AbwSuKzVqfTxsCviGusecB/Ed/J44Bdzex17r5gCJyeMQq+hglmNpr4AX4K2NHdvVj/RaL35MvEh7xu3gD8xt0fNrN5wC4NOHTyK+C17v7z9pVm9kHgC8DniDuldXIbsIG7L+1w2hr4A/ApoNHgy8w2BM4BvkgEhWOb9AHudPdZDTu08wVgZ+Agd5/bvqHoEasdd59HSQBmZgcVf85toBd6FyLA+gGwX+uup5kdT3w332JmWw/F3exBMJMIvL4BHObuywunNxSen2b1d5XXlMptpZlNJdqpvwOvcPcHi/VfA64GPk8E/LU5ERfBewC/dffHzexO1k4bMRinHxE9XKvcTDOzs4j3/BSiB7Zur6uBjTrv+BeZKz8jgsbda3Zq93gRcbPoJKJdG2qeideNa7m9H6zTRURv1+vd/dr2DUPY3ld2cvdLKQlOzeyE4s85ndvq8CJufrwEONfdj27z+hjwJ+BYM5vl7k/U6DSbCLw+6e4ntTl9APh3IptgdRkjaxWN+Ro+7Encqf1aK/ACKC5gvgG8wsz+qW4pd/+Ruw/Vnakhwd0v6Qy8Cs4iusNfV7MS7r60M/Aq1v8v0UPXU/QYNMlZxJ3jkxv2SIeZbQ68B7ioM/CCeH/rtxqQViBxYQOv3VMsr2i/+HT3xcSdZICNanbar1ie3gq8CqcfAr8meiMmrU2BQbaV04m7x2e1Aq/iOeYBVwJvMrM1PoeDcXL3J939qrWdsjNIpzn9ZDF8slgOWVs/SK8lZalWxfv3GHFRX6tTi+J35jzgZuDsofAYCq+1zWCczGwnYC/gM52BV/FcQ9LeD9F5mkGkdV80BErAoL16iuWPOp7jUSKtdRTRa1+n037EOTm9Y/2XiCEoRzR9vaWer+HDTsXyqpJtVxIXhjsRvSiif5YSaTMpKPLdXwTcMhR50Wvg8UbgHcC+7v6kmTWl0s4GRerVFOB+4MohTKsYLG8hblZ9t+iV2J8IIO4Efuju8xvy6oOZPQf4f8Bf+rkJsba5pVjuTfSitrzGALsRF59/rNlpWrG8q2TbncTYnNcQ40IzsLr2fk/gn4k0dNGX1pjCVDdFzGx7YAMiTaspPgDsCGzv7suStPUAm5jZscT4uL8BPxnKMXuD5MBi+V0zez6wLzAJcOKmUoa0/NbnaRvit/GehjRa7f0+RGomsGKc+2uIrJ97a3aaBjzs7gvbV7p7r5ndRbT3LyDSpxtBwdfw4QXF8vaSbbd37CPK2R+YDFzSlICZPQ84CugmBv2/mQgGj23QaTKRtjrX3X/QlEcJL2PVvPqlZnYGcEIDgWorpdeInubJbdseMbOD3L3sQrkJ3kl8voYyDaUy7v4rM7sIOMzMfk+kWY0kCuCMB97WQLD6CNE+bg50pjv2FMsXkif4Unu/ZhxWLK9uUsLMXkz0Yo4CtiLG0z4AnNiQz+ZEivsX3P3GJhwGYI/iX4tFZnaSu5/ZgEurvd+FSMsc3bbtLjPb391vql+rD01mOLT4DvE9+4CZvZTo7ZpIjPmaD0xv4Pf6EWCqmY1vD8CK3q7nF/99IQ0GX0o7HD60LvbKLlpa69a4a3ddpRiAeQ6RVndKgyrPI3KNP0Y0nEuAt7j7zxp0+iyR4jSzQYdOPktUNVqf6GHaj7joPJ5mLlxaKV6fJsbm9QAbEneRJwL/XQTWGWiloXytQYfDiZSPlxNVsGYS5+xiouBF3fykWJ7Unm5iZnsTd0EhV/up9v4ZUoyjnU1cgH2mYZ0XE+39ScTYmPuBNzRQ8KnFfxDB36yGXr+MhYTPdkTv0nOJLIzHgDPM7OAGnFrt/ZnEZ2iTwusU4uL9sqLQRGMUdQAOJtqDxm4ou/syotfrAqLH/njg/UT7dBEre8bq5CdEfHNSx/qjiAIl0HD7qZ4vsc5jZhOI6mabAO9p8IcPd/8t0FU0nFsRVYB+ZGbHuPuX6/YpBoC/hzgvD9T9+v3h7h/pWHW5md1IDOA90cw+5/WWK2/dqLqJOFetO3lfKtJSTgSOAD5Ro1MfzOwVxODnq9z9bw05dBM/uvsSFUYvJ8oC70+MK2xVF1xSo9YZxIXKocDWZnYtMYb2rcRn6qVEwCqGMUXK7eVEIZDpNVSwHBB3/w7R3o8j0sNOAa4vqtvWmjJqZjOIcUx7uvuiOl97IIoxje2VYp8ELjazW4jxmB8HvlmzVqu9v8zdP962/hNFb+bbidTEJm9w7Uuk5J/fmV5XJxZTeFxC3Gg4gMh0GE9kYHwSeC1RLKNOTiECwpPN7J+JonRGnLObid/IRtt79XwNH1p3OyeXbGuta3zugmwUP3qXEfNrHe/u5zWsBKwYkH2Lux9JjOE408w2qdOhqNh0HnAtcdcqNUVO+0+Jz/vaKpHcH63v1uUlKRSXFcsmqo120kpDaSTlsOBIoqT2SUVBhEfc/WF3P5+Vd7gPG+gJhhp3f4wYI/Vlovd5JvBPRLpv61w1Nb6kDLX3g6So1vpToof1UG9oLsAy3H2Ru/+euGD/K3B+nT0nxfibM4iCQVfW9bprgsfcpX8AtilS4+uk9d26rGRblvY+Q1sPUaBrD+Aod7/U3R939/vd/bNEe7uPme0x8FMMLe5+J5HR8A0i0JpJ9Fi+jQgOoeH2Xj1fw4fW3EZbEXOatLNVxz6CFQP8LwFeD5zq7p9rWKk/ribuSO5AvekDE4nPzlbA8rKB1xaTHT/u7hnmb4OVc75MqPl1W5Oill3wttY1nYYyigh6niAmk2yKvYrlNSXbWuteXpPLCorB++8v/q3AzM4v/sxUrOg24uJuK+DRjm1q7zswsw2IwGtb4N3u/l8NK5Xi7kuLXtf3E5O01/WZez5R6OMwMyu78fHqoq2/yd1r/24OQHt7X+c40VuJuUFTtvdF0ad9gNvd/bqmPApW194fTbT3tQb9HvMgvrNzfVFuvpeYg7IxFHwNH64jJk3dnb7zQe3Rto9gxYXoXFaWiz2tYaWBeG6xrLsy12Lg/H62HUQUbbiYyMnPwquKZVnVurXJPCJ/vKzHrbWukTS/Nt5AjFX4apNpKKwcnF5WCr21rs6Uw34pJl/ejwhkMhUguI74Du5O30my9wCW0WzFvDQUUwRcQfRkHu3uFzZrtFqaaO8fof+2/giiF+D7NN+GraD4Dd+O+P2pu5diHnEjK2t7fwhRxGXIysuvAe3t/ZMd27K1988jxqVdXZTCbwwFX8OHK4F7gEPN7IzWXF/F4OJ3AH8ouumf9RRjTr5OVJY6x91PWM1D1jpmti1R+ntJx/qXAe8mfmCur9OpyPs/smxbkSYwtkiLrJUip/62knP1IaIIx/Xufl/NWj8jKiO9w8y+4O63FE4TWVkApMneJshR+QrgF0RlwxPM7IbW2LyiJ7o1lq/sLulaxcwmt1dZLNJuvwhMBY5rcqqHEuYSxV1mmtkFvnKS5dYE1pdmm0epCYrg+QdE1sCH3P3chpUAMLPtgD+1zylXrN+TGHdyL/DnunyKKTr6a+uPAP7aRFtfvP7LgJvbz1XxG/5ZIkX460M1r9Yg+Dbx/Tum+P7dX3hNI1LYeoH/rtmpnRmFQ4bg6xdEj/PJZnZUqx0tUkVbRbxqbe+LwL27fUqAoq34KhH3zKrTp4yu3t5MvzdiIMxsX6JwxONEjwTEHZBxwC7u/usGnE4k0icg5vXZmAh8lhXrPlz3RYKZzSYGXD4MnEvJvF7uPqtmpzOJLvDriXmFlhEDQPcmihEc6e5frdNpIMzsTiL4es5qdl0br30mcUPhWuLuYjcxL82riDugu7SCn5q9diaqKC0hAq0niCBjS+IC4dC6ndrcNgTuI27QvKDhOeM2ICoabkmk7/yYGF+8N5EydyWwV+eFaQ1e84l5s24j7tbuQ5QbPsvdj6vh9QfVVprZ+4n2614iGJtMtPcLgB2KtJq6nT7HyrvZBxLfzRUpfu5+eJ1OZjaHGD94e7FPJ/8YqlLlg/S6lLhR9AuivR9FjD3Zjcg42N/df1yn0wDP0Qv8yt1fs6Y+z8SrOFevJHpy/0akw+9C9DDdBrxuKIpBPYPP+tuJ66yHgEuJAg1vJqrlnd5RiKMWp+IxLyXmSZzn7q9fU4c19TKzLYje+Q2JNNp5RJrom4hzdYG7H1Gz06ZEYY0riO/f5MJnE+Bf3f2MNfVZU9TzNYxw98uLHolTiVLOy4EbgJOLwbxNsDfRULbTnmc7i5V523WxebHciP7Lys+qR2UF3yFy7nckUolGA38nLqrObCJwTswVxBiFVxCfr24izfAs4NOtu5B14+7XmtlricpcBxAV1W4F/oW2yYQb4mDiM3VR0z047v6Ymb2aGIi9L/Be4gbIrcW6z9UdeBVcTFz87kVMwvsH4KPuXleP5aDaSnf/kpk9RPQWvg94iujlOXEoAq9n4kQEXJuzKjPa/j68ZqeWy1bE72IndxHlwoeCwXidRwRZ2xPpwCOIGyPnAZ9398655upwqpPBeH2baLt2JC6Qe4lg+nSirRiqwjKD/f59y8weJtqsQ4jfoZuJwl1lgf5adyqoI8Ohspe732FmryKmz9kTOIZoX/8HOI2Y3qBWJ6KD4jIixfDNRGbRL4lCPE1O67MC9XwJIYQQQgghRA2o1LwQQgghhBBC1ICCLyGEEEIIIYSoAQVfQgghhBBCCFEDCr6EEEIIIYQQogYUfAkhhBBCCCFEDSj4EkIIIYQQQogaUPAlhBBCCCGEEDWgSZaFEEKIGjCzDYBdgecCU4t/n3H3vzXpJYQQoj4UfAkhhBBrETPbEDgbOBAY3bZpOfBL4OtNeAkhhKifrt7e3qYdhBBCJMPMeoA7gO+6+4H97HMMcA7wLne/sD674YOZTQB+AbwUOA84E7jF3Zc3KiaEEKIR1PMlhBBCrD0+TgReM939nKZlhBBCNIsKbgghhBBrATPrBo4ArlbgJYQQAtTzJYQQYi1gZm8DjgNeBnQBNwNnu/vFHfsdDny1+O9B7j63Y/srgd8W/53t7rM6tm8PnAS8DpgM3Al8jShksaTkdd4FLAI+ChjwCHBR8dyLKx7baOBDwDuBrYCFwM+B09z91227vgDYCPilmf078CZgY+Ah4IfAqe5+X9vzLgW6O15uC3e/s4JTN/Be4N3ANsR4st8Cp7v7VR37zgN2cfeutnVdxNizQ4APuvuZZjYLOHV1r03xvhTn5X3FcW5DFBR5EPgxcIq731vhuYQQYp1GPV9CCCGGFDP7KDCXCEwuJMY6bQJ8w8xm9/OwZcB7StYfVWwre50DiaDn9UQwcw4RTH0C+E4RUHQyHZgD3AicVezf8l0tZjYC+B7wb4XXWcAlhcN1ZrZX2+5Ti+UJwAeIAPTzRFB0JPBrM9u0bf/TgNnFv5uq+BROXYX/vwOjgPOBi4kA6CdmNr3C03yRCLxmu/uZxbp5bT6zi+OGOH/t6+cV66cAXyj+/h4xvu1mIuD9uZlNqXpMQgixrqKeLyGEEAPx4qIHpIwdOleY2QuJ4OcuYHt3f6hYPwv4FfAxM/uOu/+p46E/BPY1sy3d/a/FYyYCBwM/IHpT2l9nKtGTdQfwOnd/sG3bWcBM4G30Dar2AXZ192uKfU8GfgS8ycz2d/fvMTCHA3sDlwEHuPuy4nnOKY7vAjPrcfenWfkb2w2c4O6faXP8ABEsnVF44u6ntW3vAbZbjUuL9wJvIYKdD7WKeZjZScBvgHPN7DJ3X1T2YDM7nQgOz27vWXT3eawMrFq9h/sDFxbbOnkM2Mzd7+94/oOJYPBo4rMhhBDPWtTzJYQQYiC2IVLPyv7tU7L/IUSw8elW4AXg7v8A/j/xu3NoyeMuI1LUjmxbdzBRmv2ikv0PAyYCH2kPvAo+BvQCB5U87setwKvwWgacUvz3nSX7d9JyP6EVeBXPcyPwDeB5wJ4dj7mHCLLa+TJwG3CAmU2q8LoDcTTwMHB8exVFd3+E6GnbENij7IFm9kHgZOIcH7cmEu6+uDPwKvgW8Diw+5o8vxBCrAuo50sIIcRAVCk1306rt+Ya+nJNxz7tPE0xJsvMTnH3pUTK4X8TqYGdtHrddjazl5dsX0SM6erk+pJ1vwaWEuPTVsd2wEPufkvJtmuIFLvtiJ68Fr8oesJW4O7Lzex6YlzYS4hy9GUcZ2b/IMZw/R34o7v/srXRzMYD2xJj3T5m1ueQX9jalQhwV2Bm7yKCs17gk+6+xnPPmNmrgY8AOxJpl+3XGc9d0+cXQojhjoIvIYQQQ8nkYvlAybYHOvbp5CvE+Kj9zOwO4FXA8f3s2xo/9MEBXCaUrHuoc0URCD08gFc7k4GywAv6Ht/SjvWr27+Mf+lcYWbXAvsXvYkbEAVNtmDg4hhl5+IrxPiz7YD/MLNd1yQAM7NdgJ8Sx30FcDuwoNh8HDDmmT63EEKsKyj4EkIIMZTML5Yb07fHauOOfVbB3f9qZlcThTfuAv7i7vPMbNcBXqdSNcA2pnauKIpobEiMH1sd81l5HJ10Ht9jHetXt38ZW7j7nYVjD1Ho4yCid+mktsde4+67Dmjel5uIdMRjiJTQY4GzB/kc7ZxAFPzYuaN3rov+g2ghhHhWoTFfQgghhpJWlb6dS7btVCxvHODx/wnsRYyt+soA+7VKur96UHZRkr6THYig4Y8VHn8TMNXMti7Z1nl8txLpjzua2aj2HYtg6rVExcSbV/ei7r68KETy4WLVK4r1TwD/C7y0SEEcDHu7+3zgM8DvgE+a2ZaDfI52tgQeaQ+8CrYDBusmhBDrJAq+hBBCDCUXEwHFCWa2YWulma1HFMJYTswn1R+XEml9jxBl6vvjQiKl7dNmtkXnRjObZmbblDxuLzPbuW2/bqLEO0TBjNXxtWL5qSKAaj3Py4iA8T7gSoBinNe3gU2JXqV23kOMx7qkCKCq8pJi+Vjbui8SaZhnFXNtrYKZ7VAWmLUKohTj6w4nsmEu6KdEfxXuBqZY28CzomLlmf0/RAghnl0o7VAIIcSQ4e5/MbNTiDS2P5nZt4mA663AZsRExJ1l5tsfv4SVAcZAr/OAmR0KfBO4xcx+QIwxmkwENTsDH6fv+KwfEXNffYsoYLEPUWjj++5+aYVDvJAoDb8/8Dsz+zExkfLbi+1HdBTX+CiwG/B5M9ud6Dl7MVE6/14GHrMGKwtujAA2J85jLysnpgY4l+h1OxLY3cx+Roxt2xR4JbA1UexiYX8v4u43m9kniFLwRxMB3WD5MpHGeIOZ/RcxFm3vwuW+gR4ohBDPFtTzJYQQYkhx99a4pDuJgOAo4H7gne4+UFGIwb7OJcD2RO/Sa4iiDgcQJeg/QfTCdTIXmAG8vNh/I+BTlJelL3vN5UTgdTIwlgie3kpUOtzJ3a/o2P8+IjXyvOI1jy+czwN2cPd7VvOS/0IU0jiZKGF/PbCnu/+k7TV6ibL8hxNl7Q8sju21ROrjDKIU/er4FPB7olevT2/i6nD377Ky9+/dxHn6YeH99AAPFUKIZw1dvb1rXFlWCCGESE0xQfBXgXe5+4XN2gghhHi2op4vIYQQQgghhKgBBV9CCCGEEEIIUQMKvoQQQgghhBCiBjTmSwghhBBCCCFqQD1fQgghhBBCCFEDCr6EEEIIIYQQogYUfAkhhBBCCCFEDSj4EkIIIYQQQogaUPAlhBBCCCGEEDWg4EsIIYQQQgghauD/ALyflfOZAcJgAAAAAElFTkSuQmCC\n",
         "text/plain": "<Figure size 1008x360 with 1 Axes>"
        },
        "metadata": {
         "needs_background": "light"
        },
        "output_type": "display_data"
       }
      ]
     }
    },
    "daf8575c20ba40bfaed769cdbd392d0f": {
     "model_module": "@jupyter-widgets/base",
     "model_module_version": "1.2.0",
     "model_name": "LayoutModel",
     "state": {
      "_model_module": "@jupyter-widgets/base",
      "_model_module_version": "1.2.0",
      "_model_name": "LayoutModel",
      "_view_count": null,
      "_view_module": "@jupyter-widgets/base",
      "_view_module_version": "1.2.0",
      "_view_name": "LayoutView",
      "align_content": null,
      "align_items": null,
      "align_self": null,
      "border": null,
      "bottom": null,
      "display": null,
      "flex": null,
      "flex_flow": null,
      "grid_area": null,
      "grid_auto_columns": null,
      "grid_auto_flow": null,
      "grid_auto_rows": null,
      "grid_column": null,
      "grid_gap": null,
      "grid_row": null,
      "grid_template_areas": null,
      "grid_template_columns": null,
      "grid_template_rows": null,
      "height": null,
      "justify_content": null,
      "justify_items": null,
      "left": null,
      "margin": null,
      "max_height": null,
      "max_width": null,
      "min_height": null,
      "min_width": null,
      "object_fit": null,
      "object_position": null,
      "order": null,
      "overflow": null,
      "overflow_x": null,
      "overflow_y": null,
      "padding": null,
      "right": null,
      "top": null,
      "visibility": null,
      "width": null
     }
    },
    "f06304dd225042848a7ce8093d60bb24": {
     "model_module": "@jupyter-widgets/controls",
     "model_module_version": "1.5.0",
     "model_name": "FloatSliderModel",
     "state": {
      "_dom_classes": [],
      "_model_module": "@jupyter-widgets/controls",
      "_model_module_version": "1.5.0",
      "_model_name": "FloatSliderModel",
      "_view_count": null,
      "_view_module": "@jupyter-widgets/controls",
      "_view_module_version": "1.5.0",
      "_view_name": "FloatSliderView",
      "continuous_update": true,
      "description": "alpha",
      "description_tooltip": null,
      "disabled": false,
      "layout": "IPY_MODEL_daf8575c20ba40bfaed769cdbd392d0f",
      "max": 10,
      "min": 0.0001,
      "orientation": "horizontal",
      "readout": true,
      "readout_format": ".2f",
      "step": 0.01,
      "style": "IPY_MODEL_a34284c0707f44809aac12a99182cc36",
      "value": 4.0601
     }
    },
    "f92f093efca14ed5902aee6a75deeb36": {
     "model_module": "@jupyter-widgets/output",
     "model_module_version": "1.0.0",
     "model_name": "OutputModel",
     "state": {
      "_dom_classes": [],
      "_model_module": "@jupyter-widgets/output",
      "_model_module_version": "1.0.0",
      "_model_name": "OutputModel",
      "_view_count": null,
      "_view_module": "@jupyter-widgets/output",
      "_view_module_version": "1.0.0",
      "_view_name": "OutputView",
      "layout": "IPY_MODEL_0ffcd4e735f5496f9ea937601ee85853",
      "msg_id": "",
      "outputs": [
       {
        "data": {
         "image/png": "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\n",
         "text/plain": "<Figure size 1008x360 with 1 Axes>"
        },
        "metadata": {
         "needs_background": "light"
        },
        "output_type": "display_data"
       }
      ]
     }
    }
   }
  }
 },
 "nbformat": 4,
 "nbformat_minor": 1
}
