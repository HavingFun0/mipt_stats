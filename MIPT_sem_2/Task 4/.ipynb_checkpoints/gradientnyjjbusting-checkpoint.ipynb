{
 "cells": [
  {
   "cell_type": "markdown",
   "metadata": {},
   "source": [
    "# Градиентный бустинг"
   ]
  },
  {
   "cell_type": "markdown",
   "metadata": {},
   "source": [
    "Бустинг &mdash; один из самых широко применяемых видов ансамблей моделей. В этом ноутбуке будет разобран самый простой вариант бустинга над деревьями, реализованный в `sklearn`. Для задач регрессии и классификации реализованы, соответственно, классы `sklearn.ensemble.GradientBoostingRegressor` и `sklearn.ensemble.GradientBoostingClassifier`."
   ]
  },
  {
   "cell_type": "markdown",
   "metadata": {},
   "source": [
    "## 1. Основные параметры градиентного бустинга.\n",
    "\n",
    "* `learning rate` &mdash; размер шага метода оптимизации (стандартное значение=0.1);\n",
    "* `n_estimators` &mdash; количество деревьев, над которыми будет выполняться бустинг (стандартное значение=100);\n",
    "* `subsample` &mdash; доля выборки, на которой будут обучаться базовые модели, для каждой базовой модели &mdash; своя подвыборка (стандартное значение=1.0). Уменьшение этого параметра позволит сделать деревья менее переобученными, но более смещёнными;\n",
    "* `min_samples_split` (стандартное значение=2);\n",
    "* `min_samples_leaf` (стандартное значение=1);\n",
    "* `max_depth` &mdash; ограничение на глубину деревьев (стандартное значение=3).\n",
    "\n",
    "Про все возможные гиперпараметры вы можете прочитать в [документации](https://scikit-learn.org/stable/modules/generated/sklearn.ensemble.GradientBoostingRegressor.html)."
   ]
  },
  {
   "cell_type": "code",
   "execution_count": 1,
   "metadata": {
    "ExecuteTime": {
     "end_time": "2021-02-27T15:33:45.460922Z",
     "start_time": "2021-02-27T15:33:44.068108Z"
    }
   },
   "outputs": [],
   "source": [
    "import numpy as np\n",
    "import pandas as pd\n",
    "\n",
    "from tqdm.notebook import tqdm\n",
    "import matplotlib.pyplot as plt\n",
    "import seaborn as sns\n",
    "\n",
    "from sklearn.ensemble import RandomForestRegressor, RandomForestClassifier\n",
    "from sklearn.ensemble import GradientBoostingRegressor\n",
    "from sklearn.ensemble import GradientBoostingClassifier\n",
    "from sklearn.datasets import fetch_california_housing\n",
    "from sklearn.metrics import accuracy_score\n",
    "from sklearn.metrics import mean_squared_error as mse\n",
    "from sklearn.model_selection import GridSearchCV\n",
    "from sklearn.model_selection import RandomizedSearchCV\n",
    "from sklearn.model_selection import train_test_split\n",
    "from sklearn.utils import shuffle\n",
    "\n",
    "sns.set(font_scale=1.8, palette='Set2')"
   ]
  },
  {
   "cell_type": "markdown",
   "metadata": {},
   "source": [
    "## 2. Подбор параметров градиентного бустинга"
   ]
  },
  {
   "cell_type": "markdown",
   "metadata": {},
   "source": [
    "Будем решать градиентным бустингом задачу классификации. Возьмём [датасет](https://archive.ics.uci.edu/ml/datasets/Letter+Recognition) для распознавания латинских букв на изображениях.\n",
    "     \n",
    "Некоторые из признаков, содержащихся в датасете:\n",
    "1.\t`lettr` &mdash; заглавная буква\t(принимает значения от A до Z);\n",
    "2.\t`x-box` &mdash; горизонтальная позиция прямоугольника с буквой;\n",
    "3.\t`y-box` &mdash; вертикальная позиция прямоугольника с буквой;\n",
    "4.\t`width`\t&mdash; ширина прямоугольника;\n",
    "5.\t`high` &mdash; высота прямоугольника;\n",
    "6.\t`onpix` &mdash; количество пикселей, относящихся к цифре;\n",
    "7. `x-bar` &mdash; среднее значение x всех пикселей в прямоугольнике;\n",
    "8. `y-bar` &mdash; среднее значение y всех пикселей в прямоугольнике;\n",
    "9. `x2-bar` &mdash; выборочная дисперсия x;\n",
    "10. `y2-bar` &mdash; выборочная дисперсия y;\n",
    "11. `xybar` &mdash; корреляция x и y."
   ]
  },
  {
   "cell_type": "code",
   "execution_count": 2,
   "metadata": {
    "ExecuteTime": {
     "end_time": "2021-02-27T15:33:45.518398Z",
     "start_time": "2021-02-27T15:33:45.463579Z"
    },
    "scrolled": true
   },
   "outputs": [
    {
     "name": "stdout",
     "output_type": "stream",
     "text": [
      "shape: (20000, 17)\n"
     ]
    },
    {
     "data": {
      "text/html": [
       "<div>\n",
       "<style scoped>\n",
       "    .dataframe tbody tr th:only-of-type {\n",
       "        vertical-align: middle;\n",
       "    }\n",
       "\n",
       "    .dataframe tbody tr th {\n",
       "        vertical-align: top;\n",
       "    }\n",
       "\n",
       "    .dataframe thead th {\n",
       "        text-align: right;\n",
       "    }\n",
       "</style>\n",
       "<table border=\"1\" class=\"dataframe\">\n",
       "  <thead>\n",
       "    <tr style=\"text-align: right;\">\n",
       "      <th></th>\n",
       "      <th>0</th>\n",
       "      <th>1</th>\n",
       "      <th>2</th>\n",
       "      <th>3</th>\n",
       "      <th>4</th>\n",
       "      <th>5</th>\n",
       "      <th>6</th>\n",
       "      <th>7</th>\n",
       "      <th>8</th>\n",
       "      <th>9</th>\n",
       "      <th>10</th>\n",
       "      <th>11</th>\n",
       "      <th>12</th>\n",
       "      <th>13</th>\n",
       "      <th>14</th>\n",
       "      <th>15</th>\n",
       "      <th>16</th>\n",
       "    </tr>\n",
       "  </thead>\n",
       "  <tbody>\n",
       "    <tr>\n",
       "      <th>0</th>\n",
       "      <td>T</td>\n",
       "      <td>2</td>\n",
       "      <td>8</td>\n",
       "      <td>3</td>\n",
       "      <td>5</td>\n",
       "      <td>1</td>\n",
       "      <td>8</td>\n",
       "      <td>13</td>\n",
       "      <td>0</td>\n",
       "      <td>6</td>\n",
       "      <td>6</td>\n",
       "      <td>10</td>\n",
       "      <td>8</td>\n",
       "      <td>0</td>\n",
       "      <td>8</td>\n",
       "      <td>0</td>\n",
       "      <td>8</td>\n",
       "    </tr>\n",
       "    <tr>\n",
       "      <th>1</th>\n",
       "      <td>I</td>\n",
       "      <td>5</td>\n",
       "      <td>12</td>\n",
       "      <td>3</td>\n",
       "      <td>7</td>\n",
       "      <td>2</td>\n",
       "      <td>10</td>\n",
       "      <td>5</td>\n",
       "      <td>5</td>\n",
       "      <td>4</td>\n",
       "      <td>13</td>\n",
       "      <td>3</td>\n",
       "      <td>9</td>\n",
       "      <td>2</td>\n",
       "      <td>8</td>\n",
       "      <td>4</td>\n",
       "      <td>10</td>\n",
       "    </tr>\n",
       "    <tr>\n",
       "      <th>2</th>\n",
       "      <td>D</td>\n",
       "      <td>4</td>\n",
       "      <td>11</td>\n",
       "      <td>6</td>\n",
       "      <td>8</td>\n",
       "      <td>6</td>\n",
       "      <td>10</td>\n",
       "      <td>6</td>\n",
       "      <td>2</td>\n",
       "      <td>6</td>\n",
       "      <td>10</td>\n",
       "      <td>3</td>\n",
       "      <td>7</td>\n",
       "      <td>3</td>\n",
       "      <td>7</td>\n",
       "      <td>3</td>\n",
       "      <td>9</td>\n",
       "    </tr>\n",
       "    <tr>\n",
       "      <th>3</th>\n",
       "      <td>N</td>\n",
       "      <td>7</td>\n",
       "      <td>11</td>\n",
       "      <td>6</td>\n",
       "      <td>6</td>\n",
       "      <td>3</td>\n",
       "      <td>5</td>\n",
       "      <td>9</td>\n",
       "      <td>4</td>\n",
       "      <td>6</td>\n",
       "      <td>4</td>\n",
       "      <td>4</td>\n",
       "      <td>10</td>\n",
       "      <td>6</td>\n",
       "      <td>10</td>\n",
       "      <td>2</td>\n",
       "      <td>8</td>\n",
       "    </tr>\n",
       "    <tr>\n",
       "      <th>4</th>\n",
       "      <td>G</td>\n",
       "      <td>2</td>\n",
       "      <td>1</td>\n",
       "      <td>3</td>\n",
       "      <td>1</td>\n",
       "      <td>1</td>\n",
       "      <td>8</td>\n",
       "      <td>6</td>\n",
       "      <td>6</td>\n",
       "      <td>6</td>\n",
       "      <td>6</td>\n",
       "      <td>5</td>\n",
       "      <td>9</td>\n",
       "      <td>1</td>\n",
       "      <td>7</td>\n",
       "      <td>5</td>\n",
       "      <td>10</td>\n",
       "    </tr>\n",
       "  </tbody>\n",
       "</table>\n",
       "</div>"
      ],
      "text/plain": [
       "  0   1   2   3   4   5   6   7   8   9   10  11  12  13  14  15  16\n",
       "0  T   2   8   3   5   1   8  13   0   6   6  10   8   0   8   0   8\n",
       "1  I   5  12   3   7   2  10   5   5   4  13   3   9   2   8   4  10\n",
       "2  D   4  11   6   8   6  10   6   2   6  10   3   7   3   7   3   9\n",
       "3  N   7  11   6   6   3   5   9   4   6   4   4  10   6  10   2   8\n",
       "4  G   2   1   3   1   1   8   6   6   6   6   5   9   1   7   5  10"
      ]
     },
     "execution_count": 2,
     "metadata": {},
     "output_type": "execute_result"
    }
   ],
   "source": [
    "letters_df = pd.read_csv('letter-recognition.data', header=None)\n",
    "print('shape:', letters_df.shape)\n",
    "letters_df.head()"
   ]
  },
  {
   "cell_type": "markdown",
   "metadata": {},
   "source": [
    "Деление на признаки и таргет:"
   ]
  },
  {
   "cell_type": "code",
   "execution_count": 3,
   "metadata": {
    "ExecuteTime": {
     "end_time": "2021-02-27T15:33:45.548620Z",
     "start_time": "2021-02-27T15:33:45.522116Z"
    }
   },
   "outputs": [],
   "source": [
    "X = letters_df.values[:, 1:]\n",
    "y = letters_df.values[:, 0]"
   ]
  },
  {
   "cell_type": "markdown",
   "metadata": {},
   "source": [
    "Разобьём данные на обучающую и тестовую выборки:"
   ]
  },
  {
   "cell_type": "code",
   "execution_count": 4,
   "metadata": {
    "ExecuteTime": {
     "end_time": "2021-02-27T15:33:45.574124Z",
     "start_time": "2021-02-27T15:33:45.551533Z"
    }
   },
   "outputs": [],
   "source": [
    "X_train, X_test, y_train, y_test = train_test_split(X, y, random_state=42)"
   ]
  },
  {
   "cell_type": "markdown",
   "metadata": {},
   "source": [
    "### 2.1 Использование `GridSearchCV`"
   ]
  },
  {
   "cell_type": "markdown",
   "metadata": {},
   "source": [
    "Для начала попробуем воспользоваться поиском по сетке с кросс-валидацией для поиска оптимальных гиперпараметров. Проблема в том, что если взять три параметра: `n_estimators`, `max_depth`, `learning_rate`, то перебор будет очень долгим. Поэтому ограничимся лишь `n_estimators`."
   ]
  },
  {
   "cell_type": "code",
   "execution_count": 5,
   "metadata": {
    "ExecuteTime": {
     "end_time": "2021-02-27T15:33:50.417895Z",
     "start_time": "2021-02-27T15:33:50.411230Z"
    }
   },
   "outputs": [],
   "source": [
    "boosting_gridsearch = GridSearchCV(\n",
    "    estimator=GradientBoostingClassifier(),\n",
    "    param_grid={\n",
    "        'n_estimators': [5, 10, 25, 50, 75], \n",
    "    },\n",
    "    cv=5,  # разбиение выборки на 5 фолдов\n",
    "    verbose=10,  # насколько часто печатать сообщения\n",
    "    n_jobs=2  # кол-во параллельных процессов\n",
    ")"
   ]
  },
  {
   "cell_type": "markdown",
   "metadata": {},
   "source": [
    "Выполнение поиска по сетке. В процессе подбора гиперпараметров он иногда печатает информацию о том, сколько итераций он уже сделал, и сколько это заняло времени. Контролировать это можно с помощью параметра `verbose`."
   ]
  },
  {
   "cell_type": "code",
   "execution_count": 6,
   "metadata": {
    "ExecuteTime": {
     "end_time": "2021-02-27T15:40:10.538570Z",
     "start_time": "2021-02-27T15:33:52.148994Z"
    }
   },
   "outputs": [
    {
     "name": "stdout",
     "output_type": "stream",
     "text": [
      "Fitting 5 folds for each of 5 candidates, totalling 25 fits\n"
     ]
    },
    {
     "name": "stderr",
     "output_type": "stream",
     "text": [
      "[Parallel(n_jobs=2)]: Using backend LokyBackend with 2 concurrent workers.\n",
      "[Parallel(n_jobs=2)]: Done   1 tasks      | elapsed:    5.1s\n",
      "[Parallel(n_jobs=2)]: Done   4 tasks      | elapsed:    8.8s\n",
      "[Parallel(n_jobs=2)]: Done   9 tasks      | elapsed:   26.4s\n",
      "[Parallel(n_jobs=2)]: Done  14 tasks      | elapsed:  1.1min\n",
      "[Parallel(n_jobs=2)]: Done  21 tasks      | elapsed:  3.5min\n",
      "[Parallel(n_jobs=2)]: Done  25 out of  25 | elapsed:  5.3min remaining:    0.0s\n",
      "[Parallel(n_jobs=2)]: Done  25 out of  25 | elapsed:  5.3min finished\n"
     ]
    },
    {
     "data": {
      "text/plain": [
       "GridSearchCV(cv=5, error_score=nan,\n",
       "             estimator=GradientBoostingClassifier(ccp_alpha=0.0,\n",
       "                                                  criterion='friedman_mse',\n",
       "                                                  init=None, learning_rate=0.1,\n",
       "                                                  loss='deviance', max_depth=3,\n",
       "                                                  max_features=None,\n",
       "                                                  max_leaf_nodes=None,\n",
       "                                                  min_impurity_decrease=0.0,\n",
       "                                                  min_impurity_split=None,\n",
       "                                                  min_samples_leaf=1,\n",
       "                                                  min_samples_split=2,\n",
       "                                                  min_weight_fraction_leaf=0.0,\n",
       "                                                  n_estimators=100,\n",
       "                                                  n_iter_no_change=None,\n",
       "                                                  presort='deprecated',\n",
       "                                                  random_state=None,\n",
       "                                                  subsample=1.0, tol=0.0001,\n",
       "                                                  validation_fraction=0.1,\n",
       "                                                  verbose=0, warm_start=False),\n",
       "             iid='deprecated', n_jobs=2,\n",
       "             param_grid={'n_estimators': [5, 10, 25, 50, 75]},\n",
       "             pre_dispatch='2*n_jobs', refit=True, return_train_score=False,\n",
       "             scoring=None, verbose=10)"
      ]
     },
     "execution_count": 6,
     "metadata": {},
     "output_type": "execute_result"
    }
   ],
   "source": [
    "boosting_gridsearch.fit(X_train, y_train)"
   ]
  },
  {
   "cell_type": "markdown",
   "metadata": {},
   "source": [
    "Подобранные гиперпараметры:"
   ]
  },
  {
   "cell_type": "code",
   "execution_count": 7,
   "metadata": {
    "ExecuteTime": {
     "end_time": "2021-02-27T15:40:26.223555Z",
     "start_time": "2021-02-27T15:40:26.213857Z"
    }
   },
   "outputs": [
    {
     "data": {
      "text/plain": [
       "{'n_estimators': 75}"
      ]
     },
     "execution_count": 7,
     "metadata": {},
     "output_type": "execute_result"
    }
   ],
   "source": [
    "boosting_gridsearch.best_params_"
   ]
  },
  {
   "cell_type": "markdown",
   "metadata": {},
   "source": [
    "Смотрим на качество при оптимальных гиперпараметрах:"
   ]
  },
  {
   "cell_type": "code",
   "execution_count": 8,
   "metadata": {
    "ExecuteTime": {
     "end_time": "2021-02-27T15:40:28.662324Z",
     "start_time": "2021-02-27T15:40:27.650138Z"
    }
   },
   "outputs": [
    {
     "name": "stdout",
     "output_type": "stream",
     "text": [
      "train accuracy 0.9427\n",
      "test accuracy 0.9086\n"
     ]
    }
   ],
   "source": [
    "print('train accuracy {:.4f}'.format(\n",
    "    accuracy_score(boosting_gridsearch.predict(X_train), y_train)\n",
    "))\n",
    "print('test accuracy {:.4f}'.format(\n",
    "    accuracy_score(boosting_gridsearch.predict(X_test), y_test)\n",
    "))"
   ]
  },
  {
   "cell_type": "markdown",
   "metadata": {},
   "source": [
    "### 2.2 Использование `RandomizedSearchCV`"
   ]
  },
  {
   "cell_type": "markdown",
   "metadata": {},
   "source": [
    "Во-первых, полный перебор по сетке может работать слишком долго. \n",
    "Во-вторых, при подборе более чем одного параметра **рекомендуется использовать случайный поиск**. Об этом можно почитать <a href=\"http://www.jmlr.org/papers/volume13/bergstra12a/bergstra12a.pdf\">статью</a>.\n",
    "\n",
    "Воспользуемся рандомизированным поиском по сетке, реализованным в `sklearn` как `RandomizedSearchCV`."
   ]
  },
  {
   "cell_type": "code",
   "execution_count": 9,
   "metadata": {
    "ExecuteTime": {
     "end_time": "2021-02-27T15:40:34.062281Z",
     "start_time": "2021-02-27T15:40:34.054594Z"
    }
   },
   "outputs": [],
   "source": [
    "rnd_boosting_gridsearch = RandomizedSearchCV(\n",
    "    GradientBoostingClassifier(),\n",
    "    param_distributions={\n",
    "        'n_estimators': [5, 10, 25, 50, 75],\n",
    "        'learning_rate': np.linspace(0.05, 0.25, 5),\n",
    "        'min_samples_leaf': np.arange(1, 6),\n",
    "        'max_depth': [3, 4, 5, 6, None],\n",
    "    },\n",
    "    cv=5,  # разбиение выборки на 5 фолдов\n",
    "    verbose=10,  # насколько часто печатать сообщения\n",
    "    n_jobs=2,  # кол-во параллельных процессов\n",
    "    n_iter=30,  # кол-во итераций случайного выбора гиперпараметров\n",
    "    random_state=42  # seed для фиксирования случайности\n",
    ")"
   ]
  },
  {
   "cell_type": "markdown",
   "metadata": {},
   "source": [
    "Выполнение случайного поиска. На каждой из 30 итераций производится выбор случайных гиперпараметров, которые используются для проверки по каждому из 5 фолдов."
   ]
  },
  {
   "cell_type": "code",
   "execution_count": 10,
   "metadata": {
    "ExecuteTime": {
     "end_time": "2021-02-27T16:52:20.303896Z",
     "start_time": "2021-02-27T15:40:37.194461Z"
    }
   },
   "outputs": [
    {
     "name": "stdout",
     "output_type": "stream",
     "text": [
      "Fitting 5 folds for each of 30 candidates, totalling 150 fits\n"
     ]
    },
    {
     "name": "stderr",
     "output_type": "stream",
     "text": [
      "[Parallel(n_jobs=2)]: Using backend LokyBackend with 2 concurrent workers.\n",
      "[Parallel(n_jobs=2)]: Done   1 tasks      | elapsed:   26.4s\n",
      "[Parallel(n_jobs=2)]: Done   4 tasks      | elapsed:   53.0s\n",
      "[Parallel(n_jobs=2)]: Done   9 tasks      | elapsed:  1.4min\n",
      "[Parallel(n_jobs=2)]: Done  14 tasks      | elapsed:  3.3min\n",
      "[Parallel(n_jobs=2)]: Done  21 tasks      | elapsed:  7.8min\n",
      "[Parallel(n_jobs=2)]: Done  28 tasks      | elapsed: 10.2min\n",
      "/home/mrgeekman/Programs/anaconda3/envs/mipt-stats/lib/python3.7/site-packages/joblib/externals/loky/process_executor.py:706: UserWarning: A worker stopped while some jobs were given to the executor. This can be caused by a too short worker timeout or by a memory leak.\n",
      "  \"timeout or by a memory leak.\", UserWarning\n",
      "[Parallel(n_jobs=2)]: Done  37 tasks      | elapsed: 15.0min\n",
      "[Parallel(n_jobs=2)]: Done  46 tasks      | elapsed: 19.9min\n",
      "[Parallel(n_jobs=2)]: Done  57 tasks      | elapsed: 24.2min\n",
      "[Parallel(n_jobs=2)]: Done  68 tasks      | elapsed: 40.1min\n",
      "[Parallel(n_jobs=2)]: Done  81 tasks      | elapsed: 46.4min\n",
      "[Parallel(n_jobs=2)]: Done  94 tasks      | elapsed: 50.2min\n",
      "[Parallel(n_jobs=2)]: Done 109 tasks      | elapsed: 56.1min\n",
      "[Parallel(n_jobs=2)]: Done 124 tasks      | elapsed: 59.2min\n",
      "[Parallel(n_jobs=2)]: Done 141 tasks      | elapsed: 65.0min\n",
      "[Parallel(n_jobs=2)]: Done 150 out of 150 | elapsed: 70.2min finished\n"
     ]
    },
    {
     "data": {
      "text/plain": [
       "RandomizedSearchCV(cv=5, error_score=nan,\n",
       "                   estimator=GradientBoostingClassifier(ccp_alpha=0.0,\n",
       "                                                        criterion='friedman_mse',\n",
       "                                                        init=None,\n",
       "                                                        learning_rate=0.1,\n",
       "                                                        loss='deviance',\n",
       "                                                        max_depth=3,\n",
       "                                                        max_features=None,\n",
       "                                                        max_leaf_nodes=None,\n",
       "                                                        min_impurity_decrease=0.0,\n",
       "                                                        min_impurity_split=None,\n",
       "                                                        min_samples_leaf=1,\n",
       "                                                        min_samples_split=2,\n",
       "                                                        min_weight_fraction_leaf=0.0,\n",
       "                                                        n_estimators=100,\n",
       "                                                        n_ite...\n",
       "                                                        validation_fraction=0.1,\n",
       "                                                        verbose=0,\n",
       "                                                        warm_start=False),\n",
       "                   iid='deprecated', n_iter=30, n_jobs=2,\n",
       "                   param_distributions={'learning_rate': array([0.05, 0.1 , 0.15, 0.2 , 0.25]),\n",
       "                                        'max_depth': [3, 4, 5, 6, None],\n",
       "                                        'min_samples_leaf': array([1, 2, 3, 4, 5]),\n",
       "                                        'n_estimators': [5, 10, 25, 50, 75]},\n",
       "                   pre_dispatch='2*n_jobs', random_state=None, refit=True,\n",
       "                   return_train_score=False, scoring=None, verbose=10)"
      ]
     },
     "execution_count": 10,
     "metadata": {},
     "output_type": "execute_result"
    }
   ],
   "source": [
    "rnd_boosting_gridsearch.fit(X_train, y_train)"
   ]
  },
  {
   "cell_type": "markdown",
   "metadata": {},
   "source": [
    "Подобранные гиперпараметры:"
   ]
  },
  {
   "cell_type": "code",
   "execution_count": 11,
   "metadata": {
    "ExecuteTime": {
     "end_time": "2021-02-27T16:52:47.735925Z",
     "start_time": "2021-02-27T16:52:47.727149Z"
    }
   },
   "outputs": [
    {
     "data": {
      "text/plain": [
       "{'n_estimators': 75,\n",
       " 'min_samples_leaf': 5,\n",
       " 'max_depth': 6,\n",
       " 'learning_rate': 0.15000000000000002}"
      ]
     },
     "execution_count": 11,
     "metadata": {},
     "output_type": "execute_result"
    }
   ],
   "source": [
    "rnd_boosting_gridsearch.best_params_"
   ]
  },
  {
   "cell_type": "markdown",
   "metadata": {},
   "source": [
    "Качество оптимальной модели:"
   ]
  },
  {
   "cell_type": "code",
   "execution_count": 12,
   "metadata": {
    "ExecuteTime": {
     "end_time": "2021-02-27T16:52:55.805038Z",
     "start_time": "2021-02-27T16:52:54.400992Z"
    }
   },
   "outputs": [
    {
     "name": "stdout",
     "output_type": "stream",
     "text": [
      "train accuracy 1.0000\n",
      "test accuracy 0.9568\n"
     ]
    }
   ],
   "source": [
    "print('train accuracy {:.4f}'.format(\n",
    "    accuracy_score(rnd_boosting_gridsearch.predict(X_train), y_train)\n",
    "))\n",
    "print('test accuracy {:.4f}'.format(\n",
    "    accuracy_score(rnd_boosting_gridsearch.predict(X_test), y_test)\n",
    "))"
   ]
  },
  {
   "cell_type": "markdown",
   "metadata": {},
   "source": [
    "### 2.3 Подбор значения параметра `learning_rate`\n",
    "\n",
    "Как вы уже знаете, скорость сходимости, да и сам факт сходимости метода оптимизации сильно зависят от гиперпараметров методом. Одним из наиболее важных гиперпараметров методов оптимизации является `learning_rate`. Поэтому бывает полезно подобрать значение `learning_rate` наиболее точно."
   ]
  },
  {
   "cell_type": "markdown",
   "metadata": {},
   "source": [
    "Предварительно зафиксируем остальные найденные параметры."
   ]
  },
  {
   "cell_type": "code",
   "execution_count": 13,
   "metadata": {
    "ExecuteTime": {
     "end_time": "2021-02-27T17:13:13.345239Z",
     "start_time": "2021-02-27T16:54:18.093981Z"
    }
   },
   "outputs": [
    {
     "name": "stdout",
     "output_type": "stream",
     "text": [
      "Fitting 5 folds for each of 5 candidates, totalling 25 fits\n"
     ]
    },
    {
     "name": "stderr",
     "output_type": "stream",
     "text": [
      "[Parallel(n_jobs=2)]: Using backend LokyBackend with 2 concurrent workers.\n",
      "[Parallel(n_jobs=2)]: Done   1 tasks      | elapsed:  1.5min\n",
      "[Parallel(n_jobs=2)]: Done   4 tasks      | elapsed:  2.9min\n",
      "[Parallel(n_jobs=2)]: Done   9 tasks      | elapsed:  7.4min\n",
      "[Parallel(n_jobs=2)]: Done  14 tasks      | elapsed: 10.6min\n",
      "[Parallel(n_jobs=2)]: Done  21 tasks      | elapsed: 15.3min\n",
      "[Parallel(n_jobs=2)]: Done  25 out of  25 | elapsed: 17.2min remaining:    0.0s\n",
      "[Parallel(n_jobs=2)]: Done  25 out of  25 | elapsed: 17.2min finished\n"
     ]
    },
    {
     "data": {
      "text/plain": [
       "GridSearchCV(cv=5, error_score=nan,\n",
       "             estimator=GradientBoostingClassifier(ccp_alpha=0.0,\n",
       "                                                  criterion='friedman_mse',\n",
       "                                                  init=None, learning_rate=0.1,\n",
       "                                                  loss='deviance', max_depth=6,\n",
       "                                                  max_features=None,\n",
       "                                                  max_leaf_nodes=None,\n",
       "                                                  min_impurity_decrease=0.0,\n",
       "                                                  min_impurity_split=None,\n",
       "                                                  min_samples_leaf=5,\n",
       "                                                  min_samples_split=2,\n",
       "                                                  min_weight_fraction_leaf=0.0,\n",
       "                                                  n_estimators=75,\n",
       "                                                  n_iter_no_change=None,\n",
       "                                                  presort='deprecated',\n",
       "                                                  random_state=None,\n",
       "                                                  subsample=1.0, tol=0.0001,\n",
       "                                                  validation_fraction=0.1,\n",
       "                                                  verbose=0, warm_start=False),\n",
       "             iid='deprecated', n_jobs=2,\n",
       "             param_grid={'learning_rate': array([0.05, 0.1 , 0.15, 0.2 , 0.25])},\n",
       "             pre_dispatch='2*n_jobs', refit=True, return_train_score=False,\n",
       "             scoring=None, verbose=10)"
      ]
     },
     "execution_count": 13,
     "metadata": {},
     "output_type": "execute_result"
    }
   ],
   "source": [
    "boosting_gridsearch = GridSearchCV(\n",
    "    estimator=GradientBoostingClassifier(\n",
    "        n_estimators=75, max_depth=6, min_samples_leaf=5\n",
    "    ),\n",
    "    param_grid={\n",
    "        'learning_rate': np.linspace(0.05, 0.25, 5),\n",
    "    },\n",
    "    cv=5,  # разбиение выборки на 5 фолдов\n",
    "    verbose=10,  # насколько часто печатать сообщения\n",
    "    n_jobs=2  # кол-во параллельных процессов\n",
    ")\n",
    "boosting_gridsearch.fit(X_train, y_train)"
   ]
  },
  {
   "cell_type": "markdown",
   "metadata": {},
   "source": [
    "Подобранное значение `learning_rate`:"
   ]
  },
  {
   "cell_type": "code",
   "execution_count": 14,
   "metadata": {
    "ExecuteTime": {
     "end_time": "2021-02-27T17:13:34.961354Z",
     "start_time": "2021-02-27T17:13:34.955857Z"
    }
   },
   "outputs": [
    {
     "data": {
      "text/plain": [
       "{'learning_rate': 0.15000000000000002}"
      ]
     },
     "execution_count": 14,
     "metadata": {},
     "output_type": "execute_result"
    }
   ],
   "source": [
    "boosting_gridsearch.best_params_"
   ]
  },
  {
   "cell_type": "markdown",
   "metadata": {},
   "source": [
    "Качество оптимальной модели:"
   ]
  },
  {
   "cell_type": "code",
   "execution_count": 15,
   "metadata": {
    "ExecuteTime": {
     "end_time": "2021-02-27T17:13:39.852195Z",
     "start_time": "2021-02-27T17:13:38.288274Z"
    }
   },
   "outputs": [
    {
     "name": "stdout",
     "output_type": "stream",
     "text": [
      "train accuracy 1.0000\n",
      "test accuracy 0.9556\n"
     ]
    }
   ],
   "source": [
    "print('train accuracy {:.4f}'.format(\n",
    "    accuracy_score(boosting_gridsearch.predict(X_train), y_train)\n",
    "))\n",
    "print('test accuracy {:.4f}'.format(\n",
    "    accuracy_score(boosting_gridsearch.predict(X_test), y_test)\n",
    "))"
   ]
  },
  {
   "cell_type": "markdown",
   "metadata": {},
   "source": [
    "Некоторое отличие результата от предыдущего случая можно объяснить случайностью, которая есть в модели. Ее можно зафиксировать, установив параметр `random_state`."
   ]
  },
  {
   "cell_type": "markdown",
   "metadata": {},
   "source": [
    "## 2. Сравнение градиентного бустинга и случайного леса\n",
    "\n",
    "### 2.1 Задача регрессии\n",
    "\n",
    "Исследуем зависимость качества предсказаний градиентного бустинга и случайного леса в зависимости от числа базовых моделей на примере задаче регрессии. Для случайного леса будем использовать класс `RandomForestRegressor` библиотеки `sklearn`."
   ]
  },
  {
   "cell_type": "code",
   "execution_count": 24,
   "metadata": {
    "ExecuteTime": {
     "end_time": "2021-02-27T17:22:13.057049Z",
     "start_time": "2021-02-27T17:22:13.031328Z"
    }
   },
   "outputs": [],
   "source": [
    "housing = fetch_california_housing()\n",
    "X, y = housing.data, housing.target"
   ]
  },
  {
   "cell_type": "markdown",
   "metadata": {},
   "source": [
    "Разобьём данные на обучающую выборку и на валидацию, выделив на валидацию 25% данных."
   ]
  },
  {
   "cell_type": "code",
   "execution_count": 25,
   "metadata": {
    "ExecuteTime": {
     "end_time": "2021-02-27T17:22:14.749931Z",
     "start_time": "2021-02-27T17:22:14.738021Z"
    }
   },
   "outputs": [],
   "source": [
    "X_train, X_test, y_train, y_test = train_test_split(X, y, test_size=0.25)"
   ]
  },
  {
   "cell_type": "code",
   "execution_count": 26,
   "metadata": {
    "ExecuteTime": {
     "end_time": "2021-02-27T17:22:20.525320Z",
     "start_time": "2021-02-27T17:22:20.505966Z"
    }
   },
   "outputs": [],
   "source": [
    "def plot_compare_estimators(estimator_labels, param_grid, train_metrics,\n",
    "                            test_metrics, param_label='', metrics_label='', \n",
    "                            title=''):\n",
    "    '''Функция для построения графиков зависимости целевой метрики \n",
    "    от некоторого параметра модели на обучающей и на валидационной \n",
    "    выборке.\n",
    "    \n",
    "    :param estimator_labels: массив названий моделей\n",
    "    :param param_grid: значения исследуемого параметра\n",
    "    :param train_metrics: массив, где i-ый элемент - \n",
    "        это массив значений метрики на обучающей выборке для i-ой модели\n",
    "    :param test_metrics: массив, где i-ый элемент - \n",
    "        это массив значений метрики на валидационной выборке для i-ой модели\n",
    "    :param param_label: названия параметра\n",
    "    :param metrics_label: название метрики\n",
    "    :param title: заголовок для графика\n",
    "    '''\n",
    "    \n",
    "    plt.figure(figsize=(12, 6))\n",
    "    \n",
    "    for estimator_id in range(len(estimator_labels)):\n",
    "        label = estimator_labels[estimator_id]\n",
    "        plt.plot(\n",
    "            param_grid, train_metrics[estimator_id], \n",
    "            label=f'{label} train', linewidth=3\n",
    "        )\n",
    "        plt.plot(\n",
    "            param_grid, test_metrics[estimator_id],\n",
    "            label=f'{label} test', linewidth=3\n",
    "        )\n",
    "       \n",
    "    plt.legend()\n",
    "    plt.xlabel(param_label)\n",
    "    plt.ylabel(metrics_label)\n",
    "    plt.title(title, fontsize=20)"
   ]
  },
  {
   "cell_type": "markdown",
   "metadata": {},
   "source": [
    "Обучим случайный лес для разного числа деревьев и посчитаем `mse`."
   ]
  },
  {
   "cell_type": "code",
   "execution_count": 27,
   "metadata": {
    "ExecuteTime": {
     "end_time": "2021-02-27T17:30:45.800598Z",
     "start_time": "2021-02-27T17:22:29.080416Z"
    }
   },
   "outputs": [
    {
     "data": {
      "application/vnd.jupyter.widget-view+json": {
       "model_id": "f11a392622d04525a6b78621ff29357b",
       "version_major": 2,
       "version_minor": 0
      },
      "text/plain": [
       "HBox(children=(FloatProgress(value=0.0, max=30.0), HTML(value='')))"
      ]
     },
     "metadata": {},
     "output_type": "display_data"
    },
    {
     "name": "stdout",
     "output_type": "stream",
     "text": [
      "\n"
     ]
    }
   ],
   "source": [
    "rf_mse_train = []\n",
    "rf_mse_test = []\n",
    "n_estimators_grid = range(1, 300, 10)\n",
    "\n",
    "for n_estimators in tqdm(n_estimators_grid):\n",
    "    regressor = RandomForestRegressor(n_estimators=n_estimators)\n",
    "    regressor.fit(X_train, y_train)\n",
    "    rf_mse_train.append(mse(regressor.predict(X_train), y_train)) \n",
    "    rf_mse_test.append(mse(regressor.predict(X_test), y_test))"
   ]
  },
  {
   "cell_type": "markdown",
   "metadata": {},
   "source": [
    "Обучим градиентный бустинг для разного числа деревьев и посчитаем `mse`."
   ]
  },
  {
   "cell_type": "code",
   "execution_count": 28,
   "metadata": {
    "ExecuteTime": {
     "end_time": "2021-02-27T17:33:32.988422Z",
     "start_time": "2021-02-27T17:30:50.527002Z"
    }
   },
   "outputs": [
    {
     "data": {
      "application/vnd.jupyter.widget-view+json": {
       "model_id": "0ef96d0012bc461d9cd38eec544cb163",
       "version_major": 2,
       "version_minor": 0
      },
      "text/plain": [
       "HBox(children=(FloatProgress(value=0.0, max=30.0), HTML(value='')))"
      ]
     },
     "metadata": {},
     "output_type": "display_data"
    },
    {
     "name": "stdout",
     "output_type": "stream",
     "text": [
      "\n"
     ]
    }
   ],
   "source": [
    "boosting_mse_train = []\n",
    "boosting_mse_test = []\n",
    "\n",
    "for n_estimators in tqdm(n_estimators_grid):\n",
    "    regressor = GradientBoostingRegressor(n_estimators=n_estimators)\n",
    "    regressor.fit(X_train, y_train)\n",
    "    boosting_mse_train.append(mse(regressor.predict(X_train), y_train)) \n",
    "    boosting_mse_test.append(mse(regressor.predict(X_test), y_test))"
   ]
  },
  {
   "cell_type": "markdown",
   "metadata": {},
   "source": [
    "Построим график зависимости `mse` от количества базовых моделей."
   ]
  },
  {
   "cell_type": "code",
   "execution_count": 29,
   "metadata": {
    "ExecuteTime": {
     "end_time": "2021-02-27T17:33:58.159525Z",
     "start_time": "2021-02-27T17:33:57.598661Z"
    }
   },
   "outputs": [
    {
     "data": {
      "image/png": "[encoded data removed]",
      "text/plain": [
       "<Figure size 864x432 with 1 Axes>"
      ]
     },
     "metadata": {},
     "output_type": "display_data"
    }
   ],
   "source": [
    "plot_compare_estimators(\n",
    "    ['random forest', 'boosting'], n_estimators_grid, \n",
    "    [rf_mse_train, boosting_mse_train], \n",
    "    [rf_mse_test, boosting_mse_test],\n",
    "    'Количество деревьев', 'MSE', \n",
    "    'Сравнение случайного леса и градиентного бустинга'\n",
    ")"
   ]
  },
  {
   "cell_type": "markdown",
   "metadata": {},
   "source": [
    "**Вывод.** Из графика видно, что при `n_estimators` <= 75 случайный лес показывает лучший результат, чем бустинг и на обучающей и на тестовой выборке. Однако при `n_estimators` > 75 ошибка случайного леса на тестовой выборке уже стабилизировалась, а ошибка бустинга еще продолжает убывать, в результате чего при значениях `n_estimators` около 150 бустинг показывает более высокий результат чем лес. Отсюда можно сделать вывод, что при работе с бустингом имеет смысл использовать большее число итераций, чтобы получить максимально высокий результат."
   ]
  },
  {
   "cell_type": "markdown",
   "metadata": {},
   "source": [
    "### 2.2 Задача классификации"
   ]
  },
  {
   "cell_type": "markdown",
   "metadata": {},
   "source": [
    "Сделаем аналогичный эксперимент с уже использованным ранее датасетом для классификации рукописных цифр."
   ]
  },
  {
   "cell_type": "code",
   "execution_count": 30,
   "metadata": {
    "ExecuteTime": {
     "end_time": "2021-02-27T17:35:33.273260Z",
     "start_time": "2021-02-27T17:35:33.236425Z"
    }
   },
   "outputs": [
    {
     "name": "stdout",
     "output_type": "stream",
     "text": [
      "shape: (20000, 17)\n"
     ]
    },
    {
     "data": {
      "text/html": [
       "<div>\n",
       "<style scoped>\n",
       "    .dataframe tbody tr th:only-of-type {\n",
       "        vertical-align: middle;\n",
       "    }\n",
       "\n",
       "    .dataframe tbody tr th {\n",
       "        vertical-align: top;\n",
       "    }\n",
       "\n",
       "    .dataframe thead th {\n",
       "        text-align: right;\n",
       "    }\n",
       "</style>\n",
       "<table border=\"1\" class=\"dataframe\">\n",
       "  <thead>\n",
       "    <tr style=\"text-align: right;\">\n",
       "      <th></th>\n",
       "      <th>0</th>\n",
       "      <th>1</th>\n",
       "      <th>2</th>\n",
       "      <th>3</th>\n",
       "      <th>4</th>\n",
       "      <th>5</th>\n",
       "      <th>6</th>\n",
       "      <th>7</th>\n",
       "      <th>8</th>\n",
       "      <th>9</th>\n",
       "      <th>10</th>\n",
       "      <th>11</th>\n",
       "      <th>12</th>\n",
       "      <th>13</th>\n",
       "      <th>14</th>\n",
       "      <th>15</th>\n",
       "      <th>16</th>\n",
       "    </tr>\n",
       "  </thead>\n",
       "  <tbody>\n",
       "    <tr>\n",
       "      <th>0</th>\n",
       "      <td>T</td>\n",
       "      <td>2</td>\n",
       "      <td>8</td>\n",
       "      <td>3</td>\n",
       "      <td>5</td>\n",
       "      <td>1</td>\n",
       "      <td>8</td>\n",
       "      <td>13</td>\n",
       "      <td>0</td>\n",
       "      <td>6</td>\n",
       "      <td>6</td>\n",
       "      <td>10</td>\n",
       "      <td>8</td>\n",
       "      <td>0</td>\n",
       "      <td>8</td>\n",
       "      <td>0</td>\n",
       "      <td>8</td>\n",
       "    </tr>\n",
       "    <tr>\n",
       "      <th>1</th>\n",
       "      <td>I</td>\n",
       "      <td>5</td>\n",
       "      <td>12</td>\n",
       "      <td>3</td>\n",
       "      <td>7</td>\n",
       "      <td>2</td>\n",
       "      <td>10</td>\n",
       "      <td>5</td>\n",
       "      <td>5</td>\n",
       "      <td>4</td>\n",
       "      <td>13</td>\n",
       "      <td>3</td>\n",
       "      <td>9</td>\n",
       "      <td>2</td>\n",
       "      <td>8</td>\n",
       "      <td>4</td>\n",
       "      <td>10</td>\n",
       "    </tr>\n",
       "    <tr>\n",
       "      <th>2</th>\n",
       "      <td>D</td>\n",
       "      <td>4</td>\n",
       "      <td>11</td>\n",
       "      <td>6</td>\n",
       "      <td>8</td>\n",
       "      <td>6</td>\n",
       "      <td>10</td>\n",
       "      <td>6</td>\n",
       "      <td>2</td>\n",
       "      <td>6</td>\n",
       "      <td>10</td>\n",
       "      <td>3</td>\n",
       "      <td>7</td>\n",
       "      <td>3</td>\n",
       "      <td>7</td>\n",
       "      <td>3</td>\n",
       "      <td>9</td>\n",
       "    </tr>\n",
       "    <tr>\n",
       "      <th>3</th>\n",
       "      <td>N</td>\n",
       "      <td>7</td>\n",
       "      <td>11</td>\n",
       "      <td>6</td>\n",
       "      <td>6</td>\n",
       "      <td>3</td>\n",
       "      <td>5</td>\n",
       "      <td>9</td>\n",
       "      <td>4</td>\n",
       "      <td>6</td>\n",
       "      <td>4</td>\n",
       "      <td>4</td>\n",
       "      <td>10</td>\n",
       "      <td>6</td>\n",
       "      <td>10</td>\n",
       "      <td>2</td>\n",
       "      <td>8</td>\n",
       "    </tr>\n",
       "    <tr>\n",
       "      <th>4</th>\n",
       "      <td>G</td>\n",
       "      <td>2</td>\n",
       "      <td>1</td>\n",
       "      <td>3</td>\n",
       "      <td>1</td>\n",
       "      <td>1</td>\n",
       "      <td>8</td>\n",
       "      <td>6</td>\n",
       "      <td>6</td>\n",
       "      <td>6</td>\n",
       "      <td>6</td>\n",
       "      <td>5</td>\n",
       "      <td>9</td>\n",
       "      <td>1</td>\n",
       "      <td>7</td>\n",
       "      <td>5</td>\n",
       "      <td>10</td>\n",
       "    </tr>\n",
       "  </tbody>\n",
       "</table>\n",
       "</div>"
      ],
      "text/plain": [
       "  0   1   2   3   4   5   6   7   8   9   10  11  12  13  14  15  16\n",
       "0  T   2   8   3   5   1   8  13   0   6   6  10   8   0   8   0   8\n",
       "1  I   5  12   3   7   2  10   5   5   4  13   3   9   2   8   4  10\n",
       "2  D   4  11   6   8   6  10   6   2   6  10   3   7   3   7   3   9\n",
       "3  N   7  11   6   6   3   5   9   4   6   4   4  10   6  10   2   8\n",
       "4  G   2   1   3   1   1   8   6   6   6   6   5   9   1   7   5  10"
      ]
     },
     "execution_count": 30,
     "metadata": {},
     "output_type": "execute_result"
    }
   ],
   "source": [
    "print('shape:', letters_df.shape)\n",
    "letters_df.head()"
   ]
  },
  {
   "cell_type": "code",
   "execution_count": 31,
   "metadata": {
    "ExecuteTime": {
     "end_time": "2021-02-27T17:35:33.582543Z",
     "start_time": "2021-02-27T17:35:33.559431Z"
    }
   },
   "outputs": [],
   "source": [
    "X = letters_df.values[:, 1:]\n",
    "y = letters_df.values[:, 0]"
   ]
  },
  {
   "cell_type": "markdown",
   "metadata": {},
   "source": [
    "Разобьём данные на обучающую и тестовую выборки."
   ]
  },
  {
   "cell_type": "code",
   "execution_count": 32,
   "metadata": {
    "ExecuteTime": {
     "end_time": "2021-02-27T17:35:34.696216Z",
     "start_time": "2021-02-27T17:35:34.678001Z"
    }
   },
   "outputs": [],
   "source": [
    "X_train, X_test, y_train, y_test = train_test_split(X, y, random_state=42)"
   ]
  },
  {
   "cell_type": "markdown",
   "metadata": {},
   "source": [
    "Обучим случайный лес для разного числа деревьев и посчитаем метрику `accuracy`."
   ]
  },
  {
   "cell_type": "code",
   "execution_count": 33,
   "metadata": {
    "ExecuteTime": {
     "end_time": "2021-02-27T17:36:35.348666Z",
     "start_time": "2021-02-27T17:35:45.597692Z"
    }
   },
   "outputs": [
    {
     "data": {
      "application/vnd.jupyter.widget-view+json": {
       "model_id": "659117d838b04476b16b0a8a23aa4376",
       "version_major": 2,
       "version_minor": 0
      },
      "text/plain": [
       "HBox(children=(FloatProgress(value=0.0, max=12.0), HTML(value='')))"
      ]
     },
     "metadata": {},
     "output_type": "display_data"
    },
    {
     "name": "stdout",
     "output_type": "stream",
     "text": [
      "\n"
     ]
    }
   ],
   "source": [
    "rf_accuracy_train = []\n",
    "rf_accuracy_test = []\n",
    "n_estimators_grid = range(1, 300, 25)\n",
    "\n",
    "for n_estimators in tqdm(n_estimators_grid):\n",
    "    classifier = RandomForestClassifier(n_estimators=n_estimators)\n",
    "    classifier.fit(X_train, y_train)\n",
    "    rf_accuracy_train.append(\n",
    "        accuracy_score(classifier.predict(X_train), y_train)\n",
    "    ) \n",
    "    rf_accuracy_test.append(\n",
    "        accuracy_score(classifier.predict(X_test), y_test)\n",
    "    )"
   ]
  },
  {
   "cell_type": "markdown",
   "metadata": {},
   "source": [
    "Обучим градиентный бустинг для разного числа деревьев и посчитаем метрику `accuracy`."
   ]
  },
  {
   "cell_type": "code",
   "execution_count": 34,
   "metadata": {
    "ExecuteTime": {
     "end_time": "2021-02-27T17:59:26.584580Z",
     "start_time": "2021-02-27T17:36:35.352637Z"
    }
   },
   "outputs": [
    {
     "data": {
      "application/vnd.jupyter.widget-view+json": {
       "model_id": "d1dd79ca07f942768de949d07d2d0795",
       "version_major": 2,
       "version_minor": 0
      },
      "text/plain": [
       "HBox(children=(FloatProgress(value=0.0, max=12.0), HTML(value='')))"
      ]
     },
     "metadata": {},
     "output_type": "display_data"
    },
    {
     "name": "stdout",
     "output_type": "stream",
     "text": [
      "\n"
     ]
    }
   ],
   "source": [
    "boosting_accuracy_train = []\n",
    "boosting_accuracy_test = []\n",
    "n_estimators_grid = range(1, 300, 25)\n",
    "\n",
    "for n_estimators in tqdm(n_estimators_grid):\n",
    "    classifier = GradientBoostingClassifier(n_estimators=n_estimators)\n",
    "    classifier.fit(X_train, y_train)\n",
    "    boosting_accuracy_train.append(\n",
    "        accuracy_score(classifier.predict(X_train), y_train)\n",
    "    ) \n",
    "    boosting_accuracy_test.append(\n",
    "        accuracy_score(classifier.predict(X_test), y_test)\n",
    "    )"
   ]
  },
  {
   "cell_type": "markdown",
   "metadata": {},
   "source": [
    "Построим график зависимости `accuracy` от количества базовых моделей."
   ]
  },
  {
   "cell_type": "code",
   "execution_count": 35,
   "metadata": {
    "ExecuteTime": {
     "end_time": "2021-02-27T17:59:43.326345Z",
     "start_time": "2021-02-27T17:59:42.890734Z"
    }
   },
   "outputs": [
    {
     "data": {
      "image/png": "[encoded data removed]",
      "text/plain": [
       "<Figure size 864x432 with 1 Axes>"
      ]
     },
     "metadata": {},
     "output_type": "display_data"
    }
   ],
   "source": [
    "plot_compare_estimators(\n",
    "    ['random forest', 'boosting'], n_estimators_grid, \n",
    "    [rf_accuracy_train, boosting_accuracy_train],\n",
    "    [rf_accuracy_test, boosting_accuracy_test],\n",
    "    'Количество деревьев', 'accuracy', \n",
    "    'Сравнение случайного леса и градиентного бустинга'\n",
    ")"
   ]
  },
  {
   "cell_type": "markdown",
   "metadata": {},
   "source": [
    "**Вывод.** На этом датасете при рассмотренных значениях `n_estimators` случайный лес показывает результат лучше как на обучающей, так и на тестовой выборке. Отсюда можно сделать вывод, что нет модели, которая работала бы всегда лучше других во всех задачах. Для того, чтобы получить наилучший результат, стоит рассмотреть несколько моделей."
   ]
  }
 ],
 "metadata": {
  "kernelspec": {
   "display_name": "Python 3",
   "language": "python",
   "name": "python3"
  },
  "language_info": {
   "codemirror_mode": {
    "name": "ipython",
    "version": 3
   },
   "file_extension": ".py",
   "mimetype": "text/x-python",
   "name": "python",
   "nbconvert_exporter": "python",
   "pygments_lexer": "ipython3",
   "version": "3.8.10"
  },
  "notify_time": "5"
 },
 "nbformat": 4,
 "nbformat_minor": 2
}
