{
 "cells": [
  {
   "cell_type": "code",
   "execution_count": 35,
   "metadata": {
    "ExecuteTime": {
     "end_time": "2021-03-06T07:40:45.048489Z",
     "start_time": "2021-03-06T07:40:42.914605Z"
    },
    "id": "PGfY-NEiVqeN"
   },
   "outputs": [],
   "source": [
    "import numpy as np\n",
    "from collections import Counter\n",
    "import matplotlib.pyplot as plt\n",
    "\n",
    "import sklearn.metrics\n",
    "from sklearn.datasets import load_boston\n",
    "from sklearn.model_selection import KFold\n",
    "from sklearn.metrics import (\n",
    "    confusion_matrix, mean_squared_error, roc_auc_score\n",
    ")\n",
    "from sklearn.model_selection import train_test_split\n",
    "from sklearn.model_selection import GridSearchCV, cross_val_score\n",
    "\n",
    "import xgboost as xgb\n",
    "from xgboost import XGBRegressor, XGBClassifier, DMatrix\n",
    "\n",
    "from catboost import CatBoostRegressor, Pool, CatBoostClassifier\n",
    "from catboost.datasets import titanic"
   ]
  },
  {
   "cell_type": "markdown",
   "metadata": {
    "id": "C3ApkrgcVqeS"
   },
   "source": [
    "# Градиентный бустинг на решающих деревьях"
   ]
  },
  {
   "cell_type": "markdown",
   "metadata": {
    "collapsed": true,
    "id": "g5jlRKzeVqeT"
   },
   "source": [
    "Бустинг &mdash; один из самых широко применяемых видов ансамблей моделей. В данном ноутбуке будут разобраны библиотеки `XGBoost` и `Yandex CatBoost`.\n",
    "\n",
    "Материалы по теме:\n",
    "- [XGBoost](https://github.com/dmlc/xgboost) &mdash; eXtreme Gradient Boosting;\n",
    "- [Yandex CatBoost](https://github.com/catboost/catboost);\n",
    "- [Сравнение библиотек (CatBoost vs. Light GBM vs. XGBoost)](https://towardsdatascience.com/catboost-vs-light-gbm-vs-xgboost-5f93620723db)."
   ]
  },
  {
   "cell_type": "markdown",
   "metadata": {
    "id": "tqv6r2kXVqeU"
   },
   "source": [
    "`XGBoost` строит композицию из $T$ базовых моделей $b_t$:\n",
    "$$ \\widehat{y} = \\widehat{y}_{T} = \\sum_{t=1}^{T} b_t = \\widehat{y}_{T - 1} + b_T, $$\n",
    "\n",
    "минимизируя следующий функционал:\n",
    "\n",
    "$$ Q = \\sum_{i=1}^N \\mathcal{L}\\left(y_i, \\widehat{y}_T(x_i)\\right) + \\sum_{t=1}^{T} R(b_t),$$\n",
    "\n",
    "где\n",
    " - $n$ &mdash; размер обучающей выборки;\n",
    " - $x_i, y_i$ &mdash; объекты обучающей выборки, и соответствующие истинные значения отклика;\n",
    " - $\\widehat{y}_{t}$ &mdash; композиция из $t$ уже обученных базовых моделей;\n",
    " - $R$ — регуляризатор;\n",
    " - $\\mathcal{L}(y_i, \\widehat{y}_i)$ &mdash; функция потерь.\n",
    "\n",
    "\n",
    "Функционал, оптимизируемый на $t$-ой итерации:\n",
    "\n",
    "$$ Q_t = \\sum_{i=1}^N \\mathcal{L}\\left(y_i, \\widehat{y}_{t-1}(x_i) + b_t(x_i)\\right) + R(b_t) \\longrightarrow \\min_{b_t}.$$\n",
    "\n",
    "В случае бустинга над решающими деревьями регуляризатор имеет следующий вид:\n",
    "\n",
    "$$ R(b_t) = \\eta J + \\frac{1}{2}\\lambda\\sum_{j=1}^{J}\\gamma_j^2 + \\alpha\\sum_{j=1}^{J}|\\gamma_j|,$$\n",
    "\n",
    "где \n",
    " - $J$ &mdash; количество листьев в дереве;\n",
    " - $\\gamma_j$ &mdash; ответы в листьях дерева;\n",
    " - $\\lambda, \\alpha, \\gamma$ &mdash; гиперпараметры."
   ]
  },
  {
   "cell_type": "markdown",
   "metadata": {
    "id": "suv3_5B_VqeV"
   },
   "source": [
    "## 1. XGBoost"
   ]
  },
  {
   "cell_type": "markdown",
   "metadata": {
    "id": "gQYcWo1_VqeW"
   },
   "source": [
    "Будем обучать модели на датасете `Boston Housing`. Датасет содержит информацию о различных домах в Бостоне. Цель состоит в том, чтобы предсказать стоимость дома на основе $13$-ти признаков. Всего в датасете содержится $506$ домов.\n",
    "\n",
    "Произведем загрузку данных:"
   ]
  },
  {
   "cell_type": "code",
   "execution_count": 36,
   "metadata": {
    "ExecuteTime": {
     "end_time": "2021-03-06T07:42:28.386854Z",
     "start_time": "2021-03-06T07:42:28.358440Z"
    },
    "id": "KKCAs7LdVqeX"
   },
   "outputs": [],
   "source": [
    "boston = load_boston()\n",
    "y = boston['target']\n",
    "X = boston['data']"
   ]
  },
  {
   "cell_type": "markdown",
   "metadata": {
    "id": "jFGpwL0-Vqeb"
   },
   "source": [
    "### 1.1 sklearn-интерфейс"
   ]
  },
  {
   "cell_type": "markdown",
   "metadata": {
    "id": "wR_7Arm5Vqec"
   },
   "source": [
    "Библиотека `XGBoost` имеет `sklearn`-like обертку, а именно, основные методы `fit` и `predict`. Это позволяет использовать `XGBoost`-модели в `sklearn`-утилитах, таких как `GridSearchCV` или `cross_val_score`. \n",
    "Для этого используются классы `XGBRegressor` или `XGBClassifier`."
   ]
  },
  {
   "cell_type": "markdown",
   "metadata": {
    "id": "_QUqNGiIVqed"
   },
   "source": [
    "Рассмотрим `XGBRegressor` и проведем кросс-валидацию на 3 фолда с помощью функции `cross_val_score` библиотеки `sklearn`:"
   ]
  },
  {
   "cell_type": "code",
   "execution_count": 37,
   "metadata": {
    "ExecuteTime": {
     "end_time": "2021-03-06T07:42:47.799602Z",
     "start_time": "2021-03-06T07:42:47.431595Z"
    },
    "colab": {
     "base_uri": "https://localhost:8080/"
    },
    "executionInfo": {
     "elapsed": 12597,
     "status": "ok",
     "timestamp": 1614950508318,
     "user": {
      "displayName": "София Сергеевна Ожерельева",
      "photoUrl": "",
      "userId": "16183486602369596527"
     },
     "user_tz": -180
    },
    "id": "rtZjpmb7Vqek",
    "outputId": "69853d40-4b8b-49f9-d778-c937d9a37fc2"
   },
   "outputs": [
    {
     "name": "stdout",
     "output_type": "stream",
     "text": [
      "[23:45:50] WARNING: ../src/learner.cc:576: \n",
      "Parameters: { \"silent\" } might not be used.\n",
      "\n",
      "  This could be a false alarm, with some parameters getting used by language bindings but\n",
      "  then being mistakenly passed down to XGBoost core, or some parameter actually being used\n",
      "  but getting flagged wrongly here. Please open an issue if you find any such cases.\n",
      "\n",
      "\n",
      "[23:45:50] WARNING: ../src/learner.cc:576: \n",
      "Parameters: { \"silent\" } might not be used.\n",
      "\n",
      "  This could be a false alarm, with some parameters getting used by language bindings but\n",
      "  then being mistakenly passed down to XGBoost core, or some parameter actually being used\n",
      "  but getting flagged wrongly here. Please open an issue if you find any such cases.\n",
      "\n",
      "\n",
      "[23:45:50] WARNING: ../src/learner.cc:576: \n",
      "Parameters: { \"silent\" } might not be used.\n",
      "\n",
      "  This could be a false alarm, with some parameters getting used by language bindings but\n",
      "  then being mistakenly passed down to XGBoost core, or some parameter actually being used\n",
      "  but getting flagged wrongly here. Please open an issue if you find any such cases.\n",
      "\n",
      "\n"
     ]
    },
    {
     "data": {
      "text/plain": [
       "array([ -8.1982481 , -20.85520123, -51.91576648])"
      ]
     },
     "execution_count": 37,
     "metadata": {},
     "output_type": "execute_result"
    }
   ],
   "source": [
    "xgb_model = XGBRegressor(\n",
    "    silent=True, max_depth=4, n_estimators=200, random_state=42\n",
    ")\n",
    "\n",
    "cross_val_score(xgb_model, X, y, scoring='neg_mean_squared_error', cv=3)"
   ]
  },
  {
   "cell_type": "code",
   "execution_count": 38,
   "metadata": {},
   "outputs": [
    {
     "data": {
      "text/plain": [
       "<bound method XGBModel.get_params of XGBRegressor(base_score=None, booster=None, colsample_bylevel=None,\n",
       "             colsample_bynode=None, colsample_bytree=None,\n",
       "             enable_categorical=False, gamma=None, gpu_id=None,\n",
       "             importance_type=None, interaction_constraints=None,\n",
       "             learning_rate=None, max_delta_step=None, max_depth=4,\n",
       "             min_child_weight=None, missing=nan, monotone_constraints=None,\n",
       "             n_estimators=200, n_jobs=None, num_parallel_tree=None,\n",
       "             predictor=None, random_state=42, reg_alpha=None, reg_lambda=None,\n",
       "             scale_pos_weight=None, silent=True, subsample=None,\n",
       "             tree_method=None, validate_parameters=None, verbosity=None)>"
      ]
     },
     "execution_count": 38,
     "metadata": {},
     "output_type": "execute_result"
    }
   ],
   "source": [
    "xgb_model.get_params"
   ]
  },
  {
   "cell_type": "markdown",
   "metadata": {
    "id": "brT85VHXVqej"
   },
   "source": [
    "Также мы можем провести кросс-валидацию с помощью функции `KFold`. С помощью неё разбить данные на 3 фолда и для каждого фолда посчитать ошибку на предсказании:"
   ]
  },
  {
   "cell_type": "code",
   "execution_count": 39,
   "metadata": {
    "ExecuteTime": {
     "end_time": "2021-03-06T07:43:06.635358Z",
     "start_time": "2021-03-06T07:43:06.326793Z"
    },
    "colab": {
     "base_uri": "https://localhost:8080/"
    },
    "executionInfo": {
     "elapsed": 12242,
     "status": "ok",
     "timestamp": 1614950508324,
     "user": {
      "displayName": "София Сергеевна Ожерельева",
      "photoUrl": "",
      "userId": "16183486602369596527"
     },
     "user_tz": -180
    },
    "id": "gqDPB6w4Vqee",
    "outputId": "827922bf-a490-44b6-ef3e-f7498e5b9955"
   },
   "outputs": [
    {
     "name": "stdout",
     "output_type": "stream",
     "text": [
      "XGBoost RMSE on fold 0: 2.83\n",
      "XGBoost RMSE on fold 1: 4.22\n",
      "XGBoost RMSE on fold 2: 2.90\n"
     ]
    }
   ],
   "source": [
    "kf = KFold(n_splits=3, shuffle=True, random_state=42)\n",
    "\n",
    "for fold_index, (train_index, test_index) in enumerate(kf.split(y)):\n",
    "    # objective определяется, чтобы убрать warning\n",
    "    xgb_model = XGBRegressor(\n",
    "        objective ='reg:squarederror', random_state=42\n",
    "    ).fit(X[train_index], y[train_index])\n",
    "    \n",
    "    xgb_predictions = xgb_model.predict(X[test_index])\n",
    "    \n",
    "    actuals = y[test_index]\n",
    "    print(\"XGBoost RMSE on fold {}: {:.2f}\".format(\n",
    "        fold_index, np.sqrt(mean_squared_error(actuals, xgb_predictions)))\n",
    "    )"
   ]
  },
  {
   "cell_type": "markdown",
   "metadata": {
    "id": "hD1GKsOKVqen"
   },
   "source": [
    "### 1.2 Нативный интерфейс\n",
    "\n",
    "У `XGBoost` также есть свой нативный интерфейс, и `sklearn`-интерфейс использует его внутри себя.\n",
    "\n",
    "Переход из `sklearn`-интерфейса в нативный осуществляется с помощью метода `get_booster()`:"
   ]
  },
  {
   "cell_type": "code",
   "execution_count": 40,
   "metadata": {
    "ExecuteTime": {
     "end_time": "2021-03-06T07:43:16.838974Z",
     "start_time": "2021-03-06T07:43:16.832031Z"
    },
    "id": "az_yIXWsVqeo"
   },
   "outputs": [],
   "source": [
    "native_xgb_model = xgb_model.get_booster()"
   ]
  },
  {
   "cell_type": "markdown",
   "metadata": {
    "id": "V_1crenxVqer"
   },
   "source": [
    "Для хранения данных в нативном интерфейсе используется класс `xgboost.DMatrix`. Он хранит в себе:\n",
    "  - `data` &mdash; матрица объект-признак;\n",
    "  - `label` &mdash; вектор с таргетом (для обучения и валидации);\n",
    "  - `weight` &mdash; вектор весов объектов;\n",
    "  - `feature_names` &mdash; названия признаков.\n",
    "  \n",
    "Данные можно легко перевести в объект `DMatrix` из `csv`-файла, `numpy`-массива и `pandas-dataframe`. \n",
    "\n",
    "В конструктор DMatrix можно передать следующие допольлнительные параметры:\n",
    "  - `weight` &mdash; инициализация весов модели;\n",
    "  - `missing` &mdash; константа для заполнения пропущенных значений."
   ]
  },
  {
   "cell_type": "code",
   "execution_count": 41,
   "metadata": {
    "ExecuteTime": {
     "end_time": "2021-03-06T07:43:21.781683Z",
     "start_time": "2021-03-06T07:43:21.770753Z"
    },
    "id": "G2HyeHGKVqer"
   },
   "outputs": [],
   "source": [
    "xgtrain = DMatrix(X[train_index], label=y[train_index])\n",
    "xgtest = DMatrix(X[test_index], label=y[test_index])"
   ]
  },
  {
   "cell_type": "markdown",
   "metadata": {
    "id": "_O8efUxBVqeu"
   },
   "source": [
    "Функция `xgboost.train()` обучает модель. Принимает на вход `DMatrix`, словарь с гиперпараметрами модели и еще всякие опции для обучения через аргументы. \n",
    " \n",
    "Функция `xgboost.train()` возвращает класс `xgboost.booster` (бустер). У бустера есть метод `predict`, который делает предсказания.\n",
    "\n",
    "\n",
    "[Подробнее](https://xgboost.readthedocs.io/en/latest/python/python_api.html)\n",
    "\n",
    "Также в функцию `xgboost.train()` можно передать параметры с помощью словаря `params`, подробнее рассмотрим в следующем пункте."
   ]
  },
  {
   "cell_type": "code",
   "execution_count": 42,
   "metadata": {
    "ExecuteTime": {
     "end_time": "2021-03-06T07:43:31.068997Z",
     "start_time": "2021-03-06T07:43:30.909601Z"
    },
    "id": "FJRWhJVWVqev"
   },
   "outputs": [
    {
     "name": "stdout",
     "output_type": "stream",
     "text": [
      "[23:45:51] WARNING: ../src/objective/regression_obj.cu:188: reg:linear is now deprecated in favor of reg:squarederror.\n",
      "[23:45:51] WARNING: ../src/learner.cc:576: \n",
      "Parameters: { \"silent\" } might not be used.\n",
      "\n",
      "  This could be a false alarm, with some parameters getting used by language bindings but\n",
      "  then being mistakenly passed down to XGBoost core, or some parameter actually being used\n",
      "  but getting flagged wrongly here. Please open an issue if you find any such cases.\n",
      "\n",
      "\n"
     ]
    }
   ],
   "source": [
    "params = {\n",
    "    \"objective\": \"reg:linear\",\n",
    "    \"booster\": \"gbtree\",\n",
    "    \"eval_metric\": \"rmse\",\n",
    "    \"max_depth\": 6,\n",
    "    \"tree_method\": \"hist\",\n",
    "    \"silent\": True,\n",
    "    \"random_state\": 42\n",
    "}\n",
    "\n",
    "bst = xgb.train(params, xgtrain, num_boost_round=20)"
   ]
  },
  {
   "cell_type": "markdown",
   "metadata": {
    "id": "VoHcXG0wVqey"
   },
   "source": [
    "### 1.3 Гиперпараметры XGBoost\n",
    "\n",
    "В нативном интерфейсе гиперпараметры модели передаются в функцию `xgboost.train()` с помощью словаря `params`. В `sklearn`-интерфейсе параметры передаются в конструкторе при создании объекта класса.\n",
    "\n",
    "### Основные параметры:\n",
    "\n",
    "* `booster` &mdash; вид базовых моделей, например: <br>\n",
    "    - `gbtree` &mdash; использует деревья;<br>\n",
    "    - `dart` &mdash; использует деревья с dropout (вспоминаем прошлый семинар);<br>\n",
    "    - `gblinear` &mdash; использует линейные модели.<br>\n",
    "\n",
    "* `eta` или `learning rate` &mdash; скорость обучения;\n",
    "* `gamma` &mdash; параметр в регуляризации на количество листьев;\n",
    "* `max_depth` &mdash; максимальная глубина дерева;\n",
    "* `subsample` &mdash; доля объектов, на которых обучается каждое дерево. Для каждого дерева выбирается свой набор;\n",
    "* `alpha` &mdash; параметр `L1`-регуляризации;\n",
    "* `lambda` &mdash; параметр `L2`-регуляризации;\n",
    "* `tree_method` &mdash; параметр, отвечающий за метод перебора порогов и признаков при построении одного дерева. Возможные значения: `{auto, exact, approx, hist, gpu_exact, gpu_hist}`. Параметр будет описан в разделе про бинаризацию признаков;\n",
    "\n",
    "* `objective` &mdash; лосс, который будем минимизировать: <br>\n",
    "    - `reg:linear` &mdash; квадратичная ошибка;<br>\n",
    "    - `reg:logistic` = `binary:logistic`. Единственная разница в том, что в случае регрессии в качестве `eval_metric` будет использоваться `RMSE`.<br>\n",
    "    - также `binary:hinge`, `multi:softmax` и множество других для регрессии, бинарной/мульти классификации, ранжирования и прочих задач. <br>\n",
    "    [Подробнее про доступные лоссы.](https://xgboost.readthedocs.io/en/latest/parameter.html)<br>\n",
    "\n",
    "* `eval_metric` &mdash; измеряемая метрика. По умолчанию получается из параметра `objective`: для регрессии `RMSE`, для классификации - `error (он же: 1 - accuracy)`. <br>\n",
    "Можно указать сразу несколько метрик, тогда будут измеряться сразу все. <br>\n",
    "Возможные значения : `RMSE`, `MAE`, `logloss`, `error`, `AUC`  и множетсво остальных. <br>\n",
    "[Подробнее про доступные метрики.](https://xgboost.readthedocs.io/en/latest/parameter.html) <br>\n",
    "\n",
    "Параметры, которые указываются в аргументах функции `train()`, а не в словаре параметров:\n",
    "\n",
    "* `num_boost_round` &mdash; количество базовых моделей. В `sklearn`-обертке за это отвечает параметр `n_estimators`;\n",
    "\n",
    "* `evals` &mdash; в него можно передать массив вида `[(dtest, 'eval'), (dtrain, 'train')]`, где `dtest`, `dtrain` - `DMatrix`-объекты. Тогда после каждой итерации бустинга будет выводиться значение метрик из `eval_metric` для каждого из наборов;\n",
    "\n",
    "* `early_stopping_rounds` &mdash;  в случае если этот параметр равен `k`, то после `k` итераций бустинга, которые не сопровождались уменьшением лосса для валидационного сета, указанного в `evals`, обучение будет остановлено.\n",
    "<br>\n",
    "\n",
    "Также для `XGBoost` есть возможность запускаться на `Hadoop`, `Spark`, `Flink` и `DataFlow`."
   ]
  },
  {
   "cell_type": "markdown",
   "metadata": {
    "id": "H76DmTkkVqey"
   },
   "source": [
    "Обучим модель:"
   ]
  },
  {
   "cell_type": "code",
   "execution_count": 43,
   "metadata": {
    "ExecuteTime": {
     "end_time": "2021-03-06T07:43:47.056636Z",
     "start_time": "2021-03-06T07:43:45.883088Z"
    },
    "colab": {
     "base_uri": "https://localhost:8080/"
    },
    "executionInfo": {
     "elapsed": 859,
     "status": "ok",
     "timestamp": 1614950664444,
     "user": {
      "displayName": "София Сергеевна Ожерельева",
      "photoUrl": "",
      "userId": "16183486602369596527"
     },
     "user_tz": -180
    },
    "id": "UbCdT0p5Vqez",
    "outputId": "2a6b9b02-3eb2-4bdb-84eb-d42e54112b39"
   },
   "outputs": [
    {
     "name": "stdout",
     "output_type": "stream",
     "text": [
      "Вывод при обучении:\n",
      "[23:45:51] WARNING: ../src/objective/regression_obj.cu:188: reg:linear is now deprecated in favor of reg:squarederror.\n",
      "[23:45:51] WARNING: ../src/learner.cc:576: \n",
      "Parameters: { \"silent\" } might not be used.\n",
      "\n",
      "  This could be a false alarm, with some parameters getting used by language bindings but\n",
      "  then being mistakenly passed down to XGBoost core, or some parameter actually being used\n",
      "  but getting flagged wrongly here. Please open an issue if you find any such cases.\n",
      "\n",
      "\n",
      "[0]\teval-rmse:17.14712\ttrain-rmse:17.04895\n",
      "[1]\teval-rmse:12.44614\ttrain-rmse:12.31893\n",
      "[2]\teval-rmse:9.13073\ttrain-rmse:8.97143\n",
      "[3]\teval-rmse:6.97922\ttrain-rmse:6.65307\n",
      "[4]\teval-rmse:5.50160\ttrain-rmse:5.00231\n",
      "[5]\teval-rmse:4.48707\ttrain-rmse:3.83908\n",
      "[6]\teval-rmse:3.90017\ttrain-rmse:3.02003\n",
      "[7]\teval-rmse:3.52533\ttrain-rmse:2.43168\n",
      "[8]\teval-rmse:3.33127\ttrain-rmse:1.99241\n",
      "[9]\teval-rmse:3.21670\ttrain-rmse:1.69849\n",
      "[10]\teval-rmse:3.16255\ttrain-rmse:1.49532\n",
      "[11]\teval-rmse:3.10998\ttrain-rmse:1.32896\n",
      "[12]\teval-rmse:3.10533\ttrain-rmse:1.20675\n",
      "[13]\teval-rmse:3.09589\ttrain-rmse:1.13599\n",
      "[14]\teval-rmse:3.09075\ttrain-rmse:1.06615\n",
      "[15]\teval-rmse:3.06771\ttrain-rmse:0.99828\n",
      "[16]\teval-rmse:3.06051\ttrain-rmse:0.92382\n",
      "[17]\teval-rmse:3.06151\ttrain-rmse:0.83749\n",
      "[18]\teval-rmse:3.05873\ttrain-rmse:0.80667\n",
      "[19]\teval-rmse:3.07549\ttrain-rmse:0.76165\n",
      "\n",
      "\n",
      "Результат на тестовых данных:\n",
      " [0]\teval-rmse:3.075491\n"
     ]
    }
   ],
   "source": [
    "params = {\n",
    "    \"objective\": \"reg:linear\",\n",
    "    \"booster\": \"gbtree\",\n",
    "    \"eval_metric\": \"rmse\",\n",
    "    \"max_depth\": 6,\n",
    "    \"tree_method\": \"hist\",\n",
    "    \"silent\": True,\n",
    "    \"random_state\": 42\n",
    "}\n",
    "\n",
    "evallist = [(xgtest, 'eval'), (xgtrain, 'train')]\n",
    "print(\"Вывод при обучении:\")\n",
    "bst = xgb.train(params, xgtrain, num_boost_round=20, evals=evallist)\n",
    "\n",
    "print(\"\\n\\nРезультат на тестовых данных:\\n\", bst.eval(xgtest))"
   ]
  },
  {
   "cell_type": "markdown",
   "metadata": {
    "id": "GGq-yW64Vqe1"
   },
   "source": [
    "Также можем использовать кросс-валидацию:\n",
    "\n"
   ]
  },
  {
   "cell_type": "code",
   "execution_count": 44,
   "metadata": {
    "ExecuteTime": {
     "end_time": "2021-03-06T07:43:57.465314Z",
     "start_time": "2021-03-06T07:43:56.962871Z"
    },
    "colab": {
     "base_uri": "https://localhost:8080/"
    },
    "executionInfo": {
     "elapsed": 1517,
     "status": "ok",
     "timestamp": 1614950767024,
     "user": {
      "displayName": "София Сергеевна Ожерельева",
      "photoUrl": "",
      "userId": "16183486602369596527"
     },
     "user_tz": -180
    },
    "id": "yEzyBiKMVqe2",
    "outputId": "3e3651ad-d663-4dbf-facf-b3082751946d"
   },
   "outputs": [
    {
     "name": "stdout",
     "output_type": "stream",
     "text": [
      "[23:45:52] WARNING: ../src/objective/regression_obj.cu:188: reg:linear is now deprecated in favor of reg:squarederror.\n",
      "[23:45:52] WARNING: ../src/learner.cc:576: \n",
      "Parameters: { \"silent\" } might not be used.\n",
      "\n",
      "  This could be a false alarm, with some parameters getting used by language bindings but\n",
      "  then being mistakenly passed down to XGBoost core, or some parameter actually being used\n",
      "  but getting flagged wrongly here. Please open an issue if you find any such cases.\n",
      "\n",
      "\n",
      "Результат для 0 фолда: [0]\teval-rmse:3.111262\n",
      "[23:45:52] WARNING: ../src/objective/regression_obj.cu:188: reg:linear is now deprecated in favor of reg:squarederror.\n",
      "[23:45:52] WARNING: ../src/learner.cc:576: \n",
      "Parameters: { \"silent\" } might not be used.\n",
      "\n",
      "  This could be a false alarm, with some parameters getting used by language bindings but\n",
      "  then being mistakenly passed down to XGBoost core, or some parameter actually being used\n",
      "  but getting flagged wrongly here. Please open an issue if you find any such cases.\n",
      "\n",
      "\n",
      "Результат для 1 фолда: [0]\teval-rmse:4.605154\n",
      "[23:45:52] WARNING: ../src/objective/regression_obj.cu:188: reg:linear is now deprecated in favor of reg:squarederror.\n",
      "[23:45:52] WARNING: ../src/learner.cc:576: \n",
      "Parameters: { \"silent\" } might not be used.\n",
      "\n",
      "  This could be a false alarm, with some parameters getting used by language bindings but\n",
      "  then being mistakenly passed down to XGBoost core, or some parameter actually being used\n",
      "  but getting flagged wrongly here. Please open an issue if you find any such cases.\n",
      "\n",
      "\n",
      "Результат для 2 фолда: [0]\teval-rmse:3.058248\n"
     ]
    }
   ],
   "source": [
    "params = {\n",
    "    \"objective\": \"reg:linear\",\n",
    "    \"booster\": \"gbtree\",\n",
    "    \"eval_metric\": \"rmse\",\n",
    "    \"max_depth\": 6,\n",
    "    \"tree_method\": \"hist\",\n",
    "    \"silent\": True,\n",
    "    \"random_state\": 42\n",
    "}\n",
    "\n",
    "for fold_index, (train_index, test_index) in enumerate(kf.split(y)):    \n",
    "    xgtrain = DMatrix(X[train_index], label=y[train_index])\n",
    "    xgtest = DMatrix(X[test_index], label=y[test_index])\n",
    "\n",
    "    bst = xgb.train(params, xgtrain, num_boost_round=100)\n",
    "\n",
    "    print(\"Результат для {} фолда: {}\".format(fold_index, bst.eval(xgtest)))"
   ]
  },
  {
   "cell_type": "markdown",
   "metadata": {
    "id": "uW--kkHhVqe4"
   },
   "source": [
    "### 1.4 Своя функция потерь"
   ]
  },
  {
   "cell_type": "markdown",
   "metadata": {
    "id": "00AYnwsiVqe4"
   },
   "source": [
    "В `XGBoost` имеется возможность реализовать свои метрики и функции потерь. Для функций потерь необходимо уметь считать градиент и гессиан (точнее, его главную диагональ)."
   ]
  },
  {
   "cell_type": "markdown",
   "metadata": {
    "id": "6V4mvSpcf-iD"
   },
   "source": [
    "Разделим данные на `train`, `val` и `test`:"
   ]
  },
  {
   "cell_type": "code",
   "execution_count": 45,
   "metadata": {
    "ExecuteTime": {
     "end_time": "2021-03-06T07:44:21.395941Z",
     "start_time": "2021-03-06T07:44:21.375662Z"
    },
    "id": "Gc5pOTdWVqe5"
   },
   "outputs": [],
   "source": [
    "X_train, X_rest, y_train, y_rest = train_test_split(\n",
    "    X, y, test_size=0.25, random_state=42\n",
    ")\n",
    "X_validate, X_test, y_validate, y_test = train_test_split(\n",
    "    X_rest, y_rest, test_size=0.5, random_state=42\n",
    ")"
   ]
  },
  {
   "cell_type": "markdown",
   "metadata": {
    "id": "bc24AUCKf-iD"
   },
   "source": [
    "Определим свою функцию потерь MSE. Она должна возвращать градиент и главную диагональ гессиана:"
   ]
  },
  {
   "cell_type": "code",
   "execution_count": 46,
   "metadata": {
    "ExecuteTime": {
     "end_time": "2021-03-06T07:44:24.862317Z",
     "start_time": "2021-03-06T07:44:24.849854Z"
    },
    "id": "6nSDYtt5Vqe7"
   },
   "outputs": [],
   "source": [
    "def my_xgb_reg_linear(preds, dtrain):\n",
    "    # извлекаем истинные метки классов\n",
    "    labels = dtrain.get_label()\n",
    "    # градиент функции потерь по ответам\n",
    "    grad = (preds - labels)\n",
    "    # вторые производные\n",
    "    hess = np.ones(labels.shape[0])\n",
    "    return grad, hess"
   ]
  },
  {
   "cell_type": "markdown",
   "metadata": {
    "id": "aRJqYAU7f-iE"
   },
   "source": [
    "Обучим нашу модель, используя свою функцию потерь. Качество на тесте и валидации &mdash; `RMSE`:"
   ]
  },
  {
   "cell_type": "code",
   "execution_count": 47,
   "metadata": {
    "ExecuteTime": {
     "end_time": "2021-03-06T07:44:38.409049Z",
     "start_time": "2021-03-06T07:44:37.775048Z"
    },
    "colab": {
     "base_uri": "https://localhost:8080/"
    },
    "executionInfo": {
     "elapsed": 1570,
     "status": "ok",
     "timestamp": 1614950825603,
     "user": {
      "displayName": "София Сергеевна Ожерельева",
      "photoUrl": "",
      "userId": "16183486602369596527"
     },
     "user_tz": -180
    },
    "id": "xeoleuOeVqe9",
    "outputId": "7ba70107-49e8-4619-f621-00bc8c4bfbf7"
   },
   "outputs": [
    {
     "name": "stdout",
     "output_type": "stream",
     "text": [
      "Вывод при обучении:\n",
      "[23:45:53] WARNING: ../src/objective/regression_obj.cu:188: reg:linear is now deprecated in favor of reg:squarederror.\n",
      "[23:45:53] WARNING: ../src/learner.cc:576: \n",
      "Parameters: { \"silent\" } might not be used.\n",
      "\n",
      "  This could be a false alarm, with some parameters getting used by language bindings but\n",
      "  then being mistakenly passed down to XGBoost core, or some parameter actually being used\n",
      "  but getting flagged wrongly here. Please open an issue if you find any such cases.\n",
      "\n",
      "\n",
      "[0]\tvalidate-rmse:15.48851\ttest-rmse:16.76330\n",
      "[50]\tvalidate-rmse:2.60846\ttest-rmse:3.36515\n",
      "[100]\tvalidate-rmse:2.59692\ttest-rmse:3.35302\n",
      "[150]\tvalidate-rmse:2.59538\ttest-rmse:3.35185\n",
      "[199]\tvalidate-rmse:2.59552\ttest-rmse:3.35174\n",
      "\n",
      "\n",
      "Результат на тестовых данных:\n",
      " [0]\teval-rmse:3.351737\n"
     ]
    }
   ],
   "source": [
    "xgtrain = xgb.DMatrix(X_train, label=y_train, \n",
    "                      feature_names=boston['feature_names'])\n",
    "xgvalidate = xgb.DMatrix(X_validate, label=y_validate, \n",
    "                         feature_names=boston['feature_names'])\n",
    "xgtest = xgb.DMatrix(X_test, label=y_test, \n",
    "                     feature_names=boston['feature_names'])\n",
    "\n",
    "print(\"Вывод при обучении:\")\n",
    "bst = xgb.train(\n",
    "    params, xgtrain, num_boost_round=200, obj=my_xgb_reg_linear,\n",
    "    evals=[(xgvalidate, \"validate\"), (xgtest, \"test\")], verbose_eval=50\n",
    ")\n",
    "\n",
    "print(\"\\n\\nРезультат на тестовых данных:\\n\", bst.eval(xgtest))"
   ]
  },
  {
   "cell_type": "markdown",
   "metadata": {
    "id": "oHRptX1OVqe_"
   },
   "source": [
    "### 1.5 Важность признаков\n",
    "\n"
   ]
  },
  {
   "cell_type": "markdown",
   "metadata": {
    "id": "NIfLYabjVqfA"
   },
   "source": [
    "С помощью функции `get_fscore` мы можем посмотреть сколько раз каждый признак использовался в качестве разделяющего при построении дерева:"
   ]
  },
  {
   "cell_type": "code",
   "execution_count": 48,
   "metadata": {
    "ExecuteTime": {
     "end_time": "2021-03-06T07:45:00.640893Z",
     "start_time": "2021-03-06T07:45:00.329044Z"
    },
    "id": "pOCxPc_bVqfA",
    "outputId": "d901dc9f-3850-404d-d95d-6ab642af3930"
   },
   "outputs": [
    {
     "name": "stdout",
     "output_type": "stream",
     "text": [
      "[23:45:53] WARNING: ../src/objective/regression_obj.cu:188: reg:linear is now deprecated in favor of reg:squarederror.\n",
      "[23:45:53] WARNING: ../src/learner.cc:576: \n",
      "Parameters: { \"silent\" } might not be used.\n",
      "\n",
      "  This could be a false alarm, with some parameters getting used by language bindings but\n",
      "  then being mistakenly passed down to XGBoost core, or some parameter actually being used\n",
      "  but getting flagged wrongly here. Please open an issue if you find any such cases.\n",
      "\n",
      "\n",
      "CRIM\t744.0\n",
      "RM\t449.0\n",
      "AGE\t383.0\n",
      "DIS\t306.0\n",
      "LSTAT\t294.0\n",
      "B\t266.0\n",
      "NOX\t177.0\n",
      "INDUS\t113.0\n",
      "TAX\t73.0\n",
      "PTRATIO\t72.0\n",
      "ZN\t67.0\n",
      "RAD\t36.0\n",
      "CHAS\t16.0\n"
     ]
    }
   ],
   "source": [
    "# Обучение модели\n",
    "params = {\n",
    "    \"objective\": \"reg:linear\",\n",
    "    \"booster\": \"gbtree\",\n",
    "    \"eval_metric\": \"rmse\",\n",
    "    \"max_depth\": 6,\n",
    "    \"tree_method\": \"hist\",\n",
    "    \"silent\": True,\n",
    "    \"random_state\": 42\n",
    "}\n",
    "bst = xgb.train(params, xgtrain, num_boost_round=100)\n",
    "\n",
    "# Важность признаков\n",
    "fstrs = bst.get_fscore()\n",
    "\n",
    "# Печать\n",
    "for name, value in Counter(bst.get_fscore()).most_common():\n",
    "    print(\"{}\\t{}\".format(name, value))"
   ]
  },
  {
   "cell_type": "markdown",
   "metadata": {
    "id": "JJkriFyBVqfD"
   },
   "source": [
    "Отрисуем график Feature inportance для нашего бустинга:"
   ]
  },
  {
   "cell_type": "code",
   "execution_count": 49,
   "metadata": {
    "ExecuteTime": {
     "end_time": "2021-03-06T07:45:03.886014Z",
     "start_time": "2021-03-06T07:45:03.521805Z"
    },
    "id": "GSJlENHgVqfD",
    "outputId": "f39750b2-4a16-4447-ff52-7b250eb3fcb9"
   },
   "outputs": [
    {
     "data": {
      "image/png": "[encoded data removed]",
      "text/plain": [
       "<Figure size 432x288 with 1 Axes>"
      ]
     },
     "metadata": {
      "needs_background": "light"
     },
     "output_type": "display_data"
    }
   ],
   "source": [
    "xgb.plot_importance(bst)\n",
    "plt.show()"
   ]
  },
  {
   "cell_type": "markdown",
   "metadata": {
    "id": "R3GuktTNVqfF"
   },
   "source": [
    "### 1.6 Бинаризация признаков в XGBoost\n",
    "\n",
    "Использовать все возможные значения каждого признака для выбора разбиения &mdash; очень накладно. Поэтому обычно значения признака разбиваются на небольшое число корзин (бины). Существуют разные стратегии выбора бинов.\n",
    "\n",
    "Стратегии задаются параметром `tree_method`. \n",
    "\n",
    "Возможные значения:\n",
    "  - `exact` &mdash; используются всевозможные значения факторов;\n",
    "  - `approx` &mdash; на каждой итерации бины пересчитываются в зависимости от значений градиента. Более того, можно пересчитывать локально для каждой вершины строящегося дерева. Параметр `sketch_eps` задает примерное кол-во бинов: число бинов равно примерно `1/sketch_eps`;\n",
    "  - `hist` &mdash; гистограмма, которая считается один раз перед обучением. Работает в 8-10 раз быстрее выше представленных стратегий без особой потери качества."
   ]
  },
  {
   "cell_type": "code",
   "execution_count": 50,
   "metadata": {
    "ExecuteTime": {
     "end_time": "2021-03-06T07:45:16.696144Z",
     "start_time": "2021-03-06T07:45:16.340581Z"
    },
    "colab": {
     "base_uri": "https://localhost:8080/"
    },
    "executionInfo": {
     "elapsed": 1942,
     "status": "ok",
     "timestamp": 1614956865161,
     "user": {
      "displayName": "София Сергеевна Ожерельева",
      "photoUrl": "",
      "userId": "16183486602369596527"
     },
     "user_tz": -180
    },
    "id": "0ZTT7JjtVqfG",
    "outputId": "fe038415-461d-4224-b2fe-c46392b3c4e4"
   },
   "outputs": [
    {
     "name": "stdout",
     "output_type": "stream",
     "text": [
      "[23:45:54] WARNING: ../src/learner.cc:576: \n",
      "Parameters: { \"silent\" } might not be used.\n",
      "\n",
      "  This could be a false alarm, with some parameters getting used by language bindings but\n",
      "  then being mistakenly passed down to XGBoost core, or some parameter actually being used\n",
      "  but getting flagged wrongly here. Please open an issue if you find any such cases.\n",
      "\n",
      "\n",
      "Метод бинаризации: exact\n",
      "Результат на валидации: [0]\teval-rmse:2.534564\n",
      "\n",
      "[23:45:54] WARNING: ../src/learner.cc:576: \n",
      "Parameters: { \"silent\" } might not be used.\n",
      "\n",
      "  This could be a false alarm, with some parameters getting used by language bindings but\n",
      "  then being mistakenly passed down to XGBoost core, or some parameter actually being used\n",
      "  but getting flagged wrongly here. Please open an issue if you find any such cases.\n",
      "\n",
      "\n",
      "Метод бинаризации: approx\n",
      "Результат на валидации: [0]\teval-rmse:2.816162\n",
      "\n",
      "[23:45:54] WARNING: ../src/learner.cc:576: \n",
      "Parameters: { \"silent\" } might not be used.\n",
      "\n",
      "  This could be a false alarm, with some parameters getting used by language bindings but\n",
      "  then being mistakenly passed down to XGBoost core, or some parameter actually being used\n",
      "  but getting flagged wrongly here. Please open an issue if you find any such cases.\n",
      "\n",
      "\n",
      "Метод бинаризации: hist\n",
      "Результат на валидации: [0]\teval-rmse:2.597089\n",
      "\n"
     ]
    }
   ],
   "source": [
    "for tree_method in [\"exact\", \"approx\", \"hist\"]:\n",
    "    params = {\n",
    "        \"tree_method\": tree_method,\n",
    "        \"sketch_eps\": 0.2,\n",
    "        \"silent\": True\n",
    "    }\n",
    "    bst = xgb.train(params, xgtrain, num_boost_round=100)\n",
    "    print(\"Метод бинаризации: {}\\nРезультат на валидации: {}\\n\".format(tree_method, \n",
    "                                                 bst.eval(xgvalidate)))"
   ]
  },
  {
   "cell_type": "markdown",
   "metadata": {
    "id": "zVK5AdC7VqfK"
   },
   "source": [
    "## 2. CatBoost"
   ]
  },
  {
   "cell_type": "markdown",
   "metadata": {
    "id": "jOCAXiPvVqfK"
   },
   "source": [
    "Рассмотрим теперь ещё одну библиотеку: `CatBoost` от `Yandex`.\n",
    "\n",
    "Аналогом для класса `DMatrix` в `CatBoost` служит класс `catboost.Pool` Помимо прочего, этот класс содержит индексы категориальных признаков. [Подробнее про catboost.Pool](https://tech.yandex.com/catboost/doc/dg/concepts/python-reference_pool-docpage/).\n",
    "\n",
    "Деревья в `CatBoost` строятся по слоям. При этом используются `oblivious decision trees`, то есть на каждом уровне дерева выбирается общее правило ветвления для всех вершин на этом уровне. Сплит выбирается из соображений наилучшего приближения вектора градиента.\n",
    "\n",
    "Для выбора количества деревьев нужно указать один из параметров: `iterations`, `num_boost_round`, `n_estimators`, `num_trees` (это все синонимы).\n",
    "\n",
    "Классы `CatBoostClassifier` и `CatBoostRegressor` можно использовать в `GridSearch` и других `sklearn` методах, так как они имеют такой же интерфейс.\n",
    "\n",
    "С поддерживаемыми метриками и функциями потерь можно ознакомиться по [ссылке](https://tech.yandex.com/catboost/doc/dg/concepts/loss-functions-docpage/#loss-functions__regression)."
   ]
  },
  {
   "cell_type": "markdown",
   "metadata": {
    "id": "Dt55ZdDG9L1u"
   },
   "source": [
    "Аналогично будем обучать модели на датасете `Boston Housing`. \n",
    "\n",
    "Произведем загрузку данных:"
   ]
  },
  {
   "cell_type": "code",
   "execution_count": 51,
   "metadata": {
    "ExecuteTime": {
     "end_time": "2021-03-06T07:45:23.358505Z",
     "start_time": "2021-03-06T07:45:23.332031Z"
    },
    "id": "V7I7PimYVqfL"
   },
   "outputs": [],
   "source": [
    "boston = load_boston()\n",
    "y = boston['target']\n",
    "X = boston['data']"
   ]
  },
  {
   "cell_type": "markdown",
   "metadata": {
    "id": "apDdg8HS9baS"
   },
   "source": [
    "Рассмотрим `CatBoostRegressor` и проведем кросс-валидацию на 3 фолда с помощью функции `cross_val_score` библиотеки `sklearn`:"
   ]
  },
  {
   "cell_type": "code",
   "execution_count": 52,
   "metadata": {
    "ExecuteTime": {
     "end_time": "2021-03-06T07:45:34.038776Z",
     "start_time": "2021-03-06T07:45:29.609655Z"
    },
    "colab": {
     "base_uri": "https://localhost:8080/"
    },
    "executionInfo": {
     "elapsed": 6509,
     "status": "ok",
     "timestamp": 1614957392322,
     "user": {
      "displayName": "София Сергеевна Ожерельева",
      "photoUrl": "",
      "userId": "16183486602369596527"
     },
     "user_tz": -180
    },
    "id": "UE_Cbi3a9bac",
    "outputId": "4bcb693b-708b-4f17-e2e2-e676a51326e4"
   },
   "outputs": [
    {
     "data": {
      "text/plain": [
       "array([ -6.41301696, -41.88990983, -48.83178757])"
      ]
     },
     "execution_count": 52,
     "metadata": {},
     "output_type": "execute_result"
    }
   ],
   "source": [
    "cb_model = CatBoostRegressor(silent=True, random_state=42)\n",
    "\n",
    "cross_val_score(cb_model, X[train_index], y[train_index], \n",
    "                scoring='neg_mean_squared_error', cv=3)"
   ]
  },
  {
   "cell_type": "markdown",
   "metadata": {
    "id": "uoGrhBDg9bad"
   },
   "source": [
    "Также мы можем провести кросс-валидацию с помощью функции `KFold`. С помощью неё разбить данные на 3 фолда и для каждого фолда посчитать ошибку на предсказании:"
   ]
  },
  {
   "cell_type": "code",
   "execution_count": 53,
   "metadata": {
    "ExecuteTime": {
     "end_time": "2021-03-06T07:45:56.790833Z",
     "start_time": "2021-03-06T07:45:51.998402Z"
    },
    "colab": {
     "base_uri": "https://localhost:8080/"
    },
    "executionInfo": {
     "elapsed": 7656,
     "status": "ok",
     "timestamp": 1614957417713,
     "user": {
      "displayName": "София Сергеевна Ожерельева",
      "photoUrl": "",
      "userId": "16183486602369596527"
     },
     "user_tz": -180
    },
    "id": "PAv-ZgIB9bad",
    "outputId": "05f93e9d-4e90-4197-cb7d-338e2cc9805d"
   },
   "outputs": [
    {
     "name": "stdout",
     "output_type": "stream",
     "text": [
      "CatBoost RMSE on fold 0: 2.90\n",
      "CatBoost RMSE on fold 1: 3.80\n",
      "CatBoost RMSE on fold 2: 2.81\n"
     ]
    }
   ],
   "source": [
    "kf = KFold(n_splits=3, shuffle=True, random_state=42)\n",
    "\n",
    "for fold_index, (train_index, test_index) in enumerate(kf.split(y)):\n",
    "    cb_model = CatBoostRegressor(\n",
    "        silent=True, random_state=42\n",
    "    ).fit(X[train_index], y[train_index])\n",
    "\n",
    "    cb_predictions = cb_model.predict(X[test_index])\n",
    "    \n",
    "    actuals = y[test_index]\n",
    "    print(\"CatBoost RMSE on fold {}: {:.2f}\".format(\n",
    "        fold_index, np.sqrt(mean_squared_error(actuals, cb_predictions))\n",
    "    ))"
   ]
  },
  {
   "cell_type": "markdown",
   "metadata": {
    "id": "7szNOCT2VqfQ"
   },
   "source": [
    "Используем `Pool` для хранения данных.\n",
    "\n",
    "В конструктор `Pool` можно передать дополнительные параметры, например:\n",
    "* `weight` &mdash; позволяет присвоить объектам веса;\n",
    "* `cat_features` &mdash; индексы категориальных признаков."
   ]
  },
  {
   "cell_type": "code",
   "execution_count": 54,
   "metadata": {
    "ExecuteTime": {
     "end_time": "2021-03-06T07:46:06.678604Z",
     "start_time": "2021-03-06T07:46:06.658804Z"
    },
    "id": "QOnpUeRLVqfR"
   },
   "outputs": [],
   "source": [
    "train_data = Pool(\n",
    "    data=X[train_index],\n",
    "    label=y[train_index],\n",
    "    weight=np.random.rand(len(train_index))  # Присваиваем веса объектам, если хотим\n",
    "    # cat_features=[0,2,5]\n",
    ")\n",
    "\n",
    "test_data = Pool(\n",
    "    data=X[test_index],\n",
    ")"
   ]
  },
  {
   "cell_type": "markdown",
   "metadata": {
    "id": "bX9ZQtIU-V4w"
   },
   "source": [
    "Обучение модели и предсказание:"
   ]
  },
  {
   "cell_type": "code",
   "execution_count": 55,
   "metadata": {
    "ExecuteTime": {
     "end_time": "2021-03-06T07:46:16.441319Z",
     "start_time": "2021-03-06T07:46:14.459692Z"
    },
    "colab": {
     "base_uri": "https://localhost:8080/"
    },
    "executionInfo": {
     "elapsed": 3125,
     "status": "ok",
     "timestamp": 1614957626389,
     "user": {
      "displayName": "София Сергеевна Ожерельева",
      "photoUrl": "",
      "userId": "16183486602369596527"
     },
     "user_tz": -180
    },
    "id": "ErQV8aKm903X",
    "outputId": "b7bccb44-f4ed-4c84-9d88-65ec009ac4f7"
   },
   "outputs": [
    {
     "name": "stdout",
     "output_type": "stream",
     "text": [
      "CatBoost MSE: 2.94\n"
     ]
    }
   ],
   "source": [
    "model = CatBoostRegressor(silent=True, random_state=42)\n",
    "\n",
    "model.fit(train_data)\n",
    "cb_predictions = model.predict(test_data)\n",
    "actuals = y[test_index]\n",
    "print(\"CatBoost MSE: {:.2f}\".format(\n",
    "    np.sqrt(mean_squared_error(actuals, cb_predictions))\n",
    "))"
   ]
  },
  {
   "cell_type": "markdown",
   "metadata": {
    "id": "TMWkoPJkVqfS"
   },
   "source": [
    "### 2.1 Своя функция потерь в CatBoost"
   ]
  },
  {
   "cell_type": "markdown",
   "metadata": {
    "id": "Rs1b1hqkVqfT"
   },
   "source": [
    "Можно написать свою функцию потерь и передать её в `CatBoost`. В качестве аргументов ана должна принимать предсказания, целевые метки и веса объектов, а возвращать список пар из градиента и гессиана: каждому объекту по паре. [Пример реализации logloss](https://tech.yandex.com/catboost/doc/dg/concepts/python-usages-examples-docpage/#custom-objective-function).\n",
    "\n",
    "Реализуем `взвешенную MSE`. Так как функцию потерь в `CatBoost` необходимо **максимизировать**, то в нашем случае она поменяет знак:\n",
    "\n",
    "$$ \\mathcal{L}\\left(y_i, p_i, w_i\\right) = -\\frac{1}{2}w_i(p_i - y_i)^2, $$\n",
    "где\n",
    " - $y_i$ &mdash; истинные метки;\n",
    " - $p_i$ &mdash; наши предсказания;\n",
    " - $w_i$ &mdash; веса объектов, задаваемые пользователем."
   ]
  },
  {
   "cell_type": "code",
   "execution_count": 56,
   "metadata": {
    "ExecuteTime": {
     "end_time": "2021-03-06T07:46:39.661011Z",
     "start_time": "2021-03-06T07:46:39.641530Z"
    },
    "id": "8YmMXanvVqfU"
   },
   "outputs": [],
   "source": [
    "class MyCatBoostRegLinear(object):\n",
    "    def calc_ders_range(self, approxes, targets, weights=None):\n",
    "        '''\n",
    "        Реализация функции потерь.\n",
    "        Аргументы:\n",
    "        * approxes -- предсказания\n",
    "        * targets -- целевые метки\n",
    "        * weights -- веса объектов\n",
    "        \n",
    "        Возвращает список, в котором для каждого \n",
    "        объекта выборки находится tuple из градиента и гессиана.\n",
    "        '''\n",
    "\n",
    "        assert len(approxes) == len(targets)\n",
    "        \n",
    "        # Если веса не заданы, то есть обычное MSE\n",
    "        if weights is None:\n",
    "            return [(-approxes[i] + targets[i], -1.0) \n",
    "                    for i in range(len(approxes))]\n",
    "        \n",
    "        # Если веса заданы, то есть взвешенное MSE\n",
    "        else:\n",
    "            assert len(approxes) == len(weights)\n",
    "            return [(-weights[i] * (approxes[i] - targets[i]), -weights[i])\n",
    "                    for i in range(len(approxes))]\n"
   ]
  },
  {
   "cell_type": "markdown",
   "metadata": {
    "id": "6oPnM6isf-iJ"
   },
   "source": [
    "Обучим катбуст с нашей функцией потерь"
   ]
  },
  {
   "cell_type": "code",
   "execution_count": 57,
   "metadata": {
    "ExecuteTime": {
     "end_time": "2021-03-06T07:46:44.729259Z",
     "start_time": "2021-03-06T07:46:42.536256Z"
    },
    "colab": {
     "base_uri": "https://localhost:8080/"
    },
    "executionInfo": {
     "elapsed": 3581,
     "status": "ok",
     "timestamp": 1614957921647,
     "user": {
      "displayName": "София Сергеевна Ожерельева",
      "photoUrl": "",
      "userId": "16183486602369596527"
     },
     "user_tz": -180
    },
    "id": "v4GXZ2NtVqfV",
    "outputId": "eebc8bcc-c76c-496f-a62b-849e54d58e37"
   },
   "outputs": [
    {
     "name": "stdout",
     "output_type": "stream",
     "text": [
      "0:\tlearn: 24.1703734\ttest: 21.8492408\tbest: 21.8492408 (0)\ttotal: 131ms\tremaining: 2m 11s\n",
      "100:\tlearn: 4.0323601\ttest: 3.2763921\tbest: 3.2763921 (100)\ttotal: 202ms\tremaining: 1.8s\n",
      "200:\tlearn: 2.2967889\ttest: 2.4738771\tbest: 2.4738771 (200)\ttotal: 276ms\tremaining: 1.1s\n",
      "300:\tlearn: 1.8577502\ttest: 2.3253302\tbest: 2.3253302 (300)\ttotal: 356ms\tremaining: 827ms\n",
      "400:\tlearn: 1.5855192\ttest: 2.2795508\tbest: 2.2795508 (400)\ttotal: 432ms\tremaining: 646ms\n",
      "500:\tlearn: 1.3276959\ttest: 2.2513366\tbest: 2.2513366 (500)\ttotal: 507ms\tremaining: 505ms\n",
      "600:\tlearn: 1.1443431\ttest: 2.2308101\tbest: 2.2308101 (600)\ttotal: 588ms\tremaining: 390ms\n",
      "700:\tlearn: 1.0026655\ttest: 2.2352036\tbest: 2.2308101 (600)\ttotal: 668ms\tremaining: 285ms\n",
      "800:\tlearn: 0.8662814\ttest: 2.2349875\tbest: 2.2308101 (600)\ttotal: 746ms\tremaining: 185ms\n",
      "900:\tlearn: 0.7552495\ttest: 2.2464049\tbest: 2.2308101 (600)\ttotal: 837ms\tremaining: 92ms\n",
      "999:\tlearn: 0.6744016\ttest: 2.2474681\tbest: 2.2308101 (600)\ttotal: 924ms\tremaining: 0us\n",
      "\n",
      "bestTest = 2.230810141\n",
      "bestIteration = 600\n",
      "\n",
      "Shrink model to first 601 iterations.\n",
      "RMSE: 1.19\n"
     ]
    }
   ],
   "source": [
    "cb = CatBoostRegressor(metric_period=100,\n",
    "                       loss_function=MyCatBoostRegLinear(),\n",
    "                       eval_metric=\"RMSE\", random_state=42)\n",
    "\n",
    "cb.fit(X_train, y_train, eval_set=[(X_validate, y_validate)])\n",
    "pred = cb.predict(X[test_index])\n",
    "\n",
    "print(\"RMSE: {:.2f}\".format(np.sqrt(mean_squared_error(y[test_index], pred))))"
   ]
  },
  {
   "cell_type": "markdown",
   "metadata": {
    "id": "67wnb6vJVqfW"
   },
   "source": [
    "### 2.2 Визуализация"
   ]
  },
  {
   "cell_type": "markdown",
   "metadata": {
    "id": "gubXy9koVqfX"
   },
   "source": [
    "В `CatBoost` имеется возможность строить кривые обучения в режиме реального времени. Для сохранения графиков в ноутбуке нужно нажать `Widgets` -> `Save Notebook Widget State`.\n",
    "\n",
    "Ниже изображены функции потерь для обучаещих, валидационных и тестовых данных."
   ]
  },
  {
   "cell_type": "code",
   "execution_count": 58,
   "metadata": {
    "ExecuteTime": {
     "end_time": "2021-03-06T07:47:04.178075Z",
     "start_time": "2021-03-06T07:47:01.285833Z"
    },
    "colab": {
     "base_uri": "https://localhost:8080/",
     "height": 34,
     "referenced_widgets": [
      "b380a97aae484a1f8079df2614c1c141",
      "0c1871c835db48f58fba6e8b079d1a39"
     ]
    },
    "executionInfo": {
     "elapsed": 4440,
     "status": "ok",
     "timestamp": 1614957935004,
     "user": {
      "displayName": "София Сергеевна Ожерельева",
      "photoUrl": "",
      "userId": "16183486602369596527"
     },
     "user_tz": -180
    },
    "id": "ssKRe_lgVqfY",
    "outputId": "c82a1c9f-d5f3-4647-9665-ba2384db8d0e"
   },
   "outputs": [
    {
     "data": {
      "application/vnd.jupyter.widget-view+json": {
       "model_id": "43a9ecf50bd745ccb1abf3b9bc68fde7",
       "version_major": 2,
       "version_minor": 0
      },
      "text/plain": [
       "MetricVisualizer(layout=Layout(align_self='stretch', height='500px'))"
      ]
     },
     "metadata": {},
     "output_type": "display_data"
    },
    {
     "data": {
      "text/plain": [
       "<catboost.core.CatBoostRegressor at 0x7fab7e79ac70>"
      ]
     },
     "execution_count": 58,
     "metadata": {},
     "output_type": "execute_result"
    }
   ],
   "source": [
    "cb = CatBoostRegressor(\n",
    "    silent=True, eval_metric=\"MAE\", custom_metric=[\"MAPE\"], random_state=42\n",
    ")\n",
    "cb.fit(X_train, y_train, \n",
    "       eval_set=[(X_validate, y_validate), (X_test, y_test)], plot=True)"
   ]
  },
  {
   "cell_type": "markdown",
   "metadata": {
    "id": "7_pRNX0CVqfb"
   },
   "source": [
    " ### 2.3 Бинаризация признаков в CatBoost\n",
    " \n",
    " Использовать все возможные значения каждого признака для выбора разбиения &mdash; очень накладно. Поэтому обычно значения признака разбиваются на небольшое число корзин (бины). Существуют разные стратегии выбора бинов.\n",
    " \n",
    " Выбрать стратегию бинаризации можно, установив параметр `feature_border_type`.\n",
    " \n",
    "  - `Uniform` &mdash; границы выбираются равномерно по значениям;\n",
    "  - `Median` &mdash; в каждый бин попадает примерно одинаковое число различных значений;\n",
    "  - `UniformAndQuantiles` &mdash; комбинируем результаты бинаризации методом Uniform и Median предварительно уменьшив вдвое параметр бинаризации для каждого из них;\n",
    "  - `MaxLogSum, GreedyLogSum` максимизируется значение формулы $\\sum_{i=1}^K \\log(n_i)$, где $K$ &mdash; требуемое кол-во бинов, $n_i$ &mdash; число объектов в этом бакете;\n",
    "  - `MinEntropy` &mdash; аналогично, но максимизируется энтропия: $-\\sum_{i=1}^K n_i \\log(n_i)$."
   ]
  },
  {
   "cell_type": "markdown",
   "metadata": {
    "id": "vORaMVrXf-iL"
   },
   "source": [
    "Для каждой стратегии бинаризации посчитаем `MSE` и найдем оптимальную:"
   ]
  },
  {
   "cell_type": "code",
   "execution_count": 25,
   "metadata": {
    "ExecuteTime": {
     "end_time": "2021-03-06T07:48:23.998961Z",
     "start_time": "2021-03-06T07:47:20.642701Z"
    },
    "id": "zfmX3QUNVqfc",
    "outputId": "238cddb9-8e5d-49f5-f698-b11af46e6bba"
   },
   "outputs": [
    {
     "name": "stdout",
     "output_type": "stream",
     "text": [
      "MSE: 0.659, strategy: MinEntropy\n",
      "MSE: 0.663, strategy: GreedyLogSum\n",
      "MSE: 0.669, strategy: MaxLogSum\n",
      "MSE: 0.670, strategy: Median\n",
      "MSE: 0.681, strategy: UniformAndQuantiles\n",
      "MSE: 0.681, strategy: Uniform\n"
     ]
    }
   ],
   "source": [
    "params = {\n",
    "    \"feature_border_type\": [\n",
    "      \"Uniform\",\n",
    "      \"Median\",\n",
    "      \"UniformAndQuantiles\",\n",
    "      \"MaxLogSum\",\n",
    "      \"GreedyLogSum\",\n",
    "      \"MinEntropy\"\n",
    "      ]\n",
    "}\n",
    "\n",
    "cb = CatBoostRegressor(silent=True, random_state=42)\n",
    "grid = GridSearchCV(cb, params, cv=5)\n",
    "grid.fit(X, y)\n",
    "\n",
    "for score, strategy in sorted(\n",
    "    zip(grid.cv_results_['mean_test_score'],\n",
    "    grid.cv_results_['param_feature_border_type'].data)\n",
    "):\n",
    "    print(\"MSE: {:.3f}, strategy: {}\".format(score, strategy))"
   ]
  },
  {
   "cell_type": "markdown",
   "metadata": {
    "id": "uu2GWlBoVqfd"
   },
   "source": [
    "### 2.4 Важность признаков"
   ]
  },
  {
   "cell_type": "code",
   "execution_count": 26,
   "metadata": {
    "ExecuteTime": {
     "end_time": "2021-03-06T07:48:25.811362Z",
     "start_time": "2021-03-06T07:48:24.001685Z"
    },
    "id": "jHHZmlWMVqfe",
    "outputId": "6f468595-3199-47d3-84cf-f53eaf4fb4a7"
   },
   "outputs": [
    {
     "name": "stdout",
     "output_type": "stream",
     "text": [
      "LSTAT\t31.07\n",
      "RM\t29.17\n",
      "DIS\t6.63\n",
      "CRIM\t5.20\n",
      "AGE\t4.97\n",
      "B\t4.17\n",
      "PTRATIO\t3.80\n",
      "NOX\t3.75\n",
      "TAX\t3.56\n",
      "INDUS\t2.63\n",
      "RAD\t2.58\n",
      "CHAS\t1.53\n",
      "ZN\t0.93\n"
     ]
    }
   ],
   "source": [
    "cb = CatBoostRegressor(silent=True, random_state=42)\n",
    "cb.fit(X_train, y_train)\n",
    "\n",
    "for value, name in sorted(\n",
    "    zip(cb.get_feature_importance(fstr_type=\"FeatureImportance\"), \n",
    "        boston[\"feature_names\"]), \n",
    "    reverse=True\n",
    "):\n",
    "    print(\"{}\\t{:.2f}\".format(name, value))"
   ]
  },
  {
   "cell_type": "markdown",
   "metadata": {
    "id": "Lh8MptY3tfHV"
   },
   "source": [
    "Важность признаков нормализована так, чтобы сумма равнялась $100$. Этого можно достичь, так как все значения неотрицаельны. "
   ]
  },
  {
   "cell_type": "markdown",
   "metadata": {
    "id": "3GhyExPNVqff"
   },
   "source": [
    "### 2.5 Категориальные признаки"
   ]
  },
  {
   "cell_type": "markdown",
   "metadata": {
    "id": "UUP9rzPZVqff"
   },
   "source": [
    "Одно из основных преимуществ `CatBoost` &mdash; обработка категориальных признаков.\n",
    "\n",
    "Если количество различных значений признака небольшое, то для его кодировки применяется `one-hot-encodding`.\n",
    "Иначе применяется `target-encoding`: признак заменяется на статистики по тагретам объектов, которые имеют данное значение категориального признака.\n",
    "\n",
    "Такие манипуляции очень легко могут привести к переобучению, потому что в данные подмешивается информация о метках объектов, после чего происходит обучение. `CatBoost` инкапсулирует все эти опасные вычисления.\n",
    "\n",
    "Особенности работы с категориальными факторами: \n",
    "\n",
    "  - объекты перемешиваются в случайном порядке;\n",
    "  - для $i$-го объекта в перестановке статистика вычисляется по всем объектам, идущим **до него**, категориальный фактор заменяется на числовой;\n",
    "  - среднее сглаживается некоторым априорным приближением;\n",
    "  - по факту обучается несколько (3) модели на разных перестановках;\n",
    "  - рассматриваются композиции категориальных факторов (`max_ctr_complexity`);\n",
    "  - в момент применения модели, новые объекты приписываются в конец перестановки по обучающей выборке и, таким образом, статистика для них считается по всем имеющимся данным;\n",
    "  - таргето-независимые статистики (`mean-encoding`) считаются по всем данным;\n",
    "  - для факторов с небольшим числом различных значений производится `OneHotEncoding` (параметр `one_hot_max_size` &mdash; максимальное значение для `OneHotEncoding'а`)."
   ]
  },
  {
   "cell_type": "markdown",
   "metadata": {
    "id": "4yq24-HEVqfg"
   },
   "source": [
    "Попробуем поработать с категориальными признаками на датасете титаник. В нем представлена базовая информация о пассажире лайнера, а также бинарная метка выжил/не выжил в крушении, которую и требуется предсказать."
   ]
  },
  {
   "cell_type": "code",
   "execution_count": 27,
   "metadata": {
    "ExecuteTime": {
     "end_time": "2021-03-06T07:48:48.305703Z",
     "start_time": "2021-03-06T07:48:47.897127Z"
    },
    "id": "kDC9GbwFVqfg"
   },
   "outputs": [],
   "source": [
    "titanic_df = titanic()\n",
    "\n",
    "X = titanic_df[0].drop('Survived', axis=1)\n",
    "y = titanic_df[0].Survived"
   ]
  },
  {
   "cell_type": "code",
   "execution_count": 28,
   "metadata": {
    "ExecuteTime": {
     "end_time": "2021-03-06T07:48:48.381787Z",
     "start_time": "2021-03-06T07:48:48.308457Z"
    },
    "id": "MT5uF9mZVqfi",
    "outputId": "9c6fe751-bc9d-4b85-b6d3-72c350df048a"
   },
   "outputs": [
    {
     "data": {
      "text/html": [
       "<div>\n",
       "<style scoped>\n",
       "    .dataframe tbody tr th:only-of-type {\n",
       "        vertical-align: middle;\n",
       "    }\n",
       "\n",
       "    .dataframe tbody tr th {\n",
       "        vertical-align: top;\n",
       "    }\n",
       "\n",
       "    .dataframe thead th {\n",
       "        text-align: right;\n",
       "    }\n",
       "</style>\n",
       "<table border=\"1\" class=\"dataframe\">\n",
       "  <thead>\n",
       "    <tr style=\"text-align: right;\">\n",
       "      <th></th>\n",
       "      <th>PassengerId</th>\n",
       "      <th>Pclass</th>\n",
       "      <th>Name</th>\n",
       "      <th>Sex</th>\n",
       "      <th>Age</th>\n",
       "      <th>SibSp</th>\n",
       "      <th>Parch</th>\n",
       "      <th>Ticket</th>\n",
       "      <th>Fare</th>\n",
       "      <th>Cabin</th>\n",
       "      <th>Embarked</th>\n",
       "    </tr>\n",
       "  </thead>\n",
       "  <tbody>\n",
       "    <tr>\n",
       "      <th>0</th>\n",
       "      <td>1</td>\n",
       "      <td>3</td>\n",
       "      <td>Braund, Mr. Owen Harris</td>\n",
       "      <td>male</td>\n",
       "      <td>22.0</td>\n",
       "      <td>1</td>\n",
       "      <td>0</td>\n",
       "      <td>A/5 21171</td>\n",
       "      <td>7.2500</td>\n",
       "      <td>NaN</td>\n",
       "      <td>S</td>\n",
       "    </tr>\n",
       "    <tr>\n",
       "      <th>1</th>\n",
       "      <td>2</td>\n",
       "      <td>1</td>\n",
       "      <td>Cumings, Mrs. John Bradley (Florence Briggs Th...</td>\n",
       "      <td>female</td>\n",
       "      <td>38.0</td>\n",
       "      <td>1</td>\n",
       "      <td>0</td>\n",
       "      <td>PC 17599</td>\n",
       "      <td>71.2833</td>\n",
       "      <td>C85</td>\n",
       "      <td>C</td>\n",
       "    </tr>\n",
       "    <tr>\n",
       "      <th>2</th>\n",
       "      <td>3</td>\n",
       "      <td>3</td>\n",
       "      <td>Heikkinen, Miss. Laina</td>\n",
       "      <td>female</td>\n",
       "      <td>26.0</td>\n",
       "      <td>0</td>\n",
       "      <td>0</td>\n",
       "      <td>STON/O2. 3101282</td>\n",
       "      <td>7.9250</td>\n",
       "      <td>NaN</td>\n",
       "      <td>S</td>\n",
       "    </tr>\n",
       "    <tr>\n",
       "      <th>3</th>\n",
       "      <td>4</td>\n",
       "      <td>1</td>\n",
       "      <td>Futrelle, Mrs. Jacques Heath (Lily May Peel)</td>\n",
       "      <td>female</td>\n",
       "      <td>35.0</td>\n",
       "      <td>1</td>\n",
       "      <td>0</td>\n",
       "      <td>113803</td>\n",
       "      <td>53.1000</td>\n",
       "      <td>C123</td>\n",
       "      <td>S</td>\n",
       "    </tr>\n",
       "    <tr>\n",
       "      <th>4</th>\n",
       "      <td>5</td>\n",
       "      <td>3</td>\n",
       "      <td>Allen, Mr. William Henry</td>\n",
       "      <td>male</td>\n",
       "      <td>35.0</td>\n",
       "      <td>0</td>\n",
       "      <td>0</td>\n",
       "      <td>373450</td>\n",
       "      <td>8.0500</td>\n",
       "      <td>NaN</td>\n",
       "      <td>S</td>\n",
       "    </tr>\n",
       "  </tbody>\n",
       "</table>\n",
       "</div>"
      ],
      "text/plain": [
       "   PassengerId  Pclass                                               Name  \\\n",
       "0            1       3                            Braund, Mr. Owen Harris   \n",
       "1            2       1  Cumings, Mrs. John Bradley (Florence Briggs Th...   \n",
       "2            3       3                             Heikkinen, Miss. Laina   \n",
       "3            4       1       Futrelle, Mrs. Jacques Heath (Lily May Peel)   \n",
       "4            5       3                           Allen, Mr. William Henry   \n",
       "\n",
       "      Sex   Age  SibSp  Parch            Ticket     Fare Cabin Embarked  \n",
       "0    male  22.0      1      0         A/5 21171   7.2500   NaN        S  \n",
       "1  female  38.0      1      0          PC 17599  71.2833   C85        C  \n",
       "2  female  26.0      0      0  STON/O2. 3101282   7.9250   NaN        S  \n",
       "3  female  35.0      1      0            113803  53.1000  C123        S  \n",
       "4    male  35.0      0      0            373450   8.0500   NaN        S  "
      ]
     },
     "execution_count": 28,
     "metadata": {},
     "output_type": "execute_result"
    }
   ],
   "source": [
    "X.head()"
   ]
  },
  {
   "cell_type": "markdown",
   "metadata": {
    "id": "OG1kQEnlVqfj"
   },
   "source": [
    "Найдем категориальные столбцы, а также заполним пропуски в них строкой \"NAN\":"
   ]
  },
  {
   "cell_type": "code",
   "execution_count": 29,
   "metadata": {
    "ExecuteTime": {
     "end_time": "2021-03-06T07:48:50.726248Z",
     "start_time": "2021-03-06T07:48:50.695997Z"
    },
    "id": "WyYOH4OCVqfk"
   },
   "outputs": [],
   "source": [
    "is_cat = (X.dtypes != float)\n",
    "\n",
    "for feature, feat_is_cat in is_cat.to_dict().items():\n",
    "    if feat_is_cat:\n",
    "        X[feature].fillna(\"NAN\", inplace=True)\n",
    "\n",
    "cat_features_index = np.where(is_cat)[0]"
   ]
  },
  {
   "cell_type": "markdown",
   "metadata": {
    "id": "BT59zPQ_Vqfl"
   },
   "source": [
    "Создаем `Pool`, в которых кроме прочего указываем индексы категориальных столбцов."
   ]
  },
  {
   "cell_type": "code",
   "execution_count": 30,
   "metadata": {
    "ExecuteTime": {
     "end_time": "2021-03-06T07:48:55.373566Z",
     "start_time": "2021-03-06T07:48:55.350554Z"
    },
    "id": "yS6mK09CVqfm"
   },
   "outputs": [],
   "source": [
    "X_train, X_test, y_train, y_test = train_test_split(\n",
    "    X, y, train_size=0.85, random_state=1234\n",
    ")\n",
    "\n",
    "train_pool = Pool(X_train, label=y_train, cat_features=cat_features_index, \n",
    "                  feature_names=list(X_train.columns))\n",
    "test_pool = Pool(X_test, label=y_test, cat_features=cat_features_index, \n",
    "                 feature_names=list(X_test.columns))"
   ]
  },
  {
   "cell_type": "markdown",
   "metadata": {
    "id": "b3nKPekYVqfn"
   },
   "source": [
    "Обучаем `CatBoostClassifier`. Будем после каждых `metric_period=100` итераций смотреть на метрику на `eval_set`-е. В итоге будем использовать модель, полученную на лучшей по метрике итерации (`use_best_model=True`)."
   ]
  },
  {
   "cell_type": "code",
   "execution_count": 31,
   "metadata": {
    "ExecuteTime": {
     "end_time": "2021-03-06T07:49:07.507862Z",
     "start_time": "2021-03-06T07:49:01.191903Z"
    },
    "id": "rEUebY3XVqfn",
    "outputId": "dc195576-9bd9-4551-d1a0-2e1077327013"
   },
   "outputs": [
    {
     "name": "stdout",
     "output_type": "stream",
     "text": [
      "Learning rate set to 0.029583\n",
      "0:\tlearn: 0.7820343\ttest: 0.8134328\tbest: 0.8134328 (0)\ttotal: 2.04ms\tremaining: 2.03s\n",
      "100:\tlearn: 0.8692206\ttest: 0.8208955\tbest: 0.8208955 (100)\ttotal: 225ms\tremaining: 2s\n",
      "200:\tlearn: 0.8771466\ttest: 0.8358209\tbest: 0.8358209 (200)\ttotal: 425ms\tremaining: 1.69s\n",
      "300:\tlearn: 0.8956407\ttest: 0.8358209\tbest: 0.8358209 (200)\ttotal: 690ms\tremaining: 1.6s\n",
      "400:\tlearn: 0.9141347\ttest: 0.8507463\tbest: 0.8507463 (400)\ttotal: 957ms\tremaining: 1.43s\n",
      "500:\tlearn: 0.9233818\ttest: 0.8432836\tbest: 0.8507463 (400)\ttotal: 1.23s\tremaining: 1.22s\n",
      "600:\tlearn: 0.9392338\ttest: 0.8507463\tbest: 0.8507463 (400)\ttotal: 1.51s\tremaining: 1s\n",
      "700:\tlearn: 0.9458388\ttest: 0.8432836\tbest: 0.8507463 (400)\ttotal: 1.84s\tremaining: 785ms\n",
      "800:\tlearn: 0.9511229\ttest: 0.8507463\tbest: 0.8507463 (400)\ttotal: 2.1s\tremaining: 523ms\n",
      "900:\tlearn: 0.9577279\ttest: 0.8432836\tbest: 0.8507463 (400)\ttotal: 2.37s\tremaining: 261ms\n",
      "999:\tlearn: 0.9630119\ttest: 0.8358209\tbest: 0.8507463 (400)\ttotal: 2.68s\tremaining: 0us\n",
      "\n",
      "bestTest = 0.8507462687\n",
      "bestIteration = 400\n",
      "\n",
      "Shrink model to first 401 iterations.\n"
     ]
    },
    {
     "data": {
      "text/plain": [
       "0.8860759493670884"
      ]
     },
     "execution_count": 31,
     "metadata": {},
     "output_type": "execute_result"
    }
   ],
   "source": [
    "model = CatBoostClassifier(eval_metric='Accuracy', \n",
    "                           use_best_model=True, random_seed=0)\n",
    "\n",
    "model.fit(train_pool, eval_set=test_pool, metric_period=100)\n",
    "y_pred = model.predict_proba(X_test)\n",
    "roc_auc_score(y_test, y_pred[:, 1])"
   ]
  },
  {
   "cell_type": "markdown",
   "metadata": {
    "id": "ih0fezeqDZsM"
   },
   "source": [
    "**Вывод:**\n",
    "\n",
    "таким образом мы рассмотрели две популярные библиотеки для бутсинга `XGBoost` и `CatBoost`. В `CatBoost` удобно работать с категориальными признаками и реализована красивая визуализация, `XGBoost` больше распространен."
   ]
  }
 ],
 "metadata": {
  "colab": {
   "collapsed_sections": [
    "67wnb6vJVqfW"
   ],
   "name": "3_vvedenievxgboosticatboost.ipynb",
   "provenance": []
  },
  "kernelspec": {
   "display_name": "Python 3",
   "language": "python",
   "name": "python3"
  },
  "language_info": {
   "codemirror_mode": {
    "name": "ipython",
    "version": 3
   },
   "file_extension": ".py",
   "mimetype": "text/x-python",
   "name": "python",
   "nbconvert_exporter": "python",
   "pygments_lexer": "ipython3",
   "version": "3.8.10"
  },
  "widgets": {
   "application/vnd.jupyter.widget-state+json": {
    "state": {
     "5e69ca8a851c40d09425bc59b9775146": {
      "model_module": "@jupyter-widgets/base",
      "model_module_version": "1.2.0",
      "model_name": "DOMWidgetModel",
      "state": {
       "_model_name": "DOMWidgetModel",
       "_view_module": "catboost_module",
       "_view_module_version": "",
       "_view_name": "CatboostIpythonWidgetView",
       "data": {
        "catboost_info": {
         "content": {
          "data": {
           "iterations": [
            {
             "iteration": 0,
             "learn": [
              6.713215672,
              9.188854572,
              0.3604486727
             ],
             "passed_time": 0.008217317643,
             "remaining_time": 8.209100325,
             "test": [
              5.601293603,
              7.389730752,
              0.3712189755
             ],
             "test1": [
              6.544770398,
              9.139989234,
              0.370059649
             ]
            },
            {
             "iteration": 1,
             "learn": [
              6.53476363,
              8.970274298,
              0.3509736427
             ],
             "passed_time": 0.0128674317,
             "remaining_time": 6.420848417,
             "test": [
              5.470069743,
              7.227000628,
              0.3625110979
             ],
             "test1": [
              6.385401904,
              8.94716167,
              0.3603373361
             ]
            },
            {
             "iteration": 2,
             "learn": [
              6.387863279,
              8.775678315,
              0.3431018113
             ],
             "passed_time": 0.02175645254,
             "remaining_time": 7.230394393,
             "test": [
              5.371400651,
              7.093415273,
              0.3558024007
             ],
             "test1": [
              6.258816288,
              8.783344751,
              0.3523508142
             ]
            },
            {
             "iteration": 3,
             "learn": [
              6.237816149,
              8.593297086,
              0.335177377
             ],
             "passed_time": 0.02906424571,
             "remaining_time": 7.236997183,
             "test": [
              5.228439707,
              6.927278954,
              0.3469733096
             ],
             "test1": [
              6.112345266,
              8.634766172,
              0.3433777884
             ]
            },
            {
             "iteration": 4,
             "learn": [
              6.1094034,
              8.403386918,
              0.3277324961
             ],
             "passed_time": 0.03270640931,
             "remaining_time": 6.508575452,
             "test": [
              5.128869526,
              6.803788156,
              0.3397743566
             ],
             "test1": [
              5.977615805,
              8.462620088,
              0.3347533493
             ]
            },
            {
             "iteration": 5,
             "learn": [
              5.967480562,
              8.219125744,
              0.3202688539
             ],
             "passed_time": 0.03580868431,
             "remaining_time": 5.932305368,
             "test": [
              5.012927635,
              6.660394302,
              0.3324177418
             ],
             "test1": [
              5.83951747,
              8.307887761,
              0.3266803487
             ]
            },
            {
             "iteration": 6,
             "learn": [
              5.860609947,
              8.069909519,
              0.314318366
             ],
             "passed_time": 0.03870446051,
             "remaining_time": 5.490504184,
             "test": [
              4.949979723,
              6.568762124,
              0.3278934889
             ],
             "test1": [
              5.740008999,
              8.174850314,
              0.3203225338
             ]
            },
            {
             "iteration": 7,
             "learn": [
              5.720263893,
              7.895047119,
              0.3068294844
             ],
             "passed_time": 0.04150683256,
             "remaining_time": 5.146847237,
             "test": [
              4.842057851,
              6.426396037,
              0.3207014633
             ],
             "test1": [
              5.604008438,
              8.051787915,
              0.3120452025
             ]
            },
            {
             "iteration": 8,
             "learn": [
              5.595650946,
              7.73896046,
              0.2998847408
             ],
             "passed_time": 0.04446365136,
             "remaining_time": 4.895942056,
             "test": [
              4.741431408,
              6.307336451,
              0.3138681942
             ],
             "test1": [
              5.49075203,
              7.94493672,
              0.3049536284
             ]
            },
            {
             "iteration": 9,
             "learn": [
              5.480401527,
              7.587518008,
              0.2939495133
             ],
             "passed_time": 0.05343726539,
             "remaining_time": 5.290289273,
             "test": [
              4.657104236,
              6.225898955,
              0.3084834535
             ],
             "test1": [
              5.373813238,
              7.829544606,
              0.2981716628
             ]
            },
            {
             "iteration": 10,
             "learn": [
              5.373107567,
              7.438501461,
              0.2881371478
             ],
             "passed_time": 0.05679763303,
             "remaining_time": 5.106623551,
             "test": [
              4.583063267,
              6.119641121,
              0.3034232249
             ],
             "test1": [
              5.266887934,
              7.711672831,
              0.2913078943
             ]
            },
            {
             "iteration": 11,
             "learn": [
              5.248137991,
              7.284507404,
              0.2818079457
             ],
             "passed_time": 0.06096026732,
             "remaining_time": 5.019062009,
             "test": [
              4.471242857,
              5.998696226,
              0.2969000795
             ],
             "test1": [
              5.145477508,
              7.597468623,
              0.2842463483
             ]
            },
            {
             "iteration": 12,
             "learn": [
              5.135136761,
              7.147760548,
              0.2756467611
             ],
             "passed_time": 0.06415349028,
             "remaining_time": 4.870730377,
             "test": [
              4.388982822,
              5.898200829,
              0.2916593211
             ],
             "test1": [
              5.020550145,
              7.477527314,
              0.2770436328
             ]
            },
            {
             "iteration": 13,
             "learn": [
              5.04632527,
              7.020770909,
              0.2707356754
             ],
             "passed_time": 0.06704401734,
             "remaining_time": 4.721814364,
             "test": [
              4.318689233,
              5.803630974,
              0.2867840703
             ],
             "test1": [
              4.938283988,
              7.391437517,
              0.2716397718
             ]
            },
            {
             "iteration": 14,
             "learn": [
              4.943965918,
              6.873891147,
              0.2652782968
             ],
             "passed_time": 0.06973673871,
             "remaining_time": 4.579379175,
             "test": [
              4.23258217,
              5.684163692,
              0.280991238
             ],
             "test1": [
              4.834999394,
              7.284236446,
              0.2653259925
             ]
            },
            {
             "iteration": 15,
             "learn": [
              4.84114763,
              6.73894652,
              0.259590296
             ],
             "passed_time": 0.07259851415,
             "remaining_time": 4.464808621,
             "test": [
              4.161544069,
              5.577049975,
              0.2758695532
             ],
             "test1": [
              4.734361686,
              7.177241348,
              0.2587758769
             ]
            },
            {
             "iteration": 16,
             "learn": [
              4.755158768,
              6.613148162,
              0.2548336747
             ],
             "passed_time": 0.0753938844,
             "remaining_time": 4.359540492,
             "test": [
              4.090654671,
              5.483101485,
              0.271065977
             ],
             "test1": [
              4.651290669,
              7.06870644,
              0.2532673884
             ]
            },
            {
             "iteration": 17,
             "learn": [
              4.652385816,
              6.477812202,
              0.2494696641
             ],
             "passed_time": 0.07802211238,
             "remaining_time": 4.256539686,
             "test": [
              4.004017982,
              5.375284226,
              0.2657408964
             ],
             "test1": [
              4.548609324,
              6.954424389,
              0.2470442573
             ]
            },
            {
             "iteration": 18,
             "learn": [
              4.565743999,
              6.361822613,
              0.2446000967
             ],
             "passed_time": 0.08077453099,
             "remaining_time": 4.170516574,
             "test": [
              3.920906925,
              5.277994854,
              0.2602844055
             ],
             "test1": [
              4.460390859,
              6.855811861,
              0.2415329021
             ]
            },
            {
             "iteration": 19,
             "learn": [
              4.482374624,
              6.244103267,
              0.2395719267
             ],
             "passed_time": 0.08359495833,
             "remaining_time": 4.096152958,
             "test": [
              3.850207272,
              5.188941637,
              0.2554266865
             ],
             "test1": [
              4.359707622,
              6.761148879,
              0.2350352911
             ]
            },
            {
             "iteration": 20,
             "learn": [
              4.394669957,
              6.114290694,
              0.2346999057
             ],
             "passed_time": 0.08630846099,
             "remaining_time": 4.023618253,
             "test": [
              3.775353958,
              5.089562733,
              0.2503185218
             ],
             "test1": [
              4.262862152,
              6.652435392,
              0.2292055503
             ]
            },
            {
             "iteration": 21,
             "learn": [
              4.306208177,
              5.99982133,
              0.2298542434
             ],
             "passed_time": 0.08883988934,
             "remaining_time": 3.949336899,
             "test": [
              3.714731814,
              5.00555017,
              0.2461683737
             ],
             "test1": [
              4.186361565,
              6.550983991,
              0.2242510503
             ]
            },
            {
             "iteration": 22,
             "learn": [
              4.223406332,
              5.884085035,
              0.2255392614
             ],
             "passed_time": 0.09151444958,
             "remaining_time": 3.887374663,
             "test": [
              3.646629877,
              4.917822964,
              0.2418384099
             ],
             "test1": [
              4.128119464,
              6.458751821,
              0.220733341
             ]
            },
            {
             "iteration": 23,
             "learn": [
              4.152893566,
              5.792240102,
              0.2218905219
             ],
             "passed_time": 0.0946314213,
             "remaining_time": 3.848344466,
             "test": [
              3.593627219,
              4.856700786,
              0.2382192083
             ],
             "test1": [
              4.084521949,
              6.401356551,
              0.2178782515
             ]
            },
            {
             "iteration": 24,
             "learn": [
              4.074509957,
              5.687865885,
              0.2174229521
             ],
             "passed_time": 0.09828422669,
             "remaining_time": 3.833084841,
             "test": [
              3.530971393,
              4.781932479,
              0.2341034347
             ],
             "test1": [
              4.01228177,
              6.316361375,
              0.2131733564
             ]
            },
            {
             "iteration": 25,
             "learn": [
              4.002705259,
              5.578361674,
              0.2134843463
             ],
             "passed_time": 0.1008153139,
             "remaining_time": 3.776696759,
             "test": [
              3.475232419,
              4.705286818,
              0.2301430308
             ],
             "test1": [
              3.942234897,
              6.213666765,
              0.2087880264
             ]
            },
            {
             "iteration": 26,
             "learn": [
              3.922386436,
              5.479197812,
              0.2091518074
             ],
             "passed_time": 0.1038149051,
             "remaining_time": 3.741181581,
             "test": [
              3.415631911,
              4.633672367,
              0.2260112811
             ],
             "test1": [
              3.892528578,
              6.153125841,
              0.2052168236
             ]
            },
            {
             "iteration": 27,
             "learn": [
              3.855772293,
              5.382242334,
              0.205330867
             ],
             "passed_time": 0.106263598,
             "remaining_time": 3.688864902,
             "test": [
              3.375635267,
              4.580305783,
              0.2229400206
             ],
             "test1": [
              3.839217288,
              6.069291626,
              0.2016322035
             ]
            },
            {
             "iteration": 28,
             "learn": [
              3.78649274,
              5.294490504,
              0.2014699858
             ],
             "passed_time": 0.1082567729,
             "remaining_time": 3.624735398,
             "test": [
              3.334950176,
              4.515856031,
              0.2200253543
             ],
             "test1": [
              3.781441725,
              5.992534718,
              0.1979309023
             ]
            },
            {
             "iteration": 29,
             "learn": [
              3.719790908,
              5.204607335,
              0.1978179843
             ],
             "passed_time": 0.1106163062,
             "remaining_time": 3.5765939,
             "test": [
              3.275947826,
              4.435447016,
              0.2160815889
             ],
             "test1": [
              3.732492069,
              5.938120266,
              0.1946107508
             ]
            },
            {
             "iteration": 30,
             "learn": [
              3.659364887,
              5.123271654,
              0.1947184883
             ],
             "passed_time": 0.1128567616,
             "remaining_time": 3.527683935,
             "test": [
              3.229584598,
              4.368779898,
              0.2131480618
             ],
             "test1": [
              3.686330781,
              5.890617292,
              0.1917111975
             ]
            },
            {
             "iteration": 31,
             "learn": [
              3.610631433,
              5.056376384,
              0.192173614
             ],
             "passed_time": 0.1146385165,
             "remaining_time": 3.467815125,
             "test": [
              3.192433435,
              4.319944437,
              0.2108887115
             ],
             "test1": [
              3.652136203,
              5.849241935,
              0.1891741504
             ]
            },
            {
             "iteration": 32,
             "learn": [
              3.559345124,
              4.981014586,
              0.1895663884
             ],
             "passed_time": 0.1165603611,
             "remaining_time": 3.415571792,
             "test": [
              3.159856596,
              4.269837284,
              0.2087963859
             ],
             "test1": [
              3.615283347,
              5.794419679,
              0.1869160114
             ]
            },
            {
             "iteration": 33,
             "learn": [
              3.504056275,
              4.905941896,
              0.1865862398
             ],
             "passed_time": 0.1184113177,
             "remaining_time": 3.364274498,
             "test": [
              3.108674374,
              4.210278641,
              0.2055292758
             ],
             "test1": [
              3.570997266,
              5.732857465,
              0.1840981186
             ]
            },
            {
             "iteration": 34,
             "learn": [
              3.463417996,
              4.849173354,
              0.184304352
             ],
             "passed_time": 0.1204498456,
             "remaining_time": 3.320974315,
             "test": [
              3.084723885,
              4.180159501,
              0.2036863292
             ],
             "test1": [
              3.548609701,
              5.70718644,
              0.1824411362
             ]
            },
            {
             "iteration": 35,
             "learn": [
              3.421812188,
              4.788096667,
              0.1819867779
             ],
             "passed_time": 0.1223762193,
             "remaining_time": 3.276963206,
             "test": [
              3.055504402,
              4.137970851,
              0.2013243102
             ],
             "test1": [
              3.519193738,
              5.671016791,
              0.1802777431
             ]
            },
            {
             "iteration": 36,
             "learn": [
              3.372202475,
              4.717690625,
              0.1791844491
             ],
             "passed_time": 0.1241130438,
             "remaining_time": 3.230293547,
             "test": [
              3.027295008,
              4.098833125,
              0.1991032675
             ],
             "test1": [
              3.486713776,
              5.6300811,
              0.1777691875
             ]
            },
            {
             "iteration": 37,
             "learn": [
              3.327452998,
              4.658888517,
              0.176730578
             ],
             "passed_time": 0.1264524428,
             "remaining_time": 3.201243421,
             "test": [
              2.999557596,
              4.062699289,
              0.1971116818
             ],
             "test1": [
              3.462380226,
              5.604352915,
              0.1762672619
             ]
            },
            {
             "iteration": 38,
             "learn": [
              3.28172802,
              4.593909684,
              0.1741165204
             ],
             "passed_time": 0.1284601585,
             "remaining_time": 3.16539006,
             "test": [
              2.96669278,
              4.015055683,
              0.1943568591
             ],
             "test1": [
              3.437777714,
              5.574809587,
              0.1744061884
             ]
            },
            {
             "iteration": 39,
             "learn": [
              3.235044034,
              4.522587482,
              0.1715569127
             ],
             "passed_time": 0.1304135929,
             "remaining_time": 3.12992623,
             "test": [
              2.931910988,
              3.958550461,
              0.1917915035
             ],
             "test1": [
              3.405984083,
              5.525894647,
              0.1723291416
             ]
            },
            {
             "iteration": 40,
             "learn": [
              3.190025826,
              4.459776584,
              0.1689466094
             ],
             "passed_time": 0.1321926956,
             "remaining_time": 3.092019393,
             "test": [
              2.902040652,
              3.914243953,
              0.1895019886
             ],
             "test1": [
              3.362699313,
              5.468525772,
              0.1696259405
             ]
            },
            {
             "iteration": 41,
             "learn": [
              3.1518165,
              4.398285396,
              0.1669133489
             ],
             "passed_time": 0.1340162537,
             "remaining_time": 3.056846929,
             "test": [
              2.873190524,
              3.879342366,
              0.1875576585
             ],
             "test1": [
              3.320565063,
              5.400799907,
              0.1671567116
             ]
            },
            {
             "iteration": 42,
             "learn": [
              3.111028902,
              4.342754666,
              0.1645165216
             ],
             "passed_time": 0.1358584727,
             "remaining_time": 3.023640893,
             "test": [
              2.851104257,
              3.846678348,
              0.1857090602
             ],
             "test1": [
              3.289334172,
              5.371320727,
              0.1648549572
             ]
            },
            {
             "iteration": 43,
             "learn": [
              3.06950321,
              4.284387243,
              0.1621724885
             ],
             "passed_time": 0.1378475683,
             "remaining_time": 2.995051712,
             "test": [
              2.815041244,
              3.800971845,
              0.1831851975
             ],
             "test1": [
              3.262942183,
              5.329729454,
              0.1631083767
             ]
            },
            {
             "iteration": 44,
             "learn": [
              3.029770555,
              4.221578671,
              0.1599355976
             ],
             "passed_time": 0.139542162,
             "remaining_time": 2.961394772,
             "test": [
              2.78521455,
              3.760941218,
              0.1809041689
             ],
             "test1": [
              3.239243239,
              5.274513963,
              0.161323098
             ]
            },
            {
             "iteration": 45,
             "learn": [
              2.987909967,
              4.159856224,
              0.157720715
             ],
             "passed_time": 0.1415490543,
             "remaining_time": 2.935604301,
             "test": [
              2.751125213,
              3.722809517,
              0.1787287707
             ],
             "test1": [
              3.205966568,
              5.209792872,
              0.1593080541
             ]
            },
            {
             "iteration": 46,
             "learn": [
              2.959616653,
              4.109048633,
              0.1561473141
             ],
             "passed_time": 0.1433850096,
             "remaining_time": 2.907359876,
             "test": [
              2.727476042,
              3.687621542,
              0.1770416164
             ],
             "test1": [
              3.17499209,
              5.143654835,
              0.1575406507
             ]
            },
            {
             "iteration": 47,
             "learn": [
              2.922130271,
              4.059870633,
              0.154106212
             ],
             "passed_time": 0.1452819598,
             "remaining_time": 2.881425537,
             "test": [
              2.696443538,
              3.653905987,
              0.1749727134
             ],
             "test1": [
              3.149008156,
              5.103162823,
              0.1558661502
             ]
            },
            {
             "iteration": 48,
             "learn": [
              2.885697133,
              4.001220575,
              0.1520874482
             ],
             "passed_time": 0.147220283,
             "remaining_time": 2.857275288,
             "test": [
              2.679708659,
              3.625016128,
              0.1734991661
             ],
             "test1": [
              3.113185343,
              5.040731435,
              0.1537718409
             ]
            },
            {
             "iteration": 49,
             "learn": [
              2.850379022,
              3.952864736,
              0.1501242384
             ],
             "passed_time": 0.1488757286,
             "remaining_time": 2.828638844,
             "test": [
              2.649342952,
              3.589371859,
              0.1712726978
             ],
             "test1": [
              3.102815702,
              5.024428466,
              0.1526568023
             ]
            },
            {
             "iteration": 50,
             "learn": [
              2.816314277,
              3.910621267,
              0.1480863429
             ],
             "passed_time": 0.1507469382,
             "remaining_time": 2.80507538,
             "test": [
              2.629034937,
              3.559807713,
              0.1695699998
             ],
             "test1": [
              3.084223542,
              4.999423618,
              0.1512196898
             ]
            },
            {
             "iteration": 51,
             "learn": [
              2.788791321,
              3.868815435,
              0.1465235048
             ],
             "passed_time": 0.1528777622,
             "remaining_time": 2.787079204,
             "test": [
              2.603892666,
              3.520651164,
              0.1679433953
             ],
             "test1": [
              3.061773391,
              4.965745521,
              0.1497016602
             ]
            },
            {
             "iteration": 52,
             "learn": [
              2.758949917,
              3.827701434,
              0.1447599654
             ],
             "passed_time": 0.1545776171,
             "remaining_time": 2.761981196,
             "test": [
              2.582963282,
              3.48992955,
              0.1661200413
             ],
             "test1": [
              3.048845124,
              4.946661091,
              0.1484670334
             ]
            },
            {
             "iteration": 53,
             "learn": [
              2.730599614,
              3.786481665,
              0.143456099
             ],
             "passed_time": 0.1565073895,
             "remaining_time": 2.741777601,
             "test": [
              2.559293618,
              3.456072694,
              0.1647863
             ],
             "test1": [
              3.041327927,
              4.945157193,
              0.1477452907
             ]
            },
            {
             "iteration": 54,
             "learn": [
              2.709079909,
              3.747664976,
              0.142257865
             ],
             "passed_time": 0.1585941361,
             "remaining_time": 2.724935612,
             "test": [
              2.542319149,
              3.434241404,
              0.1635597125
             ],
             "test1": [
              3.021078793,
              4.922514864,
              0.1464187208
             ]
            },
            {
             "iteration": 55,
             "learn": [
              2.685706789,
              3.717063823,
              0.1409119618
             ],
             "passed_time": 0.1603213516,
             "remaining_time": 2.702559926,
             "test": [
              2.523895052,
              3.410980107,
              0.1620513223
             ],
             "test1": [
              3.010310897,
              4.905878453,
              0.1453347892
             ]
            },
            {
             "iteration": 56,
             "learn": [
              2.65980428,
              3.672677689,
              0.1394622659
             ],
             "passed_time": 0.1620718558,
             "remaining_time": 2.681294035,
             "test": [
              2.508223045,
              3.392571589,
              0.1608428385
             ],
             "test1": [
              2.995349208,
              4.863529803,
              0.1444580649
             ]
            },
            {
             "iteration": 57,
             "learn": [
              2.637033164,
              3.639531546,
              0.1381401573
             ],
             "passed_time": 0.1638171899,
             "remaining_time": 2.660617118,
             "test": [
              2.484241649,
              3.363594983,
              0.159254666
             ],
             "test1": [
              2.985767789,
              4.854201195,
              0.1435889406
             ]
            },
            {
             "iteration": 58,
             "learn": [
              2.61626932,
              3.609139135,
              0.1371775641
             ],
             "passed_time": 0.1658611769,
             "remaining_time": 2.645345212,
             "test": [
              2.45955133,
              3.335058323,
              0.1578836812
             ],
             "test1": [
              2.977243405,
              4.847985521,
              0.1429671074
             ]
            },
            {
             "iteration": 59,
             "learn": [
              2.593528635,
              3.570066959,
              0.1359793904
             ],
             "passed_time": 0.1677552151,
             "remaining_time": 2.628165037,
             "test": [
              2.442070228,
              3.315345398,
              0.1565095355
             ],
             "test1": [
              2.967275573,
              4.820003511,
              0.1422014748
             ]
            },
            {
             "iteration": 60,
             "learn": [
              2.572210038,
              3.536679865,
              0.1349206838
             ],
             "passed_time": 0.1698962011,
             "remaining_time": 2.615287423,
             "test": [
              2.418586039,
              3.291047417,
              0.1550330475
             ],
             "test1": [
              2.958837991,
              4.807263285,
              0.1416419777
             ]
            },
            {
             "iteration": 61,
             "learn": [
              2.545089237,
              3.504496806,
              0.133506194
             ],
             "passed_time": 0.1716151086,
             "remaining_time": 2.596370514,
             "test": [
              2.393637078,
              3.265192793,
              0.1535848629
             ],
             "test1": [
              2.942815348,
              4.783685974,
              0.1404255428
             ]
            },
            {
             "iteration": 62,
             "learn": [
              2.525377347,
              3.475811812,
              0.1325558252
             ],
             "passed_time": 0.1736369322,
             "remaining_time": 2.582504848,
             "test": [
              2.377683807,
              3.248310954,
              0.1524435902
             ],
             "test1": [
              2.933911033,
              4.773160401,
              0.1398416429
             ]
            },
            {
             "iteration": 63,
             "learn": [
              2.508610034,
              3.450224944,
              0.1316676578
             ],
             "passed_time": 0.1754081756,
             "remaining_time": 2.565344568,
             "test": [
              2.358709852,
              3.228598416,
              0.1511998629
             ],
             "test1": [
              2.931913754,
              4.768613456,
              0.1394150891
             ]
            },
            {
             "iteration": 64,
             "learn": [
              2.489044565,
              3.418092588,
              0.1305271683
             ],
             "passed_time": 0.1773820826,
             "remaining_time": 2.551573034,
             "test": [
              2.346686751,
              3.212023603,
              0.1502369941
             ],
             "test1": [
              2.917458162,
              4.747769209,
              0.1383696584
             ]
            },
            {
             "iteration": 65,
             "learn": [
              2.472192805,
              3.390159651,
              0.1295649874
             ],
             "passed_time": 0.1790455434,
             "remaining_time": 2.533765721,
             "test": [
              2.331597134,
              3.193308661,
              0.1490095315
             ],
             "test1": [
              2.897427885,
              4.7167535,
              0.1372498997
             ]
            },
            {
             "iteration": 66,
             "learn": [
              2.45148621,
              3.362002027,
              0.1284087773
             ],
             "passed_time": 0.1808409075,
             "remaining_time": 2.518277115,
             "test": [
              2.313236408,
              3.170390911,
              0.1477450702
             ],
             "test1": [
              2.882455997,
              4.694516917,
              0.1361422733
             ]
            },
            {
             "iteration": 67,
             "learn": [
              2.43438181,
              3.334579542,
              0.1274061643
             ],
             "passed_time": 0.1827086431,
             "remaining_time": 2.504183167,
             "test": [
              2.302044402,
              3.156388463,
              0.1467218898
             ],
             "test1": [
              2.868731423,
              4.676569139,
              0.1352394054
             ]
            },
            {
             "iteration": 68,
             "learn": [
              2.418660215,
              3.310606312,
              0.1266290232
             ],
             "passed_time": 0.1848970557,
             "remaining_time": 2.494770418,
             "test": [
              2.293869825,
              3.141028942,
              0.146108532
             ],
             "test1": [
              2.853815671,
              4.651481607,
              0.1344894395
             ]
            },
            {
             "iteration": 69,
             "learn": [
              2.404277181,
              3.288317016,
              0.1257798413
             ],
             "passed_time": 0.1866909172,
             "remaining_time": 2.480322186,
             "test": [
              2.281206968,
              3.127210748,
              0.145059457
             ],
             "test1": [
              2.84475522,
              4.639080035,
              0.1338446026
             ]
            },
            {
             "iteration": 70,
             "learn": [
              2.38555428,
              3.263393165,
              0.1245952074
             ],
             "passed_time": 0.1887424336,
             "remaining_time": 2.469601702,
             "test": [
              2.258664587,
              3.102079197,
              0.1433794204
             ],
             "test1": [
              2.837196699,
              4.628426461,
              0.1331247064
             ]
            },
            {
             "iteration": 71,
             "learn": [
              2.370338773,
              3.239314913,
              0.1237648973
             ],
             "passed_time": 0.1905101285,
             "remaining_time": 2.455463878,
             "test": [
              2.249281913,
              3.093548782,
              0.1425561418
             ],
             "test1": [
              2.829095206,
              4.62614961,
              0.1324230027
             ]
            },
            {
             "iteration": 72,
             "learn": [
              2.355763495,
              3.216244104,
              0.1230590601
             ],
             "passed_time": 0.1923590018,
             "remaining_time": 2.442695817,
             "test": [
              2.234912756,
              3.076146434,
              0.1416491754
             ],
             "test1": [
              2.817054557,
              4.599101506,
              0.13181678
             ]
            },
            {
             "iteration": 73,
             "learn": [
              2.340971717,
              3.194522609,
              0.1222988798
             ],
             "passed_time": 0.1942446615,
             "remaining_time": 2.430683197,
             "test": [
              2.226382825,
              3.067428667,
              0.1411832904
             ],
             "test1": [
              2.811892414,
              4.593967142,
              0.1312155388
             ]
            },
            {
             "iteration": 74,
             "learn": [
              2.32799871,
              3.176571031,
              0.1216114587
             ],
             "passed_time": 0.1960831688,
             "remaining_time": 2.418359082,
             "test": [
              2.217383659,
              3.057435497,
              0.1406099238
             ],
             "test1": [
              2.803409094,
              4.583884995,
              0.1305314619
             ]
            },
            {
             "iteration": 75,
             "learn": [
              2.312793429,
              3.156704251,
              0.1206045484
             ],
             "passed_time": 0.19802222,
             "remaining_time": 2.407533306,
             "test": [
              2.211728046,
              3.049457068,
              0.1399379889
             ],
             "test1": [
              2.796450633,
              4.573344189,
              0.1298812893
             ]
            },
            {
             "iteration": 76,
             "learn": [
              2.299472357,
              3.132242878,
              0.1199213225
             ],
             "passed_time": 0.1999579523,
             "remaining_time": 2.396898571,
             "test": [
              2.199547646,
              3.035529141,
              0.1391303282
             ],
             "test1": [
              2.786208114,
              4.543561774,
              0.1293836291
             ]
            },
            {
             "iteration": 77,
             "learn": [
              2.287627094,
              3.109823376,
              0.1193826356
             ],
             "passed_time": 0.2018842406,
             "remaining_time": 2.386375254,
             "test": [
              2.186782664,
              3.018254962,
              0.1384118307
             ],
             "test1": [
              2.780052965,
              4.521084467,
              0.129080702
             ]
            },
            {
             "iteration": 78,
             "learn": [
              2.27565253,
              3.090409897,
              0.1187402537
             ],
             "passed_time": 0.2038959411,
             "remaining_time": 2.377065338,
             "test": [
              2.179392493,
              3.008336913,
              0.1379594377
             ],
             "test1": [
              2.771168625,
              4.50915745,
              0.1284250721
             ]
            },
            {
             "iteration": 79,
             "learn": [
              2.256450841,
              3.065954325,
              0.1177202772
             ],
             "passed_time": 0.2056191697,
             "remaining_time": 2.364620452,
             "test": [
              2.164618294,
              2.985047156,
              0.1369465723
             ],
             "test1": [
              2.76181651,
              4.50062251,
              0.1277416221
             ]
            },
            {
             "iteration": 80,
             "learn": [
              2.242639525,
              3.044677333,
              0.1169015733
             ],
             "passed_time": 0.207345767,
             "remaining_time": 2.352478517,
             "test": [
              2.157917893,
              2.974420667,
              0.1364374369
             ],
             "test1": [
              2.749617416,
              4.483662653,
              0.1268755948
             ]
            },
            {
             "iteration": 81,
             "learn": [
              2.229936564,
              3.024225649,
              0.1160739582
             ],
             "passed_time": 0.2090473372,
             "remaining_time": 2.340310434,
             "test": [
              2.1453576,
              2.959010578,
              0.1353361392
             ],
             "test1": [
              2.744444189,
              4.473237876,
              0.1264180943
             ]
            },
            {
             "iteration": 82,
             "learn": [
              2.218249048,
              3.006704164,
              0.115303199
             ],
             "passed_time": 0.210757989,
             "remaining_time": 2.328494891,
             "test": [
              2.134305499,
              2.941363305,
              0.134501808
             ],
             "test1": [
              2.739846984,
              4.463662454,
              0.1260171119
             ]
            },
            {
             "iteration": 83,
             "learn": [
              2.206999862,
              2.988201392,
              0.1147018696
             ],
             "passed_time": 0.2126934359,
             "remaining_time": 2.319371277,
             "test": [
              2.118876629,
              2.924330924,
              0.1333442274
             ],
             "test1": [
              2.734060376,
              4.457111152,
              0.1255416747
             ]
            },
            {
             "iteration": 84,
             "learn": [
              2.1979993,
              2.973603299,
              0.1142429578
             ],
             "passed_time": 0.2143783671,
             "remaining_time": 2.30772007,
             "test": [
              2.108648126,
              2.912755108,
              0.132651734
             ],
             "test1": [
              2.730286286,
              4.457481452,
              0.1252019086
             ]
            },
            {
             "iteration": 85,
             "learn": [
              2.181825684,
              2.949703436,
              0.1133613944
             ],
             "passed_time": 0.2166593019,
             "remaining_time": 2.302634907,
             "test": [
              2.094711663,
              2.900636017,
              0.1316972518
             ],
             "test1": [
              2.724582872,
              4.440280556,
              0.1246783273
             ]
            },
            {
             "iteration": 86,
             "learn": [
              2.169635402,
              2.93316163,
              0.1127454813
             ],
             "passed_time": 0.2184677748,
             "remaining_time": 2.292656074,
             "test": [
              2.083033287,
              2.887357758,
              0.1309606957
             ],
             "test1": [
              2.724098435,
              4.440859303,
              0.124426054
             ]
            },
            {
             "iteration": 87,
             "learn": [
              2.161133462,
              2.9230964,
              0.1124148464
             ],
             "passed_time": 0.2195129175,
             "remaining_time": 2.274952054,
             "test": [
              2.067978619,
              2.873968821,
              0.1302334842
             ],
             "test1": [
              2.721208245,
              4.436001005,
              0.1242750211
             ]
            },
            {
             "iteration": 88,
             "learn": [
              2.151770094,
              2.908065688,
              0.1120110571
             ],
             "passed_time": 0.2211914843,
             "remaining_time": 2.264106092,
             "test": [
              2.059603977,
              2.867465455,
              0.1295920437
             ],
             "test1": [
              2.718697983,
              4.428200683,
              0.1241705379
             ]
            },
            {
             "iteration": 89,
             "learn": [
              2.14004775,
              2.893202522,
              0.1114971267
             ],
             "passed_time": 0.2230396934,
             "remaining_time": 2.255179122,
             "test": [
              2.05458391,
              2.862192882,
              0.1291456746
             ],
             "test1": [
              2.71541813,
              4.420915764,
              0.1240461652
             ]
            },
            {
             "iteration": 90,
             "learn": [
              2.129239732,
              2.87839296,
              0.1108601452
             ],
             "passed_time": 0.2249496357,
             "remaining_time": 2.247024383,
             "test": [
              2.050216554,
              2.858119922,
              0.1288115497
             ],
             "test1": [
              2.712801896,
              4.420731791,
              0.123850336
             ]
            },
            {
             "iteration": 91,
             "learn": [
              2.118346794,
              2.863046265,
              0.1103642607
             ],
             "passed_time": 0.226840891,
             "remaining_time": 2.238820968,
             "test": [
              2.043370426,
              2.852590038,
              0.1283030083
             ],
             "test1": [
              2.70422192,
              4.411573098,
              0.123366277
             ]
            },
            {
             "iteration": 92,
             "learn": [
              2.107300462,
              2.845647008,
              0.1097299411
             ],
             "passed_time": 0.2286128829,
             "remaining_time": 2.229590159,
             "test": [
              2.038595038,
              2.849965324,
              0.1278589462
             ],
             "test1": [
              2.693556645,
              4.394404511,
              0.1227356231
             ]
            },
            {
             "iteration": 93,
             "learn": [
              2.093321989,
              2.826419005,
              0.1089172679
             ],
             "passed_time": 0.2308619745,
             "remaining_time": 2.225116477,
             "test": [
              2.024859248,
              2.837637314,
              0.1267109795
             ],
             "test1": [
              2.684711456,
              4.375598314,
              0.122077881
             ]
            },
            {
             "iteration": 94,
             "learn": [
              2.082707482,
              2.80969017,
              0.108384094
             ],
             "passed_time": 0.232916008,
             "remaining_time": 2.218831445,
             "test": [
              2.013753836,
              2.828095363,
              0.1259285098
             ],
             "test1": [
              2.675865769,
              4.356920194,
              0.1216820381
             ]
            },
            {
             "iteration": 95,
             "learn": [
              2.073181213,
              2.795187308,
              0.1077668216
             ],
             "passed_time": 0.234824852,
             "remaining_time": 2.211267356,
             "test": [
              2.007700628,
              2.818682754,
              0.1253582625
             ],
             "test1": [
              2.668902518,
              4.337168956,
              0.121184319
             ]
            },
            {
             "iteration": 96,
             "learn": [
              2.062057516,
              2.780328108,
              0.1071530291
             ],
             "passed_time": 0.2365585328,
             "remaining_time": 2.202189228,
             "test": [
              2.001171173,
              2.810873351,
              0.1248457356
             ],
             "test1": [
              2.659118089,
              4.326616135,
              0.120458654
             ]
            },
            {
             "iteration": 97,
             "learn": [
              2.052212756,
              2.767828663,
              0.1066389744
             ],
             "passed_time": 0.2382430572,
             "remaining_time": 2.192808547,
             "test": [
              1.991819596,
              2.801128052,
              0.1240927617
             ],
             "test1": [
              2.653825724,
              4.322856629,
              0.1200605145
             ]
            },
            {
             "iteration": 98,
             "learn": [
              2.042940416,
              2.753510215,
              0.106231436
             ],
             "passed_time": 0.2400498211,
             "remaining_time": 2.184695847,
             "test": [
              1.984075108,
              2.796364825,
              0.1236968229
             ],
             "test1": [
              2.649884254,
              4.322120562,
              0.1198756344
             ]
            },
            {
             "iteration": 99,
             "learn": [
              2.033647497,
              2.736717717,
              0.1057480969
             ],
             "passed_time": 0.2420378039,
             "remaining_time": 2.178340235,
             "test": [
              1.98039506,
              2.79625444,
              0.1234394066
             ],
             "test1": [
              2.641090077,
              4.30310481,
              0.119372135
             ]
            },
            {
             "iteration": 100,
             "learn": [
              2.023366574,
              2.722070593,
              0.1052024467
             ],
             "passed_time": 0.2438437572,
             "remaining_time": 2.170450868,
             "test": [
              1.971937883,
              2.788751903,
              0.1229312255
             ],
             "test1": [
              2.635518242,
              4.293256201,
              0.1192273231
             ]
            },
            {
             "iteration": 101,
             "learn": [
              2.01302868,
              2.706431599,
              0.1046264326
             ],
             "passed_time": 0.2456312323,
             "remaining_time": 2.162518104,
             "test": [
              1.961046856,
              2.77568243,
              0.1222390345
             ],
             "test1": [
              2.6260049,
              4.286811071,
              0.1185168727
             ]
            },
            {
             "iteration": 102,
             "learn": [
              2.004518841,
              2.693625064,
              0.1042561269
             ],
             "passed_time": 0.2477616033,
             "remaining_time": 2.157690856,
             "test": [
              1.952929428,
              2.769605041,
              0.1218275236
             ],
             "test1": [
              2.621864484,
              4.285038197,
              0.1183100188
             ]
            },
            {
             "iteration": 103,
             "learn": [
              1.997381576,
              2.682366661,
              0.1039466741
             ],
             "passed_time": 0.2495237198,
             "remaining_time": 2.149742817,
             "test": [
              1.947309549,
              2.763868332,
              0.121469363
             ],
             "test1": [
              2.615072447,
              4.27760141,
              0.1179861492
             ]
            },
            {
             "iteration": 104,
             "learn": [
              1.991125712,
              2.672573205,
              0.1035931932
             ],
             "passed_time": 0.2518357045,
             "remaining_time": 2.146599577,
             "test": [
              1.942902046,
              2.760139723,
              0.1210197929
             ],
             "test1": [
              2.609464095,
              4.270947896,
              0.1176203317
             ]
            },
            {
             "iteration": 105,
             "learn": [
              1.984696313,
              2.662287477,
              0.1032471841
             ],
             "passed_time": 0.2531677119,
             "remaining_time": 2.135206928,
             "test": [
              1.935406799,
              2.753045467,
              0.1204322972
             ],
             "test1": [
              2.604295801,
              4.268687184,
              0.1172958613
             ]
            },
            {
             "iteration": 106,
             "learn": [
              1.977092421,
              2.649484253,
              0.1027594649
             ],
             "passed_time": 0.2550441586,
             "remaining_time": 2.128546109,
             "test": [
              1.931797855,
              2.749070296,
              0.120129368
             ],
             "test1": [
              2.597946637,
              4.260195848,
              0.1168892707
             ]
            },
            {
             "iteration": 107,
             "learn": [
              1.9691431,
              2.636453988,
              0.1022944759
             ],
             "passed_time": 0.2567548918,
             "remaining_time": 2.120605217,
             "test": [
              1.925597307,
              2.742287726,
              0.1195136115
             ],
             "test1": [
              2.588976092,
              4.245838374,
              0.1163736063
             ]
            },
            {
             "iteration": 108,
             "learn": [
              1.962049224,
              2.625117881,
              0.1019617
             ],
             "passed_time": 0.2586083764,
             "remaining_time": 2.113945536,
             "test": [
              1.913736716,
              2.727338314,
              0.1188665127
             ],
             "test1": [
              2.581522316,
              4.242696539,
              0.1159719479
             ]
            },
            {
             "iteration": 109,
             "learn": [
              1.949361546,
              2.607231847,
              0.1012853182
             ],
             "passed_time": 0.2605841691,
             "remaining_time": 2.108362823,
             "test": [
              1.902618775,
              2.720145421,
              0.1180999474
             ],
             "test1": [
              2.577991294,
              4.230883593,
              0.1156515407
             ]
            },
            {
             "iteration": 110,
             "learn": [
              1.947772781,
              2.602892693,
              0.1012338205
             ],
             "passed_time": 0.2626411267,
             "remaining_time": 2.10349515,
             "test": [
              1.900511936,
              2.717434188,
              0.1179210775
             ],
             "test1": [
              2.575409949,
              4.218878839,
              0.1156011093
             ]
            },
            {
             "iteration": 111,
             "learn": [
              1.942299822,
              2.593585914,
              0.1008551125
             ],
             "passed_time": 0.2644008148,
             "remaining_time": 2.096320746,
             "test": [
              1.897491515,
              2.717050834,
              0.1175300106
             ],
             "test1": [
              2.572381985,
              4.214316793,
              0.1153017602
             ]
            },
            {
             "iteration": 112,
             "learn": [
              1.934240414,
              2.582759288,
              0.1005369657
             ],
             "passed_time": 0.2665575068,
             "remaining_time": 2.092358483,
             "test": [
              1.894883234,
              2.709366532,
              0.1174258956
             ],
             "test1": [
              2.56772075,
              4.209794625,
              0.1150886605
             ]
            },
            {
             "iteration": 113,
             "learn": [
              1.929460156,
              2.573810829,
              0.1002274116
             ],
             "passed_time": 0.2683091957,
             "remaining_time": 2.08528024,
             "test": [
              1.888774169,
              2.706768837,
              0.1169428517
             ],
             "test1": [
              2.563206066,
              4.200861068,
              0.1148723188
             ]
            },
            {
             "iteration": 114,
             "learn": [
              1.91809538,
              2.558674682,
              0.09969834605
             ],
             "passed_time": 0.2702450153,
             "remaining_time": 2.07971164,
             "test": [
              1.881718496,
              2.699537524,
              0.1164225599
             ],
             "test1": [
              2.559981105,
              4.194180737,
              0.1146672975
             ]
            },
            {
             "iteration": 115,
             "learn": [
              1.908945088,
              2.546690593,
              0.09931080413
             ],
             "passed_time": 0.2721393682,
             "remaining_time": 2.073889668,
             "test": [
              1.873128299,
              2.693377766,
              0.1159253943
             ],
             "test1": [
              2.55810059,
              4.194054642,
              0.1145334351
             ]
            },
            {
             "iteration": 116,
             "learn": [
              1.90267304,
              2.536825726,
              0.09903533715
             ],
             "passed_time": 0.2738858067,
             "remaining_time": 2.067018524,
             "test": [
              1.869823119,
              2.689625386,
              0.1156296705
             ],
             "test1": [
              2.555655547,
              4.189515348,
              0.1144243786
             ]
            },
            {
             "iteration": 117,
             "learn": [
              1.894521778,
              2.525325324,
              0.09860044157
             ],
             "passed_time": 0.2755880207,
             "remaining_time": 2.05990368,
             "test": [
              1.863873751,
              2.684811965,
              0.1150796312
             ],
             "test1": [
              2.550753327,
              4.175944809,
              0.1141956416
             ]
            },
            {
             "iteration": 118,
             "learn": [
              1.886969961,
              2.514199717,
              0.09815094061
             ],
             "passed_time": 0.2772296761,
             "remaining_time": 2.052431467,
             "test": [
              1.854224363,
              2.67327446,
              0.1143094713
             ],
             "test1": [
              2.548438945,
              4.174744807,
              0.113968378
             ]
            },
            {
             "iteration": 119,
             "learn": [
              1.879663443,
              2.503830105,
              0.09784240613
             ],
             "passed_time": 0.2794483408,
             "remaining_time": 2.049287832,
             "test": [
              1.849074048,
              2.669936146,
              0.1140205122
             ],
             "test1": [
              2.546771691,
              4.17391569,
              0.1138627713
             ]
            },
            {
             "iteration": 120,
             "learn": [
              1.87522935,
              2.495299531,
              0.09760461635
             ],
             "passed_time": 0.2816589406,
             "remaining_time": 2.046100899,
             "test": [
              1.845701845,
              2.66819033,
              0.1137093091
             ],
             "test1": [
              2.541572261,
              4.159834672,
              0.1135864858
             ]
            },
            {
             "iteration": 121,
             "learn": [
              1.865549068,
              2.48366325,
              0.09712435716
             ],
             "passed_time": 0.2835027483,
             "remaining_time": 2.040290271,
             "test": [
              1.836887782,
              2.655639887,
              0.1132353461
             ],
             "test1": [
              2.533232407,
              4.155576624,
              0.1131037883
             ]
            },
            {
             "iteration": 122,
             "learn": [
              1.860657849,
              2.476517253,
              0.09687947614
             ],
             "passed_time": 0.2852368188,
             "remaining_time": 2.033761708,
             "test": [
              1.831519465,
              2.651469759,
              0.1128483226
             ],
             "test1": [
              2.531297114,
              4.152675164,
              0.1129923831
             ]
            },
            {
             "iteration": 123,
             "learn": [
              1.85308657,
              2.465797156,
              0.09648796908
             ],
             "passed_time": 0.2869852312,
             "remaining_time": 2.027411795,
             "test": [
              1.828953171,
              2.653202304,
              0.1126076396
             ],
             "test1": [
              2.526255416,
              4.137123891,
              0.1128180931
             ]
            },
            {
             "iteration": 124,
             "learn": [
              1.847272997,
              2.457880644,
              0.09611938718
             ],
             "passed_time": 0.2888415986,
             "remaining_time": 2.02189119,
             "test": [
              1.825658722,
              2.649806844,
              0.1122200703
             ],
             "test1": [
              2.5248968,
              4.133200248,
              0.1127002618
             ]
            },
            {
             "iteration": 125,
             "learn": [
              1.842065,
              2.450924621,
              0.09584627359
             ],
             "passed_time": 0.2905419345,
             "remaining_time": 2.015346435,
             "test": [
              1.821636292,
              2.644099599,
              0.1120006724
             ],
             "test1": [
              2.521875762,
              4.132324317,
              0.1125081075
             ]
            },
            {
             "iteration": 126,
             "learn": [
              1.835563582,
              2.443610463,
              0.09559562355
             ],
             "passed_time": 0.2924201427,
             "remaining_time": 2.010100666,
             "test": [
              1.812821677,
              2.634224359,
              0.1115940305
             ],
             "test1": [
              2.516512471,
              4.130680292,
              0.1122336417
             ]
            },
            {
             "iteration": 127,
             "learn": [
              1.828812148,
              2.433454641,
              0.09510421594
             ],
             "passed_time": 0.2947238801,
             "remaining_time": 2.007806433,
             "test": [
              1.808299285,
              2.627514591,
              0.1111983318
             ],
             "test1": [
              2.512619531,
              4.124207139,
              0.1119279004
             ]
            },
            {
             "iteration": 128,
             "learn": [
              1.824640266,
              2.426748361,
              0.09483494142
             ],
             "passed_time": 0.2965144023,
             "remaining_time": 2.002046856,
             "test": [
              1.800334462,
              2.619774273,
              0.1106374914
             ],
             "test1": [
              2.510933651,
              4.121083099,
              0.111873731
             ]
            },
            {
             "iteration": 129,
             "learn": [
              1.819102267,
              2.418399739,
              0.09446718633
             ],
             "passed_time": 0.2984086457,
             "remaining_time": 1.997042475,
             "test": [
              1.800027243,
              2.620157725,
              0.1105272596
             ],
             "test1": [
              2.506255638,
              4.107869139,
              0.1115692218
             ]
            },
            {
             "iteration": 130,
             "learn": [
              1.809456883,
              2.405557403,
              0.09398499389
             ],
             "passed_time": 0.3003229441,
             "remaining_time": 1.992218614,
             "test": [
              1.793980103,
              2.611262116,
              0.1101433123
             ],
             "test1": [
              2.500594675,
              4.098929549,
              0.1112586632
             ]
            },
            {
             "iteration": 131,
             "learn": [
              1.802014083,
              2.393352463,
              0.09360265419
             ],
             "passed_time": 0.3020727099,
             "remaining_time": 1.98635691,
             "test": [
              1.789339158,
              2.605187275,
              0.1098195876
             ],
             "test1": [
              2.499051547,
              4.089906054,
              0.1111813465
             ]
            },
            {
             "iteration": 132,
             "learn": [
              1.797365459,
              2.386307073,
              0.09339647315
             ],
             "passed_time": 0.3038581213,
             "remaining_time": 1.980789407,
             "test": [
              1.782682867,
              2.602071844,
              0.1095059109
             ],
             "test1": [
              2.497052672,
              4.086630867,
              0.1110550163
             ]
            },
            {
             "iteration": 133,
             "learn": [
              1.793346068,
              2.379491158,
              0.09317745942
             ],
             "passed_time": 0.3056059628,
             "remaining_time": 1.975035551,
             "test": [
              1.779124589,
              2.597582358,
              0.109213426
             ],
             "test1": [
              2.500247053,
              4.09368933,
              0.1111003929
             ]
            },
            {
             "iteration": 134,
             "learn": [
              1.788350893,
              2.372338285,
              0.09289735814
             ],
             "passed_time": 0.3073101897,
             "remaining_time": 1.969061586,
             "test": [
              1.779751561,
              2.603935585,
              0.109245822
             ],
             "test1": [
              2.496010652,
              4.081244624,
              0.1109441812
             ]
            },
            {
             "iteration": 135,
             "learn": [
              1.783705051,
              2.364468895,
              0.09271623615
             ],
             "passed_time": 0.3091505439,
             "remaining_time": 1.96401522,
             "test": [
              1.780018142,
              2.603354332,
              0.1092366968
             ],
             "test1": [
              2.491367414,
              4.0684262,
              0.1107657405
             ]
            },
            {
             "iteration": 136,
             "learn": [
              1.780337592,
              2.358263316,
              0.09256644318
             ],
             "passed_time": 0.3112312497,
             "remaining_time": 1.960529697,
             "test": [
              1.776484125,
              2.599057214,
              0.1090586469
             ],
             "test1": [
              2.486927737,
              4.059230422,
              0.1106177355
             ]
            },
            {
             "iteration": 137,
             "learn": [
              1.771684285,
              2.346890119,
              0.09209261541
             ],
             "passed_time": 0.3133431813,
             "remaining_time": 1.957259582,
             "test": [
              1.775930724,
              2.597352011,
              0.1090240139
             ],
             "test1": [
              2.480285848,
              4.047249244,
              0.1104318586
             ]
            },
            {
             "iteration": 138,
             "learn": [
              1.766319392,
              2.339116488,
              0.09170856236
             ],
             "passed_time": 0.3150883651,
             "remaining_time": 1.951734405,
             "test": [
              1.776266143,
              2.59534201,
              0.1088966155
             ],
             "test1": [
              2.478032641,
              4.044378382,
              0.1103574305
             ]
            },
            {
             "iteration": 139,
             "learn": [
              1.760758466,
              2.332560005,
              0.09148490102
             ],
             "passed_time": 0.3167820412,
             "remaining_time": 1.945946824,
             "test": [
              1.77665995,
              2.598348433,
              0.108922923
             ],
             "test1": [
              2.473924248,
              4.040334489,
              0.1101487956
             ]
            },
            {
             "iteration": 140,
             "learn": [
              1.754574829,
              2.323426193,
              0.09114992362
             ],
             "passed_time": 0.318715045,
             "remaining_time": 1.941675345,
             "test": [
              1.77760436,
              2.603490076,
              0.1088662939
             ],
             "test1": [
              2.470031153,
              4.027306206,
              0.1100046379
             ]
            },
            {
             "iteration": 141,
             "learn": [
              1.751835795,
              2.318805358,
              0.09095722766
             ],
             "passed_time": 0.3204825663,
             "remaining_time": 1.936436914,
             "test": [
              1.775307741,
              2.60253227,
              0.1086097914
             ],
             "test1": [
              2.467710438,
              4.021580386,
              0.1098153078
             ]
            },
            {
             "iteration": 142,
             "learn": [
              1.747358993,
              2.312378389,
              0.09082527789
             ],
             "passed_time": 0.322505501,
             "remaining_time": 1.932777723,
             "test": [
              1.775752855,
              2.600561989,
              0.1086183432
             ],
             "test1": [
              2.464703817,
              4.017398619,
              0.1097373407
             ]
            },
            {
             "iteration": 143,
             "learn": [
              1.741404003,
              2.304261639,
              0.09054276699
             ],
             "passed_time": 0.3243931893,
             "remaining_time": 1.928337292,
             "test": [
              1.774923242,
              2.597479516,
              0.1084436387
             ],
             "test1": [
              2.463243195,
              4.013819218,
              0.1095648226
             ]
            },
            {
             "iteration": 144,
             "learn": [
              1.735902146,
              2.297174855,
              0.09019322027
             ],
             "passed_time": 0.3261740162,
             "remaining_time": 1.923301957,
             "test": [
              1.767978874,
              2.591553122,
              0.1080059178
             ],
             "test1": [
              2.464416861,
              4.016877111,
              0.1095557273
             ]
            },
            {
             "iteration": 145,
             "learn": [
              1.730984617,
              2.290947152,
              0.08991124997
             ],
             "passed_time": 0.3281893755,
             "remaining_time": 1.919683059,
             "test": [
              1.765274211,
              2.588678664,
              0.1076810534
             ],
             "test1": [
              2.456550399,
              4.010558985,
              0.1092196133
             ]
            },
            {
             "iteration": 146,
             "learn": [
              1.723419934,
              2.282890108,
              0.08953845742
             ],
             "passed_time": 0.3299638039,
             "remaining_time": 1.914687924,
             "test": [
              1.762217997,
              2.58510823,
              0.1075528214
             ],
             "test1": [
              2.451437296,
              4.007888805,
              0.1088678264
             ]
            },
            {
             "iteration": 147,
             "learn": [
              1.718184706,
              2.274991013,
              0.08918779797
             ],
             "passed_time": 0.3317274086,
             "remaining_time": 1.909674001,
             "test": [
              1.756786088,
              2.5788075,
              0.1071245784
             ],
             "test1": [
              2.4524808,
              4.005661676,
              0.1090576196
             ]
            },
            {
             "iteration": 148,
             "learn": [
              1.71269883,
              2.267304228,
              0.08887043188
             ],
             "passed_time": 0.3334946127,
             "remaining_time": 1.904724265,
             "test": [
              1.752791589,
              2.57528515,
              0.1068123796
             ],
             "test1": [
              2.445955155,
              3.9936764,
              0.1088012865
             ]
            },
            {
             "iteration": 149,
             "learn": [
              1.709873106,
              2.262997549,
              0.08866608071
             ],
             "passed_time": 0.335275719,
             "remaining_time": 1.899895741,
             "test": [
              1.749694609,
              2.569060125,
              0.1065663634
             ],
             "test1": [
              2.446852401,
              3.992955246,
              0.1088330224
             ]
            },
            {
             "iteration": 150,
             "learn": [
              1.704755455,
              2.256210571,
              0.08838190434
             ],
             "passed_time": 0.3373242629,
             "remaining_time": 1.896611253,
             "test": [
              1.747602377,
              2.565279659,
              0.1064911659
             ],
             "test1": [
              2.442778453,
              3.989080072,
              0.108523908
             ]
            },
            {
             "iteration": 151,
             "learn": [
              1.699398143,
              2.248399678,
              0.08813964275
             ],
             "passed_time": 0.3390603659,
             "remaining_time": 1.891599936,
             "test": [
              1.746892929,
              2.565552223,
              0.106391003
             ],
             "test1": [
              2.441795294,
              3.988710302,
              0.1084381458
             ]
            },
            {
             "iteration": 152,
             "learn": [
              1.69898017,
              2.246932464,
              0.08812605817
             ],
             "passed_time": 0.3398980672,
             "remaining_time": 1.881657928,
             "test": [
              1.746813461,
              2.565476102,
              0.1063826003
             ],
             "test1": [
              2.441743004,
              3.988718005,
              0.1084336342
             ]
            },
            {
             "iteration": 153,
             "learn": [
              1.69401647,
              2.240443597,
              0.08793429281
             ],
             "passed_time": 0.3420837186,
             "remaining_time": 1.879239129,
             "test": [
              1.745314714,
              2.56086839,
              0.1063246553
             ],
             "test1": [
              2.436500821,
              3.981965741,
              0.1082829417
             ]
            },
            {
             "iteration": 154,
             "learn": [
              1.693383267,
              2.238688979,
              0.0879029207
             ],
             "passed_time": 0.344110032,
             "remaining_time": 1.87595469,
             "test": [
              1.743102027,
              2.557857184,
              0.1061323377
             ],
             "test1": [
              2.435773377,
              3.980595843,
              0.1082695561
             ]
            },
            {
             "iteration": 155,
             "learn": [
              1.68943571,
              2.233275091,
              0.08768031719
             ],
             "passed_time": 0.3459199055,
             "remaining_time": 1.871515386,
             "test": [
              1.743558518,
              2.555033653,
              0.1061543453
             ],
             "test1": [
              2.434548292,
              3.979929277,
              0.1081897554
             ]
            },
            {
             "iteration": 156,
             "learn": [
              1.684277232,
              2.225563945,
              0.08739395429
             ],
             "passed_time": 0.3476973249,
             "remaining_time": 1.866935318,
             "test": [
              1.742470488,
              2.552161818,
              0.1060473986
             ],
             "test1": [
              2.429209693,
              3.974881507,
              0.1079727004
             ]
            },
            {
             "iteration": 157,
             "learn": [
              1.679460192,
              2.219611141,
              0.0871286262
             ],
             "passed_time": 0.3496161011,
             "remaining_time": 1.863144033,
             "test": [
              1.740968414,
              2.552510879,
              0.1059719176
             ],
             "test1": [
              2.423676164,
              3.970315724,
              0.1076094098
             ]
            },
            {
             "iteration": 158,
             "learn": [
              1.675734119,
              2.214759714,
              0.08694794248
             ],
             "passed_time": 0.3514236872,
             "remaining_time": 1.858788182,
             "test": [
              1.738924136,
              2.551757944,
              0.1058210346
             ],
             "test1": [
              2.421546747,
              3.970517891,
              0.1074610176
             ]
            },
            {
             "iteration": 159,
             "learn": [
              1.668341731,
              2.207446072,
              0.08659321759
             ],
             "passed_time": 0.3532704174,
             "remaining_time": 1.854669691,
             "test": [
              1.734789649,
              2.549559973,
              0.1056862815
             ],
             "test1": [
              2.419364799,
              3.971139374,
              0.1072070793
             ]
            },
            {
             "iteration": 160,
             "learn": [
              1.664031841,
              2.200626015,
              0.08629103864
             ],
             "passed_time": 0.3551434603,
             "remaining_time": 1.850716541,
             "test": [
              1.733932536,
              2.548165587,
              0.1056106334
             ],
             "test1": [
              2.421986884,
              3.974048263,
              0.1073257624
             ]
            },
            {
             "iteration": 161,
             "learn": [
              1.662096995,
              2.197539809,
              0.08618083454
             ],
             "passed_time": 0.3570675998,
             "remaining_time": 1.847053387,
             "test": [
              1.731815364,
              2.546788926,
              0.1053915811
             ],
             "test1": [
              2.420572301,
              3.966392055,
              0.1072748183
             ]
            },
            {
             "iteration": 162,
             "learn": [
              1.657627062,
              2.191977648,
              0.08599125256
             ],
             "passed_time": 0.3591855155,
             "remaining_time": 1.844406604,
             "test": [
              1.729821526,
              2.543453625,
              0.1052510111
             ],
             "test1": [
              2.420782556,
              3.96712757,
              0.1072441038
             ]
            },
            {
             "iteration": 163,
             "learn": [
              1.651834407,
              2.184897683,
              0.08555979043
             ],
             "passed_time": 0.3610086037,
             "remaining_time": 1.84026337,
             "test": [
              1.728893563,
              2.542868192,
              0.1051444116
             ],
             "test1": [
              2.422284983,
              3.965393717,
              0.1072935286
             ]
            },
            {
             "iteration": 164,
             "learn": [
              1.650068486,
              2.181130739,
              0.08549513563
             ],
             "passed_time": 0.3626579038,
             "remaining_time": 1.835268786,
             "test": [
              1.728264641,
              2.541988634,
              0.1050805486
             ],
             "test1": [
              2.419592099,
              3.962659613,
              0.1071998871
             ]
            },
            {
             "iteration": 165,
             "learn": [
              1.648813173,
              2.17878864,
              0.08542752087
             ],
             "passed_time": 0.3646236388,
             "remaining_time": 1.831904306,
             "test": [
              1.727716728,
              2.541640483,
              0.1050303585
             ],
             "test1": [
              2.419798846,
              3.963436087,
              0.1071902502
             ]
            },
            {
             "iteration": 166,
             "learn": [
              1.64420007,
              2.173368653,
              0.08516879763
             ],
             "passed_time": 0.3664451199,
             "remaining_time": 1.827837035,
             "test": [
              1.72656868,
              2.540744404,
              0.1048956557
             ],
             "test1": [
              2.418125679,
              3.961936984,
              0.1070952308
             ]
            },
            {
             "iteration": 167,
             "learn": [
              1.64064147,
              2.167640501,
              0.08490989492
             ],
             "passed_time": 0.3682852067,
             "remaining_time": 1.823888643,
             "test": [
              1.725426898,
              2.539800456,
              0.1047538459
             ],
             "test1": [
              2.414466625,
              3.961445629,
              0.1069318129
             ]
            },
            {
             "iteration": 168,
             "learn": [
              1.634875663,
              2.159694422,
              0.08466583782
             ],
             "passed_time": 0.3701416117,
             "remaining_time": 1.82004544,
             "test": [
              1.721533123,
              2.533564582,
              0.1045109664
             ],
             "test1": [
              2.413404632,
              3.954474549,
              0.1069628507
             ]
            },
            {
             "iteration": 169,
             "learn": [
              1.630500757,
              2.153161635,
              0.08450282081
             ],
             "passed_time": 0.372134953,
             "remaining_time": 1.816894183,
             "test": [
              1.71892797,
              2.5302468,
              0.1044587513
             ],
             "test1": [
              2.411281073,
              3.953669915,
              0.106867564
             ]
            },
            {
             "iteration": 170,
             "learn": [
              1.627360587,
              2.14807631,
              0.08437189708
             ],
             "passed_time": 0.3740781658,
             "remaining_time": 1.813513447,
             "test": [
              1.718083707,
              2.529444869,
              0.1043773993
             ],
             "test1": [
              2.411074572,
              3.953504304,
              0.1068403146
             ]
            },
            {
             "iteration": 171,
             "learn": [
              1.625013828,
              2.143675786,
              0.08426345469
             ],
             "passed_time": 0.378907659,
             "remaining_time": 1.824043847,
             "test": [
              1.713507806,
              2.524655144,
              0.1041512745
             ],
             "test1": [
              2.410422627,
              3.954398791,
              0.1068063634
             ]
            },
            {
             "iteration": 172,
             "learn": [
              1.623012061,
              2.140355337,
              0.08415862845
             ],
             "passed_time": 0.3813413332,
             "remaining_time": 1.82294383,
             "test": [
              1.712546705,
              2.524516717,
              0.1040476854
             ],
             "test1": [
              2.408811576,
              3.949351701,
              0.1067650982
             ]
            },
            {
             "iteration": 173,
             "learn": [
              1.620399708,
              2.136439084,
              0.08403219273
             ],
             "passed_time": 0.383722227,
             "remaining_time": 1.821577928,
             "test": [
              1.712371142,
              2.524946278,
              0.1039988795
             ],
             "test1": [
              2.405084751,
              3.947292907,
              0.1066264179
             ]
            },
            {
             "iteration": 174,
             "learn": [
              1.617752684,
              2.13216645,
              0.08386865735
             ],
             "passed_time": 0.3865721753,
             "remaining_time": 1.822411683,
             "test": [
              1.709127407,
              2.523201,
              0.1037533442
             ],
             "test1": [
              2.400267349,
              3.943819838,
              0.1063899903
             ]
            },
            {
             "iteration": 175,
             "learn": [
              1.616154055,
              2.128746516,
              0.08377844649
             ],
             "passed_time": 0.3891175751,
             "remaining_time": 1.821777738,
             "test": [
              1.710262543,
              2.523785075,
              0.1038225728
             ],
             "test1": [
              2.398291066,
              3.941937701,
              0.1063096294
             ]
            },
            {
             "iteration": 176,
             "learn": [
              1.612057174,
              2.123164314,
              0.08357611382
             ],
             "passed_time": 0.3919294336,
             "remaining_time": 1.822361152,
             "test": [
              1.709501072,
              2.519836163,
              0.1036462735
             ],
             "test1": [
              2.394200073,
              3.937186793,
              0.1060552488
             ]
            },
            {
             "iteration": 177,
             "learn": [
              1.607765283,
              2.11736316,
              0.08328312065
             ],
             "passed_time": 0.3943293256,
             "remaining_time": 1.821003964,
             "test": [
              1.70903523,
              2.517673143,
              0.1036232989
             ],
             "test1": [
              2.388401562,
              3.921701059,
              0.1058643057
             ]
            },
            {
             "iteration": 178,
             "learn": [
              1.603817957,
              2.111212723,
              0.08314051926
             ],
             "passed_time": 0.3968036576,
             "remaining_time": 1.819976552,
             "test": [
              1.708755434,
              2.517913994,
              0.1036277231
             ],
             "test1": [
              2.385366223,
              3.920528846,
              0.1057586169
             ]
            },
            {
             "iteration": 179,
             "learn": [
              1.599153408,
              2.104838241,
              0.08286049896
             ],
             "passed_time": 0.3992141501,
             "remaining_time": 1.818642239,
             "test": [
              1.707199281,
              2.514111372,
              0.1034851363
             ],
             "test1": [
              2.385055139,
              3.92069842,
              0.105710618
             ]
            },
            {
             "iteration": 180,
             "learn": [
              1.595634462,
              2.100303525,
              0.08262450305
             ],
             "passed_time": 0.4015985828,
             "remaining_time": 1.817178118,
             "test": [
              1.705441687,
              2.513316352,
              0.1033660754
             ],
             "test1": [
              2.38104859,
              3.916322904,
              0.1055382486
             ]
            },
            {
             "iteration": 181,
             "learn": [
              1.591962613,
              2.094948679,
              0.08243135906
             ],
             "passed_time": 0.4040530532,
             "remaining_time": 1.816018668,
             "test": [
              1.704103335,
              2.512140334,
              0.1032099837
             ],
             "test1": [
              2.38050788,
              3.917767748,
              0.1054671182
             ]
            },
            {
             "iteration": 182,
             "learn": [
              1.588066203,
              2.090058514,
              0.08224900616
             ],
             "passed_time": 0.4068753077,
             "remaining_time": 1.81648703,
             "test": [
              1.699966194,
              2.505749783,
              0.1030171985
             ],
             "test1": [
              2.37815295,
              3.91555324,
              0.1053691465
             ]
            },
            {
             "iteration": 183,
             "learn": [
              1.586360869,
              2.086613696,
              0.0821648052
             ],
             "passed_time": 0.4092443246,
             "remaining_time": 1.814909614,
             "test": [
              1.699410755,
              2.504174039,
              0.1030240475
             ],
             "test1": [
              2.375803469,
              3.914819687,
              0.10523908
             ]
            },
            {
             "iteration": 184,
             "learn": [
              1.585120113,
              2.084547402,
              0.08210688087
             ],
             "passed_time": 0.4118966079,
             "remaining_time": 1.814571543,
             "test": [
              1.697684602,
              2.502016391,
              0.1028698412
             ],
             "test1": [
              2.373152714,
              3.906673303,
              0.1051857069
             ]
            },
            {
             "iteration": 185,
             "learn": [
              1.579256087,
              2.076891657,
              0.08178075061
             ],
             "passed_time": 0.4143716386,
             "remaining_time": 1.81343287,
             "test": [
              1.694938692,
              2.50055505,
              0.1028153745
             ],
             "test1": [
              2.371198525,
              3.900899945,
              0.1050702776
             ]
            },
            {
             "iteration": 186,
             "learn": [
              1.577265172,
              2.073700011,
              0.0816652238
             ],
             "passed_time": 0.4168017827,
             "remaining_time": 1.812084756,
             "test": [
              1.695167866,
              2.499556387,
              0.1027526284
             ],
             "test1": [
              2.371682274,
              3.900719902,
              0.1050892112
             ]
            },
            {
             "iteration": 187,
             "learn": [
              1.573666831,
              2.068451807,
              0.08152325789
             ],
             "passed_time": 0.4194752642,
             "remaining_time": 1.811776141,
             "test": [
              1.694078166,
              2.497117784,
              0.1026450607
             ],
             "test1": [
              2.367209228,
              3.897281765,
              0.104874482
             ]
            },
            {
             "iteration": 188,
             "learn": [
              1.569785944,
              2.063377929,
              0.08129751848
             ],
             "passed_time": 0.422480463,
             "remaining_time": 1.812865902,
             "test": [
              1.693764593,
              2.500068966,
              0.102653325
             ],
             "test1": [
              2.363254359,
              3.890056259,
              0.1047333192
             ]
            },
            {
             "iteration": 189,
             "learn": [
              1.568040659,
              2.060520113,
              0.08118862595
             ],
             "passed_time": 0.4248822852,
             "remaining_time": 1.811340268,
             "test": [
              1.692795295,
              2.499436944,
              0.1026623723
             ],
             "test1": [
              2.361850216,
              3.888288935,
              0.1046322472
             ]
            },
            {
             "iteration": 190,
             "learn": [
              1.567036283,
              2.058383335,
              0.08114654751
             ],
             "passed_time": 0.4273524516,
             "remaining_time": 1.810094939,
             "test": [
              1.692577747,
              2.499085454,
              0.1026532312
             ],
             "test1": [
              2.360637715,
              3.887618851,
              0.1045794703
             ]
            },
            {
             "iteration": 191,
             "learn": [
              1.562750024,
              2.053217139,
              0.0809361781
             ],
             "passed_time": 0.4298388117,
             "remaining_time": 1.808904999,
             "test": [
              1.691341459,
              2.497636084,
              0.1025686816
             ],
             "test1": [
              2.358262343,
              3.886579858,
              0.1044864053
             ]
            },
            {
             "iteration": 192,
             "learn": [
              1.556761646,
              2.04627325,
              0.08067799476
             ],
             "passed_time": 0.432614479,
             "remaining_time": 1.808911319,
             "test": [
              1.690237469,
              2.499557545,
              0.102592777
             ],
             "test1": [
              2.350310637,
              3.880046247,
              0.1040770906
             ]
            },
            {
             "iteration": 193,
             "learn": [
              1.551648142,
              2.040715161,
              0.08036653407
             ],
             "passed_time": 0.4350563581,
             "remaining_time": 1.807502189,
             "test": [
              1.692667434,
              2.501013577,
              0.1027869791
             ],
             "test1": [
              2.345910146,
              3.876817431,
              0.1039336359
             ]
            },
            {
             "iteration": 194,
             "learn": [
              1.550322791,
              2.038383069,
              0.08031425098
             ],
             "passed_time": 0.4371741137,
             "remaining_time": 1.804744418,
             "test": [
              1.691583441,
              2.500630337,
              0.1027361822
             ],
             "test1": [
              2.345418133,
              3.876559145,
              0.1039099428
             ]
            },
            {
             "iteration": 195,
             "learn": [
              1.544661633,
              2.031127655,
              0.08010030919
             ],
             "passed_time": 0.4414876787,
             "remaining_time": 1.811000478,
             "test": [
              1.68949555,
              2.496566874,
              0.1026416075
             ],
             "test1": [
              2.341815892,
              3.87506207,
              0.1037606611
             ]
            },
            {
             "iteration": 196,
             "learn": [
              1.539362027,
              2.023571094,
              0.07978723983
             ],
             "passed_time": 0.4432682807,
             "remaining_time": 1.806824515,
             "test": [
              1.690494516,
              2.496256068,
              0.1026438516
             ],
             "test1": [
              2.337870386,
              3.868663266,
              0.1036434313
             ]
            },
            {
             "iteration": 197,
             "learn": [
              1.534856511,
              2.016663984,
              0.07958724866
             ],
             "passed_time": 0.4452088684,
             "remaining_time": 1.80332077,
             "test": [
              1.687713661,
              2.492466359,
              0.1025704992
             ],
             "test1": [
              2.336032744,
              3.868587637,
              0.1035442988
             ]
            },
            {
             "iteration": 198,
             "learn": [
              1.530692434,
              2.010981192,
              0.07941593001
             ],
             "passed_time": 0.4470368838,
             "remaining_time": 1.799379618,
             "test": [
              1.682381593,
              2.490368575,
              0.1023546153
             ],
             "test1": [
              2.333324116,
              3.865452817,
              0.1034306746
             ]
            },
            {
             "iteration": 199,
             "learn": [
              1.523676003,
              2.002184858,
              0.07912299316
             ],
             "passed_time": 0.4489306739,
             "remaining_time": 1.795722696,
             "test": [
              1.680834655,
              2.491691541,
              0.102306245
             ],
             "test1": [
              2.329714668,
              3.862093674,
              0.1031563481
             ]
            },
            {
             "iteration": 200,
             "learn": [
              1.521389723,
              1.998020504,
              0.07899089442
             ],
             "passed_time": 0.4517010143,
             "remaining_time": 1.795567714,
             "test": [
              1.680280029,
              2.487243514,
              0.1022138479
             ],
             "test1": [
              2.328432562,
              3.863707746,
              0.1030203135
             ]
            },
            {
             "iteration": 201,
             "learn": [
              1.520011967,
              1.995746081,
              0.07894310402
             ],
             "passed_time": 0.4540523451,
             "remaining_time": 1.793731542,
             "test": [
              1.679028141,
              2.484964123,
              0.102060533
             ],
             "test1": [
              2.328086596,
              3.863153544,
              0.1030109176
             ]
            },
            {
             "iteration": 202,
             "learn": [
              1.514290364,
              1.988763472,
              0.07865394002
             ],
             "passed_time": 0.4558557404,
             "remaining_time": 1.78973904,
             "test": [
              1.674154959,
              2.483352766,
              0.1018022716
             ],
             "test1": [
              2.326100148,
              3.862111759,
              0.1028949433
             ]
            },
            {
             "iteration": 203,
             "learn": [
              1.508644357,
              1.981459661,
              0.07833127498
             ],
             "passed_time": 0.4577156271,
             "remaining_time": 1.785988427,
             "test": [
              1.671050011,
              2.478772711,
              0.1016182108
             ],
             "test1": [
              2.326147446,
              3.860356061,
              0.1028830867
             ]
            },
            {
             "iteration": 204,
             "learn": [
              1.504556365,
              1.976465223,
              0.07816753506
             ],
             "passed_time": 0.4615480847,
             "remaining_time": 1.789905987,
             "test": [
              1.671928134,
              2.475570041,
              0.1016639244
             ],
             "test1": [
              2.324146052,
              3.860354081,
              0.1027868749
             ]
            },
            {
             "iteration": 205,
             "learn": [
              1.499913455,
              1.970429945,
              0.07793875709
             ],
             "passed_time": 0.4635739776,
             "remaining_time": 1.786785137,
             "test": [
              1.669376465,
              2.473021121,
              0.1015275688
             ],
             "test1": [
              2.321942,
              3.858180127,
              0.1026230436
             ]
            },
            {
             "iteration": 206,
             "learn": [
              1.497442897,
              1.967564043,
              0.07779388137
             ],
             "passed_time": 0.4656282164,
             "remaining_time": 1.783783457,
             "test": [
              1.670233852,
              2.472751541,
              0.101549064
             ],
             "test1": [
              2.324587325,
              3.858657614,
              0.1027389763
             ]
            },
            {
             "iteration": 207,
             "learn": [
              1.493190584,
              1.960558132,
              0.07760870538
             ],
             "passed_time": 0.4674934918,
             "remaining_time": 1.780071373,
             "test": [
              1.664839989,
              2.465547188,
              0.1011713204
             ],
             "test1": [
              2.32267982,
              3.854077474,
              0.1026793031
             ]
            },
            {
             "iteration": 208,
             "learn": [
              1.488838341,
              1.955261224,
              0.07733224361
             ],
             "passed_time": 0.4697384335,
             "remaining_time": 1.77781388,
             "test": [
              1.665728156,
              2.466031569,
              0.1012215084
             ],
             "test1": [
              2.324462911,
              3.856746469,
              0.1028302709
             ]
            },
            {
             "iteration": 209,
             "learn": [
              1.486622086,
              1.951911534,
              0.07718253685
             ],
             "passed_time": 0.4715029044,
             "remaining_time": 1.773749021,
             "test": [
              1.664196856,
              2.460982108,
              0.101046719
             ],
             "test1": [
              2.32164301,
              3.854172256,
              0.1026732473
             ]
            },
            {
             "iteration": 210,
             "learn": [
              1.48297464,
              1.947005509,
              0.07704106638
             ],
             "passed_time": 0.4734576954,
             "remaining_time": 1.770417638,
             "test": [
              1.665505092,
              2.46287098,
              0.1011028643
             ],
             "test1": [
              2.319475731,
              3.84984457,
              0.1025905996
             ]
            },
            {
             "iteration": 211,
             "learn": [
              1.480883171,
              1.943990369,
              0.07688163106
             ],
             "passed_time": 0.4752411488,
             "remaining_time": 1.766462383,
             "test": [
              1.665203594,
              2.460911163,
              0.1010960446
             ],
             "test1": [
              2.317995534,
              3.844794309,
              0.1025527414
             ]
            },
            {
             "iteration": 212,
             "learn": [
              1.477723533,
              1.939918183,
              0.0767052849
             ],
             "passed_time": 0.4770337628,
             "remaining_time": 1.762561368,
             "test": [
              1.664460983,
              2.460033635,
              0.1009837368
             ],
             "test1": [
              2.317059324,
              3.840430779,
              0.10247977
             ]
            },
            {
             "iteration": 213,
             "learn": [
              1.473623035,
              1.934927316,
              0.07643572004
             ],
             "passed_time": 0.4791252447,
             "remaining_time": 1.759777768,
             "test": [
              1.663459682,
              2.46025275,
              0.1010091182
             ],
             "test1": [
              2.315948788,
              3.837633084,
              0.1024976048
             ]
            },
            {
             "iteration": 214,
             "learn": [
              1.468057112,
              1.926212994,
              0.07613128311
             ],
             "passed_time": 0.4817553777,
             "remaining_time": 1.758967309,
             "test": [
              1.66226107,
              2.456985735,
              0.1009083555
             ],
             "test1": [
              2.312484615,
              3.834141914,
              0.1023321527
             ]
            },
            {
             "iteration": 215,
             "learn": [
              1.461641349,
              1.917775667,
              0.07586647097
             ],
             "passed_time": 0.4835552693,
             "remaining_time": 1.755126533,
             "test": [
              1.658378885,
              2.451465826,
              0.1007324516
             ],
             "test1": [
              2.302940138,
              3.826511384,
              0.1018650607
             ]
            },
            {
             "iteration": 216,
             "learn": [
              1.460763899,
              1.916008456,
              0.0758036728
             ],
             "passed_time": 0.4854672934,
             "remaining_time": 1.751709174,
             "test": [
              1.658299198,
              2.450141253,
              0.1007225261
             ],
             "test1": [
              2.302993617,
              3.826459121,
              0.10186971
             ]
            },
            {
             "iteration": 217,
             "learn": [
              1.459522007,
              1.913908054,
              0.07574920976
             ],
             "passed_time": 0.4872801311,
             "remaining_time": 1.747949828,
             "test": [
              1.658306191,
              2.450015407,
              0.100716739
             ],
             "test1": [
              2.304125132,
              3.827510122,
              0.1019138748
             ]
            },
            {
             "iteration": 218,
             "learn": [
              1.452893638,
              1.905547818,
              0.07544147512
             ],
             "passed_time": 0.4896355,
             "remaining_time": 1.746143039,
             "test": [
              1.656692582,
              2.450917753,
              0.1005800604
             ],
             "test1": [
              2.300442934,
              3.823243305,
              0.1016377315
             ]
            },
            {
             "iteration": 219,
             "learn": [
              1.44875352,
              1.900063072,
              0.07520678155
             ],
             "passed_time": 0.4914850307,
             "remaining_time": 1.742537836,
             "test": [
              1.65847522,
              2.451215892,
              0.1006582816
             ],
             "test1": [
              2.299181654,
              3.821272339,
              0.1016159891
             ]
            },
            {
             "iteration": 220,
             "learn": [
              1.444361503,
              1.895117182,
              0.07499192337
             ],
             "passed_time": 0.4932289994,
             "remaining_time": 1.738576428,
             "test": [
              1.654256085,
              2.445359756,
              0.100353232
             ],
             "test1": [
              2.294406893,
              3.818254555,
              0.1012869968
             ]
            },
            {
             "iteration": 221,
             "learn": [
              1.443663619,
              1.893894847,
              0.07493786251
             ],
             "passed_time": 0.495066082,
             "remaining_time": 1.734961314,
             "test": [
              1.654052835,
              2.443904193,
              0.1003103487
             ],
             "test1": [
              2.293639124,
              3.816297692,
              0.1012730003
             ]
            },
            {
             "iteration": 222,
             "learn": [
              1.441816718,
              1.890759127,
              0.07486437677
             ],
             "passed_time": 0.4973278206,
             "remaining_time": 1.732841778,
             "test": [
              1.653345708,
              2.441963173,
              0.1001795327
             ],
             "test1": [
              2.292944904,
              3.815476515,
              0.101256108
             ]
            },
            {
             "iteration": 223,
             "learn": [
              1.436812481,
              1.884033771,
              0.07462461914
             ],
             "passed_time": 0.4996413968,
             "remaining_time": 1.730900553,
             "test": [
              1.653699589,
              2.447389222,
              0.1002339839
             ],
             "test1": [
              2.287098584,
              3.810986583,
              0.1009414824
             ]
            },
            {
             "iteration": 224,
             "learn": [
              1.434179671,
              1.880471151,
              0.07439973274
             ],
             "passed_time": 0.5016976933,
             "remaining_time": 1.728069832,
             "test": [
              1.65303512,
              2.446064115,
              0.1001493647
             ],
             "test1": [
              2.286160356,
              3.811547622,
              0.1008427274
             ]
            },
            {
             "iteration": 225,
             "learn": [
              1.429787774,
              1.874550099,
              0.07419672194
             ],
             "passed_time": 0.5035618855,
             "remaining_time": 1.72458805,
             "test": [
              1.655214524,
              2.447754901,
              0.1002477195
             ],
             "test1": [
              2.282160643,
              3.80938986,
              0.1006747275
             ]
            },
            {
             "iteration": 226,
             "learn": [
              1.428957586,
              1.87306952,
              0.0741264544
             ],
             "passed_time": 0.5056391529,
             "remaining_time": 1.721846102,
             "test": [
              1.654068483,
              2.445123837,
              0.1000737367
             ],
             "test1": [
              2.282057561,
              3.809086734,
              0.1006823673
             ]
            },
            {
             "iteration": 227,
             "learn": [
              1.42491228,
              1.866550099,
              0.07395652653
             ],
             "passed_time": 0.5077721236,
             "remaining_time": 1.719298594,
             "test": [
              1.65334313,
              2.442924451,
              0.09995437726
             ],
             "test1": [
              2.281567878,
              3.806968773,
              0.100727385
             ]
            },
            {
             "iteration": 228,
             "learn": [
              1.421540133,
              1.861319739,
              0.0738400917
             ],
             "passed_time": 0.5095903054,
             "remaining_time": 1.715694871,
             "test": [
              1.652614765,
              2.441532962,
              0.09990635344
             ],
             "test1": [
              2.280258577,
              3.80474889,
              0.1007054859
             ]
            },
            {
             "iteration": 229,
             "learn": [
              1.415402706,
              1.855017244,
              0.07354601853
             ],
             "passed_time": 0.5113534619,
             "remaining_time": 1.711922459,
             "test": [
              1.651192842,
              2.439375707,
              0.0998791832
             ],
             "test1": [
              2.280806137,
              3.807295295,
              0.1006854409
             ]
            },
            {
             "iteration": 230,
             "learn": [
              1.41340252,
              1.851921584,
              0.07338810372
             ],
             "passed_time": 0.5138807904,
             "remaining_time": 1.710711376,
             "test": [
              1.65267523,
              2.440626318,
              0.1000144349
             ],
             "test1": [
              2.281614969,
              3.806778264,
              0.1008468232
             ]
            },
            {
             "iteration": 231,
             "learn": [
              1.40745526,
              1.84503382,
              0.07299857327
             ],
             "passed_time": 0.5160177627,
             "remaining_time": 1.708196732,
             "test": [
              1.65321823,
              2.441461011,
              0.1000648418
             ],
             "test1": [
              2.284486018,
              3.810727447,
              0.1010849658
             ]
            },
            {
             "iteration": 232,
             "learn": [
              1.404271635,
              1.840887861,
              0.07275337648
             ],
             "passed_time": 0.5179137953,
             "remaining_time": 1.704892193,
             "test": [
              1.652834314,
              2.44296502,
              0.1001311096
             ],
             "test1": [
              2.28699944,
              3.815507156,
              0.1012083959
             ]
            },
            {
             "iteration": 233,
             "learn": [
              1.399214209,
              1.834104489,
              0.07245106001
             ],
             "passed_time": 0.5197283131,
             "remaining_time": 1.701332854,
             "test": [
              1.653745237,
              2.442836289,
              0.1001775935
             ],
             "test1": [
              2.284312607,
              3.814428913,
              0.101163077
             ]
            },
            {
             "iteration": 234,
             "learn": [
              1.396156481,
              1.829659954,
              0.07228556273
             ],
             "passed_time": 0.5216283076,
             "remaining_time": 1.698066618,
             "test": [
              1.654969759,
              2.442916486,
              0.1001526726
             ],
             "test1": [
              2.282580256,
              3.815381715,
              0.1010174626
             ]
            },
            {
             "iteration": 235,
             "learn": [
              1.394756161,
              1.827085112,
              0.07219939228
             ],
             "passed_time": 0.5233991429,
             "remaining_time": 1.694393836,
             "test": [
              1.655115924,
              2.442325144,
              0.100126289
             ],
             "test1": [
              2.283290164,
              3.816869905,
              0.100983807
             ]
            },
            {
             "iteration": 236,
             "learn": [
              1.393213405,
              1.824600132,
              0.07211018883
             ],
             "passed_time": 0.5254057013,
             "remaining_time": 1.691495992,
             "test": [
              1.655442355,
              2.442077606,
              0.1001613229
             ],
             "test1": [
              2.281815951,
              3.817067679,
              0.1008618901
             ]
            },
            {
             "iteration": 237,
             "learn": [
              1.391565472,
              1.82209058,
              0.07200766754
             ],
             "passed_time": 0.5276565419,
             "remaining_time": 1.689387752,
             "test": [
              1.65438222,
              2.43943962,
              0.09999542897
             ],
             "test1": [
              2.281405834,
              3.818717957,
              0.1007811994
             ]
            },
            {
             "iteration": 238,
             "learn": [
              1.387953988,
              1.816816725,
              0.07175793951
             ],
             "passed_time": 0.5294283294,
             "remaining_time": 1.685752965,
             "test": [
              1.655121448,
              2.442231954,
              0.09996617793
             ],
             "test1": [
              2.2836317,
              3.817175354,
              0.1009737599
             ]
            },
            {
             "iteration": 239,
             "learn": [
              1.382150207,
              1.808686477,
              0.07151168702
             ],
             "passed_time": 0.5315467164,
             "remaining_time": 1.683231269,
             "test": [
              1.653181062,
              2.441750862,
              0.09984984097
             ],
             "test1": [
              2.279139828,
              3.815566746,
              0.1007091785
             ]
            },
            {
             "iteration": 240,
             "learn": [
              1.377474153,
              1.802823509,
              0.07123749777
             ],
             "passed_time": 0.5334366532,
             "remaining_time": 1.679993443,
             "test": [
              1.65287495,
              2.438418138,
              0.09978832058
             ],
             "test1": [
              2.27881412,
              3.814602694,
              0.1006721985
             ]
            },
            {
             "iteration": 241,
             "learn": [
              1.373818495,
              1.797525361,
              0.0710929555
             ],
             "passed_time": 0.5353244376,
             "remaining_time": 1.676760015,
             "test": [
              1.651932108,
              2.437706464,
              0.09977418675
             ],
             "test1": [
              2.276448357,
              3.813565486,
              0.1005702044
             ]
            },
            {
             "iteration": 242,
             "learn": [
              1.368232098,
              1.791453402,
              0.07086176049
             ],
             "passed_time": 0.5371941335,
             "remaining_time": 1.673481313,
             "test": [
              1.651709471,
              2.440392293,
              0.09975008306
             ],
             "test1": [
              2.271021819,
              3.810128019,
              0.1003834476
             ]
            },
            {
             "iteration": 243,
             "learn": [
              1.367430894,
              1.790052218,
              0.07081139828
             ],
             "passed_time": 0.5389742047,
             "remaining_time": 1.66993647,
             "test": [
              1.652344336,
              2.440703035,
              0.09980706639
             ],
             "test1": [
              2.27074227,
              3.810201362,
              0.1003714203
             ]
            },
            {
             "iteration": 244,
             "learn": [
              1.365516981,
              1.78738217,
              0.07067522804
             ],
             "passed_time": 0.5407901027,
             "remaining_time": 1.666516439,
             "test": [
              1.652309063,
              2.440404858,
              0.09977444274
             ],
             "test1": [
              2.269895516,
              3.806702423,
              0.1003781809
             ]
            },
            {
             "iteration": 245,
             "learn": [
              1.359078049,
              1.778759786,
              0.07034961141
             ],
             "passed_time": 0.5428183632,
             "remaining_time": 1.663760349,
             "test": [
              1.649410646,
              2.437568948,
              0.09965617806
             ],
             "test1": [
              2.264506605,
              3.802619341,
              0.1001642511
             ]
            },
            {
             "iteration": 246,
             "learn": [
              1.356973143,
              1.775115752,
              0.07024866982
             ],
             "passed_time": 0.5457050214,
             "remaining_time": 1.663627049,
             "test": [
              1.648321048,
              2.436570594,
              0.09959446594
             ],
             "test1": [
              2.262497081,
              3.801411562,
              0.100069762
             ]
            },
            {
             "iteration": 247,
             "learn": [
              1.355471065,
              1.772487882,
              0.07013109081
             ],
             "passed_time": 0.5476435346,
             "remaining_time": 1.660596524,
             "test": [
              1.648504075,
              2.436416477,
              0.0995719795
             ],
             "test1": [
              2.263128165,
              3.801239876,
              0.1001649639
             ]
            },
            {
             "iteration": 248,
             "learn": [
              1.351781722,
              1.767626179,
              0.06996485967
             ],
             "passed_time": 0.5494625727,
             "remaining_time": 1.657214426,
             "test": [
              1.650572623,
              2.436823046,
              0.09965513318
             ],
             "test1": [
              2.262331354,
              3.799965675,
              0.1001556462
             ]
            },
            {
             "iteration": 249,
             "learn": [
              1.347287249,
              1.762723823,
              0.0697727231
             ],
             "passed_time": 0.5512950499,
             "remaining_time": 1.65388515,
             "test": [
              1.650044583,
              2.434509172,
              0.09963829837
             ],
             "test1": [
              2.260306018,
              3.800918224,
              0.1000181869
             ]
            },
            {
             "iteration": 250,
             "learn": [
              1.341500201,
              1.755871727,
              0.06955924764
             ],
             "passed_time": 0.5539699104,
             "remaining_time": 1.653081526,
             "test": [
              1.650332259,
              2.432767246,
              0.09958357247
             ],
             "test1": [
              2.255710652,
              3.797847937,
              0.09982816095
             ]
            },
            {
             "iteration": 251,
             "learn": [
              1.340226974,
              1.753997873,
              0.06945909063
             ],
             "passed_time": 0.5560072505,
             "remaining_time": 1.650370728,
             "test": [
              1.650550948,
              2.432682371,
              0.09955869915
             ],
             "test1": [
              2.25652975,
              3.798745128,
              0.09987154884
             ]
            },
            {
             "iteration": 252,
             "learn": [
              1.338190293,
              1.751315441,
              0.06929081214
             ],
             "passed_time": 0.5580095142,
             "remaining_time": 1.647561688,
             "test": [
              1.650602289,
              2.43111655,
              0.09955975028
             ],
             "test1": [
              2.256181704,
              3.795033745,
              0.09994932542
             ]
            },
            {
             "iteration": 253,
             "learn": [
              1.335537413,
              1.747119465,
              0.06913072213
             ],
             "passed_time": 0.5608120963,
             "remaining_time": 1.647109543,
             "test": [
              1.651964995,
              2.43173192,
              0.09965628708
             ],
             "test1": [
              2.259222138,
              3.799206532,
              0.1001082819
             ]
            },
            {
             "iteration": 254,
             "learn": [
              1.333277734,
              1.743103699,
              0.06897993171
             ],
             "passed_time": 0.5628733542,
             "remaining_time": 1.644473133,
             "test": [
              1.652842091,
              2.431244797,
              0.09965411696
             ],
             "test1": [
              2.25769037,
              3.802499508,
              0.1000223056
             ]
            },
            {
             "iteration": 255,
             "learn": [
              1.328695727,
              1.738542802,
              0.06875826241
             ],
             "passed_time": 0.564838714,
             "remaining_time": 1.641562513,
             "test": [
              1.654778663,
              2.429748007,
              0.09969469225
             ],
             "test1": [
              2.256695559,
              3.804286508,
              0.09988564868
             ]
            },
            {
             "iteration": 256,
             "learn": [
              1.325464449,
              1.733655535,
              0.06856255604
             ],
             "passed_time": 0.5815874198,
             "remaining_time": 1.681398649,
             "test": [
              1.652356746,
              2.426791262,
              0.09948587802
             ],
             "test1": [
              2.253643513,
              3.800510961,
              0.0997198454
             ]
            },
            {
             "iteration": 257,
             "learn": [
              1.321789857,
              1.728954235,
              0.06841812822
             ],
             "passed_time": 0.584388673,
             "remaining_time": 1.680683703,
             "test": [
              1.653123203,
              2.423624048,
              0.09951760819
             ],
             "test1": [
              2.251150784,
              3.79920851,
              0.0996174953
             ]
            },
            {
             "iteration": 258,
             "learn": [
              1.318663,
              1.724513661,
              0.06816911542
             ],
             "passed_time": 0.592370011,
             "remaining_time": 1.694772889,
             "test": [
              1.654575877,
              2.423733475,
              0.09955276789
             ],
             "test1": [
              2.253426541,
              3.798146106,
              0.09978919494
             ]
            },
            {
             "iteration": 259,
             "learn": [
              1.315550478,
              1.720547292,
              0.0680257578
             ],
             "passed_time": 0.5987731324,
             "remaining_time": 1.704200454,
             "test": [
              1.656953012,
              2.424349867,
              0.09965397217
             ],
             "test1": [
              2.251412068,
              3.797139016,
              0.09969935265
             ]
            },
            {
             "iteration": 260,
             "learn": [
              1.311210106,
              1.716175523,
              0.06773560201
             ],
             "passed_time": 0.6034571129,
             "remaining_time": 1.708639105,
             "test": [
              1.655275676,
              2.422174598,
              0.09951702595
             ],
             "test1": [
              2.248966188,
              3.797551481,
              0.09955708877
             ]
            },
            {
             "iteration": 261,
             "learn": [
              1.310009641,
              1.714780316,
              0.06766518914
             ],
             "passed_time": 0.6073794372,
             "remaining_time": 1.71086269,
             "test": [
              1.65423464,
              2.421132176,
              0.09947403035
             ],
             "test1": [
              2.2479947,
              3.795850858,
              0.09954032547
             ]
            },
            {
             "iteration": 262,
             "learn": [
              1.30862351,
              1.713334239,
              0.06755230493
             ],
             "passed_time": 0.6142266722,
             "remaining_time": 1.72123596,
             "test": [
              1.655194402,
              2.421317548,
              0.09950838064
             ],
             "test1": [
              2.248150364,
              3.794775498,
              0.09956744784
             ]
            },
            {
             "iteration": 263,
             "learn": [
              1.303892104,
              1.707082949,
              0.06731933123
             ],
             "passed_time": 0.6193111441,
             "remaining_time": 1.726564402,
             "test": [
              1.655970812,
              2.422640736,
              0.09956414146
             ],
             "test1": [
              2.248936358,
              3.793245999,
              0.09960852406
             ]
            },
            {
             "iteration": 264,
             "learn": [
              1.299003697,
              1.701765797,
              0.06711685006
             ],
             "passed_time": 0.6230201153,
             "remaining_time": 1.727999188,
             "test": [
              1.655339072,
              2.422575403,
              0.09952751745
             ],
             "test1": [
              2.245610801,
              3.790815498,
              0.09946647548
             ]
            },
            {
             "iteration": 265,
             "learn": [
              1.2949405,
              1.697299673,
              0.06694434614
             ],
             "passed_time": 0.627878286,
             "remaining_time": 1.732566398,
             "test": [
              1.655504023,
              2.420362926,
              0.09951959051
             ],
             "test1": [
              2.243592968,
              3.791545777,
              0.09933457243
             ]
            },
            {
             "iteration": 266,
             "learn": [
              1.292391865,
              1.693183503,
              0.06679302744
             ],
             "passed_time": 0.6313176269,
             "remaining_time": 1.733167867,
             "test": [
              1.657361369,
              2.420021083,
              0.09958686631
             ],
             "test1": [
              2.244634193,
              3.791010288,
              0.09926939816
             ]
            },
            {
             "iteration": 267,
             "learn": [
              1.289413656,
              1.688215402,
              0.06655402127
             ],
             "passed_time": 0.6384577089,
             "remaining_time": 1.743847175,
             "test": [
              1.657110183,
              2.418585129,
              0.09945048131
             ],
             "test1": [
              2.241490445,
              3.786952053,
              0.09902509874
             ]
            },
            {
             "iteration": 268,
             "learn": [
              1.287271022,
              1.68510673,
              0.06646118735
             ],
             "passed_time": 0.6441911035,
             "remaining_time": 1.750571363,
             "test": [
              1.658228809,
              2.418693983,
              0.0995188346
             ],
             "test1": [
              2.2400782,
              3.785140787,
              0.0989693813
             ]
            },
            {
             "iteration": 269,
             "learn": [
              1.286524902,
              1.683976995,
              0.06638458199
             ],
             "passed_time": 0.6470783229,
             "remaining_time": 1.749508058,
             "test": [
              1.658692441,
              2.418650516,
              0.09952198205
             ],
             "test1": [
              2.240015982,
              3.784602616,
              0.09898660314
             ]
            },
            {
             "iteration": 270,
             "learn": [
              1.282927531,
              1.679707669,
              0.06611377749
             ],
             "passed_time": 0.6502568688,
             "remaining_time": 1.749214972,
             "test": [
              1.658904321,
              2.4202798,
              0.0995451162
             ],
             "test1": [
              2.240007691,
              3.785757266,
              0.09901138531
             ]
            },
            {
             "iteration": 271,
             "learn": [
              1.282110819,
              1.678710001,
              0.06604368616
             ],
             "passed_time": 0.6539114781,
             "remaining_time": 1.750174838,
             "test": [
              1.659136665,
              2.420471256,
              0.09957251823
             ],
             "test1": [
              2.239596446,
              3.785814675,
              0.09898010307
             ]
            },
            {
             "iteration": 272,
             "learn": [
              1.277413027,
              1.673849886,
              0.06586432892
             ],
             "passed_time": 0.6575883404,
             "remaining_time": 1.751160159,
             "test": [
              1.656710409,
              2.417390933,
              0.09948217466
             ],
             "test1": [
              2.237195706,
              3.784931446,
              0.09887985698
             ]
            },
            {
             "iteration": 273,
             "learn": [
              1.273750872,
              1.668964068,
              0.06572586348
             ],
             "passed_time": 0.6609725905,
             "remaining_time": 1.751336134,
             "test": [
              1.656148833,
              2.413819194,
              0.09938643436
             ],
             "test1": [
              2.23525403,
              3.78442789,
              0.09877610046
             ]
            },
            {
             "iteration": 274,
             "learn": [
              1.270607968,
              1.664526724,
              0.06560227407
             ],
             "passed_time": 0.663585138,
             "remaining_time": 1.749451728,
             "test": [
              1.652083798,
              2.409176368,
              0.09916565524
             ],
             "test1": [
              2.229444758,
              3.780341404,
              0.09855404954
             ]
            },
            {
             "iteration": 275,
             "learn": [
              1.26932709,
              1.6627651,
              0.06553186369
             ],
             "passed_time": 0.6667186489,
             "remaining_time": 1.74892863,
             "test": [
              1.651294526,
              2.409066976,
              0.09914315818
             ],
             "test1": [
              2.229366639,
              3.780261244,
              0.09854637914
             ]
            },
            {
             "iteration": 276,
             "learn": [
              1.263688389,
              1.654962469,
              0.06529271878
             ],
             "passed_time": 0.669461173,
             "remaining_time": 1.747366166,
             "test": [
              1.647149495,
              2.405409976,
              0.09892653902
             ],
             "test1": [
              2.226159293,
              3.777571901,
              0.09845969912
             ]
            },
            {
             "iteration": 277,
             "learn": [
              1.26223565,
              1.652966316,
              0.06521172678
             ],
             "passed_time": 0.6723873528,
             "remaining_time": 1.74627219,
             "test": [
              1.647083788,
              2.40533848,
              0.09896033149
             ],
             "test1": [
              2.224779441,
              3.776711101,
              0.09839447865
             ]
            },
            {
             "iteration": 278,
             "learn": [
              1.261865883,
              1.652372775,
              0.06518438946
             ],
             "passed_time": 0.6760727952,
             "remaining_time": 1.747127188,
             "test": [
              1.64670219,
              2.40535982,
              0.09895914269
             ],
             "test1": [
              2.224149242,
              3.776257571,
              0.09837404268
             ]
            },
            {
             "iteration": 279,
             "learn": [
              1.261023521,
              1.651456257,
              0.06512869981
             ],
             "passed_time": 0.678643989,
             "remaining_time": 1.745084543,
             "test": [
              1.646228737,
              2.404452365,
              0.09893264517
             ],
             "test1": [
              2.223840335,
              3.775848117,
              0.09836531102
             ]
            },
            {
             "iteration": 280,
             "learn": [
              1.259119954,
              1.648656362,
              0.06504516613
             ],
             "passed_time": 0.6874189077,
             "remaining_time": 1.758911725,
             "test": [
              1.64771259,
              2.405884205,
              0.09904075028
             ],
             "test1": [
              2.222479319,
              3.77280508,
              0.09840462663
             ]
            },
            {
             "iteration": 281,
             "learn": [
              1.258380624,
              1.647319024,
              0.064989881
             ],
             "passed_time": 0.6940716255,
             "remaining_time": 1.767175273,
             "test": [
              1.648379965,
              2.405918491,
              0.09912833208
             ],
             "test1": [
              2.2236306,
              3.774385025,
              0.09847471527
             ]
            },
            {
             "iteration": 282,
             "learn": [
              1.257096352,
              1.645315709,
              0.06489281829
             ],
             "passed_time": 0.7003918286,
             "remaining_time": 1.774490958,
             "test": [
              1.648815701,
              2.406128342,
              0.09915612983
             ],
             "test1": [
              2.223808191,
              3.774594371,
              0.0985162953
             ]
            },
            {
             "iteration": 283,
             "learn": [
              1.253640472,
              1.640488395,
              0.06461171341
             ],
             "passed_time": 0.7027173566,
             "remaining_time": 1.771639533,
             "test": [
              1.649442781,
              2.40733342,
              0.09921964226
             ],
             "test1": [
              2.224387258,
              3.772212312,
              0.09856083355
             ]
            },
            {
             "iteration": 284,
             "learn": [
              1.251304477,
              1.63785301,
              0.06450956195
             ],
             "passed_time": 0.7052368159,
             "remaining_time": 1.769278328,
             "test": [
              1.647034629,
              2.40429259,
              0.09905003597
             ],
             "test1": [
              2.220949098,
              3.77025195,
              0.09843157292
             ]
            },
            {
             "iteration": 285,
             "learn": [
              1.250425775,
              1.636808572,
              0.0644621994
             ],
             "passed_time": 0.7074224524,
             "remaining_time": 1.766082626,
             "test": [
              1.646730501,
              2.404486424,
              0.0990754771
             ],
             "test1": [
              2.219866823,
              3.768961451,
              0.09840565446
             ]
            },
            {
             "iteration": 286,
             "learn": [
              1.249581754,
              1.635594007,
              0.0644222297
             ],
             "passed_time": 0.7093276118,
             "remaining_time": 1.762197168,
             "test": [
              1.647616258,
              2.404191148,
              0.09908198827
             ],
             "test1": [
              2.221250487,
              3.768689025,
              0.09847427582
             ]
            },
            {
             "iteration": 287,
             "learn": [
              1.246101349,
              1.631621794,
              0.06420933073
             ],
             "passed_time": 0.7115836812,
             "remaining_time": 1.75919299,
             "test": [
              1.64772057,
              2.404072046,
              0.09912148512
             ],
             "test1": [
              2.221692442,
              3.768689619,
              0.09849713836
             ]
            },
            {
             "iteration": 288,
             "learn": [
              1.242027459,
              1.62645423,
              0.0640182702
             ],
             "passed_time": 0.7135775484,
             "remaining_time": 1.755548917,
             "test": [
              1.647983465,
              2.406143582,
              0.09910353072
             ],
             "test1": [
              2.217530728,
              3.765649793,
              0.09828197048
             ]
            },
            {
             "iteration": 289,
             "learn": [
              1.241586711,
              1.62560056,
              0.06399062329
             ],
             "passed_time": 0.7156585673,
             "remaining_time": 1.752129596,
             "test": [
              1.647492576,
              2.405043092,
              0.09904448958
             ],
             "test1": [
              2.218445517,
              3.76557391,
              0.098325038
             ]
            },
            {
             "iteration": 290,
             "learn": [
              1.235479177,
              1.619396837,
              0.06374854676
             ],
             "passed_time": 0.7179582891,
             "remaining_time": 1.749252326,
             "test": [
              1.6475474,
              2.406265815,
              0.09904906763
             ],
             "test1": [
              2.214937309,
              3.764450696,
              0.0981595035
             ]
            },
            {
             "iteration": 291,
             "learn": [
              1.232173465,
              1.615109452,
              0.06362139703
             ],
             "passed_time": 0.7199178253,
             "remaining_time": 1.745554179,
             "test": [
              1.646316408,
              2.404086874,
              0.09899174265
             ],
             "test1": [
              2.214813547,
              3.765493143,
              0.09812380892
             ]
            },
            {
             "iteration": 292,
             "learn": [
              1.229433561,
              1.610440291,
              0.06351087708
             ],
             "passed_time": 0.7218935482,
             "remaining_time": 1.741906958,
             "test": [
              1.647186094,
              2.405426307,
              0.09906419037
             ],
             "test1": [
              2.214404944,
              3.765337148,
              0.09808813697
             ]
            },
            {
             "iteration": 293,
             "learn": [
              1.228984276,
              1.609579716,
              0.06348916982
             ],
             "passed_time": 0.7244082117,
             "remaining_time": 1.739565298,
             "test": [
              1.646387225,
              2.403825807,
              0.09895576166
             ],
             "test1": [
              2.214377775,
              3.765532221,
              0.09808495107
             ]
            },
            {
             "iteration": 294,
             "learn": [
              1.22845959,
              1.608808895,
              0.0634432644
             ],
             "passed_time": 0.726439094,
             "remaining_time": 1.736066309,
             "test": [
              1.646772293,
              2.404292145,
              0.09903384921
             ],
             "test1": [
              2.215424603,
              3.765692224,
              0.09817424005
             ]
            },
            {
             "iteration": 295,
             "learn": [
              1.226732599,
              1.606225674,
              0.06336030043
             ],
             "passed_time": 0.7283240137,
             "remaining_time": 1.732230087,
             "test": [
              1.645200206,
              2.403389475,
              0.09895999094
             ],
             "test1": [
              2.212928232,
              3.762924015,
              0.09806741342
             ]
            },
            {
             "iteration": 296,
             "learn": [
              1.226120639,
              1.605382846,
              0.06330167711
             ],
             "passed_time": 0.730320941,
             "remaining_time": 1.728672126,
             "test": [
              1.644832729,
              2.402291506,
              0.09887876767
             ],
             "test1": [
              2.213002189,
              3.762884935,
              0.09806637764
             ]
            },
            {
             "iteration": 297,
             "learn": [
              1.22483294,
              1.603767793,
              0.0632366116
             ],
             "passed_time": 0.7323584618,
             "remaining_time": 1.725220269,
             "test": [
              1.645627304,
              2.402060776,
              0.09890577384
             ],
             "test1": [
              2.212028113,
              3.762247468,
              0.09802123781
             ]
            },
            {
             "iteration": 298,
             "learn": [
              1.223210533,
              1.601461924,
              0.06313156536
             ],
             "passed_time": 0.7347981529,
             "remaining_time": 1.722720753,
             "test": [
              1.646164261,
              2.402054061,
              0.09894163057
             ],
             "test1": [
              2.212930716,
              3.760310336,
              0.09812600397
             ]
            },
            {
             "iteration": 299,
             "learn": [
              1.219587548,
              1.596434717,
              0.06300675387
             ],
             "passed_time": 0.7370089491,
             "remaining_time": 1.719687548,
             "test": [
              1.647900573,
              2.403621218,
              0.09899492494
             ],
             "test1": [
              2.212641732,
              3.759267965,
              0.09811540965
             ]
            },
            {
             "iteration": 300,
             "learn": [
              1.218199431,
              1.594436164,
              0.06291171293
             ],
             "passed_time": 0.7394924721,
             "remaining_time": 1.71729315,
             "test": [
              1.647904226,
              2.403431199,
              0.09897316857
             ],
             "test1": [
              2.212421523,
              3.758641028,
              0.09813419469
             ]
            },
            {
             "iteration": 301,
             "learn": [
              1.216012021,
              1.59176098,
              0.06279008792
             ],
             "passed_time": 0.741424402,
             "remaining_time": 1.713623287,
             "test": [
              1.647063793,
              2.400869663,
              0.09888882089
             ],
             "test1": [
              2.2108241,
              3.758367744,
              0.09806718555
             ]
            },
            {
             "iteration": 302,
             "learn": [
              1.21226866,
              1.58637194,
              0.06262262799
             ],
             "passed_time": 0.7433484318,
             "remaining_time": 1.709946723,
             "test": [
              1.64587576,
              2.397985817,
              0.09881783253
             ],
             "test1": [
              2.210147815,
              3.759682403,
              0.09803210186
             ]
            },
            {
             "iteration": 303,
             "learn": [
              1.207818348,
              1.580354363,
              0.06244316469
             ],
             "passed_time": 0.7454664275,
             "remaining_time": 1.706725768,
             "test": [
              1.648326334,
              2.400332948,
              0.09890671311
             ],
             "test1": [
              2.209505748,
              3.759083541,
              0.09803229634
             ]
            },
            {
             "iteration": 304,
             "learn": [
              1.206563884,
              1.578138434,
              0.06238823637
             ],
             "passed_time": 0.7481424979,
             "remaining_time": 1.704783725,
             "test": [
              1.647641475,
              2.39982519,
              0.09887366639
             ],
             "test1": [
              2.208122439,
              3.758404586,
              0.09797025347
             ]
            },
            {
             "iteration": 305,
             "learn": [
              1.203038609,
              1.572935284,
              0.06212051729
             ],
             "passed_time": 0.7506035684,
             "remaining_time": 1.702349269,
             "test": [
              1.64890737,
              2.400823982,
              0.09891404843
             ],
             "test1": [
              2.208724776,
              3.755377424,
              0.09805008444
             ]
            },
            {
             "iteration": 306,
             "learn": [
              1.199451196,
              1.568499029,
              0.06186887909
             ],
             "passed_time": 0.7527201891,
             "remaining_time": 1.699137104,
             "test": [
              1.649554104,
              2.401182448,
              0.0989576935
             ],
             "test1": [
              2.207800662,
              3.754591712,
              0.09801968898
             ]
            },
            {
             "iteration": 307,
             "learn": [
              1.198597566,
              1.567526777,
              0.06182498437
             ],
             "passed_time": 0.7546840512,
             "remaining_time": 1.695588842,
             "test": [
              1.650697866,
              2.401585377,
              0.09902660028
             ],
             "test1": [
              2.207663037,
              3.754748592,
              0.09801205615
             ]
            },
            {
             "iteration": 308,
             "learn": [
              1.197630496,
              1.565986077,
              0.06175955888
             ],
             "passed_time": 0.7568619451,
             "remaining_time": 1.692529463,
             "test": [
              1.651078627,
              2.401410942,
              0.09902875389
             ],
             "test1": [
              2.207345131,
              3.755271739,
              0.09799745278
             ]
            },
            {
             "iteration": 309,
             "learn": [
              1.195496378,
              1.56357762,
              0.06157742877
             ],
             "passed_time": 0.7587533776,
             "remaining_time": 1.688838163,
             "test": [
              1.651879488,
              2.402758613,
              0.09904941997
             ],
             "test1": [
              2.207069878,
              3.753959539,
              0.09799278823
             ]
            },
            {
             "iteration": 310,
             "learn": [
              1.19183389,
              1.558576532,
              0.06144835908
             ],
             "passed_time": 0.7610308416,
             "remaining_time": 1.686013665,
             "test": [
              1.650001357,
              2.401744803,
              0.09892242498
             ],
             "test1": [
              2.204372909,
              3.75141942,
              0.09784151088
             ]
            },
            {
             "iteration": 311,
             "learn": [
              1.189888856,
              1.556357213,
              0.06136830627
             ],
             "passed_time": 0.7633138281,
             "remaining_time": 1.683204852,
             "test": [
              1.650202015,
              2.399827126,
              0.0989239173
             ],
             "test1": [
              2.203604491,
              3.750561406,
              0.09784008009
             ]
            },
            {
             "iteration": 312,
             "learn": [
              1.187488387,
              1.55296635,
              0.06117329335
             ],
             "passed_time": 0.7655983512,
             "remaining_time": 1.680402771,
             "test": [
              1.651426985,
              2.401681003,
              0.09903530566
             ],
             "test1": [
              2.204386935,
              3.755253209,
              0.09784501519
             ]
            },
            {
             "iteration": 313,
             "learn": [
              1.184299811,
              1.549069845,
              0.06100737988
             ],
             "passed_time": 0.7677586608,
             "remaining_time": 1.677332616,
             "test": [
              1.647883135,
              2.401338209,
              0.09882868551
             ],
             "test1": [
              2.201499503,
              3.754829909,
              0.09776715058
             ]
            },
            {
             "iteration": 314,
             "learn": [
              1.181738146,
              1.545585208,
              0.06085759587
             ],
             "passed_time": 0.7698871729,
             "remaining_time": 1.67419909,
             "test": [
              1.646108495,
              2.400800508,
              0.09871774248
             ],
             "test1": [
              2.198503987,
              3.752189305,
              0.09759095765
             ]
            },
            {
             "iteration": 315,
             "learn": [
              1.179371212,
              1.542356152,
              0.06078557608
             ],
             "passed_time": 0.7718410359,
             "remaining_time": 1.670693888,
             "test": [
              1.647229417,
              2.398653041,
              0.09872119351
             ],
             "test1": [
              2.19641606,
              3.750758343,
              0.09751903424
             ]
            },
            {
             "iteration": 316,
             "learn": [
              1.176104108,
              1.538739811,
              0.06061462758
             ],
             "passed_time": 0.7737412853,
             "remaining_time": 1.667082959,
             "test": [
              1.64777031,
              2.399911159,
              0.09871653568
             ],
             "test1": [
              2.193575657,
              3.748776941,
              0.09736285407
             ]
            },
            {
             "iteration": 317,
             "learn": [
              1.172634681,
              1.534025467,
              0.06039982428
             ],
             "passed_time": 0.7765997335,
             "remaining_time": 1.665537793,
             "test": [
              1.649397526,
              2.40022763,
              0.09880876553
             ],
             "test1": [
              2.193225885,
              3.748354986,
              0.09739488232
             ]
            },
            {
             "iteration": 318,
             "learn": [
              1.169212507,
              1.530617489,
              0.06025308321
             ],
             "passed_time": 0.7785699283,
             "remaining_time": 1.662088154,
             "test": [
              1.649775292,
              2.398470472,
              0.09882090097
             ],
             "test1": [
              2.190521139,
              3.747132022,
              0.09724632366
             ]
            },
            {
             "iteration": 319,
             "learn": [
              1.164539935,
              1.524616282,
              0.06007166568
             ],
             "passed_time": 0.780548635,
             "remaining_time": 1.658665849,
             "test": [
              1.646732922,
              2.395387971,
              0.09862840767
             ],
             "test1": [
              2.187223678,
              3.744619982,
              0.09708513005
             ]
            },
            {
             "iteration": 320,
             "learn": [
              1.162960392,
              1.521964505,
              0.05999055568
             ],
             "passed_time": 0.7825361756,
             "remaining_time": 1.655271225,
             "test": [
              1.644925046,
              2.393255452,
              0.09854664302
             ],
             "test1": [
              2.187356183,
              3.744328319,
              0.09709032811
             ]
            },
            {
             "iteration": 321,
             "learn": [
              1.159441028,
              1.51787711,
              0.0598337891
             ],
             "passed_time": 0.7850223216,
             "remaining_time": 1.652935199,
             "test": [
              1.644134119,
              2.392439914,
              0.09844386554
             ],
             "test1": [
              2.186654449,
              3.74366766,
              0.09705415156
             ]
            },
            {
             "iteration": 322,
             "learn": [
              1.154253936,
              1.511769043,
              0.05963702734
             ],
             "passed_time": 0.7867671165,
             "remaining_time": 1.64904439,
             "test": [
              1.639838806,
              2.388918917,
              0.09826534778
             ],
             "test1": [
              2.183471952,
              3.740796947,
              0.0969372412
             ]
            },
            {
             "iteration": 323,
             "learn": [
              1.152056505,
              1.508209892,
              0.05948341636
             ],
             "passed_time": 0.7884919086,
             "remaining_time": 1.645125093,
             "test": [
              1.641032726,
              2.390322049,
              0.0983355777
             ],
             "test1": [
              2.183602863,
              3.740602131,
              0.09696402975
             ]
            },
            {
             "iteration": 324,
             "learn": [
              1.148627562,
              1.503510348,
              0.05927022296
             ],
             "passed_time": 0.7903063089,
             "remaining_time": 1.641405411,
             "test": [
              1.639910301,
              2.388602753,
              0.09821880892
             ],
             "test1": [
              2.18367976,
              3.740178194,
              0.09699844565
             ]
            },
            {
             "iteration": 325,
             "learn": [
              1.14804445,
              1.502795439,
              0.05921165008
             ],
             "passed_time": 0.7920242339,
             "remaining_time": 1.637497956,
             "test": [
              1.639901365,
              2.388567538,
              0.09818830648
             ],
             "test1": [
              2.183493962,
              3.740306384,
              0.09698026642
             ]
            },
            {
             "iteration": 326,
             "learn": [
              1.145581329,
              1.498952484,
              0.05907065527
             ],
             "passed_time": 0.7942708388,
             "remaining_time": 1.634691971,
             "test": [
              1.640607424,
              2.386492937,
              0.0982019183
             ],
             "test1": [
              2.185574385,
              3.738471185,
              0.09707371526
             ]
            },
            {
             "iteration": 327,
             "learn": [
              1.145153812,
              1.498341801,
              0.059033611
             ],
             "passed_time": 0.7962045615,
             "remaining_time": 1.63124837,
             "test": [
              1.640963156,
              2.38696594,
              0.09827635674
             ],
             "test1": [
              2.186856427,
              3.738675591,
              0.09717003892
             ]
            },
            {
             "iteration": 328,
             "learn": [
              1.144469314,
              1.49757012,
              0.0589712263
             ],
             "passed_time": 0.7979681176,
             "remaining_time": 1.62746689,
             "test": [
              1.640207875,
              2.385980632,
              0.09818139057
             ],
             "test1": [
              2.187199973,
              3.736819496,
              0.09718297163
             ]
            },
            {
             "iteration": 329,
             "learn": [
              1.140602405,
              1.492794533,
              0.05873163073
             ],
             "passed_time": 0.7999737588,
             "remaining_time": 1.624189147,
             "test": [
              1.641910981,
              2.387694033,
              0.09832807064
             ],
             "test1": [
              2.186994147,
              3.740167797,
              0.09714255987
             ]
            },
            {
             "iteration": 330,
             "learn": [
              1.138651904,
              1.490320718,
              0.05860159163
             ],
             "passed_time": 0.8017651469,
             "remaining_time": 1.620486052,
             "test": [
              1.640819277,
              2.387838049,
              0.09824533182
             ],
             "test1": [
              2.185642441,
              3.738659856,
              0.09707040838
             ]
            },
            {
             "iteration": 331,
             "learn": [
              1.137516477,
              1.488012297,
              0.05856427499
             ],
             "passed_time": 0.8035179069,
             "remaining_time": 1.616716752,
             "test": [
              1.640270254,
              2.387549716,
              0.09819525232
             ],
             "test1": [
              2.184908938,
              3.738148317,
              0.09703193108
             ]
            },
            {
             "iteration": 332,
             "learn": [
              1.135254774,
              1.484794909,
              0.05848907137
             ],
             "passed_time": 0.805226614,
             "remaining_time": 1.612871326,
             "test": [
              1.641211452,
              2.387745724,
              0.09824008082
             ],
             "test1": [
              2.184622011,
              3.737961242,
              0.0970375853
             ]
            },
            {
             "iteration": 333,
             "learn": [
              1.132457912,
              1.481757908,
              0.05837782868
             ],
             "passed_time": 0.8069946247,
             "remaining_time": 1.609156946,
             "test": [
              1.641957218,
              2.388281318,
              0.09827206442
             ],
             "test1": [
              2.18282467,
              3.737765367,
              0.09696481626
             ]
            },
            {
             "iteration": 334,
             "learn": [
              1.131976761,
              1.481028889,
              0.05833976059
             ],
             "passed_time": 0.8090403797,
             "remaining_time": 1.60600553,
             "test": [
              1.641299914,
              2.387050138,
              0.0982017487
             ],
             "test1": [
              2.183242723,
              3.737899293,
              0.09700073052
             ]
            },
            {
             "iteration": 335,
             "learn": [
              1.12949958,
              1.478043125,
              0.05820781473
             ],
             "passed_time": 0.8108063992,
             "remaining_time": 1.602307884,
             "test": [
              1.640941432,
              2.387506103,
              0.09816673446
             ],
             "test1": [
              2.180354991,
              3.735187385,
              0.0968410648
             ]
            },
            {
             "iteration": 336,
             "learn": [
              1.124077294,
              1.472540349,
              0.05798397573
             ],
             "passed_time": 0.8127307841,
             "remaining_time": 1.598933264,
             "test": [
              1.64498016,
              2.392824906,
              0.09837248015
             ],
             "test1": [
              2.176909809,
              3.734283186,
              0.09669011849
             ]
            },
            {
             "iteration": 337,
             "learn": [
              1.121180673,
              1.468424733,
              0.05782207351
             ],
             "passed_time": 0.8150362332,
             "remaining_time": 1.596313569,
             "test": [
              1.644528285,
              2.393642285,
              0.09836287966
             ],
             "test1": [
              2.17598622,
              3.733390942,
              0.09663549147
             ]
            },
            {
             "iteration": 338,
             "learn": [
              1.116684268,
              1.462875971,
              0.05765395174
             ],
             "passed_time": 0.8168362876,
             "remaining_time": 1.592710283,
             "test": [
              1.641943314,
              2.39154226,
              0.09815762917
             ],
             "test1": [
              2.174925752,
              3.730974541,
              0.09658840603
             ]
            },
            {
             "iteration": 339,
             "learn": [
              1.113846777,
              1.459260216,
              0.0575239435
             ],
             "passed_time": 0.8186868959,
             "remaining_time": 1.589215739,
             "test": [
              1.641854286,
              2.390198005,
              0.09815008258
             ],
             "test1": [
              2.175722549,
              3.732505478,
              0.09662167455
             ]
            },
            {
             "iteration": 340,
             "learn": [
              1.112095026,
              1.456508671,
              0.05740605927
             ],
             "passed_time": 0.8204015758,
             "remaining_time": 1.585468148,
             "test": [
              1.641885684,
              2.391135093,
              0.09811478968
             ],
             "test1": [
              2.174370404,
              3.729020198,
              0.09654772715
             ]
            },
            {
             "iteration": 341,
             "learn": [
              1.109542468,
              1.453210639,
              0.0572709116
             ],
             "passed_time": 0.8263240841,
             "remaining_time": 1.589828209,
             "test": [
              1.640588294,
              2.390557129,
              0.09803498791
             ],
             "test1": [
              2.173040197,
              3.727512086,
              0.09644510533
             ]
            },
            {
             "iteration": 342,
             "learn": [
              1.105291884,
              1.448448405,
              0.05710376738
             ],
             "passed_time": 0.8283804804,
             "remaining_time": 1.586722961,
             "test": [
              1.639517126,
              2.388284297,
              0.09801982961
             ],
             "test1": [
              2.170180108,
              3.725685645,
              0.09633029517
             ]
            },
            {
             "iteration": 343,
             "learn": [
              1.102811402,
              1.445655536,
              0.05700844373
             ],
             "passed_time": 0.8303968604,
             "remaining_time": 1.583547501,
             "test": [
              1.63889267,
              2.385359414,
              0.09798899553
             ],
             "test1": [
              2.169733072,
              3.723960545,
              0.09632118167
             ]
            },
            {
             "iteration": 344,
             "learn": [
              1.100366686,
              1.441841332,
              0.05690115876
             ],
             "passed_time": 0.8322652859,
             "remaining_time": 1.580097862,
             "test": [
              1.637856896,
              2.385240769,
              0.09786549133
             ],
             "test1": [
              2.167426857,
              3.723430541,
              0.0962239962
             ]
            },
            {
             "iteration": 345,
             "learn": [
              1.098251035,
              1.439135238,
              0.05684319205
             ],
             "passed_time": 0.8342242994,
             "remaining_time": 1.576828589,
             "test": [
              1.637397569,
              2.384788155,
              0.09789128959
             ],
             "test1": [
              2.167070963,
              3.722250197,
              0.0962162762
             ]
            },
            {
             "iteration": 346,
             "learn": [
              1.096907597,
              1.437362543,
              0.05679382876
             ],
             "passed_time": 0.8360024584,
             "remaining_time": 1.573226528,
             "test": [
              1.637512069,
              2.384928039,
              0.09791860821
             ],
             "test1": [
              2.16701921,
              3.722237939,
              0.09621440192
             ]
            },
            {
             "iteration": 347,
             "learn": [
              1.094525717,
              1.43396724,
              0.05666062216
             ],
             "passed_time": 0.8378867768,
             "remaining_time": 1.569833846,
             "test": [
              1.636161007,
              2.384229027,
              0.09788410678
             ],
             "test1": [
              2.165388223,
              3.720274165,
              0.09611093433
             ]
            },
            {
             "iteration": 348,
             "learn": [
              1.091468189,
              1.429870736,
              0.05654831212
             ],
             "passed_time": 0.8397578325,
             "remaining_time": 1.566425069,
             "test": [
              1.634709242,
              2.38248851,
              0.09782399746
             ],
             "test1": [
              2.162587242,
              3.717989646,
              0.09601453329
             ]
            },
            {
             "iteration": 349,
             "learn": [
              1.090606046,
              1.428188125,
              0.05651949493
             ],
             "passed_time": 0.8446418552,
             "remaining_time": 1.568620588,
             "test": [
              1.635205011,
              2.38193522,
              0.09781470701
             ],
             "test1": [
              2.161776591,
              3.717398075,
              0.09597635348
             ]
            },
            {
             "iteration": 350,
             "learn": [
              1.086915322,
              1.42404659,
              0.05639740319
             ],
             "passed_time": 0.8469581466,
             "remaining_time": 1.566028026,
             "test": [
              1.634876325,
              2.379310056,
              0.09780468048
             ],
             "test1": [
              2.160873426,
              3.717500478,
              0.09594577491
             ]
            },
            {
             "iteration": 351,
             "learn": [
              1.084471367,
              1.420624538,
              0.05629516942
             ],
             "passed_time": 0.8490435411,
             "remaining_time": 1.563011973,
             "test": [
              1.636814409,
              2.380753617,
              0.09788096681
             ],
             "test1": [
              2.161324849,
              3.718300921,
              0.0959841566
             ]
            },
            {
             "iteration": 352,
             "learn": [
              1.082435405,
              1.418265784,
              0.05617030285
             ],
             "passed_time": 0.8515978333,
             "remaining_time": 1.560860618,
             "test": [
              1.635772102,
              2.378912873,
              0.09777859743
             ],
             "test1": [
              2.160244695,
              3.716782031,
              0.095932478
             ]
            },
            {
             "iteration": 353,
             "learn": [
              1.08081167,
              1.416073667,
              0.05612671838
             ],
             "passed_time": 0.8544147698,
             "remaining_time": 1.559186275,
             "test": [
              1.636379749,
              2.377237647,
              0.09777943412
             ],
             "test1": [
              2.15906995,
              3.715925626,
              0.09587954627
             ]
            },
            {
             "iteration": 354,
             "learn": [
              1.079514768,
              1.413392912,
              0.05605402298
             ],
             "passed_time": 0.8573029356,
             "remaining_time": 1.557634911,
             "test": [
              1.635917948,
              2.376138201,
              0.0977354132
             ],
             "test1": [
              2.157972478,
              3.715721301,
              0.09582639785
             ]
            },
            {
             "iteration": 355,
             "learn": [
              1.077738998,
              1.411157342,
              0.05594848898
             ],
             "passed_time": 0.8599008353,
             "remaining_time": 1.555550949,
             "test": [
              1.636772978,
              2.376024172,
              0.0977621467
             ],
             "test1": [
              2.157296605,
              3.714915472,
              0.09582466665
             ]
            },
            {
             "iteration": 356,
             "learn": [
              1.076217617,
              1.408738223,
              0.0558948684
             ],
             "passed_time": 0.8622234241,
             "remaining_time": 1.55296824,
             "test": [
              1.637416822,
              2.375782685,
              0.09774331119
             ],
             "test1": [
              2.157110143,
              3.715495098,
              0.09581111307
             ]
            },
            {
             "iteration": 357,
             "learn": [
              1.073469319,
              1.404577324,
              0.0557276033
             ],
             "passed_time": 0.8641336299,
             "remaining_time": 1.549647459,
             "test": [
              1.64064517,
              2.378696472,
              0.09797272461
             ],
             "test1": [
              2.154973171,
              3.716594143,
              0.09568956225
             ]
            },
            {
             "iteration": 358,
             "learn": [
              1.06877889,
              1.398864714,
              0.05555210419
             ],
             "passed_time": 0.8660172656,
             "remaining_time": 1.546287095,
             "test": [
              1.639282191,
              2.376601978,
              0.09788543893
             ],
             "test1": [
              2.15378366,
              3.715476158,
              0.09563374037
             ]
            },
            {
             "iteration": 359,
             "learn": [
              1.068263378,
              1.398250696,
              0.05550309604
             ],
             "passed_time": 0.8682102835,
             "remaining_time": 1.543484948,
             "test": [
              1.638781761,
              2.375843581,
              0.09781010802
             ],
             "test1": [
              2.153971111,
              3.715419231,
              0.09564269046
             ]
            },
            {
             "iteration": 360,
             "learn": [
              1.066876322,
              1.396269814,
              0.05544869618
             ],
             "passed_time": 0.8709947606,
             "remaining_time": 1.541733108,
             "test": [
              1.639216021,
              2.374551537,
              0.09778565399
             ],
             "test1": [
              2.153011454,
              3.71465037,
              0.09561713537
             ]
            },
            {
             "iteration": 361,
             "learn": [
              1.064337236,
              1.392715713,
              0.05524658358
             ],
             "passed_time": 0.872934707,
             "remaining_time": 1.538487135,
             "test": [
              1.639938401,
              2.375194407,
              0.09781941099
             ],
             "test1": [
              2.153986584,
              3.715903477,
              0.09561823126
             ]
            },
            {
             "iteration": 362,
             "learn": [
              1.061632726,
              1.389153645,
              0.05508410038
             ],
             "passed_time": 0.8749950925,
             "remaining_time": 1.535459708,
             "test": [
              1.640239503,
              2.374835688,
              0.09784781261
             ],
             "test1": [
              2.153502926,
              3.714034025,
              0.09558893094
             ]
            },
            {
             "iteration": 363,
             "learn": [
              1.059504962,
              1.385899994,
              0.05499332693
             ],
             "passed_time": 0.8773261507,
             "remaining_time": 1.532910527,
             "test": [
              1.638845403,
              2.37390879,
              0.09776306137
             ],
             "test1": [
              2.154852469,
              3.714965301,
              0.09563273916
             ]
            },
            {
             "iteration": 364,
             "learn": [
              1.05675463,
              1.381377009,
              0.05485219653
             ],
             "passed_time": 0.8794871943,
             "remaining_time": 1.530066763,
             "test": [
              1.637479515,
              2.371073298,
              0.09768519204
             ],
             "test1": [
              2.151776521,
              3.714050034,
              0.09549891071
             ]
            },
            {
             "iteration": 365,
             "learn": [
              1.05535307,
              1.378695952,
              0.05477293695
             ],
             "passed_time": 0.881743606,
             "remaining_time": 1.52739193,
             "test": [
              1.63606313,
              2.368738345,
              0.09758392064
             ],
             "test1": [
              2.151080126,
              3.71510571,
              0.09548316254
             ]
            },
            {
             "iteration": 366,
             "learn": [
              1.05193488,
              1.372987936,
              0.05465462222
             ],
             "passed_time": 0.8836521293,
             "remaining_time": 1.52411934,
             "test": [
              1.634352628,
              2.367988736,
              0.09752333912
             ],
             "test1": [
              2.148830519,
              3.713123793,
              0.09540561199
             ]
            },
            {
             "iteration": 367,
             "learn": [
              1.047386295,
              1.36755524,
              0.05449323126
             ],
             "passed_time": 0.8854516713,
             "remaining_time": 1.520667001,
             "test": [
              1.63192755,
              2.366937377,
              0.09739944973
             ],
             "test1": [
              2.145599061,
              3.711061043,
              0.09529297136
             ]
            },
            {
             "iteration": 368,
             "learn": [
              1.043625357,
              1.362326963,
              0.05435625034
             ],
             "passed_time": 0.8874197471,
             "remaining_time": 1.517511817,
             "test": [
              1.632393515,
              2.366513565,
              0.09738993841
             ],
             "test1": [
              2.142659683,
              3.709178095,
              0.09517797717
             ]
            },
            {
             "iteration": 369,
             "learn": [
              1.040319151,
              1.3579036,
              0.05422058303
             ],
             "passed_time": 0.889265908,
             "remaining_time": 1.514155465,
             "test": [
              1.63474688,
              2.367806557,
              0.09747340042
             ],
             "test1": [
              2.142379028,
              3.709572069,
              0.0951790104
             ]
            },
            {
             "iteration": 370,
             "learn": [
              1.037376201,
              1.354324054,
              0.05398997351
             ],
             "passed_time": 0.8914634074,
             "remaining_time": 1.51140292,
             "test": [
              1.635312309,
              2.36811462,
              0.09739551066
             ],
             "test1": [
              2.141372726,
              3.707278695,
              0.09507414765
             ]
            },
            {
             "iteration": 371,
             "learn": [
              1.036772389,
              1.352886036,
              0.05394992804
             ],
             "passed_time": 0.8935080603,
             "remaining_time": 1.508395328,
             "test": [
              1.635841303,
              2.367169996,
              0.09740660072
             ],
             "test1": [
              2.139503919,
              3.706379626,
              0.09497212093
             ]
            },
            {
             "iteration": 372,
             "learn": [
              1.036149709,
              1.351163232,
              0.05391108753
             ],
             "passed_time": 0.8954401638,
             "remaining_time": 1.505203707,
             "test": [
              1.635298277,
              2.366406528,
              0.09737770791
             ],
             "test1": [
              2.13922738,
              3.70628194,
              0.09495360501
             ]
            },
            {
             "iteration": 373,
             "learn": [
              1.034566662,
              1.348574878,
              0.05386015129
             ],
             "passed_time": 0.8973221948,
             "remaining_time": 1.501935011,
             "test": [
              1.6341997,
              2.365833944,
              0.09734041245
             ],
             "test1": [
              2.138933895,
              3.705226109,
              0.09496031547
             ]
            },
            {
             "iteration": 374,
             "learn": [
              1.031317356,
              1.345467613,
              0.05372014943
             ],
             "passed_time": 0.8996574659,
             "remaining_time": 1.49942911,
             "test": [
              1.635609471,
              2.367200984,
              0.09742200468
             ],
             "test1": [
              2.137223811,
              3.706111224,
              0.09488540923
             ]
            },
            {
             "iteration": 375,
             "learn": [
              1.028474965,
              1.341206504,
              0.05358306805
             ],
             "passed_time": 0.9015925311,
             "remaining_time": 1.496259945,
             "test": [
              1.636682781,
              2.368110187,
              0.09747381913
             ],
             "test1": [
              2.137409277,
              3.706166424,
              0.09487828403
             ]
            },
            {
             "iteration": 376,
             "learn": [
              1.027250792,
              1.339684669,
              0.05353297737
             ],
             "passed_time": 0.9045640146,
             "remaining_time": 1.494810029,
             "test": [
              1.636341603,
              2.366909589,
              0.0974359934
             ],
             "test1": [
              2.138322728,
              3.705417215,
              0.09490353479
             ]
            },
            {
             "iteration": 377,
             "learn": [
              1.024247645,
              1.336299164,
              0.05341788291
             ],
             "passed_time": 0.906935561,
             "remaining_time": 1.492364865,
             "test": [
              1.636789203,
              2.365118598,
              0.09745262812
             ],
             "test1": [
              2.137999983,
              3.7069477,
              0.09489079527
             ]
            },
            {
             "iteration": 378,
             "learn": [
              1.022221808,
              1.333003927,
              0.05335228597
             ],
             "passed_time": 0.9092014347,
             "remaining_time": 1.489746942,
             "test": [
              1.634312874,
              2.362659427,
              0.09730242371
             ],
             "test1": [
              2.137758542,
              3.706067808,
              0.09489208124
             ]
            },
            {
             "iteration": 379,
             "learn": [
              1.021077717,
              1.33131268,
              0.05326772167
             ],
             "passed_time": 0.911489211,
             "remaining_time": 1.487166607,
             "test": [
              1.633702888,
              2.362294399,
              0.09724324431
             ],
             "test1": [
              2.138186535,
              3.704396855,
              0.0949309295
             ]
            },
            {
             "iteration": 380,
             "learn": [
              1.020214766,
              1.330298833,
              0.05318008925
             ],
             "passed_time": 0.9141331122,
             "remaining_time": 1.485166395,
             "test": [
              1.63359941,
              2.362118576,
              0.09722165539
             ],
             "test1": [
              2.138174783,
              3.704088662,
              0.09494092751
             ]
            },
            {
             "iteration": 381,
             "learn": [
              1.018405897,
              1.32717003,
              0.05305901686
             ],
             "passed_time": 0.9164176987,
             "remaining_time": 1.482581512,
             "test": [
              1.634230384,
              2.362366565,
              0.09723283622
             ],
             "test1": [
              2.137829744,
              3.70317008,
              0.094884265
             ]
            },
            {
             "iteration": 382,
             "learn": [
              1.017457861,
              1.32587575,
              0.05302457911
             ],
             "passed_time": 0.9184205725,
             "remaining_time": 1.479544369,
             "test": [
              1.634463494,
              2.361398267,
              0.09726282547
             ],
             "test1": [
              2.136987103,
              3.702380469,
              0.09483526352
             ]
            },
            {
             "iteration": 383,
             "learn": [
              1.015339679,
              1.322990745,
              0.05283966379
             ],
             "passed_time": 0.9202553168,
             "remaining_time": 1.476242904,
             "test": [
              1.63410939,
              2.361983677,
              0.09717151429
             ],
             "test1": [
              2.135109872,
              3.69998038,
              0.09472697624
             ]
            },
            {
             "iteration": 384,
             "learn": [
              1.012416094,
              1.31924198,
              0.05268622855
             ],
             "passed_time": 0.9225130077,
             "remaining_time": 1.473624675,
             "test": [
              1.632174211,
              2.360117707,
              0.09706534023
             ],
             "test1": [
              2.133766414,
              3.699782502,
              0.09466961012
             ]
            },
            {
             "iteration": 385,
             "learn": [
              1.011856137,
              1.318278245,
              0.05264791156
             ],
             "passed_time": 0.9247591011,
             "remaining_time": 1.470989865,
             "test": [
              1.632436319,
              2.360447945,
              0.09708604742
             ],
             "test1": [
              2.134857395,
              3.701108314,
              0.09472974151
             ]
            },
            {
             "iteration": 386,
             "learn": [
              1.010270424,
              1.315643542,
              0.05256111092
             ],
             "passed_time": 0.9266815313,
             "remaining_time": 1.467844389,
             "test": [
              1.631859789,
              2.357407091,
              0.0970962222
             ],
             "test1": [
              2.135627006,
              3.702349479,
              0.09475386011
             ]
            },
            {
             "iteration": 387,
             "learn": [
              1.00818402,
              1.313324207,
              0.0524513775
             ],
             "passed_time": 0.9291274072,
             "remaining_time": 1.465530859,
             "test": [
              1.631397531,
              2.357216057,
              0.09705735898
             ],
             "test1": [
              2.13552423,
              3.70267467,
              0.09473149991
             ]
            },
            {
             "iteration": 388,
             "learn": [
              1.005718868,
              1.310213298,
              0.05234656258
             ],
             "passed_time": 0.931044179,
             "remaining_time": 1.462385587,
             "test": [
              1.631474526,
              2.358169734,
              0.09705059016
             ],
             "test1": [
              2.134276242,
              3.700467877,
              0.09466865668
             ]
            },
            {
             "iteration": 389,
             "learn": [
              1.003175574,
              1.306262917,
              0.05222018152
             ],
             "passed_time": 0.9330381449,
             "remaining_time": 1.459367355,
             "test": [
              1.631032832,
              2.358064928,
              0.09702981738
             ],
             "test1": [
              2.134075307,
              3.700156381,
              0.0946518052
             ]
            },
            {
             "iteration": 390,
             "learn": [
              1.001163716,
              1.303038201,
              0.05214119242
             ],
             "passed_time": 0.9352998995,
             "remaining_time": 1.456771455,
             "test": [
              1.633429266,
              2.358573064,
              0.0970861261
             ],
             "test1": [
              2.134721332,
              3.700260943,
              0.09466927615
             ]
            },
            {
             "iteration": 391,
             "learn": [
              0.9975312459,
              1.298579141,
              0.05192146609
             ],
             "passed_time": 0.9378919111,
             "remaining_time": 1.454689495,
             "test": [
              1.633587218,
              2.357456263,
              0.09700541788
             ],
             "test1": [
              2.132896778,
              3.697861076,
              0.09463182019
             ]
            },
            {
             "iteration": 392,
             "learn": [
              0.9949721626,
              1.295140692,
              0.05173910583
             ],
             "passed_time": 0.9400821569,
             "remaining_time": 1.4519844,
             "test": [
              1.636013005,
              2.359002182,
              0.09719009559
             ],
             "test1": [
              2.135374756,
              3.698227709,
              0.09488436693
             ]
            },
            {
             "iteration": 393,
             "learn": [
              0.9924991364,
              1.292295568,
              0.0516482935
             ],
             "passed_time": 0.9422266533,
             "remaining_time": 1.449211553,
             "test": [
              1.637218351,
              2.358084492,
              0.09722051969
             ],
             "test1": [
              2.134895872,
              3.697159127,
              0.09488031403
             ]
            },
            {
             "iteration": 394,
             "learn": [
              0.9916662938,
              1.291391247,
              0.05156748448
             ],
             "passed_time": 0.944302189,
             "remaining_time": 1.446336264,
             "test": [
              1.637639125,
              2.358130727,
              0.09722053202
             ],
             "test1": [
              2.135314883,
              3.697330593,
              0.09491354478
             ]
            },
            {
             "iteration": 395,
             "learn": [
              0.9880399117,
              1.286884424,
              0.05143106775
             ],
             "passed_time": 0.9469781583,
             "remaining_time": 1.444380827,
             "test": [
              1.635243366,
              2.356636549,
              0.09703340615
             ],
             "test1": [
              2.133068296,
              3.695383675,
              0.09482257591
             ]
            },
            {
             "iteration": 396,
             "learn": [
              0.9851161981,
              1.283025554,
              0.05132097538
             ],
             "passed_time": 0.9489899791,
             "remaining_time": 1.441412991,
             "test": [
              1.63484921,
              2.354938747,
              0.09700024173
             ],
             "test1": [
              2.131689774,
              3.693695291,
              0.09477062075
             ]
            },
            {
             "iteration": 397,
             "learn": [
              0.982803997,
              1.280308843,
              0.05113742362
             ],
             "passed_time": 0.951088672,
             "remaining_time": 1.438581358,
             "test": [
              1.634754168,
              2.354735837,
              0.09694016599
             ],
             "test1": [
              2.131859053,
              3.696529149,
              0.09473358121
             ]
            },
            {
             "iteration": 398,
             "learn": [
              0.9819900046,
              1.279374205,
              0.0511027245
             ],
             "passed_time": 0.954301559,
             "remaining_time": 1.437431672,
             "test": [
              1.634274332,
              2.35450187,
              0.0969111049
             ],
             "test1": [
              2.13232045,
              3.695758116,
              0.0947792265
             ]
            },
            {
             "iteration": 399,
             "learn": [
              0.9781427678,
              1.275260518,
              0.05094770907
             ],
             "passed_time": 0.9566132138,
             "remaining_time": 1.434919821,
             "test": [
              1.634476609,
              2.354776069,
              0.09693001768
             ],
             "test1": [
              2.130716875,
              3.694171633,
              0.09471135069
             ]
            },
            {
             "iteration": 400,
             "learn": [
              0.9762212634,
              1.272792382,
              0.05085623734
             ],
             "passed_time": 0.9584897102,
             "remaining_time": 1.431758944,
             "test": [
              1.634343562,
              2.354965592,
              0.09693065335
             ],
             "test1": [
              2.13138608,
              3.695225777,
              0.09473990258
             ]
            },
            {
             "iteration": 401,
             "learn": [
              0.9743719022,
              1.270569991,
              0.05078226112
             ],
             "passed_time": 0.9609299008,
             "remaining_time": 1.429442987,
             "test": [
              1.63323344,
              2.354202773,
              0.09685681685
             ],
             "test1": [
              2.131241449,
              3.695054958,
              0.09472041635
             ]
            },
            {
             "iteration": 402,
             "learn": [
              0.9717565436,
              1.267652675,
              0.05059745545
             ],
             "passed_time": 0.9630063837,
             "remaining_time": 1.42658762,
             "test": [
              1.634457164,
              2.355103225,
              0.09696972175
             ],
             "test1": [
              2.129937712,
              3.693828801,
              0.09466834564
             ]
            },
            {
             "iteration": 403,
             "learn": [
              0.9686496394,
              1.264037512,
              0.05046220494
             ],
             "passed_time": 0.9648429207,
             "remaining_time": 1.42338213,
             "test": [
              1.636701737,
              2.357342181,
              0.09707108936
             ],
             "test1": [
              2.127012221,
              3.69310152,
              0.09452770146
             ]
            },
            {
             "iteration": 404,
             "learn": [
              0.967304155,
              1.261855733,
              0.05042188068
             ],
             "passed_time": 0.9670139583,
             "remaining_time": 1.420674828,
             "test": [
              1.63545266,
              2.354151403,
              0.09693387796
             ],
             "test1": [
              2.125062334,
              3.690579933,
              0.09446701136
             ]
            },
            {
             "iteration": 405,
             "learn": [
              0.9643519634,
              1.257839085,
              0.05026353783
             ],
             "passed_time": 0.9976039705,
             "remaining_time": 1.459548666,
             "test": [
              1.637575878,
              2.356328921,
              0.09706536637
             ],
             "test1": [
              2.126041386,
              3.692930562,
              0.0945030834
             ]
            },
            {
             "iteration": 406,
             "learn": [
              0.9620677212,
              1.255357285,
              0.05009177276
             ],
             "passed_time": 1.038471519,
             "remaining_time": 1.513055555,
             "test": [
              1.638249802,
              2.357196428,
              0.09704488188
             ],
             "test1": [
              2.126341729,
              3.69146137,
              0.09452311271
             ]
            },
            {
             "iteration": 407,
             "learn": [
              0.9594753198,
              1.25240308,
              0.04990396361
             ],
             "passed_time": 1.04446051,
             "remaining_time": 1.51549172,
             "test": [
              1.638468646,
              2.357612732,
              0.09702155403
             ],
             "test1": [
              2.125378602,
              3.691035946,
              0.09445847421
             ]
            },
            {
             "iteration": 408,
             "learn": [
              0.9565921474,
              1.248743087,
              0.04981202369
             ],
             "passed_time": 1.048444433,
             "remaining_time": 1.514989389,
             "test": [
              1.639013549,
              2.355341034,
              0.09705614245
             ],
             "test1": [
              2.123535724,
              3.690157996,
              0.09440103718
             ]
            },
            {
             "iteration": 409,
             "learn": [
              0.9527416176,
              1.243867797,
              0.04961476499
             ],
             "passed_time": 1.051907389,
             "remaining_time": 1.513720388,
             "test": [
              1.640337336,
              2.356982476,
              0.09712967276
             ],
             "test1": [
              2.124670276,
              3.690182956,
              0.09447409203
             ]
            },
            {
             "iteration": 410,
             "learn": [
              0.9524994239,
              1.243597703,
              0.04959849087
             ],
             "passed_time": 1.054684565,
             "remaining_time": 1.511457929,
             "test": [
              1.640564158,
              2.357218754,
              0.09715383268
             ],
             "test1": [
              2.124633908,
              3.689742455,
              0.09447974854
             ]
            },
            {
             "iteration": 411,
             "learn": [
              0.9510829533,
              1.241095111,
              0.04952430985
             ],
             "passed_time": 1.056668609,
             "remaining_time": 1.508061025,
             "test": [
              1.641058192,
              2.355084465,
              0.0971805668
             ],
             "test1": [
              2.123527469,
              3.689728627,
              0.09441707683
             ]
            },
            {
             "iteration": 412,
             "learn": [
              0.9476143791,
              1.236680698,
              0.04926949058
             ],
             "passed_time": 1.058599725,
             "remaining_time": 1.504595736,
             "test": [
              1.640247501,
              2.353737719,
              0.09702905888
             ],
             "test1": [
              2.121559728,
              3.685385128,
              0.09427587726
             ]
            },
            {
             "iteration": 413,
             "learn": [
              0.9439804484,
              1.232414811,
              0.04914054729
             ],
             "passed_time": 1.061124957,
             "remaining_time": 1.501978804,
             "test": [
              1.638454421,
              2.352843817,
              0.09693914486
             ],
             "test1": [
              2.119889602,
              3.683356159,
              0.09420804366
             ]
            },
            {
             "iteration": 414,
             "learn": [
              0.9406983776,
              1.228660378,
              0.04900013354
             ],
             "passed_time": 1.063046083,
             "remaining_time": 1.498510743,
             "test": [
              1.638230187,
              2.351693266,
              0.09692983632
             ],
             "test1": [
              2.11920727,
              3.682500549,
              0.09421012683
             ]
            },
            {
             "iteration": 415,
             "learn": [
              0.9384061505,
              1.226174765,
              0.04882205838
             ],
             "passed_time": 1.065004495,
             "remaining_time": 1.495102464,
             "test": [
              1.638281681,
              2.352661663,
              0.09695255258
             ],
             "test1": [
              2.119577653,
              3.685045038,
              0.0941767301
             ]
            },
            {
             "iteration": 416,
             "learn": [
              0.9363661324,
              1.223282951,
              0.04869225816
             ],
             "passed_time": 1.068010188,
             "remaining_time": 1.493165323,
             "test": [
              1.641175301,
              2.356339258,
              0.09715811656
             ],
             "test1": [
              2.119993055,
              3.686993039,
              0.09421166835
             ]
            },
            {
             "iteration": 417,
             "learn": [
              0.9359650017,
              1.222816647,
              0.04866676413
             ],
             "passed_time": 1.070705943,
             "remaining_time": 1.490791528,
             "test": [
              1.641205788,
              2.356464717,
              0.09717403628
             ],
             "test1": [
              2.120907984,
              3.68698451,
              0.09426937735
             ]
            },
            {
             "iteration": 418,
             "learn": [
              0.9342342022,
              1.220408663,
              0.04855383949
             ],
             "passed_time": 1.073012153,
             "remaining_time": 1.48787604,
             "test": [
              1.641315053,
              2.356370038,
              0.09713475569
             ],
             "test1": [
              2.119575456,
              3.684885361,
              0.09420085047
             ]
            },
            {
             "iteration": 419,
             "learn": [
              0.9327621528,
              1.218748737,
              0.04846622206
             ],
             "passed_time": 1.075900497,
             "remaining_time": 1.485767353,
             "test": [
              1.640517146,
              2.357063561,
              0.09708279695
             ],
             "test1": [
              2.118447047,
              3.683520623,
              0.09412544588
             ]
            },
            {
             "iteration": 420,
             "learn": [
              0.9292803988,
              1.214543313,
              0.04833799848
             ],
             "passed_time": 1.077846542,
             "remaining_time": 1.48235902,
             "test": [
              1.640863373,
              2.356773764,
              0.09708386191
             ],
             "test1": [
              2.118436681,
              3.683453001,
              0.0941270376
             ]
            },
            {
             "iteration": 421,
             "learn": [
              0.9260194751,
              1.210393195,
              0.04814557758
             ],
             "passed_time": 1.079762299,
             "remaining_time": 1.478916134,
             "test": [
              1.641539132,
              2.357503588,
              0.09717037667
             ],
             "test1": [
              2.118748125,
              3.684417028,
              0.09419389157
             ]
            },
            {
             "iteration": 422,
             "learn": [
              0.9244893365,
              1.207892974,
              0.04804691844
             ],
             "passed_time": 1.082737126,
             "remaining_time": 1.476925111,
             "test": [
              1.641431418,
              2.357290962,
              0.09714262735
             ],
             "test1": [
              2.117804522,
              3.683589919,
              0.09411804252
             ]
            },
            {
             "iteration": 423,
             "learn": [
              0.9234745984,
              1.206544301,
              0.04798085216
             ],
             "passed_time": 1.085563121,
             "remaining_time": 1.474727259,
             "test": [
              1.641871208,
              2.357239288,
              0.09713707419
             ],
             "test1": [
              2.119248691,
              3.683104887,
              0.09418560751
             ]
            },
            {
             "iteration": 424,
             "learn": [
              0.9228023592,
              1.205606216,
              0.04793035043
             ],
             "passed_time": 1.088563835,
             "remaining_time": 1.472762835,
             "test": [
              1.641808811,
              2.357215534,
              0.09712083195
             ],
             "test1": [
              2.118979948,
              3.681373463,
              0.0942112871
             ]
            },
            {
             "iteration": 425,
             "learn": [
              0.9218657267,
              1.204373728,
              0.04787020373
             ],
             "passed_time": 1.092228707,
             "remaining_time": 1.471688445,
             "test": [
              1.642322972,
              2.35718357,
              0.09712295291
             ],
             "test1": [
              2.120388677,
              3.680887878,
              0.09427753171
             ]
            },
            {
             "iteration": 426,
             "learn": [
              0.9190008146,
              1.201008621,
              0.04777522022
             ],
             "passed_time": 1.094614579,
             "remaining_time": 1.468885606,
             "test": [
              1.642300074,
              2.356474381,
              0.09709880445
             ],
             "test1": [
              2.117947498,
              3.680748301,
              0.094193195
             ]
            },
            {
             "iteration": 427,
             "learn": [
              0.9181211365,
              1.200129697,
              0.04773113869
             ],
             "passed_time": 1.097493019,
             "remaining_time": 1.466743007,
             "test": [
              1.642642653,
              2.356580719,
              0.09712187194
             ],
             "test1": [
              2.11711327,
              3.679822301,
              0.09418543201
             ]
            },
            {
             "iteration": 428,
             "learn": [
              0.9167223963,
              1.197747586,
              0.04764544077
             ],
             "passed_time": 1.101787212,
             "remaining_time": 1.466481347,
             "test": [
              1.641851982,
              2.354804498,
              0.09710423197
             ],
             "test1": [
              2.116880684,
              3.679999126,
              0.09417965881
             ]
            },
            {
             "iteration": 429,
             "learn": [
              0.9151664703,
              1.195516984,
              0.04753810958
             ],
             "passed_time": 1.103777125,
             "remaining_time": 1.463146421,
             "test": [
              1.64264163,
              2.355655735,
              0.09713142498
             ],
             "test1": [
              2.116660565,
              3.679494577,
              0.09417835489
             ]
            },
            {
             "iteration": 430,
             "learn": [
              0.9125306963,
              1.19274582,
              0.04744138594
             ],
             "passed_time": 1.106185805,
             "remaining_time": 1.460370587,
             "test": [
              1.642452319,
              2.355574554,
              0.09711355198
             ],
             "test1": [
              2.11562522,
              3.678766636,
              0.09415100276
             ]
            },
            {
             "iteration": 431,
             "learn": [
              0.912059299,
              1.191374199,
              0.04741522439
             ],
             "passed_time": 1.108245622,
             "remaining_time": 1.457137762,
             "test": [
              1.64292887,
              2.355632033,
              0.09713189322
             ],
             "test1": [
              2.114879424,
              3.678542305,
              0.09411178197
             ]
            },
            {
             "iteration": 432,
             "learn": [
              0.9105491086,
              1.189529031,
              0.04729561789
             ],
             "passed_time": 1.110225224,
             "remaining_time": 1.453805316,
             "test": [
              1.643322088,
              2.356223874,
              0.0971305853
             ],
             "test1": [
              2.113354247,
              3.676779429,
              0.09400287852
             ]
            },
            {
             "iteration": 433,
             "learn": [
              0.907715932,
              1.185214703,
              0.04719680525
             ],
             "passed_time": 1.112271247,
             "remaining_time": 1.450565728,
             "test": [
              1.643244941,
              2.356824868,
              0.09713667069
             ],
             "test1": [
              2.112765494,
              3.676526706,
              0.09397971635
             ]
            },
            {
             "iteration": 434,
             "learn": [
              0.9061571073,
              1.182937795,
              0.0471309666
             ],
             "passed_time": 1.115173694,
             "remaining_time": 1.448443993,
             "test": [
              1.641880675,
              2.356431002,
              0.09707693212
             ],
             "test1": [
              2.112783405,
              3.676151654,
              0.09399266714
             ]
            },
            {
             "iteration": 435,
             "learn": [
              0.9049753373,
              1.181412395,
              0.04707383478
             ],
             "passed_time": 1.117588156,
             "remaining_time": 1.445687432,
             "test": [
              1.642821794,
              2.356670236,
              0.09708879738
             ],
             "test1": [
              2.113567915,
              3.677051206,
              0.09400312253
             ]
            },
            {
             "iteration": 436,
             "learn": [
              0.9024254521,
              1.177726803,
              0.04690427211
             ],
             "passed_time": 1.119763869,
             "remaining_time": 1.442624848,
             "test": [
              1.64413695,
              2.357903274,
              0.09705906661
             ],
             "test1": [
              2.11563982,
              3.675962526,
              0.09408339104
             ]
            },
            {
             "iteration": 437,
             "learn": [
              0.900482273,
              1.175328595,
              0.04675319403
             ],
             "passed_time": 1.122411028,
             "remaining_time": 1.440171227,
             "test": [
              1.645904884,
              2.359828494,
              0.09720267008
             ],
             "test1": [
              2.116333492,
              3.676715409,
              0.09408547593
             ]
            },
            {
             "iteration": 438,
             "learn": [
              0.9000055355,
              1.173995177,
              0.04672920787
             ],
             "passed_time": 1.125095774,
             "remaining_time": 1.437764759,
             "test": [
              1.64619306,
              2.359835341,
              0.09721146553
             ],
             "test1": [
              2.115364853,
              3.676383801,
              0.09403454053
             ]
            },
            {
             "iteration": 439,
             "learn": [
              0.8985351951,
              1.171153447,
              0.0466180381
             ],
             "passed_time": 1.127036094,
             "remaining_time": 1.434409575,
             "test": [
              1.647307689,
              2.361078326,
              0.09727367156
             ],
             "test1": [
              2.114429971,
              3.676490378,
              0.09394316884
             ]
            },
            {
             "iteration": 440,
             "learn": [
              0.8981559724,
              1.170608522,
              0.04658508424
             ],
             "passed_time": 1.13018909,
             "remaining_time": 1.432597962,
             "test": [
              1.647270287,
              2.36079486,
              0.09725482901
             ],
             "test1": [
              2.114501672,
              3.676690832,
              0.0939506439
             ]
            },
            {
             "iteration": 441,
             "learn": [
              0.8965918278,
              1.168269156,
              0.0464931883
             ],
             "passed_time": 1.132293938,
             "remaining_time": 1.429457053,
             "test": [
              1.647114402,
              2.360328981,
              0.09724556768
             ],
             "test1": [
              2.116054304,
              3.68012019,
              0.09403981246
             ]
            },
            {
             "iteration": 442,
             "learn": [
              0.8939937024,
              1.164906923,
              0.04640053305
             ],
             "passed_time": 1.134341502,
             "remaining_time": 1.426248796,
             "test": [
              1.646358863,
              2.35955245,
              0.09717772778
             ],
             "test1": [
              2.114935887,
              3.6792988,
              0.09399917454
             ]
            },
            {
             "iteration": 443,
             "learn": [
              0.893576611,
              1.164359756,
              0.0463696276
             ],
             "passed_time": 1.13687462,
             "remaining_time": 1.423653803,
             "test": [
              1.646690686,
              2.359915492,
              0.09720743437
             ],
             "test1": [
              2.115465301,
              3.678889449,
              0.09405785859
             ]
            },
            {
             "iteration": 444,
             "learn": [
              0.8899927436,
              1.160530233,
              0.04623152828
             ],
             "passed_time": 1.138865859,
             "remaining_time": 1.420383263,
             "test": [
              1.644792443,
              2.358453352,
              0.09715133615
             ],
             "test1": [
              2.114160762,
              3.678483855,
              0.09400757494
             ]
            },
            {
             "iteration": 445,
             "learn": [
              0.8879957251,
              1.157900677,
              0.04608820011
             ],
             "passed_time": 1.140758867,
             "remaining_time": 1.416996441,
             "test": [
              1.645849562,
              2.3596386,
              0.09720474547
             ],
             "test1": [
              2.115137068,
              3.6783211,
              0.09406831966
             ]
            },
            {
             "iteration": 446,
             "learn": [
              0.8857577306,
              1.155142537,
              0.04600449002
             ],
             "passed_time": 1.143509286,
             "remaining_time": 1.414677036,
             "test": [
              1.64445036,
              2.357290849,
              0.09713195188
             ],
             "test1": [
              2.114787608,
              3.678367568,
              0.09402583252
             ]
            },
            {
             "iteration": 447,
             "learn": [
              0.8839836408,
              1.153017379,
              0.04587265941
             ],
             "passed_time": 1.145599536,
             "remaining_time": 1.411542285,
             "test": [
              1.64545619,
              2.358473666,
              0.09720766723
             ],
             "test1": [
              2.115174881,
              3.680612573,
              0.09399430813
             ]
            },
            {
             "iteration": 448,
             "learn": [
              0.8828941571,
              1.15197232,
              0.04580805843
             ],
             "passed_time": 1.149258021,
             "remaining_time": 1.410336681,
             "test": [
              1.64446107,
              2.356699234,
              0.09711344211
             ],
             "test1": [
              2.115300312,
              3.680459618,
              0.09400233855
             ]
            },
            {
             "iteration": 449,
             "learn": [
              0.8807563739,
              1.149221863,
              0.04572919052
             ],
             "passed_time": 1.151227955,
             "remaining_time": 1.407056389,
             "test": [
              1.644277384,
              2.357306646,
              0.09711778143
             ],
             "test1": [
              2.114838686,
              3.680851835,
              0.09397316879
             ]
            },
            {
             "iteration": 450,
             "learn": [
              0.8772353032,
              1.145338406,
              0.04555798456
             ],
             "passed_time": 1.153705823,
             "remaining_time": 1.404400215,
             "test": [
              1.641526779,
              2.353989182,
              0.0969881265
             ],
             "test1": [
              2.112889125,
              3.679902611,
              0.09388384748
             ]
            },
            {
             "iteration": 451,
             "learn": [
              0.8756833014,
              1.143139321,
              0.04542319648
             ],
             "passed_time": 1.156584721,
             "remaining_time": 1.402231033,
             "test": [
              1.641495037,
              2.354060249,
              0.09693448341
             ],
             "test1": [
              2.111932406,
              3.678142656,
              0.09381597504
             ]
            },
            {
             "iteration": 452,
             "learn": [
              0.8723740147,
              1.139361255,
              0.04527016981
             ],
             "passed_time": 1.159482122,
             "remaining_time": 1.400081061,
             "test": [
              1.642331268,
              2.356774685,
              0.0969877995
             ],
             "test1": [
              2.110459711,
              3.677857291,
              0.09377788431
             ]
            },
            {
             "iteration": 453,
             "learn": [
              0.8702860356,
              1.136576119,
              0.0451938786
             ],
             "passed_time": 1.161325735,
             "remaining_time": 1.396660465,
             "test": [
              1.642770355,
              2.355860556,
              0.09701129407
             ],
             "test1": [
              2.109066886,
              3.677745541,
              0.09373097917
             ]
            },
            {
             "iteration": 454,
             "learn": [
              0.8685312839,
              1.134263338,
              0.04513040391
             ],
             "passed_time": 1.164530644,
             "remaining_time": 1.394877365,
             "test": [
              1.6437985,
              2.356678528,
              0.0970548339
             ],
             "test1": [
              2.108741046,
              3.677420618,
              0.09371628116
             ]
            },
            {
             "iteration": 455,
             "learn": [
              0.8670397533,
              1.13247765,
              0.04501819636
             ],
             "passed_time": 1.166460945,
             "remaining_time": 1.391567443,
             "test": [
              1.644358577,
              2.35746668,
              0.09711447388
             ],
             "test1": [
              2.110333283,
              3.680272444,
              0.09374503838
             ]
            },
            {
             "iteration": 456,
             "learn": [
              0.8643139248,
              1.129191989,
              0.04486315199
             ],
             "passed_time": 1.168494337,
             "remaining_time": 1.38838605,
             "test": [
              1.646128447,
              2.361147561,
              0.0972405334
             ],
             "test1": [
              2.10995048,
              3.680280344,
              0.0937739845
             ]
            },
            {
             "iteration": 457,
             "learn": [
              0.8627078005,
              1.127056657,
              0.04479417749
             ],
             "passed_time": 1.171600967,
             "remaining_time": 1.386479747,
             "test": [
              1.645590442,
              2.360591725,
              0.09721172455
             ],
             "test1": [
              2.110194041,
              3.679807755,
              0.09377969345
             ]
            },
            {
             "iteration": 458,
             "learn": [
              0.8610637731,
              1.124940984,
              0.04473263358
             ],
             "passed_time": 1.17345116,
             "remaining_time": 1.383087316,
             "test": [
              1.644849058,
              2.358726097,
              0.09717734186
             ],
             "test1": [
              2.109638392,
              3.678941637,
              0.09376475722
             ]
            },
            {
             "iteration": 459,
             "learn": [
              0.8593203373,
              1.122384959,
              0.04464715538
             ],
             "passed_time": 1.176515881,
             "remaining_time": 1.381127338,
             "test": [
              1.645613211,
              2.359392797,
              0.09722049638
             ],
             "test1": [
              2.109205362,
              3.67836827,
              0.09374449619
             ]
            },
            {
             "iteration": 460,
             "learn": [
              0.8572989214,
              1.120021843,
              0.0445529235
             ],
             "passed_time": 1.180187363,
             "remaining_time": 1.379871992,
             "test": [
              1.644482902,
              2.358318506,
              0.09715332968
             ],
             "test1": [
              2.108155017,
              3.677186852,
              0.09369813133
             ]
            },
            {
             "iteration": 461,
             "learn": [
              0.8555912942,
              1.116873048,
              0.0444707698
             ],
             "passed_time": 1.182208638,
             "remaining_time": 1.376684518,
             "test": [
              1.645706688,
              2.35878729,
              0.09718804859
             ],
             "test1": [
              2.108465385,
              3.677829717,
              0.0936915044
             ]
            },
            {
             "iteration": 462,
             "learn": [
              0.8530068455,
              1.113804402,
              0.04430178697
             ],
             "passed_time": 1.184210278,
             "remaining_time": 1.373479307,
             "test": [
              1.647187145,
              2.358800401,
              0.09727330139
             ],
             "test1": [
              2.112122406,
              3.681318038,
              0.09390083564
             ]
            },
            {
             "iteration": 463,
             "learn": [
              0.8509347713,
              1.110702975,
              0.04422987974
             ],
             "passed_time": 1.186192801,
             "remaining_time": 1.370257201,
             "test": [
              1.645901327,
              2.35680603,
              0.09717913792
             ],
             "test1": [
              2.109487183,
              3.679549144,
              0.0937897318
             ]
            },
            {
             "iteration": 464,
             "learn": [
              0.8492806975,
              1.10817134,
              0.0441549799
             ],
             "passed_time": 1.188030202,
             "remaining_time": 1.366873458,
             "test": [
              1.644859543,
              2.354938543,
              0.09711197182
             ],
             "test1": [
              2.109910599,
              3.680807452,
              0.09378290213
             ]
            },
            {
             "iteration": 465,
             "learn": [
              0.8477605521,
              1.106182995,
              0.0440984172
             ],
             "passed_time": 1.189991102,
             "remaining_time": 1.363637873,
             "test": [
              1.643742754,
              2.354140283,
              0.09704199543
             ],
             "test1": [
              2.109688978,
              3.680903401,
              0.09376835234
             ]
            },
            {
             "iteration": 466,
             "learn": [
              0.8465498135,
              1.104560955,
              0.04405804853
             ],
             "passed_time": 1.192390827,
             "remaining_time": 1.360908588,
             "test": [
              1.643019308,
              2.353486491,
              0.09699507569
             ],
             "test1": [
              2.109278324,
              3.678831523,
              0.09374523819
             ]
            },
            {
             "iteration": 467,
             "learn": [
              0.8448207046,
              1.101957799,
              0.04395633925
             ],
             "passed_time": 1.194539683,
             "remaining_time": 1.357895537,
             "test": [
              1.642450365,
              2.352169195,
              0.09694864425
             ],
             "test1": [
              2.109025586,
              3.67891243,
              0.09374229215
             ]
            },
            {
             "iteration": 468,
             "learn": [
              0.8432498374,
              1.099495005,
              0.04388034725
             ],
             "passed_time": 1.196404674,
             "remaining_time": 1.354564781,
             "test": [
              1.641463328,
              2.350133371,
              0.09688027368
             ],
             "test1": [
              2.108698983,
              3.678837449,
              0.09373885345
             ]
            },
            {
             "iteration": 469,
             "learn": [
              0.8408254851,
              1.095989783,
              0.04379277434
             ],
             "passed_time": 1.198192382,
             "remaining_time": 1.351153111,
             "test": [
              1.641156475,
              2.349994692,
              0.09686524056
             ],
             "test1": [
              2.107321668,
              3.677419463,
              0.09367682395
             ]
            },
            {
             "iteration": 470,
             "learn": [
              0.8391680947,
              1.09329545,
              0.04367608806
             ],
             "passed_time": 1.199968359,
             "remaining_time": 1.347735163,
             "test": [
              1.642748275,
              2.351360488,
              0.09693073202
             ],
             "test1": [
              2.108393066,
              3.677446899,
              0.0936916896
             ]
            },
            {
             "iteration": 471,
             "learn": [
              0.8370647495,
              1.090539697,
              0.04360033114
             ],
             "passed_time": 1.205895876,
             "remaining_time": 1.348968268,
             "test": [
              1.640415087,
              2.349088003,
              0.09684315344
             ],
             "test1": [
              2.106473879,
              3.676604677,
              0.09360554336
             ]
            },
            {
             "iteration": 472,
             "learn": [
              0.8354988022,
              1.088374431,
              0.04354048646
             ],
             "passed_time": 1.208815442,
             "remaining_time": 1.346819742,
             "test": [
              1.640592197,
              2.347152895,
              0.09683593399
             ],
             "test1": [
              2.106039637,
              3.676407505,
              0.09360480933
             ]
            },
            {
             "iteration": 473,
             "learn": [
              0.8343546241,
              1.086305872,
              0.04349064861
             ],
             "passed_time": 1.211626069,
             "remaining_time": 1.344547072,
             "test": [
              1.640758888,
              2.345840062,
              0.09684219187
             ],
             "test1": [
              2.106537381,
              3.676919259,
              0.09362897841
             ]
            },
            {
             "iteration": 474,
             "learn": [
              0.8318807361,
              1.082906445,
              0.04334398858
             ],
             "passed_time": 1.21423993,
             "remaining_time": 1.342054659,
             "test": [
              1.64059458,
              2.345021507,
              0.09682749727
             ],
             "test1": [
              2.105828275,
              3.677064227,
              0.09356803111
             ]
            },
            {
             "iteration": 475,
             "learn": [
              0.8299914323,
              1.080822933,
              0.0432726634
             ],
             "passed_time": 1.216956296,
             "remaining_time": 1.339674578,
             "test": [
              1.640594614,
              2.344407049,
              0.09679356606
             ],
             "test1": [
              2.105021289,
              3.677733987,
              0.09355033246
             ]
            },
            {
             "iteration": 476,
             "learn": [
              0.8283191527,
              1.078410186,
              0.04320745858
             ],
             "passed_time": 1.219754247,
             "remaining_time": 1.337382539,
             "test": [
              1.64076815,
              2.34385441,
              0.09679706602
             ],
             "test1": [
              2.104091841,
              3.677539625,
              0.09352806518
             ]
            },
            {
             "iteration": 477,
             "learn": [
              0.8273081711,
              1.076941099,
              0.04316535174
             ],
             "passed_time": 1.222490103,
             "remaining_time": 1.335020573,
             "test": [
              1.640712814,
              2.343424034,
              0.09680375341
             ],
             "test1": [
              2.105501651,
              3.677901566,
              0.09358773242
             ]
            },
            {
             "iteration": 478,
             "learn": [
              0.82590017,
              1.074782833,
              0.04310589118
             ],
             "passed_time": 1.225651956,
             "remaining_time": 1.333120395,
             "test": [
              1.640928162,
              2.34349601,
              0.09681162847
             ],
             "test1": [
              2.104982073,
              3.677809569,
              0.09356712909
             ]
            },
            {
             "iteration": 479,
             "learn": [
              0.8240619005,
              1.072173636,
              0.04295624776
             ],
             "passed_time": 1.228334066,
             "remaining_time": 1.330695238,
             "test": [
              1.641946651,
              2.344203484,
              0.09682524915
             ],
             "test1": [
              2.106119062,
              3.677235147,
              0.09361914376
             ]
            },
            {
             "iteration": 480,
             "learn": [
              0.8209979991,
              1.069069061,
              0.04277542047
             ],
             "passed_time": 1.231501182,
             "remaining_time": 1.328792335,
             "test": [
              1.64298814,
              2.34444406,
              0.0968870934
             ],
             "test1": [
              2.106492292,
              3.677497645,
              0.09373376252
             ]
            },
            {
             "iteration": 481,
             "learn": [
              0.819516282,
              1.066707576,
              0.04269132881
             ],
             "passed_time": 1.234385538,
             "remaining_time": 1.326580308,
             "test": [
              1.644759625,
              2.345443659,
              0.09698800148
             ],
             "test1": [
              2.106631213,
              3.677095002,
              0.09376247038
             ]
            },
            {
             "iteration": 482,
             "learn": [
              0.8174591868,
              1.064149573,
              0.04255591036
             ],
             "passed_time": 1.236975083,
             "remaining_time": 1.324049934,
             "test": [
              1.646160413,
              2.346490551,
              0.09708167387
             ],
             "test1": [
              2.105519098,
              3.67622092,
              0.09374200944
             ]
            },
            {
             "iteration": 483,
             "learn": [
              0.8154680805,
              1.061317785,
              0.04249239425
             ],
             "passed_time": 1.239707563,
             "remaining_time": 1.3216717,
             "test": [
              1.643921718,
              2.344793746,
              0.09697911613
             ],
             "test1": [
              2.104956724,
              3.675179857,
              0.09372335255
             ]
            },
            {
             "iteration": 484,
             "learn": [
              0.8139580481,
              1.058993321,
              0.04236430029
             ],
             "passed_time": 1.242601149,
             "remaining_time": 1.319463076,
             "test": [
              1.644905538,
              2.346631601,
              0.09708282541
             ],
             "test1": [
              2.104913022,
              3.676081587,
              0.09372375646
             ]
            },
            {
             "iteration": 485,
             "learn": [
              0.8119580915,
              1.05613468,
              0.0422871667
             ],
             "passed_time": 1.245467104,
             "remaining_time": 1.31722241,
             "test": [
              1.645969156,
              2.34716642,
              0.09711531367
             ],
             "test1": [
              2.105621908,
              3.676380137,
              0.09375393307
             ]
            },
            {
             "iteration": 486,
             "learn": [
              0.8098646673,
              1.053617673,
              0.0421316584
             ],
             "passed_time": 1.248283676,
             "remaining_time": 1.314927158,
             "test": [
              1.648647404,
              2.350626813,
              0.09734395303
             ],
             "test1": [
              2.10681152,
              3.677782187,
              0.09385378742
             ]
            },
            {
             "iteration": 487,
             "learn": [
              0.8085710367,
              1.051301976,
              0.0420311781
             ],
             "passed_time": 1.251223052,
             "remaining_time": 1.312758612,
             "test": [
              1.649580378,
              2.351742751,
              0.09740305888
             ],
             "test1": [
              2.106522295,
              3.677981989,
              0.09380137149
             ]
            },
            {
             "iteration": 488,
             "learn": [
              0.8080960299,
              1.050196399,
              0.04200441685
             ],
             "passed_time": 1.25446443,
             "remaining_time": 1.310902502,
             "test": [
              1.649915309,
              2.351635144,
              0.0974140639
             ],
             "test1": [
              2.105560739,
              3.677154731,
              0.0937451199
             ]
            },
            {
             "iteration": 489,
             "learn": [
              0.8069773695,
              1.049006894,
              0.04194131227
             ],
             "passed_time": 1.257511723,
             "remaining_time": 1.308838732,
             "test": [
              1.650779539,
              2.352373832,
              0.09744271813
             ],
             "test1": [
              2.104609484,
              3.675898093,
              0.09371918283
             ]
            },
            {
             "iteration": 490,
             "learn": [
              0.8060291234,
              1.047764352,
              0.04189383953
             ],
             "passed_time": 1.260267141,
             "remaining_time": 1.306468381,
             "test": [
              1.651618245,
              2.352548614,
              0.0974580118
             ],
             "test1": [
              2.105280345,
              3.676550722,
              0.09373057305
             ]
            },
            {
             "iteration": 491,
             "learn": [
              0.8038832603,
              1.044758197,
              0.04180672629
             ],
             "passed_time": 1.263189197,
             "remaining_time": 1.304268521,
             "test": [
              1.651636439,
              2.351536201,
              0.09744324166
             ],
             "test1": [
              2.10401386,
              3.676696365,
              0.09368522566
             ]
            },
            {
             "iteration": 492,
             "learn": [
              0.8029784462,
              1.04343768,
              0.04176644364
             ],
             "passed_time": 1.265860507,
             "remaining_time": 1.301807864,
             "test": [
              1.651383024,
              2.351893361,
              0.09744527743
             ],
             "test1": [
              2.104714402,
              3.677944998,
              0.09370384273
             ]
            },
            {
             "iteration": 493,
             "learn": [
              0.8006923145,
              1.040799221,
              0.04160777055
             ],
             "passed_time": 1.268630328,
             "remaining_time": 1.29944726,
             "test": [
              1.652793917,
              2.352412184,
              0.09753077639
             ],
             "test1": [
              2.104102236,
              3.677766172,
              0.09367421877
             ]
            },
            {
             "iteration": 494,
             "learn": [
              0.8002150497,
              1.040253292,
              0.04157181227
             ],
             "passed_time": 1.271349945,
             "remaining_time": 1.297033783,
             "test": [
              1.652798087,
              2.352652247,
              0.09754228119
             ],
             "test1": [
              2.105003847,
              3.677452279,
              0.09374842804
             ]
            },
            {
             "iteration": 495,
             "learn": [
              0.7984214735,
              1.037599003,
              0.04150750326
             ],
             "passed_time": 1.27354238,
             "remaining_time": 1.294083387,
             "test": [
              1.652888363,
              2.352601505,
              0.0975356795
             ],
             "test1": [
              2.105926021,
              3.6765845,
              0.09378230713
             ]
            },
            {
             "iteration": 496,
             "learn": [
              0.7969036555,
              1.035498049,
              0.04139187931
             ],
             "passed_time": 1.27546388,
             "remaining_time": 1.290861834,
             "test": [
              1.652837088,
              2.352271766,
              0.09748530759
             ],
             "test1": [
              2.104663015,
              3.674878735,
              0.093700324
             ]
            },
            {
             "iteration": 497,
             "learn": [
              0.7949194671,
              1.032876122,
              0.04127476912
             ],
             "passed_time": 1.277278169,
             "remaining_time": 1.287537432,
             "test": [
              1.653684084,
              2.352662992,
              0.09751707617
             ],
             "test1": [
              2.105202223,
              3.676657292,
              0.09371865187
             ]
            },
            {
             "iteration": 498,
             "learn": [
              0.7923064361,
              1.029726163,
              0.04116550455
             ],
             "passed_time": 1.2790783,
             "remaining_time": 1.284204866,
             "test": [
              1.655282966,
              2.354827563,
              0.09758703098
             ],
             "test1": [
              2.104151144,
              3.676786415,
              0.09365805829
             ]
            },
            {
             "iteration": 499,
             "learn": [
              0.7900090256,
              1.02701802,
              0.04101012524
             ],
             "passed_time": 1.281148191,
             "remaining_time": 1.281148191,
             "test": [
              1.65678789,
              2.355977875,
              0.09769252341
             ],
             "test1": [
              2.104409212,
              3.677751172,
              0.09367021901
             ]
            },
            {
             "iteration": 500,
             "learn": [
              0.788163996,
              1.024240005,
              0.04094446138
             ],
             "passed_time": 1.282992421,
             "remaining_time": 1.277870694,
             "test": [
              1.656045189,
              2.357625045,
              0.09767619767
             ],
             "test1": [
              2.103480992,
              3.677345155,
              0.09362747052
             ]
            },
            {
             "iteration": 501,
             "learn": [
              0.7865286946,
              1.022213393,
              0.04083659057
             ],
             "passed_time": 1.285026646,
             "remaining_time": 1.27478739,
             "test": [
              1.656924783,
              2.358119756,
              0.09772949016
             ],
             "test1": [
              2.102772786,
              3.675568375,
              0.09360637257
             ]
            },
            {
             "iteration": 502,
             "learn": [
              0.7851611558,
              1.0207499,
              0.04077506002
             ],
             "passed_time": 1.286810179,
             "remaining_time": 1.271460555,
             "test": [
              1.655738638,
              2.35693992,
              0.09766325542
             ],
             "test1": [
              2.102470632,
              3.675576507,
              0.09358960181
             ]
            },
            {
             "iteration": 503,
             "learn": [
              0.7847744698,
              1.019811374,
              0.04075038256
             ],
             "passed_time": 1.288890476,
             "remaining_time": 1.268431897,
             "test": [
              1.656379467,
              2.357293824,
              0.09768985587
             ],
             "test1": [
              2.101130003,
              3.674849896,
              0.09351956544
             ]
            },
            {
             "iteration": 504,
             "learn": [
              0.7829948561,
              1.017304169,
              0.04068833435
             ],
             "passed_time": 1.290755708,
             "remaining_time": 1.265196189,
             "test": [
              1.655236277,
              2.355106165,
              0.09763040871
             ],
             "test1": [
              2.101082245,
              3.675186622,
              0.09351314659
             ]
            },
            {
             "iteration": 505,
             "learn": [
              0.7817971705,
              1.015968801,
              0.04062953211
             ],
             "passed_time": 1.292766279,
             "remaining_time": 1.26210779,
             "test": [
              1.655200671,
              2.354922339,
              0.09761991263
             ],
             "test1": [
              2.100540011,
              3.675811823,
              0.09347731315
             ]
            },
            {
             "iteration": 506,
             "learn": [
              0.779876024,
              1.01330729,
              0.04053898571
             ],
             "passed_time": 1.294605948,
             "remaining_time": 1.25885746,
             "test": [
              1.656365223,
              2.355357895,
              0.09767738265
             ],
             "test1": [
              2.10054343,
              3.675751652,
              0.09347186694
             ]
            },
            {
             "iteration": 507,
             "learn": [
              0.7780564127,
              1.010807883,
              0.04047232969
             ],
             "passed_time": 1.29639673,
             "remaining_time": 1.255565336,
             "test": [
              1.656059104,
              2.355616418,
              0.09767037794
             ],
             "test1": [
              2.101686798,
              3.676514611,
              0.09351494988
             ]
            },
            {
             "iteration": 508,
             "learn": [
              0.7768973941,
              1.008921764,
              0.04042372365
             ],
             "passed_time": 1.298180401,
             "remaining_time": 1.252272254,
             "test": [
              1.655890738,
              2.355390792,
              0.09765228236
             ],
             "test1": [
              2.102262752,
              3.676916198,
              0.09353983417
             ]
            },
            {
             "iteration": 509,
             "learn": [
              0.7757586325,
              1.007483288,
              0.0403802438
             ],
             "passed_time": 1.299991274,
             "remaining_time": 1.249011224,
             "test": [
              1.654660217,
              2.354343182,
              0.09759291574
             ],
             "test1": [
              2.100664808,
              3.676156939,
              0.09347251745
             ]
            },
            {
             "iteration": 510,
             "learn": [
              0.77352398,
              1.004952111,
              0.04023281202
             ],
             "passed_time": 1.302437449,
             "remaining_time": 1.246363821,
             "test": [
              1.656184144,
              2.354431437,
              0.09768643227
             ],
             "test1": [
              2.101369449,
              3.677833376,
              0.09353841117
             ]
            },
            {
             "iteration": 511,
             "learn": [
              0.7717693722,
              1.002688746,
              0.0401643726
             ],
             "passed_time": 1.304397214,
             "remaining_time": 1.243253594,
             "test": [
              1.656342336,
              2.354481562,
              0.09768965062
             ],
             "test1": [
              2.100915083,
              3.677955615,
              0.09351246695
             ]
            },
            {
             "iteration": 512,
             "learn": [
              0.7705145641,
              1.000963224,
              0.04008324736
             ],
             "passed_time": 1.306306506,
             "remaining_time": 1.240099938,
             "test": [
              1.656097312,
              2.354022822,
              0.09765345245
             ],
             "test1": [
              2.100580226,
              3.677653452,
              0.09348035775
             ]
            },
            {
             "iteration": 513,
             "learn": [
              0.7692378988,
              0.9986860978,
              0.04000870366
             ],
             "passed_time": 1.308092492,
             "remaining_time": 1.236834535,
             "test": [
              1.655241582,
              2.353136389,
              0.09761774019
             ],
             "test1": [
              2.10117372,
              3.678272657,
              0.09350957733
             ]
            },
            {
             "iteration": 514,
             "learn": [
              0.7669060521,
              0.9961926878,
              0.03992665373
             ],
             "passed_time": 1.309944803,
             "remaining_time": 1.233637339,
             "test": [
              1.655677734,
              2.351964908,
              0.09762189111
             ],
             "test1": [
              2.102689722,
              3.680717636,
              0.09355911113
             ]
            },
            {
             "iteration": 515,
             "learn": [
              0.7649976854,
              0.9940743912,
              0.0398579928
             ],
             "passed_time": 1.311798448,
             "remaining_time": 1.230446607,
             "test": [
              1.654319893,
              2.350973524,
              0.09756324868
             ],
             "test1": [
              2.10170634,
              3.679237641,
              0.0935514921
             ]
            },
            {
             "iteration": 516,
             "learn": [
              0.7645764798,
              0.9935581563,
              0.03982759868
             ],
             "passed_time": 1.313553408,
             "remaining_time": 1.227168851,
             "test": [
              1.654527568,
              2.351040723,
              0.09758353268
             ],
             "test1": [
              2.102156841,
              3.679124511,
              0.09359727243
             ]
            },
            {
             "iteration": 517,
             "learn": [
              0.7616275035,
              0.9901732694,
              0.03970761409
             ],
             "passed_time": 1.315345156,
             "remaining_time": 1.223931207,
             "test": [
              1.654425053,
              2.350923091,
              0.09757088901
             ],
             "test1": [
              2.101466427,
              3.679250365,
              0.09357162709
             ]
            },
            {
             "iteration": 518,
             "learn": [
              0.7601386677,
              0.9883855889,
              0.03958554025
             ],
             "passed_time": 1.318347114,
             "remaining_time": 1.221820735,
             "test": [
              1.654017884,
              2.350332224,
              0.09748436631
             ],
             "test1": [
              2.100936995,
              3.678676996,
              0.09351773782
             ]
            },
            {
             "iteration": 519,
             "learn": [
              0.7583952671,
              0.9862612084,
              0.03951300041
             ],
             "passed_time": 1.321335677,
             "remaining_time": 1.219694471,
             "test": [
              1.654457555,
              2.349216215,
              0.09750008442
             ],
             "test1": [
              2.10072298,
              3.679518775,
              0.09350100964
             ]
            },
            {
             "iteration": 520,
             "learn": [
              0.7560080992,
              0.9834311949,
              0.03939070574
             ],
             "passed_time": 1.323343266,
             "remaining_time": 1.216663002,
             "test": [
              1.655162955,
              2.350338469,
              0.09756370346
             ],
             "test1": [
              2.099722312,
              3.677443175,
              0.09349184906
             ]
            },
            {
             "iteration": 521,
             "learn": [
              0.754324653,
              0.9813554141,
              0.03927220246
             ],
             "passed_time": 1.326241324,
             "remaining_time": 1.214450867,
             "test": [
              1.654581714,
              2.350696995,
              0.09751842048
             ],
             "test1": [
              2.101370007,
              3.677937765,
              0.09355558145
             ]
            },
            {
             "iteration": 522,
             "learn": [
              0.7534070454,
              0.9801933243,
              0.03923685424
             ],
             "passed_time": 1.332108674,
             "remaining_time": 1.21494424,
             "test": [
              1.654440312,
              2.350456531,
              0.09750326204
             ],
             "test1": [
              2.100080383,
              3.677287388,
              0.09349323623
             ]
            },
            {
             "iteration": 523,
             "learn": [
              0.7521129185,
              0.978969285,
              0.03918897092
             ],
             "passed_time": 1.334875198,
             "remaining_time": 1.212596554,
             "test": [
              1.654556679,
              2.349366723,
              0.09750074283
             ],
             "test1": [
              2.099191648,
              3.676028431,
              0.09347283201
             ]
            },
            {
             "iteration": 524,
             "learn": [
              0.7508315973,
              0.9763908522,
              0.0391335388
             ],
             "passed_time": 1.337815329,
             "remaining_time": 1.210404345,
             "test": [
              1.654897609,
              2.349270937,
              0.09750094784
             ],
             "test1": [
              2.098623895,
              3.675840246,
              0.0934383791
             ]
            },
            {
             "iteration": 525,
             "learn": [
              0.7489476308,
              0.9741928627,
              0.03906943369
             ],
             "passed_time": 1.340366138,
             "remaining_time": 1.207858459,
             "test": [
              1.653464587,
              2.348714745,
              0.09743674555
             ],
             "test1": [
              2.097891262,
              3.675095734,
              0.09341655734
             ]
            },
            {
             "iteration": 526,
             "learn": [
              0.7477265531,
              0.972744029,
              0.03901416324
             ],
             "passed_time": 1.342141856,
             "remaining_time": 1.204616884,
             "test": [
              1.653180313,
              2.348347844,
              0.09742757108
             ],
             "test1": [
              2.09744599,
              3.675444659,
              0.09339668149
             ]
            },
            {
             "iteration": 527,
             "learn": [
              0.7462970554,
              0.9708048921,
              0.03890603297
             ],
             "passed_time": 1.343853312,
             "remaining_time": 1.201323416,
             "test": [
              1.652718797,
              2.34805249,
              0.09739615999
             ],
             "test1": [
              2.097873847,
              3.676021926,
              0.0933930624
             ]
            },
            {
             "iteration": 528,
             "learn": [
              0.7450392441,
              0.9686972953,
              0.03881529734
             ],
             "passed_time": 1.345672991,
             "remaining_time": 1.198132285,
             "test": [
              1.652366029,
              2.347575271,
              0.0973672796
             ],
             "test1": [
              2.096607804,
              3.674475585,
              0.09329650312
             ]
            },
            {
             "iteration": 529,
             "learn": [
              0.7432240193,
              0.9662610267,
              0.0387358776
             ],
             "passed_time": 1.348287662,
             "remaining_time": 1.195651323,
             "test": [
              1.650780368,
              2.347364509,
              0.09728932727
             ],
             "test1": [
              2.095279943,
              3.673998989,
              0.09324327296
             ]
            },
            {
             "iteration": 530,
             "learn": [
              0.7420534688,
              0.9649501412,
              0.03868456626
             ],
             "passed_time": 1.353808073,
             "remaining_time": 1.19573632,
             "test": [
              1.651453927,
              2.347183408,
              0.09730679844
             ],
             "test1": [
              2.094719106,
              3.674074954,
              0.09321650723
             ]
            },
            {
             "iteration": 531,
             "learn": [
              0.7407817148,
              0.9630446361,
              0.03864183036
             ],
             "passed_time": 1.357817583,
             "remaining_time": 1.194471107,
             "test": [
              1.65066231,
              2.346367506,
              0.09726747876
             ],
             "test1": [
              2.094493495,
              3.674757518,
              0.09319573619
             ]
            },
            {
             "iteration": 532,
             "learn": [
              0.7391506505,
              0.9608846421,
              0.03852133138
             ],
             "passed_time": 1.360930925,
             "remaining_time": 1.192410398,
             "test": [
              1.651550815,
              2.347678401,
              0.09736123202
             ],
             "test1": [
              2.094318662,
              3.675570937,
              0.09316814086
             ]
            },
            {
             "iteration": 533,
             "learn": [
              0.7371375023,
              0.9586592838,
              0.03838734478
             ],
             "passed_time": 1.363774645,
             "remaining_time": 1.190110458,
             "test": [
              1.651869818,
              2.347140603,
              0.09738532069
             ],
             "test1": [
              2.093466977,
              3.673668675,
              0.09311430609
             ]
            },
            {
             "iteration": 534,
             "learn": [
              0.7360795936,
              0.9576804843,
              0.03830326875
             ],
             "passed_time": 1.366601387,
             "remaining_time": 1.187793729,
             "test": [
              1.651791045,
              2.347082612,
              0.09732467477
             ],
             "test1": [
              2.09418198,
              3.674320735,
              0.09315833673
             ]
            },
            {
             "iteration": 535,
             "learn": [
              0.7343128931,
              0.955481152,
              0.03822452213
             ],
             "passed_time": 1.369249544,
             "remaining_time": 1.1853205,
             "test": [
              1.650573495,
              2.34612403,
              0.09725725783
             ],
             "test1": [
              2.093759439,
              3.674808715,
              0.09314095316
             ]
            },
            {
             "iteration": 536,
             "learn": [
              0.7333241552,
              0.9540164448,
              0.03817819159
             ],
             "passed_time": 1.371884989,
             "remaining_time": 1.182835661,
             "test": [
              1.650535415,
              2.34588956,
              0.09725775382
             ],
             "test1": [
              2.092986251,
              3.674950621,
              0.09310264743
             ]
            },
            {
             "iteration": 537,
             "learn": [
              0.7329683752,
              0.953508356,
              0.03814994141
             ],
             "passed_time": 1.375392267,
             "remaining_time": 1.181098935,
             "test": [
              1.650492461,
              2.345587782,
              0.09728422217
             ],
             "test1": [
              2.09341723,
              3.67528016,
              0.09314824403
             ]
            },
            {
             "iteration": 538,
             "learn": [
              0.731107639,
              0.9509464692,
              0.03808093655
             ],
             "passed_time": 1.377795311,
             "remaining_time": 1.178411203,
             "test": [
              1.64933727,
              2.345575165,
              0.0972487313
             ],
             "test1": [
              2.093082877,
              3.675124857,
              0.09314107116
             ]
            },
            {
             "iteration": 539,
             "learn": [
              0.7304103094,
              0.9499021958,
              0.03805102925
             ],
             "passed_time": 1.383289805,
             "remaining_time": 1.178357982,
             "test": [
              1.64945237,
              2.345812874,
              0.09725602313
             ],
             "test1": [
              2.093819266,
              3.675536814,
              0.09317406422
             ]
            },
            {
             "iteration": 540,
             "learn": [
              0.7279635986,
              0.9470895524,
              0.03793139095
             ],
             "passed_time": 1.386507659,
             "remaining_time": 1.176353078,
             "test": [
              1.64708586,
              2.343907274,
              0.09713968109
             ],
             "test1": [
              2.091935113,
              3.674729538,
              0.09308622924
             ]
            },
            {
             "iteration": 541,
             "learn": [
              0.7277380376,
              0.9468483282,
              0.03791559743
             ],
             "passed_time": 1.3886198,
             "remaining_time": 1.173409351,
             "test": [
              1.64730851,
              2.344181156,
              0.09716447038
             ],
             "test1": [
              2.091990721,
              3.674644238,
              0.09308907159
             ]
            },
            {
             "iteration": 542,
             "learn": [
              0.7253613331,
              0.9441378797,
              0.03782463473
             ],
             "passed_time": 1.390624215,
             "remaining_time": 1.170378023,
             "test": [
              1.648388394,
              2.344559403,
              0.09721401897
             ],
             "test1": [
              2.092731283,
              3.674866919,
              0.09312012237
             ]
            },
            {
             "iteration": 543,
             "learn": [
              0.7244140655,
              0.9426219621,
              0.03774456548
             ],
             "passed_time": 1.395191677,
             "remaining_time": 1.169498905,
             "test": [
              1.648277291,
              2.344210606,
              0.09716075343
             ],
             "test1": [
              2.091450463,
              3.673402534,
              0.09303760127
             ]
            },
            {
             "iteration": 544,
             "learn": [
              0.7228145224,
              0.9401437391,
              0.03768139819
             ],
             "passed_time": 1.398010778,
             "remaining_time": 1.167146612,
             "test": [
              1.648842919,
              2.344269412,
              0.09713330448
             ],
             "test1": [
              2.09136414,
              3.67328556,
              0.09303837524
             ]
            },
            {
             "iteration": 545,
             "learn": [
              0.7208962187,
              0.9376614239,
              0.03758008783
             ],
             "passed_time": 1.400572221,
             "remaining_time": 1.164578367,
             "test": [
              1.64918995,
              2.344343264,
              0.09713538606
             ],
             "test1": [
              2.091931408,
              3.674196495,
              0.09306420299
             ]
            },
            {
             "iteration": 546,
             "learn": [
              0.7206271291,
              0.9373760724,
              0.03756241404
             ],
             "passed_time": 1.403160803,
             "remaining_time": 1.162032621,
             "test": [
              1.649516063,
              2.344886778,
              0.09716781797
             ],
             "test1": [
              2.092143064,
              3.673997,
              0.09307276488
             ]
            },
            {
             "iteration": 547,
             "learn": [
              0.7185192691,
              0.934854014,
              0.03742342064
             ],
             "passed_time": 1.405666952,
             "remaining_time": 1.159418727,
             "test": [
              1.650765127,
              2.345708544,
              0.09721219461
             ],
             "test1": [
              2.092467726,
              3.673599658,
              0.09309150751
             ]
            },
            {
             "iteration": 548,
             "learn": [
              0.717430794,
              0.9329215165,
              0.03737172554
             ],
             "passed_time": 1.409490238,
             "remaining_time": 1.157887244,
             "test": [
              1.651830946,
              2.345947381,
              0.09725346142
             ],
             "test1": [
              2.091522842,
              3.67287669,
              0.09304318783
             ]
            },
            {
             "iteration": 549,
             "learn": [
              0.7152175639,
              0.9299833508,
              0.03724695642
             ],
             "passed_time": 1.412340158,
             "remaining_time": 1.155551038,
             "test": [
              1.654133018,
              2.347625149,
              0.09739416103
             ],
             "test1": [
              2.091285918,
              3.671763525,
              0.09303245039
             ]
            },
            {
             "iteration": 550,
             "learn": [
              0.7135031916,
              0.9272211881,
              0.03717342802
             ],
             "passed_time": 1.415140969,
             "remaining_time": 1.153172949,
             "test": [
              1.653987006,
              2.347783432,
              0.09740863278
             ],
             "test1": [
              2.091480469,
              3.672221302,
              0.09304534591
             ]
            },
            {
             "iteration": 551,
             "learn": [
              0.7122560412,
              0.9256021873,
              0.03711434166
             ],
             "passed_time": 1.417773516,
             "remaining_time": 1.150656766,
             "test": [
              1.654236651,
              2.347642305,
              0.09741823887
             ],
             "test1": [
              2.090998827,
              3.671252751,
              0.0930275573
             ]
            },
            {
             "iteration": 552,
             "learn": [
              0.7119314349,
              0.9253100141,
              0.03708224001
             ],
             "passed_time": 1.420240241,
             "remaining_time": 1.148006126,
             "test": [
              1.654383028,
              2.347371532,
              0.09745735395
             ],
             "test1": [
              2.09130704,
              3.671301676,
              0.0930647631
             ]
            },
            {
             "iteration": 553,
             "learn": [
              0.7097997563,
              0.922993979,
              0.03696419645
             ],
             "passed_time": 1.422772565,
             "remaining_time": 1.14540896,
             "test": [
              1.653677896,
              2.346990291,
              0.09740340581
             ],
             "test1": [
              2.089780319,
              3.669868509,
              0.092997522
             ]
            },
            {
             "iteration": 554,
             "learn": [
              0.7081547235,
              0.9202835937,
              0.03688062571
             ],
             "passed_time": 1.42532434,
             "remaining_time": 1.142827624,
             "test": [
              1.653957342,
              2.34703231,
              0.09741357408
             ],
             "test1": [
              2.088490721,
              3.668943353,
              0.09294444938
             ]
            },
            {
             "iteration": 555,
             "learn": [
              0.7068486365,
              0.9179987615,
              0.03680571046
             ],
             "passed_time": 1.428287086,
             "remaining_time": 1.14057458,
             "test": [
              1.65481378,
              2.347549176,
              0.09745152917
             ],
             "test1": [
              2.088831927,
              3.669391399,
              0.09296471419
             ]
            },
            {
             "iteration": 556,
             "learn": [
              0.70559865,
              0.9163954846,
              0.03672878332
             ],
             "passed_time": 1.431031226,
             "remaining_time": 1.138145123,
             "test": [
              1.654865727,
              2.346697477,
              0.09743796906
             ],
             "test1": [
              2.088669836,
              3.669130586,
              0.09296034037
             ]
            },
            {
             "iteration": 557,
             "learn": [
              0.7042095239,
              0.9148165016,
              0.03661500831
             ],
             "passed_time": 1.435965617,
             "remaining_time": 1.137449467,
             "test": [
              1.655173854,
              2.347049631,
              0.09745914007
             ],
             "test1": [
              2.087720009,
              3.669761501,
              0.09286643298
             ]
            },
            {
             "iteration": 558,
             "learn": [
              0.7035285307,
              0.9137716589,
              0.03658574178
             ],
             "passed_time": 1.438502303,
             "remaining_time": 1.134847076,
             "test": [
              1.655516991,
              2.34745891,
              0.09747570223
             ],
             "test1": [
              2.088292852,
              3.670211618,
              0.0928945736
             ]
            },
            {
             "iteration": 559,
             "learn": [
              0.702266034,
              0.9121037815,
              0.03652214808
             ],
             "passed_time": 1.441001286,
             "remaining_time": 1.132215296,
             "test": [
              1.65493257,
              2.346459397,
              0.09743713408
             ],
             "test1": [
              2.087731634,
              3.66989203,
              0.09287972518
             ]
            },
            {
             "iteration": 560,
             "learn": [
              0.7008523236,
              0.9103917264,
              0.0364667088
             ],
             "passed_time": 1.444030801,
             "remaining_time": 1.129999147,
             "test": [
              1.653714414,
              2.345226348,
              0.09735005228
             ],
             "test1": [
              2.087217853,
              3.669419659,
              0.0928450354
             ]
            },
            {
             "iteration": 561,
             "learn": [
              0.699097018,
              0.9079860323,
              0.03635679987
             ],
             "passed_time": 1.446794222,
             "remaining_time": 1.127572721,
             "test": [
              1.65378107,
              2.345038204,
              0.09734657398
             ],
             "test1": [
              2.088732934,
              3.668513525,
              0.09299180544
             ]
            },
            {
             "iteration": 562,
             "learn": [
              0.6989498073,
              0.9078254878,
              0.03634976979
             ],
             "passed_time": 1.449402519,
             "remaining_time": 1.125024691,
             "test": [
              1.653736493,
              2.344996707,
              0.09734241822
             ],
             "test1": [
              2.088273306,
              3.667064344,
              0.09298843578
             ]
            },
            {
             "iteration": 563,
             "learn": [
              0.6971236641,
              0.9050724866,
              0.03625908221
             ],
             "passed_time": 1.452109195,
             "remaining_time": 1.122552498,
             "test": [
              1.654531343,
              2.346602429,
              0.09739112029
             ],
             "test1": [
              2.08786438,
              3.667236769,
              0.09299207454
             ]
            },
            {
             "iteration": 564,
             "learn": [
              0.6958785677,
              0.9031546195,
              0.03619964492
             ],
             "passed_time": 1.454631975,
             "remaining_time": 1.119937893,
             "test": [
              1.655071693,
              2.347935849,
              0.09740803066
             ],
             "test1": [
              2.087497787,
              3.66600191,
              0.09298218852
             ]
            },
            {
             "iteration": 565,
             "learn": [
              0.6956765054,
              0.9029115507,
              0.03618569696
             ],
             "passed_time": 1.457194261,
             "remaining_time": 1.117353903,
             "test": [
              1.655062142,
              2.347712184,
              0.09740533078
             ],
             "test1": [
              2.087631671,
              3.665868669,
              0.09299404002
             ]
            },
            {
             "iteration": 566,
             "learn": [
              0.6953788198,
              0.902588584,
              0.03616602604
             ],
             "passed_time": 1.460010866,
             "remaining_time": 1.114964206,
             "test": [
              1.655136402,
              2.347890714,
              0.09742133825
             ],
             "test1": [
              2.088423134,
              3.665928452,
              0.09304132776
             ]
            },
            {
             "iteration": 567,
             "learn": [
              0.6937273182,
              0.9001882377,
              0.03609389627
             ],
             "passed_time": 1.463251811,
             "remaining_time": 1.112895743,
             "test": [
              1.653868721,
              2.347307276,
              0.09734007995
             ],
             "test1": [
              2.086511151,
              3.664714716,
              0.09296374453
             ]
            },
            {
             "iteration": 568,
             "learn": [
              0.6919239251,
              0.8979442796,
              0.03594865132
             ],
             "passed_time": 1.465401795,
             "remaining_time": 1.10999679,
             "test": [
              1.655740261,
              2.349828124,
              0.09750614787
             ],
             "test1": [
              2.08606597,
              3.665249806,
              0.09294867453
             ]
            },
            {
             "iteration": 569,
             "learn": [
              0.691643739,
              0.8977109306,
              0.03593045957
             ],
             "passed_time": 1.468574561,
             "remaining_time": 1.107872038,
             "test": [
              1.655849756,
              2.350053139,
              0.09752602071
             ],
             "test1": [
              2.086425116,
              3.664949759,
              0.09297619026
             ]
            },
            {
             "iteration": 570,
             "learn": [
              0.6899942221,
              0.8952414835,
              0.03584804471
             ],
             "passed_time": 1.471107725,
             "remaining_time": 1.105263072,
             "test": [
              1.656545639,
              2.35044246,
              0.09758092689
             ],
             "test1": [
              2.085498088,
              3.664887162,
              0.09293897005
             ]
            },
            {
             "iteration": 571,
             "learn": [
              0.6882831688,
              0.8930266464,
              0.03575971372
             ],
             "passed_time": 1.474030882,
             "remaining_time": 1.102946185,
             "test": [
              1.657982444,
              2.353093272,
              0.09767572001
             ],
             "test1": [
              2.085262783,
              3.665090538,
              0.09294542405
             ]
            },
            {
             "iteration": 572,
             "learn": [
              0.6868324833,
              0.8914427247,
              0.03569415639
             ],
             "passed_time": 1.476281671,
             "remaining_time": 1.100126132,
             "test": [
              1.65806596,
              2.352803094,
              0.09766726091
             ],
             "test1": [
              2.086861623,
              3.666602866,
              0.09299469972
             ]
            },
            {
             "iteration": 573,
             "learn": [
              0.6857639384,
              0.8897493857,
              0.03565891724
             ],
             "passed_time": 1.478321043,
             "remaining_time": 1.097151158,
             "test": [
              1.658822897,
              2.353857424,
              0.09771052837
             ],
             "test1": [
              2.086399049,
              3.665701867,
              0.09299015279
             ]
            },
            {
             "iteration": 574,
             "learn": [
              0.6855729678,
              0.8895375916,
              0.03564458069
             ],
             "passed_time": 1.481220814,
             "remaining_time": 1.094815384,
             "test": [
              1.658589308,
              2.353508609,
              0.09768714993
             ],
             "test1": [
              2.086333591,
              3.664655809,
              0.09299181589
             ]
            },
            {
             "iteration": 575,
             "learn": [
              0.6850916624,
              0.8888719538,
              0.03562823109
             ],
             "passed_time": 1.48302308,
             "remaining_time": 1.091669767,
             "test": [
              1.658198615,
              2.352970537,
              0.09764786041
             ],
             "test1": [
              2.08589621,
              3.664434756,
              0.09297343878
             ]
            },
            {
             "iteration": 576,
             "learn": [
              0.6838306655,
              0.8872230615,
              0.03558060793
             ],
             "passed_time": 1.484967065,
             "remaining_time": 1.088632701,
             "test": [
              1.657702209,
              2.351902827,
              0.0976100707
             ],
             "test1": [
              2.085119336,
              3.663564739,
              0.09295284399
             ]
            },
            {
             "iteration": 577,
             "learn": [
              0.6826382476,
              0.8856945304,
              0.03552567879
             ],
             "passed_time": 1.488265499,
             "remaining_time": 1.086588306,
             "test": [
              1.657097401,
              2.351616144,
              0.09755236798
             ],
             "test1": [
              2.086052725,
              3.664157883,
              0.09299082999
             ]
            },
            {
             "iteration": 578,
             "learn": [
              0.6810332591,
              0.8834841233,
              0.0354373172
             ],
             "passed_time": 1.491080718,
             "remaining_time": 1.084188225,
             "test": [
              1.657211003,
              2.351720111,
              0.09757336072
             ],
             "test1": [
              2.087093175,
              3.664743104,
              0.09303991135
             ]
            },
            {
             "iteration": 579,
             "learn": [
              0.6791256131,
              0.881287973,
              0.03533993099
             ],
             "passed_time": 1.493866127,
             "remaining_time": 1.081765126,
             "test": [
              1.656252444,
              2.350984501,
              0.0975078665
             ],
             "test1": [
              2.087256231,
              3.663484045,
              0.09305736353
             ]
            },
            {
             "iteration": 580,
             "learn": [
              0.6774912094,
              0.8791526949,
              0.03527891621
             ],
             "passed_time": 1.496485145,
             "remaining_time": 1.079220785,
             "test": [
              1.656621433,
              2.35124157,
              0.09753164962
             ],
             "test1": [
              2.08913311,
              3.663950244,
              0.09313806802
             ]
            },
            {
             "iteration": 581,
             "learn": [
              0.6772394499,
              0.8789052437,
              0.03525915549
             ],
             "passed_time": 1.499041853,
             "remaining_time": 1.076631434,
             "test": [
              1.65695294,
              2.351612111,
              0.09758226049
             ],
             "test1": [
              2.089282176,
              3.663671624,
              0.09314191539
             ]
            },
            {
             "iteration": 582,
             "learn": [
              0.6763469885,
              0.8775693247,
              0.03522284999
             ],
             "passed_time": 1.501622698,
             "remaining_time": 1.07405946,
             "test": [
              1.656688293,
              2.351201015,
              0.09756168989
             ],
             "test1": [
              2.088713885,
              3.663173677,
              0.0931180777
             ]
            },
            {
             "iteration": 583,
             "learn": [
              0.6761055911,
              0.8773518576,
              0.03520527092
             ],
             "passed_time": 1.504272655,
             "remaining_time": 1.071536686,
             "test": [
              1.656877166,
              2.351442435,
              0.09758276728
             ],
             "test1": [
              2.088768194,
              3.662834474,
              0.09313260086
             ]
            },
            {
             "iteration": 584,
             "learn": [
              0.6744269903,
              0.875307299,
              0.03509666955
             ],
             "passed_time": 1.507158876,
             "remaining_time": 1.069181083,
             "test": [
              1.657432756,
              2.351484177,
              0.09762509641
             ],
             "test1": [
              2.087945189,
              3.663207446,
              0.0930578964
             ]
            },
            {
             "iteration": 585,
             "learn": [
              0.6741831887,
              0.875089233,
              0.03507951895
             ],
             "passed_time": 1.510003717,
             "remaining_time": 1.066794435,
             "test": [
              1.65761414,
              2.351717638,
              0.09764537996
             ],
             "test1": [
              2.087646289,
              3.661885059,
              0.093053251
             ]
            },
            {
             "iteration": 586,
             "learn": [
              0.6740255813,
              0.8749057789,
              0.0350664884
             ],
             "passed_time": 1.513802926,
             "remaining_time": 1.065077698,
             "test": [
              1.657328132,
              2.351260477,
              0.0976137619
             ],
             "test1": [
              2.087871354,
              3.661914544,
              0.09307193137
             ]
            },
            {
             "iteration": 587,
             "learn": [
              0.6722894188,
              0.8724085525,
              0.0349931168
             ],
             "passed_time": 1.516444114,
             "remaining_time": 1.062542474,
             "test": [
              1.65832941,
              2.352260179,
              0.09767726727
             ],
             "test1": [
              2.086898754,
              3.658769891,
              0.09304179171
             ]
            },
            {
             "iteration": 588,
             "learn": [
              0.6707151373,
              0.870068257,
              0.03491446418
             ],
             "passed_time": 1.519057354,
             "remaining_time": 1.05998739,
             "test": [
              1.658199454,
              2.352552652,
              0.09766498454
             ],
             "test1": [
              2.08784629,
              3.659301313,
              0.09305395105
             ]
            },
            {
             "iteration": 589,
             "learn": [
              0.6698160133,
              0.8687124054,
              0.03486221488
             ],
             "passed_time": 1.522431593,
             "remaining_time": 1.057960938,
             "test": [
              1.658325804,
              2.352353664,
              0.09767140854
             ],
             "test1": [
              2.08765833,
              3.659850922,
              0.09303700498
             ]
            },
            {
             "iteration": 590,
             "learn": [
              0.6695242474,
              0.8684403299,
              0.0348376557
             ],
             "passed_time": 1.524643706,
             "remaining_time": 1.055125678,
             "test": [
              1.658608826,
              2.352643208,
              0.09772085549
             ],
             "test1": [
              2.088099648,
              3.659789654,
              0.09308912816
             ]
            },
            {
             "iteration": 591,
             "learn": [
              0.6693510863,
              0.8682684607,
              0.03482956193
             ],
             "passed_time": 1.526541346,
             "remaining_time": 1.052075793,
             "test": [
              1.658617018,
              2.352650918,
              0.09772161918
             ],
             "test1": [
              2.088247845,
              3.659538092,
              0.0931066029
             ]
            },
            {
             "iteration": 592,
             "learn": [
              0.6692080731,
              0.8679894787,
              0.03482345135
             ],
             "passed_time": 1.529270098,
             "remaining_time": 1.049600219,
             "test": [
              1.658406735,
              2.35225013,
              0.09769198426
             ],
             "test1": [
              2.088205758,
              3.659408369,
              0.09310675579
             ]
            },
            {
             "iteration": 593,
             "learn": [
              0.6681723988,
              0.8663744494,
              0.0347676713
             ],
             "passed_time": 1.531064243,
             "remaining_time": 1.046484988,
             "test": [
              1.658387713,
              2.350939091,
              0.09769652547
             ],
             "test1": [
              2.087169245,
              3.659158685,
              0.09305110482
             ]
            },
            {
             "iteration": 594,
             "learn": [
              0.6679503093,
              0.8661855279,
              0.03474973187
             ],
             "passed_time": 1.533070163,
             "remaining_time": 1.043518346,
             "test": [
              1.658310989,
              2.350961588,
              0.09768342609
             ],
             "test1": [
              2.087343734,
              3.659085158,
              0.09305750195
             ]
            },
            {
             "iteration": 595,
             "learn": [
              0.6668616175,
              0.8641992993,
              0.03470682461
             ],
             "passed_time": 1.53545237,
             "remaining_time": 1.040809996,
             "test": [
              1.659657882,
              2.352050832,
              0.09773707401
             ],
             "test1": [
              2.087869881,
              3.659321126,
              0.09308376335
             ]
            },
            {
             "iteration": 596,
             "learn": [
              0.6661026626,
              0.8625426531,
              0.03466885632
             ],
             "passed_time": 1.53807755,
             "remaining_time": 1.038266755,
             "test": [
              1.659978964,
              2.352148524,
              0.09774101388
             ],
             "test1": [
              2.086335957,
              3.659576672,
              0.093011342
             ]
            },
            {
             "iteration": 597,
             "learn": [
              0.663501994,
              0.859448061,
              0.03451492546
             ],
             "passed_time": 1.540871496,
             "remaining_time": 1.035836692,
             "test": [
              1.659131237,
              2.350577496,
              0.09769153991
             ],
             "test1": [
              2.086148145,
              3.658941917,
              0.09302528828
             ]
            },
            {
             "iteration": 598,
             "learn": [
              0.663171838,
              0.8590400396,
              0.03450715841
             ],
             "passed_time": 1.543508675,
             "remaining_time": 1.033300465,
             "test": [
              1.659309823,
              2.350943102,
              0.09771184761
             ],
             "test1": [
              2.085113423,
              3.65718784,
              0.09297992353
             ]
            },
            {
             "iteration": 599,
             "learn": [
              0.6616332477,
              0.8573278314,
              0.03439610802
             ],
             "passed_time": 1.545299681,
             "remaining_time": 1.030199787,
             "test": [
              1.659443877,
              2.349134446,
              0.09769538718
             ],
             "test1": [
              2.085637277,
              3.656030499,
              0.09297358154
             ]
            },
            {
             "iteration": 600,
             "learn": [
              0.661069709,
              0.8565011136,
              0.03436648245
             ],
             "passed_time": 1.547202861,
             "remaining_time": 1.02717794,
             "test": [
              1.659889039,
              2.349452076,
              0.09772335315
             ],
             "test1": [
              2.08572753,
              3.656140134,
              0.09299517674
             ]
            },
            {
             "iteration": 601,
             "learn": [
              0.6588814571,
              0.8540244729,
              0.03425948006
             ],
             "passed_time": 1.548970621,
             "remaining_time": 1.024070277,
             "test": [
              1.657880521,
              2.347909941,
              0.09762458843
             ],
             "test1": [
              2.084467381,
              3.655531636,
              0.09293677208
             ]
            },
            {
             "iteration": 602,
             "learn": [
              0.658594489,
              0.8537217859,
              0.03424059606
             ],
             "passed_time": 1.551710672,
             "remaining_time": 1.021607192,
             "test": [
              1.658055595,
              2.347955142,
              0.09764173505
             ],
             "test1": [
              2.084585607,
              3.655381586,
              0.09294805306
             ]
            },
            {
             "iteration": 603,
             "learn": [
              0.6572147834,
              0.8515428664,
              0.03418890341
             ],
             "passed_time": 1.554247621,
             "remaining_time": 1.01901003,
             "test": [
              1.656815123,
              2.346916978,
              0.09756261361
             ],
             "test1": [
              2.082931138,
              3.654824512,
              0.09287690103
             ]
            },
            {
             "iteration": 604,
             "learn": [
              0.6566472585,
              0.8508481131,
              0.03416897923
             ],
             "passed_time": 1.556490768,
             "remaining_time": 1.016221245,
             "test": [
              1.655802267,
              2.346285976,
              0.09751175976
             ],
             "test1": [
              2.081205923,
              3.653913892,
              0.09280734779
             ]
            },
            {
             "iteration": 605,
             "learn": [
              0.6548081898,
              0.8484767289,
              0.03409407431
             ],
             "passed_time": 1.558899029,
             "remaining_time": 1.013541613,
             "test": [
              1.656703811,
              2.346390404,
              0.09754869781
             ],
             "test1": [
              2.080147228,
              3.652698368,
              0.09277507708
             ]
            },
            {
             "iteration": 606,
             "learn": [
              0.6543571749,
              0.8478794516,
              0.03406821434
             ],
             "passed_time": 1.56144997,
             "remaining_time": 1.010955252,
             "test": [
              1.656808031,
              2.34624963,
              0.09755073775
             ],
             "test1": [
              2.080267466,
              3.652372459,
              0.09277920858
             ]
            },
            {
             "iteration": 607,
             "learn": [
              0.652590299,
              0.8460515924,
              0.03400393348
             ],
             "passed_time": 1.563315066,
             "remaining_time": 1.007926819,
             "test": [
              1.656933854,
              2.345253051,
              0.09754633282
             ],
             "test1": [
              2.079725438,
              3.652401188,
              0.09276744569
             ]
            },
            {
             "iteration": 608,
             "learn": [
              0.6511235633,
              0.8440319802,
              0.03393702169
             ],
             "passed_time": 1.565255516,
             "remaining_time": 1.004950586,
             "test": [
              1.657220601,
              2.345747603,
              0.0975628818
             ],
             "test1": [
              2.078143185,
              3.652413417,
              0.09269725057
             ]
            },
            {
             "iteration": 609,
             "learn": [
              0.649810296,
              0.8421389169,
              0.03383976857
             ],
             "passed_time": 1.568775537,
             "remaining_time": 1.002987638,
             "test": [
              1.656753493,
              2.345088308,
              0.09752048348
             ],
             "test1": [
              2.076888898,
              3.650933175,
              0.09261030079
             ]
            },
            {
             "iteration": 610,
             "learn": [
              0.6476384475,
              0.8398136177,
              0.0336717728
             ],
             "passed_time": 1.571189744,
             "remaining_time": 1.000315565,
             "test": [
              1.65659476,
              2.345369657,
              0.09745536866
             ],
             "test1": [
              2.07493484,
              3.648525218,
              0.0925082392
             ]
            },
            {
             "iteration": 611,
             "learn": [
              0.6465034568,
              0.838366382,
              0.03360736663
             ],
             "passed_time": 1.573318191,
             "remaining_time": 0.9974631667,
             "test": [
              1.657160996,
              2.345828659,
              0.09748978448
             ],
             "test1": [
              2.074462263,
              3.647407598,
              0.09249845012
             ]
            },
            {
             "iteration": 612,
             "learn": [
              0.6450276,
              0.8369717241,
              0.03355763134
             ],
             "passed_time": 1.575485107,
             "remaining_time": 0.9946374163,
             "test": [
              1.657983843,
              2.34627397,
              0.09753359293
             ],
             "test1": [
              2.074652526,
              3.647066717,
              0.09251508533
             ]
            },
            {
             "iteration": 613,
             "learn": [
              0.644122577,
              0.8356523444,
              0.03350553782
             ],
             "passed_time": 1.577380413,
             "remaining_time": 0.991643061,
             "test": [
              1.658676404,
              2.347494579,
              0.09757846185
             ],
             "test1": [
              2.074465882,
              3.646540263,
              0.09248092723
             ]
            },
            {
             "iteration": 614,
             "learn": [
              0.6435897682,
              0.8350497722,
              0.03345379632
             ],
             "passed_time": 1.579304357,
             "remaining_time": 0.9886702073,
             "test": [
              1.659002434,
              2.347479572,
              0.09757807306
             ],
             "test1": [
              2.074098148,
              3.645794542,
              0.09246597204
             ]
            },
            {
             "iteration": 615,
             "learn": [
              0.6419380482,
              0.8332033681,
              0.0333978998
             ],
             "passed_time": 1.581863866,
             "remaining_time": 0.9860969551,
             "test": [
              1.659113378,
              2.347599203,
              0.0975855887
             ],
             "test1": [
              2.074528381,
              3.645745202,
              0.09248519269
             ]
            },
            {
             "iteration": 616,
             "learn": [
              0.6405813859,
              0.8313927486,
              0.03334411404
             ],
             "passed_time": 1.58432051,
             "remaining_time": 0.9834598953,
             "test": [
              1.659553118,
              2.347718623,
              0.09759852179
             ],
             "test1": [
              2.073390947,
              3.646052785,
              0.09241976296
             ]
            },
            {
             "iteration": 617,
             "learn": [
              0.6398607035,
              0.8305750085,
              0.03328220672
             ],
             "passed_time": 1.586300125,
             "remaining_time": 0.9805285565,
             "test": [
              1.659559414,
              2.348413412,
              0.09757838065
             ],
             "test1": [
              2.073781812,
              3.646265633,
              0.09246609655
             ]
            },
            {
             "iteration": 618,
             "learn": [
              0.6382952833,
              0.8286737231,
              0.03317032606
             ],
             "passed_time": 1.588267734,
             "remaining_time": 0.9775929024,
             "test": [
              1.660609911,
              2.349573921,
              0.09761075568
             ],
             "test1": [
              2.073302251,
              3.645329633,
              0.09243530403
             ]
            },
            {
             "iteration": 619,
             "learn": [
              0.6376418768,
              0.8278439185,
              0.03314417359
             ],
             "passed_time": 1.590337641,
             "remaining_time": 0.9747230703,
             "test": [
              1.660116942,
              2.349343263,
              0.0975900826
             ],
             "test1": [
              2.072740689,
              3.645139239,
              0.09241232556
             ]
            },
            {
             "iteration": 620,
             "learn": [
              0.6357941008,
              0.8257777603,
              0.03307589193
             ],
             "passed_time": 1.592397588,
             "remaining_time": 0.9718497357,
             "test": [
              1.660088584,
              2.349837473,
              0.09759352887
             ],
             "test1": [
              2.07299755,
              3.646199207,
              0.09239746205
             ]
            },
            {
             "iteration": 621,
             "learn": [
              0.6353314763,
              0.8250418948,
              0.03304270069
             ],
             "passed_time": 1.594585195,
             "remaining_time": 0.9690565977,
             "test": [
              1.660799383,
              2.350265622,
              0.09761677151
             ],
             "test1": [
              2.072809269,
              3.645888579,
              0.09240103681
             ]
            },
            {
             "iteration": 622,
             "learn": [
              0.6337861536,
              0.8234856564,
              0.03299070848
             ],
             "passed_time": 1.597334294,
             "remaining_time": 0.9666051826,
             "test": [
              1.660537559,
              2.349078694,
              0.09760327569
             ],
             "test1": [
              2.072451735,
              3.645039754,
              0.09239871506
             ]
            },
            {
             "iteration": 623,
             "learn": [
              0.6326501437,
              0.8216977954,
              0.03292563274
             ],
             "passed_time": 1.599777457,
             "remaining_time": 0.9639684676,
             "test": [
              1.660179718,
              2.348537258,
              0.09757364554
             ],
             "test1": [
              2.071997982,
              3.644538251,
              0.09238660517
             ]
            },
            {
             "iteration": 624,
             "learn": [
              0.631480943,
              0.820140981,
              0.03283364422
             ],
             "passed_time": 1.601981582,
             "remaining_time": 0.9611889489,
             "test": [
              1.660441573,
              2.34867193,
              0.09754586802
             ],
             "test1": [
              2.072227892,
              3.644142368,
              0.09238259544
             ]
            },
            {
             "iteration": 625,
             "learn": [
              0.6300112839,
              0.8186222863,
              0.03277646046
             ],
             "passed_time": 1.603877275,
             "remaining_time": 0.9582269984,
             "test": [
              1.660498817,
              2.348948262,
              0.09755393518
             ],
             "test1": [
              2.072456511,
              3.644263079,
              0.09238943466
             ]
            },
            {
             "iteration": 626,
             "learn": [
              0.6288120561,
              0.8168732045,
              0.03268598199
             ],
             "passed_time": 1.606004092,
             "remaining_time": 0.9554059432,
             "test": [
              1.659848066,
              2.348003,
              0.09749649302
             ],
             "test1": [
              2.07202366,
              3.643350286,
              0.09234738353
             ]
            },
            {
             "iteration": 627,
             "learn": [
              0.6287165339,
              0.8167564314,
              0.03268145395
             ],
             "passed_time": 1.607898845,
             "remaining_time": 0.9524496342,
             "test": [
              1.659632594,
              2.347772986,
              0.09747846951
             ],
             "test1": [
              2.072280271,
              3.643280131,
              0.09235981681
             ]
            },
            {
             "iteration": 628,
             "learn": [
              0.6284405345,
              0.8164541565,
              0.03266368173
             ],
             "passed_time": 1.609909267,
             "remaining_time": 0.9495649255,
             "test": [
              1.659747296,
              2.347897164,
              0.09749206291
             ],
             "test1": [
              2.072500384,
              3.643312378,
              0.09236902385
             ]
            },
            {
             "iteration": 629,
             "learn": [
              0.6283783176,
              0.8163236445,
              0.03266010685
             ],
             "passed_time": 1.611718687,
             "remaining_time": 0.9465649429,
             "test": [
              1.659922178,
              2.347939394,
              0.0975092039
             ],
             "test1": [
              2.07257983,
              3.64316706,
              0.09237789692
             ]
            },
            {
             "iteration": 630,
             "learn": [
              0.6271475529,
              0.8150248769,
              0.03257038618
             ],
             "passed_time": 1.613619643,
             "remaining_time": 0.9436222634,
             "test": [
              1.660302002,
              2.348764134,
              0.097551638
             ],
             "test1": [
              2.071863891,
              3.642648529,
              0.09234308872
             ]
            },
            {
             "iteration": 631,
             "learn": [
              0.6268925382,
              0.8147391168,
              0.03255490367
             ],
             "passed_time": 1.615645864,
             "remaining_time": 0.9407558193,
             "test": [
              1.6604313,
              2.348952589,
              0.09756625771
             ],
             "test1": [
              2.072187679,
              3.642661023,
              0.09235587808
             ]
            },
            {
             "iteration": 632,
             "learn": [
              0.6263874478,
              0.8137278563,
              0.0325353452
             ],
             "passed_time": 1.617842894,
             "remaining_time": 0.9379910617,
             "test": [
              1.660359966,
              2.348432545,
              0.0975344604
             ],
             "test1": [
              2.072113082,
              3.642583601,
              0.09235123388
             ]
            },
            {
             "iteration": 633,
             "learn": [
              0.6258226134,
              0.8126676782,
              0.03250293816
             ],
             "passed_time": 1.619710643,
             "remaining_time": 0.9350380051,
             "test": [
              1.660337852,
              2.348473543,
              0.09753427829
             ],
             "test1": [
              2.072097443,
              3.642768363,
              0.09235149369
             ]
            },
            {
             "iteration": 634,
             "learn": [
              0.624682502,
              0.8115104395,
              0.03241221952
             ],
             "passed_time": 1.621678808,
             "remaining_time": 0.9321460862,
             "test": [
              1.660478955,
              2.348897847,
              0.09752783052
             ],
             "test1": [
              2.071764728,
              3.642537214,
              0.09233353745
             ]
            },
            {
             "iteration": 635,
             "learn": [
              0.6235922379,
              0.8100630694,
              0.03237737685
             ],
             "passed_time": 1.623645491,
             "remaining_time": 0.9292562247,
             "test": [
              1.660951289,
              2.348802978,
              0.09754179326
             ],
             "test1": [
              2.071772234,
              3.642215446,
              0.09233558672
             ]
            },
            {
             "iteration": 636,
             "learn": [
              0.6223418007,
              0.8082976446,
              0.03232416648
             ],
             "passed_time": 1.627387123,
             "remaining_time": 0.9273807307,
             "test": [
              1.659485856,
              2.347575479,
              0.09743496528
             ],
             "test1": [
              2.070556544,
              3.641517468,
              0.09228125784
             ]
            },
            {
             "iteration": 637,
             "learn": [
              0.6211154955,
              0.8066519377,
              0.0322443117
             ],
             "passed_time": 1.629292269,
             "remaining_time": 0.9244573688,
             "test": [
              1.660226285,
              2.349287689,
              0.09747882828
             ],
             "test1": [
              2.070667408,
              3.641265331,
              0.0922892486
             ]
            },
            {
             "iteration": 638,
             "learn": [
              0.6193325859,
              0.8046860718,
              0.03217677674
             ],
             "passed_time": 1.631363552,
             "remaining_time": 0.9216310522,
             "test": [
              1.659071605,
              2.348564867,
              0.09742886257
             ],
             "test1": [
              2.069353349,
              3.640769978,
              0.09223414706
             ]
            },
            {
             "iteration": 639,
             "learn": [
              0.6186395271,
              0.8034139134,
              0.03213928436
             ],
             "passed_time": 1.633461227,
             "remaining_time": 0.9188219404,
             "test": [
              1.658971364,
              2.348519385,
              0.09742002778
             ],
             "test1": [
              2.069000768,
              3.640693204,
              0.09221802664
             ]
            },
            {
             "iteration": 640,
             "learn": [
              0.6185506191,
              0.8032780323,
              0.03213321653
             ],
             "passed_time": 1.635379615,
             "remaining_time": 0.915914636,
             "test": [
              1.659118737,
              2.348541763,
              0.09743456133
             ],
             "test1": [
              2.068947354,
              3.639928978,
              0.09221832106
             ]
            },
            {
             "iteration": 641,
             "learn": [
              0.6170764869,
              0.8014125084,
              0.03202896972
             ],
             "passed_time": 1.637590726,
             "remaining_time": 0.9131736445,
             "test": [
              1.659250776,
              2.348966445,
              0.09746053946
             ],
             "test1": [
              2.069470053,
              3.639517315,
              0.09226996824
             ]
            },
            {
             "iteration": 642,
             "learn": [
              0.6156065022,
              0.799176758,
              0.03197061983
             ],
             "passed_time": 1.639481052,
             "remaining_time": 0.9102561986,
             "test": [
              1.659182612,
              2.348711997,
              0.09746234718
             ],
             "test1": [
              2.070332165,
              3.639807768,
              0.09228823226
             ]
            },
            {
             "iteration": 643,
             "learn": [
              0.6135189739,
              0.7969580005,
              0.03188652268
             ],
             "passed_time": 1.641229903,
             "remaining_time": 0.9072637354,
             "test": [
              1.658895897,
              2.349273114,
              0.09745782449
             ],
             "test1": [
              2.068361189,
              3.639432074,
              0.09220830185
             ]
            },
            {
             "iteration": 644,
             "learn": [
              0.6132707646,
              0.7966447,
              0.03187009709
             ],
             "passed_time": 1.643036288,
             "remaining_time": 0.9043067944,
             "test": [
              1.659016678,
              2.349443772,
              0.09747408766
             ],
             "test1": [
              2.068288395,
              3.638589978,
              0.09222055923
             ]
            },
            {
             "iteration": 645,
             "learn": [
              0.613162758,
              0.7965185572,
              0.03186537448
             ],
             "passed_time": 1.644905886,
             "remaining_time": 0.9013880553,
             "test": [
              1.659003015,
              2.349430954,
              0.09747281393
             ],
             "test1": [
              2.068193829,
              3.638458651,
              0.09221848429
             ]
            },
            {
             "iteration": 646,
             "learn": [
              0.6115331983,
              0.794490587,
              0.03175051546
             ],
             "passed_time": 1.647272008,
             "remaining_time": 0.8987434605,
             "test": [
              1.659177721,
              2.349134886,
              0.09747028789
             ],
             "test1": [
              2.068408224,
              3.638443116,
              0.09221040562
             ]
            },
            {
             "iteration": 647,
             "learn": [
              0.6103208625,
              0.7930632788,
              0.03165440071
             ],
             "passed_time": 1.649224495,
             "remaining_time": 0.8958750343,
             "test": [
              1.66045571,
              2.350874891,
              0.09757197953
             ],
             "test1": [
              2.067638032,
              3.638659182,
              0.09216214734
             ]
            },
            {
             "iteration": 648,
             "learn": [
              0.6102141099,
              0.7929407448,
              0.03164969438
             ],
             "passed_time": 1.651095605,
             "remaining_time": 0.8929654197,
             "test": [
              1.660441577,
              2.350861663,
              0.09757066193
             ],
             "test1": [
              2.067544448,
              3.638533194,
              0.09216005014
             ]
            },
            {
             "iteration": 649,
             "learn": [
              0.6100726451,
              0.7928102299,
              0.03164160268
             ],
             "passed_time": 1.652956377,
             "remaining_time": 0.890053434,
             "test": [
              1.660440472,
              2.350860629,
              0.09757055892
             ],
             "test1": [
              2.067643805,
              3.638351518,
              0.0921725509
             ]
            },
            {
             "iteration": 650,
             "learn": [
              0.6079614438,
              0.7900236193,
              0.03151838651
             ],
             "passed_time": 1.654818351,
             "remaining_time": 0.8871453219,
             "test": [
              1.659417091,
              2.349586491,
              0.09749871331
             ],
             "test1": [
              2.068415187,
              3.638205028,
              0.0922370157
             ]
            },
            {
             "iteration": 651,
             "learn": [
              0.6069791729,
              0.7884576858,
              0.03147579822
             ],
             "passed_time": 1.656719723,
             "remaining_time": 0.8842614473,
             "test": [
              1.659541495,
              2.349190257,
              0.09747909806
             ],
             "test1": [
              2.067942927,
              3.637052771,
              0.0922207648
             ]
            },
            {
             "iteration": 652,
             "learn": [
              0.6067686871,
              0.7882007095,
              0.03146167063
             ],
             "passed_time": 1.658456825,
             "remaining_time": 0.8812932896,
             "test": [
              1.659643401,
              2.349328891,
              0.09749129715
             ],
             "test1": [
              2.068128722,
              3.637098155,
              0.0922277743
             ]
            },
            {
             "iteration": 653,
             "learn": [
              0.6065759513,
              0.7879915249,
              0.0314427343
             ],
             "passed_time": 1.660205678,
             "remaining_time": 0.878335114,
             "test": [
              1.659823184,
              2.349473424,
              0.09749780192
             ],
             "test1": [
              2.067922445,
              3.636502894,
              0.09221291487
             ]
            },
            {
             "iteration": 654,
             "learn": [
              0.6052674856,
              0.786406366,
              0.03139425992
             ],
             "passed_time": 1.662183203,
             "remaining_time": 0.8755010764,
             "test": [
              1.65925553,
              2.349171707,
              0.09746425287
             ],
             "test1": [
              2.068352976,
              3.636473661,
              0.09224142047
             ]
            },
            {
             "iteration": 655,
             "learn": [
              0.6050875247,
              0.7862012071,
              0.03138020385
             ],
             "passed_time": 1.664044818,
             "remaining_time": 0.8726088681,
             "test": [
              1.659435498,
              2.349435611,
              0.09748485924
             ],
             "test1": [
              2.068405364,
              3.636396965,
              0.09225449929
             ]
            },
            {
             "iteration": 656,
             "learn": [
              0.6031235145,
              0.7840248458,
              0.03128300912
             ],
             "passed_time": 1.665994043,
             "remaining_time": 0.8697655352,
             "test": [
              1.657700156,
              2.347973485,
              0.09739253851
             ],
             "test1": [
              2.067493454,
              3.635962144,
              0.09221316745
             ]
            },
            {
             "iteration": 657,
             "learn": [
              0.6022095391,
              0.7832494971,
              0.03121062937
             ],
             "passed_time": 1.669577658,
             "remaining_time": 0.8677744058,
             "test": [
              1.658421369,
              2.349387892,
              0.09743383488
             ],
             "test1": [
              2.067367366,
              3.635826488,
              0.09220960134
             ]
            },
            {
             "iteration": 658,
             "learn": [
              0.6013758499,
              0.7821465471,
              0.03117614578
             ],
             "passed_time": 1.671325736,
             "remaining_time": 0.8648286435,
             "test": [
              1.658503617,
              2.348671984,
              0.09743207366
             ],
             "test1": [
              2.066300133,
              3.63446076,
              0.09216859708
             ]
            },
            {
             "iteration": 659,
             "learn": [
              0.600677426,
              0.7811117065,
              0.03114023174
             ],
             "passed_time": 1.673242192,
             "remaining_time": 0.8619732505,
             "test": [
              1.659307997,
              2.349726062,
              0.09745834664
             ],
             "test1": [
              2.065451668,
              3.634047865,
              0.0921481936
             ]
            },
            {
             "iteration": 660,
             "learn": [
              0.600552726,
              0.7809636131,
              0.03112895404
             ],
             "passed_time": 1.675171367,
             "remaining_time": 0.8591272216,
             "test": [
              1.659613914,
              2.35004907,
              0.09750963937
             ],
             "test1": [
              2.065644331,
              3.634104245,
              0.09217489672
             ]
            },
            {
             "iteration": 661,
             "learn": [
              0.5994365151,
              0.7791056745,
              0.03106098087
             ],
             "passed_time": 1.677259318,
             "remaining_time": 0.8563650293,
             "test": [
              1.659516573,
              2.349970391,
              0.0974980545
             ],
             "test1": [
              2.065930051,
              3.63378683,
              0.09218603199
             ]
            },
            {
             "iteration": 662,
             "learn": [
              0.5986747993,
              0.7780617261,
              0.03103245187
             ],
             "passed_time": 1.679093631,
             "remaining_time": 0.853475948,
             "test": [
              1.658990547,
              2.350210991,
              0.09748157515
             ],
             "test1": [
              2.065952504,
              3.633883622,
              0.09218263873
             ]
            },
            {
             "iteration": 663,
             "learn": [
              0.5984473699,
              0.7777071334,
              0.03102441576
             ],
             "passed_time": 1.680943252,
             "remaining_time": 0.8505977904,
             "test": [
              1.659148023,
              2.35042657,
              0.09748664237
             ],
             "test1": [
              2.065736207,
              3.633821181,
              0.09217495136
             ]
            },
            {
             "iteration": 664,
             "learn": [
              0.5981074172,
              0.7773677354,
              0.03099554652
             ],
             "passed_time": 1.682743116,
             "remaining_time": 0.8476976599,
             "test": [
              1.65918042,
              2.350709644,
              0.09747400531
             ],
             "test1": [
              2.065573761,
              3.633262912,
              0.09217134064
             ]
            },
            {
             "iteration": 665,
             "learn": [
              0.5969278762,
              0.7760555574,
              0.03095097518
             ],
             "passed_time": 1.685063805,
             "remaining_time": 0.8450620281,
             "test": [
              1.659166781,
              2.350421754,
              0.09747425517
             ],
             "test1": [
              2.065265135,
              3.632893151,
              0.09216160283
             ]
            },
            {
             "iteration": 666,
             "learn": [
              0.5957052043,
              0.7745288747,
              0.03087379344
             ],
             "passed_time": 1.686859334,
             "remaining_time": 0.8421651549,
             "test": [
              1.658842398,
              2.349925627,
              0.09743580404
             ],
             "test1": [
              2.064982486,
              3.632694117,
              0.0921556176
             ]
            },
            {
             "iteration": 667,
             "learn": [
              0.5953039041,
              0.7741685305,
              0.03086662761
             ],
             "passed_time": 1.691274822,
             "remaining_time": 0.8405737141,
             "test": [
              1.658774822,
              2.349493635,
              0.09743342241
             ],
             "test1": [
              2.065348299,
              3.632804917,
              0.09216888676
             ]
            },
            {
             "iteration": 668,
             "learn": [
              0.5939322733,
              0.7723907825,
              0.03081382201
             ],
             "passed_time": 1.696476882,
             "remaining_time": 0.8393630016,
             "test": [
              1.659330793,
              2.350988475,
              0.09747111836
             ],
             "test1": [
              2.064751912,
              3.632495649,
              0.092154384
             ]
            },
            {
             "iteration": 669,
             "learn": [
              0.5926056191,
              0.7706996709,
              0.03073290585
             ],
             "passed_time": 1.698437392,
             "remaining_time": 0.8365437901,
             "test": [
              1.660002467,
              2.351089896,
              0.09751414495
             ],
             "test1": [
              2.064391451,
              3.632314791,
              0.09214889576
             ]
            },
            {
             "iteration": 670,
             "learn": [
              0.5925356273,
              0.7706550232,
              0.03073061492
             ],
             "passed_time": 1.700622469,
             "remaining_time": 0.8338372463,
             "test": [
              1.659991246,
              2.35108026,
              0.09751233747
             ],
             "test1": [
              2.064302295,
              3.632126563,
              0.0921482176
             ]
            },
            {
             "iteration": 671,
             "learn": [
              0.5923724893,
              0.7704917184,
              0.03072002186
             ],
             "passed_time": 1.703294431,
             "remaining_time": 0.8313699006,
             "test": [
              1.660001962,
              2.351137231,
              0.09750515221
             ],
             "test1": [
              2.064238963,
              3.632067195,
              0.09213629356
             ]
            },
            {
             "iteration": 672,
             "learn": [
              0.5906825664,
              0.7678445828,
              0.03064280855
             ],
             "passed_time": 1.705596759,
             "remaining_time": 0.8287223481,
             "test": [
              1.658316631,
              2.349279672,
              0.09740602391
             ],
             "test1": [
              2.063254699,
              3.632117242,
              0.09209658033
             ]
            },
            {
             "iteration": 673,
             "learn": [
              0.5901951885,
              0.767279185,
              0.03060097256
             ],
             "passed_time": 1.707125827,
             "remaining_time": 0.8257018097,
             "test": [
              1.658551437,
              2.349861572,
              0.0974133056
             ],
             "test1": [
              2.063740066,
              3.632160726,
              0.09213202726
             ]
            },
            {
             "iteration": 674,
             "learn": [
              0.5892398477,
              0.7657406757,
              0.03055779649
             ],
             "passed_time": 1.709010452,
             "remaining_time": 0.8228568843,
             "test": [
              1.658775837,
              2.350742847,
              0.09742050723
             ],
             "test1": [
              2.064314076,
              3.631602024,
              0.09217222884
             ]
            },
            {
             "iteration": 675,
             "learn": [
              0.5876362777,
              0.7635712549,
              0.03048650596
             ],
             "passed_time": 1.711355944,
             "remaining_time": 0.8202356893,
             "test": [
              1.660700439,
              2.351869547,
              0.09750890292
             ],
             "test1": [
              2.06364379,
              3.631182843,
              0.09214587165
             ]
            },
            {
             "iteration": 676,
             "learn": [
              0.5863870436,
              0.7619394548,
              0.03040182855
             ],
             "passed_time": 1.713087254,
             "remaining_time": 0.8173222793,
             "test": [
              1.660884521,
              2.352142751,
              0.0975216992
             ],
             "test1": [
              2.063007303,
              3.630890567,
              0.09210825546
             ]
            },
            {
             "iteration": 677,
             "learn": [
              0.5851302027,
              0.7604618027,
              0.03035386708
             ],
             "passed_time": 1.714551455,
             "remaining_time": 0.8142854994,
             "test": [
              1.660272211,
              2.351995003,
              0.09749273862
             ],
             "test1": [
              2.062972019,
              3.631119508,
              0.09210298107
             ]
            },
            {
             "iteration": 678,
             "learn": [
              0.584377461,
              0.7595849864,
              0.03032309161
             ],
             "passed_time": 1.716034841,
             "remaining_time": 0.8112624213,
             "test": [
              1.660725152,
              2.352204441,
              0.09750692177
             ],
             "test1": [
              2.062028225,
              3.630508524,
              0.09207178547
             ]
            },
            {
             "iteration": 679,
             "learn": [
              0.5841108259,
              0.759363424,
              0.0303095142
             ],
             "passed_time": 1.718543565,
             "remaining_time": 0.8087263837,
             "test": [
              1.660883746,
              2.352408897,
              0.09752433041
             ],
             "test1": [
              2.062229537,
              3.629989201,
              0.09208456167
             ]
            },
            {
             "iteration": 680,
             "learn": [
              0.5832798678,
              0.758261833,
              0.03027230832
             ],
             "passed_time": 1.720070773,
             "remaining_time": 0.8057306556,
             "test": [
              1.660828808,
              2.352195825,
              0.09750401766
             ],
             "test1": [
              2.061412246,
              3.629400991,
              0.09206249985
             ]
            },
            {
             "iteration": 681,
             "learn": [
              0.5825957287,
              0.7574788601,
              0.03023902265
             ],
             "passed_time": 1.721810722,
             "remaining_time": 0.8028384304,
             "test": [
              1.661059825,
              2.352559501,
              0.09750222207
             ],
             "test1": [
              2.062381938,
              3.630343107,
              0.09211463255
             ]
            },
            {
             "iteration": 682,
             "learn": [
              0.5812500798,
              0.7557233258,
              0.03015395086
             ],
             "passed_time": 1.723267237,
             "remaining_time": 0.7998180294,
             "test": [
              1.661901906,
              2.353674793,
              0.09756165233
             ],
             "test1": [
              2.06372125,
              3.631071767,
              0.09218317755
             ]
            },
            {
             "iteration": 683,
             "learn": [
              0.5799698875,
              0.754317162,
              0.03011022863
             ],
             "passed_time": 1.725045493,
             "remaining_time": 0.7969508417,
             "test": [
              1.662538375,
              2.353792561,
              0.09759943487
             ],
             "test1": [
              2.064067864,
              3.630826105,
              0.09219606491
             ]
            },
            {
             "iteration": 684,
             "learn": [
              0.5786565128,
              0.7523658908,
              0.03004990889
             ],
             "passed_time": 1.726829566,
             "remaining_time": 0.7940895083,
             "test": [
              1.662705743,
              2.354021953,
              0.09761486621
             ],
             "test1": [
              2.064499527,
              3.631173965,
              0.09222619903
             ]
            },
            {
             "iteration": 685,
             "learn": [
              0.5775410996,
              0.7508530202,
              0.03000316518
             ],
             "passed_time": 1.728383999,
             "remaining_time": 0.7911262035,
             "test": [
              1.663212878,
              2.35414779,
              0.09763407401
             ],
             "test1": [
              2.065539432,
              3.63291286,
              0.0922699529
             ]
            },
            {
             "iteration": 686,
             "learn": [
              0.5774358634,
              0.7507540293,
              0.02999748396
             ],
             "passed_time": 1.729911115,
             "remaining_time": 0.7881545546,
             "test": [
              1.663175988,
              2.354114046,
              0.09763063492
             ],
             "test1": [
              2.065392073,
              3.632034266,
              0.09227426278
             ]
            },
            {
             "iteration": 687,
             "learn": [
              0.5768421241,
              0.7494857482,
              0.02995839332
             ],
             "passed_time": 1.731569011,
             "remaining_time": 0.7852464121,
             "test": [
              1.664084327,
              2.35462674,
              0.09766882313
             ],
             "test1": [
              2.064578211,
              3.632272086,
              0.09221454908
             ]
            },
            {
             "iteration": 688,
             "learn": [
              0.5759730068,
              0.7482773816,
              0.02988600296
             ],
             "passed_time": 1.732988594,
             "remaining_time": 0.7822343292,
             "test": [
              1.66367336,
              2.354414991,
              0.09762999305
             ],
             "test1": [
              2.065187189,
              3.633218106,
              0.09221256289
             ]
            },
            {
             "iteration": 689,
             "learn": [
              0.5748732532,
              0.7468033566,
              0.02983900442
             ],
             "passed_time": 1.734480954,
             "remaining_time": 0.7792595592,
             "test": [
              1.663909288,
              2.353910691,
              0.09761906488
             ],
             "test1": [
              2.066223347,
              3.633510562,
              0.0922632358
             ]
            },
            {
             "iteration": 690,
             "learn": [
              0.5740360794,
              0.7455975521,
              0.02979031317
             ],
             "passed_time": 1.735988628,
             "remaining_time": 0.7762959276,
             "test": [
              1.663794481,
              2.354935567,
              0.09761075894
             ],
             "test1": [
              2.066293482,
              3.634107123,
              0.0922573017
             ]
            },
            {
             "iteration": 691,
             "learn": [
              0.5733334341,
              0.744506348,
              0.02974383544
             ],
             "passed_time": 1.737429722,
             "remaining_time": 0.7733068706,
             "test": [
              1.664324234,
              2.355582727,
              0.09765657188
             ],
             "test1": [
              2.066101831,
              3.63342304,
              0.0922554023
             ]
            },
            {
             "iteration": 692,
             "learn": [
              0.5732278552,
              0.7444269466,
              0.02973984594
             ],
             "passed_time": 1.738869026,
             "remaining_time": 0.7703214878,
             "test": [
              1.664286837,
              2.355558907,
              0.09765348694
             ],
             "test1": [
              2.065935055,
              3.633216995,
              0.09225122927
             ]
            },
            {
             "iteration": 693,
             "learn": [
              0.5730804534,
              0.7442167694,
              0.02973445086
             ],
             "passed_time": 1.740450467,
             "remaining_time": 0.7674032317,
             "test": [
              1.664253873,
              2.355554453,
              0.09765254201
             ],
             "test1": [
              2.066052017,
              3.632756107,
              0.09225493022
             ]
            },
            {
             "iteration": 694,
             "learn": [
              0.5726351319,
              0.7437453566,
              0.02971146665
             ],
             "passed_time": 1.742254584,
             "remaining_time": 0.7645865439,
             "test": [
              1.664181281,
              2.355541578,
              0.09765046828
             ],
             "test1": [
              2.065782675,
              3.632667705,
              0.09223829005
             ]
            },
            {
             "iteration": 695,
             "learn": [
              0.5724671644,
              0.7435609718,
              0.02970111007
             ],
             "passed_time": 1.743764807,
             "remaining_time": 0.7616443984,
             "test": [
              1.664139413,
              2.355529269,
              0.09765054851
             ],
             "test1": [
              2.066197512,
              3.632689434,
              0.09226614913
             ]
            },
            {
             "iteration": 696,
             "learn": [
              0.5722730772,
              0.7433929983,
              0.02968781927
             ],
             "passed_time": 1.745359796,
             "remaining_time": 0.7587432111,
             "test": [
              1.664215145,
              2.355641579,
              0.09765954122
             ],
             "test1": [
              2.066068718,
              3.632072613,
              0.09226281359
             ]
            },
            {
             "iteration": 697,
             "learn": [
              0.5709472753,
              0.7412794326,
              0.0296027795
             ],
             "passed_time": 1.746912091,
             "remaining_time": 0.7558272943,
             "test": [
              1.664784168,
              2.356034522,
              0.09768485173
             ],
             "test1": [
              2.065055452,
              3.631569544,
              0.09220840953
             ]
            },
            {
             "iteration": 698,
             "learn": [
              0.5694675647,
              0.7387678034,
              0.02953593294
             ],
             "passed_time": 1.748367117,
             "remaining_time": 0.7528733935,
             "test": [
              1.665175701,
              2.356721298,
              0.09770309211
             ],
             "test1": [
              2.065190855,
              3.631892633,
              0.09220814902
             ]
            },
            {
             "iteration": 699,
             "learn": [
              0.5674681781,
              0.7361713701,
              0.02940390404
             ],
             "passed_time": 1.74978633,
             "remaining_time": 0.7499084273,
             "test": [
              1.66579032,
              2.358275702,
              0.09774091977
             ],
             "test1": [
              2.06692501,
              3.632427026,
              0.09233642949
             ]
            },
            {
             "iteration": 700,
             "learn": [
              0.566364344,
              0.7346661961,
              0.02933065245
             ],
             "passed_time": 1.75139626,
             "remaining_time": 0.747029218,
             "test": [
              1.665400185,
              2.357979559,
              0.09769634387
             ],
             "test1": [
              2.066966118,
              3.632842473,
              0.09233917641
             ]
            },
            {
             "iteration": 701,
             "learn": [
              0.565477232,
              0.7332032652,
              0.02929256652
             ],
             "passed_time": 1.752963825,
             "remaining_time": 0.7441356407,
             "test": [
              1.665303432,
              2.358279974,
              0.0976948774
             ],
             "test1": [
              2.06776589,
              3.633437054,
              0.09236280082
             ]
            },
            {
             "iteration": 702,
             "learn": [
              0.565334956,
              0.7330840769,
              0.0292872238
             ],
             "passed_time": 1.754435017,
             "remaining_time": 0.7412051209,
             "test": [
              1.6652074,
              2.35814389,
              0.09768446293
             ],
             "test1": [
              2.067792787,
              3.633409829,
              0.0923638446
             ]
            },
            {
             "iteration": 703,
             "learn": [
              0.5647288319,
              0.7320911734,
              0.02925452789
             ],
             "passed_time": 1.756210193,
             "remaining_time": 0.7384065582,
             "test": [
              1.665198249,
              2.358298712,
              0.09769662064
             ],
             "test1": [
              2.068138582,
              3.633088488,
              0.09239946424
             ]
            },
            {
             "iteration": 704,
             "learn": [
              0.5629056734,
              0.7294915026,
              0.02916313417
             ],
             "passed_time": 1.757726684,
             "remaining_time": 0.7355026551,
             "test": [
              1.666247493,
              2.358428673,
              0.09772109943
             ],
             "test1": [
              2.067741752,
              3.632630036,
              0.09237651857
             ]
            },
            {
             "iteration": 705,
             "learn": [
              0.5618509546,
              0.7282634927,
              0.0291276182
             ],
             "passed_time": 1.759154274,
             "remaining_time": 0.7325656607,
             "test": [
              1.665243494,
              2.358002802,
              0.09768224109
             ],
             "test1": [
              2.066980334,
              3.631848122,
              0.09235839192
             ]
            },
            {
             "iteration": 706,
             "learn": [
              0.5607420255,
              0.7264473724,
              0.02907498161
             ],
             "passed_time": 1.760661629,
             "remaining_time": 0.7296659933,
             "test": [
              1.665390866,
              2.358315095,
              0.09768410197
             ],
             "test1": [
              2.067733985,
              3.631762788,
              0.09239321759
             ]
            },
            {
             "iteration": 707,
             "learn": [
              0.559495871,
              0.7248238621,
              0.02902793027
             ],
             "passed_time": 1.762142457,
             "remaining_time": 0.7267593183,
             "test": [
              1.66457033,
              2.358379167,
              0.09765252334
             ],
             "test1": [
              2.066856731,
              3.631124668,
              0.09236006724
             ]
            },
            {
             "iteration": 708,
             "learn": [
              0.5590386448,
              0.7243098913,
              0.02900294485
             ],
             "passed_time": 1.763575863,
             "remaining_time": 0.7238372019,
             "test": [
              1.664314496,
              2.358435887,
              0.09763847823
             ],
             "test1": [
              2.067632197,
              3.631925165,
              0.09241799163
             ]
            },
            {
             "iteration": 709,
             "learn": [
              0.5578190343,
              0.7223685082,
              0.02892792903
             ],
             "passed_time": 1.765058689,
             "remaining_time": 0.7209394646,
             "test": [
              1.664535342,
              2.357991397,
              0.09763134719
             ],
             "test1": [
              2.067685981,
              3.630816294,
              0.09240952219
             ]
            },
            {
             "iteration": 710,
             "learn": [
              0.5559357325,
              0.7200035248,
              0.02885853684
             ],
             "passed_time": 1.766563831,
             "remaining_time": 0.718054778,
             "test": [
              1.665840165,
              2.359209364,
              0.09767104476
             ],
             "test1": [
              2.068240985,
              3.631338583,
              0.09243320914
             ]
            },
            {
             "iteration": 711,
             "learn": [
              0.555785924,
              0.719763459,
              0.02885024472
             ],
             "passed_time": 1.768038946,
             "remaining_time": 0.7151618208,
             "test": [
              1.665613012,
              2.358829859,
              0.09764170579
             ],
             "test1": [
              2.068329817,
              3.630834176,
              0.09243739868
             ]
            },
            {
             "iteration": 712,
             "learn": [
              0.5557266748,
              0.7197020245,
              0.0288466118
             ],
             "passed_time": 1.769865863,
             "remaining_time": 0.7124144499,
             "test": [
              1.665605284,
              2.358826086,
              0.09764087999
             ],
             "test1": [
              2.068373726,
              3.630639852,
              0.09244608102
             ]
            },
            {
             "iteration": 713,
             "learn": [
              0.5552745914,
              0.7192109265,
              0.02880194728
             ],
             "passed_time": 1.771375309,
             "remaining_time": 0.7095424908,
             "test": [
              1.665613478,
              2.358722318,
              0.09762291345
             ],
             "test1": [
              2.068079639,
              3.630125227,
              0.09243201537
             ]
            },
            {
             "iteration": 714,
             "learn": [
              0.554230765,
              0.7177599539,
              0.02875009157
             ],
             "passed_time": 1.772890653,
             "remaining_time": 0.7066766937,
             "test": [
              1.665083359,
              2.358130922,
              0.09760710617
             ],
             "test1": [
              2.068370982,
              3.630836947,
              0.09245168309
             ]
            },
            {
             "iteration": 715,
             "learn": [
              0.553143582,
              0.7165612416,
              0.02871365323
             ],
             "passed_time": 1.774346289,
             "remaining_time": 0.7037909863,
             "test": [
              1.665196729,
              2.357474887,
              0.09760844994
             ],
             "test1": [
              2.068020812,
              3.63075133,
              0.09243536038
             ]
            },
            {
             "iteration": 716,
             "learn": [
              0.5529052291,
              0.7163555995,
              0.0286992126
             ],
             "passed_time": 1.775805888,
             "remaining_time": 0.7009108315,
             "test": [
              1.665292273,
              2.357504253,
              0.09761777632
             ],
             "test1": [
              2.068012868,
              3.630225939,
              0.0924320313
             ]
            },
            {
             "iteration": 717,
             "learn": [
              0.5528176483,
              0.7162626044,
              0.02869557938
             ],
             "passed_time": 1.777613448,
             "remaining_time": 0.6981712984,
             "test": [
              1.665287712,
              2.357500161,
              0.09761735106
             ],
             "test1": [
              2.067941608,
              3.630105723,
              0.09243083681
             ]
            },
            {
             "iteration": 718,
             "learn": [
              0.5515387361,
              0.7145610951,
              0.02863752996
             ],
             "passed_time": 1.77915092,
             "remaining_time": 0.6953288018,
             "test": [
              1.665360294,
              2.35835728,
              0.0976254934
             ],
             "test1": [
              2.067644502,
              3.630640975,
              0.09240503485
             ]
            },
            {
             "iteration": 719,
             "learn": [
              0.5509022591,
              0.7136087068,
              0.02861012542
             ],
             "passed_time": 1.780699762,
             "remaining_time": 0.6924943518,
             "test": [
              1.665757208,
              2.357717371,
              0.0976306643
             ],
             "test1": [
              2.068138048,
              3.630911202,
              0.09242151269
             ]
            },
            {
             "iteration": 720,
             "learn": [
              0.5507467571,
              0.7134978705,
              0.02860076372
             ],
             "passed_time": 1.78215293,
             "remaining_time": 0.6896264458,
             "test": [
              1.665761304,
              2.357721036,
              0.09763104617
             ],
             "test1": [
              2.068338102,
              3.630736732,
              0.09243818585
             ]
            },
            {
             "iteration": 721,
             "learn": [
              0.5495789013,
              0.7119626929,
              0.02855661074
             ],
             "passed_time": 1.783587376,
             "remaining_time": 0.6867552499,
             "test": [
              1.665864506,
              2.358139418,
              0.09763969296
             ],
             "test1": [
              2.069059269,
              3.631677613,
              0.09245892343
             ]
            },
            {
             "iteration": 722,
             "learn": [
              0.5483565482,
              0.7103497442,
              0.02848881752
             ],
             "passed_time": 1.785009174,
             "remaining_time": 0.6838831829,
             "test": [
              1.665710229,
              2.358156807,
              0.0976248228
             ],
             "test1": [
              2.06911754,
              3.631511716,
              0.09246797222
             ]
            },
            {
             "iteration": 723,
             "learn": [
              0.5472538347,
              0.7086889202,
              0.0284375818
             ],
             "passed_time": 1.78666653,
             "remaining_time": 0.6811049202,
             "test": [
              1.666333856,
              2.358234045,
              0.09766705816
             ],
             "test1": [
              2.070034672,
              3.63175067,
              0.09251490934
             ]
            },
            {
             "iteration": 724,
             "learn": [
              0.546624761,
              0.7073125158,
              0.02839693503
             ],
             "passed_time": 1.788443045,
             "remaining_time": 0.6783749481,
             "test": [
              1.665636491,
              2.356734866,
              0.09765169731
             ],
             "test1": [
              2.069807647,
              3.632404017,
              0.09248892037
             ]
            },
            {
             "iteration": 725,
             "learn": [
              0.5458429188,
              0.7061110347,
              0.02835346573
             ],
             "passed_time": 1.790001779,
             "remaining_time": 0.6755654095,
             "test": [
              1.664767109,
              2.356199226,
              0.0975809298
             ],
             "test1": [
              2.07022053,
              3.632613789,
              0.09250480767
             ]
            },
            {
             "iteration": 726,
             "learn": [
              0.5457151687,
              0.7059990954,
              0.02834744226
             ],
             "passed_time": 1.791599826,
             "remaining_time": 0.6727740751,
             "test": [
              1.664775848,
              2.356207078,
              0.09758174448
             ],
             "test1": [
              2.070514512,
              3.632421275,
              0.09252593467
             ]
            },
            {
             "iteration": 727,
             "learn": [
              0.5439431278,
              0.7035951065,
              0.02826790951
             ],
             "passed_time": 1.793205561,
             "remaining_time": 0.6699888911,
             "test": [
              1.665742462,
              2.356468748,
              0.09762404246
             ],
             "test1": [
              2.069900892,
              3.632116171,
              0.09250169782
             ]
            },
            {
             "iteration": 728,
             "learn": [
              0.5437410106,
              0.7034204121,
              0.02825401269
             ],
             "passed_time": 1.794664873,
             "remaining_time": 0.667152511,
             "test": [
              1.665731604,
              2.356361635,
              0.0976220665
             ],
             "test1": [
              2.06976947,
              3.631599914,
              0.09249335324
             ]
            },
            {
             "iteration": 729,
             "learn": [
              0.5425239998,
              0.7019007723,
              0.02820555554
             ],
             "passed_time": 1.796228432,
             "remaining_time": 0.664358461,
             "test": [
              1.665490303,
              2.355680644,
              0.09761901869
             ],
             "test1": [
              2.07073874,
              3.632143305,
              0.092527944
             ]
            },
            {
             "iteration": 730,
             "learn": [
              0.5418716578,
              0.70079512,
              0.02817971915
             ],
             "passed_time": 1.797746806,
             "remaining_time": 0.6615511503,
             "test": [
              1.665831403,
              2.355710823,
              0.09763724773
             ],
             "test1": [
              2.070570447,
              3.631670412,
              0.09252936484
             ]
            },
            {
             "iteration": 731,
             "learn": [
              0.5417308139,
              0.700651589,
              0.02817538454
             ],
             "passed_time": 1.799176452,
             "remaining_time": 0.6587148759,
             "test": [
              1.665809926,
              2.355691848,
              0.09763456607
             ],
             "test1": [
              2.070528807,
              3.631672547,
              0.09252795069
             ]
            },
            {
             "iteration": 732,
             "learn": [
              0.5415768627,
              0.7005176022,
              0.02816402053
             ],
             "passed_time": 1.800837994,
             "remaining_time": 0.655966909,
             "test": [
              1.666038786,
              2.355892193,
              0.09766205266
             ],
             "test1": [
              2.070661677,
              3.630852806,
              0.0925425166
             ]
            },
            {
             "iteration": 733,
             "learn": [
              0.5414252436,
              0.7003726299,
              0.02815989921
             ],
             "passed_time": 1.802320023,
             "remaining_time": 0.6531568476,
             "test": [
              1.665965312,
              2.355779651,
              0.09765380244
             ],
             "test1": [
              2.07075948,
              3.631009236,
              0.09254395446
             ]
            },
            {
             "iteration": 734,
             "learn": [
              0.5403111488,
              0.6982658479,
              0.02808904692
             ],
             "passed_time": 1.803846568,
             "remaining_time": 0.6503664498,
             "test": [
              1.665607996,
              2.355807276,
              0.09760291456
             ],
             "test1": [
              2.07062815,
              3.631460234,
              0.09254612606
             ]
            },
            {
             "iteration": 735,
             "learn": [
              0.5393227619,
              0.6969760487,
              0.02804619688
             ],
             "passed_time": 1.805286006,
             "remaining_time": 0.6475482412,
             "test": [
              1.666171564,
              2.356822869,
              0.09763271335
             ],
             "test1": [
              2.071174263,
              3.632291434,
              0.09254864192
             ]
            },
            {
             "iteration": 736,
             "learn": [
              0.538475142,
              0.6961003057,
              0.02800862075
             ],
             "passed_time": 1.806898023,
             "remaining_time": 0.6447953595,
             "test": [
              1.666066004,
              2.356286001,
              0.09762511195
             ],
             "test1": [
              2.071111669,
              3.632347772,
              0.09255386928
             ]
            },
            {
             "iteration": 737,
             "learn": [
              0.5379206431,
              0.6950128702,
              0.02798261169
             ],
             "passed_time": 1.80841418,
             "remaining_time": 0.6420115383,
             "test": [
              1.665813228,
              2.355910073,
              0.09759503122
             ],
             "test1": [
              2.070546894,
              3.631254017,
              0.09252851257
             ]
            },
            {
             "iteration": 738,
             "learn": [
              0.5370837401,
              0.6938830288,
              0.02794005239
             ],
             "passed_time": 1.809923693,
             "remaining_time": 0.639228801,
             "test": [
              1.665788397,
              2.356588254,
              0.09758875732
             ],
             "test1": [
              2.070522071,
              3.631504466,
              0.09252339318
             ]
            },
            {
             "iteration": 739,
             "learn": [
              0.5361960739,
              0.6926270983,
              0.02790484811
             ],
             "passed_time": 1.81137444,
             "remaining_time": 0.6364288575,
             "test": [
              1.665934369,
              2.357082418,
              0.09758731782
             ],
             "test1": [
              2.069912728,
              3.631361523,
              0.09250429162
             ]
            },
            {
             "iteration": 740,
             "learn": [
              0.5360978415,
              0.6925373245,
              0.02789966978
             ],
             "passed_time": 1.812805721,
             "remaining_time": 0.6336257513,
             "test": [
              1.665955975,
              2.357102797,
              0.09758984172
             ],
             "test1": [
              2.070032113,
              3.6313356,
              0.09251884251
             ]
            },
            {
             "iteration": 741,
             "learn": [
              0.5350567497,
              0.6911278756,
              0.02786045719
             ],
             "passed_time": 1.814238412,
             "remaining_time": 0.6308268331,
             "test": [
              1.665793307,
              2.357174439,
              0.09758486036
             ],
             "test1": [
              2.069518687,
              3.630983184,
              0.0925049019
             ]
            },
            {
             "iteration": 742,
             "learn": [
              0.5341517669,
              0.6897255985,
              0.02782794877
             ],
             "passed_time": 1.815842838,
             "remaining_time": 0.6280909952,
             "test": [
              1.665432697,
              2.356296653,
              0.09755425051
             ],
             "test1": [
              2.069544812,
              3.630265131,
              0.09250900885
             ]
            },
            {
             "iteration": 743,
             "learn": [
              0.5335229437,
              0.688833351,
              0.02779905952
             ],
             "passed_time": 1.817686195,
             "remaining_time": 0.6254404113,
             "test": [
              1.666598929,
              2.356984875,
              0.09760433133
             ],
             "test1": [
              2.069098365,
              3.630061384,
              0.09249543797
             ]
            },
            {
             "iteration": 744,
             "learn": [
              0.533337114,
              0.6886334141,
              0.02779528117
             ],
             "passed_time": 1.819113367,
             "remaining_time": 0.6226495418,
             "test": [
              1.66655297,
              2.356971297,
              0.09760295578
             ],
             "test1": [
              2.069273804,
              3.630075664,
              0.0925030038
             ]
            },
            {
             "iteration": 745,
             "learn": [
              0.5332606914,
              0.6885760876,
              0.02779177623
             ],
             "passed_time": 1.820538386,
             "remaining_time": 0.6198615953,
             "test": [
              1.666492464,
              2.356857519,
              0.09759359145
             ],
             "test1": [
              2.069157344,
              3.629972868,
              0.09249998197
             ]
            },
            {
             "iteration": 746,
             "learn": [
              0.5324292202,
              0.6872647251,
              0.02774160255
             ],
             "passed_time": 1.82204584,
             "remaining_time": 0.6171052174,
             "test": [
              1.66661278,
              2.356872646,
              0.09759446033
             ],
             "test1": [
              2.068664555,
              3.629621599,
              0.09247739705
             ]
            },
            {
             "iteration": 747,
             "learn": [
              0.5309464172,
              0.6855030478,
              0.02767781733
             ],
             "passed_time": 1.82351739,
             "remaining_time": 0.6143400833,
             "test": [
              1.667608755,
              2.359041323,
              0.09763046999
             ],
             "test1": [
              2.06797975,
              3.629397205,
              0.09244477195
             ]
            },
            {
             "iteration": 748,
             "learn": [
              0.5308949955,
              0.6854142301,
              0.02767448162
             ],
             "passed_time": 1.825098707,
             "remaining_time": 0.6116151874,
             "test": [
              1.667670024,
              2.358963805,
              0.09763555318
             ],
             "test1": [
              2.068064514,
              3.629256197,
              0.09245405636
             ]
            },
            {
             "iteration": 749,
             "learn": [
              0.5301882016,
              0.6843437494,
              0.0276425779
             ],
             "passed_time": 1.826587536,
             "remaining_time": 0.6088625122,
             "test": [
              1.667993291,
              2.359186483,
              0.09763605369
             ],
             "test1": [
              2.067757067,
              3.629115811,
              0.09244881739
             ]
            },
            {
             "iteration": 750,
             "learn": [
              0.5300412248,
              0.6841975486,
              0.02763429739
             ],
             "passed_time": 1.828083017,
             "remaining_time": 0.6061154078,
             "test": [
              1.668113498,
              2.359207476,
              0.09764790817
             ],
             "test1": [
              2.06781398,
              3.628491073,
              0.09245870478
             ]
            },
            {
             "iteration": 751,
             "learn": [
              0.5299765256,
              0.6841212053,
              0.02763178948
             ],
             "passed_time": 1.829555333,
             "remaining_time": 0.6033639928,
             "test": [
              1.668109841,
              2.359204233,
              0.09764756725
             ],
             "test1": [
              2.067911365,
              3.628297002,
              0.0924699873
             ]
            },
            {
             "iteration": 752,
             "learn": [
              0.5292696042,
              0.6832525265,
              0.02760623976
             ],
             "passed_time": 1.830972759,
             "remaining_time": 0.6005979699,
             "test": [
              1.668309301,
              2.359466999,
              0.09765744042
             ],
             "test1": [
              2.067613236,
              3.628130327,
              0.0924632858
             ]
            },
            {
             "iteration": 753,
             "learn": [
              0.528511036,
              0.6821134943,
              0.02758138252
             ],
             "passed_time": 1.832636601,
             "remaining_time": 0.5979159202,
             "test": [
              1.667148997,
              2.35844976,
              0.09761504503
             ],
             "test1": [
              2.067801361,
              3.628021846,
              0.09247130543
             ]
            },
            {
             "iteration": 754,
             "learn": [
              0.5275656732,
              0.6807531785,
              0.02753733112
             ],
             "passed_time": 1.834098468,
             "remaining_time": 0.5951710261,
             "test": [
              1.668404895,
              2.359105891,
              0.09767673913
             ],
             "test1": [
              2.06827362,
              3.627679229,
              0.09250530443
             ]
            },
            {
             "iteration": 755,
             "learn": [
              0.5274398371,
              0.6805520079,
              0.02752684112
             ],
             "passed_time": 1.835625589,
             "remaining_time": 0.592450587,
             "test": [
              1.668434841,
              2.359132229,
              0.09768152197
             ],
             "test1": [
              2.068468941,
              3.62769196,
              0.09252485697
             ]
            },
            {
             "iteration": 756,
             "learn": [
              0.5261282777,
              0.6788535084,
              0.02746310355
             ],
             "passed_time": 1.837171569,
             "remaining_time": 0.5897393544,
             "test": [
              1.668766286,
              2.359248066,
              0.09769015408
             ],
             "test1": [
              2.067373603,
              3.626611706,
              0.09248005027
             ]
            },
            {
             "iteration": 757,
             "learn": [
              0.5259189539,
              0.6785309297,
              0.02744709818
             ],
             "passed_time": 1.838707555,
             "remaining_time": 0.5870280055,
             "test": [
              1.668750342,
              2.359228564,
              0.09768533368
             ],
             "test1": [
              2.067564584,
              3.626693679,
              0.09249177875
             ]
            },
            {
             "iteration": 758,
             "learn": [
              0.5246971243,
              0.6769278005,
              0.02736779524
             ],
             "passed_time": 1.840227666,
             "remaining_time": 0.5843147135,
             "test": [
              1.66880252,
              2.359426562,
              0.09765197595
             ],
             "test1": [
              2.066996953,
              3.625995324,
              0.09246701995
             ]
            },
            {
             "iteration": 759,
             "learn": [
              0.5246099613,
              0.6768252735,
              0.02736281862
             ],
             "passed_time": 1.841671567,
             "remaining_time": 0.5815804948,
             "test": [
              1.668931459,
              2.359582342,
              0.09766459079
             ],
             "test1": [
              2.067220712,
              3.626012289,
              0.09247800651
             ]
            },
            {
             "iteration": 760,
             "learn": [
              0.524029087,
              0.6760250298,
              0.02734090612
             ],
             "passed_time": 1.843125562,
             "remaining_time": 0.5788528376,
             "test": [
              1.669307775,
              2.360035354,
              0.09769154328
             ],
             "test1": [
              2.067529609,
              3.625769365,
              0.09249169544
             ]
            },
            {
             "iteration": 761,
             "learn": [
              0.5227183291,
              0.6745167428,
              0.02728916811
             ],
             "passed_time": 1.844666374,
             "remaining_time": 0.5761556391,
             "test": [
              1.669428854,
              2.359508662,
              0.09768965498
             ],
             "test1": [
              2.068112845,
              3.626002786,
              0.09250097311
             ]
            },
            {
             "iteration": 762,
             "learn": [
              0.5219091589,
              0.6734553218,
              0.02725994546
             ],
             "passed_time": 1.846232075,
             "remaining_time": 0.573469203,
             "test": [
              1.669749673,
              2.358745906,
              0.09771319612
             ],
             "test1": [
              2.068015385,
              3.625757559,
              0.0925089508
             ]
            },
            {
             "iteration": 763,
             "learn": [
              0.5208691687,
              0.6722286104,
              0.02720273989
             ],
             "passed_time": 1.847885946,
             "remaining_time": 0.5708129363,
             "test": [
              1.670441014,
              2.359981954,
              0.09775027398
             ],
             "test1": [
              2.067517786,
              3.625494189,
              0.09247503794
             ]
            },
            {
             "iteration": 764,
             "learn": [
              0.5201014572,
              0.6712913296,
              0.027160401
             ],
             "passed_time": 1.849323421,
             "remaining_time": 0.5680928155,
             "test": [
              1.669588415,
              2.359187683,
              0.09766637806
             ],
             "test1": [
              2.067391121,
              3.626344443,
              0.09244611693
             ]
            },
            {
             "iteration": 765,
             "learn": [
              0.518639888,
              0.6693613527,
              0.02707038134
             ],
             "passed_time": 1.850978164,
             "remaining_time": 0.5654424157,
             "test": [
              1.668947922,
              2.35933035,
              0.09762390194
             ],
             "test1": [
              2.068220762,
              3.626756933,
              0.09249790407
             ]
            },
            {
             "iteration": 766,
             "learn": [
              0.5183375611,
              0.6690073297,
              0.02705096472
             ],
             "passed_time": 1.852382478,
             "remaining_time": 0.5627185363,
             "test": [
              1.66915219,
              2.359604586,
              0.09763628105
             ],
             "test1": [
              2.068357092,
              3.626695091,
              0.0925019833
             ]
            },
            {
             "iteration": 767,
             "learn": [
              0.5174544211,
              0.6677745199,
              0.02700913869
             ],
             "passed_time": 1.853937185,
             "remaining_time": 0.5600435245,
             "test": [
              1.669484358,
              2.359558044,
              0.09766106848
             ],
             "test1": [
              2.068720063,
              3.627930249,
              0.09250809946
             ]
            },
            {
             "iteration": 768,
             "learn": [
              0.5160368049,
              0.6659370136,
              0.02694790066
             ],
             "passed_time": 1.855430703,
             "remaining_time": 0.5573530461,
             "test": [
              1.670106255,
              2.359393746,
              0.0976663539
             ],
             "test1": [
              2.068449598,
              3.627401414,
              0.09250019027
             ]
            },
            {
             "iteration": 769,
             "learn": [
              0.515405832,
              0.6647484317,
              0.02692086097
             ],
             "passed_time": 1.85692748,
             "remaining_time": 0.5546666499,
             "test": [
              1.670976604,
              2.360084119,
              0.09769767937
             ],
             "test1": [
              2.067987113,
              3.627126992,
              0.09247078037
             ]
            },
            {
             "iteration": 770,
             "learn": [
              0.5152140473,
              0.6645963334,
              0.02690958407
             ],
             "passed_time": 1.858369685,
             "remaining_time": 0.5519671308,
             "test": [
              1.671072242,
              2.360087684,
              0.09770631288
             ],
             "test1": [
              2.067994829,
              3.626953599,
              0.09247727513
             ]
            },
            {
             "iteration": 771,
             "learn": [
              0.5140670467,
              0.6632723881,
              0.0268729729
             ],
             "passed_time": 1.859823227,
             "remaining_time": 0.5492742174,
             "test": [
              1.67081436,
              2.359627069,
              0.09769657213
             ],
             "test1": [
              2.068349769,
              3.627477969,
              0.09248623397
             ]
            },
            {
             "iteration": 772,
             "learn": [
              0.5131346831,
              0.662323497,
              0.02684087456
             ],
             "passed_time": 1.861292155,
             "remaining_time": 0.5465890288,
             "test": [
              1.670457588,
              2.358526264,
              0.09768674378
             ],
             "test1": [
              2.068211505,
              3.627004796,
              0.09248398784
             ]
            },
            {
             "iteration": 773,
             "learn": [
              0.5118265576,
              0.6606026793,
              0.02677636101
             ],
             "passed_time": 1.862811673,
             "remaining_time": 0.5439217546,
             "test": [
              1.670459413,
              2.358745075,
              0.09766917869
             ],
             "test1": [
              2.06854661,
              3.627370895,
              0.09251611021
             ]
            },
            {
             "iteration": 774,
             "learn": [
              0.511687506,
              0.6604867719,
              0.02677257547
             ],
             "passed_time": 1.864278175,
             "remaining_time": 0.5412420508,
             "test": [
              1.670304054,
              2.358601804,
              0.09765709271
             ],
             "test1": [
              2.068502103,
              3.627319595,
              0.09251536758
             ]
            },
            {
             "iteration": 775,
             "learn": [
              0.5109241298,
              0.6592716721,
              0.02673197202
             ],
             "passed_time": 1.86580497,
             "remaining_time": 0.5385828781,
             "test": [
              1.671848911,
              2.359518833,
              0.097739875
             ],
             "test1": [
              2.068485134,
              3.626960958,
              0.0925271038
             ]
            },
            {
             "iteration": 776,
             "learn": [
              0.5097252997,
              0.6575000307,
              0.026659869
             ],
             "passed_time": 1.867205463,
             "remaining_time": 0.5358903709,
             "test": [
              1.671759474,
              2.358755104,
              0.0977450852
             ],
             "test1": [
              2.068330632,
              3.627048519,
              0.09250843772
             ]
            },
            {
             "iteration": 777,
             "learn": [
              0.5095998215,
              0.6573933786,
              0.02664921001
             ],
             "passed_time": 1.868628736,
             "remaining_time": 0.5332076857,
             "test": [
              1.671903947,
              2.358893428,
              0.09777240955
             ],
             "test1": [
              2.068393679,
              3.62703885,
              0.09252329801
             ]
            },
            {
             "iteration": 778,
             "learn": [
              0.5087068257,
              0.6561952235,
              0.02661864
             ],
             "passed_time": 1.870061639,
             "remaining_time": 0.5305309657,
             "test": [
              1.671745459,
              2.358790601,
              0.09775707988
             ],
             "test1": [
              2.067577601,
              3.62654302,
              0.09249954552
             ]
            },
            {
             "iteration": 779,
             "learn": [
              0.5079951457,
              0.6551664081,
              0.02657494733
             ],
             "passed_time": 1.871633624,
             "remaining_time": 0.5278966632,
             "test": [
              1.671016149,
              2.358189667,
              0.09771515826
             ],
             "test1": [
              2.066857274,
              3.625981814,
              0.09246631868
             ]
            },
            {
             "iteration": 780,
             "learn": [
              0.507136047,
              0.654194233,
              0.02654844635
             ],
             "passed_time": 1.87319243,
             "remaining_time": 0.5252613857,
             "test": [
              1.670821504,
              2.357458695,
              0.09770353094
             ],
             "test1": [
              2.067264663,
              3.626639799,
              0.09247314423
             ]
            },
            {
             "iteration": 781,
             "learn": [
              0.505956877,
              0.6527791824,
              0.02649769657
             ],
             "passed_time": 1.874679706,
             "remaining_time": 0.5226089207,
             "test": [
              1.669931948,
              2.356763913,
              0.09766630815
             ],
             "test1": [
              2.068026748,
              3.627280112,
              0.09250363242
             ]
            },
            {
             "iteration": 782,
             "learn": [
              0.5051343978,
              0.651965724,
              0.02647403783
             ],
             "passed_time": 1.876143941,
             "remaining_time": 0.5199530462,
             "test": [
              1.669940235,
              2.356236105,
              0.09766815382
             ],
             "test1": [
              2.067504774,
              3.626606176,
              0.0924887532
             ]
            },
            {
             "iteration": 783,
             "learn": [
              0.5048759794,
              0.6516838586,
              0.02645457972
             ],
             "passed_time": 1.877633729,
             "remaining_time": 0.5173072519,
             "test": [
              1.670018671,
              2.356590991,
              0.09766631612
             ],
             "test1": [
              2.067369291,
              3.626217356,
              0.0924840717
             ]
            },
            {
             "iteration": 784,
             "learn": [
              0.5036695323,
              0.6502332021,
              0.0263728772
             ],
             "passed_time": 1.879152775,
             "remaining_time": 0.514672416,
             "test": [
              1.669301713,
              2.355810064,
              0.09759624203
             ],
             "test1": [
              2.066868673,
              3.626882583,
              0.09244994849
             ]
            },
            {
             "iteration": 785,
             "learn": [
              0.5029277708,
              0.6491810493,
              0.026345278
             ],
             "passed_time": 1.880649963,
             "remaining_time": 0.5120344683,
             "test": [
              1.669524613,
              2.355211731,
              0.09759739147
             ],
             "test1": [
              2.067098519,
              3.62715492,
              0.09245609594
             ]
            },
            {
             "iteration": 786,
             "learn": [
              0.5016937825,
              0.6474654974,
              0.0262898334
             ],
             "passed_time": 1.882451756,
             "remaining_time": 0.5094818603,
             "test": [
              1.670456316,
              2.355919606,
              0.09764111142
             ],
             "test1": [
              2.067634931,
              3.626922922,
              0.09248905861
             ]
            },
            {
             "iteration": 787,
             "learn": [
              0.5011351759,
              0.6468508005,
              0.0262442586
             ],
             "passed_time": 1.883907431,
             "remaining_time": 0.5068380397,
             "test": [
              1.670209976,
              2.355786503,
              0.09761826125
             ],
             "test1": [
              2.067886486,
              3.62707131,
              0.09248862188
             ]
            },
            {
             "iteration": 788,
             "learn": [
              0.5004219045,
              0.6460043037,
              0.02621276613
             ],
             "passed_time": 1.885432964,
             "remaining_time": 0.5042159131,
             "test": [
              1.671192895,
              2.356695165,
              0.09767834239
             ],
             "test1": [
              2.068375307,
              3.628204745,
              0.09250789458
             ]
            },
            {
             "iteration": 789,
             "learn": [
              0.4999649735,
              0.6454348344,
              0.02619810071
             ],
             "passed_time": 1.886861887,
             "remaining_time": 0.5015708814,
             "test": [
              1.671259829,
              2.356667354,
              0.09767476163
             ],
             "test1": [
              2.067640934,
              3.627680754,
              0.09247871406
             ]
            },
            {
             "iteration": 790,
             "learn": [
              0.4992018318,
              0.64425475,
              0.02615124901
             ],
             "passed_time": 1.888345356,
             "remaining_time": 0.4989433368,
             "test": [
              1.670840825,
              2.356049737,
              0.09763265576
             ],
             "test1": [
              2.06738115,
              3.627449209,
              0.09245571987
             ]
            },
            {
             "iteration": 791,
             "learn": [
              0.4984101307,
              0.6431538835,
              0.0261000109
             ],
             "passed_time": 1.893804729,
             "remaining_time": 0.497362858,
             "test": [
              1.670744969,
              2.356079351,
              0.09761647478
             ],
             "test1": [
              2.067444843,
              3.627961679,
              0.09245829822
             ]
            },
            {
             "iteration": 792,
             "learn": [
              0.4982676167,
              0.6430193447,
              0.02609156417
             ],
             "passed_time": 1.896066776,
             "remaining_time": 0.4949379856,
             "test": [
              1.670818604,
              2.356089942,
              0.09762646698
             ],
             "test1": [
              2.067679638,
              3.627889261,
              0.09247293384
             ]
            },
            {
             "iteration": 793,
             "learn": [
              0.4974391616,
              0.6419756138,
              0.02606456538
             ],
             "passed_time": 1.897881851,
             "remaining_time": 0.4923975584,
             "test": [
              1.670599513,
              2.35594182,
              0.09762067821
             ],
             "test1": [
              2.067914745,
              3.627801792,
              0.09248487756
             ]
            },
            {
             "iteration": 794,
             "learn": [
              0.496605098,
              0.6408402064,
              0.0260305312
             ],
             "passed_time": 1.899611575,
             "remaining_time": 0.4898369469,
             "test": [
              1.670286672,
              2.355402774,
              0.09758549142
             ],
             "test1": [
              2.067200383,
              3.627342425,
              0.09246113144
             ]
            },
            {
             "iteration": 795,
             "learn": [
              0.4951980693,
              0.6391283539,
              0.02597426148
             ],
             "passed_time": 1.901206757,
             "remaining_time": 0.4872439427,
             "test": [
              1.669444148,
              2.355316997,
              0.09755670431
             ],
             "test1": [
              2.067138552,
              3.627611287,
              0.09245723847
             ]
            },
            {
             "iteration": 796,
             "learn": [
              0.4943516438,
              0.6379780182,
              0.02592512104
             ],
             "passed_time": 1.902655108,
             "remaining_time": 0.4846160439,
             "test": [
              1.670353148,
              2.355834303,
              0.09759798095
             ],
             "test1": [
              2.066655521,
              3.627432906,
              0.09242915889
             ]
            },
            {
             "iteration": 797,
             "learn": [
              0.4942207838,
              0.6378031919,
              0.02592042572
             ],
             "passed_time": 1.904188673,
             "remaining_time": 0.4820126716,
             "test": [
              1.670278883,
              2.355807471,
              0.09759512576
             ],
             "test1": [
              2.066989003,
              3.627095907,
              0.09244274043
             ]
            },
            {
             "iteration": 798,
             "learn": [
              0.492898701,
              0.635770614,
              0.02586312323
             ],
             "passed_time": 1.905651015,
             "remaining_time": 0.4793940601,
             "test": [
              1.669691969,
              2.355331239,
              0.09757115798
             ],
             "test1": [
              2.068481975,
              3.627255548,
              0.09252402318
             ]
            },
            {
             "iteration": 799,
             "learn": [
              0.4920017148,
              0.6342290509,
              0.02582354329
             ],
             "passed_time": 1.907135314,
             "remaining_time": 0.4767838284,
             "test": [
              1.669549228,
              2.355589363,
              0.09756577139
             ],
             "test1": [
              2.069192675,
              3.62814213,
              0.09255343845
             ]
            },
            {
             "iteration": 800,
             "learn": [
              0.4905033172,
              0.6325080847,
              0.02575818567
             ],
             "passed_time": 1.90864459,
             "remaining_time": 0.4741826134,
             "test": [
              1.670365914,
              2.356225941,
              0.09760403604
             ],
             "test1": [
              2.069621035,
              3.627657381,
              0.09258284501
             ]
            },
            {
             "iteration": 801,
             "learn": [
              0.4893138576,
              0.6309797889,
              0.02567643398
             ],
             "passed_time": 1.910474137,
             "remaining_time": 0.4716631909,
             "test": [
              1.670328181,
              2.355790682,
              0.09754906997
             ],
             "test1": [
              2.070670922,
              3.628107319,
              0.09266198971
             ]
            },
            {
             "iteration": 802,
             "learn": [
              0.4889663737,
              0.6306009422,
              0.02566666385
             ],
             "passed_time": 1.912478985,
             "remaining_time": 0.4691884931,
             "test": [
              1.670370227,
              2.355203263,
              0.09754386102
             ],
             "test1": [
              2.070420452,
              3.627872405,
              0.09265549201
             ]
            },
            {
             "iteration": 803,
             "learn": [
              0.4875324643,
              0.6289750439,
              0.02560852102
             ],
             "passed_time": 1.914378628,
             "remaining_time": 0.4666893173,
             "test": [
              1.670294647,
              2.354731548,
              0.09752550156
             ],
             "test1": [
              2.070265088,
              3.627798422,
              0.09264268249
             ]
            },
            {
             "iteration": 804,
             "learn": [
              0.4873431505,
              0.6287936933,
              0.02559603544
             ],
             "passed_time": 1.91682833,
             "remaining_time": 0.464324875,
             "test": [
              1.670422144,
              2.35476745,
              0.09753798242
             ],
             "test1": [
              2.070347466,
              3.627686424,
              0.0926510071
             ]
            },
            {
             "iteration": 805,
             "learn": [
              0.486239997,
              0.6270404986,
              0.0255357165
             ],
             "passed_time": 1.918574419,
             "remaining_time": 0.4617908652,
             "test": [
              1.670812945,
              2.354449881,
              0.09756363856
             ],
             "test1": [
              2.069394377,
              3.627237916,
              0.09261463869
             ]
            },
            {
             "iteration": 806,
             "learn": [
              0.4855785184,
              0.6261782725,
              0.02550275638
             ],
             "passed_time": 1.920399064,
             "remaining_time": 0.4592775951,
             "test": [
              1.670811187,
              2.353540788,
              0.09756053934
             ],
             "test1": [
              2.069197907,
              3.626841843,
              0.09260139631
             ]
            },
            {
             "iteration": 807,
             "learn": [
              0.4852141633,
              0.6255032274,
              0.02548680165
             ],
             "passed_time": 1.924153157,
             "remaining_time": 0.4572245126,
             "test": [
              1.671056136,
              2.353756176,
              0.09756865841
             ],
             "test1": [
              2.069161206,
              3.626952727,
              0.09260293608
             ]
            },
            {
             "iteration": 808,
             "learn": [
              0.4848203537,
              0.6250658035,
              0.02545119027
             ],
             "passed_time": 1.92718946,
             "remaining_time": 0.4549977587,
             "test": [
              1.671573854,
              2.354069513,
              0.09760994972
             ],
             "test1": [
              2.068997198,
              3.626878014,
              0.09258905108
             ]
            },
            {
             "iteration": 809,
             "learn": [
              0.484785595,
              0.6250089353,
              0.02544917364
             ],
             "passed_time": 1.929843726,
             "remaining_time": 0.4526793924,
             "test": [
              1.671497656,
              2.35396794,
              0.09760181199
             ],
             "test1": [
              2.069001137,
              3.626697373,
              0.09259542854
             ]
            },
            {
             "iteration": 810,
             "learn": [
              0.4840495463,
              0.6241889973,
              0.02538915584
             ],
             "passed_time": 1.932400945,
             "remaining_time": 0.4503375816,
             "test": [
              1.671923915,
              2.354499819,
              0.09763109902
             ],
             "test1": [
              2.0689056,
              3.627386389,
              0.09257272994
             ]
            },
            {
             "iteration": 811,
             "learn": [
              0.4835386188,
              0.6231502439,
              0.02535380833
             ],
             "passed_time": 1.935468017,
             "remaining_time": 0.4481132847,
             "test": [
              1.673193467,
              2.355569799,
              0.09769016622
             ],
             "test1": [
              2.067963198,
              3.627285416,
              0.09250958567
             ]
            },
            {
             "iteration": 812,
             "learn": [
              0.4834373032,
              0.6230044778,
              0.0253469498
             ],
             "passed_time": 1.937668116,
             "remaining_time": 0.4456875003,
             "test": [
              1.673220272,
              2.355600502,
              0.09769336728
             ],
             "test1": [
              2.068214783,
              3.627324414,
              0.09252797451
             ]
            },
            {
             "iteration": 813,
             "learn": [
              0.4829441739,
              0.6222135114,
              0.02532213294
             ],
             "passed_time": 1.939429834,
             "remaining_time": 0.4431620997,
             "test": [
              1.673149156,
              2.35555574,
              0.09768606401
             ],
             "test1": [
              2.067930237,
              3.627290064,
              0.09250961261
             ]
            },
            {
             "iteration": 814,
             "learn": [
              0.482167388,
              0.6210825039,
              0.02526546037
             ],
             "passed_time": 1.941598807,
             "remaining_time": 0.4407310174,
             "test": [
              1.673028229,
              2.35554527,
              0.09768398915
             ],
             "test1": [
              2.067803586,
              3.626877589,
              0.09249010056
             ]
            },
            {
             "iteration": 815,
             "learn": [
              0.4811730881,
              0.6197414173,
              0.02520746713
             ],
             "passed_time": 1.943511154,
             "remaining_time": 0.4382427111,
             "test": [
              1.672595209,
              2.354842089,
              0.09765381331
             ],
             "test1": [
              2.067451283,
              3.627014665,
              0.09247064548
             ]
            },
            {
             "iteration": 816,
             "learn": [
              0.4804304757,
              0.6188990424,
              0.02517444634
             ],
             "passed_time": 1.945412379,
             "remaining_time": 0.4357533235,
             "test": [
              1.673036433,
              2.35517385,
              0.09766639579
             ],
             "test1": [
              2.068014159,
              3.62691611,
              0.09249666909
             ]
            },
            {
             "iteration": 817,
             "learn": [
              0.4799848115,
              0.6184318227,
              0.0251595308
             ],
             "passed_time": 1.949882917,
             "remaining_time": 0.4338370303,
             "test": [
              1.673530235,
              2.355570547,
              0.09769930297
             ],
             "test1": [
              2.068416027,
              3.626785488,
              0.09250687401
             ]
            },
            {
             "iteration": 818,
             "learn": [
              0.4786241828,
              0.6168504426,
              0.02506202071
             ],
             "passed_time": 1.951416143,
             "remaining_time": 0.4312653502,
             "test": [
              1.674285703,
              2.355551458,
              0.09772897142
             ],
             "test1": [
              2.067194554,
              3.625170658,
              0.09245324537
             ]
            },
            {
             "iteration": 819,
             "learn": [
              0.4775722616,
              0.6155983485,
              0.0250190696
             ],
             "passed_time": 1.953171316,
             "remaining_time": 0.4287449229,
             "test": [
              1.675084078,
              2.35560834,
              0.0977457517
             ],
             "test1": [
              2.067228008,
              3.624651726,
              0.09245629236
             ]
            },
            {
             "iteration": 820,
             "learn": [
              0.4774998538,
              0.6153757024,
              0.02501440251
             ],
             "passed_time": 1.954633251,
             "remaining_time": 0.4261624262,
             "test": [
              1.674876106,
              2.35550894,
              0.09773849897
             ],
             "test1": [
              2.067289851,
              3.624290729,
              0.09245782644
             ]
            },
            {
             "iteration": 821,
             "learn": [
              0.4769971351,
              0.6148104706,
              0.0249817242
             ],
             "passed_time": 1.956130289,
             "remaining_time": 0.4235902573,
             "test": [
              1.67479791,
              2.355486915,
              0.0977295057
             ],
             "test1": [
              2.067472742,
              3.624695698,
              0.09246455969
             ]
            },
            {
             "iteration": 822,
             "learn": [
              0.4768732892,
              0.6146841609,
              0.02497401208
             ],
             "passed_time": 1.957667343,
             "remaining_time": 0.421029307,
             "test": [
              1.674890549,
              2.355502585,
              0.09773873507
             ],
             "test1": [
              2.067552259,
              3.624624143,
              0.09247240605
             ]
            },
            {
             "iteration": 823,
             "learn": [
              0.4767913354,
              0.6145835227,
              0.02496965746
             ],
             "passed_time": 1.95929905,
             "remaining_time": 0.4184910592,
             "test": [
              1.674889725,
              2.355431186,
              0.09773811638
             ],
             "test1": [
              2.067537376,
              3.624069969,
              0.09247843275
             ]
            },
            {
             "iteration": 824,
             "learn": [
              0.4764757082,
              0.6141908273,
              0.02494421571
             ],
             "passed_time": 1.960797441,
             "remaining_time": 0.4159267299,
             "test": [
              1.674770122,
              2.35540162,
              0.09771106812
             ],
             "test1": [
              2.067650075,
              3.623836275,
              0.09249544294
             ]
            },
            {
             "iteration": 825,
             "learn": [
              0.4754686937,
              0.6125152899,
              0.02489300972
             ],
             "passed_time": 1.962256037,
             "remaining_time": 0.4133565986,
             "test": [
              1.674630831,
              2.355379839,
              0.09769288747
             ],
             "test1": [
              2.067897679,
              3.624136643,
              0.09251029059
             ]
            },
            {
             "iteration": 826,
             "learn": [
              0.475050001,
              0.6117495381,
              0.02486366529
             ],
             "passed_time": 1.963699178,
             "remaining_time": 0.4107859224,
             "test": [
              1.674573638,
              2.355164075,
              0.09769806477
             ],
             "test1": [
              2.067581037,
              3.624044337,
              0.09249615971
             ]
            },
            {
             "iteration": 827,
             "learn": [
              0.4742426873,
              0.6107000555,
              0.0248306497
             ],
             "passed_time": 1.965123216,
             "remaining_time": 0.4082140014,
             "test": [
              1.674308066,
              2.355286112,
              0.09768391701
             ],
             "test1": [
              2.067389331,
              3.623545943,
              0.09249445146
             ]
            },
            {
             "iteration": 828,
             "learn": [
              0.4740863587,
              0.6105450801,
              0.02482146157
             ],
             "passed_time": 1.966681551,
             "remaining_time": 0.4056725516,
             "test": [
              1.67430965,
              2.355559876,
              0.09768117769
             ],
             "test1": [
              2.067244311,
              3.622981439,
              0.0924953558
             ]
            },
            {
             "iteration": 829,
             "learn": [
              0.4731937289,
              0.6093143361,
              0.02475412978
             ],
             "passed_time": 1.968164184,
             "remaining_time": 0.4031179655,
             "test": [
              1.674751821,
              2.355956724,
              0.0977061954
             ],
             "test1": [
              2.06690077,
              3.622823478,
              0.09247045994
             ]
            },
            {
             "iteration": 830,
             "learn": [
              0.4726018929,
              0.6085494087,
              0.02472747788
             ],
             "passed_time": 1.969637393,
             "remaining_time": 0.4005640426,
             "test": [
              1.674759747,
              2.35573987,
              0.09768174918
             ],
             "test1": [
              2.067003288,
              3.622785921,
              0.09248415504
             ]
            },
            {
             "iteration": 831,
             "learn": [
              0.4720613396,
              0.6077153499,
              0.02470834413
             ],
             "passed_time": 1.972769276,
             "remaining_time": 0.3983476423,
             "test": [
              1.675350477,
              2.355727209,
              0.09770909746
             ],
             "test1": [
              2.067932092,
              3.622937529,
              0.09253418343
             ]
            },
            {
             "iteration": 832,
             "learn": [
              0.4710331619,
              0.6064203847,
              0.0246362828
             ],
             "passed_time": 2.045370087,
             "remaining_time": 0.4100561878,
             "test": [
              1.675240836,
              2.355826565,
              0.09768462336
             ],
             "test1": [
              2.068426071,
              3.622210634,
              0.0925767331
             ]
            },
            {
             "iteration": 833,
             "learn": [
              0.4709628237,
              0.6063426805,
              0.02463336009
             ],
             "passed_time": 2.048478723,
             "remaining_time": 0.4077307769,
             "test": [
              1.67532225,
              2.355849425,
              0.09769515424
             ],
             "test1": [
              2.068642695,
              3.622118227,
              0.09259069365
             ]
            },
            {
             "iteration": 834,
             "learn": [
              0.4698702496,
              0.6046555061,
              0.0245778546
             ],
             "passed_time": 2.050577962,
             "remaining_time": 0.4052040284,
             "test": [
              1.674591943,
              2.355609847,
              0.09766732247
             ],
             "test1": [
              2.069132753,
              3.622394843,
              0.09261847745
             ]
            },
            {
             "iteration": 835,
             "learn": [
              0.4692829552,
              0.6038112618,
              0.02454326811
             ],
             "passed_time": 2.052433739,
             "remaining_time": 0.4026305421,
             "test": [
              1.67477522,
              2.355675864,
              0.09768891008
             ],
             "test1": [
              2.069404067,
              3.622288143,
              0.09264134938
             ]
            },
            {
             "iteration": 836,
             "learn": [
              0.4685344341,
              0.6029119063,
              0.02449170206
             ],
             "passed_time": 2.054424868,
             "remaining_time": 0.4000851296,
             "test": [
              1.674758762,
              2.355585399,
              0.0976783465
             ],
             "test1": [
              2.069120555,
              3.622029281,
              0.09261602664
             ]
            },
            {
             "iteration": 837,
             "learn": [
              0.4684041067,
              0.6027876336,
              0.02448410781
             ],
             "passed_time": 2.056372136,
             "remaining_time": 0.3975325609,
             "test": [
              1.674844208,
              2.355599119,
              0.0976868841
             ],
             "test1": [
              2.069196169,
              3.621966865,
              0.09262341909
             ]
            },
            {
             "iteration": 838,
             "learn": [
              0.4676454546,
              0.601356669,
              0.02444797343
             ],
             "passed_time": 2.058324262,
             "remaining_time": 0.3949823673,
             "test": [
              1.675052428,
              2.355422503,
              0.09768977744
             ],
             "test1": [
              2.069403958,
              3.621911383,
              0.09262916248
             ]
            },
            {
             "iteration": 839,
             "learn": [
              0.4668342387,
              0.6003427665,
              0.02438251158
             ],
             "passed_time": 2.060161963,
             "remaining_time": 0.3924118025,
             "test": [
              1.675402578,
              2.355646611,
              0.09769920749
             ],
             "test1": [
              2.069389035,
              3.622425288,
              0.09262743816
             ]
            },
            {
             "iteration": 840,
             "learn": [
              0.4660338489,
              0.59953609,
              0.02436073573
             ],
             "passed_time": 2.062048165,
             "remaining_time": 0.3898521501,
             "test": [
              1.675695026,
              2.355895414,
              0.09771162653
             ],
             "test1": [
              2.069518142,
              3.622782825,
              0.09262412288
             ]
            },
            {
             "iteration": 841,
             "learn": [
              0.4658790736,
              0.5994303454,
              0.0243494414
             ],
             "passed_time": 2.064006732,
             "remaining_time": 0.3873076765,
             "test": [
              1.675831697,
              2.356024379,
              0.09772649314
             ],
             "test1": [
              2.069419867,
              3.62240893,
              0.09261741227
             ]
            },
            {
             "iteration": 842,
             "learn": [
              0.4647660104,
              0.5979184771,
              0.02430588774
             ],
             "passed_time": 2.065787483,
             "remaining_time": 0.3847314766,
             "test": [
              1.675176401,
              2.355430129,
              0.09770215567
             ],
             "test1": [
              2.068196632,
              3.621630406,
              0.09256968256
             ]
            },
            {
             "iteration": 843,
             "learn": [
              0.4639124592,
              0.5969601884,
              0.02426680683
             ],
             "passed_time": 2.068038014,
             "remaining_time": 0.3822439931,
             "test": [
              1.674879707,
              2.354889299,
              0.09767799398
             ],
             "test1": [
              2.068299889,
              3.621617472,
              0.09257462516
             ]
            },
            {
             "iteration": 844,
             "learn": [
              0.4629725716,
              0.5957594987,
              0.0241857633
             ],
             "passed_time": 2.069841415,
             "remaining_time": 0.3796750525,
             "test": [
              1.675176136,
              2.354883872,
              0.09770925524
             ],
             "test1": [
              2.068021758,
              3.62101822,
              0.09256001884
             ]
            },
            {
             "iteration": 845,
             "learn": [
              0.4623258815,
              0.5948149209,
              0.02414057455
             ],
             "passed_time": 2.071701311,
             "remaining_time": 0.3771182055,
             "test": [
              1.675020291,
              2.355452641,
              0.09771481953
             ],
             "test1": [
              2.068469788,
              3.621403095,
              0.09259864722
             ]
            },
            {
             "iteration": 846,
             "learn": [
              0.4622580656,
              0.594685792,
              0.02413791225
             ],
             "passed_time": 2.073552366,
             "remaining_time": 0.3745614073,
             "test": [
              1.675001601,
              2.355445914,
              0.097713764
             ],
             "test1": [
              2.068544739,
              3.621102979,
              0.09260085225
             ]
            },
            {
             "iteration": 847,
             "learn": [
              0.4610119158,
              0.5926679411,
              0.02407386048
             ],
             "passed_time": 2.07616585,
             "remaining_time": 0.3721429354,
             "test": [
              1.675434216,
              2.355917038,
              0.09773674765
             ],
             "test1": [
              2.067946662,
              3.620475052,
              0.09259296487
             ]
            },
            {
             "iteration": 848,
             "learn": [
              0.4601662657,
              0.5918888463,
              0.02400265756
             ],
             "passed_time": 2.078255084,
             "remaining_time": 0.3696307628,
             "test": [
              1.676276049,
              2.357066009,
              0.09781101976
             ],
             "test1": [
              2.06751949,
              3.619732215,
              0.0925719156
             ]
            },
            {
             "iteration": 849,
             "learn": [
              0.4595336866,
              0.5910504951,
              0.02395449689
             ],
             "passed_time": 2.080072244,
             "remaining_time": 0.3670715724,
             "test": [
              1.675942484,
              2.356693111,
              0.09776318971
             ],
             "test1": [
              2.067644561,
              3.619237803,
              0.09259062065
             ]
            },
            {
             "iteration": 850,
             "learn": [
              0.4584993702,
              0.5899345669,
              0.02391382477
             ],
             "passed_time": 2.081882278,
             "remaining_time": 0.3645128783,
             "test": [
              1.675065289,
              2.35574879,
              0.09770917953
             ],
             "test1": [
              2.066894335,
              3.618797631,
              0.09256510836
             ]
            },
            {
             "iteration": 851,
             "learn": [
              0.4581516799,
              0.589079695,
              0.02388824615
             ],
             "passed_time": 2.083627471,
             "remaining_time": 0.3619446781,
             "test": [
              1.675933259,
              2.356498733,
              0.09775228253
             ],
             "test1": [
              2.066217244,
              3.618670557,
              0.09251641792
             ]
            },
            {
             "iteration": 852,
             "learn": [
              0.4575884814,
              0.5881726192,
              0.02384010401
             ],
             "passed_time": 2.085635793,
             "remaining_time": 0.3594237533,
             "test": [
              1.67597468,
              2.356566963,
              0.09775873423
             ],
             "test1": [
              2.066060044,
              3.619255805,
              0.09249375376
             ]
            },
            {
             "iteration": 853,
             "learn": [
              0.4575407252,
              0.5880848771,
              0.02383707801
             ],
             "passed_time": 2.087687187,
             "remaining_time": 0.3569113926,
             "test": [
              1.676156396,
              2.356801453,
              0.09777855459
             ],
             "test1": [
              2.066165691,
              3.618834418,
              0.09250705656
             ]
            },
            {
             "iteration": 854,
             "learn": [
              0.4560827962,
              0.586261925,
              0.02375747342
             ],
             "passed_time": 2.089489304,
             "remaining_time": 0.3543578352,
             "test": [
              1.675839943,
              2.356483035,
              0.09776429611
             ],
             "test1": [
              2.065313875,
              3.618353017,
              0.09246168635
             ]
            },
            {
             "iteration": 855,
             "learn": [
              0.4559993376,
              0.5862054511,
              0.02375147245
             ],
             "passed_time": 2.091188183,
             "remaining_time": 0.3517886664,
             "test": [
              1.675928914,
              2.356599702,
              0.09777390153
             ],
             "test1": [
              2.065316253,
              3.61828379,
              0.09246328538
             ]
            },
            {
             "iteration": 856,
             "learn": [
              0.4551493258,
              0.5850063662,
              0.02370711055
             ],
             "passed_time": 2.092899147,
             "remaining_time": 0.349223545,
             "test": [
              1.675759271,
              2.356579123,
              0.09776210794
             ],
             "test1": [
              2.066043587,
              3.618359013,
              0.09250390574
             ]
            },
            {
             "iteration": 857,
             "learn": [
              0.4550580013,
              0.5848860499,
              0.02370191554
             ],
             "passed_time": 2.094636708,
             "remaining_time": 0.3466648165,
             "test": [
              1.675756655,
              2.356580395,
              0.09775951788
             ],
             "test1": [
              2.066028231,
              3.617996626,
              0.09250373229
             ]
            },
            {
             "iteration": 858,
             "learn": [
              0.4537698343,
              0.5833681637,
              0.02364914074
             ],
             "passed_time": 2.096535594,
             "remaining_time": 0.3441344805,
             "test": [
              1.674576025,
              2.355215422,
              0.09772919531
             ],
             "test1": [
              2.065525583,
              3.617778535,
              0.09248322599
             ]
            },
            {
             "iteration": 859,
             "learn": [
              0.4531048882,
              0.5827703833,
              0.02362931871
             ],
             "passed_time": 2.098450007,
             "remaining_time": 0.3416081408,
             "test": [
              1.674268474,
              2.355088027,
              0.09772073001
             ],
             "test1": [
              2.065803309,
              3.617682817,
              0.09249334031
             ]
            },
            {
             "iteration": 860,
             "learn": [
              0.452150732,
              0.5815623136,
              0.02357985077
             ],
             "passed_time": 2.102100011,
             "remaining_time": 0.3393634164,
             "test": [
              1.673752922,
              2.35532048,
              0.09768946645
             ],
             "test1": [
              2.066093966,
              3.618254014,
              0.09250398704
             ]
            },
            {
             "iteration": 861,
             "learn": [
              0.4510820172,
              0.5800275011,
              0.02353490575
             ],
             "passed_time": 2.104619527,
             "remaining_time": 0.3369344486,
             "test": [
              1.673498264,
              2.355883103,
              0.09767896123
             ],
             "test1": [
              2.065529608,
              3.6175741,
              0.09247776277
             ]
            },
            {
             "iteration": 862,
             "learn": [
              0.4507539048,
              0.5795718647,
              0.02352413359
             ],
             "passed_time": 2.107124964,
             "remaining_time": 0.334503036,
             "test": [
              1.673497758,
              2.355709171,
              0.09767749859
             ],
             "test1": [
              2.064938426,
              3.616331014,
              0.09245780902
             ]
            },
            {
             "iteration": 863,
             "learn": [
              0.4506053503,
              0.5794234271,
              0.02351137738
             ],
             "passed_time": 2.109597735,
             "remaining_time": 0.3320663101,
             "test": [
              1.673442673,
              2.355650578,
              0.09766570703
             ],
             "test1": [
              2.065017322,
              3.615989631,
              0.0924588853
             ]
            },
            {
             "iteration": 864,
             "learn": [
              0.4498270967,
              0.578109413,
              0.02347907992
             ],
             "passed_time": 2.112175178,
             "remaining_time": 0.3296458371,
             "test": [
              1.673449043,
              2.355737744,
              0.09767388192
             ],
             "test1": [
              2.064348368,
              3.616017066,
              0.0924290938
             ]
            },
            {
             "iteration": 865,
             "learn": [
              0.448848709,
              0.5768902233,
              0.02344520647
             ],
             "passed_time": 2.115388227,
             "remaining_time": 0.3273233515,
             "test": [
              1.672882164,
              2.355182556,
              0.09764729102
             ],
             "test1": [
              2.06387195,
              3.615785209,
              0.09241196078
             ]
            },
            {
             "iteration": 866,
             "learn": [
              0.4481401244,
              0.5760098309,
              0.02341316941
             ],
             "passed_time": 2.117958582,
             "remaining_time": 0.3249002208,
             "test": [
              1.672957418,
              2.355121243,
              0.09764736897
             ],
             "test1": [
              2.063458443,
              3.615553475,
              0.09239478865
             ]
            },
            {
             "iteration": 867,
             "learn": [
              0.4476958237,
              0.5752917068,
              0.02338719866
             ],
             "passed_time": 2.120497593,
             "remaining_time": 0.3224719842,
             "test": [
              1.67305412,
              2.355200586,
              0.0976546849
             ],
             "test1": [
              2.063452148,
              3.615730828,
              0.09239259851
             ]
            },
            {
             "iteration": 868,
             "learn": [
              0.4464798508,
              0.5736978214,
              0.02330426897
             ],
             "passed_time": 2.123015879,
             "remaining_time": 0.3200403684,
             "test": [
              1.672814059,
              2.355367184,
              0.09763280538
             ],
             "test1": [
              2.063735522,
              3.616344488,
              0.0924244688
             ]
            },
            {
             "iteration": 869,
             "learn": [
              0.4456749749,
              0.5727032662,
              0.02327012082
             ],
             "passed_time": 2.125700803,
             "remaining_time": 0.3176334534,
             "test": [
              1.672757858,
              2.3551364,
              0.09763515726
             ],
             "test1": [
              2.063453449,
              3.616169181,
              0.09241376906
             ]
            },
            {
             "iteration": 870,
             "learn": [
              0.4453245046,
              0.572319807,
              0.02325617923
             ],
             "passed_time": 2.128355979,
             "remaining_time": 0.315221494,
             "test": [
              1.672445538,
              2.354736246,
              0.09761961877
             ],
             "test1": [
              2.063828556,
              3.616437983,
              0.09243187482
             ]
            },
            {
             "iteration": 871,
             "learn": [
              0.4450355698,
              0.5718317313,
              0.02324417837
             ],
             "passed_time": 2.130893195,
             "remaining_time": 0.3127916616,
             "test": [
              1.672628074,
              2.354849265,
              0.09762510643
             ],
             "test1": [
              2.06396335,
              3.616721097,
              0.09243479305
             ]
            },
            {
             "iteration": 872,
             "learn": [
              0.4441126052,
              0.5705084238,
              0.02320618189
             ],
             "passed_time": 2.134086494,
             "remaining_time": 0.3104570273,
             "test": [
              1.672491561,
              2.354940066,
              0.09762212886
             ],
             "test1": [
              2.06350998,
              3.615894285,
              0.09242024941
             ]
            },
            {
             "iteration": 873,
             "learn": [
              0.4429704,
              0.5687667896,
              0.02314531807
             ],
             "passed_time": 2.136914959,
             "remaining_time": 0.3080678316,
             "test": [
              1.672674922,
              2.354923079,
              0.09762453883
             ],
             "test1": [
              2.063009538,
              3.615557081,
              0.09239705191
             ]
            },
            {
             "iteration": 874,
             "learn": [
              0.4424153871,
              0.5681172541,
              0.02312713609
             ],
             "passed_time": 2.139539802,
             "remaining_time": 0.3056485432,
             "test": [
              1.673123966,
              2.355171501,
              0.09765359153
             ],
             "test1": [
              2.062960241,
              3.615431465,
              0.09239535776
             ]
            },
            {
             "iteration": 875,
             "learn": [
              0.4417916658,
              0.5670114765,
              0.02309698973
             ],
             "passed_time": 2.142123587,
             "remaining_time": 0.3032229735,
             "test": [
              1.672876835,
              2.354800085,
              0.09764031846
             ],
             "test1": [
              2.063414649,
              3.615837913,
              0.09241936135
             ]
            },
            {
             "iteration": 876,
             "learn": [
              0.4410423543,
              0.5661282207,
              0.02306714595
             ],
             "passed_time": 2.144876552,
             "remaining_time": 0.3008207708,
             "test": [
              1.672860675,
              2.353980637,
              0.09763838412
             ],
             "test1": [
              2.063611063,
              3.616242818,
              0.09243296466
             ]
            },
            {
             "iteration": 877,
             "learn": [
              0.4398338838,
              0.5646188792,
              0.0229892922
             ],
             "passed_time": 2.147412825,
             "remaining_time": 0.2983876591,
             "test": [
              1.672271899,
              2.353692865,
              0.09756530387
             ],
             "test1": [
              2.062790003,
              3.615366205,
              0.09238763384
             ]
            },
            {
             "iteration": 878,
             "learn": [
              0.4389251174,
              0.5634672472,
              0.022936994
             ],
             "passed_time": 2.150089066,
             "remaining_time": 0.2959735802,
             "test": [
              1.672340458,
              2.354014909,
              0.09755681735
             ],
             "test1": [
              2.062924146,
              3.615954236,
              0.09239965812
             ]
            },
            {
             "iteration": 879,
             "learn": [
              0.4381662866,
              0.5624091399,
              0.02288637038
             ],
             "passed_time": 2.15266881,
             "remaining_time": 0.2935457469,
             "test": [
              1.672598325,
              2.354445542,
              0.09756610495
             ],
             "test1": [
              2.063151054,
              3.616008899,
              0.09240836905
             ]
            },
            {
             "iteration": 880,
             "learn": [
              0.4381231157,
              0.5623424318,
              0.02288419912
             ],
             "passed_time": 2.154989261,
             "remaining_time": 0.2910825449,
             "test": [
              1.672713382,
              2.354481884,
              0.09757733776
             ],
             "test1": [
              2.063190607,
              3.615889043,
              0.09241440768
             ]
            },
            {
             "iteration": 881,
             "learn": [
              0.4375837937,
              0.5615167644,
              0.02285715321
             ],
             "passed_time": 2.158116749,
             "remaining_time": 0.2887276377,
             "test": [
              1.673390346,
              2.355379034,
              0.09760565872
             ],
             "test1": [
              2.063732529,
              3.616372308,
              0.09243525703
             ]
            },
            {
             "iteration": 882,
             "learn": [
              0.4374361484,
              0.5613850858,
              0.02285151358
             ],
             "passed_time": 2.160003636,
             "remaining_time": 0.2862065973,
             "test": [
              1.673404955,
              2.355389763,
              0.09760699432
             ],
             "test1": [
              2.063959389,
              3.616308616,
              0.09244955116
             ]
            },
            {
             "iteration": 883,
             "learn": [
              0.4369631009,
              0.5607531363,
              0.02283225022
             ],
             "passed_time": 2.161872072,
             "remaining_time": 0.2836845706,
             "test": [
              1.67319228,
              2.355345173,
              0.09758540447
             ],
             "test1": [
              2.064278722,
              3.616460664,
              0.09246088939
             ]
            },
            {
             "iteration": 884,
             "learn": [
              0.436856205,
              0.5606295575,
              0.0228263103
             ],
             "passed_time": 2.163024639,
             "remaining_time": 0.2810709983,
             "test": [
              1.673196853,
              2.355580378,
              0.09758337943
             ],
             "test1": [
              2.064151182,
              3.615970741,
              0.09246185711
             ]
            },
            {
             "iteration": 885,
             "learn": [
              0.4365988717,
              0.5603373812,
              0.02280742432
             ],
             "passed_time": 2.165825222,
             "remaining_time": 0.2786727712,
             "test": [
              1.673359647,
              2.355751148,
              0.09760066769
             ],
             "test1": [
              2.064356024,
              3.61607608,
              0.09247696246
             ]
            },
            {
             "iteration": 886,
             "learn": [
              0.4362673316,
              0.5598993491,
              0.02278110735
             ],
             "passed_time": 2.167740317,
             "remaining_time": 0.2761608296,
             "test": [
              1.673904105,
              2.356575803,
              0.09766056141
             ],
             "test1": [
              2.064078196,
              3.615842449,
              0.09246360118
             ]
            },
            {
             "iteration": 887,
             "learn": [
              0.4358552375,
              0.5594323079,
              0.02276161835
             ],
             "passed_time": 2.170102893,
             "remaining_time": 0.2737066712,
             "test": [
              1.673669613,
              2.356434887,
              0.09764896298
             ],
             "test1": [
              2.064128665,
              3.615817207,
              0.09246599749
             ]
            },
            {
             "iteration": 888,
             "learn": [
              0.4357078454,
              0.5593160641,
              0.02275853805
             ],
             "passed_time": 2.171661864,
             "remaining_time": 0.2711523812,
             "test": [
              1.673664176,
              2.356411266,
              0.09765135011
             ],
             "test1": [
              2.064223059,
              3.61553024,
              0.09247035081
             ]
            },
            {
             "iteration": 889,
             "learn": [
              0.4355708413,
              0.5591771519,
              0.02274507568
             ],
             "passed_time": 2.173352498,
             "remaining_time": 0.2686166009,
             "test": [
              1.673828571,
              2.356546733,
              0.09766872916
             ],
             "test1": [
              2.063976334,
              3.615386724,
              0.09244886935
             ]
            },
            {
             "iteration": 890,
             "learn": [
              0.4346771304,
              0.5581325911,
              0.02270898506
             ],
             "passed_time": 2.174878129,
             "remaining_time": 0.266062532,
             "test": [
              1.672857869,
              2.356095966,
              0.09761999935
             ],
             "test1": [
              2.064014332,
              3.615284141,
              0.09245569417
             ]
            },
            {
             "iteration": 891,
             "learn": [
              0.4339080352,
              0.557065189,
              0.02266288364
             ],
             "passed_time": 2.176603578,
             "remaining_time": 0.2635349623,
             "test": [
              1.672786448,
              2.3559389,
              0.09762492436
             ],
             "test1": [
              2.064066428,
              3.615324238,
              0.09246658544
             ]
            },
            {
             "iteration": 892,
             "learn": [
              0.4337624309,
              0.5568942572,
              0.02265892905
             ],
             "passed_time": 2.178393738,
             "remaining_time": 0.2610169428,
             "test": [
              1.672574502,
              2.355808132,
              0.09761717514
             ],
             "test1": [
              2.064424567,
              3.615691884,
              0.09247716321
             ]
            },
            {
             "iteration": 893,
             "learn": [
              0.4329604568,
              0.5560706777,
              0.02263533968
             ],
             "passed_time": 2.181334482,
             "remaining_time": 0.2586369743,
             "test": [
              1.672744277,
              2.356327718,
              0.09763364728
             ],
             "test1": [
              2.063742822,
              3.61505267,
              0.09245055069
             ]
            },
            {
             "iteration": 894,
             "learn": [
              0.4323350695,
              0.5553837888,
              0.02261172398
             ],
             "passed_time": 2.183431204,
             "remaining_time": 0.2561567335,
             "test": [
              1.672836651,
              2.355773524,
              0.09763535639
             ],
             "test1": [
              2.063745063,
              3.615056937,
              0.09244899302
             ]
            },
            {
             "iteration": 895,
             "learn": [
              0.4319424047,
              0.5546946437,
              0.02259180373
             ],
             "passed_time": 2.185203074,
             "remaining_time": 0.2536396425,
             "test": [
              1.672751951,
              2.355664235,
              0.097627996
             ],
             "test1": [
              2.063224882,
              3.61488309,
              0.09242108352
             ]
            },
            {
             "iteration": 896,
             "learn": [
              0.4313009833,
              0.5540732735,
              0.02256737861
             ],
             "passed_time": 2.186802238,
             "remaining_time": 0.2511043819,
             "test": [
              1.673024496,
              2.35517244,
              0.09763432053
             ],
             "test1": [
              2.063622577,
              3.615499953,
              0.09243471145
             ]
            },
            {
             "iteration": 897,
             "learn": [
              0.4303787157,
              0.5526393554,
              0.02252470056
             ],
             "passed_time": 2.188326122,
             "remaining_time": 0.2485626553,
             "test": [
              1.6730348,
              2.355823094,
              0.09764338963
             ],
             "test1": [
              2.063146326,
              3.614840849,
              0.09240941243
             ]
            },
            {
             "iteration": 898,
             "learn": [
              0.4294996915,
              0.55113668,
              0.02247506786
             ],
             "passed_time": 2.189823033,
             "remaining_time": 0.2460201628,
             "test": [
              1.673413605,
              2.355715398,
              0.09767221378
             ],
             "test1": [
              2.06295515,
              3.614407182,
              0.0924067494
             ]
            },
            {
             "iteration": 899,
             "learn": [
              0.4290072612,
              0.5506086793,
              0.02243278946
             ],
             "passed_time": 2.191275,
             "remaining_time": 0.243475,
             "test": [
              1.673607793,
              2.356350774,
              0.09768129099
             ],
             "test1": [
              2.063081674,
              3.614917178,
              0.09242614849
             ]
            },
            {
             "iteration": 900,
             "learn": [
              0.428217365,
              0.549532617,
              0.02238568704
             ],
             "passed_time": 2.192710738,
             "remaining_time": 0.2409304807,
             "test": [
              1.673146508,
              2.355567722,
              0.09765672026
             ],
             "test1": [
              2.063640373,
              3.615577436,
              0.09244694322
             ]
            },
            {
             "iteration": 901,
             "learn": [
              0.4275703463,
              0.5486520832,
              0.0223343947
             ],
             "passed_time": 2.194185889,
             "remaining_time": 0.238392702,
             "test": [
              1.673139457,
              2.355254036,
              0.09764440796
             ],
             "test1": [
              2.062583432,
              3.614356183,
              0.09236509676
             ]
            },
            {
             "iteration": 902,
             "learn": [
              0.4263998641,
              0.5473431432,
              0.02228451085
             ],
             "passed_time": 2.195865958,
             "remaining_time": 0.2358792889,
             "test": [
              1.672597092,
              2.355074883,
              0.09763417421
             ],
             "test1": [
              2.062228847,
              3.614041476,
              0.09235016899
             ]
            },
            {
             "iteration": 903,
             "learn": [
              0.4259447386,
              0.5467880771,
              0.02226348096
             ],
             "passed_time": 2.199056479,
             "remaining_time": 0.2335281217,
             "test": [
              1.672868676,
              2.355331615,
              0.09764908632
             ],
             "test1": [
              2.0623485,
              3.614259859,
              0.09235418327
             ]
            },
            {
             "iteration": 904,
             "learn": [
              0.4250361966,
              0.5457256452,
              0.02220389007
             ],
             "passed_time": 2.202882235,
             "remaining_time": 0.2312417816,
             "test": [
              1.672828513,
              2.355632409,
              0.09764273756
             ],
             "test1": [
              2.062618813,
              3.614431208,
              0.09237693623
             ]
            },
            {
             "iteration": 905,
             "learn": [
              0.4243596724,
              0.5447073306,
              0.02217553843
             ],
             "passed_time": 2.204725186,
             "remaining_time": 0.2287463217,
             "test": [
              1.673363024,
              2.355846255,
              0.09765887701
             ],
             "test1": [
              2.062698822,
              3.614257174,
              0.09237706485
             ]
            },
            {
             "iteration": 906,
             "learn": [
              0.4229883678,
              0.542843099,
              0.02211020096
             ],
             "passed_time": 2.206930926,
             "remaining_time": 0.2262894996,
             "test": [
              1.6743559,
              2.356531965,
              0.09769858758
             ],
             "test1": [
              2.062367667,
              3.614163245,
              0.09235491018
             ]
            },
            {
             "iteration": 907,
             "learn": [
              0.4224275001,
              0.5421172037,
              0.02209331702
             ],
             "passed_time": 2.208823252,
             "remaining_time": 0.2238014748,
             "test": [
              1.674624417,
              2.356041485,
              0.09770096457
             ],
             "test1": [
              2.062846384,
              3.614283245,
              0.09237516776
             ]
            },
            {
             "iteration": 908,
             "learn": [
              0.4223902909,
              0.5420607923,
              0.02209117402
             ],
             "passed_time": 2.2143866,
             "remaining_time": 0.2216822668,
             "test": [
              1.674723208,
              2.356069338,
              0.09771066125
             ],
             "test1": [
              2.062844694,
              3.614130091,
              0.0923803503
             ]
            },
            {
             "iteration": 909,
             "learn": [
              0.4215633963,
              0.5408449142,
              0.02204558963
             ],
             "passed_time": 2.2186601,
             "remaining_time": 0.219427922,
             "test": [
              1.675170777,
              2.356499847,
              0.09773551197
             ],
             "test1": [
              2.062940944,
              3.613768256,
              0.09239038591
             ]
            },
            {
             "iteration": 910,
             "learn": [
              0.4212945681,
              0.5405165063,
              0.02203887189
             ],
             "passed_time": 2.221851244,
             "remaining_time": 0.2170634036,
             "test": [
              1.675220378,
              2.356032232,
              0.09773903638
             ],
             "test1": [
              2.063098196,
              3.613766235,
              0.09239703895
             ]
            },
            {
             "iteration": 911,
             "learn": [
              0.4212232713,
              0.5404565896,
              0.02203654679
             ],
             "passed_time": 2.224764721,
             "remaining_time": 0.2146702801,
             "test": [
              1.675191443,
              2.35602024,
              0.09773845215
             ],
             "test1": [
              2.063204576,
              3.613762368,
              0.09240131555
             ]
            },
            {
             "iteration": 912,
             "learn": [
              0.421084198,
              0.5403602913,
              0.02203168139
             ],
             "passed_time": 2.226832579,
             "remaining_time": 0.2121954374,
             "test": [
              1.675192372,
              2.356020922,
              0.09773853705
             ],
             "test1": [
              2.06338619,
              3.613807485,
              0.09241211139
             ]
            },
            {
             "iteration": 913,
             "learn": [
              0.4203962381,
              0.5393412249,
              0.0219947981
             ],
             "passed_time": 2.228962127,
             "remaining_time": 0.2097272899,
             "test": [
              1.674435406,
              2.355622278,
              0.09769983485
             ],
             "test1": [
              2.063773623,
              3.614243584,
              0.09244886183
             ]
            },
            {
             "iteration": 914,
             "learn": [
              0.4195371006,
              0.538118791,
              0.02193658684
             ],
             "passed_time": 2.230835133,
             "remaining_time": 0.2072360506,
             "test": [
              1.674084094,
              2.354821444,
              0.09766681936
             ],
             "test1": [
              2.063826831,
              3.613501805,
              0.09246745628
             ]
            },
            {
             "iteration": 915,
             "learn": [
              0.4190635197,
              0.5375133069,
              0.02189236549
             ],
             "passed_time": 2.232844784,
             "remaining_time": 0.204758692,
             "test": [
              1.674417484,
              2.355631166,
              0.09769046507
             ],
             "test1": [
              2.063626475,
              3.613462987,
              0.09244948244
             ]
            },
            {
             "iteration": 916,
             "learn": [
              0.4187102611,
              0.5371256845,
              0.02187035576
             ],
             "passed_time": 2.236728326,
             "remaining_time": 0.202451964,
             "test": [
              1.674792404,
              2.356025974,
              0.09770985749
             ],
             "test1": [
              2.062847753,
              3.61275867,
              0.09240854126
             ]
            },
            {
             "iteration": 917,
             "learn": [
              0.4177160091,
              0.5359720526,
              0.02179637065
             ],
             "passed_time": 2.239249369,
             "remaining_time": 0.2000200962,
             "test": [
              1.674706242,
              2.35615594,
              0.09769475494
             ],
             "test1": [
              2.062673325,
              3.612841281,
              0.09238058236
             ]
            },
            {
             "iteration": 918,
             "learn": [
              0.4175703044,
              0.5358056389,
              0.02178957121
             ],
             "passed_time": 2.242470216,
             "remaining_time": 0.1976497144,
             "test": [
              1.67461338,
              2.356073944,
              0.09768821533
             ],
             "test1": [
              2.062813991,
              3.613047738,
              0.09238610167
             ]
            },
            {
             "iteration": 919,
             "learn": [
              0.4161732002,
              0.5341253982,
              0.02172626181
             ],
             "passed_time": 2.247393873,
             "remaining_time": 0.1954255542,
             "test": [
              1.673794506,
              2.356406418,
              0.09765354943
             ],
             "test1": [
              2.062474622,
              3.61229695,
              0.09237332712
             ]
            },
            {
             "iteration": 920,
             "learn": [
              0.4149179535,
              0.5324526245,
              0.02164930577
             ],
             "passed_time": 2.249491921,
             "remaining_time": 0.1929531616,
             "test": [
              1.674332639,
              2.357024221,
              0.09769061503
             ],
             "test1": [
              2.062585808,
              3.612192868,
              0.09238507834
             ]
            },
            {
             "iteration": 921,
             "learn": [
              0.4148401028,
              0.5323790216,
              0.02164386726
             ],
             "passed_time": 2.251388456,
             "remaining_time": 0.1904645331,
             "test": [
              1.674410297,
              2.357038329,
              0.09769835007
             ],
             "test1": [
              2.062643921,
              3.612231039,
              0.09238690704
             ]
            },
            {
             "iteration": 922,
             "learn": [
              0.4146397655,
              0.5321727365,
              0.02162252362
             ],
             "passed_time": 2.253158273,
             "remaining_time": 0.1879666165,
             "test": [
              1.674575685,
              2.357161782,
              0.09771523919
             ],
             "test1": [
              2.062654643,
              3.61213893,
              0.09238987141
             ]
            },
            {
             "iteration": 923,
             "learn": [
              0.4145621309,
              0.5320979354,
              0.02161769654
             ],
             "passed_time": 2.255245649,
             "remaining_time": 0.1854963954,
             "test": [
              1.674648773,
              2.357173898,
              0.09772254324
             ],
             "test1": [
              2.062644814,
              3.611759695,
              0.09239408389
             ]
            },
            {
             "iteration": 924,
             "learn": [
              0.4134113878,
              0.5304998328,
              0.02154164329
             ],
             "passed_time": 2.257577706,
             "remaining_time": 0.183046841,
             "test": [
              1.674142159,
              2.356748737,
              0.09766927322
             ],
             "test1": [
              2.062233623,
              3.61155979,
              0.09237905747
             ]
            },
            {
             "iteration": 925,
             "learn": [
              0.412564548,
              0.5291233101,
              0.02149825449
             ],
             "passed_time": 2.267954203,
             "remaining_time": 0.1812404007,
             "test": [
              1.674243734,
              2.356484425,
              0.09767268213
             ],
             "test1": [
              2.061941333,
              3.611187101,
              0.09236122949
             ]
            },
            {
             "iteration": 926,
             "learn": [
              0.4118451968,
              0.5282684943,
              0.02146601932
             ],
             "passed_time": 2.274100329,
             "remaining_time": 0.1790823344,
             "test": [
              1.674294349,
              2.356431593,
              0.09767169777
             ],
             "test1": [
              2.061946122,
              3.611666551,
              0.09235002269
             ]
            },
            {
             "iteration": 927,
             "learn": [
              0.4110583952,
              0.5271199474,
              0.02143538494
             ],
             "passed_time": 2.285693338,
             "remaining_time": 0.1773382762,
             "test": [
              1.674302122,
              2.356283919,
              0.09767606474
             ],
             "test1": [
              2.062367189,
              3.611771808,
              0.09236330301
             ]
            },
            {
             "iteration": 928,
             "learn": [
              0.4104975062,
              0.5265967868,
              0.0213878126
             ],
             "passed_time": 2.291124047,
             "remaining_time": 0.1751020531,
             "test": [
              1.674671332,
              2.356752197,
              0.09767699728
             ],
             "test1": [
              2.062491039,
              3.611901103,
              0.09235819137
             ]
            },
            {
             "iteration": 929,
             "learn": [
              0.4103740221,
              0.52639021,
              0.02138369669
             ],
             "passed_time": 2.306141373,
             "remaining_time": 0.1735805334,
             "test": [
              1.674640657,
              2.356706262,
              0.0976755756
             ],
             "test1": [
              2.062688903,
              3.611602044,
              0.09236837597
             ]
            },
            {
             "iteration": 930,
             "learn": [
              0.4103241942,
              0.5262986397,
              0.02138262723
             ],
             "passed_time": 2.309902032,
             "remaining_time": 0.1711957468,
             "test": [
              1.674665273,
              2.356699864,
              0.09767756223
             ],
             "test1": [
              2.062595629,
              3.611215781,
              0.09236883846
             ]
            },
            {
             "iteration": 931,
             "learn": [
              0.409602939,
              0.5252834844,
              0.02133342277
             ],
             "passed_time": 2.321880787,
             "remaining_time": 0.169407611,
             "test": [
              1.67478549,
              2.356710513,
              0.09768826307
             ],
             "test1": [
              2.06256169,
              3.610973874,
              0.09236499558
             ]
            },
            {
             "iteration": 932,
             "learn": [
              0.4086813673,
              0.5242069966,
              0.02129596291
             ],
             "passed_time": 2.329414579,
             "remaining_time": 0.1672784317,
             "test": [
              1.674825857,
              2.356622512,
              0.09768512555
             ],
             "test1": [
              2.0630043,
              3.610641202,
              0.09238442234
             ]
            },
            {
             "iteration": 933,
             "learn": [
              0.4080282415,
              0.5234225306,
              0.02126662724
             ],
             "passed_time": 2.347405897,
             "remaining_time": 0.165876648,
             "test": [
              1.674208086,
              2.355860421,
              0.09765449171
             ],
             "test1": [
              2.06255323,
              3.610355667,
              0.09236917221
             ]
            },
            {
             "iteration": 934,
             "learn": [
              0.4073518674,
              0.52248908,
              0.02122229849
             ],
             "passed_time": 2.353438881,
             "remaining_time": 0.1636080505,
             "test": [
              1.674774526,
              2.356122357,
              0.0976905076
             ],
             "test1": [
              2.06281724,
              3.610445215,
              0.09238945402
             ]
            },
            {
             "iteration": 935,
             "learn": [
              0.406098528,
              0.5205709958,
              0.02115127068
             ],
             "passed_time": 2.355776313,
             "remaining_time": 0.1610787223,
             "test": [
              1.673393472,
              2.355151199,
              0.09761348016
             ],
             "test1": [
              2.062736237,
              3.610414699,
              0.09237749108
             ]
            },
            {
             "iteration": 936,
             "learn": [
              0.4053770172,
              0.5197047459,
              0.02111814647
             ],
             "passed_time": 2.36005856,
             "remaining_time": 0.1586805648,
             "test": [
              1.67303407,
              2.354954736,
              0.09758880135
             ],
             "test1": [
              2.062816492,
              3.61083523,
              0.09237437785
             ]
            },
            {
             "iteration": 937,
             "learn": [
              0.4045996474,
              0.5185083643,
              0.02108089868
             ],
             "passed_time": 2.362097931,
             "remaining_time": 0.1561301404,
             "test": [
              1.672615018,
              2.354474824,
              0.09757091259
             ],
             "test1": [
              2.062705978,
              3.610364056,
              0.09236375039
             ]
            },
            {
             "iteration": 938,
             "learn": [
              0.4035725064,
              0.517442621,
              0.02104382142
             ],
             "passed_time": 2.3646829,
             "remaining_time": 0.153616248,
             "test": [
              1.671940649,
              2.354178155,
              0.09754537209
             ],
             "test1": [
              2.062219161,
              3.610137987,
              0.09233847231
             ]
            },
            {
             "iteration": 939,
             "learn": [
              0.4035085288,
              0.5173916522,
              0.02104168756
             ],
             "passed_time": 2.367141187,
             "remaining_time": 0.1510941183,
             "test": [
              1.671932694,
              2.354180647,
              0.09754656817
             ],
             "test1": [
              2.062389173,
              3.610104467,
              0.09234583919
             ]
            },
            {
             "iteration": 940,
             "learn": [
              0.4030250724,
              0.516651106,
              0.02102119724
             ],
             "passed_time": 2.368963432,
             "remaining_time": 0.1485322449,
             "test": [
              1.671988657,
              2.354132119,
              0.09753865713
             ],
             "test1": [
              2.062635503,
              3.610264242,
              0.09236569295
             ]
            },
            {
             "iteration": 941,
             "learn": [
              0.4029511349,
              0.516587225,
              0.02101699632
             ],
             "passed_time": 2.372381149,
             "remaining_time": 0.1460701769,
             "test": [
              1.672065794,
              2.354148501,
              0.09754631765
             ],
             "test1": [
              2.062688937,
              3.610296304,
              0.09236740631
             ]
            },
            {
             "iteration": 942,
             "learn": [
              0.4020318282,
              0.5154715978,
              0.02097103164
             ],
             "passed_time": 2.374495969,
             "remaining_time": 0.1435273279,
             "test": [
              1.671758219,
              2.353912486,
              0.09752879204
             ],
             "test1": [
              2.06300834,
              3.609827582,
              0.09238609519
             ]
            },
            {
             "iteration": 943,
             "learn": [
              0.400976852,
              0.5140965791,
              0.02090480186
             ],
             "passed_time": 2.376592948,
             "remaining_time": 0.1409843274,
             "test": [
              1.671804418,
              2.354138846,
              0.09752146143
             ],
             "test1": [
              2.062153176,
              3.609362463,
              0.09232879687
             ]
            },
            {
             "iteration": 944,
             "learn": [
              0.4001504016,
              0.5130399337,
              0.02086489955
             ],
             "passed_time": 2.388869213,
             "remaining_time": 0.1390347161,
             "test": [
              1.67279154,
              2.35497536,
              0.09758477399
             ],
             "test1": [
              2.062393749,
              3.609245628,
              0.09235028257
             ]
            },
            {
             "iteration": 945,
             "learn": [
              0.3998960931,
              0.5127704662,
              0.02084636901
             ],
             "passed_time": 2.390935053,
             "remaining_time": 0.1364804364,
             "test": [
              1.672743161,
              2.354908508,
              0.09757891773
             ],
             "test1": [
              2.062240889,
              3.60934461,
              0.09233081241
             ]
            },
            {
             "iteration": 946,
             "learn": [
              0.399267718,
              0.5117648861,
              0.02080024434
             ],
             "passed_time": 2.393996664,
             "remaining_time": 0.1339829178,
             "test": [
              1.672545195,
              2.355054167,
              0.09756625106
             ],
             "test1": [
              2.062770448,
              3.609928985,
              0.09235958978
             ]
            },
            {
             "iteration": 947,
             "learn": [
              0.3991695844,
              0.511666656,
              0.02079600781
             ],
             "passed_time": 2.399940556,
             "remaining_time": 0.131642309,
             "test": [
              1.672537115,
              2.355037975,
              0.09756045572
             ],
             "test1": [
              2.062894286,
              3.609826427,
              0.09236204821
             ]
            },
            {
             "iteration": 948,
             "learn": [
              0.3981612489,
              0.5103320599,
              0.02072184137
             ],
             "passed_time": 2.403670132,
             "remaining_time": 0.1291751072,
             "test": [
              1.672941268,
              2.354945958,
              0.09758515972
             ],
             "test1": [
              2.063609816,
              3.609565775,
              0.09240638296
             ]
            },
            {
             "iteration": 949,
             "learn": [
              0.3975242587,
              0.5093296612,
              0.02067780153
             ],
             "passed_time": 2.40587422,
             "remaining_time": 0.1266249589,
             "test": [
              1.673351297,
              2.355458215,
              0.09761087406
             ],
             "test1": [
              2.064003564,
              3.610213717,
              0.09241646336
             ]
            },
            {
             "iteration": 950,
             "learn": [
              0.3968276521,
              0.5085039995,
              0.02063393593
             ],
             "passed_time": 2.408033832,
             "remaining_time": 0.1240732469,
             "test": [
              1.674077332,
              2.355889556,
              0.09766443996
             ],
             "test1": [
              2.06445411,
              3.610837751,
              0.09242041258
             ]
            },
            {
             "iteration": 951,
             "learn": [
              0.3962615474,
              0.5076263002,
              0.020608656
             ],
             "passed_time": 2.415555323,
             "remaining_time": 0.1217927053,
             "test": [
              1.674206103,
              2.356178961,
              0.0976723697
             ],
             "test1": [
              2.064759947,
              3.610913298,
              0.09243687001
             ]
            },
            {
             "iteration": 952,
             "learn": [
              0.3959929412,
              0.5071838479,
              0.02059715707
             ],
             "passed_time": 2.4190672,
             "remaining_time": 0.1193034191,
             "test": [
              1.673948115,
              2.355563253,
              0.09765375089
             ],
             "test1": [
              2.064540853,
              3.610827138,
              0.09242732256
             ]
            },
            {
             "iteration": 953,
             "learn": [
              0.3951711718,
              0.5061869875,
              0.02054365924
             ],
             "passed_time": 2.422942792,
             "remaining_time": 0.1168295266,
             "test": [
              1.674335158,
              2.355210456,
              0.09768319446
             ],
             "test1": [
              2.064220468,
              3.610713943,
              0.0923947015
             ]
            },
            {
             "iteration": 954,
             "learn": [
              0.3948501293,
              0.5058678144,
              0.02051379224
             ],
             "passed_time": 2.425646193,
             "remaining_time": 0.1142974646,
             "test": [
              1.67459783,
              2.355197036,
              0.09769769741
             ],
             "test1": [
              2.06435657,
              3.610771848,
              0.09240189987
             ]
            },
            {
             "iteration": 955,
             "learn": [
              0.3941545843,
              0.5050693024,
              0.02046146869
             ],
             "passed_time": 2.427651469,
             "remaining_time": 0.1117329128,
             "test": [
              1.674743569,
              2.355357203,
              0.09769944084
             ],
             "test1": [
              2.064716269,
              3.611239644,
              0.09243257684
             ]
            },
            {
             "iteration": 956,
             "learn": [
              0.3933458131,
              0.5042117241,
              0.0204307326
             ],
             "passed_time": 2.432057017,
             "remaining_time": 0.109277379,
             "test": [
              1.675262147,
              2.355563908,
              0.09772775947
             ],
             "test1": [
              2.064247434,
              3.611045957,
              0.09240762252
             ]
            },
            {
             "iteration": 957,
             "learn": [
              0.392344348,
              0.5028573255,
              0.02037982466
             ],
             "passed_time": 2.434423288,
             "remaining_time": 0.1067283696,
             "test": [
              1.67398625,
              2.354662646,
              0.09767156509
             ],
             "test1": [
              2.063389455,
              3.610421751,
              0.09236622505
             ]
            },
            {
             "iteration": 958,
             "learn": [
              0.3914373428,
              0.5019935186,
              0.02030437326
             ],
             "passed_time": 2.436711268,
             "remaining_time": 0.1041763941,
             "test": [
              1.674573006,
              2.355873791,
              0.09773399837
             ],
             "test1": [
              2.063873423,
              3.610912624,
              0.09240875138
             ]
            },
            {
             "iteration": 959,
             "learn": [
              0.391401146,
              0.5019562196,
              0.02030313907
             ],
             "passed_time": 2.438372135,
             "remaining_time": 0.101598839,
             "test": [
              1.674588347,
              2.355884973,
              0.09773540099
             ],
             "test1": [
              2.064029725,
              3.610895538,
              0.09241529889
             ]
            },
            {
             "iteration": 960,
             "learn": [
              0.3908039611,
              0.5012922937,
              0.02027785482
             ],
             "passed_time": 2.439933927,
             "remaining_time": 0.0990191708,
             "test": [
              1.674633198,
              2.355913338,
              0.0977390757
             ],
             "test1": [
              2.0639459,
              3.610508516,
              0.09241533478
             ]
            },
            {
             "iteration": 961,
             "learn": [
              0.3901903037,
              0.5004571987,
              0.02024564045
             ],
             "passed_time": 2.442221697,
             "remaining_time": 0.09647029572,
             "test": [
              1.67462442,
              2.355659668,
              0.09773541522
             ],
             "test1": [
              2.064463809,
              3.610539802,
              0.09244554222
             ]
            },
            {
             "iteration": 962,
             "learn": [
              0.3899345568,
              0.5002051532,
              0.02022587865
             ],
             "passed_time": 2.443841607,
             "remaining_time": 0.09389630268,
             "test": [
              1.674568911,
              2.355623066,
              0.09773021337
             ],
             "test1": [
              2.064531043,
              3.610250556,
              0.09246204456
             ]
            },
            {
             "iteration": 963,
             "learn": [
              0.3892503417,
              0.4990177103,
              0.02018538036
             ],
             "passed_time": 2.445416815,
             "remaining_time": 0.09132261965,
             "test": [
              1.674634538,
              2.355885586,
              0.09771212244
             ],
             "test1": [
              2.064455901,
              3.610079551,
              0.0924494804
             ]
            },
            {
             "iteration": 964,
             "learn": [
              0.3887012947,
              0.4982886074,
              0.02015959372
             ],
             "passed_time": 2.446913525,
             "remaining_time": 0.08874815894,
             "test": [
              1.674903741,
              2.356002364,
              0.09772823124
             ],
             "test1": [
              2.064184396,
              3.609837575,
              0.09243824106
             ]
            },
            {
             "iteration": 965,
             "learn": [
              0.3883927171,
              0.4979653174,
              0.02012802668
             ],
             "passed_time": 2.448327846,
             "remaining_time": 0.08617302979,
             "test": [
              1.674839668,
              2.355905659,
              0.09770976656
             ],
             "test1": [
              2.06405294,
              3.609855839,
              0.0924294484
             ]
            },
            {
             "iteration": 966,
             "learn": [
              0.3878157271,
              0.4970496937,
              0.02010285562
             ],
             "passed_time": 2.450317682,
             "remaining_time": 0.08361994158,
             "test": [
              1.674457957,
              2.355510862,
              0.09767668406
             ],
             "test1": [
              2.063726926,
              3.609958604,
              0.09241153886
             ]
            },
            {
             "iteration": 967,
             "learn": [
              0.3868361543,
              0.4960046305,
              0.02004857968
             ],
             "passed_time": 2.452384313,
             "remaining_time": 0.0810705558,
             "test": [
              1.674553826,
              2.355409717,
              0.09767765099
             ],
             "test1": [
              2.064091976,
              3.609628139,
              0.0924329181
             ]
            },
            {
             "iteration": 968,
             "learn": [
              0.3864827262,
              0.4954785506,
              0.02003697358
             ],
             "passed_time": 2.45389888,
             "remaining_time": 0.07850450495,
             "test": [
              1.674485702,
              2.355390603,
              0.09767553534
             ],
             "test1": [
              2.063986191,
              3.60954983,
              0.09242873749
             ]
            },
            {
             "iteration": 969,
             "learn": [
              0.3859257551,
              0.4946966858,
              0.02000378132
             ],
             "passed_time": 2.455470499,
             "remaining_time": 0.07594238658,
             "test": [
              1.674103375,
              2.35519935,
              0.09766641398
             ],
             "test1": [
              2.064506339,
              3.610167529,
              0.0924562796
             ]
            },
            {
             "iteration": 970,
             "learn": [
              0.385371052,
              0.4941189594,
              0.01996101959
             ],
             "passed_time": 2.457768614,
             "remaining_time": 0.07340400597,
             "test": [
              1.674265082,
              2.356052565,
              0.09770424162
             ],
             "test1": [
              2.064808031,
              3.610620265,
              0.0924830148
             ]
            },
            {
             "iteration": 971,
             "learn": [
              0.3846245314,
              0.4931030275,
              0.01990524554
             ],
             "passed_time": 2.460813336,
             "remaining_time": 0.07088762695,
             "test": [
              1.674329338,
              2.356338873,
              0.09771217837
             ],
             "test1": [
              2.064599217,
              3.610177191,
              0.09247984776
             ]
            },
            {
             "iteration": 972,
             "learn": [
              0.3845382633,
              0.4929788179,
              0.0199004977
             ],
             "passed_time": 2.462837052,
             "remaining_time": 0.0683418298,
             "test": [
              1.674391759,
              2.356423583,
              0.09771915624
             ],
             "test1": [
              2.064671489,
              3.610172259,
              0.09248852689
             ]
            },
            {
             "iteration": 973,
             "learn": [
              0.384053121,
              0.4921243832,
              0.01986338895
             ],
             "passed_time": 2.465028136,
             "remaining_time": 0.06580157241,
             "test": [
              1.674529255,
              2.356239258,
              0.0977180291
             ],
             "test1": [
              2.064179123,
              3.609477763,
              0.09245128878
             ]
            },
            {
             "iteration": 974,
             "learn": [
              0.3839979489,
              0.4920193505,
              0.01986114797
             ],
             "passed_time": 2.467319452,
             "remaining_time": 0.06326460134,
             "test": [
              1.67443717,
              2.35619812,
              0.09771467177
             ],
             "test1": [
              2.064145094,
              3.609483685,
              0.09245076228
             ]
            },
            {
             "iteration": 975,
             "learn": [
              0.3834251843,
              0.4913234653,
              0.01984399606
             ],
             "passed_time": 2.469295655,
             "remaining_time": 0.06072038496,
             "test": [
              1.674378354,
              2.355837276,
              0.09771289218
             ],
             "test1": [
              2.064165913,
              3.609322649,
              0.09244817303
             ]
            },
            {
             "iteration": 976,
             "learn": [
              0.3826106508,
              0.4904814118,
              0.01981047202
             ],
             "passed_time": 2.471211414,
             "remaining_time": 0.05817590841,
             "test": [
              1.674934908,
              2.35596582,
              0.09774307765
             ],
             "test1": [
              2.063723677,
              3.608651597,
              0.09243041638
             ]
            },
            {
             "iteration": 977,
             "learn": [
              0.3822866613,
              0.4898138724,
              0.01979375826
             ],
             "passed_time": 2.473135428,
             "remaining_time": 0.05563290329,
             "test": [
              1.675052852,
              2.355961077,
              0.09774924128
             ],
             "test1": [
              2.06414837,
              3.608885095,
              0.09244650582
             ]
            },
            {
             "iteration": 978,
             "learn": [
              0.3821992487,
              0.4896787318,
              0.01979091226
             ],
             "passed_time": 2.475073424,
             "remaining_time": 0.05309146261,
             "test": [
              1.675081806,
              2.355974011,
              0.09775159093
             ],
             "test1": [
              2.064278212,
              3.608945721,
              0.09245054404
             ]
            },
            {
             "iteration": 979,
             "learn": [
              0.3817567844,
              0.4891443078,
              0.0197774038
             ],
             "passed_time": 2.477038585,
             "remaining_time": 0.05055180786,
             "test": [
              1.675133337,
              2.356085981,
              0.09775379674
             ],
             "test1": [
              2.064357852,
              3.608889239,
              0.09245838198
             ]
            },
            {
             "iteration": 980,
             "learn": [
              0.3809754778,
              0.4881373226,
              0.0197469155
             ],
             "passed_time": 2.478839251,
             "remaining_time": 0.0480101384,
             "test": [
              1.674455337,
              2.355830049,
              0.09772666071
             ],
             "test1": [
              2.06440411,
              3.608501616,
              0.09246016857
             ]
            },
            {
             "iteration": 981,
             "learn": [
              0.3803178856,
              0.487325832,
              0.01971967959
             ],
             "passed_time": 2.480731713,
             "remaining_time": 0.04547166073,
             "test": [
              1.674567243,
              2.35590452,
              0.09772688731
             ],
             "test1": [
              2.064754146,
              3.608598129,
              0.09247685708
             ]
            },
            {
             "iteration": 982,
             "learn": [
              0.3795378128,
              0.4864820101,
              0.01969145839
             ],
             "passed_time": 2.482646203,
             "remaining_time": 0.04293487838,
             "test": [
              1.674537252,
              2.355928236,
              0.09773042141
             ],
             "test1": [
              2.064303371,
              3.608441814,
              0.0924578195
             ]
            },
            {
             "iteration": 983,
             "learn": [
              0.3785880184,
              0.4852453872,
              0.0196363072
             ],
             "passed_time": 2.484689786,
             "remaining_time": 0.04040145994,
             "test": [
              1.675028951,
              2.356619774,
              0.09775600286
             ],
             "test1": [
              2.064269331,
              3.608224131,
              0.09246832662
             ]
            },
            {
             "iteration": 984,
             "learn": [
              0.3783436682,
              0.4850448298,
              0.01962879193
             ],
             "passed_time": 2.486546268,
             "remaining_time": 0.03786618682,
             "test": [
              1.674945686,
              2.356604528,
              0.09775491161
             ],
             "test1": [
              2.06456579,
              3.608292372,
              0.09247152055
             ]
            },
            {
             "iteration": 985,
             "learn": [
              0.3782886178,
              0.4849952129,
              0.01962633463
             ],
             "passed_time": 2.488485305,
             "remaining_time": 0.03533346274,
             "test": [
              1.67501436,
              2.356606922,
              0.09776152925
             ],
             "test1": [
              2.064614042,
              3.608230296,
              0.09247675766
             ]
            },
            {
             "iteration": 986,
             "learn": [
              0.3772615442,
              0.4832504897,
              0.01957016489
             ],
             "passed_time": 2.49057388,
             "remaining_time": 0.03280391128,
             "test": [
              1.675028753,
              2.356540533,
              0.09775702214
             ],
             "test1": [
              2.064527775,
              3.60874169,
              0.0924596465
             ]
            },
            {
             "iteration": 987,
             "learn": [
              0.376521033,
              0.4822376648,
              0.01954429473
             ],
             "passed_time": 2.492629126,
             "remaining_time": 0.03027484768,
             "test": [
              1.674404857,
              2.356115099,
              0.09773577393
             ],
             "test1": [
              2.06370636,
              3.608349904,
              0.09242280135
             ]
            },
            {
             "iteration": 988,
             "learn": [
              0.3761313175,
              0.481721338,
              0.01952777753
             ],
             "passed_time": 2.494710979,
             "remaining_time": 0.02774703819,
             "test": [
              1.674036278,
              2.355794896,
              0.09771282809
             ],
             "test1": [
              2.063566997,
              3.608280461,
              0.0924208895
             ]
            },
            {
             "iteration": 989,
             "learn": [
              0.3750542152,
              0.480418341,
              0.01946854441
             ],
             "passed_time": 2.497189965,
             "remaining_time": 0.02522414106,
             "test": [
              1.673591213,
              2.355203843,
              0.09767720858
             ],
             "test1": [
              2.063345164,
              3.607712568,
              0.09241402633
             ]
            },
            {
             "iteration": 990,
             "learn": [
              0.3744863375,
              0.4794916577,
              0.01945029926
             ],
             "passed_time": 2.499569952,
             "remaining_time": 0.02270043347,
             "test": [
              1.67440596,
              2.356407855,
              0.09770975611
             ],
             "test1": [
              2.063360419,
              3.607669081,
              0.09241565499
             ]
            },
            {
             "iteration": 991,
             "learn": [
              0.3736186828,
              0.4785181788,
              0.01940161266
             ],
             "passed_time": 2.501773299,
             "remaining_time": 0.02017559112,
             "test": [
              1.674190325,
              2.356569436,
              0.09769064359
             ],
             "test1": [
              2.062928463,
              3.606698115,
              0.09239507762
             ]
            },
            {
             "iteration": 992,
             "learn": [
              0.3731687143,
              0.4779878064,
              0.01937156548
             ],
             "passed_time": 2.503780867,
             "remaining_time": 0.01765001618,
             "test": [
              1.674585753,
              2.35707356,
              0.09771242258
             ],
             "test1": [
              2.063262774,
              3.606912372,
              0.0924024143
             ]
            },
            {
             "iteration": 993,
             "learn": [
              0.3729613416,
              0.4777549233,
              0.01936300402
             ],
             "passed_time": 2.505707142,
             "remaining_time": 0.01512499281,
             "test": [
              1.674550046,
              2.357116691,
              0.09771197539
             ],
             "test1": [
              2.06361775,
              3.606978571,
              0.09242106083
             ]
            },
            {
             "iteration": 994,
             "learn": [
              0.372657447,
              0.4774174601,
              0.01935648126
             ],
             "passed_time": 2.50751776,
             "remaining_time": 0.01260059176,
             "test": [
              1.674743867,
              2.357217315,
              0.09772389883
             ],
             "test1": [
              2.063594597,
              3.606746621,
              0.09242476933
             ]
            },
            {
             "iteration": 995,
             "learn": [
              0.372166292,
              0.4768327264,
              0.01932292828
             ],
             "passed_time": 2.509299978,
             "remaining_time": 0.01007750995,
             "test": [
              1.674369686,
              2.356673765,
              0.09768891782
             ],
             "test1": [
              2.063829325,
              3.606637121,
              0.09244364818
             ]
            },
            {
             "iteration": 996,
             "learn": [
              0.3712970648,
              0.4759122257,
              0.01926004395
             ],
             "passed_time": 2.511238685,
             "remaining_time": 0.007556385212,
             "test": [
              1.674159019,
              2.356445322,
              0.09766747237
             ],
             "test1": [
              2.063439873,
              3.606350411,
              0.09241724842
             ]
            },
            {
             "iteration": 997,
             "learn": [
              0.3709343387,
              0.4752681295,
              0.01924547525
             ],
             "passed_time": 2.51340069,
             "remaining_time": 0.005036875129,
             "test": [
              1.673965433,
              2.356334974,
              0.09765561084
             ],
             "test1": [
              2.063902368,
              3.606535122,
              0.09243841032
             ]
            },
            {
             "iteration": 998,
             "learn": [
              0.3701014033,
              0.4738300411,
              0.01920283023
             ],
             "passed_time": 2.515634615,
             "remaining_time": 0.002518152768,
             "test": [
              1.674529701,
              2.356653354,
              0.09766904524
             ],
             "test1": [
              2.064317783,
              3.606460082,
              0.09247459384
             ]
            },
            {
             "iteration": 999,
             "learn": [
              0.3696482398,
              0.4732095478,
              0.01916769731
             ],
             "passed_time": 2.517549815,
             "remaining_time": 0,
             "test": [
              1.673420878,
              2.355965507,
              0.09759118269
             ],
             "test1": [
              2.064417303,
              3.606138484,
              0.0924818571
             ]
            }
           ],
           "meta": {
            "iteration_count": 1000,
            "launch_mode": "Train",
            "learn_metrics": [
             {
              "best_value": "Min",
              "name": "MAE"
             },
             {
              "best_value": "Min",
              "name": "RMSE"
             },
             {
              "best_value": "Min",
              "name": "MAPE"
             }
            ],
            "learn_sets": [
             "learn"
            ],
            "name": "experiment",
            "parameters": "",
            "test_metrics": [
             {
              "best_value": "Min",
              "name": "MAE"
             },
             {
              "best_value": "Min",
              "name": "RMSE"
             },
             {
              "best_value": "Min",
              "name": "MAPE"
             }
            ],
            "test_sets": [
             "test",
             "test1"
            ]
           }
          },
          "passed_iterations": 999,
          "total_iterations": 1000
         },
         "name": "catboost_info",
         "path": "catboost_info"
        }
       },
       "layout": "IPY_MODEL_92f2b952c94e428b91785d2928e979d2"
      }
     },
     "92f2b952c94e428b91785d2928e979d2": {
      "model_module": "@jupyter-widgets/base",
      "model_module_version": "1.2.0",
      "model_name": "LayoutModel",
      "state": {
       "align_self": "stretch",
       "height": "500px"
      }
     }
    },
    "version_major": 2,
    "version_minor": 0
   }
  }
 },
 "nbformat": 4,
 "nbformat_minor": 1
}
