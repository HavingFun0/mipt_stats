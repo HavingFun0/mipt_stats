{
 "cells": [
  {
   "cell_type": "markdown",
   "metadata": {
    "id": "JEFYtxdXQP1s"
   },
   "source": [
    "# PyTorch и Многослойные нейронные сети"
   ]
  },
  {
   "cell_type": "markdown",
   "metadata": {
    "id": "eBUxGfBC0Uue"
   },
   "source": [
    "<img src=\"https://i2.wp.com/www.datahubbs.com/wp-content/uploads/2018/06/cropped_large_sn.png?w=790&ssl=1\" width=600 align=center>\n",
    "\n",
    "Андрей Карпатый &mdash; ген. директор по искуствееному интеллекту в Tesla, родом из Словакии. По рейтингу журнала \"MIT Technology Review's\" 2020 является одним из топ инноваторов до 35 лет."
   ]
  },
  {
   "cell_type": "markdown",
   "metadata": {
    "id": "AuMPej4Kg3S1"
   },
   "source": [
    "## Предисловие\n",
    "На семинаре мы будем работать в **Google Colab**. Google Colab — это бесплатный облачный сервис на основе Jupyter Notebook. Он предоставляет всё необходимое для машинного обучения прямо в браузере, даёт бесплатный доступ к невероятно быстрым GPU и TPU. Однако у него есть некоторые ограничения, поэтому вы не сможете использовать его для production. \n",
    "\n",
    "*Возможности*\n",
    "* Выбор среды выполнения: CPU / оперативная память, GPU / графический процессор, TPU / тензорный процессор (специально для нейронных сетей).\n",
    "* Нет ограничений на загрузку пакетов на машину. Используйте `apt install <package>` и т.п. Питонячие библиотеки также просто устанавливаются с помощью `pip`.\n",
    "* Простое подключение к Google диску. Заходите в меню слева, нажимаете на кнопку \"Файлы\". Нажимаете на кнопку с диском. Дальше делаете по инструкции, или, может, колаб сам все разрешит. \n",
    "\n",
    "![image.png](data:image/png;base64,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)\n",
    "\n",
    "\n",
    "*Ограничения*\n",
    "* При длительном бездействии ядро автоматически отключается.\n",
    "* Сеанс непрерывной работы с колаб не может быть больше 12 часов. Потом ядро само перезапустится и все придется грузить и запускать заново.\n",
    "* Ограничение по памяти GPU (графический процессор) &mdash; 12 Gb, TPU (тензорный процессор) &mdash; 64 Gb.\n",
    "* Небольшая скорость загрузки данных на машину или на Google диск и с диска на машину, которая зависит от скорости вашего интернета и прочих факторов.\n",
    "\n",
    "\n",
    "\n",
    "Google также предоставляет расширенный Google Colab Pro, но этот сервис уже плтаный. Для домашних заданий должно хватить бесплатной версии."
   ]
  },
  {
   "cell_type": "markdown",
   "metadata": {
    "id": "CKuaI37x8hjJ"
   },
   "source": [
    "\n",
    "\n",
    "\n",
    "## 1. Введение\n",
    "\n",
    "В данном ноутбуке мы познакомимся с фреймворком **PyTorch**. Как установить `pytorch` можно прочитать [на официальном сайте PyTorch](http://pytorch.org/). Для этого выберите свою OS и вам будет показана нужная команда для ввода в терминале\n",
    "\n",
    "### 1.1 Граф вычислений\n",
    "\n",
    "Когда появилась библиотека `PyTorch`, она отличалась от остальных библиотек для нейронных сетей, таких как `TensorFlow` и `Theano`. В `TensorFlow` и `Theano` строился граф вычислений, после чего начиналось обучение, и данный граф вычислений применялся к разным входам. Граф вычислений можно понимать как рецепт, который знает как посчитать выход по какому-либо входу. В `Pytorch`-е все наоборот: здесь мы работаем с определенными тензорами, которые имеют определенные значения. На каждом этапе мы можем посмотреть на численные значения каждого из тензоров. Таким образом мы можем динамически строить граф вычислений, менять структуру нейронной сети во время обучения. Теперь `TensowFlow 2.0` и более поздних версиях граф по-умолчанию тоже [строится динамически](https://www.tensorflow.org/guide/effective_tf2), а фреймворк `Keras` стал частью `TensorFlow`. Однако и сейчас `PyTorch` имеет премущества перед названными библиотеками, соблюдая баланс между простотой написания кода и гибкостью при построении новых моделей.\n",
    "\n",
    "<img src=\"https://github.com/pytorch/pytorch/raw/master/docs/source/_static/img/dynamic_graph.gif\" width=600 align=center>\n",
    "\n",
    "Все результаты вычисляются на ходу без объявления графов заранее. Код выглядит практически точно так же, как в чистом виде, с одним исключением: `pytorch` вычисляет градиенты для вас и умеет делать `backpropagation`. Также `PyTorch` умеет запускаться на GPU и имеет ряд уже реализованных слоев для ваших нейронных сетей.\n",
    "\n",
    "Для сравнения TensorFlow и Pytorch можно почитать [статью.](https://medium.com/towards-data-science/pytorch-vs-tensorflow-spotting-the-difference-25c75777377b)\n"
   ]
  },
  {
   "cell_type": "code",
   "execution_count": 1,
   "metadata": {
    "id": "Wp5-n1308hjM"
   },
   "outputs": [],
   "source": [
    "from collections import defaultdict\n",
    "from collections import OrderedDict\n",
    "\n",
    "import time\n",
    "\n",
    "import numpy as np\n",
    "import matplotlib.pyplot as plt\n",
    "%matplotlib inline\n",
    "\n",
    "import seaborn as sns\n",
    "sns.set(palette='Set2', font_scale=1.2)\n",
    "\n",
    "from IPython.display import clear_output\n",
    "\n",
    "from sklearn.datasets import load_boston"
   ]
  },
  {
   "cell_type": "markdown",
   "metadata": {
    "id": "dgfzz-jBhH_H"
   },
   "source": [
    "Для работы с изображениями существует библиотека `torchvision`, с текстами $-$ `torchtext`, c аудио $-$ `torchaudio`. Функционал для работы с различными сущностями специально выделен в отдельные библиотеки, чтобы при работе с проектом не было необходиомсти подгружать много лишних модулей, занимающих память. В текцщем и следующем несколькиз семинарах нам понадобится `torchvision`."
   ]
  },
  {
   "cell_type": "code",
   "execution_count": 2,
   "metadata": {
    "colab": {
     "base_uri": "https://localhost:8080/"
    },
    "executionInfo": {
     "elapsed": 713,
     "status": "ok",
     "timestamp": 1615287006740,
     "user": {
      "displayName": "Елизавета Юрьевна Дахова",
      "photoUrl": "",
      "userId": "10296332071775057867"
     },
     "user_tz": -180
    },
    "id": "PJDKmoLZ8hjO",
    "outputId": "3a503344-ffde-4fef-bc04-9570e9519ced"
   },
   "outputs": [
    {
     "name": "stdout",
     "output_type": "stream",
     "text": [
      "1.7.1+cu92\n"
     ]
    }
   ],
   "source": [
    "#!pip3 install torch\n",
    "import torch\n",
    "from torch import nn\n",
    "import torch.nn.functional as F\n",
    "\n",
    "import torchvision\n",
    "from torchvision import transforms\n",
    "\n",
    "print(torch.__version__)"
   ]
  },
  {
   "cell_type": "markdown",
   "metadata": {
    "id": "Y4yG4djE8hjR"
   },
   "source": [
    "### 1.2 NumPy-синтаксис"
   ]
  },
  {
   "cell_type": "markdown",
   "metadata": {
    "id": "7jy4EtRs8hjS"
   },
   "source": [
    "Посмотрим как производятся арифметические операции в numpy."
   ]
  },
  {
   "cell_type": "code",
   "execution_count": 3,
   "metadata": {
    "colab": {
     "base_uri": "https://localhost:8080/"
    },
    "executionInfo": {
     "elapsed": 652,
     "status": "ok",
     "timestamp": 1615287007377,
     "user": {
      "displayName": "Елизавета Юрьевна Дахова",
      "photoUrl": "",
      "userId": "10296332071775057867"
     },
     "user_tz": -180
    },
    "id": "qh-uD8hE8hjS",
    "outputId": "4567c73c-2389-493c-9a66-022993e6a33a",
    "scrolled": false
   },
   "outputs": [
    {
     "name": "stdout",
     "output_type": "stream",
     "text": [
      "X :\n",
      "[[ 0  1  2  3]\n",
      " [ 4  5  6  7]\n",
      " [ 8  9 10 11]\n",
      " [12 13 14 15]]\n",
      "\n",
      "X.shape : (4, 4)\n",
      "\n",
      "X + 5 :\n",
      "[[ 5  6  7  8]\n",
      " [ 9 10 11 12]\n",
      " [13 14 15 16]\n",
      " [17 18 19 20]]\n",
      "\n",
      "X*X  :\n",
      "[[ 56  62  68  74]\n",
      " [152 174 196 218]\n",
      " [248 286 324 362]\n",
      " [344 398 452 506]]\n",
      "\n",
      "X^T  :\n",
      "[[ 0  4  8 12]\n",
      " [ 1  5  9 13]\n",
      " [ 2  6 10 14]\n",
      " [ 3  7 11 15]]\n",
      "\n",
      "среднее по колонкам :\n",
      "[6. 7. 8. 9.]\n",
      "\n",
      "сумма по колонкам :\n",
      "[24 28 32 36]\n",
      "\n"
     ]
    }
   ],
   "source": [
    "x = np.arange(16).reshape(4, 4)\n",
    "print(\"X :\\n{}\\n\".format(x))\n",
    "print(\"X.shape : {}\\n\".format(x.shape))\n",
    "print(\"X + 5 :\\n{}\\n\".format(x + 5))\n",
    "print(\"X*X  :\\n{}\\n\".format(np.dot(x, x)))\n",
    "print(\"X^T  :\\n{}\\n\".format(x.T))\n",
    "print(\"среднее по колонкам :\\n{}\\n\".format(x.mean(axis=0)))\n",
    "print(\"сумма по колонкам :\\n{}\\n\".format(np.sum(x, axis=0)))"
   ]
  },
  {
   "cell_type": "markdown",
   "metadata": {
    "id": "omeMw2598hjU"
   },
   "source": [
    "### 1.3 PyTorch-синтаксис"
   ]
  },
  {
   "cell_type": "markdown",
   "metadata": {
    "id": "eASrYoY18hjV"
   },
   "source": [
    "Теперь посмотрим на арифметические операции и pytorch. PyTorch работает с torch-тензорами (тензор - многомерный массив), с которыми можно производить почти все те же операции, что и numpy-массивами."
   ]
  },
  {
   "cell_type": "markdown",
   "metadata": {},
   "source": [
    "![](1_GbwKkmA0NdndXRhOOwNclA.jpeg \"Title\")"
   ]
  },
  {
   "cell_type": "code",
   "execution_count": 4,
   "metadata": {
    "colab": {
     "base_uri": "https://localhost:8080/"
    },
    "executionInfo": {
     "elapsed": 1092,
     "status": "ok",
     "timestamp": 1615287008685,
     "user": {
      "displayName": "Елизавета Юрьевна Дахова",
      "photoUrl": "",
      "userId": "10296332071775057867"
     },
     "user_tz": -180
    },
    "id": "uZM_OyVQ8hjV",
    "outputId": "8ee1bc5e-29bc-4985-9736-95c8aee2bd60"
   },
   "outputs": [
    {
     "name": "stdout",
     "output_type": "stream",
     "text": [
      "X:\n",
      "tensor([[ 0.,  1.,  2.,  3.],\n",
      "        [ 4.,  5.,  6.,  7.],\n",
      "        [ 8.,  9., 10., 11.],\n",
      "        [12., 13., 14., 15.]])\n",
      "\n",
      "X.shape: torch.Size([4, 4])\n",
      "\n",
      "X + 5:\n",
      "tensor([[ 5.,  6.,  7.,  8.],\n",
      "        [ 9., 10., 11., 12.],\n",
      "        [13., 14., 15., 16.],\n",
      "        [17., 18., 19., 20.]])\n",
      "X*X  :\n",
      "tensor([[ 56.,  62.,  68.,  74.],\n",
      "        [152., 174., 196., 218.],\n",
      "        [248., 286., 324., 362.],\n",
      "        [344., 398., 452., 506.]])\n",
      "\n",
      "X^T  :\n",
      "tensor([[ 0.,  4.,  8., 12.],\n",
      "        [ 1.,  5.,  9., 13.],\n",
      "        [ 2.,  6., 10., 14.],\n",
      "        [ 3.,  7., 11., 15.]])\n",
      "\n",
      "среднее по колонкам :\n",
      "tensor([6., 7., 8., 9.])\n",
      "\n",
      "сумма по колонкам :\n",
      "tensor([24., 28., 32., 36.])\n",
      "\n"
     ]
    }
   ],
   "source": [
    "x = np.arange(16).reshape(4, 4)\n",
    "\n",
    "x = torch.tensor(x, dtype=torch.float32)  # или torch.arange(0, 16).view(4, 4)\n",
    "\n",
    "print(\"X:\\n{}\\n\".format(x))\n",
    "print(\"X.shape: {}\\n\".format(x.shape))\n",
    "print(\"X + 5:\\n{}\".format(x + 5))\n",
    "print(\"X*X  :\\n{}\\n\".format(torch.matmul(x, x)))\n",
    "print(\"X^T  :\\n{}\\n\".format(x.transpose(1, 0)))\n",
    "print(\"среднее по колонкам :\\n{}\\n\".format(torch.mean(x, dim=0)))\n",
    "print(\"сумма по колонкам :\\n{}\\n\".format(torch.sum(x, dim=0)))"
   ]
  },
  {
   "cell_type": "markdown",
   "metadata": {
    "id": "T4_b7OJL8hjX"
   },
   "source": [
    "Как вы можете заметить написание кода на pytorch достаточно похоже на numpy. В каждый момент времени мы можем посмотреть на значения любого тензора, и для деббагинга такого кода удобно печатать значения этих тензоров.\n",
    "\n",
    "Также, можно замететить, что всё же некоторые названия методов отличаются от numpy-евских. Полной совместимости с numpy пока нет и придется сново запоминать новые названия для некоторых методов.\n",
    "\n",
    "Например, Pytorch имеет другое написание стандартных типов\n",
    " * `x.astype('int64') -> x.type(torch.LongTensor)`\n",
    "\n",
    "\n",
    "Для более подробного ознакомления можно посмотреть на [табличку](https://github.com/torch/torch7/wiki/Torch-for-Numpy-users) перевода методов из numpy в pytorch, а также заглянуть в [документацию](http://pytorch.org/docs/master/). Также при возникновении проблем часто помогает зайти на [pytorch forumns](https://discuss.pytorch.org/).\n"
   ]
  },
  {
   "cell_type": "markdown",
   "metadata": {},
   "source": [
    "Обратите внимание, что сделает операция X*X, где X - матрица"
   ]
  },
  {
   "cell_type": "code",
   "execution_count": 5,
   "metadata": {},
   "outputs": [
    {
     "data": {
      "text/plain": [
       "tensor([[1, 2],\n",
       "        [3, 4]])"
      ]
     },
     "execution_count": 5,
     "metadata": {},
     "output_type": "execute_result"
    }
   ],
   "source": [
    "x = torch.tensor([[1, 2], [3, 4]])\n",
    "x"
   ]
  },
  {
   "cell_type": "code",
   "execution_count": 6,
   "metadata": {},
   "outputs": [
    {
     "data": {
      "text/plain": [
       "tensor([[ 1,  4],\n",
       "        [ 9, 16]])"
      ]
     },
     "execution_count": 6,
     "metadata": {},
     "output_type": "execute_result"
    }
   ],
   "source": [
    "x * x"
   ]
  },
  {
   "cell_type": "markdown",
   "metadata": {},
   "source": [
    "### 1.4 Некоторые функции pytorch с тензорами"
   ]
  },
  {
   "cell_type": "code",
   "execution_count": 7,
   "metadata": {},
   "outputs": [
    {
     "name": "stdout",
     "output_type": "stream",
     "text": [
      "Случайная выборка из равномерного распределения на [0, 1)\n",
      "X:\n",
      "tensor([[0.2765, 0.3183, 0.1907],\n",
      "        [0.6898, 0.2889, 0.5762]])\n"
     ]
    }
   ],
   "source": [
    "x = torch.rand((2, 3))\n",
    "print(f'Случайная выборка из равномерного распределения на [0, 1)\\nX:\\n{x}')"
   ]
  },
  {
   "cell_type": "code",
   "execution_count": 8,
   "metadata": {},
   "outputs": [
    {
     "name": "stdout",
     "output_type": "stream",
     "text": [
      "Обращение к значению тензора X[0, 0]:\n",
      "0.27646058797836304\n"
     ]
    }
   ],
   "source": [
    "print(f'Обращение к значению тензора X[0, 0]:\\n{x[0, 0].item()}')"
   ]
  },
  {
   "cell_type": "code",
   "execution_count": 9,
   "metadata": {},
   "outputs": [
    {
     "name": "stdout",
     "output_type": "stream",
     "text": [
      "Векторизация тензора X:\n",
      "tensor([0.2765, 0.3183, 0.1907, 0.6898, 0.2889, 0.5762])\n"
     ]
    }
   ],
   "source": [
    "print(f'Векторизация тензора X:\\n{x.flatten()}')"
   ]
  },
  {
   "cell_type": "code",
   "execution_count": 10,
   "metadata": {},
   "outputs": [
    {
     "name": "stdout",
     "output_type": "stream",
     "text": [
      "Тензор из единиц X:\n",
      "tensor([[1., 1., 1., 1., 1.],\n",
      "        [1., 1., 1., 1., 1.],\n",
      "        [1., 1., 1., 1., 1.],\n",
      "        [1., 1., 1., 1., 1.],\n",
      "        [1., 1., 1., 1., 1.]])\n"
     ]
    }
   ],
   "source": [
    "x = torch.ones((5, 5))\n",
    "print(f'Тензор из единиц X:\\n{x}')"
   ]
  },
  {
   "cell_type": "code",
   "execution_count": 11,
   "metadata": {},
   "outputs": [
    {
     "name": "stdout",
     "output_type": "stream",
     "text": [
      "Тензор из нулей X:\n",
      "tensor([[0., 0., 0., 0., 0.],\n",
      "        [0., 0., 0., 0., 0.],\n",
      "        [0., 0., 0., 0., 0.],\n",
      "        [0., 0., 0., 0., 0.],\n",
      "        [0., 0., 0., 0., 0.]])\n"
     ]
    }
   ],
   "source": [
    "x = torch.zeros((5, 5))\n",
    "print(f'Тензор из нулей X:\\n{x}')"
   ]
  },
  {
   "cell_type": "code",
   "execution_count": 12,
   "metadata": {},
   "outputs": [
    {
     "name": "stdout",
     "output_type": "stream",
     "text": [
      "Размерность тензора: torch.Size([5, 5])\n"
     ]
    }
   ],
   "source": [
    "print(f'Размерность тензора: {x.shape}')"
   ]
  },
  {
   "cell_type": "code",
   "execution_count": 13,
   "metadata": {},
   "outputs": [
    {
     "name": "stdout",
     "output_type": "stream",
     "text": [
      "Размерность тензора: torch.Size([5, 1, 5])\n"
     ]
    }
   ],
   "source": [
    "x = torch.unsqueeze(x, dim=1)\n",
    "print(f'Размерность тензора: {x.shape}')"
   ]
  },
  {
   "cell_type": "code",
   "execution_count": 14,
   "metadata": {},
   "outputs": [
    {
     "name": "stdout",
     "output_type": "stream",
     "text": [
      "Размерность тензора: torch.Size([5, 5])\n"
     ]
    }
   ],
   "source": [
    "x = torch.squeeze(x, dim=1)\n",
    "print(f'Размерность тензора: {x.shape}')"
   ]
  },
  {
   "cell_type": "markdown",
   "metadata": {},
   "source": [
    "<span style=\"color:red\">\n",
    "    \n",
    "### Q39"
   ]
  },
  {
   "cell_type": "code",
   "execution_count": 15,
   "metadata": {},
   "outputs": [
    {
     "data": {
      "text/plain": [
       "tensor([ 2, 12])"
      ]
     },
     "execution_count": 15,
     "metadata": {},
     "output_type": "execute_result"
    }
   ],
   "source": [
    "a = torch.tensor([[1, 2], [1, 2]])\n",
    "b = torch.tensor([[1, 3], [1, 3]])\n",
    "\n",
    "(a*b).sum(0)   # поэлементное перемножение матриц и сумма по столбцам"
   ]
  },
  {
   "cell_type": "markdown",
   "metadata": {
    "id": "lYE_LhXkznW-"
   },
   "source": [
    "## 2. Основы PyTorch"
   ]
  },
  {
   "cell_type": "markdown",
   "metadata": {
    "id": "8kzxCLDZ8hjY"
   },
   "source": [
    "### 2.1 Разминка\n",
    "\n",
    "Давайте нарисуем по сетке данную кривую на графике, используя pytorch:\n",
    "\n",
    "$$ x(t) = 2 \\cos t + \\sin 2t \\cos 60t,$$\n",
    "$$y(t) = \\sin 2t + \\sin 60t.$$\n",
    "\n",
    "\n",
    "Заметим, чтобы перевести numpy-массив в torch-тензор нужна одна функция. <br>\n",
    "Например, это можно сделать так :  \n",
    "`x = torch.tensor(x, dtype=torch.float32)` или `x = torch.from_numpy(x, dtype=torch.float32)` <br>\n",
    "Аналогично и с переводом обратно : `x.numpy()` переведет torch-тензор x в numpy-массив, причем типы переведутся соответственно табличке."
   ]
  },
  {
   "cell_type": "code",
   "execution_count": 16,
   "metadata": {
    "colab": {
     "base_uri": "https://localhost:8080/",
     "height": 271
    },
    "executionInfo": {
     "elapsed": 1058,
     "status": "ok",
     "timestamp": 1615287009609,
     "user": {
      "displayName": "Елизавета Юрьевна Дахова",
      "photoUrl": "",
      "userId": "10296332071775057867"
     },
     "user_tz": -180
    },
    "id": "gQ33m_TF8hjY",
    "outputId": "f1506d85-fe42-4097-d021-f090375d5335",
    "scrolled": false
   },
   "outputs": [
    {
     "data": {
      "text/plain": [
       "[<matplotlib.lines.Line2D at 0x7fb0d0a95048>]"
      ]
     },
     "execution_count": 16,
     "metadata": {},
     "output_type": "execute_result"
    },
    {
     "data": {
      "image/png": "[encoded data removed]",
      "text/plain": [
       "<Figure size 720x504 with 1 Axes>"
      ]
     },
     "metadata": {
      "needs_background": "light"
     },
     "output_type": "display_data"
    }
   ],
   "source": [
    "fig = plt.figure(figsize=(10, 7))\n",
    "t = torch.linspace(-10, 10, steps=10000)\n",
    "\n",
    "# вычислите x(t) и y(t)\n",
    "x = 2 * torch.cos(t) + torch.sin(2 * t) * torch.cos(60 * t)\n",
    "y = torch.sin(2 * t) + torch.sin(60 * t)\n",
    "plt.plot(x.numpy(), y.numpy())"
   ]
  },
  {
   "cell_type": "markdown",
   "metadata": {
    "id": "CXXQUZlQjNeP"
   },
   "source": [
    "### 2.2 Работа с CUDA"
   ]
  },
  {
   "cell_type": "markdown",
   "metadata": {
    "id": "NQCaUxz58hjb"
   },
   "source": [
    "[CUDA](https://developer.nvidia.com/cuda-zone) &mdash; это библиотека от компании Nvidia, написанная на C/С++ и позволяющая работать с графическими процессорами (GPU) от Nvidia. В частности, быстро выполнять на них операции линейной алгебры: mat-vec умножение, mat-mat умножение, разложения матриц и т.д. Работа с нейросетями на GPU значительно быстрее чем на CPU.\n",
    "\n",
    "\n",
    "Чтобы узнать, если у вас видеокарта Nvidia, на Windows нажмите \"Window + R\" и введите \"dxdiag\".\n",
    "\n",
    "На linux введите lspci и ищите строки с ключевыми словами controller / vga / 3D. \n",
    "\n",
    "Если у вас есть видеокарта Nvidia, то можно установить Cuda локально по [инструкции](https://docs.nvidia.com/cuda/cuda-installation-guide-linux/index.html). Но учтите, что это процесс занимает в среднем не менее часа, и вы будете ограничены размерами вашей видеокарты. \n",
    "\n",
    "Если видеокарты нет, то можно воспользоваться Google Colab. Для того, чтобы подключить GPU, зайдите в меню `Среда выполнения`, выберите опцию `Cменить среду выполнения`. В списке аппартных ускорителей выберите GPU.\n",
    "\n",
    "PyTorch умеет работать с GPU, для этого ему нужно об этом явно сказать. Например, чтобы создать копию переменной `t` на CUDA (GPU), нужно сделать  `t.cuda()`, тогда вернется **копия** переменной, размещенная в видеопамяти GPU, а не в оперативной памяти CPU.\n",
    "\n",
    "Если вы получаете ошибку `RuntimeError: cuda runtime error (100) : no CUDA-capable device is detected`, то у вас или нет графической карты, или стоят старые драйвера для нее, или нет библиотеки CUDA."
   ]
  },
  {
   "cell_type": "code",
   "execution_count": 17,
   "metadata": {
    "id": "0US6AbUT8hjb"
   },
   "outputs": [],
   "source": [
    "t = t.cuda()"
   ]
  },
  {
   "cell_type": "code",
   "execution_count": 18,
   "metadata": {
    "colab": {
     "base_uri": "https://localhost:8080/"
    },
    "executionInfo": {
     "elapsed": 442,
     "status": "ok",
     "timestamp": 1615287010864,
     "user": {
      "displayName": "Елизавета Юрьевна Дахова",
      "photoUrl": "",
      "userId": "10296332071775057867"
     },
     "user_tz": -180
    },
    "id": "8O_55hEToV_1",
    "outputId": "82412eab-3103-4be8-d26b-6a085a2d4bae"
   },
   "outputs": [
    {
     "data": {
      "text/plain": [
       "tensor([-10.0000,  -9.9980,  -9.9960,  ...,   9.9960,   9.9980,  10.0000],\n",
       "       device='cuda:0')"
      ]
     },
     "execution_count": 18,
     "metadata": {},
     "output_type": "execute_result"
    }
   ],
   "source": [
    "t"
   ]
  },
  {
   "cell_type": "markdown",
   "metadata": {
    "id": "lGdHbqpt8hjd"
   },
   "source": [
    "Если вы запускаетесь то на машинах с GPU, то на машинах с CPU, то для того, чтобы не исправлять код при переходе с одной машины на другую удобно создать device и переводить все тензоры в него при помощи `.to(device)`."
   ]
  },
  {
   "cell_type": "code",
   "execution_count": 19,
   "metadata": {
    "id": "jBXFik3M8hjd"
   },
   "outputs": [],
   "source": [
    "device = torch.device('cuda' if torch.cuda.is_available() else 'cpu')\n",
    "t = t.to(device)"
   ]
  },
  {
   "cell_type": "markdown",
   "metadata": {
    "id": "b4s8UCJn8hjf"
   },
   "source": [
    "Чтобы перевести переменную с GPU на CPU обратно нужно сделать следующее: "
   ]
  },
  {
   "cell_type": "code",
   "execution_count": 20,
   "metadata": {
    "id": "Q0jAXhMg8hjf"
   },
   "outputs": [],
   "source": [
    "t = t.cpu()"
   ]
  },
  {
   "cell_type": "code",
   "execution_count": 21,
   "metadata": {
    "colab": {
     "base_uri": "https://localhost:8080/"
    },
    "executionInfo": {
     "elapsed": 499,
     "status": "ok",
     "timestamp": 1615287017504,
     "user": {
      "displayName": "Елизавета Юрьевна Дахова",
      "photoUrl": "",
      "userId": "10296332071775057867"
     },
     "user_tz": -180
    },
    "id": "JGlWvgITokA0",
    "outputId": "8d0f6659-54cd-4a02-ade5-bfdab8060cb7"
   },
   "outputs": [
    {
     "data": {
      "text/plain": [
       "tensor([-10.0000,  -9.9980,  -9.9960,  ...,   9.9960,   9.9980,  10.0000])"
      ]
     },
     "execution_count": 21,
     "metadata": {},
     "output_type": "execute_result"
    }
   ],
   "source": [
    "t"
   ]
  },
  {
   "cell_type": "code",
   "execution_count": 22,
   "metadata": {
    "colab": {
     "base_uri": "https://localhost:8080/"
    },
    "executionInfo": {
     "elapsed": 590,
     "status": "ok",
     "timestamp": 1615287017908,
     "user": {
      "displayName": "Елизавета Юрьевна Дахова",
      "photoUrl": "",
      "userId": "10296332071775057867"
     },
     "user_tz": -180
    },
    "id": "a8zgPUb5onoY",
    "outputId": "4872bed2-78db-476f-f5cd-8644df5028c4"
   },
   "outputs": [
    {
     "data": {
      "text/plain": [
       "tensor([-10.0000,  -9.9980,  -9.9960,  ...,   9.9960,   9.9980,  10.0000],\n",
       "       device='cuda:0')"
      ]
     },
     "execution_count": 22,
     "metadata": {},
     "output_type": "execute_result"
    }
   ],
   "source": [
    "a = t.cuda()\n",
    "a"
   ]
  },
  {
   "cell_type": "code",
   "execution_count": 23,
   "metadata": {
    "colab": {
     "base_uri": "https://localhost:8080/"
    },
    "executionInfo": {
     "elapsed": 732,
     "status": "ok",
     "timestamp": 1615287018360,
     "user": {
      "displayName": "Елизавета Юрьевна Дахова",
      "photoUrl": "",
      "userId": "10296332071775057867"
     },
     "user_tz": -180
    },
    "id": "57kUqcypoqFi",
    "outputId": "23c60a2b-4792-415e-b486-5e3a7d152646"
   },
   "outputs": [
    {
     "data": {
      "text/plain": [
       "tensor([-10.0000,  -9.9980,  -9.9960,  ...,   9.9960,   9.9980,  10.0000])"
      ]
     },
     "execution_count": 23,
     "metadata": {},
     "output_type": "execute_result"
    }
   ],
   "source": [
    "t"
   ]
  },
  {
   "cell_type": "markdown",
   "metadata": {
    "id": "pioMsZYkCaOB"
   },
   "source": [
    "Обратите внимание на то, что `torch.Tensor` и `torch.cuda.Tensor` $-$ разные классы, и при создании одного из другого будет создаваться копия:"
   ]
  },
  {
   "cell_type": "code",
   "execution_count": 24,
   "metadata": {
    "colab": {
     "base_uri": "https://localhost:8080/"
    },
    "executionInfo": {
     "elapsed": 568,
     "status": "ok",
     "timestamp": 1615287018729,
     "user": {
      "displayName": "Елизавета Юрьевна Дахова",
      "photoUrl": "",
      "userId": "10296332071775057867"
     },
     "user_tz": -180
    },
    "id": "wc_iMeGRCaU2",
    "outputId": "9c815fc0-76f9-484a-d877-4238fb565c02"
   },
   "outputs": [
    {
     "name": "stdout",
     "output_type": "stream",
     "text": [
      "torch.LongTensor\n",
      "tensor([[1, 2, 3],\n",
      "        [4, 5, 6]])\n"
     ]
    }
   ],
   "source": [
    "cpu_tensor = torch.tensor([[1, 2, 3], [4, 5, 6]], device='cpu')\n",
    "print(cpu_tensor.type())\n",
    "print(cpu_tensor)"
   ]
  },
  {
   "cell_type": "code",
   "execution_count": 25,
   "metadata": {
    "colab": {
     "base_uri": "https://localhost:8080/"
    },
    "executionInfo": {
     "elapsed": 593,
     "status": "ok",
     "timestamp": 1615287019134,
     "user": {
      "displayName": "Елизавета Юрьевна Дахова",
      "photoUrl": "",
      "userId": "10296332071775057867"
     },
     "user_tz": -180
    },
    "id": "6rxzKzb6CakQ",
    "outputId": "186df25a-df04-4a27-e6a4-3624603a5bda"
   },
   "outputs": [
    {
     "name": "stdout",
     "output_type": "stream",
     "text": [
      "torch.cuda.LongTensor\n",
      "tensor([[1, 2, 3],\n",
      "        [4, 5, 6]], device='cuda:0')\n"
     ]
    }
   ],
   "source": [
    "gpu_tensor = cpu_tensor.cuda()\n",
    "# или так\n",
    "# device = 'cuda:0'\n",
    "# gpu_tensor = cpu_tensor.to(device)\n",
    "print(gpu_tensor.type())\n",
    "print(gpu_tensor)"
   ]
  },
  {
   "cell_type": "code",
   "execution_count": 26,
   "metadata": {
    "colab": {
     "base_uri": "https://localhost:8080/",
     "height": 162
    },
    "executionInfo": {
     "elapsed": 603,
     "status": "error",
     "timestamp": 1615287019540,
     "user": {
      "displayName": "Елизавета Юрьевна Дахова",
      "photoUrl": "",
      "userId": "10296332071775057867"
     },
     "user_tz": -180
    },
    "id": "d7AnQTTdDuf7",
    "outputId": "b8ae1490-7033-48ba-80dd-99e54a7833dc"
   },
   "outputs": [],
   "source": [
    "# cpu_tensor == gpu_tensor"
   ]
  },
  {
   "cell_type": "markdown",
   "metadata": {
    "id": "WcktaxwSiuKd"
   },
   "source": [
    "Для контроля состояния видеокарты можно использовать команду  `nvidia-smi`."
   ]
  },
  {
   "cell_type": "code",
   "execution_count": 27,
   "metadata": {
    "colab": {
     "base_uri": "https://localhost:8080/"
    },
    "executionInfo": {
     "elapsed": 852,
     "status": "ok",
     "timestamp": 1615287020960,
     "user": {
      "displayName": "Елизавета Юрьевна Дахова",
      "photoUrl": "",
      "userId": "10296332071775057867"
     },
     "user_tz": -180
    },
    "id": "RdAmQoK0pMMe",
    "outputId": "47ad09af-dbdd-430a-da03-ea56b80fb5f0"
   },
   "outputs": [
    {
     "name": "stdout",
     "output_type": "stream",
     "text": [
      "Fri Nov 12 12:15:53 2021       \n",
      "+-----------------------------------------------------------------------------+\n",
      "| NVIDIA-SMI 460.27.04    Driver Version: 460.27.04    CUDA Version: 11.2     |\n",
      "|-------------------------------+----------------------+----------------------+\n",
      "| GPU  Name        Persistence-M| Bus-Id        Disp.A | Volatile Uncorr. ECC |\n",
      "| Fan  Temp  Perf  Pwr:Usage/Cap|         Memory-Usage | GPU-Util  Compute M. |\n",
      "|                               |                      |               MIG M. |\n",
      "|===============================+======================+======================|\n",
      "|   0  Tesla V100-PCIE...  Off  | 00000000:3B:00.0 Off |                    0 |\n",
      "| N/A   59C    P0    46W / 250W |   1147MiB / 32510MiB |      0%      Default |\n",
      "|                               |                      |                  N/A |\n",
      "+-------------------------------+----------------------+----------------------+\n",
      "|   1  Tesla V100-PCIE...  Off  | 00000000:86:00.0 Off |                    0 |\n",
      "| N/A   42C    P0    27W / 250W |      4MiB / 16160MiB |      0%      Default |\n",
      "|                               |                      |                  N/A |\n",
      "+-------------------------------+----------------------+----------------------+\n",
      "|   2  Tesla V100-PCIE...  Off  | 00000000:AF:00.0 Off |                    0 |\n",
      "| N/A   40C    P0    28W / 250W |      4MiB / 32510MiB |      0%      Default |\n",
      "|                               |                      |                  N/A |\n",
      "+-------------------------------+----------------------+----------------------+\n",
      "                                                                               \n",
      "+-----------------------------------------------------------------------------+\n",
      "| Processes:                                                                  |\n",
      "|  GPU   GI   CI        PID   Type   Process name                  GPU Memory |\n",
      "|        ID   ID                                                   Usage      |\n",
      "|=============================================================================|\n",
      "|    0   N/A  N/A     53574      C   .../my_env/env_1/bin/python3     1143MiB |\n",
      "+-----------------------------------------------------------------------------+\n"
     ]
    }
   ],
   "source": [
    "!nvidia-smi"
   ]
  },
  {
   "cell_type": "markdown",
   "metadata": {},
   "source": [
    "### 2.3 Автоматический подсчет градиентов"
   ]
  },
  {
   "cell_type": "markdown",
   "metadata": {},
   "source": [
    "Пакет *Autograd* выполняет автоматическое дифференцирование. \n",
    "\n",
    "Тензоры (переменные) вместе с функциями (операциями) объединяются для создания динамического вычислительного графа (computational graph), который создается автоматичсеки классом *autograd*."
   ]
  },
  {
   "cell_type": "markdown",
   "metadata": {},
   "source": [
    "Простой вычислительный граф для произведения двух переменных выглядит следующим образом: "
   ]
  },
  {
   "cell_type": "code",
   "execution_count": 28,
   "metadata": {},
   "outputs": [],
   "source": [
    "# Creating the graph\n",
    "x = torch.tensor(1.0, requires_grad=True)\n",
    "y = torch.tensor(2.0)\n",
    "z = x * y"
   ]
  },
  {
   "cell_type": "markdown",
   "metadata": {},
   "source": [
    "Граф содержит\n",
    "\n",
    "**data**: содержит значения переменной \n",
    "\n",
    "**requires_grad**: если устанавливается True, то с этого момента переменная становится под наблюдением *autograd*, готовый вычислить производные (градиенты)\n",
    "\n",
    "**grad**: содержит значение градиента\n",
    "\n",
    "**grad_fn**: Это фукнция для вычисления градиента\n",
    "\n",
    "**is_leaf**: Узел является листом (терминальная вершина), если:\n",
    "\n",
    "- Он был явно инициализирован некоторой функцией, такой как `x = torch.tensor(1.0)` или `x = torch.randn(1, 1)` (в основном все методы инициализации тензора).\n",
    "\n",
    "- Он создается после операций с тензорами, все из которых имеют `require_grad = False`.\n",
    "\n",
    "- Он создается путем вызова метода `.detach()` для тензора."
   ]
  },
  {
   "cell_type": "markdown",
   "metadata": {},
   "source": [
    "Зеленый блок - переменная\n",
    "\n",
    "Серый блок - функция, операция\n",
    "\n",
    "![](comp_graph.png \"Title\")"
   ]
  },
  {
   "cell_type": "code",
   "execution_count": 29,
   "metadata": {},
   "outputs": [
    {
     "name": "stdout",
     "output_type": "stream",
     "text": [
      "x\n",
      "data: 1.0\n",
      "requires_grad: True\n",
      "grad: None\n",
      "grad_fn: None\n",
      "is_leaf: True\n",
      "\n",
      "y\n",
      "data: 2.0\n",
      "requires_grad: False\n",
      "grad: None\n",
      "grad_fn: None\n",
      "is_leaf: True\n",
      "\n",
      "z\n",
      "data: 2.0\n",
      "requires_grad: True\n",
      "grad: None\n",
      "grad_fn: <MulBackward0 object at 0x7fb0d0a5efd0>\n",
      "is_leaf: False\n",
      "\n"
     ]
    },
    {
     "name": "stderr",
     "output_type": "stream",
     "text": [
      "/home/zhikhareva/work_dir/my_env/env_1/lib/python3.6/site-packages/ipykernel_launcher.py:4: UserWarning: The .grad attribute of a Tensor that is not a leaf Tensor is being accessed. Its .grad attribute won't be populated during autograd.backward(). If you indeed want the gradient for a non-leaf Tensor, use .retain_grad() on the non-leaf Tensor. If you access the non-leaf Tensor by mistake, make sure you access the leaf Tensor instead. See github.com/pytorch/pytorch/pull/30531 for more informations.\n",
      "  after removing the cwd from sys.path.\n"
     ]
    }
   ],
   "source": [
    "# Displaying\n",
    "for i, name in zip([x, y, z], \"xyz\"):\n",
    "    print(f\"{name}\\ndata: {i.data}\\nrequires_grad: {i.requires_grad}\\n\\\n",
    "grad: {i.grad}\\ngrad_fn: {i.grad_fn}\\nis_leaf: {i.is_leaf}\\n\")"
   ]
  },
  {
   "cell_type": "markdown",
   "metadata": {},
   "source": [
    "<span style=\"color:red\">\n",
    "    \n",
    "### Q40"
   ]
  },
  {
   "cell_type": "code",
   "execution_count": 30,
   "metadata": {},
   "outputs": [],
   "source": [
    "a = torch.tensor([1.0], requires_grad=False)\n",
    "b = torch.tensor([1.0], requires_grad=False)\n",
    "\n",
    "c = torch.exp(a*b)\n",
    "d = c**2"
   ]
  },
  {
   "cell_type": "code",
   "execution_count": 31,
   "metadata": {},
   "outputs": [
    {
     "name": "stdout",
     "output_type": "stream",
     "text": [
      "True True True True\n"
     ]
    }
   ],
   "source": [
    "print(a.is_leaf, b.is_leaf, c.is_leaf, d.is_leaf)"
   ]
  },
  {
   "cell_type": "markdown",
   "metadata": {},
   "source": [
    "**Дифференцирование**\n",
    "\n",
    "Метод `backward()` вычисляет сумму градиентов заданных тензоров относительно листьев графа.\n",
    "\n",
    "Метод `grad()` вычисляет и возвращает сумму градиентов выходных данных по отношению к входным данным."
   ]
  },
  {
   "cell_type": "markdown",
   "metadata": {},
   "source": [
    "**Пример 1**\n",
    "\n",
    "Посчитаем производную функции \n",
    "\n",
    "$z = x^3$ в точке $x_0 = 1.0$ \n",
    "\n",
    "с помощью метода `.backward()`"
   ]
  },
  {
   "cell_type": "code",
   "execution_count": 32,
   "metadata": {},
   "outputs": [],
   "source": [
    "def f_cube(x):\n",
    "    return x ** 3"
   ]
  },
  {
   "cell_type": "code",
   "execution_count": 33,
   "metadata": {},
   "outputs": [
    {
     "name": "stdout",
     "output_type": "stream",
     "text": [
      "tensor(3.)\n"
     ]
    }
   ],
   "source": [
    "x = torch.tensor(1.0, requires_grad=True)\n",
    "z = f_cube(x)\n",
    "z.backward()\n",
    "print(x.grad)"
   ]
  },
  {
   "cell_type": "markdown",
   "metadata": {},
   "source": [
    "**Пример 2**\n",
    "\n",
    "Посчитаем производную функции \n",
    "\n",
    "$z = x^3$ в точке $x_0 = 10.0$ \n",
    "\n",
    "с помощью метода `.backward()`"
   ]
  },
  {
   "cell_type": "code",
   "execution_count": 34,
   "metadata": {},
   "outputs": [
    {
     "name": "stdout",
     "output_type": "stream",
     "text": [
      "tensor(300.)\n"
     ]
    }
   ],
   "source": [
    "x = torch.tensor(10.0, requires_grad=True)\n",
    "z = f_cube(x)\n",
    "z.backward()\n",
    "print(x.grad)"
   ]
  },
  {
   "cell_type": "markdown",
   "metadata": {},
   "source": [
    "**Пример 3**\n",
    "\n",
    "Посчитаем производную функции \n",
    "\n",
    "$z = 2 x^3 - y^2$ в точке $x_0 = 2.0$ и $y_0 = 6.0$"
   ]
  },
  {
   "cell_type": "code",
   "execution_count": 35,
   "metadata": {},
   "outputs": [],
   "source": [
    "x = torch.tensor([2.], requires_grad=True)\n",
    "y = torch.tensor([6.], requires_grad=True)\n",
    "z = 2*x**3 - y**2\n",
    "z.backward()"
   ]
  },
  {
   "cell_type": "code",
   "execution_count": 36,
   "metadata": {},
   "outputs": [
    {
     "name": "stdout",
     "output_type": "stream",
     "text": [
      "dz/dx = 24.0\n",
      "dz/dy = -12.0\n"
     ]
    }
   ],
   "source": [
    "print(f'dz/dx = {x.grad.item()}\\ndz/dy = {y.grad.item()}')"
   ]
  },
  {
   "cell_type": "markdown",
   "metadata": {},
   "source": [
    "**Пример 3**\n",
    "\n",
    "Посчитаем производную вектор-функции \n",
    "\n",
    "$z = 2 x^3 - y^2$ в точке $x_0 = [2.0, 3.0]$ и $y_0 = [6.0, 4.0]$\n"
   ]
  },
  {
   "cell_type": "code",
   "execution_count": 37,
   "metadata": {},
   "outputs": [],
   "source": [
    "x = torch.tensor([2., 3.], requires_grad=True)\n",
    "y = torch.tensor([6., 4.], requires_grad=True)\n",
    "z = 2*x**3 - y**2\n",
    "z.backward(torch.tensor([1., 1.]))"
   ]
  },
  {
   "cell_type": "markdown",
   "metadata": {},
   "source": [
    "Проверим сходится ли с аналитической производной"
   ]
  },
  {
   "cell_type": "code",
   "execution_count": 38,
   "metadata": {},
   "outputs": [
    {
     "name": "stdout",
     "output_type": "stream",
     "text": [
      "tensor([True, True])\n",
      "tensor([True, True])\n"
     ]
    }
   ],
   "source": [
    "print(6*x**2 == x.grad)\n",
    "print(-2*y == y.grad)"
   ]
  },
  {
   "cell_type": "markdown",
   "metadata": {},
   "source": [
    "**Пример 4**\n",
    "\n",
    "Посчитаем *третью* производную функции \n",
    "\n",
    "$z = x^2$ в точке $x_0 = 2.0$\n",
    "\n",
    "\n",
    "Сделать это методом .backward() не выйдет. \n",
    "\n",
    "Здесь можно использовать более глубокоуровневый метод пакета `autograd` `grad`"
   ]
  },
  {
   "cell_type": "code",
   "execution_count": 39,
   "metadata": {},
   "outputs": [],
   "source": [
    "from torch.autograd import grad"
   ]
  },
  {
   "cell_type": "code",
   "execution_count": 40,
   "metadata": {},
   "outputs": [],
   "source": [
    "x = torch.tensor(2., requires_grad=True)\n",
    "z = x**2"
   ]
  },
  {
   "cell_type": "code",
   "execution_count": 41,
   "metadata": {},
   "outputs": [
    {
     "name": "stdout",
     "output_type": "stream",
     "text": [
      "Первая производная в точке = 4.0\n",
      "Первая производная в точке = 2.0\n",
      "Первая производная в точке = 0.0\n"
     ]
    }
   ],
   "source": [
    "X_1 = grad(outputs=z, inputs=x, retain_graph=True, create_graph=True)\n",
    "print(f'Первая производная в точке = {X_1[0].item()}')\n",
    "\n",
    "X_2 = grad(outputs = X_1, inputs = x, retain_graph  = True, create_graph  = True)\n",
    "print(f'Первая производная в точке = {X_2[0].item()}')\n",
    "\n",
    "X_3 = grad(outputs = X_2, inputs = x)\n",
    "print(f'Первая производная в точке = {X_3[0].item()}')"
   ]
  },
  {
   "cell_type": "markdown",
   "metadata": {},
   "source": [
    "**Пример 5**\n",
    "\n",
    "Посчитаем *11 производную* производную функции \n",
    "\n",
    "$z = x^{10} + y^{5}$ в точке $x_0 = 1.0$ и $y_0 = 2$"
   ]
  },
  {
   "cell_type": "code",
   "execution_count": 42,
   "metadata": {},
   "outputs": [],
   "source": [
    "x = torch.tensor([1., 2], requires_grad=True)\n",
    "# y = torch.tensor(1., requires_grad=True)\n",
    "z = x[0]**10 + x[1]**5"
   ]
  },
  {
   "cell_type": "code",
   "execution_count": 43,
   "metadata": {},
   "outputs": [
    {
     "name": "stdout",
     "output_type": "stream",
     "text": [
      "2-производные z по x И y:tensor([ 90., 160.], grad_fn=<AddBackward0>)\n",
      "3-производные z по x И y:tensor([720., 240.], grad_fn=<AddBackward0>)\n",
      "4-производные z по x И y:tensor([5040.,  240.], grad_fn=<AddBackward0>)\n",
      "5-производные z по x И y:tensor([30240.,   120.], grad_fn=<AddBackward0>)\n",
      "6-производные z по x И y:tensor([151200.,      0.], grad_fn=<AddBackward0>)\n",
      "7-производные z по x И y:tensor([604800.,      0.], grad_fn=<CopySlices>)\n",
      "8-производные z по x И y:tensor([1814400.,       0.], grad_fn=<CopySlices>)\n",
      "9-производные z по x И y:tensor([3628800.,       0.], grad_fn=<CopySlices>)\n",
      "10-производные z по x И y:tensor([3628800.,       0.], grad_fn=<CopySlices>)\n",
      "11-производные z по x И y:tensor([0., 0.])\n"
     ]
    }
   ],
   "source": [
    "out = grad(z, x, retain_graph=True, create_graph=True)\n",
    "for i in range(10):\n",
    "    out = grad(out, x, grad_outputs=torch.ones(2), retain_graph=True, create_graph=True)\n",
    "    print(f'{i+2}-производные z по x И y:{out[0]}')"
   ]
  },
  {
   "cell_type": "code",
   "execution_count": null,
   "metadata": {},
   "outputs": [],
   "source": []
  }
 ],
 "metadata": {
  "accelerator": "GPU",
  "colab": {
   "collapsed_sections": [],
   "name": "1_SOLVED_Seminar_1_PyTorch_NN_basics.ipynb",
   "provenance": []
  },
  "kernelspec": {
   "display_name": "Python 3",
   "language": "python",
   "name": "python3"
  },
  "language_info": {
   "codemirror_mode": {
    "name": "ipython",
    "version": 3
   },
   "file_extension": ".py",
   "mimetype": "text/x-python",
   "name": "python",
   "nbconvert_exporter": "python",
   "pygments_lexer": "ipython3",
   "version": "3.8.10"
  },
  "toc": {
   "base_numbering": 1,
   "nav_menu": {},
   "number_sections": true,
   "sideBar": true,
   "skip_h1_title": false,
   "title_cell": "Table of Contents",
   "title_sidebar": "Contents",
   "toc_cell": false,
   "toc_position": {},
   "toc_section_display": true,
   "toc_window_display": false
  }
 },
 "nbformat": 4,
 "nbformat_minor": 1
}
