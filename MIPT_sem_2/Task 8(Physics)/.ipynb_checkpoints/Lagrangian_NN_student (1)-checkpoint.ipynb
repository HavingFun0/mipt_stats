{
 "cells": [
  {
   "cell_type": "code",
   "execution_count": null,
   "metadata": {
    "id": "88X81rTHREht"
   },
   "outputs": [],
   "source": [
    "! pip install torchdiffeq"
   ]
  },
  {
   "cell_type": "markdown",
   "metadata": {
    "id": "Gbe4L4T0SZuU"
   },
   "source": [
    "# <a href=\"https://mipt-stats.gitlab.io/courses/ad_mipt.html\">Phystech@DataScience</a>\n",
    "## Задание профильное по направлению физика\n",
    "\n",
    "**Правила:**\n",
    "\n",
    "* Выполненную работу нужно отправить телеграм-боту, адрес которого будет указан на странице курса. \n",
    "* Дедлайн **20 декабря в 22:00**. После дедлайна работы не принимаются кроме случаев наличия уважительной причины.\n",
    "* Прислать нужно ноутбук в формате `ipynb` \n",
    "* Решения, размещенные на каких-либо интернет-ресурсах не принимаются. Публикация решения может быть приравнена к предоставлению возможности списать.\n",
    "* Для выполнения задания используйте этот ноутбук в качествие основы, ничего не удаляя из него.\n",
    "\n",
    "-----"
   ]
  },
  {
   "cell_type": "code",
   "execution_count": null,
   "metadata": {
    "id": "M97V05ltREhx"
   },
   "outputs": [],
   "source": [
    "import torch\n",
    "import torch.nn as nn\n",
    "import torch.nn.functional as F\n",
    "\n",
    "from torchdiffeq import odeint\n",
    "from torch.autograd.functional import hessian, jacobian\n",
    "from functools import partial # reduces arguments to function by making some subset implicit\n",
    "\n",
    "# visualization\n",
    "import matplotlib.pyplot as plt\n",
    "import seaborn as sns\n",
    "from functools import partial\n",
    "\n",
    "import time\n",
    "\n",
    "from IPython.display import clear_output\n",
    "from collections import defaultdict\n",
    "sns.set(font_scale=1.3)"
   ]
  },
  {
   "cell_type": "markdown",
   "metadata": {
    "id": "xM8vyAntREhy"
   },
   "source": [
    "# Лагранжевы нейронные сети\n",
    "\n",
    "В этом домашнем задании вы попробуете применить нейронные сети для решения задач механики.\n",
    " "
   ]
  },
  {
   "cell_type": "markdown",
   "metadata": {
    "id": "tek7HOACREhz"
   },
   "source": [
    "## Постановка задачи\n",
    "\n",
    "Мы будем рассматривать простую физическую систему в виде двойного маятника, которая уже тяжело изучается аналитически и не интегрируется до конца.\n",
    "\n",
    "<img src=\"https://raw.githubusercontent.com/greydanus/greydanus.github.io/master/files/double_pend_schema.png\">\n",
    "\n",
    "Используя $\\theta_1, \\theta_2$ в качестве обобщенных координат, выпишите лагранжиан данной системы. Если у вас возникнут затруднения, вы можете обратиться, например, [сюда](https://diego.assencio.com/?index=1500c66ae7ab27bb0106467c68feebc6)"
   ]
  },
  {
   "cell_type": "code",
   "execution_count": null,
   "metadata": {
    "id": "-C17vnJBREh0"
   },
   "outputs": [],
   "source": [
    "def lagrangian(q, q_t, params):\n",
    "  \"\"\"Реализация подсчета лагранжиана для двойного маятника\n",
    "\n",
    "  Args:\n",
    "      q (torch.tensor): тензор обобщенных координат \n",
    "      q_t (torch.tensor): тензор производных обобщенных координат\n",
    "      params ([torch.tensor]): параметры системы m1, m2, l1, l2, g\n",
    "\n",
    "  Returns:\n",
    "      torch.tensor: лагранжиан системы\n",
    "  \"\"\"\n",
    "  t1, t2 = q # theta 1 and theta 2, \n",
    "  w1, w2 = q_t  # omega 1 and omega 2\n",
    "  m1, m2, l1, l2, g = params\n",
    "\n",
    "  # подсчет кинетической энергии \n",
    "  T = ...\n",
    "\n",
    "  # подсчет потенциальной энергии\n",
    "  V = \n",
    "\n",
    "  return T - V"
   ]
  },
  {
   "cell_type": "code",
   "execution_count": null,
   "metadata": {
    "id": "QQYevRy7REh1"
   },
   "outputs": [],
   "source": [
    "assert torch.allclose(lagrangian(torch.tensor([0, 0]), torch.tensor([0, 0]), torch.tensor(\n",
    "    [1, 2, 1, 3, 10])), torch.tensor(90)), \"Проверьте потенциальную энергию\"\n",
    "assert torch.allclose(lagrangian(torch.tensor([torch.pi / 2, torch.pi / 2]), torch.tensor(\n",
    "    [2, 4]), torch.tensor([1, 2, 1, 3, 10])), torch.tensor(198)), \"Проверьте кинетическую энергию\"\n",
    "assert torch.allclose(lagrangian(torch.tensor(\n",
    "    [torch.pi / 3, torch.pi / 3]), torch.tensor([2, 4]), torch.tensor([1, 2, 1, 3, 10])), torch.tensor(243))\n",
    "\n",
    "print('Отл 10 по теормеху!')\n"
   ]
  },
  {
   "cell_type": "markdown",
   "metadata": {
    "id": "LDZw8VxxREh1"
   },
   "source": [
    "Данная система сводится к системе ОДУ. Подробности можно посмотреть [здесь](https://diego.assencio.com/?index=1500c66ae7ab27bb0106467c68feebc6). Определим следующие величины:\n",
    "\n",
    "\\begin{align}\n",
    "& \\alpha_1(\\theta_1,\\theta_2) ~:=~ \\displaystyle\\frac{l_2}{l_1}\\left(\\frac{m_2}{m_1 + m_2}\\right)\\cos(\\theta_1 - \\theta_2)\\\\\n",
    "&\\alpha_2(\\theta_1,\\theta_2) ~:=~ \\frac{l_1}{l_2}\\cos(\\theta_1-\\theta_2)\\\\\n",
    "&\\displaystyle f_1(\\theta_1, \\theta_2, \\dot{\\theta}_1, \\dot{\\theta}_2) ~:=~\n",
    "-\\frac{l_2}{l_1}\\left(\\frac{m_2}{m_1+m_2}\\right) \\dot{\\theta}_2^2\\sin(\\theta_1 - \\theta_2)\n",
    "- \\frac{g}{l_1} \\sin\\theta_1 \\\\\n",
    "&\\displaystyle f_2(\\theta_1, \\theta_2, \\dot{\\theta}_1, \\dot{\\theta}_2) ~:=~\n",
    "\\frac{l_1}{l_2}\\dot{\\theta}_1^2\\sin(\\theta_1-\\theta_2) - \\frac{g}{l_2} \\sin\\theta_2 \\\\\n",
    "&g_1 := \\displaystyle\\frac{f_1 - \\alpha_1 f_2}{1 - \\alpha_1\\alpha_2}\n",
    "\\quad\\quad\n",
    "g_2 := \\displaystyle\\frac{-\\alpha_2 f_1 + f_2}{1 - \\alpha_1\\alpha_2}\n",
    "\\end{align}\n",
    "\n",
    "Используя их, динамику системы можно записать в следующем виде:\n",
    "\n",
    "$$\n",
    "\\displaystyle\\frac{d}{dt}\n",
    "\\left( \\begin{matrix} \\theta_1 \\\\[1pt] \\theta_2 \\\\[1pt] \\omega_1 \\\\[1pt] \\omega_1 \\end{matrix} \\right)\n",
    "=\n",
    "\\left( \\begin{matrix} \\omega_1 \\\\ \\omega_2 \\\\ g_1(\\theta_1,\\theta_2,\\omega_1,\\omega_2)\n",
    "\\\\ g_2(\\theta_1,\\theta_2,\\omega_1,\\omega_2) \\end{matrix} \\right)\n",
    "$$"
   ]
  },
  {
   "cell_type": "code",
   "execution_count": null,
   "metadata": {
    "id": "RUlMiAO7REh2"
   },
   "outputs": [],
   "source": [
    "def f_analytical(t, state, params):\n",
    "    \"\"\"Сила в правой части ОДУ\n",
    "\n",
    "    Args:\n",
    "        t ([NONE]): Момент времени. В данном случае не используется. \n",
    "        state ([torch.tensor]): Состояние системы, описываемое тензором [theta_1, theta_2, omega_1, omega_2]\n",
    "        params ([torch.tensor]): параметры системы m1, m2, l1, l2, g\n",
    "\n",
    "    Returns:\n",
    "        [torch.tensor]: вектор силы в правой части ОДУ\n",
    "    \"\"\"\n",
    "    t1, t2, w1, w2 = state  # theta 1 and theta 2, omega 1 and omega 2\n",
    "    m1, m2, l1, l2, g = params\n",
    "    a1 = (l2 / l1) * (m2 / (m1 + m2)) * torch.cos(t1 - t2)\n",
    "    a2 = (l1 / l2) * torch.cos(t1 - t2)\n",
    "    f1 = -(l2 / l1) * (m2 / (m1 + m2)) * (w2**2) * torch.sin(t1 - t2) - \\\n",
    "        (g / l1) * torch.sin(t1)\n",
    "    f2 = (l1 / l2) * (w1**2) * torch.sin(t1 - t2) - (g / l2) * torch.sin(t2)\n",
    "    g1 = (f1 - a1 * f2) / (1 - a1 * a2)\n",
    "    g2 = (f2 - a2 * f1) / (1 - a1 * a2)\n",
    "    return torch.stack([w1, w2, g1, g2])"
   ]
  },
  {
   "cell_type": "markdown",
   "metadata": {
    "id": "AVkn8msnREh3"
   },
   "source": [
    "## Часть 1. Baseline сеть.\n",
    "\n",
    "В этой части вы попробуете наивный подход для решения ОДУ. \n",
    "\n",
    "Попытаемся научить сеть предсказывать  $\\displaystyle\\frac{d}{dt}\n",
    "\\left( \\begin{matrix} \\theta_1 \\\\[1pt] \\theta_2 \\\\[1pt] \\omega_1 \\\\[1pt] \\omega_1 \\end{matrix} \\right)$ по $\\displaystyle \\left( \\begin{matrix} \\theta_1 \\\\[1pt] \\theta_2 \\\\[1pt] \\omega_1 \\\\[1pt] \\omega_1 \\end{matrix} \\right)$.\n",
    "\n",
    "Зададим параметры системы"
   ]
  },
  {
   "cell_type": "code",
   "execution_count": null,
   "metadata": {
    "id": "-5x6H8F8REh3"
   },
   "outputs": [],
   "source": [
    "m1 = 1 \n",
    "m2 = 1 \n",
    "l1 = 1 \n",
    "l2 = 1\n",
    "g = 9.81\n",
    "\n",
    "params = torch.tensor([m1, m2, l1, l2, g], requires_grad=False).float()"
   ]
  },
  {
   "cell_type": "markdown",
   "metadata": {
    "id": "bPzoPYS4REh4"
   },
   "source": [
    "Для обучения нам нужно откуда-то взять данные. Например, можно численно решить систему для 2N шагов и взять первые N для обучения, а вторые для теста."
   ]
  },
  {
   "cell_type": "code",
   "execution_count": null,
   "metadata": {
    "id": "B-gJ_isqREh4"
   },
   "outputs": [],
   "source": [
    "N = 5000\n",
    "time_step = 0.01\n",
    "f = partial(f_analytical, params=params)\n",
    "\n",
    "t = torch.linspace(0, 2 * N * time_step, 2 * N)\n",
    "t_train = t[:N]\n",
    "t_test = t[N:]\n",
    "\n",
    "# решаем сразу для 2N шагов, получаем [theta_1, theta_2, omega_1, omega_2] для временной сетки\n",
    "result_analytical = odeint(f, initial_state, t)\n",
    "\n",
    "x_train = <получите[theta_1, theta_2, omega_1, omega_2] для первых N шагов >\n",
    "y_train = <получите производные по времени для[theta_1, theta_2, omega_1, omega_2] для первых N шагов >\n",
    "\n",
    "x_test = <получите[theta_1, theta_2, omega_1, omega_2] для следующих N шагов >\n",
    "y_test = <получите производные по времени для[theta_1, theta_2, omega_1, omega_2] для следующих N шагов >\n"
   ]
  },
  {
   "cell_type": "markdown",
   "metadata": {
    "id": "ffyNSDx2REh4"
   },
   "source": [
    "Для обучения нам потребуются вспомогательные функции для подсчета функции потерь и генерации батчей. "
   ]
  },
  {
   "cell_type": "code",
   "execution_count": null,
   "metadata": {
    "id": "oK4jACGMREh5"
   },
   "outputs": [],
   "source": [
    "def make_batches(x, y, batch_size=32):\n",
    "    for i in range(len(y) - batch_size + 1):\n",
    "        yield x[i:i + batch_size, :], y[i:i + batch_size, :]\n",
    "\n",
    "\n",
    "def loss(targets, preds):\n",
    "    return torch.mean((targets - preds) ** 2)\n"
   ]
  },
  {
   "cell_type": "markdown",
   "metadata": {
    "id": "qZ0RVMkDREh5"
   },
   "source": [
    "Напишем функцию для обучения сети"
   ]
  },
  {
   "cell_type": "code",
   "execution_count": null,
   "metadata": {
    "id": "1PboBQw_REh5"
   },
   "outputs": [],
   "source": [
    "def plot_learning_curves(history, suptitle=''):\n",
    "    '''\n",
    "    Функция для вывода лосса и метрики во время обучения.\n",
    "\n",
    "    :param history: (dict)\n",
    "        accuracy и loss на обучении и валидации\n",
    "    '''\n",
    "    fig = plt.figure(figsize=(10, 7))\n",
    "    fig.suptitle(suptitle)\n",
    "\n",
    "    plt.title('Лосс', fontsize=15)\n",
    "    plt.plot(history['loss']['train'], label='train')\n",
    "    plt.plot(history['loss']['val'], label='val')\n",
    "    plt.ylabel('лосс', fontsize=15)\n",
    "    plt.xlabel('эпоха', fontsize=15)\n",
    "    plt.legend()\n",
    "    plt.show()\n",
    "\n",
    "def train_net(\n",
    "    model, \n",
    "    criterion,\n",
    "    optimizer, \n",
    "    device,\n",
    "    num_epochs=10,\n",
    "    batch_size=32\n",
    "):\n",
    "    '''\n",
    "    Функция для обучения модели и вывода лосса и метрики во время обучения.\n",
    "\n",
    "    :param model: обучаемая модель\n",
    "    :param criterion: функция потерь\n",
    "    :param optimizer: метод оптимизации\n",
    "    :param num_epochs: количество эпох\n",
    "\n",
    "    :return: обученная модель\n",
    "    :return: (dict) accuracy и loss на обучении и валидации (\"история\" обучения)\n",
    "    '''\n",
    "    history = defaultdict(lambda: defaultdict(list))\n",
    "    model.to(device)\n",
    "    \n",
    "    for epoch in range(num_epochs):\n",
    "        train_loss = 0\n",
    "        val_loss = 0\n",
    "        start_time = time.time()\n",
    "\n",
    "        model.train(True) \n",
    "        batch_counter = 0\n",
    "        for X_batch, y_batch in make_batches(x_train, y_train, batch_size):\n",
    "\n",
    "            X_batch = X_batch.to(device)\n",
    "            y_batch = y_batch.to(device)\n",
    "\n",
    "            <Получаем предсказания, лосс и  делаем шаг оптимизатора>\n",
    "            \n",
    "            # Сохраяняем лоссы и точность на трейне\n",
    "            train_loss += loss.detach().cpu().numpy()\n",
    "            batch_counter += len(y_batch)\n",
    "\n",
    "        # Подсчитываем лоссы и сохраням в \"историю\"\n",
    "        train_loss /= batch_counter\n",
    "        history['loss']['train'].append(train_loss)\n",
    "    \n",
    "        model.train(False) \n",
    "        batch_counter = 0\n",
    "        # Полный проход по валидации    \n",
    "        for X_batch, y_batch in make_batches(x_test, y_test, batch_size):\n",
    "            X_batch = X_batch.to(device)\n",
    "            y_batch = y_batch.to(device)\n",
    "            \n",
    "            <Получаем предсказания, лосс>\n",
    "\n",
    "            val_loss += loss.detach().cpu().numpy()\n",
    "            batch_counter += len(y_batch)\n",
    "            \n",
    "\n",
    "        # Подсчитываем лоссы и сохраням в \"историю\"\n",
    "        val_loss /= batch_counter\n",
    "  \n",
    "        history['loss']['val'].append(val_loss)\n",
    "        \n",
    "        clear_output()\n",
    "\n",
    "        # Печатаем результаты после каждой эпохи\n",
    "        print(\"Epoch {} of {} took {:.3f}s\".format(\n",
    "            epoch + 1, num_epochs, time.time() - start_time))\n",
    "        print(\"  training loss (in-iteration): \\t{:.6f}\".format(train_loss))\n",
    "        print(\"  validation loss (in-iteration): \\t{:.6f}\".format(val_loss))\n",
    "                \n",
    "        plot_learning_curves(history)\n",
    "\n",
    "    return model, history"
   ]
  },
  {
   "cell_type": "markdown",
   "metadata": {
    "id": "t12HdAnxREh6"
   },
   "source": [
    "Определите сеть и обучите ее. Совет: не берите слишком сложную сеть."
   ]
  },
  {
   "cell_type": "code",
   "execution_count": null,
   "metadata": {
    "id": "JFBaTY4YREh6"
   },
   "outputs": [],
   "source": [
    "device = torch.device('cuda' if torch.cuda.is_available() else 'cpu')\n",
    "device"
   ]
  },
  {
   "cell_type": "markdown",
   "metadata": {
    "id": "_M6XRBj7REh6"
   },
   "source": [
    "Переходим к тестированию. По начальному состоянию с помощью сети нам нужно получить всю траекторию. Для этого будем использовать следующую процедуру.\n",
    "\n",
    "$$y = \\displaystyle \\left( \\begin{matrix} \\theta_1 \\\\[1pt] \\theta_2 \\\\[1pt] \\omega_1 \\\\[1pt] \\omega_1 \\end{matrix} \\right) \\\\\n",
    "\\dot{y}_{n} = net(y_n) \\\\\n",
    "y_{n+1} = numerical \\ integration(y_n, \\dot{y}_{n})\n",
    "$$\n",
    "\n",
    "Для численного интегрирования будем использовать метод Рунге-Кутты"
   ]
  },
  {
   "cell_type": "code",
   "execution_count": null,
   "metadata": {
    "id": "hS1uHzGFREh6"
   },
   "outputs": [],
   "source": [
    "def rk4_step(f, t, x, h):\n",
    "  k1 = h * f(t, x)\n",
    "  k2 = h * f(t + h/2, x + k1/2)\n",
    "  k3 = h * f(t + h/2, x + k2/2)\n",
    "  k4 = h * f(t + h, x + k3)\n",
    "  return x + 1/6 * (k1 + 2 * k2 + 2 * k3 + k4)"
   ]
  },
  {
   "cell_type": "markdown",
   "metadata": {
    "id": "j-Hg8sEYREh6"
   },
   "source": [
    "Напишите функцию, выполняющую численного интегрирование с помощью сети, а также функцию, выполняющую интегрирование с использованием аналитического выражения для силы"
   ]
  },
  {
   "cell_type": "code",
   "execution_count": null,
   "metadata": {
    "id": "g4NfCOM-REh7"
   },
   "outputs": [],
   "source": [
    "def get_net_solution(net, initial_state, time_step, n_steps):\n",
    "  \"\"\"Процедура численного интегрирования\n",
    "\n",
    "  Args:\n",
    "      net (nn.Module): обученная сеть\n",
    "      initial_state (torch.tensor): начальное состояние\n",
    "      time_step: шаг интегрирования\n",
    "      n_steps (int): количество шагов \n",
    "  \"\"\"\n",
    "  f = lambda t, x: net(x)\n",
    "  pass\n",
    "\n",
    "\n",
    "def get_analytical_solution(initial_state, time_step, n_steps, params):\n",
    "  \"\"\"Процедура численного интегрирования\n",
    "\n",
    "  Args:\n",
    "      initial_state (torch.tensor): начальное состояние\n",
    "      time_step: шаг интегрирования\n",
    "      n_steps (int): количество шагов \n",
    "      params (torch.tensor): параметры системы\n",
    "  \"\"\"\n",
    "  pass\n"
   ]
  },
  {
   "cell_type": "markdown",
   "metadata": {
    "id": "objONhiEREh7"
   },
   "source": [
    "Сравним результаты"
   ]
  },
  {
   "cell_type": "code",
   "execution_count": null,
   "metadata": {
    "id": "QpcygCZfREh7"
   },
   "outputs": [],
   "source": [
    "net_result = get_net_solution(net, initial_state, time_step, n_steps=N)\n",
    "analytical_result = get_analytical_solution(\n",
    "    initial_state, time_step, n_steps=N, params=params)\n"
   ]
  },
  {
   "cell_type": "code",
   "execution_count": null,
   "metadata": {
    "id": "OyJJY6zyREh7"
   },
   "outputs": [],
   "source": [
    "def plot_solution(result, title='Результат работы сети'):\n",
    "  fig = plt.figure(figsize=(15, 7))\n",
    "  fig.suptitle(title)\n",
    "  \n",
    "  plt.subplot(1, 2, 1)\n",
    "  plt.plot(result[:, 0], result[:, 2])\n",
    "  plt.xlabel(r'$\\theta_1$')\n",
    "  plt.ylabel('$\\omega_1$')\n",
    "\n",
    "  plt.subplot(1, 2, 2)\n",
    "  plt.plot(result[:, 1], result[:, 3])\n",
    "  plt.xlabel(r'$\\theta_2$')\n",
    "  plt.ylabel('$\\omega_2$')\n",
    "  plt.show()"
   ]
  },
  {
   "cell_type": "code",
   "execution_count": null,
   "metadata": {
    "id": "TXJKd-MsREh7"
   },
   "outputs": [],
   "source": [
    "plot_solution(net_result)"
   ]
  },
  {
   "cell_type": "code",
   "execution_count": null,
   "metadata": {
    "id": "EjwatCjtREh8"
   },
   "outputs": [],
   "source": [
    "plot_solution(analytical_result, title='Теоретический результат')"
   ]
  },
  {
   "cell_type": "code",
   "execution_count": null,
   "metadata": {
    "id": "SG3El5yYREh8"
   },
   "outputs": [],
   "source": [
    "def compare_results(results, labels, titles):\n",
    "  fig = plt.figure(figsize=(30, 7))\n",
    "  fig.suptitle('Сравнение результатов')\n",
    "  for i in range(4):\n",
    "    plt.subplot(2, 2, i + 1)\n",
    "    for result, label in zip(results, labels):\n",
    "      plt.plot(result[:, i], label=label)\n",
    "    plt.title(titles[i])\n",
    "    plt.legend()"
   ]
  },
  {
   "cell_type": "code",
   "execution_count": null,
   "metadata": {
    "id": "ub7maCuGREh8"
   },
   "outputs": [],
   "source": [
    "compare_results([net_result, analytical_result], ['net', 'exact'], [r'$\\theta_1$', r'$\\theta_2$', '$\\omega_1$', '$omega_2$'])"
   ]
  },
  {
   "cell_type": "markdown",
   "metadata": {
    "id": "z2J_vRo5REh8"
   },
   "source": [
    "Похожи ли результаты? Чем выделяется численное решение сети? \n",
    "\n",
    "\n",
    "Посмотрим, выполняется ли закон сохранения. Реализуйте подсчет энергии системы вдоль траектории. Совет: используйте части реализации лагранжиана."
   ]
  },
  {
   "cell_type": "code",
   "execution_count": null,
   "metadata": {
    "id": "tY7V0DADREh8"
   },
   "outputs": [],
   "source": [
    "def energy(q, q_t, params):\n",
    "  t1, t2 = q # theta 1 and theta 2, \n",
    "  w1, w2 = q_t  # omega 1 and omega 2\n",
    "  m1, m2, l1, l2, g = params\n",
    "  \n",
    "  #кинетическая энергия\n",
    "  T = ...\n",
    "  \n",
    "  # потенциальная энергия\n",
    "  V = ...\n",
    "\n",
    "  return T + V\n",
    "\n",
    "def get_trajectory_energy(states, params):\n",
    "  energies = []\n",
    "  for state in states:\n",
    "    q, q_t = state.split(2)\n",
    "    energies.append(energy(q, q_t, params)) \n",
    "  return energies"
   ]
  },
  {
   "cell_type": "code",
   "execution_count": null,
   "metadata": {
    "id": "mF6I34BvREh8"
   },
   "outputs": [],
   "source": [
    "net_energies = get_trajectory_energy(net_result, params)\n",
    "analytical_energy = get_trajectory_energy(analytical_result, params)"
   ]
  },
  {
   "cell_type": "markdown",
   "metadata": {
    "id": "HyKrmDDaREh9"
   },
   "source": [
    "Визуализируйте энергии. Что вы видите? Хорошо ли работает сеть? \n",
    "\n",
    "**Бонус:** как можно легко попытаться улучшить работу сети в данном случае? Избыточна ли использованная вами сеть? Реализуйте новый подход и сравните с наивным. ***Подсказка:*** внимательно посмотрите на исходную систему."
   ]
  },
  {
   "cell_type": "markdown",
   "metadata": {
    "id": "552DwnZKREh9"
   },
   "source": [
    "## Часть 2. Лагранжевы нейронные сети.\n",
    "\n",
    "\n",
    "На лекции вы слышали, что учесть специфику системы и обеспечить ЗСЭ можно с помощью лагранжевых нейронных сетей.\n",
    "\n",
    "Мы собираемся выучивать нейронной сетью лагранжиан, а затем с его помощью находить значение силы. Получим аналитическое выражение силы с использованием лагранжиана.\n",
    "\n",
    "$$\n",
    "\\begin{align}\n",
    "\\frac{d}{dt} \\frac{\\partial \\mathcal{L}}{\\partial \\dot q_j} &= \\frac{\\partial \\mathcal{L}}{\\partial q_j} & \\text{уравнения Эйлера-Лагранжа} \\quad (1)\\\\\n",
    "\\frac{d}{dt} \\nabla_{\\dot q} \\mathcal{L} &= \\nabla_{q} \\mathcal{L} & \\text{перепишем их в векторной нотации} \\quad (2)\\\\\n",
    "(\\nabla_{\\dot q}\\nabla_{\\dot q}^{\\top}\\mathcal{L})\\ddot q + (\\nabla_{q}\\nabla_{\\dot q}^{\\top}\\mathcal{L}) \\dot q &= \\nabla_q \\mathcal{L} & \\text{раскроем производную по времени}\\frac{d}{dt} \\quad (3)\\\\\n",
    "\\ddot q &= (\\nabla_{\\dot q}\\nabla_{\\dot q}^{\\top}\\mathcal{L})^{-1}[\\nabla_q \\mathcal{L} - (\\nabla_{q}\\nabla_{\\dot q}^{\\top}\\mathcal{L})\\dot q] & \\text{используем обращение матрицы для поиска } \\ddot q \\quad (4)\\\\\n",
    "\\end{align}\n",
    "$$\n",
    "\n",
    "Мы видим, что для поиска вторых производных обобщенных координат требуется знание градиента и гессиана лагранжиана. Но ведь мы собираемся использовать нейронную сеть... Что же делать? К счастью, человечество придумало автоматическое дифференцирование.\n",
    "\n",
    "Реализуйте подсчет производных с помощью автоматического дифференцирования"
   ]
  },
  {
   "cell_type": "code",
   "execution_count": null,
   "metadata": {
    "id": "72wrmnI4REh9"
   },
   "outputs": [],
   "source": [
    "def equation_of_motion(lagrangian, t, state, params):\n",
    "  q, q_t = state.split(2)\n",
    "  hess = hessian(lagrangian, (q, q_t, params), create_graph=True)\n",
    "  hess_qt = ... \n",
    "  hess_qqt = ...\n",
    "  jac = jacobian(lagrangian, (q, q_t, params), create_graph=True)\n",
    "  jac_q = ...\n",
    "  q_tt = torch.linalg.inv(hess_qt + 1e-6 * torch.eye(2)) @ (jac_q -  hess_qqt @ q_t)\n",
    "  return torch.cat([q_t, q_tt]), hess_qt, hess_qqt, jac_q"
   ]
  },
  {
   "cell_type": "code",
   "execution_count": null,
   "metadata": {
    "id": "qw82SJ0QREh9"
   },
   "outputs": [],
   "source": [
    "qtt, hess_qt, hess_qqt, jac_q = equation_of_motion(lagrangian, 1, torch.tensor([0, 0, 0, 0]).float(), torch.tensor([1.0000, 1.0000, 1.0000, 1.0000, 10]))\n",
    "assert torch.allclose(hess_qt, torch.tensor([[2., 1.],[1., 1.]]))\n",
    "assert torch.allclose(hess_qqt, torch.tensor([[-0., 0.], [-0., 0.]]))\n",
    "assert torch.allclose(jac_q, torch.tensor([-0., 0.]))\n",
    "\n",
    "\n",
    "qtt, hess_qt, hess_qqt, jac_q = equation_of_motion(lagrangian, 1, torch.tensor([1, 0, 1, 1]).float(), torch.tensor([1.0000, 1.0000, 1.0000, 1.0000, 10]))\n",
    "assert torch.allclose(hess_qt, torch.tensor([[2.0000, 0.5403], [0.5403, 1.0000]]))\n",
    "assert torch.allclose(jac_q, torch.tensor([-17.6709,   0.8415]), atol=1e-4)\n",
    "assert torch.allclose(hess_qqt, torch.tensor([[-0.8415,  0.8415], [-0.8415,  0.8415]]), atol=1e-4)"
   ]
  },
  {
   "cell_type": "markdown",
   "metadata": {
    "id": "eCbbUODFREh-"
   },
   "source": [
    "Проинтегрируйте численно систему ,используя аналитическое выражение силы, а также получаемое с помощью лагранжиана системы (не сети). Сравните решения? Почему на концах промежутка решения не совпадают? "
   ]
  },
  {
   "cell_type": "code",
   "execution_count": null,
   "metadata": {
    "id": "_1L0MJFKREh-"
   },
   "outputs": [],
   "source": []
  },
  {
   "cell_type": "markdown",
   "metadata": {
    "id": "ehBm406DREh-"
   },
   "source": [
    "Рассмотрим следующую нейронную сеть."
   ]
  },
  {
   "cell_type": "code",
   "execution_count": null,
   "metadata": {
    "id": "NXLk0oX-REh-"
   },
   "outputs": [],
   "source": [
    " net = nn.Sequential(nn.Linear(4, 64), nn.ReLU(), nn.Linear(64, 1))"
   ]
  },
  {
   "cell_type": "markdown",
   "metadata": {
    "id": "jR81X2ELREh-"
   },
   "source": [
    "Можно ли ее использовать для получения лагранжиана? Ответ обоснуйте."
   ]
  },
  {
   "cell_type": "code",
   "execution_count": null,
   "metadata": {
    "id": "_DIud6xDREh-"
   },
   "outputs": [],
   "source": []
  },
  {
   "cell_type": "markdown",
   "metadata": {
    "id": "KbAm9afEREh-"
   },
   "source": [
    "Что стоит брать в качестве целевого значения при обучении такой сети? Почему не стоит брать учить сеть просто на значения лагранжиана в данном состоянии? Ответ обоснуйте. \n",
    "\n",
    "К сожалению, при простой реализации на pytorch, одна эпоха обучения происходит слишком долго, поэтому реализовать обучение до конца мы не будем. Вместо этого изучите [туториал](https://colab.research.google.com/drive/1CSy-xfrnTX28p1difoTA8ulYw0zytJkq), выпущенный к статье. Хорошо ли работает такой метод? Зачем авторы добавляют шум к данным? "
   ]
  },
  {
   "cell_type": "markdown",
   "metadata": {
    "id": "m9vzFPSHREh_"
   },
   "source": [
    "Сделайте общий вывод по лабораторной работе. Возникли ли у вас какие-нибудь идеи по ходу выполнения? Можно ли для таких задач использовать, например, сверточные сети?"
   ]
  }
 ],
 "metadata": {
  "colab": {
   "collapsed_sections": [],
   "name": "Lagrangian_NN_student.ipynb",
   "provenance": []
  },
  "interpreter": {
   "hash": "ee06607f96e1df99b7a39a77db8ef0ab6e0f0032cb5d5c088fed22f083910b4b"
  },
  "kernelspec": {
   "display_name": "Python 3",
   "language": "python",
   "name": "python3"
  },
  "language_info": {
   "codemirror_mode": {
    "name": "ipython",
    "version": 3
   },
   "file_extension": ".py",
   "mimetype": "text/x-python",
   "name": "python",
   "nbconvert_exporter": "python",
   "pygments_lexer": "ipython3",
   "version": "3.8.10"
  }
 },
 "nbformat": 4,
 "nbformat_minor": 1
}
