{
 "cells": [
  {
   "cell_type": "markdown",
   "metadata": {
    "id": "YbeNF2ytqFaD"
   },
   "source": [
    "# <a href=\"https://mipt-stats.gitlab.io/courses/ad_mipt.html\">Phystech@DataScience</a>\n",
    "## Задание 1\n",
    "\n",
    "**Правила:**\n",
    "\n",
    "* Выполненную работу нужно отправить телеграм-боту, адрес которого будет указан на странице курса до конца недели. Обращаем ваше внимание, что в боте необходимо заранее зарегистрироваться и дождаться подтверждения.\n",
    "* Дедлайн **7 ноября в 22:00**. После дедлайна работы не принимаются кроме случаев наличия уважительной причины.\n",
    "* Прислать нужно ноутбук в формате `ipynb` \n",
    "* Решения, размещенные на каких-либо интернет-ресурсах не принимаются. Публикация решения может быть приравнена к предоставлении возможности списать.\n",
    "* Для выполнения задания используйте этот ноутбук в качествие основы, ничего не удаляя из него.\n",
    "\n",
    "-----"
   ]
  },
  {
   "cell_type": "markdown",
   "metadata": {
    "id": "JYLSkWtOs48n"
   },
   "source": [
    "*Обратите внимание, что во всех заданиях нашего курса, да и в реальной жизни, если вы получаете какие-то результаты, то надо сделать вывод!*"
   ]
  },
  {
   "cell_type": "markdown",
   "metadata": {
    "id": "UpG0m_i6NbuJ"
   },
   "source": [
    "#Задача 1\n",
    "\n",
    "1) Докажите, что критерий Джини равен вероятности ошибки случайного\n",
    "классификатора, который выдаёт предсказания с вероятностями пропорционально\n",
    "доле классов в выборке.\n",
    "\n",
    "2) Выведите вид критерия информативности и найдите ответ в листе дерева для функции потерь $L(y, c) = (y-c)^2$ (см. лекцию)."
   ]
  },
  {
   "cell_type": "markdown",
   "metadata": {
    "id": "rLRCWHzuqUwq"
   },
   "source": [
    "<...>"
   ]
  },
  {
   "cell_type": "code",
   "execution_count": 197,
   "metadata": {
    "id": "lQJgbOfCqTo0"
   },
   "outputs": [],
   "source": [
    "import numpy as np\n",
    "import pandas as pd\n",
    "import scipy.stats as sps\n",
    "\n",
    "import matplotlib.pyplot as plt\n",
    "import seaborn as sns\n",
    "import sklearn\n",
    "sns.set(font_scale=1.3)\n",
    "%matplotlib inline\n",
    "\n",
    "\n",
    "from statsmodels.api import Logit\n",
    "from sklearn.model_selection import train_test_split"
   ]
  },
  {
   "cell_type": "markdown",
   "metadata": {
    "id": "jqRJYbfv_uQ5"
   },
   "source": [
    "# Задача 2\n",
    "\n",
    "(a) Скачайте данные предсказания пульсаров по [ссылке](https://www.kaggle.com/colearninglounge/predicting-pulsar-starintermediate). Описание данных можно вспомнить, посмотрев второе домашнее задание прошлого семестра. Будем использовать только файл train.\n",
    "\n"
   ]
  },
  {
   "cell_type": "code",
   "execution_count": 82,
   "metadata": {
    "id": "S-OvFY7Kqbr6"
   },
   "outputs": [
    {
     "data": {
      "text/html": [
       "<div>\n",
       "<style scoped>\n",
       "    .dataframe tbody tr th:only-of-type {\n",
       "        vertical-align: middle;\n",
       "    }\n",
       "\n",
       "    .dataframe tbody tr th {\n",
       "        vertical-align: top;\n",
       "    }\n",
       "\n",
       "    .dataframe thead th {\n",
       "        text-align: right;\n",
       "    }\n",
       "</style>\n",
       "<table border=\"1\" class=\"dataframe\">\n",
       "  <thead>\n",
       "    <tr style=\"text-align: right;\">\n",
       "      <th></th>\n",
       "      <th>Mean of the integrated profile</th>\n",
       "      <th>Standard deviation of the integrated profile</th>\n",
       "      <th>Excess kurtosis of the integrated profile</th>\n",
       "      <th>Skewness of the integrated profile</th>\n",
       "      <th>Mean of the DM-SNR curve</th>\n",
       "      <th>Standard deviation of the DM-SNR curve</th>\n",
       "      <th>Excess kurtosis of the DM-SNR curve</th>\n",
       "      <th>Skewness of the DM-SNR curve</th>\n",
       "      <th>target_class</th>\n",
       "    </tr>\n",
       "  </thead>\n",
       "  <tbody>\n",
       "    <tr>\n",
       "      <th>0</th>\n",
       "      <td>121.156250</td>\n",
       "      <td>48.372971</td>\n",
       "      <td>0.375485</td>\n",
       "      <td>-0.013165</td>\n",
       "      <td>3.168896</td>\n",
       "      <td>18.399367</td>\n",
       "      <td>7.449874</td>\n",
       "      <td>65.159298</td>\n",
       "      <td>0.0</td>\n",
       "    </tr>\n",
       "    <tr>\n",
       "      <th>1</th>\n",
       "      <td>76.968750</td>\n",
       "      <td>36.175557</td>\n",
       "      <td>0.712898</td>\n",
       "      <td>3.388719</td>\n",
       "      <td>2.399666</td>\n",
       "      <td>17.570997</td>\n",
       "      <td>9.414652</td>\n",
       "      <td>102.722975</td>\n",
       "      <td>0.0</td>\n",
       "    </tr>\n",
       "    <tr>\n",
       "      <th>2</th>\n",
       "      <td>130.585938</td>\n",
       "      <td>53.229534</td>\n",
       "      <td>0.133408</td>\n",
       "      <td>-0.297242</td>\n",
       "      <td>2.743311</td>\n",
       "      <td>22.362553</td>\n",
       "      <td>8.508364</td>\n",
       "      <td>74.031324</td>\n",
       "      <td>0.0</td>\n",
       "    </tr>\n",
       "    <tr>\n",
       "      <th>3</th>\n",
       "      <td>156.398438</td>\n",
       "      <td>48.865942</td>\n",
       "      <td>-0.215989</td>\n",
       "      <td>-0.171294</td>\n",
       "      <td>17.471572</td>\n",
       "      <td>NaN</td>\n",
       "      <td>2.958066</td>\n",
       "      <td>7.197842</td>\n",
       "      <td>0.0</td>\n",
       "    </tr>\n",
       "    <tr>\n",
       "      <th>4</th>\n",
       "      <td>84.804688</td>\n",
       "      <td>36.117659</td>\n",
       "      <td>0.825013</td>\n",
       "      <td>3.274125</td>\n",
       "      <td>2.790134</td>\n",
       "      <td>20.618009</td>\n",
       "      <td>8.405008</td>\n",
       "      <td>76.291128</td>\n",
       "      <td>0.0</td>\n",
       "    </tr>\n",
       "  </tbody>\n",
       "</table>\n",
       "</div>"
      ],
      "text/plain": [
       "    Mean of the integrated profile  \\\n",
       "0                       121.156250   \n",
       "1                        76.968750   \n",
       "2                       130.585938   \n",
       "3                       156.398438   \n",
       "4                        84.804688   \n",
       "\n",
       "    Standard deviation of the integrated profile  \\\n",
       "0                                      48.372971   \n",
       "1                                      36.175557   \n",
       "2                                      53.229534   \n",
       "3                                      48.865942   \n",
       "4                                      36.117659   \n",
       "\n",
       "    Excess kurtosis of the integrated profile  \\\n",
       "0                                    0.375485   \n",
       "1                                    0.712898   \n",
       "2                                    0.133408   \n",
       "3                                   -0.215989   \n",
       "4                                    0.825013   \n",
       "\n",
       "    Skewness of the integrated profile   Mean of the DM-SNR curve  \\\n",
       "0                            -0.013165                   3.168896   \n",
       "1                             3.388719                   2.399666   \n",
       "2                            -0.297242                   2.743311   \n",
       "3                            -0.171294                  17.471572   \n",
       "4                             3.274125                   2.790134   \n",
       "\n",
       "    Standard deviation of the DM-SNR curve  \\\n",
       "0                                18.399367   \n",
       "1                                17.570997   \n",
       "2                                22.362553   \n",
       "3                                      NaN   \n",
       "4                                20.618009   \n",
       "\n",
       "    Excess kurtosis of the DM-SNR curve   Skewness of the DM-SNR curve  \\\n",
       "0                              7.449874                      65.159298   \n",
       "1                              9.414652                     102.722975   \n",
       "2                              8.508364                      74.031324   \n",
       "3                              2.958066                       7.197842   \n",
       "4                              8.405008                      76.291128   \n",
       "\n",
       "   target_class  \n",
       "0           0.0  \n",
       "1           0.0  \n",
       "2           0.0  \n",
       "3           0.0  \n",
       "4           0.0  "
      ]
     },
     "execution_count": 82,
     "metadata": {},
     "output_type": "execute_result"
    }
   ],
   "source": [
    "data = pd.read_csv('archive/pulsar_data_train.csv', sep=\",\")\n",
    "data.head()"
   ]
  },
  {
   "cell_type": "code",
   "execution_count": 76,
   "metadata": {},
   "outputs": [
    {
     "data": {
      "text/plain": [
       "(12528, 9)"
      ]
     },
     "execution_count": 76,
     "metadata": {},
     "output_type": "execute_result"
    }
   ],
   "source": [
    "data.shape"
   ]
  },
  {
   "cell_type": "code",
   "execution_count": 77,
   "metadata": {
    "scrolled": true
   },
   "outputs": [
    {
     "data": {
      "text/plain": [
       "Index([' Mean of the integrated profile',\n",
       "       ' Standard deviation of the integrated profile',\n",
       "       ' Excess kurtosis of the integrated profile',\n",
       "       ' Skewness of the integrated profile', ' Mean of the DM-SNR curve',\n",
       "       ' Standard deviation of the DM-SNR curve',\n",
       "       ' Excess kurtosis of the DM-SNR curve', ' Skewness of the DM-SNR curve',\n",
       "       'target_class'],\n",
       "      dtype='object')"
      ]
     },
     "execution_count": 77,
     "metadata": {},
     "output_type": "execute_result"
    }
   ],
   "source": [
    "data.columns"
   ]
  },
  {
   "cell_type": "code",
   "execution_count": 78,
   "metadata": {},
   "outputs": [],
   "source": [
    "pulsar = data.loc[data.target_class == 1]\n",
    "nap = data.loc[data.target_class == 0]\n",
    "\n",
    "# все, что ниже в этом окне, не нужно\n",
    "c1 = data.dropna()[' Mean of the integrated profile']\n",
    "c2 = data.dropna()[' Standard deviation of the integrated profile']\n",
    "c3 = data.dropna()[' Excess kurtosis of the integrated profile']\n",
    "c4 = data.dropna()[' Skewness of the integrated profile']\n",
    "c5 = data.dropna()[' Mean of the DM-SNR curve']\n",
    "c6 = data.dropna()[' Standard deviation of the DM-SNR curve']\n",
    "c7 = data.dropna()[' Excess kurtosis of the DM-SNR curve']\n",
    "c8 = data.dropna()[' Skewness of the DM-SNR curve']\n",
    "c9 = data.dropna()['target_class']"
   ]
  },
  {
   "cell_type": "code",
   "execution_count": 67,
   "metadata": {},
   "outputs": [
    {
     "name": "stderr",
     "output_type": "stream",
     "text": [
      "/home/aquila/.local/lib/python3.8/site-packages/seaborn/_decorators.py:36: FutureWarning: Pass the following variable as a keyword arg: y. From version 0.12, the only valid positional argument will be `data`, and passing other arguments without an explicit keyword will result in an error or misinterpretation.\n",
      "  warnings.warn(\n",
      "/home/aquila/.local/lib/python3.8/site-packages/seaborn/_decorators.py:36: FutureWarning: Pass the following variable as a keyword arg: y. From version 0.12, the only valid positional argument will be `data`, and passing other arguments without an explicit keyword will result in an error or misinterpretation.\n",
      "  warnings.warn(\n"
     ]
    },
    {
     "data": {
      "image/png": "[encoded data removed]",
      "text/plain": [
       "<Figure size 864x576 with 1 Axes>"
      ]
     },
     "metadata": {},
     "output_type": "display_data"
    }
   ],
   "source": [
    "#не нужно это окно\n",
    "\n",
    "plt.figure(figsize=(12, 8))\n",
    "with sns.axes_style(\"darkgrid\"):\n",
    "    ax = sns.kdeplot(type1.dropna()[' Mean of the integrated profile'],type1.dropna()[' Standard deviation of the integrated profile'], \n",
    "                     label=\"class 1\", cmap='Blues')\n",
    "    ax = sns.kdeplot(type2.dropna()[' Mean of the integrated profile'],type2.dropna()[' Standard deviation of the integrated profile'], \n",
    "                     label=\"class 0\", cmap='Reds')\n",
    "    #ax = sns.kdeplot(versicolor.sepal_length, versicolor.sepal_width, \n",
    "     #                label=\"versicolor\", cmap='Greens')\n",
    "    #ax = sns.kdeplot(virginica.sepal_length, virginica.sepal_width, \n",
    "    #                 label=\"virginica\", cmap='Reds')\n",
    "    ax.set_title(\"Пульсары\");\n",
    "    ax.legend().get_frame().set_facecolor(\"white\");\n",
    "\n"
   ]
  },
  {
   "cell_type": "markdown",
   "metadata": {
    "id": "OVGMAYCh_uQ8"
   },
   "source": [
    "(b) Проведите визуальный анализ данных. Например, можете построить оценки плотности по каждому признаку\n",
    "отдельно для каждого класса. \n",
    "В прошлом семестре мы также научились много всего делать. Какие признаки лучше всего разделяют классы?"
   ]
  },
  {
   "cell_type": "code",
   "execution_count": 219,
   "metadata": {
    "id": "_DzTAnmWqgM3",
    "scrolled": false
   },
   "outputs": [
    {
     "name": "stderr",
     "output_type": "stream",
     "text": [
      "/usr/lib/python3/dist-packages/matplotlib/cbook/__init__.py:1402: FutureWarning: Support for multi-dimensional indexing (e.g. `obj[:, None]`) is deprecated and will be removed in a future version.  Convert to a numpy array before indexing instead.\n",
      "  ndim = x[:, None].ndim\n",
      "/usr/lib/python3/dist-packages/matplotlib/axes/_base.py:276: FutureWarning: Support for multi-dimensional indexing (e.g. `obj[:, None]`) is deprecated and will be removed in a future version.  Convert to a numpy array before indexing instead.\n",
      "  x = x[:, np.newaxis]\n",
      "/usr/lib/python3/dist-packages/matplotlib/axes/_base.py:278: FutureWarning: Support for multi-dimensional indexing (e.g. `obj[:, None]`) is deprecated and will be removed in a future version.  Convert to a numpy array before indexing instead.\n",
      "  y = y[:, np.newaxis]\n",
      "/usr/lib/python3/dist-packages/matplotlib/cbook/__init__.py:1402: FutureWarning: Support for multi-dimensional indexing (e.g. `obj[:, None]`) is deprecated and will be removed in a future version.  Convert to a numpy array before indexing instead.\n",
      "  ndim = x[:, None].ndim\n",
      "/usr/lib/python3/dist-packages/matplotlib/axes/_base.py:276: FutureWarning: Support for multi-dimensional indexing (e.g. `obj[:, None]`) is deprecated and will be removed in a future version.  Convert to a numpy array before indexing instead.\n",
      "  x = x[:, np.newaxis]\n",
      "/usr/lib/python3/dist-packages/matplotlib/axes/_base.py:278: FutureWarning: Support for multi-dimensional indexing (e.g. `obj[:, None]`) is deprecated and will be removed in a future version.  Convert to a numpy array before indexing instead.\n",
      "  y = y[:, np.newaxis]\n",
      "/usr/lib/python3/dist-packages/matplotlib/cbook/__init__.py:1402: FutureWarning: Support for multi-dimensional indexing (e.g. `obj[:, None]`) is deprecated and will be removed in a future version.  Convert to a numpy array before indexing instead.\n",
      "  ndim = x[:, None].ndim\n",
      "/usr/lib/python3/dist-packages/matplotlib/axes/_base.py:276: FutureWarning: Support for multi-dimensional indexing (e.g. `obj[:, None]`) is deprecated and will be removed in a future version.  Convert to a numpy array before indexing instead.\n",
      "  x = x[:, np.newaxis]\n",
      "/usr/lib/python3/dist-packages/matplotlib/axes/_base.py:278: FutureWarning: Support for multi-dimensional indexing (e.g. `obj[:, None]`) is deprecated and will be removed in a future version.  Convert to a numpy array before indexing instead.\n",
      "  y = y[:, np.newaxis]\n",
      "/usr/lib/python3/dist-packages/matplotlib/cbook/__init__.py:1402: FutureWarning: Support for multi-dimensional indexing (e.g. `obj[:, None]`) is deprecated and will be removed in a future version.  Convert to a numpy array before indexing instead.\n",
      "  ndim = x[:, None].ndim\n",
      "/usr/lib/python3/dist-packages/matplotlib/axes/_base.py:276: FutureWarning: Support for multi-dimensional indexing (e.g. `obj[:, None]`) is deprecated and will be removed in a future version.  Convert to a numpy array before indexing instead.\n",
      "  x = x[:, np.newaxis]\n",
      "/usr/lib/python3/dist-packages/matplotlib/axes/_base.py:278: FutureWarning: Support for multi-dimensional indexing (e.g. `obj[:, None]`) is deprecated and will be removed in a future version.  Convert to a numpy array before indexing instead.\n",
      "  y = y[:, np.newaxis]\n",
      "/usr/lib/python3/dist-packages/matplotlib/cbook/__init__.py:1402: FutureWarning: Support for multi-dimensional indexing (e.g. `obj[:, None]`) is deprecated and will be removed in a future version.  Convert to a numpy array before indexing instead.\n",
      "  ndim = x[:, None].ndim\n",
      "/usr/lib/python3/dist-packages/matplotlib/axes/_base.py:276: FutureWarning: Support for multi-dimensional indexing (e.g. `obj[:, None]`) is deprecated and will be removed in a future version.  Convert to a numpy array before indexing instead.\n",
      "  x = x[:, np.newaxis]\n",
      "/usr/lib/python3/dist-packages/matplotlib/axes/_base.py:278: FutureWarning: Support for multi-dimensional indexing (e.g. `obj[:, None]`) is deprecated and will be removed in a future version.  Convert to a numpy array before indexing instead.\n",
      "  y = y[:, np.newaxis]\n",
      "/usr/lib/python3/dist-packages/matplotlib/cbook/__init__.py:1402: FutureWarning: Support for multi-dimensional indexing (e.g. `obj[:, None]`) is deprecated and will be removed in a future version.  Convert to a numpy array before indexing instead.\n",
      "  ndim = x[:, None].ndim\n",
      "/usr/lib/python3/dist-packages/matplotlib/axes/_base.py:276: FutureWarning: Support for multi-dimensional indexing (e.g. `obj[:, None]`) is deprecated and will be removed in a future version.  Convert to a numpy array before indexing instead.\n",
      "  x = x[:, np.newaxis]\n",
      "/usr/lib/python3/dist-packages/matplotlib/axes/_base.py:278: FutureWarning: Support for multi-dimensional indexing (e.g. `obj[:, None]`) is deprecated and will be removed in a future version.  Convert to a numpy array before indexing instead.\n",
      "  y = y[:, np.newaxis]\n",
      "/usr/lib/python3/dist-packages/matplotlib/cbook/__init__.py:1402: FutureWarning: Support for multi-dimensional indexing (e.g. `obj[:, None]`) is deprecated and will be removed in a future version.  Convert to a numpy array before indexing instead.\n",
      "  ndim = x[:, None].ndim\n",
      "/usr/lib/python3/dist-packages/matplotlib/axes/_base.py:276: FutureWarning: Support for multi-dimensional indexing (e.g. `obj[:, None]`) is deprecated and will be removed in a future version.  Convert to a numpy array before indexing instead.\n",
      "  x = x[:, np.newaxis]\n",
      "/usr/lib/python3/dist-packages/matplotlib/axes/_base.py:278: FutureWarning: Support for multi-dimensional indexing (e.g. `obj[:, None]`) is deprecated and will be removed in a future version.  Convert to a numpy array before indexing instead.\n",
      "  y = y[:, np.newaxis]\n",
      "/usr/lib/python3/dist-packages/matplotlib/cbook/__init__.py:1402: FutureWarning: Support for multi-dimensional indexing (e.g. `obj[:, None]`) is deprecated and will be removed in a future version.  Convert to a numpy array before indexing instead.\n",
      "  ndim = x[:, None].ndim\n",
      "/usr/lib/python3/dist-packages/matplotlib/axes/_base.py:276: FutureWarning: Support for multi-dimensional indexing (e.g. `obj[:, None]`) is deprecated and will be removed in a future version.  Convert to a numpy array before indexing instead.\n",
      "  x = x[:, np.newaxis]\n",
      "/usr/lib/python3/dist-packages/matplotlib/axes/_base.py:278: FutureWarning: Support for multi-dimensional indexing (e.g. `obj[:, None]`) is deprecated and will be removed in a future version.  Convert to a numpy array before indexing instead.\n",
      "  y = y[:, np.newaxis]\n"
     ]
    },
    {
     "data": {
      "text/plain": [
       "<Figure size 1080x360 with 0 Axes>"
      ]
     },
     "metadata": {},
     "output_type": "display_data"
    },
    {
     "data": {
      "image/png": "[encoded data removed]",
      "text/plain": [
       "<Figure size 180x180 with 2 Axes>"
      ]
     },
     "metadata": {},
     "output_type": "display_data"
    },
    {
     "data": {
      "text/plain": [
       "<Figure size 1080x360 with 0 Axes>"
      ]
     },
     "metadata": {},
     "output_type": "display_data"
    },
    {
     "data": {
      "image/png": "[encoded data removed]",
      "text/plain": [
       "<Figure size 180x180 with 2 Axes>"
      ]
     },
     "metadata": {},
     "output_type": "display_data"
    },
    {
     "data": {
      "text/plain": [
       "<Figure size 1080x360 with 0 Axes>"
      ]
     },
     "metadata": {},
     "output_type": "display_data"
    },
    {
     "data": {
      "image/png": "[encoded data removed]",
      "text/plain": [
       "<Figure size 180x180 with 2 Axes>"
      ]
     },
     "metadata": {},
     "output_type": "display_data"
    },
    {
     "data": {
      "text/plain": [
       "<Figure size 1080x360 with 0 Axes>"
      ]
     },
     "metadata": {},
     "output_type": "display_data"
    },
    {
     "data": {
      "image/png": "[encoded data removed]",
      "text/plain": [
       "<Figure size 180x180 with 2 Axes>"
      ]
     },
     "metadata": {},
     "output_type": "display_data"
    },
    {
     "data": {
      "text/plain": [
       "<Figure size 1080x360 with 0 Axes>"
      ]
     },
     "metadata": {},
     "output_type": "display_data"
    },
    {
     "data": {
      "image/png": "[encoded data removed]",
      "text/plain": [
       "<Figure size 180x180 with 2 Axes>"
      ]
     },
     "metadata": {},
     "output_type": "display_data"
    },
    {
     "data": {
      "text/plain": [
       "<Figure size 1080x360 with 0 Axes>"
      ]
     },
     "metadata": {},
     "output_type": "display_data"
    },
    {
     "data": {
      "image/png": "[encoded data removed]",
      "text/plain": [
       "<Figure size 180x180 with 2 Axes>"
      ]
     },
     "metadata": {},
     "output_type": "display_data"
    },
    {
     "data": {
      "text/plain": [
       "<Figure size 1080x360 with 0 Axes>"
      ]
     },
     "metadata": {},
     "output_type": "display_data"
    },
    {
     "data": {
      "image/png": "[encoded data removed]",
      "text/plain": [
       "<Figure size 180x180 with 2 Axes>"
      ]
     },
     "metadata": {},
     "output_type": "display_data"
    },
    {
     "data": {
      "text/plain": [
       "<Figure size 1080x360 with 0 Axes>"
      ]
     },
     "metadata": {},
     "output_type": "display_data"
    },
    {
     "data": {
      "image/png": "[encoded data removed]",
      "text/plain": [
       "<Figure size 180x180 with 2 Axes>"
      ]
     },
     "metadata": {},
     "output_type": "display_data"
    }
   ],
   "source": [
    "#некарсиво. Надо исправить и отнормировать\n",
    "\n",
    "sns.set(style='white', font_scale=0.4)\n",
    "\n",
    "for i in range(8):\n",
    "    plt.figure(figsize=(15, 5))\n",
    "    g = sns.PairGrid(data.iloc[:, [i,8]], hue='target_class', diag_sharey=False)\n",
    "    g.map_lower(sns.kdeplot, cmap='Blues_d')\n",
    "    g.map_upper(plt.scatter, alpha=0.5)\n",
    "    g.map_diag(sns.kdeplot, lw=3);\n",
    "\n"
   ]
  },
  {
   "cell_type": "code",
   "execution_count": null,
   "metadata": {},
   "outputs": [],
   "source": [
    "sns.histplot(data=sample, kde=True)"
   ]
  },
  {
   "cell_type": "markdown",
   "metadata": {
    "id": "iEoAwOkf_uQ_"
   },
   "source": [
    "**Вывод** <...>"
   ]
  },
  {
   "cell_type": "markdown",
   "metadata": {
    "id": "IDx0pF38qqJt"
   },
   "source": [
    "В данных есть пропуски. Сколько их? Уберите данные с пропусками или примените методы работы с пропусками. Их мы затронем на лекции. "
   ]
  },
  {
   "cell_type": "code",
   "execution_count": 114,
   "metadata": {},
   "outputs": [],
   "source": [
    "data_drop = data.dropna()"
   ]
  },
  {
   "cell_type": "code",
   "execution_count": 115,
   "metadata": {
    "scrolled": true
   },
   "outputs": [
    {
     "data": {
      "text/plain": [
       "(12528, 9)"
      ]
     },
     "execution_count": 115,
     "metadata": {},
     "output_type": "execute_result"
    }
   ],
   "source": [
    "data.shape"
   ]
  },
  {
   "cell_type": "code",
   "execution_count": 116,
   "metadata": {},
   "outputs": [
    {
     "data": {
      "text/plain": [
       "(9273, 9)"
      ]
     },
     "execution_count": 116,
     "metadata": {},
     "output_type": "execute_result"
    }
   ],
   "source": [
    "data_drop.shape"
   ]
  },
  {
   "cell_type": "markdown",
   "metadata": {},
   "source": [
    "Пропуски составляют около 36 процентов, что очень значимо, а значит стоит применить технику работы с пропусками, тк мы рискуем потерять важные данные."
   ]
  },
  {
   "cell_type": "markdown",
   "metadata": {
    "id": "18C9pCBs_uQ_"
   },
   "source": [
    "(c) Добавьте  свободный член.   Разделите выборку на обучающую и тестовую часть случайным образом в соотношении 4:1."
   ]
  },
  {
   "cell_type": "code",
   "execution_count": 117,
   "metadata": {
    "id": "tBvvMCML_uQ_"
   },
   "outputs": [],
   "source": [
    "import statsmodels as sm\n",
    "\n",
    "data_drop.insert(8, \"Free\", 1)\n",
    "train, test = train_test_split(data_drop, test_size=0.2, train_size=0.8, random_state=42)"
   ]
  },
  {
   "cell_type": "markdown",
   "metadata": {
    "id": "t0DiXhw-_uQ_"
   },
   "source": [
    "(d)  Обучите логистическую регрессию по всем признакам.  Используйте класс `Logit` из `statsmodels`, так как он позволит также проверить гипотезы незначимости модели и признаков, как в случае линейной регресии. Мы не проходили это в теории, но так можно делать:)). При использовании обратите внимание на его интерфейс. "
   ]
  },
  {
   "cell_type": "code",
   "execution_count": 1,
   "metadata": {},
   "outputs": [
    {
     "ename": "NameError",
     "evalue": "name 'train' is not defined",
     "output_type": "error",
     "traceback": [
      "\u001b[0;31m---------------------------------------------------------------------------\u001b[0m",
      "\u001b[0;31mNameError\u001b[0m                                 Traceback (most recent call last)",
      "\u001b[0;32m<ipython-input-1-77094f8a9a20>\u001b[0m in \u001b[0;36m<module>\u001b[0;34m\u001b[0m\n\u001b[0;32m----> 1\u001b[0;31m \u001b[0mX_train\u001b[0m \u001b[0;34m=\u001b[0m \u001b[0mtrain\u001b[0m\u001b[0;34m.\u001b[0m\u001b[0mdrop\u001b[0m\u001b[0;34m(\u001b[0m\u001b[0mcolumns\u001b[0m\u001b[0;34m=\u001b[0m\u001b[0;34m[\u001b[0m\u001b[0;34m'target_class'\u001b[0m\u001b[0;34m]\u001b[0m\u001b[0;34m)\u001b[0m\u001b[0;34m\u001b[0m\u001b[0;34m\u001b[0m\u001b[0m\n\u001b[0m\u001b[1;32m      2\u001b[0m \u001b[0mX_test\u001b[0m \u001b[0;34m=\u001b[0m \u001b[0mtest\u001b[0m\u001b[0;34m.\u001b[0m\u001b[0mdrop\u001b[0m\u001b[0;34m(\u001b[0m\u001b[0mcolumns\u001b[0m\u001b[0;34m=\u001b[0m\u001b[0;34m[\u001b[0m\u001b[0;34m'target_class'\u001b[0m\u001b[0;34m]\u001b[0m\u001b[0;34m)\u001b[0m\u001b[0;34m\u001b[0m\u001b[0;34m\u001b[0m\u001b[0m\n\u001b[1;32m      3\u001b[0m \u001b[0mY_train\u001b[0m \u001b[0;34m=\u001b[0m \u001b[0mtrain\u001b[0m\u001b[0;34m[\u001b[0m\u001b[0;34m'target_class'\u001b[0m\u001b[0;34m]\u001b[0m\u001b[0;34m\u001b[0m\u001b[0;34m\u001b[0m\u001b[0m\n\u001b[1;32m      4\u001b[0m \u001b[0mY_test\u001b[0m \u001b[0;34m=\u001b[0m \u001b[0mtest\u001b[0m\u001b[0;34m[\u001b[0m\u001b[0;34m'target_class'\u001b[0m\u001b[0;34m]\u001b[0m\u001b[0;34m\u001b[0m\u001b[0;34m\u001b[0m\u001b[0m\n",
      "\u001b[0;31mNameError\u001b[0m: name 'train' is not defined"
     ]
    }
   ],
   "source": [
    "X_train = df_train.drop(columns=['target_class'])\n",
    "X_test = df_test.drop(columns=['target_class'])\n",
    "Y_train = df_train['target_class']\n",
    "Y_test = df_test['target_class']"
   ]
  },
  {
   "cell_type": "code",
   "execution_count": 127,
   "metadata": {
    "id": "3_5LNs6YVtsh"
   },
   "outputs": [
    {
     "name": "stdout",
     "output_type": "stream",
     "text": [
      "Optimization terminated successfully.\n",
      "         Current function value: 0.074658\n",
      "         Iterations 10\n"
     ]
    }
   ],
   "source": [
    "log_reg = sm.Logit(y_train, Xtrain).fit()"
   ]
  },
  {
   "cell_type": "markdown",
   "metadata": {
    "id": "AM6HtvRAYAkb"
   },
   "source": [
    "Напечатайте `summary` модели. Вид `summary` похож на таблицу для линейной регрессии (см. лекцию про нее). Что можно сказать про признаки? "
   ]
  },
  {
   "cell_type": "code",
   "execution_count": 130,
   "metadata": {
    "id": "n5LeBHORLqtQ"
   },
   "outputs": [
    {
     "name": "stdout",
     "output_type": "stream",
     "text": [
      "                           Logit Regression Results                           \n",
      "==============================================================================\n",
      "Dep. Variable:           target_class   No. Observations:                 7418\n",
      "Model:                          Logit   Df Residuals:                     7409\n",
      "Method:                           MLE   Df Model:                            8\n",
      "Date:                Sun, 07 Nov 2021   Pseudo R-squ.:                  0.7580\n",
      "Time:                        19:07:33   Log-Likelihood:                -553.81\n",
      "converged:                       True   LL-Null:                       -2288.8\n",
      "Covariance Type:            nonrobust   LLR p-value:                     0.000\n",
      "=================================================================================================================\n",
      "                                                    coef    std err          z      P>|z|      [0.025      0.975]\n",
      "-----------------------------------------------------------------------------------------------------------------\n",
      " Mean of the integrated profile                   0.0210      0.009      2.348      0.019       0.003       0.039\n",
      " Standard deviation of the integrated profile    -0.0240      0.016     -1.472      0.141      -0.056       0.008\n",
      " Excess kurtosis of the integrated profile        6.1879      0.456     13.582      0.000       5.295       7.081\n",
      " Skewness of the integrated profile              -0.5631      0.064     -8.738      0.000      -0.689      -0.437\n",
      " Mean of the DM-SNR curve                        -0.0306      0.005     -5.827      0.000      -0.041      -0.020\n",
      " Standard deviation of the DM-SNR curve           0.0673      0.011      5.947      0.000       0.045       0.089\n",
      " Excess kurtosis of the DM-SNR curve              0.2341      0.146      1.601      0.109      -0.053       0.521\n",
      " Skewness of the DM-SNR curve                    -0.0105      0.006     -1.883      0.060      -0.021       0.000\n",
      "Free                                             -9.7107      1.555     -6.246      0.000     -12.758      -6.664\n",
      "=================================================================================================================\n"
     ]
    }
   ],
   "source": [
    "print(result.summary())"
   ]
  },
  {
   "cell_type": "markdown",
   "metadata": {
    "id": "vqES-_AD_uRA"
   },
   "source": [
    "(e) Оставьте только значимые признаки *(как это правильно сделать?)*, обучите модель еще раз и проинтерпретируйте полученные\n",
    "результаты. Какой смысл имеют коэффициенты модели?"
   ]
  },
  {
   "cell_type": "markdown",
   "metadata": {},
   "source": [
    "Если p-value меньше 0.05, то признак зачимый. То есть значимы признаки:\n",
    "\n",
    "1. Free   \n",
    "2.  Standard deviation of the DM-SNR curve\n",
    "3.  Mean of the DM-SNR curve\n",
    "4. Skewness of the integrated profile \n",
    "5. Excess kurtosis of the integrated profile\n",
    "6. Mean of the integrated profile \n",
    "\n",
    "Можно заметить, что коэффициенты перед значимыми признаками больше, чем перед незначимыми. Предположу, что коэффийиент -- это в каком-то смысле вклад в результат. И важную оль играет не абсолютное его значение, а относительное, то есть сравнение коэф-ов перед разными признаками (чем больше по модулю коэф, тем он важнее)."
   ]
  },
  {
   "cell_type": "code",
   "execution_count": 134,
   "metadata": {
    "id": "_IZnb09xsJ8K"
   },
   "outputs": [],
   "source": [
    "X_train_new = X_train[['Free', ' Standard deviation of the DM-SNR curve', ' Mean of the DM-SNR curve', ' Skewness of the integrated profile',  ' Excess kurtosis of the integrated profile', ' Mean of the integrated profile']]\n",
    "X_test_new = X_test[['Free', ' Standard deviation of the DM-SNR curve', ' Mean of the DM-SNR curve', ' Skewness of the integrated profile',  ' Excess kurtosis of the integrated profile', ' Mean of the integrated profile']]"
   ]
  },
  {
   "cell_type": "code",
   "execution_count": 135,
   "metadata": {},
   "outputs": [
    {
     "name": "stdout",
     "output_type": "stream",
     "text": [
      "Optimization terminated successfully.\n",
      "         Current function value: 0.075251\n",
      "         Iterations 9\n",
      "                           Logit Regression Results                           \n",
      "==============================================================================\n",
      "Dep. Variable:           target_class   No. Observations:                 7418\n",
      "Model:                          Logit   Df Residuals:                     7412\n",
      "Method:                           MLE   Df Model:                            5\n",
      "Date:                Sun, 07 Nov 2021   Pseudo R-squ.:                  0.7561\n",
      "Time:                        19:21:42   Log-Likelihood:                -558.21\n",
      "converged:                       True   LL-Null:                       -2288.8\n",
      "Covariance Type:            nonrobust   LLR p-value:                     0.000\n",
      "==============================================================================================================\n",
      "                                                 coef    std err          z      P>|z|      [0.025      0.975]\n",
      "--------------------------------------------------------------------------------------------------------------\n",
      "Free                                          -9.0832      1.056     -8.601      0.000     -11.153      -7.013\n",
      " Standard deviation of the DM-SNR curve        0.0611      0.006     10.102      0.000       0.049       0.073\n",
      " Mean of the DM-SNR curve                     -0.0368      0.005     -8.013      0.000      -0.046      -0.028\n",
      " Skewness of the integrated profile           -0.4893      0.070     -6.973      0.000      -0.627      -0.352\n",
      " Excess kurtosis of the integrated profile     5.8579      0.442     13.253      0.000       4.992       6.724\n",
      " Mean of the integrated profile                0.0164      0.009      1.896      0.058      -0.001       0.033\n",
      "==============================================================================================================\n"
     ]
    }
   ],
   "source": [
    "model_new = statsmodels.discrete.discrete_model.Logit(Y_train, X_train_new)\n",
    "result_new = model_new.fit()\n",
    "print(result_new.summary())"
   ]
  },
  {
   "cell_type": "markdown",
   "metadata": {},
   "source": [
    "Количество итераций уменьшилось на одну, а значение осталось примерно таким же, то есть убранные признакми действительно оказались не значимыми для получения результаты."
   ]
  },
  {
   "cell_type": "markdown",
   "metadata": {
    "id": "Zcc65PL4_uRB"
   },
   "source": [
    "(f) Для  объектов из тестовой выборки оцените вероятность того, что это пульсар и сделайте предсказания. Насколько точны\n",
    "ваши прогнозы?\n",
    "Реализуйте известные вам метрики качества, основывающиеся на матрице ошибок и выведите их значения. Какие метрики вам кажутся важнее в данной задаче?\n",
    "\n",
    "Также посмотрите на ROC и PR-кривые, AUC. Сделайте выводы."
   ]
  },
  {
   "cell_type": "code",
   "execution_count": 216,
   "metadata": {
    "id": "zLxJNEdK_uRC"
   },
   "outputs": [],
   "source": [
    "Y_pred = result.predict(X_test).to_numpy()\n",
    "Y_test = Y_test.to_numpy()"
   ]
  },
  {
   "cell_type": "code",
   "execution_count": 217,
   "metadata": {},
   "outputs": [],
   "source": [
    "k=0\n",
    "for i in range(len(Y_pred)):\n",
    "    if(Y_pred[i]>0.5):\n",
    "        Y_pred[i]=1\n",
    "    else:\n",
    "        Y_pred[i]=0\n",
    "    if(Y_pred[i]!=Y_test[i]):\n",
    "        k = k+1"
   ]
  },
  {
   "cell_type": "code",
   "execution_count": 185,
   "metadata": {},
   "outputs": [
    {
     "name": "stdout",
     "output_type": "stream",
     "text": [
      "0.021024258760107817\n"
     ]
    }
   ],
   "source": [
    "print(k/len(Y_test))"
   ]
  },
  {
   "cell_type": "markdown",
   "metadata": {},
   "source": [
    "**Матрица ошибок**"
   ]
  },
  {
   "cell_type": "code",
   "execution_count": 187,
   "metadata": {},
   "outputs": [],
   "source": [
    "from sklearn.metrics import (\n",
    "    accuracy_score, precision_score, recall_score, f1_score, roc_auc_score,\n",
    "    confusion_matrix)"
   ]
  },
  {
   "cell_type": "code",
   "execution_count": 188,
   "metadata": {},
   "outputs": [
    {
     "name": "stdout",
     "output_type": "stream",
     "text": [
      "TN = 1684\n",
      "FP = 8\n",
      "FN = 31\n",
      "TP = 132\n"
     ]
    }
   ],
   "source": [
    "matrix = confusion_matrix(Y_test, Y_pred)\n",
    "(TN, FP), (FN, TP) = matrix\n",
    "print(f'TN = {TN}')\n",
    "print(f'FP = {FP}')\n",
    "print(f'FN = {FN}')\n",
    "print(f'TP = {TP}')"
   ]
  },
  {
   "cell_type": "markdown",
   "metadata": {},
   "source": [
    "**Accuracy**"
   ]
  },
  {
   "cell_type": "code",
   "execution_count": 189,
   "metadata": {},
   "outputs": [
    {
     "name": "stdout",
     "output_type": "stream",
     "text": [
      "Accuracy: 0.979\n"
     ]
    }
   ],
   "source": [
    "accuracy = accuracy_score(Y_test, Y_pred)\n",
    "print(f'Accuracy: {accuracy:.3f}')"
   ]
  },
  {
   "cell_type": "markdown",
   "metadata": {},
   "source": [
    "**Precision**"
   ]
  },
  {
   "cell_type": "code",
   "execution_count": 190,
   "metadata": {},
   "outputs": [
    {
     "name": "stdout",
     "output_type": "stream",
     "text": [
      "Precision = 0.943\n"
     ]
    }
   ],
   "source": [
    "precision = precision_score(Y_test, Y_pred)\n",
    "print(f'Precision = {precision:.3f}')"
   ]
  },
  {
   "cell_type": "markdown",
   "metadata": {},
   "source": [
    "**Recall**"
   ]
  },
  {
   "cell_type": "code",
   "execution_count": 191,
   "metadata": {},
   "outputs": [
    {
     "name": "stdout",
     "output_type": "stream",
     "text": [
      "Recall = 0.810\n"
     ]
    }
   ],
   "source": [
    "recall = recall_score(Y_test, Y_pred)\n",
    "print(f'Recall = {recall:.3f}')"
   ]
  },
  {
   "cell_type": "markdown",
   "metadata": {},
   "source": [
    "**F1-мера**"
   ]
  },
  {
   "cell_type": "code",
   "execution_count": 193,
   "metadata": {},
   "outputs": [
    {
     "name": "stdout",
     "output_type": "stream",
     "text": [
      "F1 = 0.871\n"
     ]
    }
   ],
   "source": [
    "print(f'F1 = {2*recall*precision/(precision+recall):.3f}')"
   ]
  },
  {
   "cell_type": "markdown",
   "metadata": {},
   "source": [
    "### Площадь под ROC-кривой (Area Under ROC Curve, AUC-ROC)"
   ]
  },
  {
   "cell_type": "code",
   "execution_count": 194,
   "metadata": {},
   "outputs": [
    {
     "name": "stdout",
     "output_type": "stream",
     "text": [
      "AUC-ROC: 0.903\n"
     ]
    }
   ],
   "source": [
    "roc_auc = roc_auc_score(Y_test, Y_pred)\n",
    "print(f'AUC-ROC: {roc_auc:.3f}')"
   ]
  },
  {
   "cell_type": "code",
   "execution_count": 198,
   "metadata": {
    "scrolled": false
   },
   "outputs": [
    {
     "data": {
      "image/png": "[encoded data removed]",
      "text/plain": [
       "<Figure size 576x432 with 1 Axes>"
      ]
     },
     "metadata": {
      "needs_background": "light"
     },
     "output_type": "display_data"
    }
   ],
   "source": [
    "fpr, tpr, thresholds = sklearn.metrics.roc_curve(Y_test, Y_pred)\n",
    "\n",
    "plt.figure(figsize=(8, 6))\n",
    "plt.plot(fpr, tpr, lw=4, label='ROC curve')\n",
    "plt.plot([0, 1], [0, 1])\n",
    "plt.xlim([-0.05, 1.05])\n",
    "plt.ylim([-0.05, 1.05])\n",
    "plt.grid(ls=\":\")\n",
    "plt.title('ROC curve')\n",
    "plt.xlabel('False Positive Rate')\n",
    "plt.ylabel('True Positive Rate')\n",
    "plt.show()"
   ]
  },
  {
   "cell_type": "markdown",
   "metadata": {},
   "source": [
    "### Площадь под PR-кривой (Area Under PR Curve, AUC-PR)"
   ]
  },
  {
   "cell_type": "code",
   "execution_count": 218,
   "metadata": {
    "scrolled": false
   },
   "outputs": [
    {
     "data": {
      "image/png": "[encoded data removed]",
      "text/plain": [
       "<Figure size 576x432 with 1 Axes>"
      ]
     },
     "metadata": {
      "needs_background": "light"
     },
     "output_type": "display_data"
    }
   ],
   "source": [
    "precisions, recalls, thresholds = sklearn.metrics.precision_recall_curve(\n",
    "    Y_test, Y_pred\n",
    ")\n",
    "\n",
    "plt.figure(figsize=(8, 6))\n",
    "plt.plot(recalls, precisions, lw=2, label='PR curve')\n",
    "plt.xlim([-0.05, 1.05])\n",
    "plt.ylim([-0.05, 1.05])\n",
    "plt.grid(ls=\":\")\n",
    "plt.title('PR curve')\n",
    "plt.xlabel('Recall')\n",
    "plt.ylabel('Precision')\n",
    "plt.show()"
   ]
  },
  {
   "cell_type": "markdown",
   "metadata": {},
   "source": [
    "**Вывод**\n",
    "\n",
    "Судя по тому, насколько ROC-curve близка к идеальному виду кривой (\"уголку\"), наша классификация хороша."
   ]
  },
  {
   "cell_type": "markdown",
   "metadata": {
    "id": "4v2R98ca_uRF"
   },
   "source": [
    "(g) Подберите оптимальный порог классификации для получения максимальной результативности прогноза. \n",
    "Какую метрику вы будете максимизировать и почему? \n",
    "Как вы думаете,получим ли мы такую же точность, если придет новая тестовая выборка? "
   ]
  },
  {
   "cell_type": "markdown",
   "metadata": {},
   "source": [
    "Пульсаров сильно меньше, чем \"не пульсаров\". Это значит, что нам важно не пропустить как можно больше пульсаров, то есть увеличить число TP.\n",
    "\n",
    "Accuracy не подходит (тк сильный перевес по числу не пульсаров)\n",
    "Precision не подходит, тк нам важо максимизировать число обнаруженных пульсаров, а не процент верно обнаруженых среди всех обнаруженных.\n",
    "Recall подходит, тк если мы ее максмищируем, то максимизируем число объектов положительного класса, которые были обнаружены! Значит в ROC-curve надо смотреть на максимальный TPR."
   ]
  },
  {
   "cell_type": "code",
   "execution_count": 208,
   "metadata": {
    "id": "zu5URrFqtIpS",
    "scrolled": true
   },
   "outputs": [
    {
     "name": "stdout",
     "output_type": "stream",
     "text": [
      "при m = 0.1 Recall = 0.890\n",
      "при m = 0.2 Recall = 0.877\n",
      "при m = 0.3 Recall = 0.853\n",
      "при m = 0.4 Recall = 0.847\n",
      "при m = 0.5 Recall = 0.810\n",
      "при m = 0.6 Recall = 0.791\n",
      "при m = 0.7 Recall = 0.779\n",
      "при m = 0.8 Recall = 0.736\n",
      "при m = 0.9 Recall = 0.687\n"
     ]
    }
   ],
   "source": [
    "for m in [0.1, 0.2, 0.3, 0.4, 0.5, 0.6, 0.7, 0.8, 0.9]:\n",
    "    Y_pred_old = result.predict(X_test).to_numpy()\n",
    "    for i in range(len(Y_pred_old)):\n",
    "        if(Y_pred_old[i]>m):\n",
    "            Y_pred[i]=1\n",
    "        else:\n",
    "            Y_pred[i]=0\n",
    "    recall = recall_score(Y_test, Y_pred)\n",
    "    print(f'при m = {m} Recall = {recall:.3f}')"
   ]
  },
  {
   "cell_type": "markdown",
   "metadata": {},
   "source": [
    "Очевидно, рекол можно так максимизировать, что метрика precision упадет просто в ноль, но так лучше не делать, тк информативности в полученных данных не будет. Из этого делаю вывод, что лучше всего иметь рекол около 0.8, судя по графику PR-curve,что и соответствует порогу 0.5."
   ]
  },
  {
   "cell_type": "markdown",
   "metadata": {},
   "source": [
    "Наверное, не получим, потому что порог классификации -- это число, индивидуальное для каждой выборки, но в целом примерно равное 0.5. А подгон порога под налучший результат для тренировочной выборки -- это уже похоже на переобучение."
   ]
  },
  {
   "cell_type": "markdown",
   "metadata": {
    "id": "D5Dq8aiPNGXg"
   },
   "source": [
    "(h*) Сравните результаты с решающим деревом. "
   ]
  },
  {
   "cell_type": "code",
   "execution_count": null,
   "metadata": {
    "id": "wc1CfoaONM6v"
   },
   "outputs": [],
   "source": [
    "<...>"
   ]
  },
  {
   "cell_type": "markdown",
   "metadata": {
    "id": "oFzjaVlV1Yyc"
   },
   "source": [
    "### Задача 3"
   ]
  },
  {
   "cell_type": "markdown",
   "metadata": {
    "id": "B5Idbe9o1Yyc"
   },
   "source": [
    "В этой задаче вам предлагается исследовать зависимость качества предсказаний модели случайного леса в зависимости от различных гиперпараметров на примере задаче регрессии. Будем использовать класс `RandomForestRegressor` библиотеки `sklearn`."
   ]
  },
  {
   "cell_type": "markdown",
   "metadata": {
    "id": "uI-0RXDo1Yyc"
   },
   "source": [
    "В качестве данных возьмём датасет `california_housing` из библиотеки `sklearn` о стоимости недвижимости в различных округах Калифорнии. Этот датасет состоит из 20640 записей и содержит следующие признаки для каждого округа: `MedInc`, `HouseAge`, `AveRooms`, `AveBedrms`, `Population`, `AveOccup`, `Latitude`, `Longitude`. `HouseAge` и `Population` - целочисленные признаки. Остальные признаки - вещественные.\n",
    "\n",
    "*Совет.* При отладке кода используйте небольшую часть данных. Финальные вычисления проведите на полных данных. Для оценки времени работы используйте `tqdm` в циклах."
   ]
  },
  {
   "cell_type": "code",
   "execution_count": 224,
   "metadata": {},
   "outputs": [],
   "source": [
    "from sklearn.datasets import fetch_california_housing\n",
    "\n",
    "from sklearn.ensemble import RandomForestRegressor\n",
    "from tqdm.notebook import tqdm"
   ]
  },
  {
   "cell_type": "code",
   "execution_count": 225,
   "metadata": {
    "id": "YailROS11Yyd"
   },
   "outputs": [],
   "source": [
    "housing = fetch_california_housing()\n",
    "X, y = housing.data, housing.target"
   ]
  },
  {
   "cell_type": "markdown",
   "metadata": {
    "id": "VxKMeSjx1Yyd"
   },
   "source": [
    "Разбейте данные на обучающую выборку и на валидацию, выделив на валидацию 25% данных."
   ]
  },
  {
   "cell_type": "code",
   "execution_count": 228,
   "metadata": {
    "id": "c_wZNFMV1Yyd"
   },
   "outputs": [],
   "source": [
    "X_train, X_test = train_test_split(X, test_size=0.25)\n",
    "y_train, y_test = train_test_split(y, test_size=0.25)"
   ]
  },
  {
   "cell_type": "markdown",
   "metadata": {
    "id": "qF8YAVOl1Yyd"
   },
   "source": [
    "Посмотрите, как изменяется качество леса в зависимости от выбранных параметров. Для этого постройте графики зависимости MSE на тестовой выборке от количества деревьев (от 1 до 100) и от максимальной глубины дерева (от 3 до 25). Когда варьируете один из параметров, в качестве другого берите значение по умолчанию."
   ]
  },
  {
   "cell_type": "code",
   "execution_count": null,
   "metadata": {
    "id": "-HDA0nmu1Yye"
   },
   "outputs": [],
   "source": []
  },
  {
   "cell_type": "markdown",
   "metadata": {
    "id": "IP0P7tUl1Yye"
   },
   "source": [
    "Основываясь на полученных графиках, ответьте на следующие вопросы.\n",
    "\n",
    "1. Какие закономерности можно увидеть на построенных графиках? Почему графики получились такими?\n",
    "\n",
    "2. Как изменяется качество предсказаний с увеличением исследуемых параметров, когда эти параметры уже достаточно большие.\n",
    "\n",
    "3. В предыдущем задании вы на практике убедились, что решающее дерево начинает переобучаться при достаточно больших значениях максимальной глубины. Справедливо ли это утверждение для случайного леса? Поясните свой ответ, опираясь на своё знание статистики."
   ]
  },
  {
   "cell_type": "markdown",
   "metadata": {
    "id": "TRQh_XUE1Yye"
   },
   "source": [
    "**Ответ:** <...>"
   ]
  },
  {
   "cell_type": "markdown",
   "metadata": {
    "id": "ER4aAZe_1Yyf"
   },
   "source": [
    "Обучите случайный лес с параметрами по умолчанию и выведите mse на тестовой выборке. Проведите эксперимент 3 раза. Почему результаты отличаются?"
   ]
  },
  {
   "cell_type": "code",
   "execution_count": null,
   "metadata": {
    "id": "QdGZMujR1Yyf"
   },
   "outputs": [],
   "source": [
    "<...>"
   ]
  },
  {
   "cell_type": "markdown",
   "metadata": {
    "id": "Q4PTiQ871Yyf"
   },
   "source": [
    "**Ответ:** <...>"
   ]
  },
  {
   "cell_type": "markdown",
   "metadata": {
    "id": "uuFZfhIw1Yyg"
   },
   "source": [
    "Было бы неплохо определиться с тем, какое количество деревьев нужно использовать и какой максимальной глубины они будут. Подберите оптимальные значения `max_depth` и `n_estimators` с помощью кросс-валидации."
   ]
  },
  {
   "cell_type": "code",
   "execution_count": null,
   "metadata": {
    "id": "IJXz7GHH1Yyg"
   },
   "outputs": [],
   "source": [
    "<...>"
   ]
  },
  {
   "cell_type": "markdown",
   "metadata": {
    "id": "ynYWfIax1Yyg"
   },
   "source": [
    "Выведите найденные оптимальные параметры."
   ]
  },
  {
   "cell_type": "code",
   "execution_count": null,
   "metadata": {
    "id": "zMKdm0gP1Yyg"
   },
   "outputs": [],
   "source": [
    "<...>"
   ]
  },
  {
   "cell_type": "markdown",
   "metadata": {
    "id": "ibGC4QxY1Yyh"
   },
   "source": [
    "Зафиксируем эти оптимальные значения параметров и в дальнейшим будем их использовать."
   ]
  },
  {
   "cell_type": "code",
   "execution_count": null,
   "metadata": {
    "id": "EGHcSF671Yyh"
   },
   "outputs": [],
   "source": [
    "max_depth = <...>\n",
    "n_estimators = <...>"
   ]
  },
  {
   "cell_type": "markdown",
   "metadata": {
    "id": "YHzyaE9Y1Yyh"
   },
   "source": [
    "Оценим качество предсказаний обученного решающего леса."
   ]
  },
  {
   "cell_type": "code",
   "execution_count": null,
   "metadata": {
    "id": "YfrIGGrg1Yyh"
   },
   "outputs": [],
   "source": [
    "<...>"
   ]
  },
  {
   "cell_type": "markdown",
   "metadata": {
    "id": "Pb7VZ6x-1Yyh"
   },
   "source": [
    "Исследуйте зависимость метрики `mse` от количества признаков, по которым происходит разбиение в вершине дерева. Поскольку количество признаков в датасете не очень большое (их 8), то можно перебрать все возможные варианты количества признаков, использующихся при разбиении вершин.\n",
    "\n",
    "Не забывайте делать пояснения и выводы!"
   ]
  },
  {
   "cell_type": "code",
   "execution_count": null,
   "metadata": {
    "id": "9k3cIi381Yyi"
   },
   "outputs": [],
   "source": [
    "<...>"
   ]
  },
  {
   "cell_type": "markdown",
   "metadata": {
    "id": "zRukHKCH1Yyi"
   },
   "source": [
    "Постройте график зависимости метрики mse на `test` и `train` в зависимости от числа признаков, использующихся при разбиении в каждой вершине."
   ]
  },
  {
   "cell_type": "code",
   "execution_count": null,
   "metadata": {
    "id": "KHjI8Gsp1Yyi"
   },
   "outputs": [],
   "source": [
    "<...>"
   ]
  },
  {
   "cell_type": "markdown",
   "metadata": {
    "id": "SaLQSeD_1Yyi"
   },
   "source": [
    "Почему график получился таким? Как зависит разнообразие деревьев от величины `n_features`?"
   ]
  },
  {
   "cell_type": "markdown",
   "metadata": {
    "id": "Ulb9pq6Q1Yyi"
   },
   "source": [
    "**Ответ:** <...>"
   ]
  },
  {
   "cell_type": "markdown",
   "metadata": {
    "id": "tT7bE1T41Yyi"
   },
   "source": [
    "Проведите эксперимент, в котором выясните, как изменится качество регрессии, если набор признаков, по которым происходит разбиение в каждой вершине определяется не заново в каждой вершине, а задан заранее для всего дерева. То есть перед каждым построением дерева выбирается новый набор признаков, который будет рассматриваться при построении всех разбиений в этом дереве.\n",
    "\n",
    "Для реализации данного эксперимента используйте класс беггинг-модели `sklearn.ensemble.BaggingRegressor`, у которого используйте следующие поля:\n",
    "* `base_estimator` — базовая модель, используйте `sklearn.tree.DecisionTreeRegressor`;\n",
    "* `max_features` — количество признаков для каждой базовой модели;\n",
    "* `n_estimators` — количество базовых моделей.\n",
    "\n",
    "Постройте графики `mse` на обучающей и на валидационной выборке в зависимости от числа рассматриваемых признаков в дереве."
   ]
  },
  {
   "cell_type": "code",
   "execution_count": null,
   "metadata": {
    "id": "4Oij4oVf1Yyj"
   },
   "outputs": [],
   "source": [
    "<...>"
   ]
  },
  {
   "cell_type": "markdown",
   "metadata": {
    "id": "7CFLoZ0w1Yyj"
   },
   "source": [
    "Сравните результаты обычного случайного леса с только что построенным лесом.\n",
    "\n",
    "Сделайте выводы. Объясните, чем плох такой подход пострения случайного леса. Какое преимущество мы получаем, когда выбираем случайное подмножество признаков в каждой вершине в обычном случайном лесу?"
   ]
  },
  {
   "cell_type": "markdown",
   "metadata": {
    "id": "_cIPKjQC1Yyj"
   },
   "source": [
    "**Вывод.**\n",
    "\n",
    "<...>"
   ]
  },
  {
   "cell_type": "markdown",
   "metadata": {
    "id": "khaMHzJy1Yyj"
   },
   "source": [
    "Поясните разницу между следующими конструкциями:\n",
    "\n",
    "`BaggingRegressor(base_estimator=DecisionTreeRegressor(), max_features=n_features)`\n",
    "\n",
    "`BaggingRegressor(base_estimator=DecisionTreeRegressor(max_features=n_features))`"
   ]
  },
  {
   "cell_type": "markdown",
   "metadata": {
    "id": "nAxr8Oto1Yyj"
   },
   "source": [
    "<...>"
   ]
  },
  {
   "cell_type": "markdown",
   "metadata": {
    "id": "8poRoqGP1Yyj"
   },
   "source": [
    "### Задача 4\n",
    "\n",
    "На лекции была получена формула bias-variance разложения для беггинга. Проведите эксперимент, в котором выясните, насколько уменьшается разброс (variance-компонента) беггинг-модели на 100 базовых моделях по отношению к одной базовой модели. Используйте данные из предыдущей задачи. Рассмотрите беггинг на следующих базовых моделях:\n",
    "* решающие деревья, можно использовать вариант случайного леса,\n",
    "* ридж-регрессия.\n",
    "\n",
    "Для решения задачи потребуется оценить корреляции предсказаний на тестовой выборке базовых моделей, входящих в состав беггинг-модели. Эти модели можно получить с помощью поля `estimators_` у обученной беггинг-модели. Корреляции моделей можно смотреть по их предсказаниям.\n",
    "\n",
    "Насколько уменьшается разброс в каждом случае? Для каждого случая постройте также матрицу корреляций предсказаний базовых моделей и гистограмму по ним. Какую оценку коэффициента корреляции вы используете и почему?"
   ]
  },
  {
   "cell_type": "code",
   "execution_count": null,
   "metadata": {
    "id": "5Dz4l6XEPNvu"
   },
   "outputs": [],
   "source": [
    "<...>"
   ]
  }
 ],
 "metadata": {
  "colab": {
   "collapsed_sections": [],
   "name": "task3 пропуски",
   "provenance": []
  },
  "kernelspec": {
   "display_name": "Python 3",
   "language": "python",
   "name": "python3"
  },
  "language_info": {
   "codemirror_mode": {
    "name": "ipython",
    "version": 3
   },
   "file_extension": ".py",
   "mimetype": "text/x-python",
   "name": "python",
   "nbconvert_exporter": "python",
   "pygments_lexer": "ipython3",
   "version": "3.8.10"
  }
 },
 "nbformat": 4,
 "nbformat_minor": 1
}
