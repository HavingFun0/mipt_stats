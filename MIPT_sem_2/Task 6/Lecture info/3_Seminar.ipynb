{
 "cells": [
  {
   "cell_type": "code",
   "execution_count": 1,
   "metadata": {},
   "outputs": [],
   "source": [
    "import torch"
   ]
  },
  {
   "cell_type": "markdown",
   "metadata": {},
   "source": [
    "Что же такое слой nn.Linear() ?\n",
    "\n",
    "Давайте проведем несколько эксперименов"
   ]
  },
  {
   "cell_type": "markdown",
   "metadata": {},
   "source": [
    "Как в случае с бостонским датасетом, мы реализовывали линейную регресиию с помощью nn.Linear() на основе одного признака\n",
    "\n",
    "То есть имеется:\n",
    "- 1 числовой признак - in_feature\n",
    "- 1 числовой выход - out_feature"
   ]
  },
  {
   "cell_type": "markdown",
   "metadata": {},
   "source": [
    "#### Эксперимент 1"
   ]
  },
  {
   "cell_type": "code",
   "execution_count": 240,
   "metadata": {},
   "outputs": [],
   "source": [
    "in_feature = 1\n",
    "out_feature = 1"
   ]
  },
  {
   "cell_type": "markdown",
   "metadata": {},
   "source": [
    "Тогда линейная регрессия \n",
    "\n",
    "$w_0 \\times x + b = \\hat{y}$ \n",
    "\n",
    "задается с помощью одного слоя nn.Linear():\n",
    "\n"
   ]
  },
  {
   "cell_type": "code",
   "execution_count": 241,
   "metadata": {},
   "outputs": [],
   "source": [
    "model = torch.nn.Linear(in_feature, out_feature)"
   ]
  },
  {
   "cell_type": "markdown",
   "metadata": {},
   "source": [
    "Что содержится в данной модели? \n",
    "\n",
    "В ней содержатся:\n",
    "\n",
    "- параметр $w_0$ - `model.weight`\n",
    "\n",
    "- свободный член/порог $b$ - `model.bias`"
   ]
  },
  {
   "cell_type": "code",
   "execution_count": 242,
   "metadata": {},
   "outputs": [
    {
     "data": {
      "text/plain": [
       "Parameter containing:\n",
       "tensor([[-0.4793]], requires_grad=True)"
      ]
     },
     "execution_count": 242,
     "metadata": {},
     "output_type": "execute_result"
    }
   ],
   "source": [
    "model.weight"
   ]
  },
  {
   "cell_type": "code",
   "execution_count": 244,
   "metadata": {},
   "outputs": [
    {
     "data": {
      "text/plain": [
       "Parameter containing:\n",
       "tensor([0.9904], requires_grad=True)"
      ]
     },
     "execution_count": 244,
     "metadata": {},
     "output_type": "execute_result"
    }
   ],
   "source": [
    "model.bias"
   ]
  },
  {
   "cell_type": "markdown",
   "metadata": {},
   "source": [
    "Посмотрим на размерности всех объектов, участвующих в построении модели: \n",
    "\n",
    "- признаковое пространство одного объекта ($x$)\n",
    "- параметры модели ($w_0$ и $b$)\n",
    "- выход модели ($\\hat{y}$)"
   ]
  },
  {
   "cell_type": "code",
   "execution_count": 245,
   "metadata": {},
   "outputs": [],
   "source": [
    "x = torch.tensor([5.2])\n",
    "y_pred = model(x)"
   ]
  },
  {
   "cell_type": "code",
   "execution_count": 246,
   "metadata": {
    "scrolled": true
   },
   "outputs": [
    {
     "name": "stdout",
     "output_type": "stream",
     "text": [
      "Размерность x = torch.Size([1])\n",
      "Размерность w0 = torch.Size([1, 1])\n",
      "Размерность b = torch.Size([1])\n",
      "Размерность y_pred = torch.Size([1])\n"
     ]
    }
   ],
   "source": [
    "for item, name in zip([x, model.weight, model.bias, y_pred], ['x', 'w0', 'b', 'y_pred']):\n",
    "    print(f'Размерность {name} = {item.shape}')"
   ]
  },
  {
   "cell_type": "markdown",
   "metadata": {},
   "source": [
    "#### Эксперимент 2"
   ]
  },
  {
   "cell_type": "markdown",
   "metadata": {},
   "source": [
    "Если мы подадим в модель не 1 признак, а 10 признаков"
   ]
  },
  {
   "cell_type": "code",
   "execution_count": 247,
   "metadata": {},
   "outputs": [],
   "source": [
    "in_feature = 10\n",
    "out_feature = 1\n",
    "\n",
    "# новая модель регрессии\n",
    "model = torch.nn.Linear(in_feature, out_feature)"
   ]
  },
  {
   "cell_type": "code",
   "execution_count": 248,
   "metadata": {},
   "outputs": [],
   "source": [
    "# определим новый признак как вектор длиной 10 \n",
    "x = torch.tensor(10*[5.2])\n",
    "y_pred = model(x)"
   ]
  },
  {
   "cell_type": "code",
   "execution_count": 249,
   "metadata": {},
   "outputs": [
    {
     "name": "stdout",
     "output_type": "stream",
     "text": [
      "Размерность x = torch.Size([10])\n",
      "Размерность w = torch.Size([1, 10])\n",
      "Размерность b = torch.Size([1])\n",
      "Размерность y_pred = torch.Size([1])\n"
     ]
    }
   ],
   "source": [
    "for item, name in zip([x, model.weight, model.bias, y_pred], ['x', 'w', 'b', 'y_pred']):\n",
    "    print(f'Размерность {name} = {item.shape}')"
   ]
  },
  {
   "cell_type": "markdown",
   "metadata": {},
   "source": [
    "#### Эксперимент 3"
   ]
  },
  {
   "cell_type": "markdown",
   "metadata": {},
   "source": [
    "Теперь пусть кусок сети 6 - 4 - 2, как показано на рисунке. \n",
    "\n",
    "Мы рассмотрим скрытый слой, выделенный пунктиром\n",
    "\n",
    "<img src=\"MLP.png\" width=\"400\">"
   ]
  },
  {
   "cell_type": "code",
   "execution_count": 320,
   "metadata": {},
   "outputs": [],
   "source": [
    "in_feature = 6\n",
    "out_feature = 4\n",
    "\n",
    "# новая модель регрессии\n",
    "model = torch.nn.Linear(in_feature, out_feature)"
   ]
  },
  {
   "cell_type": "code",
   "execution_count": 321,
   "metadata": {},
   "outputs": [],
   "source": [
    "# определим новый признак как вектор длиной 6\n",
    "x = torch.tensor(in_feature*[4.])\n",
    "y_pred = model(x)"
   ]
  },
  {
   "cell_type": "code",
   "execution_count": 322,
   "metadata": {},
   "outputs": [
    {
     "name": "stdout",
     "output_type": "stream",
     "text": [
      "Размерность x = torch.Size([6])\n",
      "Размерность w = torch.Size([4, 6])\n",
      "Размерность b = torch.Size([4])\n",
      "Размерность y_pred = torch.Size([4])\n"
     ]
    }
   ],
   "source": [
    "for item, name in zip([x, model.weight, model.bias, y_pred], ['x', 'w', 'b', 'y_pred']):\n",
    "    print(f'Размерность {name} = {item.shape}')"
   ]
  },
  {
   "cell_type": "markdown",
   "metadata": {},
   "source": [
    "Согласно документации Pytorch, nn.Linear():\n",
    "\n",
    "Applies a linear transformation to the incoming data:\n",
    "\n",
    "<center>$ y = xA^T + b$</center> \n",
    "\n",
    "\n",
    "link: https://pytorch.org/docs/stable/generated/torch.nn.Linear.html"
   ]
  },
  {
   "cell_type": "code",
   "execution_count": 323,
   "metadata": {},
   "outputs": [
    {
     "data": {
      "text/plain": [
       "True"
      ]
     },
     "execution_count": 323,
     "metadata": {},
     "output_type": "execute_result"
    }
   ],
   "source": [
    "all((x @ model.weight.T + model.bias) == y_pred)"
   ]
  },
  {
   "cell_type": "markdown",
   "metadata": {},
   "source": [
    "#### Эксперимент 4"
   ]
  },
  {
   "cell_type": "markdown",
   "metadata": {},
   "source": [
    "Добавим еще батчевую размерность в наш $x$, но оставим ту же модель"
   ]
  },
  {
   "cell_type": "code",
   "execution_count": 333,
   "metadata": {},
   "outputs": [],
   "source": [
    "in_feature = 6\n",
    "out_feature = 4\n",
    "batch_size = 8\n",
    "\n",
    "# модель регрессии\n",
    "model = torch.nn.Linear(in_feature, out_feature)"
   ]
  },
  {
   "cell_type": "code",
   "execution_count": 334,
   "metadata": {},
   "outputs": [],
   "source": [
    "# определим новый признак как вектор длиной 6 в батче размером 8\n",
    "x = torch.rand([batch_size, in_feature])\n",
    "y_pred = model(x)"
   ]
  },
  {
   "cell_type": "code",
   "execution_count": 335,
   "metadata": {},
   "outputs": [
    {
     "name": "stdout",
     "output_type": "stream",
     "text": [
      "Размерность x = torch.Size([8, 6])\n",
      "Размерность w = torch.Size([4, 6])\n",
      "Размерность b = torch.Size([4])\n",
      "Размерность y_pred = torch.Size([8, 4])\n"
     ]
    }
   ],
   "source": [
    "for item, name in zip([x, model.weight, model.bias, y_pred], ['x', 'w', 'b', 'y_pred']):\n",
    "    print(f'Размерность {name} = {item.shape}')"
   ]
  },
  {
   "cell_type": "code",
   "execution_count": 339,
   "metadata": {},
   "outputs": [
    {
     "data": {
      "text/plain": [
       "tensor([[True, True, True, True],\n",
       "        [True, True, True, True],\n",
       "        [True, True, True, True],\n",
       "        [True, True, True, True],\n",
       "        [True, True, True, True],\n",
       "        [True, True, True, True],\n",
       "        [True, True, True, True],\n",
       "        [True, True, True, True]])"
      ]
     },
     "execution_count": 339,
     "metadata": {},
     "output_type": "execute_result"
    }
   ],
   "source": [
    "((((x @ model.weight.T) + (model.bias.reshape((out_feature, 1)) @ torch.ones([1, batch_size])).T)) == y_pred)"
   ]
  },
  {
   "cell_type": "markdown",
   "metadata": {},
   "source": [
    "### Вопрос 46"
   ]
  },
  {
   "cell_type": "code",
   "execution_count": 341,
   "metadata": {},
   "outputs": [],
   "source": [
    "in_feature = 20\n",
    "out_feature = 10\n",
    "batch_size = 2\n",
    "\n",
    "\n",
    "# модель регрессии\n",
    "model = torch.nn.Linear(in_feature, out_feature, bias = False)"
   ]
  },
  {
   "cell_type": "code",
   "execution_count": 342,
   "metadata": {},
   "outputs": [],
   "source": [
    "# определим новый признак как вектор длиной 6 в батче размером 8\n",
    "x = torch.rand([batch_size, in_feature])\n",
    "y_pred = model(x)"
   ]
  }
 ],
 "metadata": {
  "kernelspec": {
   "display_name": "Python 3",
   "language": "python",
   "name": "python3"
  },
  "language_info": {
   "codemirror_mode": {
    "name": "ipython",
    "version": 3
   },
   "file_extension": ".py",
   "mimetype": "text/x-python",
   "name": "python",
   "nbconvert_exporter": "python",
   "pygments_lexer": "ipython3",
   "version": "3.8.10"
  }
 },
 "nbformat": 4,
 "nbformat_minor": 2
}
