{
 "cells": [
  {
   "cell_type": "markdown",
   "metadata": {
    "id": "yM8HCBa22gIQ"
   },
   "source": [
    "# <a href=\"https://mipt-stats.gitlab.io/courses/ad_mipt.html\">Phystech@DataScience</a>\n",
    "## Профильное задание для направления \"физика\"\n",
    "\n",
    "**Правила:**\n",
    "\n",
    "* Выполненную работу нужно отправить телеграм-боту `@miptstats_pds_bot`.\n",
    "* Дедлайн **21 мая в 22:00**. После дедлайна работы не принимаются кроме случаев наличия уважительной причины.\n",
    "* Прислать нужно ноутбук в формате `ipynb` и все фотографии, если пишете теоретическую часть от руки.\n",
    "* Решения, размещенные на каких-либо интернет-ресурсах, не принимаются. Публикация решения может быть приравнена к предоставлении возможности списать.\n",
    "* Для выполнения задания используйте этот ноутбук в качестве основы, ничего не удаляя из него.\n",
    "\n",
    "-----\n",
    "\n"
   ]
  },
  {
   "cell_type": "code",
   "execution_count": 160,
   "metadata": {},
   "outputs": [],
   "source": [
    "import numpy as np\n",
    "import pandas as pd\n",
    "import scipy.stats as sps\n",
    "import scipy as sp\n",
    "\n",
    "from sklearn.linear_model import LinearRegression\n",
    "from sklearn.model_selection import train_test_split\n",
    "import sklearn.metrics as metrics\n",
    "\n",
    "import matplotlib.pyplot as plt\n",
    "import seaborn as sns\n",
    "from statsmodels.sandbox.stats.multicomp import multipletests\n",
    "sns.set(font_scale=1.3)\n",
    "%matplotlib inline"
   ]
  },
  {
   "cell_type": "markdown",
   "metadata": {
    "id": "_NypndkOwHaf"
   },
   "source": [
    "# Задача 1 Оптимизационная\n",
    "\n",
    "Физики из города Долгопрудный купили сверхточный термометр и датчик давления для исследования разреженных газов. В сосуд с изменяемым объемом они закачали некоторое количество одноатомного газа, причем он оказался достаточно разреженным. Затем они изменяли температуру данного сосуда и измеряли давление, причём теплоемкость газа в данном процессе можно считать постоянной. Значения, полученные в ходе эксперимента, они записывали в этот [файл](https://drive.google.com/file/d/1vg3fFktL01uqXNjUFRxlDdYWOyHOjDJL/view?usp=sharing). Постройте оценку теплоёмкости данного газа с наименьшей возможной дисперсией/погрешностью. \n",
    "\n",
    "Оценка должна быть \"адекватной\" (константа не подойдет :) ). Понятие адекватности определяйте сами.\n",
    "\n",
    "*Указание 1: для процессов с постоянной теплоёмкостью зависимость давления от температуры имеет вид $P \\propto T^{\\alpha}$, где $\\alpha$ &mdash; любое число.*\n",
    "\n",
    "*Указание 2: Может быть полезным для уменьшения погрешности усреднять давление в некотором диапазоне температур.*\n",
    "\n",
    "\n"
   ]
  },
  {
   "cell_type": "markdown",
   "metadata": {
    "id": "6AEGwc_PyunH"
   },
   "source": [
    "# Задача 2\n",
    "В сфере статистики экзопланет ныне бытует мнение, что чем выше металличность звезды, тем выше вероятность того, что у нее будет планета гигант. Рассмотрим [часть выгрузки](https://drive.google.com/file/d/178IlxQdQYb8s5Fk9iWCW2zfBHaZnq-JJ/view?usp=sharing) базы данных экзопланетного архива NASA и проверим, так ли это. Конечно, в реальном исследовании стоит учитывать неоднородность данных, но для начала нам будет достаточно и сырых данных.\n",
    "\n",
    "Проверьте гипотезу с использованием критерия согласия хи-квадрат. Для разбиения на корзины будем считать, что планета гигант &mdash; это планета с массой больше 0.3 масс Юпитера, а звезды для удобства разделим по металличности на меньше и больше 0. Так у нас получится 4 корзины. \n",
    "\n",
    "\n"
   ]
  },
  {
   "cell_type": "markdown",
   "metadata": {
    "id": "lIsLbxfNWyEU"
   },
   "source": [
    "# Задача 3\n",
    "\n",
    "В эксперименте ALICE на Большом Адронном Коллайдере с помощью детектора под названием ZDC измеряются протоны после столкновения двух ядер летящие строго вперед. Эффективность (вероятность) регистрации такого протона, который образовался в столкновении, равна $P = 0.67$. В эксперименте было измерено среднее число протонов, образовавшихся в столкновении, как функция прицельного параметра столкновения. Данные показаны на рисунке  и в [файле](https://drive.google.com/file/d/1QfQknmB6F6PJ3Vrhz1JQthR_o0Y4W5Il/view?usp=sharing). Для различных значений прицельного параметра определите вероятность, что в столкновениях ядер в среднем число образовавшихся протонов было равно $n$ при условии, того что известно измеренное среднее значение количества протонов в эксперименте. \n",
    "\n",
    "\n",
    "\n",
    "\n",
    "![volkovs_prob.png](data:image/png;base64,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)"
   ]
  },
  {
   "cell_type": "markdown",
   "metadata": {
    "id": "Lp_Hpv_SXTns"
   },
   "source": [
    "# *Дерзайте!*"
   ]
  },
  {
   "cell_type": "markdown",
   "metadata": {
    "id": "-0DLlX79XHCn"
   },
   "source": [
    "# Задача 1 Оптимизационная"
   ]
  },
  {
   "cell_type": "markdown",
   "metadata": {},
   "source": [
    "Для начала из файла уберем пробелы после запятой в первой строчке файла."
   ]
  },
  {
   "cell_type": "code",
   "execution_count": 161,
   "metadata": {},
   "outputs": [
    {
     "data": {
      "text/html": [
       "<div>\n",
       "<style scoped>\n",
       "    .dataframe tbody tr th:only-of-type {\n",
       "        vertical-align: middle;\n",
       "    }\n",
       "\n",
       "    .dataframe tbody tr th {\n",
       "        vertical-align: top;\n",
       "    }\n",
       "\n",
       "    .dataframe thead th {\n",
       "        text-align: right;\n",
       "    }\n",
       "</style>\n",
       "<table border=\"1\" class=\"dataframe\">\n",
       "  <thead>\n",
       "    <tr style=\"text-align: right;\">\n",
       "      <th></th>\n",
       "      <th>T,a.u</th>\n",
       "      <th>P,a.u.</th>\n",
       "    </tr>\n",
       "  </thead>\n",
       "  <tbody>\n",
       "    <tr>\n",
       "      <th>0</th>\n",
       "      <td>200.05</td>\n",
       "      <td>100</td>\n",
       "    </tr>\n",
       "    <tr>\n",
       "      <th>1</th>\n",
       "      <td>200.10</td>\n",
       "      <td>112</td>\n",
       "    </tr>\n",
       "    <tr>\n",
       "      <th>2</th>\n",
       "      <td>200.15</td>\n",
       "      <td>98</td>\n",
       "    </tr>\n",
       "    <tr>\n",
       "      <th>3</th>\n",
       "      <td>200.20</td>\n",
       "      <td>90</td>\n",
       "    </tr>\n",
       "    <tr>\n",
       "      <th>4</th>\n",
       "      <td>200.25</td>\n",
       "      <td>108</td>\n",
       "    </tr>\n",
       "  </tbody>\n",
       "</table>\n",
       "</div>"
      ],
      "text/plain": [
       "    T,a.u  P,a.u.\n",
       "0  200.05     100\n",
       "1  200.10     112\n",
       "2  200.15      98\n",
       "3  200.20      90\n",
       "4  200.25     108"
      ]
     },
     "execution_count": 161,
     "metadata": {},
     "output_type": "execute_result"
    }
   ],
   "source": [
    "data = pd.read_csv('task1.txt', sep=\" \")\n",
    "data.head()"
   ]
  },
  {
   "cell_type": "markdown",
   "metadata": {},
   "source": [
    "Нужно найти коэффицент $\\alpha$ из зависимости $P \\propto T^{\\alpha}$, т.к. с помощью него и нетрудных вычислений можно найти теплоёмкость.\n",
    "\n",
    "Для начала сделаем это без предварительной обработки данных."
   ]
  },
  {
   "cell_type": "markdown",
   "metadata": {},
   "source": [
    "Разобъем данные случайно на две части — обучающую и тестовую в соотношении 80:20."
   ]
  },
  {
   "cell_type": "code",
   "execution_count": 162,
   "metadata": {},
   "outputs": [],
   "source": [
    "x, y = np.log(data['T,a.u'].to_numpy()), np.log(data['P,a.u.'].to_numpy())\n",
    "\n",
    "x_train, x_test, y_train, y_test = train_test_split(x, y, test_size=0.20)"
   ]
  },
  {
   "cell_type": "markdown",
   "metadata": {},
   "source": [
    "Обучим модель линейной регрессии на тестовой выборке."
   ]
  },
  {
   "cell_type": "code",
   "execution_count": 137,
   "metadata": {},
   "outputs": [],
   "source": [
    "model = LinearRegression(fit_intercept=True)\n",
    "\n",
    "model = model.fit(x_train.reshape(-1,1), y_train)"
   ]
  },
  {
   "cell_type": "code",
   "execution_count": 138,
   "metadata": {},
   "outputs": [
    {
     "name": "stdout",
     "output_type": "stream",
     "text": [
      "MSE:  0.03987\n",
      "MAE:  0.002821\n",
      "r2_score:  0.99427\n"
     ]
    }
   ],
   "source": [
    "y_pred = model.predict(x_test.reshape(-1,1))\n",
    "\n",
    "print(f\"MSE:  {metrics.mean_absolute_error(y_test, y_pred) :.4}\" + \n",
    "     \"\\n\" + f\"MAE:  {metrics.mean_squared_error(y_test, y_pred) :.4}\" +\n",
    "      '\\n' + f\"r2_score:  {metrics.r2_score(y_test, y_pred) :.5}\"\n",
    "     )"
   ]
  },
  {
   "cell_type": "code",
   "execution_count": 139,
   "metadata": {},
   "outputs": [
    {
     "name": "stdout",
     "output_type": "stream",
     "text": [
      "Коэффицент:  \n",
      " 2.0005783199516713\n",
      "Свободный член: \n",
      " -5.996\n"
     ]
    }
   ],
   "source": [
    "alpha = model.coef_\n",
    "print(f\"Коэффицент:  \\n {model.coef_[0] :}\" +  \"\\n\" + f\"Свободный член: \\n {model.intercept_ :.4}\")"
   ]
  },
  {
   "cell_type": "markdown",
   "metadata": {},
   "source": [
    "Для начала попробуем усреднять давления по температурам в пределах 10 градусов."
   ]
  },
  {
   "cell_type": "code",
   "execution_count": 140,
   "metadata": {},
   "outputs": [
    {
     "data": {
      "text/plain": [
       "array([200.05, 200.1 , 200.15])"
      ]
     },
     "execution_count": 140,
     "metadata": {},
     "output_type": "execute_result"
    }
   ],
   "source": [
    "data_sorted = data.sort_values(by='T,a.u').to_numpy()\n",
    "data_sorted[:,0][:3]"
   ]
  },
  {
   "cell_type": "code",
   "execution_count": 141,
   "metadata": {},
   "outputs": [
    {
     "data": {
      "text/html": [
       "<div>\n",
       "<style scoped>\n",
       "    .dataframe tbody tr th:only-of-type {\n",
       "        vertical-align: middle;\n",
       "    }\n",
       "\n",
       "    .dataframe tbody tr th {\n",
       "        vertical-align: top;\n",
       "    }\n",
       "\n",
       "    .dataframe thead th {\n",
       "        text-align: right;\n",
       "    }\n",
       "</style>\n",
       "<table border=\"1\" class=\"dataframe\">\n",
       "  <thead>\n",
       "    <tr style=\"text-align: right;\">\n",
       "      <th></th>\n",
       "      <th>P,a.u.</th>\n",
       "      <th>T,a.u</th>\n",
       "    </tr>\n",
       "  </thead>\n",
       "  <tbody>\n",
       "    <tr>\n",
       "      <th>0</th>\n",
       "      <td>105.070000</td>\n",
       "      <td>200.05</td>\n",
       "    </tr>\n",
       "    <tr>\n",
       "      <th>1</th>\n",
       "      <td>105.070000</td>\n",
       "      <td>200.10</td>\n",
       "    </tr>\n",
       "    <tr>\n",
       "      <th>2</th>\n",
       "      <td>105.070000</td>\n",
       "      <td>200.15</td>\n",
       "    </tr>\n",
       "    <tr>\n",
       "      <th>3</th>\n",
       "      <td>105.070000</td>\n",
       "      <td>200.20</td>\n",
       "    </tr>\n",
       "    <tr>\n",
       "      <th>4</th>\n",
       "      <td>105.070000</td>\n",
       "      <td>200.25</td>\n",
       "    </tr>\n",
       "    <tr>\n",
       "      <th>...</th>\n",
       "      <td>...</td>\n",
       "      <td>...</td>\n",
       "    </tr>\n",
       "    <tr>\n",
       "      <th>9995</th>\n",
       "      <td>1217.434343</td>\n",
       "      <td>699.80</td>\n",
       "    </tr>\n",
       "    <tr>\n",
       "      <th>9996</th>\n",
       "      <td>1217.434343</td>\n",
       "      <td>699.85</td>\n",
       "    </tr>\n",
       "    <tr>\n",
       "      <th>9997</th>\n",
       "      <td>1217.434343</td>\n",
       "      <td>699.90</td>\n",
       "    </tr>\n",
       "    <tr>\n",
       "      <th>9998</th>\n",
       "      <td>1217.434343</td>\n",
       "      <td>699.95</td>\n",
       "    </tr>\n",
       "    <tr>\n",
       "      <th>9999</th>\n",
       "      <td>1217.434343</td>\n",
       "      <td>700.00</td>\n",
       "    </tr>\n",
       "  </tbody>\n",
       "</table>\n",
       "<p>10000 rows × 2 columns</p>\n",
       "</div>"
      ],
      "text/plain": [
       "           P,a.u.   T,a.u\n",
       "0      105.070000  200.05\n",
       "1      105.070000  200.10\n",
       "2      105.070000  200.15\n",
       "3      105.070000  200.20\n",
       "4      105.070000  200.25\n",
       "...           ...     ...\n",
       "9995  1217.434343  699.80\n",
       "9996  1217.434343  699.85\n",
       "9997  1217.434343  699.90\n",
       "9998  1217.434343  699.95\n",
       "9999  1217.434343  700.00\n",
       "\n",
       "[10000 rows x 2 columns]"
      ]
     },
     "execution_count": 141,
     "metadata": {},
     "output_type": "execute_result"
    }
   ],
   "source": [
    "data_sorted = data.sort_values(by='T,a.u').to_numpy()\n",
    "i=0\n",
    "j=0\n",
    "while i != len(data_sorted)-1:\n",
    "    mean = []\n",
    "    while data_sorted[: , 0][j] - data_sorted[: , 0][i] <5:\n",
    "        mean.append( data_sorted[: , 1][j])\n",
    "        j += 1\n",
    "        if j >= len(data_sorted):\n",
    "            break\n",
    "    mean = np.mean(mean)\n",
    "    data_sorted[:, 1][i:j] = mean\n",
    "    i = j\n",
    "    if j >= len(data_sorted):\n",
    "            break\n",
    "            \n",
    "df = pd.DataFrame()\n",
    "df['P,a.u.'] = data_sorted[:, 1][:]\n",
    "\n",
    "df['T,a.u'] = data_sorted[:, 0][:]\n",
    "df.sort_values(by='T,a.u')"
   ]
  },
  {
   "cell_type": "markdown",
   "metadata": {},
   "source": [
    "Посмотрим сколько у нас уникальных давлений."
   ]
  },
  {
   "cell_type": "code",
   "execution_count": 142,
   "metadata": {},
   "outputs": [
    {
     "data": {
      "text/plain": [
       "(100,)"
      ]
     },
     "execution_count": 142,
     "metadata": {},
     "output_type": "execute_result"
    }
   ],
   "source": [
    "df['P,a.u.'].unique().shape"
   ]
  },
  {
   "cell_type": "markdown",
   "metadata": {},
   "source": [
    "Так как погрешности распределены нормально(проверим это ниже с помощью) заменим все значения соответствующие одинаковым давлениям на средние:"
   ]
  },
  {
   "cell_type": "code",
   "execution_count": 143,
   "metadata": {},
   "outputs": [
    {
     "name": "stdout",
     "output_type": "stream",
     "text": [
      "Скорректированные p-value\n"
     ]
    }
   ],
   "source": [
    "# Проверка нормальности для различных температур для каждого уникального давления\n",
    "p_val = []\n",
    "for item in df['P,a.u.'].unique():\n",
    "    x = df[df['P,a.u.'] == item]['T,a.u']\n",
    "    if x.shape[0] > 3:\n",
    "        p_val.append(sps.shapiro(x)[1])\n",
    "\n",
    "p_corr = multipletests(p_val, alpha=0.05, method='holm-sidak')[1]\n",
    "print('Скорректированные p-value')"
   ]
  },
  {
   "cell_type": "code",
   "execution_count": 144,
   "metadata": {
    "scrolled": true
   },
   "outputs": [
    {
     "name": "stdout",
     "output_type": "stream",
     "text": [
      "(100,)\n"
     ]
    },
    {
     "data": {
      "text/plain": [
       "100"
      ]
     },
     "execution_count": 144,
     "metadata": {},
     "output_type": "execute_result"
    }
   ],
   "source": [
    "print(p_corr.shape)\n",
    "(p_corr > 0.05).sum()"
   ]
  },
  {
   "cell_type": "markdown",
   "metadata": {},
   "source": [
    "Да, у нас действительно ошибки можно считать нормальными.\n",
    "\n",
    "Усредним значения при одинаковых давлениях."
   ]
  },
  {
   "cell_type": "code",
   "execution_count": 146,
   "metadata": {},
   "outputs": [],
   "source": [
    "upd_data = pd.DataFrame()\n",
    "t =[]\n",
    "for item in df['P,a.u.'].unique():\n",
    "    t.append(df[df['P,a.u.'] == item]['T,a.u'].mean())\n",
    "    \n",
    "upd_data['P,a.u.'] = df['P,a.u.'].unique()\n",
    "upd_data['T,a.u'] = t"
   ]
  },
  {
   "cell_type": "markdown",
   "metadata": {},
   "source": [
    "Создадим линейный регрессор и обучим его на выборке предварительно разбив её на обучающую и тестовую в соотношении 80:20."
   ]
  },
  {
   "cell_type": "code",
   "execution_count": 154,
   "metadata": {},
   "outputs": [
    {
     "name": "stdout",
     "output_type": "stream",
     "text": [
      "MSE:  0.003858\n",
      "MAE:  2.431e-05\n",
      "r2_score:  0.99995\n"
     ]
    }
   ],
   "source": [
    "model = LinearRegression(fit_intercept=True)\n",
    "\n",
    "x, y = np.log(upd_data['T,a.u'].to_numpy()), np.log(upd_data['P,a.u.'].to_numpy())\n",
    "\n",
    "x_train, x_test, y_train, y_test = train_test_split(x, y, test_size=0.20)\n",
    "\n",
    "model = model.fit(x_train.reshape(-1,1), y_train)\n",
    "\n",
    "y_pred = model.predict(x_test.reshape(-1,1))\n",
    "\n",
    "print(f\"MSE:  {metrics.mean_absolute_error(y_test, y_pred) :.4}\" + \n",
    "     \"\\n\" + f\"MAE:  {metrics.mean_squared_error(y_test, y_pred) :.4}\" +\n",
    "      '\\n' + f\"r2_score:  {metrics.r2_score(y_test, y_pred) :.5}\"\n",
    "     )"
   ]
  },
  {
   "cell_type": "code",
   "execution_count": 155,
   "metadata": {},
   "outputs": [
    {
     "name": "stdout",
     "output_type": "stream",
     "text": [
      "Коэффицент:  \n",
      " 1.9980323992329223\n",
      "Свободный член: \n",
      " -5.979\n"
     ]
    }
   ],
   "source": [
    "alpha = model.coef_\n",
    "print(f\"Коэффицент:  \\n {model.coef_[0] :}\" +  \"\\n\" + f\"Свободный член: \\n {model.intercept_ :.4}\")"
   ]
  },
  {
   "cell_type": "code",
   "execution_count": 156,
   "metadata": {},
   "outputs": [
    {
     "data": {
      "text/plain": [
       "4.171350762374415"
      ]
     },
     "execution_count": 156,
     "metadata": {},
     "output_type": "execute_result"
    }
   ],
   "source": [
    "n = (alpha[0])/(alpha[0]-1)\n",
    "R = 8.31\n",
    "c= 3/2 *R - R/(n-1)  \n",
    "c"
   ]
  },
  {
   "cell_type": "markdown",
   "metadata": {},
   "source": [
    "Итог: c = (4.171 $\\pm$ 0.004 )."
   ]
  },
  {
   "cell_type": "markdown",
   "metadata": {},
   "source": [
    "# Задача 2"
   ]
  },
  {
   "cell_type": "code",
   "execution_count": 123,
   "metadata": {},
   "outputs": [
    {
     "data": {
      "text/html": [
       "<div>\n",
       "<style scoped>\n",
       "    .dataframe tbody tr th:only-of-type {\n",
       "        vertical-align: middle;\n",
       "    }\n",
       "\n",
       "    .dataframe tbody tr th {\n",
       "        vertical-align: top;\n",
       "    }\n",
       "\n",
       "    .dataframe thead th {\n",
       "        text-align: right;\n",
       "    }\n",
       "</style>\n",
       "<table border=\"1\" class=\"dataframe\">\n",
       "  <thead>\n",
       "    <tr style=\"text-align: right;\">\n",
       "      <th></th>\n",
       "      <th>pl_name</th>\n",
       "      <th>hostname</th>\n",
       "      <th>discoverymethod</th>\n",
       "      <th>pl_bmassj</th>\n",
       "      <th>st_spectype</th>\n",
       "      <th>st_met</th>\n",
       "      <th>st_metratio</th>\n",
       "      <th>If planet mass&gt;0.3 1; else</th>\n",
       "      <th>If metal&gt;0 1; else 0</th>\n",
       "      <th>Unnamed: 9</th>\n",
       "      <th>Unnamed: 10</th>\n",
       "    </tr>\n",
       "  </thead>\n",
       "  <tbody>\n",
       "    <tr>\n",
       "      <th>0</th>\n",
       "      <td>61 Vir b</td>\n",
       "      <td>61 Vir</td>\n",
       "      <td>Radial Velocity</td>\n",
       "      <td>0.0</td>\n",
       "      <td>1600.0</td>\n",
       "      <td>G5 V</td>\n",
       "      <td>0.0</td>\n",
       "      <td>10</td>\n",
       "      <td>[Fe/H]</td>\n",
       "      <td>0.0</td>\n",
       "      <td>0.0</td>\n",
       "    </tr>\n",
       "    <tr>\n",
       "      <th>1</th>\n",
       "      <td>61 Vir c</td>\n",
       "      <td>61 Vir</td>\n",
       "      <td>Radial Velocity</td>\n",
       "      <td>0.0</td>\n",
       "      <td>5700.0</td>\n",
       "      <td>G5 V</td>\n",
       "      <td>0.0</td>\n",
       "      <td>10</td>\n",
       "      <td>[Fe/H]</td>\n",
       "      <td>0.0</td>\n",
       "      <td>0.0</td>\n",
       "    </tr>\n",
       "    <tr>\n",
       "      <th>2</th>\n",
       "      <td>61 Vir d</td>\n",
       "      <td>61 Vir</td>\n",
       "      <td>Radial Velocity</td>\n",
       "      <td>0.0</td>\n",
       "      <td>7200.0</td>\n",
       "      <td>G5 V</td>\n",
       "      <td>0.0</td>\n",
       "      <td>10</td>\n",
       "      <td>[Fe/H]</td>\n",
       "      <td>0.0</td>\n",
       "      <td>0.0</td>\n",
       "    </tr>\n",
       "    <tr>\n",
       "      <th>3</th>\n",
       "      <td>24 Sex b</td>\n",
       "      <td>24 Sex</td>\n",
       "      <td>Radial Velocity</td>\n",
       "      <td>1.0</td>\n",
       "      <td>99000.0</td>\n",
       "      <td>NaN</td>\n",
       "      <td>0.0</td>\n",
       "      <td>30</td>\n",
       "      <td>[Fe/H]</td>\n",
       "      <td>1.0</td>\n",
       "      <td>0.0</td>\n",
       "    </tr>\n",
       "    <tr>\n",
       "      <th>4</th>\n",
       "      <td>24 Sex c</td>\n",
       "      <td>24 Sex</td>\n",
       "      <td>Radial Velocity</td>\n",
       "      <td>0.0</td>\n",
       "      <td>86000.0</td>\n",
       "      <td>NaN</td>\n",
       "      <td>0.0</td>\n",
       "      <td>30</td>\n",
       "      <td>[Fe/H]</td>\n",
       "      <td>1.0</td>\n",
       "      <td>0.0</td>\n",
       "    </tr>\n",
       "  </tbody>\n",
       "</table>\n",
       "</div>"
      ],
      "text/plain": [
       "    pl_name hostname  discoverymethod  pl_bmassj  st_spectype st_met  \\\n",
       "0  61 Vir b   61 Vir  Radial Velocity        0.0       1600.0   G5 V   \n",
       "1  61 Vir c   61 Vir  Radial Velocity        0.0       5700.0   G5 V   \n",
       "2  61 Vir d   61 Vir  Radial Velocity        0.0       7200.0   G5 V   \n",
       "3  24 Sex b   24 Sex  Radial Velocity        1.0      99000.0    NaN   \n",
       "4  24 Sex c   24 Sex  Radial Velocity        0.0      86000.0    NaN   \n",
       "\n",
       "   st_metratio  If planet mass>0.3 1; else If metal>0 1; else 0  Unnamed: 9  \\\n",
       "0          0.0                          10               [Fe/H]         0.0   \n",
       "1          0.0                          10               [Fe/H]         0.0   \n",
       "2          0.0                          10               [Fe/H]         0.0   \n",
       "3          0.0                          30               [Fe/H]         1.0   \n",
       "4          0.0                          30               [Fe/H]         1.0   \n",
       "\n",
       "   Unnamed: 10  \n",
       "0          0.0  \n",
       "1          0.0  \n",
       "2          0.0  \n",
       "3          0.0  \n",
       "4          0.0  "
      ]
     },
     "execution_count": 123,
     "metadata": {},
     "output_type": "execute_result"
    }
   ],
   "source": [
    "data = pd.read_csv(\"task2.csv\") \n",
    "data.head()"
   ]
  },
  {
   "cell_type": "code",
   "execution_count": 124,
   "metadata": {},
   "outputs": [
    {
     "data": {
      "text/html": [
       "<div>\n",
       "<style scoped>\n",
       "    .dataframe tbody tr th:only-of-type {\n",
       "        vertical-align: middle;\n",
       "    }\n",
       "\n",
       "    .dataframe tbody tr th {\n",
       "        vertical-align: top;\n",
       "    }\n",
       "\n",
       "    .dataframe thead th {\n",
       "        text-align: right;\n",
       "    }\n",
       "</style>\n",
       "<table border=\"1\" class=\"dataframe\">\n",
       "  <thead>\n",
       "    <tr style=\"text-align: right;\">\n",
       "      <th></th>\n",
       "      <th>pl_name</th>\n",
       "      <th>hostname</th>\n",
       "      <th>discoverymethod</th>\n",
       "      <th>pl_bmassj</th>\n",
       "      <th>st_spectype</th>\n",
       "      <th>st_met</th>\n",
       "      <th>st_metratio</th>\n",
       "      <th>If planet mass&gt;0.3 1; else</th>\n",
       "      <th>If metal&gt;0 1; else 0</th>\n",
       "      <th>Unnamed: 9</th>\n",
       "      <th>Unnamed: 10</th>\n",
       "    </tr>\n",
       "  </thead>\n",
       "  <tbody>\n",
       "    <tr>\n",
       "      <th>193</th>\n",
       "      <td>Kepler-74 b</td>\n",
       "      <td>Kepler-74</td>\n",
       "      <td>Transit</td>\n",
       "      <td>0.0</td>\n",
       "      <td>63000.0</td>\n",
       "      <td>F8 V</td>\n",
       "      <td>0.0</td>\n",
       "      <td>420</td>\n",
       "      <td>[Fe/H]</td>\n",
       "      <td>1.0</td>\n",
       "      <td>1.0</td>\n",
       "    </tr>\n",
       "    <tr>\n",
       "      <th>194</th>\n",
       "      <td>Kepler-75 b</td>\n",
       "      <td>Kepler-75</td>\n",
       "      <td>Transit</td>\n",
       "      <td>10.0</td>\n",
       "      <td>10000.0</td>\n",
       "      <td>NaN</td>\n",
       "      <td>0.0</td>\n",
       "      <td>300</td>\n",
       "      <td>NaN</td>\n",
       "      <td>1.0</td>\n",
       "      <td>1.0</td>\n",
       "    </tr>\n",
       "    <tr>\n",
       "      <th>195</th>\n",
       "      <td>NaN</td>\n",
       "      <td>NaN</td>\n",
       "      <td>NaN</td>\n",
       "      <td>NaN</td>\n",
       "      <td>NaN</td>\n",
       "      <td>NaN</td>\n",
       "      <td>NaN</td>\n",
       "      <td>0</td>\n",
       "      <td>0</td>\n",
       "      <td>NaN</td>\n",
       "      <td>NaN</td>\n",
       "    </tr>\n",
       "    <tr>\n",
       "      <th>196</th>\n",
       "      <td>NaN</td>\n",
       "      <td>NaN</td>\n",
       "      <td>NaN</td>\n",
       "      <td>NaN</td>\n",
       "      <td>NaN</td>\n",
       "      <td>NaN</td>\n",
       "      <td>NaN</td>\n",
       "      <td>0</td>\n",
       "      <td>0</td>\n",
       "      <td>NaN</td>\n",
       "      <td>NaN</td>\n",
       "    </tr>\n",
       "    <tr>\n",
       "      <th>197</th>\n",
       "      <td>NaN</td>\n",
       "      <td>NaN</td>\n",
       "      <td>NaN</td>\n",
       "      <td>NaN</td>\n",
       "      <td>NaN</td>\n",
       "      <td>NaN</td>\n",
       "      <td>NaN</td>\n",
       "      <td>0</td>\n",
       "      <td>0</td>\n",
       "      <td>NaN</td>\n",
       "      <td>NaN</td>\n",
       "    </tr>\n",
       "  </tbody>\n",
       "</table>\n",
       "</div>"
      ],
      "text/plain": [
       "         pl_name   hostname discoverymethod  pl_bmassj  st_spectype st_met  \\\n",
       "193  Kepler-74 b  Kepler-74         Transit        0.0      63000.0   F8 V   \n",
       "194  Kepler-75 b  Kepler-75         Transit       10.0      10000.0    NaN   \n",
       "195          NaN        NaN             NaN        NaN          NaN    NaN   \n",
       "196          NaN        NaN             NaN        NaN          NaN    NaN   \n",
       "197          NaN        NaN             NaN        NaN          NaN    NaN   \n",
       "\n",
       "     st_metratio  If planet mass>0.3 1; else If metal>0 1; else 0  Unnamed: 9  \\\n",
       "193          0.0                         420               [Fe/H]         1.0   \n",
       "194          0.0                         300                  NaN         1.0   \n",
       "195          NaN                           0                    0         NaN   \n",
       "196          NaN                           0                    0         NaN   \n",
       "197          NaN                           0                    0         NaN   \n",
       "\n",
       "     Unnamed: 10  \n",
       "193          1.0  \n",
       "194          1.0  \n",
       "195          NaN  \n",
       "196          NaN  \n",
       "197          NaN  "
      ]
     },
     "execution_count": 124,
     "metadata": {},
     "output_type": "execute_result"
    }
   ],
   "source": [
    "data.tail()"
   ]
  },
  {
   "cell_type": "markdown",
   "metadata": {},
   "source": [
    "Видим, что колонки 'полетели'. Поправим данные, избавимся от 3-х ненужных последних строк и уберем ненужные колонки.\n",
    "\n",
    "Затем уберём nan в нужных нам колонках."
   ]
  },
  {
   "cell_type": "code",
   "execution_count": 125,
   "metadata": {},
   "outputs": [],
   "source": [
    "right_columns = ['pl_name', 'hostname', 'discoverymethod', 'pl_bmassj_int', 'pl_bmassj_frac', \n",
    "                 'st_spectype','st_met_int', 'st_met_frac', 'st_metratio', \n",
    "                 'If planet mass>0.3 1; else','If metal>0 1; else 0']"
   ]
  },
  {
   "cell_type": "code",
   "execution_count": 126,
   "metadata": {},
   "outputs": [
    {
     "data": {
      "text/html": [
       "<div>\n",
       "<style scoped>\n",
       "    .dataframe tbody tr th:only-of-type {\n",
       "        vertical-align: middle;\n",
       "    }\n",
       "\n",
       "    .dataframe tbody tr th {\n",
       "        vertical-align: top;\n",
       "    }\n",
       "\n",
       "    .dataframe thead th {\n",
       "        text-align: right;\n",
       "    }\n",
       "</style>\n",
       "<table border=\"1\" class=\"dataframe\">\n",
       "  <thead>\n",
       "    <tr style=\"text-align: right;\">\n",
       "      <th></th>\n",
       "      <th>pl_name</th>\n",
       "      <th>hostname</th>\n",
       "      <th>discoverymethod</th>\n",
       "      <th>pl_bmassj_int</th>\n",
       "      <th>pl_bmassj_frac</th>\n",
       "      <th>st_spectype</th>\n",
       "      <th>st_met_int</th>\n",
       "      <th>st_met_frac</th>\n",
       "      <th>st_metratio</th>\n",
       "      <th>If planet mass&gt;0.3 1; else</th>\n",
       "      <th>If metal&gt;0 1; else 0</th>\n",
       "    </tr>\n",
       "  </thead>\n",
       "  <tbody>\n",
       "    <tr>\n",
       "      <th>0</th>\n",
       "      <td>61 Vir b</td>\n",
       "      <td>61 Vir</td>\n",
       "      <td>Radial Velocity</td>\n",
       "      <td>0.0</td>\n",
       "      <td>1600.0</td>\n",
       "      <td>G5 V</td>\n",
       "      <td>0.0</td>\n",
       "      <td>10</td>\n",
       "      <td>[Fe/H]</td>\n",
       "      <td>0.0</td>\n",
       "      <td>0.0</td>\n",
       "    </tr>\n",
       "    <tr>\n",
       "      <th>1</th>\n",
       "      <td>61 Vir c</td>\n",
       "      <td>61 Vir</td>\n",
       "      <td>Radial Velocity</td>\n",
       "      <td>0.0</td>\n",
       "      <td>5700.0</td>\n",
       "      <td>G5 V</td>\n",
       "      <td>0.0</td>\n",
       "      <td>10</td>\n",
       "      <td>[Fe/H]</td>\n",
       "      <td>0.0</td>\n",
       "      <td>0.0</td>\n",
       "    </tr>\n",
       "    <tr>\n",
       "      <th>2</th>\n",
       "      <td>61 Vir d</td>\n",
       "      <td>61 Vir</td>\n",
       "      <td>Radial Velocity</td>\n",
       "      <td>0.0</td>\n",
       "      <td>7200.0</td>\n",
       "      <td>G5 V</td>\n",
       "      <td>0.0</td>\n",
       "      <td>10</td>\n",
       "      <td>[Fe/H]</td>\n",
       "      <td>0.0</td>\n",
       "      <td>0.0</td>\n",
       "    </tr>\n",
       "    <tr>\n",
       "      <th>3</th>\n",
       "      <td>24 Sex b</td>\n",
       "      <td>24 Sex</td>\n",
       "      <td>Radial Velocity</td>\n",
       "      <td>1.0</td>\n",
       "      <td>99000.0</td>\n",
       "      <td>NaN</td>\n",
       "      <td>0.0</td>\n",
       "      <td>30</td>\n",
       "      <td>[Fe/H]</td>\n",
       "      <td>1.0</td>\n",
       "      <td>0.0</td>\n",
       "    </tr>\n",
       "    <tr>\n",
       "      <th>4</th>\n",
       "      <td>24 Sex c</td>\n",
       "      <td>24 Sex</td>\n",
       "      <td>Radial Velocity</td>\n",
       "      <td>0.0</td>\n",
       "      <td>86000.0</td>\n",
       "      <td>NaN</td>\n",
       "      <td>0.0</td>\n",
       "      <td>30</td>\n",
       "      <td>[Fe/H]</td>\n",
       "      <td>1.0</td>\n",
       "      <td>0.0</td>\n",
       "    </tr>\n",
       "  </tbody>\n",
       "</table>\n",
       "</div>"
      ],
      "text/plain": [
       "    pl_name hostname  discoverymethod  pl_bmassj_int  pl_bmassj_frac  \\\n",
       "0  61 Vir b   61 Vir  Radial Velocity            0.0          1600.0   \n",
       "1  61 Vir c   61 Vir  Radial Velocity            0.0          5700.0   \n",
       "2  61 Vir d   61 Vir  Radial Velocity            0.0          7200.0   \n",
       "3  24 Sex b   24 Sex  Radial Velocity            1.0         99000.0   \n",
       "4  24 Sex c   24 Sex  Radial Velocity            0.0         86000.0   \n",
       "\n",
       "  st_spectype  st_met_int  st_met_frac st_metratio  \\\n",
       "0        G5 V         0.0           10      [Fe/H]   \n",
       "1        G5 V         0.0           10      [Fe/H]   \n",
       "2        G5 V         0.0           10      [Fe/H]   \n",
       "3         NaN         0.0           30      [Fe/H]   \n",
       "4         NaN         0.0           30      [Fe/H]   \n",
       "\n",
       "   If planet mass>0.3 1; else  If metal>0 1; else 0  \n",
       "0                         0.0                   0.0  \n",
       "1                         0.0                   0.0  \n",
       "2                         0.0                   0.0  \n",
       "3                         1.0                   0.0  \n",
       "4                         1.0                   0.0  "
      ]
     },
     "execution_count": 126,
     "metadata": {},
     "output_type": "execute_result"
    }
   ],
   "source": [
    "data.columns = right_columns\n",
    "data = data.iloc[:-3]\n",
    "\n",
    "upd_data = data.dropna(subset=['If planet mass>0.3 1; else', 'If metal>0 1; else 0'])\n",
    "upd_data.head()"
   ]
  },
  {
   "cell_type": "markdown",
   "metadata": {},
   "source": [
    "Нас интересуют 3 колонки: hostname, If planet mass>0.3 1; else 0 и If metal>0 1; else 0.\n",
    "\n",
    "Избавимся от одинаковых звёзд в hostname, т.к. нас не интересует сколько планет гигантов есть у звезды. Выбросим все строчки с одинаковыми звёздами оставляя, если есть, только одну планету-гиганта. "
   ]
  },
  {
   "cell_type": "code",
   "execution_count": 127,
   "metadata": {},
   "outputs": [
    {
     "data": {
      "text/plain": [
       "(133,)"
      ]
     },
     "execution_count": 127,
     "metadata": {},
     "output_type": "execute_result"
    }
   ],
   "source": [
    "upd_data = upd_data[['hostname','If planet mass>0.3 1; else','If metal>0 1; else 0']]\n",
    "upd_data['hostname'].unique().shape"
   ]
  },
  {
   "cell_type": "code",
   "execution_count": 128,
   "metadata": {},
   "outputs": [
    {
     "data": {
      "text/html": [
       "<div>\n",
       "<style scoped>\n",
       "    .dataframe tbody tr th:only-of-type {\n",
       "        vertical-align: middle;\n",
       "    }\n",
       "\n",
       "    .dataframe tbody tr th {\n",
       "        vertical-align: top;\n",
       "    }\n",
       "\n",
       "    .dataframe thead th {\n",
       "        text-align: right;\n",
       "    }\n",
       "</style>\n",
       "<table border=\"1\" class=\"dataframe\">\n",
       "  <thead>\n",
       "    <tr style=\"text-align: right;\">\n",
       "      <th></th>\n",
       "      <th>hostname</th>\n",
       "      <th>Металличность</th>\n",
       "      <th>Есть планета гигант</th>\n",
       "    </tr>\n",
       "  </thead>\n",
       "  <tbody>\n",
       "    <tr>\n",
       "      <th>0</th>\n",
       "      <td>61 Vir</td>\n",
       "      <td>0.0</td>\n",
       "      <td>0</td>\n",
       "    </tr>\n",
       "    <tr>\n",
       "      <th>1</th>\n",
       "      <td>24 Sex</td>\n",
       "      <td>0.0</td>\n",
       "      <td>1</td>\n",
       "    </tr>\n",
       "    <tr>\n",
       "      <th>2</th>\n",
       "      <td>91 Aqr</td>\n",
       "      <td>0.0</td>\n",
       "      <td>1</td>\n",
       "    </tr>\n",
       "    <tr>\n",
       "      <th>3</th>\n",
       "      <td>BD-17 63</td>\n",
       "      <td>0.0</td>\n",
       "      <td>1</td>\n",
       "    </tr>\n",
       "    <tr>\n",
       "      <th>4</th>\n",
       "      <td>CoRoT-11</td>\n",
       "      <td>0.0</td>\n",
       "      <td>1</td>\n",
       "    </tr>\n",
       "    <tr>\n",
       "      <th>...</th>\n",
       "      <td>...</td>\n",
       "      <td>...</td>\n",
       "      <td>...</td>\n",
       "    </tr>\n",
       "    <tr>\n",
       "      <th>128</th>\n",
       "      <td>Kepler-63</td>\n",
       "      <td>1.0</td>\n",
       "      <td>1</td>\n",
       "    </tr>\n",
       "    <tr>\n",
       "      <th>129</th>\n",
       "      <td>Kepler-68</td>\n",
       "      <td>1.0</td>\n",
       "      <td>1</td>\n",
       "    </tr>\n",
       "    <tr>\n",
       "      <th>130</th>\n",
       "      <td>Kepler-7</td>\n",
       "      <td>1.0</td>\n",
       "      <td>1</td>\n",
       "    </tr>\n",
       "    <tr>\n",
       "      <th>131</th>\n",
       "      <td>Kepler-74</td>\n",
       "      <td>1.0</td>\n",
       "      <td>1</td>\n",
       "    </tr>\n",
       "    <tr>\n",
       "      <th>132</th>\n",
       "      <td>Kepler-75</td>\n",
       "      <td>1.0</td>\n",
       "      <td>1</td>\n",
       "    </tr>\n",
       "  </tbody>\n",
       "</table>\n",
       "<p>133 rows × 3 columns</p>\n",
       "</div>"
      ],
      "text/plain": [
       "      hostname  Металличность  Есть планета гигант\n",
       "0       61 Vir            0.0                    0\n",
       "1       24 Sex            0.0                    1\n",
       "2       91 Aqr            0.0                    1\n",
       "3     BD-17 63            0.0                    1\n",
       "4     CoRoT-11            0.0                    1\n",
       "..         ...            ...                  ...\n",
       "128  Kepler-63            1.0                    1\n",
       "129  Kepler-68            1.0                    1\n",
       "130   Kepler-7            1.0                    1\n",
       "131  Kepler-74            1.0                    1\n",
       "132  Kepler-75            1.0                    1\n",
       "\n",
       "[133 rows x 3 columns]"
      ]
     },
     "execution_count": 128,
     "metadata": {},
     "output_type": "execute_result"
    }
   ],
   "source": [
    "new_data = pd.DataFrame()\n",
    "t = []\n",
    "metal = []\n",
    "for item in upd_data['hostname'].unique():\n",
    "    tmp = int(upd_data[upd_data['hostname'] == item]['If planet mass>0.3 1; else'].sum()>0)\n",
    "    metal.append(data[data['hostname'] == item]['If metal>0 1; else 0'].mean())\n",
    "    t.append(tmp)\n",
    "    \n",
    "new_data['hostname'] = upd_data['hostname'].unique()\n",
    "new_data['Металличность'] = metal\n",
    "new_data['Есть планета гигант'] = np.array(t)\n",
    "new_data"
   ]
  },
  {
   "cell_type": "markdown",
   "metadata": {},
   "source": [
    "Теперь займемся критерием согласия. Разобъем данные на 4 корзины: по столбцам -- наличие металличности, а по строкам -- наличие планеты гиганта."
   ]
  },
  {
   "cell_type": "code",
   "execution_count": 130,
   "metadata": {},
   "outputs": [
    {
     "data": {
      "text/plain": [
       "array([[19., 41.],\n",
       "       [14., 59.]])"
      ]
     },
     "execution_count": 130,
     "metadata": {},
     "output_type": "execute_result"
    }
   ],
   "source": [
    "x = new_data['Металличность'].to_numpy()\n",
    "y = new_data['Есть планета гигант'].to_numpy()\n",
    "\n",
    "table = np.histogram2d(x, y, bins = [2,2])[0]\n",
    "\n",
    "table"
   ]
  },
  {
   "cell_type": "markdown",
   "metadata": {},
   "source": [
    "Проверим условия применимости хи-квадрат."
   ]
  },
  {
   "cell_type": "code",
   "execution_count": 131,
   "metadata": {},
   "outputs": [
    {
     "name": "stdout",
     "output_type": "stream",
     "text": [
      "$n_{\\bullet}_j$ =[ 33. 100.]\n",
      "$n_i_{\\bullet}$ =[60. 73.]\n",
      "n = 133\n"
     ]
    }
   ],
   "source": [
    "print(\"$n_{\\\\bullet}_j$ =\"+ str(table.sum(axis=0)))\n",
    "print(\"$n_i_{\\\\bullet}$ =\"+ str(table.sum(axis=1)))\n",
    "print(\"n = \" + str(y.shape[0]))"
   ]
  },
  {
   "cell_type": "markdown",
   "metadata": {},
   "source": [
    "Как видим $\\text{n} >= 50$ и $\\text{n}_{i\\bullet} \\text{n}_{\\bullet j}/n < 5$ не более чем в 5% ячеек.\n",
    "\n",
    "Следовательно его можно применить."
   ]
  },
  {
   "cell_type": "code",
   "execution_count": 132,
   "metadata": {},
   "outputs": [
    {
     "name": "stdout",
     "output_type": "stream",
     "text": [
      "Статистика: 2.124468884045939\n",
      "\n",
      "P-value: 0.14496302274052134\n"
     ]
    }
   ],
   "source": [
    "chi2, p_val = sps.chi2_contingency(table)[:2]\n",
    "print(\"Статистика: \" + str(chi2) +'\\n')\n",
    "print(\"P-value: \" + str(p_val))"
   ]
  },
  {
   "cell_type": "markdown",
   "metadata": {},
   "source": [
    "Итог: гипотеза о связи металичности и наличия планеты-гиганта не отвергается."
   ]
  },
  {
   "cell_type": "markdown",
   "metadata": {},
   "source": [
    "# Задача 3"
   ]
  },
  {
   "cell_type": "markdown",
   "metadata": {},
   "source": [
    "Основная идея:\n",
    "Мы знаем, что процесс представляющей собой число событий(появление протона), произошедших за фиксированное время, при условии, что данные события происходят с некоторой фиксированной средней интенсивностью и независимо друг от друга подчиняется распределению Пуассона. \n",
    "\n",
    "Так как нам дано среднее число зафиксированных, то поделив на вероятность фиксирования мы можем найти среднее число событий(появление протона). Используя основы баесовской статистики возьмем априорное распределения для среднего числа -- гамма распределение(потому что оно является сопряженным к Пуассоновскому) и найдём априорное распределение, которое и будет отвечать на проставленный в задаче вопрос."
   ]
  },
  {
   "cell_type": "markdown",
   "metadata": {},
   "source": [
    "Тут вновь из файла были убраны пробелы после запятой в первой строчке."
   ]
  },
  {
   "cell_type": "code",
   "execution_count": 159,
   "metadata": {},
   "outputs": [
    {
     "data": {
      "text/html": [
       "<div>\n",
       "<style scoped>\n",
       "    .dataframe tbody tr th:only-of-type {\n",
       "        vertical-align: middle;\n",
       "    }\n",
       "\n",
       "    .dataframe tbody tr th {\n",
       "        vertical-align: top;\n",
       "    }\n",
       "\n",
       "    .dataframe thead th {\n",
       "        text-align: right;\n",
       "    }\n",
       "</style>\n",
       "<table border=\"1\" class=\"dataframe\">\n",
       "  <thead>\n",
       "    <tr style=\"text-align: right;\">\n",
       "      <th></th>\n",
       "      <th>b,fm</th>\n",
       "      <th>n_prot,a.u</th>\n",
       "      <th>n,a.u</th>\n",
       "    </tr>\n",
       "  </thead>\n",
       "  <tbody>\n",
       "    <tr>\n",
       "      <th>0</th>\n",
       "      <td>0.5</td>\n",
       "      <td>0.994212</td>\n",
       "      <td>1.483899</td>\n",
       "    </tr>\n",
       "    <tr>\n",
       "      <th>1</th>\n",
       "      <td>1.5</td>\n",
       "      <td>1.178460</td>\n",
       "      <td>1.758896</td>\n",
       "    </tr>\n",
       "    <tr>\n",
       "      <th>2</th>\n",
       "      <td>2.5</td>\n",
       "      <td>2.020310</td>\n",
       "      <td>3.015388</td>\n",
       "    </tr>\n",
       "    <tr>\n",
       "      <th>3</th>\n",
       "      <td>3.5</td>\n",
       "      <td>3.256960</td>\n",
       "      <td>4.861134</td>\n",
       "    </tr>\n",
       "    <tr>\n",
       "      <th>4</th>\n",
       "      <td>4.5</td>\n",
       "      <td>4.659210</td>\n",
       "      <td>6.954045</td>\n",
       "    </tr>\n",
       "    <tr>\n",
       "      <th>5</th>\n",
       "      <td>5.5</td>\n",
       "      <td>6.031460</td>\n",
       "      <td>9.002179</td>\n",
       "    </tr>\n",
       "    <tr>\n",
       "      <th>6</th>\n",
       "      <td>6.5</td>\n",
       "      <td>7.211710</td>\n",
       "      <td>10.763746</td>\n",
       "    </tr>\n",
       "    <tr>\n",
       "      <th>7</th>\n",
       "      <td>7.5</td>\n",
       "      <td>8.071560</td>\n",
       "      <td>12.047104</td>\n",
       "    </tr>\n",
       "    <tr>\n",
       "      <th>8</th>\n",
       "      <td>8.5</td>\n",
       "      <td>8.516210</td>\n",
       "      <td>12.710761</td>\n",
       "    </tr>\n",
       "    <tr>\n",
       "      <th>9</th>\n",
       "      <td>9.5</td>\n",
       "      <td>8.484460</td>\n",
       "      <td>12.663373</td>\n",
       "    </tr>\n",
       "    <tr>\n",
       "      <th>10</th>\n",
       "      <td>10.5</td>\n",
       "      <td>7.948710</td>\n",
       "      <td>11.863746</td>\n",
       "    </tr>\n",
       "    <tr>\n",
       "      <th>11</th>\n",
       "      <td>11.5</td>\n",
       "      <td>6.914960</td>\n",
       "      <td>10.320836</td>\n",
       "    </tr>\n",
       "    <tr>\n",
       "      <th>12</th>\n",
       "      <td>12.5</td>\n",
       "      <td>5.422810</td>\n",
       "      <td>8.093746</td>\n",
       "    </tr>\n",
       "    <tr>\n",
       "      <th>13</th>\n",
       "      <td>13.5</td>\n",
       "      <td>3.545460</td>\n",
       "      <td>5.291731</td>\n",
       "    </tr>\n",
       "    <tr>\n",
       "      <th>14</th>\n",
       "      <td>14.5</td>\n",
       "      <td>1.389710</td>\n",
       "      <td>2.074194</td>\n",
       "    </tr>\n",
       "    <tr>\n",
       "      <th>15</th>\n",
       "      <td>15.5</td>\n",
       "      <td>0.000000</td>\n",
       "      <td>0.000000</td>\n",
       "    </tr>\n",
       "    <tr>\n",
       "      <th>16</th>\n",
       "      <td>16.5</td>\n",
       "      <td>0.000000</td>\n",
       "      <td>0.000000</td>\n",
       "    </tr>\n",
       "    <tr>\n",
       "      <th>17</th>\n",
       "      <td>17.5</td>\n",
       "      <td>0.000000</td>\n",
       "      <td>0.000000</td>\n",
       "    </tr>\n",
       "    <tr>\n",
       "      <th>18</th>\n",
       "      <td>18.5</td>\n",
       "      <td>0.000000</td>\n",
       "      <td>0.000000</td>\n",
       "    </tr>\n",
       "    <tr>\n",
       "      <th>19</th>\n",
       "      <td>19.5</td>\n",
       "      <td>0.000000</td>\n",
       "      <td>0.000000</td>\n",
       "    </tr>\n",
       "  </tbody>\n",
       "</table>\n",
       "</div>"
      ],
      "text/plain": [
       "    b,fm  n_prot,a.u      n,a.u\n",
       "0    0.5    0.994212   1.483899\n",
       "1    1.5    1.178460   1.758896\n",
       "2    2.5    2.020310   3.015388\n",
       "3    3.5    3.256960   4.861134\n",
       "4    4.5    4.659210   6.954045\n",
       "5    5.5    6.031460   9.002179\n",
       "6    6.5    7.211710  10.763746\n",
       "7    7.5    8.071560  12.047104\n",
       "8    8.5    8.516210  12.710761\n",
       "9    9.5    8.484460  12.663373\n",
       "10  10.5    7.948710  11.863746\n",
       "11  11.5    6.914960  10.320836\n",
       "12  12.5    5.422810   8.093746\n",
       "13  13.5    3.545460   5.291731\n",
       "14  14.5    1.389710   2.074194\n",
       "15  15.5    0.000000   0.000000\n",
       "16  16.5    0.000000   0.000000\n",
       "17  17.5    0.000000   0.000000\n",
       "18  18.5    0.000000   0.000000\n",
       "19  19.5    0.000000   0.000000"
      ]
     },
     "execution_count": 159,
     "metadata": {},
     "output_type": "execute_result"
    }
   ],
   "source": [
    "data_alice = pd.read_csv('ALICE.txt', sep=\" \")\n",
    "p = 0.67\n",
    "\n",
    "data_alice['n,a.u'] = data_alice['n_prot,a.u']/ p \n",
    "data_alice"
   ]
  },
  {
   "cell_type": "markdown",
   "metadata": {},
   "source": [
    "С помощью ручки и бумажки найдём параметры апостериорного распределения при условии того, что мы ничего не знаем о прошлом."
   ]
  },
  {
   "attachments": {
    "1.jpg": {
     "image/jpeg": "[encoded data removed]"
    }
   },
   "cell_type": "markdown",
   "metadata": {},
   "source": [
    "![1.jpg](attachment:1.jpg)"
   ]
  },
  {
   "cell_type": "markdown",
   "metadata": {},
   "source": [
    "Следовательно получаем окончательную функцию:"
   ]
  },
  {
   "cell_type": "code",
   "execution_count": 175,
   "metadata": {},
   "outputs": [],
   "source": [
    "def prob(b, n):\n",
    "    x = data_alice[data_alice['b,fm'] == b]['n,a.u'].to_numpy()[0]\n",
    "    return sps.gamma(a=x).cdf(n)"
   ]
  }
 ],
 "metadata": {
  "colab": {
   "collapsed_sections": [],
   "name": "физика.ipynb",
   "provenance": []
  },
  "kernelspec": {
   "display_name": "Python 3",
   "language": "python",
   "name": "python3"
  },
  "language_info": {
   "codemirror_mode": {
    "name": "ipython",
    "version": 3
   },
   "file_extension": ".py",
   "mimetype": "text/x-python",
   "name": "python",
   "nbconvert_exporter": "python",
   "pygments_lexer": "ipython3",
   "version": "3.8.10"
  }
 },
 "nbformat": 4,
 "nbformat_minor": 1
}
