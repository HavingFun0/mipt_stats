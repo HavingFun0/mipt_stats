{
 "cells": [
  {
   "cell_type": "code",
   "execution_count": 2,
   "metadata": {
    "ExecuteTime": {
     "end_time": "2021-03-15T07:44:01.869543Z",
     "start_time": "2021-03-15T07:44:00.724947Z"
    },
    "id": "ltK6nOQYmi0X"
   },
   "outputs": [],
   "source": [
    "import numpy as np\n",
    "import scipy.stats as sps\n",
    "import pandas as pd\n",
    "import matplotlib.pyplot as plt\n",
    "\n",
    "from sklearn.datasets import make_circles, make_blobs\n",
    "\n",
    "from IPython.display import display\n",
    "from ipywidgets import interact, widgets"
   ]
  },
  {
   "cell_type": "code",
   "execution_count": 3,
   "metadata": {
    "ExecuteTime": {
     "end_time": "2021-03-15T07:44:01.878586Z",
     "start_time": "2021-03-15T07:44:01.875201Z"
    },
    "id": "C0KoL4Btmi0d"
   },
   "outputs": [],
   "source": [
    "import warnings\n",
    "warnings.filterwarnings(\"ignore\", category=RuntimeWarning)"
   ]
  },
  {
   "cell_type": "code",
   "execution_count": 4,
   "metadata": {
    "ExecuteTime": {
     "end_time": "2021-03-15T07:44:01.887177Z",
     "start_time": "2021-03-15T07:44:01.880441Z"
    },
    "id": "Lt32vPrWmi0e"
   },
   "outputs": [],
   "source": [
    "red = '#FF3300'\n",
    "blue = '#0099CC'\n",
    "green = '#00CC66'\n",
    "orange = 'orange'"
   ]
  },
  {
   "cell_type": "markdown",
   "metadata": {
    "id": "PTWW494Ymi0e"
   },
   "source": [
    "## Корреляционный анализ\n",
    "\n",
    "### Коэффициенты корреляции\n",
    "\n",
    "Функции\n",
    "[pearsonr](https://docs.scipy.org/doc/scipy/reference/generated/scipy.stats.pearsonr.html#scipy.stats.pearsonr), [spearmanr](https://docs.scipy.org/doc/scipy/reference/generated/scipy.stats.spearmanr.html#scipy.stats.spearmanr),\n",
    "[kendalltau](https://docs.scipy.org/doc/scipy/reference/generated/scipy.stats.kendalltau.html#scipy.stats.kendalltau) &mdash; реализации коэффициентов корреляции Пирсона, Спирмана, Кендалла из `scipy.stats`.\n",
    "\n",
    "Общий принцип: `f(x_1, x_2) = (correlation, pvalue)`"
   ]
  },
  {
   "cell_type": "markdown",
   "metadata": {
    "id": "haUpr1e6mi0f"
   },
   "source": [
    "**Коэффициент корреляции Пирсона.**\n",
    "\n",
    "Рассчитывается, как корреляция случайных величин по эмпирическому распределению,\n",
    "\n",
    "$$\\rho(X, Y) = \\frac{\\sum_{i=1}^N (X_i - \\overline{X})(Y_i - \\overline{Y})}{\\sqrt{\\sum_{i=1}^N (X_i - \\overline{X})^2 \\cdot \\sum_{i=1}^N (Y_i - \\overline{Y})^2}}.$$\n",
    "\n",
    "В `scipy.stats` реализован как `scipy.stats.pearsonr(x, y)`.\n",
    "\n",
    "Параметры:\n",
    "* `x` &mdash; массив размера $N$;\n",
    "* `y` &mdash; массив размера $N$.\n",
    "\n",
    "Возвращаемые значения:\n",
    "* $\\rho$ &mdash; коэффциент корреляции Пирсона;\n",
    "* p-value критерия на основе коэффициента корреляции."
   ]
  },
  {
   "cell_type": "markdown",
   "metadata": {
    "id": "PsWgrWZymi0f"
   },
   "source": [
    "**Коэффициент корреляции Спирмена.**\n",
    "\n",
    "Рассчитывается, как коэффициент корреляции для рангов выборок.\n",
    "\n",
    "`scipy.stats.spearmanr(a, b=None, axis=0, nan_policy='propagate')`\n",
    "\n",
    "Параметры:\n",
    "* `a`, `b` &mdash; два одномерных или двумерных массива с одинаковой размерностью по `axis`, либо один двумерный массив `a`;\n",
    "* `axis` &mdash; размерность, по которой считать корреляции;\n",
    "* `nan_policy` &mdash; способ обработки отсутствующих значений:\n",
    "  * `propagate` &mdash; вернуть `nan`;\n",
    "  * `raise` &mdash; кидать исключение;\n",
    "  * `omit` &mdash; игнорировать отсутствующие значения, то есть считать только по существующим значениям.\n",
    "  \n",
    "Возвращаемые значения:\n",
    "* `correlation` &mdash; таблица попарных корреляций Спирмена склеенных `a` и `b`, если это двумерные массивы, и одно число, если это одномерные массивы;\n",
    "* `pvalue` &mdash; значения p-value критерия на основе коэффициента корреляции Спирмера в том же формате, что и `correlation`."
   ]
  },
  {
   "cell_type": "markdown",
   "metadata": {
    "id": "K0Uvq5M3mi0g"
   },
   "source": [
    "**Коэффицинт корреляции Кендалла.**\n",
    "\n",
    "Пары $(X_i, Y_i)$ и $(X_j, Y_j)$ называются согласованными, если $\\text{sign}(X_i - X_j) \\text{sign}(Y_i - Y_j) = 1$, несогласованными, если $\\text{sign}(X_i - X_j) \\text{sign}(Y_i - Y_j) = -1$, и связанными, если $X_i = X_j$ или $Y_i = Y_j$.\n",
    "\n",
    "Введем обозначения:\n",
    "* $S$ &mdash; число согласованных пар;\n",
    "* $R$ &mdash; число несогласованных пар;\n",
    "* $T$ &mdash; число пар $(i, j)$, таких что $i \\neq j$ и $X_i = X_j$;\n",
    "* $U$ &mdash; число пар $(i, j)$, таких что $i \\neq j$ и $Y_i = Y_j$;\n",
    "* $R$ &mdash; количество различных значений среди $X_1, \\dots, X_N$;\n",
    "* $C$ &mdash; количество различных значений среди $Y_1, \\dots, Y_N$;\n",
    "* $N_0$ &mdash; общее число пар, то есть $N_0 = N(N - 1)/2$.\n",
    "\n",
    "В отсутствие связанных пар коэффициент корреляции выглядит, как\n",
    "$$\\tau = \\frac{S - R}{S + R} = \\frac{S - R}{N_0}.$$\n",
    "\n",
    "В случае наличия связанных пар применяют поправки на них:\n",
    "* Без применения поправки $\\tau_A = \\frac{S - R}{N_0}$;\n",
    "* B-поправка\n",
    "  $$\\tau_B = \\frac{S - R}{\\sqrt{(S + R + T)(S + R + U)}} = \\frac{S - R}{\\sqrt{(N_0 - U)(N_0 - T)}};$$\n",
    "* C-поправка\n",
    "  $$\\tau_C = \\frac{2(S - R)}{N^2 (M - 1)/M},$$\n",
    "  где $M = \\min\\{R, C\\}$.\n",
    "  \n",
    "Как правило, B-поправка работает лучше для случая $R \\approx C$, а в противном случае лучше работает C-поправка.\n",
    "\n",
    "*Замечание.* Как нетрудно убедиться, действительно, в отсутствие связанных пар, то есть в случае $T = U = 0$, все три коэффициента равны, $\\tau_A = \\tau_B = \\tau_C$.\n",
    "\n",
    "Библиотечная реализация:\n",
    "\n",
    "`scipy.stats.kendalltau(x, y, initial_lexsort=None, nan_policy='propagate', method='auto', variant='b')`.\n",
    "\n",
    "Параметры:\n",
    "* `x` и `y` &mdash; одномерные массивы одного размера;\n",
    "* `nan_policy` &mdash; способ обработки отсутствующих значений, возможные значения параметра аналогичны критерию Спирмена;\n",
    "* `method` &mdash; способ вычисления p-value критерия:\n",
    "  * `asymptotic` &mdash; используя аппроксимацию нормальным распределением, следующую из асимптотической нормальности $\\tau \\left/ \\sqrt{D \\tau} \\right.$;\n",
    "  * `exact` &mdash; используя точную формулу, возможно только для выборок с отсутствующими связанными парами;\n",
    "  * `auto` &mdash; выбирая стратегию автоматически;\n",
    "* `variant` &mdash; способ обработки связанных пар, возможны значения `b` и `c`."
   ]
  },
  {
   "cell_type": "markdown",
   "metadata": {
    "id": "0zzuvfFimi0g"
   },
   "source": [
    "Сравним методы для разных выборок."
   ]
  },
  {
   "cell_type": "code",
   "execution_count": 5,
   "metadata": {
    "ExecuteTime": {
     "end_time": "2021-03-15T07:44:01.900758Z",
     "start_time": "2021-03-15T07:44:01.896737Z"
    },
    "id": "jJgpBW-fmi0h"
   },
   "outputs": [],
   "source": [
    "def visualize_coefficients(x1, x2):\n",
    "    print('Выборки:', x1, x2)\n",
    "    pearson = sps.pearsonr(x1, x2)\n",
    "    spearman = sps.spearmanr(x1, x2)\n",
    "    kendall = sps.kendalltau(x1, x2)\n",
    "    \n",
    "    display(pd.DataFrame(\n",
    "        dict(zip(('Коэфф. корреляции', 'p-value'), \n",
    "                 zip(pearson, spearman, kendall))),\n",
    "        ('Пирсон', 'Спирмен', 'Кендалл'),\n",
    "    ))"
   ]
  },
  {
   "cell_type": "markdown",
   "metadata": {
    "id": "vUQmOsm1mi0h"
   },
   "source": [
    "* Упорядоченные по возрастанию наборы данных"
   ]
  },
  {
   "cell_type": "code",
   "execution_count": 6,
   "metadata": {
    "ExecuteTime": {
     "end_time": "2021-03-15T07:44:01.914320Z",
     "start_time": "2021-03-15T07:44:01.902257Z"
    },
    "id": "hq7lbnjXmi0i"
   },
   "outputs": [],
   "source": [
    "x1, x2 = np.arange(5), np.arange(5) + 6"
   ]
  },
  {
   "cell_type": "code",
   "execution_count": 7,
   "metadata": {
    "ExecuteTime": {
     "end_time": "2021-03-15T07:44:01.951515Z",
     "start_time": "2021-03-15T07:44:01.915845Z"
    },
    "colab": {
     "base_uri": "https://localhost:8080/",
     "height": 153
    },
    "id": "odR5o7MTmi0i",
    "outputId": "66f8c11a-5580-4385-b8bc-cdaa603c6761"
   },
   "outputs": [
    {
     "name": "stdout",
     "output_type": "stream",
     "text": [
      "Выборки: [0 1 2 3 4] [ 6  7  8  9 10]\n"
     ]
    },
    {
     "data": {
      "text/html": [
       "<div>\n",
       "<style scoped>\n",
       "    .dataframe tbody tr th:only-of-type {\n",
       "        vertical-align: middle;\n",
       "    }\n",
       "\n",
       "    .dataframe tbody tr th {\n",
       "        vertical-align: top;\n",
       "    }\n",
       "\n",
       "    .dataframe thead th {\n",
       "        text-align: right;\n",
       "    }\n",
       "</style>\n",
       "<table border=\"1\" class=\"dataframe\">\n",
       "  <thead>\n",
       "    <tr style=\"text-align: right;\">\n",
       "      <th></th>\n",
       "      <th>Коэфф. корреляции</th>\n",
       "      <th>p-value</th>\n",
       "    </tr>\n",
       "  </thead>\n",
       "  <tbody>\n",
       "    <tr>\n",
       "      <th>Пирсон</th>\n",
       "      <td>1.0</td>\n",
       "      <td>0.000000e+00</td>\n",
       "    </tr>\n",
       "    <tr>\n",
       "      <th>Спирмен</th>\n",
       "      <td>1.0</td>\n",
       "      <td>1.404265e-24</td>\n",
       "    </tr>\n",
       "    <tr>\n",
       "      <th>Кендалл</th>\n",
       "      <td>1.0</td>\n",
       "      <td>1.666667e-02</td>\n",
       "    </tr>\n",
       "  </tbody>\n",
       "</table>\n",
       "</div>"
      ],
      "text/plain": [
       "         Коэфф. корреляции       p-value\n",
       "Пирсон                 1.0  0.000000e+00\n",
       "Спирмен                1.0  1.404265e-24\n",
       "Кендалл                1.0  1.666667e-02"
      ]
     },
     "metadata": {},
     "output_type": "display_data"
    }
   ],
   "source": [
    "visualize_coefficients(x1, x2)"
   ]
  },
  {
   "cell_type": "markdown",
   "metadata": {
    "id": "z7WmgYhvmi0j"
   },
   "source": [
    "* Одна по возрастанию, другая по убыванию."
   ]
  },
  {
   "cell_type": "code",
   "execution_count": 8,
   "metadata": {
    "ExecuteTime": {
     "end_time": "2021-03-15T07:44:01.973959Z",
     "start_time": "2021-03-15T07:44:01.953535Z"
    },
    "colab": {
     "base_uri": "https://localhost:8080/",
     "height": 153
    },
    "id": "EmzZIGTOmi0j",
    "outputId": "ad7b38f8-8450-4475-a571-e928fb99e2a6"
   },
   "outputs": [
    {
     "name": "stdout",
     "output_type": "stream",
     "text": [
      "Выборки: [0 1 2 3 4] [ -6  -7  -8  -9 -10]\n"
     ]
    },
    {
     "data": {
      "text/html": [
       "<div>\n",
       "<style scoped>\n",
       "    .dataframe tbody tr th:only-of-type {\n",
       "        vertical-align: middle;\n",
       "    }\n",
       "\n",
       "    .dataframe tbody tr th {\n",
       "        vertical-align: top;\n",
       "    }\n",
       "\n",
       "    .dataframe thead th {\n",
       "        text-align: right;\n",
       "    }\n",
       "</style>\n",
       "<table border=\"1\" class=\"dataframe\">\n",
       "  <thead>\n",
       "    <tr style=\"text-align: right;\">\n",
       "      <th></th>\n",
       "      <th>Коэфф. корреляции</th>\n",
       "      <th>p-value</th>\n",
       "    </tr>\n",
       "  </thead>\n",
       "  <tbody>\n",
       "    <tr>\n",
       "      <th>Пирсон</th>\n",
       "      <td>-1.0</td>\n",
       "      <td>0.000000e+00</td>\n",
       "    </tr>\n",
       "    <tr>\n",
       "      <th>Спирмен</th>\n",
       "      <td>-1.0</td>\n",
       "      <td>1.404265e-24</td>\n",
       "    </tr>\n",
       "    <tr>\n",
       "      <th>Кендалл</th>\n",
       "      <td>-1.0</td>\n",
       "      <td>1.666667e-02</td>\n",
       "    </tr>\n",
       "  </tbody>\n",
       "</table>\n",
       "</div>"
      ],
      "text/plain": [
       "         Коэфф. корреляции       p-value\n",
       "Пирсон                -1.0  0.000000e+00\n",
       "Спирмен               -1.0  1.404265e-24\n",
       "Кендалл               -1.0  1.666667e-02"
      ]
     },
     "metadata": {},
     "output_type": "display_data"
    }
   ],
   "source": [
    "visualize_coefficients(x1, -x2)"
   ]
  },
  {
   "cell_type": "markdown",
   "metadata": {
    "id": "6J75ioACmi0j"
   },
   "source": [
    "* Корреляция с каким-то другим набором"
   ]
  },
  {
   "cell_type": "code",
   "execution_count": 9,
   "metadata": {
    "ExecuteTime": {
     "end_time": "2021-03-15T07:44:01.985286Z",
     "start_time": "2021-03-15T07:44:01.980827Z"
    },
    "id": "FAFwFFKCmi0j"
   },
   "outputs": [],
   "source": [
    "x2 = [4, 8, 2, 5, 1]"
   ]
  },
  {
   "cell_type": "code",
   "execution_count": 10,
   "metadata": {
    "ExecuteTime": {
     "end_time": "2021-03-15T07:44:02.003751Z",
     "start_time": "2021-03-15T07:44:01.987213Z"
    },
    "colab": {
     "base_uri": "https://localhost:8080/",
     "height": 153
    },
    "id": "DG0hEzCFmi0k",
    "outputId": "706c7f43-c200-4c2d-8290-c7b8df19de45"
   },
   "outputs": [
    {
     "name": "stdout",
     "output_type": "stream",
     "text": [
      "Выборки: [0 1 2 3 4] [4, 8, 2, 5, 1]\n"
     ]
    },
    {
     "data": {
      "text/html": [
       "<div>\n",
       "<style scoped>\n",
       "    .dataframe tbody tr th:only-of-type {\n",
       "        vertical-align: middle;\n",
       "    }\n",
       "\n",
       "    .dataframe tbody tr th {\n",
       "        vertical-align: top;\n",
       "    }\n",
       "\n",
       "    .dataframe thead th {\n",
       "        text-align: right;\n",
       "    }\n",
       "</style>\n",
       "<table border=\"1\" class=\"dataframe\">\n",
       "  <thead>\n",
       "    <tr style=\"text-align: right;\">\n",
       "      <th></th>\n",
       "      <th>Коэфф. корреляции</th>\n",
       "      <th>p-value</th>\n",
       "    </tr>\n",
       "  </thead>\n",
       "  <tbody>\n",
       "    <tr>\n",
       "      <th>Пирсон</th>\n",
       "      <td>-0.519615</td>\n",
       "      <td>0.369517</td>\n",
       "    </tr>\n",
       "    <tr>\n",
       "      <th>Спирмен</th>\n",
       "      <td>-0.500000</td>\n",
       "      <td>0.391002</td>\n",
       "    </tr>\n",
       "    <tr>\n",
       "      <th>Кендалл</th>\n",
       "      <td>-0.400000</td>\n",
       "      <td>0.483333</td>\n",
       "    </tr>\n",
       "  </tbody>\n",
       "</table>\n",
       "</div>"
      ],
      "text/plain": [
       "         Коэфф. корреляции   p-value\n",
       "Пирсон           -0.519615  0.369517\n",
       "Спирмен          -0.500000  0.391002\n",
       "Кендалл          -0.400000  0.483333"
      ]
     },
     "metadata": {},
     "output_type": "display_data"
    }
   ],
   "source": [
    "visualize_coefficients(x1, x2)"
   ]
  },
  {
   "cell_type": "markdown",
   "metadata": {
    "id": "cdSJPl77mi0k"
   },
   "source": [
    "* Если у одного набора поменять знак, то коэффициенты корреляции сменят знак."
   ]
  },
  {
   "cell_type": "code",
   "execution_count": 11,
   "metadata": {
    "ExecuteTime": {
     "end_time": "2021-03-15T07:44:02.023360Z",
     "start_time": "2021-03-15T07:44:02.005590Z"
    },
    "colab": {
     "base_uri": "https://localhost:8080/",
     "height": 153
    },
    "id": "kvRXknUkmi0k",
    "outputId": "71fb34fc-d0cd-4b07-a900-419437a403fe"
   },
   "outputs": [
    {
     "name": "stdout",
     "output_type": "stream",
     "text": [
      "Выборки: [ 0 -1 -2 -3 -4] [4, 8, 2, 5, 1]\n"
     ]
    },
    {
     "data": {
      "text/html": [
       "<div>\n",
       "<style scoped>\n",
       "    .dataframe tbody tr th:only-of-type {\n",
       "        vertical-align: middle;\n",
       "    }\n",
       "\n",
       "    .dataframe tbody tr th {\n",
       "        vertical-align: top;\n",
       "    }\n",
       "\n",
       "    .dataframe thead th {\n",
       "        text-align: right;\n",
       "    }\n",
       "</style>\n",
       "<table border=\"1\" class=\"dataframe\">\n",
       "  <thead>\n",
       "    <tr style=\"text-align: right;\">\n",
       "      <th></th>\n",
       "      <th>Коэфф. корреляции</th>\n",
       "      <th>p-value</th>\n",
       "    </tr>\n",
       "  </thead>\n",
       "  <tbody>\n",
       "    <tr>\n",
       "      <th>Пирсон</th>\n",
       "      <td>0.519615</td>\n",
       "      <td>0.369517</td>\n",
       "    </tr>\n",
       "    <tr>\n",
       "      <th>Спирмен</th>\n",
       "      <td>0.500000</td>\n",
       "      <td>0.391002</td>\n",
       "    </tr>\n",
       "    <tr>\n",
       "      <th>Кендалл</th>\n",
       "      <td>0.400000</td>\n",
       "      <td>0.483333</td>\n",
       "    </tr>\n",
       "  </tbody>\n",
       "</table>\n",
       "</div>"
      ],
      "text/plain": [
       "         Коэфф. корреляции   p-value\n",
       "Пирсон            0.519615  0.369517\n",
       "Спирмен           0.500000  0.391002\n",
       "Кендалл           0.400000  0.483333"
      ]
     },
     "metadata": {},
     "output_type": "display_data"
    }
   ],
   "source": [
    "visualize_coefficients(-x1, x2)"
   ]
  },
  {
   "cell_type": "markdown",
   "metadata": {
    "id": "Uahncz56mi0k"
   },
   "source": [
    "Некоторые вспомогательные функции для отрисовки графиков."
   ]
  },
  {
   "cell_type": "code",
   "execution_count": 12,
   "metadata": {
    "ExecuteTime": {
     "end_time": "2021-03-15T07:44:02.033877Z",
     "start_time": "2021-03-15T07:44:02.026671Z"
    },
    "id": "tlthrDhHmi0k"
   },
   "outputs": [],
   "source": [
    "def autolabel(rects):\n",
    "    \"\"\"\n",
    "    Attach a text label above each bar displaying its height\n",
    "    \"\"\"\n",
    "    for rect in rects:\n",
    "        height = rect.get_height()\n",
    "        y = rect.get_y()\n",
    "        plt.text(rect.get_x() + rect.get_width()/2., \n",
    "                 -0.2 if y >= 0 else 0.07,\n",
    "                 '%.2f' % (height * (-1 if y < 0 else 1)),\n",
    "                 ha='center', va='bottom', fontsize=16)"
   ]
  },
  {
   "cell_type": "code",
   "execution_count": 13,
   "metadata": {
    "ExecuteTime": {
     "end_time": "2021-03-15T07:44:02.047230Z",
     "start_time": "2021-03-15T07:44:02.035290Z"
    },
    "id": "BlXpecTAmi0l",
    "scrolled": true
   },
   "outputs": [],
   "source": [
    "def draw_graphics(x1, x2):\n",
    "    r, pr = sps.pearsonr(x1, x2)\n",
    "    rho, prho = sps.spearmanr(x1, x2)\n",
    "    tau, ptau = sps.kendalltau(x1, x2)\n",
    "    colors = [(red if pr < 0.05 else blue), \n",
    "              (red if prho < 0.05 else blue), \n",
    "              (red if ptau < 0.05 else blue)]\n",
    "    titles = ['$\\\\widehat{\\\\rho}$', '$\\\\rho_S$', '$\\\\tau$']\n",
    "\n",
    "    plt.figure(figsize=(13, 4))\n",
    "\n",
    "    plt.subplot(1, 3, 1)\n",
    "    plt.scatter(x1, x2, alpha=0.5, s=15, color=green)\n",
    "    plt.axis('equal')\n",
    "    plt.title('Выборки', fontsize=16)\n",
    "\n",
    "    plt.subplot(1, 3, 2)\n",
    "    rects = plt.bar([1, 2, 3], [r, rho, tau], color=colors)\n",
    "    plt.hlines(0, 0.4, 3.6, color='black', alpha=0.5)\n",
    "    autolabel(rects)\n",
    "    plt.xticks([1, 2, 3], titles, fontsize=16)\n",
    "    plt.title('Корреляции', fontsize=16)\n",
    "    plt.xlim((0.4, 3.6)), plt.ylim((-1, 1))\n",
    "\n",
    "    plt.subplot(1, 3, 3)\n",
    "    plt.bar([1, 2, 3], [pr, prho, ptau], color=colors)\n",
    "    plt.hlines(0.05, 0.4, 3.6, color=red, alpha=0.5, lw=3)\n",
    "    plt.xticks([1, 2, 3], titles, fontsize=16)\n",
    "    plt.title('p-value', fontsize=16)\n",
    "    plt.xlim((0.4, 3.6)), plt.ylim((-0.01, 1))\n",
    "\n",
    "    plt.show()"
   ]
  },
  {
   "cell_type": "markdown",
   "metadata": {
    "id": "HiZlhXrwmi0l"
   },
   "source": [
    "### *Везде ниже выборка изображается на графике без искажений, то есть масштаб по обеим осям совпадает. Столбцы отвечают за коэффициенты корреляции Пирсона, Спирмена и Кенделла соответственно. Если столбец красный, то гипотеза о независимости (точнее, некоррелированности) отвергается.*"
   ]
  },
  {
   "cell_type": "markdown",
   "metadata": {
    "id": "i2rpbjFymi0l"
   },
   "source": [
    "Зависимость коэффициентов корреляции от выборок. Выборки из равномерного распределения по прямой $y=x$ при $x \\in [-1, 1]$ размазывается вдоль прямой $y=-x$."
   ]
  },
  {
   "cell_type": "code",
   "execution_count": 14,
   "metadata": {
    "ExecuteTime": {
     "end_time": "2021-03-15T07:44:02.638683Z",
     "start_time": "2021-03-15T07:44:02.049000Z"
    },
    "colab": {
     "base_uri": "https://localhost:8080/",
     "height": 326,
     "referenced_widgets": [
      "15e95c0419394a4a853ca10e8420cbca",
      "7e1dc04dd3904652b410a5f2b631eb5e",
      "604f53df5dac4214b7ba2fe21013e986",
      "23287ce13eb44b7ab1b27739d20c1531",
      "9ca2cc6f04f44305a607583125aab9fd",
      "a80923d66db84f1ea7de7cf4f66c4097",
      "d261d153465046efa91c56999154f3ac"
     ]
    },
    "id": "wms1sqLvmi0l",
    "outputId": "976a95f4-c0a7-4394-e042-03a9edd79f1d"
   },
   "outputs": [
    {
     "data": {
      "application/vnd.jupyter.widget-view+json": {
       "model_id": "5ff46f8fb7ae48a2ade56794d400d863",
       "version_major": 2,
       "version_minor": 0
      },
      "text/plain": [
       "interactive(children=(FloatSlider(value=0.0, description='scale', max=3.0), Output()), _dom_classes=('widget-i…"
      ]
     },
     "metadata": {},
     "output_type": "display_data"
    }
   ],
   "source": [
    "@interact(scale=widgets.FloatSlider(value=0, min=0, max=3, step=0.1))\n",
    "def visualize_with_scale(scale):\n",
    "    x = sps.uniform(loc=-1, scale=2).rvs(size=100)\n",
    "    y = sps.uniform(loc=-scale / 2, scale=scale).rvs(size=100)\n",
    "    draw_graphics(x + y, x - y)"
   ]
  },
  {
   "cell_type": "markdown",
   "metadata": {
    "id": "9Gokt8DTmi0m"
   },
   "source": [
    "Выборки расположены вдоль поворачивающейся прямой. Если одна из выборок принимает только одно значение, то коэффициент корреляции неопределен."
   ]
  },
  {
   "cell_type": "code",
   "execution_count": 18,
   "metadata": {
    "ExecuteTime": {
     "end_time": "2021-03-15T07:44:03.036826Z",
     "start_time": "2021-03-15T07:44:02.640221Z"
    },
    "colab": {
     "base_uri": "https://localhost:8080/",
     "height": 326,
     "referenced_widgets": [
      "4170e79f78f0448e99f8c87f631d0e0b",
      "4154da44314c44f1898f325f4f56ca50",
      "898cd2632f3a45fe93a0ed52a078078e",
      "1bbdc84cbf9b42e0baf04fa6a0a181a3",
      "8b5d5df2a1dd4184ac0fc5ccc9c7c3fb",
      "fc26a2ac2a564db987cebe16fc8bd7a2",
      "2de525a40f9a46a9bbc6d7568e9eefdb"
     ]
    },
    "id": "TMbmJxUrmi0m",
    "outputId": "9db1d529-4b20-4d20-84e9-d219ded8eb69"
   },
   "outputs": [
    {
     "data": {
      "application/vnd.jupyter.widget-view+json": {
       "model_id": "4170e79f78f0448e99f8c87f631d0e0b",
       "version_major": 2,
       "version_minor": 0
      },
      "text/plain": [
       "interactive(children=(IntSlider(value=45, description='angle', max=180, step=5), Output()), _dom_classes=('wid…"
      ]
     },
     "metadata": {
      "tags": []
     },
     "output_type": "display_data"
    }
   ],
   "source": [
    "@interact(angle=widgets.IntSlider(value=45, min=0, max=180, step=5))\n",
    "def visualize_one_line(angle):\n",
    "    x = sps.uniform(loc=-1, scale=2).rvs(size=100)\n",
    "    y = x * np.tan(np.radians(angle))\n",
    "    draw_graphics(x, y)"
   ]
  },
  {
   "cell_type": "markdown",
   "metadata": {
    "id": "YzgjpLZRmi0m"
   },
   "source": [
    "Выборка размера 100 из двумерного нормального распределения."
   ]
  },
  {
   "cell_type": "code",
   "execution_count": 19,
   "metadata": {
    "ExecuteTime": {
     "end_time": "2021-03-15T07:44:03.494844Z",
     "start_time": "2021-03-15T07:44:03.038255Z"
    },
    "colab": {
     "base_uri": "https://localhost:8080/",
     "height": 375,
     "referenced_widgets": [
      "2d81dfc32b1f438ab41aa7086a5e282a",
      "934e72b007b64b2ba1b2fdd265eec560",
      "2aa18b00024c4659b7775b1dd901d647",
      "7b08f2610593444ea827ee1cf770d290",
      "83c4cae0254d48b9b31973a85c4986f7",
      "448c8e2f45ef4702ba0aa75368fbcd9e",
      "b008590e260545ca87fb4eb6e067e9c0",
      "8003d28e9b594fbe80bfcd4fdc041eb3",
      "7eb82da46bc541bc9f5bdc4a46208f0f",
      "4d96c6d90365430a88493a40a2ce0d43"
     ]
    },
    "id": "YbHk-HYVmi0m",
    "outputId": "22ad233d-96ea-45d7-8927-29eb27dfb7fd"
   },
   "outputs": [
    {
     "data": {
      "application/vnd.jupyter.widget-view+json": {
       "model_id": "2d81dfc32b1f438ab41aa7086a5e282a",
       "version_major": 2,
       "version_minor": 0
      },
      "text/plain": [
       "interactive(children=(FloatSlider(value=0.0, description='Корреляция:', max=1.0), Dropdown(description='Размер…"
      ]
     },
     "metadata": {
      "tags": []
     },
     "output_type": "display_data"
    }
   ],
   "source": [
    "@interact(correlation=widgets.FloatSlider(value=0.0, min=0.0, max=1.0, step=0.1,\n",
    "                                          description='Корреляция:'),\n",
    "          sample_size=widgets.Dropdown(options=[20, 100, 500],\n",
    "                                       value=100, description='Размер выборки:'))\n",
    "def visualize_multivariate(correlation, sample_size):\n",
    "    correlation = min(correlation, 0.9999)\n",
    "    print(f'Истинная корреляция: {correlation:.1f}')\n",
    "    x1, x2 = sps.multivariate_normal(cov=[[1, correlation],\n",
    "                                          [correlation, 1]]).rvs(size=sample_size).T\n",
    "    draw_graphics(x1, x2)"
   ]
  },
  {
   "cell_type": "markdown",
   "metadata": {
    "id": "bW6ht9tQmi0m"
   },
   "source": [
    "Как видим, при малых значениях истинной корреляции гипотеза о независимости не отвергается, в отличие от выборки большего размера."
   ]
  },
  {
   "cell_type": "markdown",
   "metadata": {
    "id": "UVp1T7WImi0n"
   },
   "source": [
    "Выборки \"X\". Очевидно, они зависимы, но коэффициенты корреляции близки к нулю."
   ]
  },
  {
   "cell_type": "code",
   "execution_count": 20,
   "metadata": {
    "ExecuteTime": {
     "end_time": "2021-03-15T07:44:03.838125Z",
     "start_time": "2021-03-15T07:44:03.496346Z"
    },
    "colab": {
     "base_uri": "https://localhost:8080/",
     "height": 294
    },
    "id": "ou_epjRTmi0n",
    "outputId": "e2e42d9a-42f1-4f09-d2ff-e17c2846706e"
   },
   "outputs": [
    {
     "data": {
      "image/png": "[encoded data removed]",
      "text/plain": [
       "<Figure size 936x288 with 3 Axes>"
      ]
     },
     "metadata": {
      "needs_background": "light",
      "tags": []
     },
     "output_type": "display_data"
    }
   ],
   "source": [
    "x1 = sps.uniform(loc=-1, scale=2).rvs(size=100)\n",
    "x2 = x1 * (1 - 2 * sps.bernoulli(0.5).rvs(size=100))\n",
    "draw_graphics(x1, x2)"
   ]
  },
  {
   "cell_type": "markdown",
   "metadata": {
    "id": "PSvn4a0hmi0n"
   },
   "source": [
    "При круговой зависимости выполняется аналогичное свойство."
   ]
  },
  {
   "cell_type": "code",
   "execution_count": 21,
   "metadata": {
    "ExecuteTime": {
     "end_time": "2021-03-15T07:44:04.315959Z",
     "start_time": "2021-03-15T07:44:03.839756Z"
    },
    "colab": {
     "base_uri": "https://localhost:8080/",
     "height": 326,
     "referenced_widgets": [
      "b4ead18155064f8c9bc30d33fab1f79d",
      "3570bdcf4f8849d4b212380a8919b89a",
      "7d2de77a5edd4113a813717e946460ec",
      "688a6672386148b8a0312c213e65b036",
      "5382aa8990ac4eb18a6899ac9401ff94",
      "41aefd66176f4509bc17a4aafc4113ea",
      "b609bb99ef574749bbaecd45e2726ec0"
     ]
    },
    "id": "b09vELp5mi0n",
    "outputId": "e0545635-59b0-4c8f-b12f-7f9c125a6ef1"
   },
   "outputs": [
    {
     "data": {
      "application/vnd.jupyter.widget-view+json": {
       "model_id": "b4ead18155064f8c9bc30d33fab1f79d",
       "version_major": 2,
       "version_minor": 0
      },
      "text/plain": [
       "interactive(children=(FloatSlider(value=0.0, description='radius_scale', max=0.6), Output()), _dom_classes=('w…"
      ]
     },
     "metadata": {
      "tags": []
     },
     "output_type": "display_data"
    }
   ],
   "source": [
    "@interact(radius_scale=widgets.FloatSlider(value=0, min=0, max=0.6, step=0.1))\n",
    "def visualize_round(radius_scale):\n",
    "    phi = sps.uniform(loc=-1, scale=2).rvs(size=100)\n",
    "    r = 1 + sps.uniform(loc=-radius_scale / 2, scale=radius_scale).rvs(size=100)\n",
    "    draw_graphics(r * np.cos(np.pi * phi), r * np.sin(np.pi * phi))"
   ]
  },
  {
   "cell_type": "markdown",
   "metadata": {
    "id": "jVToXdYQmi0o"
   },
   "source": [
    "Несколько других примеров"
   ]
  },
  {
   "cell_type": "code",
   "execution_count": 22,
   "metadata": {
    "ExecuteTime": {
     "end_time": "2021-03-15T07:44:04.728405Z",
     "start_time": "2021-03-15T07:44:04.318230Z"
    },
    "colab": {
     "base_uri": "https://localhost:8080/",
     "height": 294
    },
    "id": "DacJp0nymi0o",
    "outputId": "c5e8dc6c-ff17-4600-b1cf-fcf0c1bec238"
   },
   "outputs": [
    {
     "data": {
      "image/png": "[encoded data removed]",
      "text/plain": [
       "<Figure size 936x288 with 3 Axes>"
      ]
     },
     "metadata": {
      "needs_background": "light",
      "tags": []
     },
     "output_type": "display_data"
    }
   ],
   "source": [
    "x, y = make_circles(n_samples=100)[0].T\n",
    "draw_graphics(x, y)"
   ]
  },
  {
   "cell_type": "code",
   "execution_count": 23,
   "metadata": {
    "ExecuteTime": {
     "end_time": "2021-03-15T07:44:05.177134Z",
     "start_time": "2021-03-15T07:44:04.732431Z"
    },
    "colab": {
     "base_uri": "https://localhost:8080/",
     "height": 294
    },
    "id": "jLuiKPsUmi0o",
    "outputId": "bb4a4c3d-3f47-4a5f-d5b6-3f57626f20af"
   },
   "outputs": [
    {
     "data": {
      "image/png": "[encoded data removed]",
      "text/plain": [
       "<Figure size 936x288 with 3 Axes>"
      ]
     },
     "metadata": {
      "needs_background": "light",
      "tags": []
     },
     "output_type": "display_data"
    }
   ],
   "source": [
    "x, y = make_blobs(n_samples=100)[0].T\n",
    "draw_graphics(x, y)"
   ]
  },
  {
   "cell_type": "markdown",
   "metadata": {
    "id": "RmRPmnJzmi0o"
   },
   "source": [
    "Пусть выборки линейно зависимы, но при этом случился один выброс (в левом верхнем углу). Коэффициент корреляции Пирсона близок к нулю, несмотря на очевидную зависимость данных. Остальные коэффициенты корреляции не сильно влияют на выброс."
   ]
  },
  {
   "cell_type": "code",
   "execution_count": 15,
   "metadata": {
    "ExecuteTime": {
     "end_time": "2021-03-15T07:44:05.631187Z",
     "start_time": "2021-03-15T07:44:05.178948Z"
    },
    "colab": {
     "base_uri": "https://localhost:8080/",
     "height": 326,
     "referenced_widgets": [
      "c49897c531454f98a0b8e5db59b63082",
      "dd6bbdb2b2dc4bd799b8e0bbbd075053",
      "84b0f864a18e46c194e6cd7ea590e4c8",
      "6d4d8638f7fa4abf880369bd298d982f",
      "d1824f1eda064bb1b0d828cfb83bdf39",
      "b289171cbb4044558cd3043c8371936e",
      "4680a6e24d2d4cc48ebfbcf4aee7c702"
     ]
    },
    "id": "t9wT7zfemi0o",
    "outputId": "9ba443eb-8bf1-4620-f27a-cc6992af9f17"
   },
   "outputs": [
    {
     "data": {
      "application/vnd.jupyter.widget-view+json": {
       "model_id": "32bba302474948e2af86abdfe51734b7",
       "version_major": 2,
       "version_minor": 0
      },
      "text/plain": [
       "interactive(children=(FloatSlider(value=6.0, description='Положение выброса:', max=34.0, step=1.0), Output()),…"
      ]
     },
     "metadata": {},
     "output_type": "display_data"
    }
   ],
   "source": [
    "@interact(outlier=widgets.FloatSlider(value=6, min=0, max=34, step=1,\n",
    "                                      description='Положение выброса:'))\n",
    "def visualize_linear_with_outlier(outlier):\n",
    "    x1 = sps.uniform(loc=-1, scale=2).rvs(size=100)\n",
    "    x2 = np.array(x1)\n",
    "    x1[-1] = -outlier\n",
    "    x2[-1] = outlier\n",
    "    draw_graphics(x1, x2)"
   ]
  },
  {
   "cell_type": "markdown",
   "metadata": {
    "id": "S5VPYu-Qmi0p"
   },
   "source": [
    "Если выброс \"слишком большой\", то коэффициент корреляции Пирсона может быть близок к -1, что означает отрицательную линейную зависимость, несмотря на то, что на самом деле она положительна. Другие два коэффициента корреляции практически не меняются, потому что зависят только от относительного порядка элементов выборки."
   ]
  },
  {
   "cell_type": "markdown",
   "metadata": {
    "id": "1J4UaT6Jmi0p"
   },
   "source": [
    "<a href=\"https://upload.wikimedia.org/wikipedia/commons/0/02/Correlation_examples.png\">Еще несколько примеров с Википедии</a>"
   ]
  },
  {
   "cell_type": "markdown",
   "metadata": {
    "id": "shEAN0Srmi0p"
   },
   "source": [
    "<a href=\"http://guessthecorrelation.com\">**Игра &mdash; отгадайте значение коэффициента корреляции Пирсона по выборке.**</a>"
   ]
  },
  {
   "cell_type": "code",
   "execution_count": 24,
   "metadata": {
    "id": "i436zKBfn-RZ"
   },
   "outputs": [],
   "source": []
  }
 ],
 "metadata": {
  "colab": {
   "name": "1.korreljaciivscipy.ipynb",
   "provenance": []
  },
  "kernelspec": {
   "display_name": "Python 3",
   "language": "python",
   "name": "python3"
  },
  "language_info": {
   "codemirror_mode": {
    "name": "ipython",
    "version": 3
   },
   "file_extension": ".py",
   "mimetype": "text/x-python",
   "name": "python",
   "nbconvert_exporter": "python",
   "pygments_lexer": "ipython3",
   "version": "3.8.5"
  },
  "widgets": {
   "application/vnd.jupyter.widget-state+json": {
    "15e95c0419394a4a853ca10e8420cbca": {
     "model_module": "@jupyter-widgets/controls",
     "model_name": "VBoxModel",
     "state": {
      "_dom_classes": [
       "widget-interact"
      ],
      "_model_module": "@jupyter-widgets/controls",
      "_model_module_version": "1.5.0",
      "_model_name": "VBoxModel",
      "_view_count": null,
      "_view_module": "@jupyter-widgets/controls",
      "_view_module_version": "1.5.0",
      "_view_name": "VBoxView",
      "box_style": "",
      "children": [
       "IPY_MODEL_604f53df5dac4214b7ba2fe21013e986",
       "IPY_MODEL_23287ce13eb44b7ab1b27739d20c1531"
      ],
      "layout": "IPY_MODEL_7e1dc04dd3904652b410a5f2b631eb5e"
     }
    },
    "1bbdc84cbf9b42e0baf04fa6a0a181a3": {
     "model_module": "@jupyter-widgets/output",
     "model_name": "OutputModel",
     "state": {
      "_dom_classes": [],
      "_model_module": "@jupyter-widgets/output",
      "_model_module_version": "1.0.0",
      "_model_name": "OutputModel",
      "_view_count": null,
      "_view_module": "@jupyter-widgets/output",
      "_view_module_version": "1.0.0",
      "_view_name": "OutputView",
      "layout": "IPY_MODEL_2de525a40f9a46a9bbc6d7568e9eefdb",
      "msg_id": "",
      "outputs": [
       {
        "image/png": "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\n",
        "metadata": {
         "needs_background": "light",
         "tags": []
        },
        "output_type": "display_data",
        "text/plain": "<Figure size 936x288 with 3 Axes>"
       }
      ]
     }
    },
    "23287ce13eb44b7ab1b27739d20c1531": {
     "model_module": "@jupyter-widgets/output",
     "model_name": "OutputModel",
     "state": {
      "_dom_classes": [],
      "_model_module": "@jupyter-widgets/output",
      "_model_module_version": "1.0.0",
      "_model_name": "OutputModel",
      "_view_count": null,
      "_view_module": "@jupyter-widgets/output",
      "_view_module_version": "1.0.0",
      "_view_name": "OutputView",
      "layout": "IPY_MODEL_d261d153465046efa91c56999154f3ac",
      "msg_id": "",
      "outputs": [
       {
        "image/png": "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\n",
        "metadata": {
         "needs_background": "light",
         "tags": []
        },
        "output_type": "display_data",
        "text/plain": "<Figure size 936x288 with 3 Axes>"
       }
      ]
     }
    },
    "2aa18b00024c4659b7775b1dd901d647": {
     "model_module": "@jupyter-widgets/controls",
     "model_name": "FloatSliderModel",
     "state": {
      "_dom_classes": [],
      "_model_module": "@jupyter-widgets/controls",
      "_model_module_version": "1.5.0",
      "_model_name": "FloatSliderModel",
      "_view_count": null,
      "_view_module": "@jupyter-widgets/controls",
      "_view_module_version": "1.5.0",
      "_view_name": "FloatSliderView",
      "continuous_update": true,
      "description": "Корреляция:",
      "description_tooltip": null,
      "disabled": false,
      "layout": "IPY_MODEL_b008590e260545ca87fb4eb6e067e9c0",
      "max": 1,
      "min": 0,
      "orientation": "horizontal",
      "readout": true,
      "readout_format": ".2f",
      "step": 0.1,
      "style": "IPY_MODEL_448c8e2f45ef4702ba0aa75368fbcd9e",
      "value": 0
     }
    },
    "2d81dfc32b1f438ab41aa7086a5e282a": {
     "model_module": "@jupyter-widgets/controls",
     "model_name": "VBoxModel",
     "state": {
      "_dom_classes": [
       "widget-interact"
      ],
      "_model_module": "@jupyter-widgets/controls",
      "_model_module_version": "1.5.0",
      "_model_name": "VBoxModel",
      "_view_count": null,
      "_view_module": "@jupyter-widgets/controls",
      "_view_module_version": "1.5.0",
      "_view_name": "VBoxView",
      "box_style": "",
      "children": [
       "IPY_MODEL_2aa18b00024c4659b7775b1dd901d647",
       "IPY_MODEL_7b08f2610593444ea827ee1cf770d290",
       "IPY_MODEL_83c4cae0254d48b9b31973a85c4986f7"
      ],
      "layout": "IPY_MODEL_934e72b007b64b2ba1b2fdd265eec560"
     }
    },
    "2de525a40f9a46a9bbc6d7568e9eefdb": {
     "model_module": "@jupyter-widgets/base",
     "model_name": "LayoutModel",
     "state": {
      "_model_module": "@jupyter-widgets/base",
      "_model_module_version": "1.2.0",
      "_model_name": "LayoutModel",
      "_view_count": null,
      "_view_module": "@jupyter-widgets/base",
      "_view_module_version": "1.2.0",
      "_view_name": "LayoutView",
      "align_content": null,
      "align_items": null,
      "align_self": null,
      "border": null,
      "bottom": null,
      "display": null,
      "flex": null,
      "flex_flow": null,
      "grid_area": null,
      "grid_auto_columns": null,
      "grid_auto_flow": null,
      "grid_auto_rows": null,
      "grid_column": null,
      "grid_gap": null,
      "grid_row": null,
      "grid_template_areas": null,
      "grid_template_columns": null,
      "grid_template_rows": null,
      "height": null,
      "justify_content": null,
      "justify_items": null,
      "left": null,
      "margin": null,
      "max_height": null,
      "max_width": null,
      "min_height": null,
      "min_width": null,
      "object_fit": null,
      "object_position": null,
      "order": null,
      "overflow": null,
      "overflow_x": null,
      "overflow_y": null,
      "padding": null,
      "right": null,
      "top": null,
      "visibility": null,
      "width": null
     }
    },
    "3570bdcf4f8849d4b212380a8919b89a": {
     "model_module": "@jupyter-widgets/base",
     "model_name": "LayoutModel",
     "state": {
      "_model_module": "@jupyter-widgets/base",
      "_model_module_version": "1.2.0",
      "_model_name": "LayoutModel",
      "_view_count": null,
      "_view_module": "@jupyter-widgets/base",
      "_view_module_version": "1.2.0",
      "_view_name": "LayoutView",
      "align_content": null,
      "align_items": null,
      "align_self": null,
      "border": null,
      "bottom": null,
      "display": null,
      "flex": null,
      "flex_flow": null,
      "grid_area": null,
      "grid_auto_columns": null,
      "grid_auto_flow": null,
      "grid_auto_rows": null,
      "grid_column": null,
      "grid_gap": null,
      "grid_row": null,
      "grid_template_areas": null,
      "grid_template_columns": null,
      "grid_template_rows": null,
      "height": null,
      "justify_content": null,
      "justify_items": null,
      "left": null,
      "margin": null,
      "max_height": null,
      "max_width": null,
      "min_height": null,
      "min_width": null,
      "object_fit": null,
      "object_position": null,
      "order": null,
      "overflow": null,
      "overflow_x": null,
      "overflow_y": null,
      "padding": null,
      "right": null,
      "top": null,
      "visibility": null,
      "width": null
     }
    },
    "4154da44314c44f1898f325f4f56ca50": {
     "model_module": "@jupyter-widgets/base",
     "model_name": "LayoutModel",
     "state": {
      "_model_module": "@jupyter-widgets/base",
      "_model_module_version": "1.2.0",
      "_model_name": "LayoutModel",
      "_view_count": null,
      "_view_module": "@jupyter-widgets/base",
      "_view_module_version": "1.2.0",
      "_view_name": "LayoutView",
      "align_content": null,
      "align_items": null,
      "align_self": null,
      "border": null,
      "bottom": null,
      "display": null,
      "flex": null,
      "flex_flow": null,
      "grid_area": null,
      "grid_auto_columns": null,
      "grid_auto_flow": null,
      "grid_auto_rows": null,
      "grid_column": null,
      "grid_gap": null,
      "grid_row": null,
      "grid_template_areas": null,
      "grid_template_columns": null,
      "grid_template_rows": null,
      "height": null,
      "justify_content": null,
      "justify_items": null,
      "left": null,
      "margin": null,
      "max_height": null,
      "max_width": null,
      "min_height": null,
      "min_width": null,
      "object_fit": null,
      "object_position": null,
      "order": null,
      "overflow": null,
      "overflow_x": null,
      "overflow_y": null,
      "padding": null,
      "right": null,
      "top": null,
      "visibility": null,
      "width": null
     }
    },
    "4170e79f78f0448e99f8c87f631d0e0b": {
     "model_module": "@jupyter-widgets/controls",
     "model_name": "VBoxModel",
     "state": {
      "_dom_classes": [
       "widget-interact"
      ],
      "_model_module": "@jupyter-widgets/controls",
      "_model_module_version": "1.5.0",
      "_model_name": "VBoxModel",
      "_view_count": null,
      "_view_module": "@jupyter-widgets/controls",
      "_view_module_version": "1.5.0",
      "_view_name": "VBoxView",
      "box_style": "",
      "children": [
       "IPY_MODEL_898cd2632f3a45fe93a0ed52a078078e",
       "IPY_MODEL_1bbdc84cbf9b42e0baf04fa6a0a181a3"
      ],
      "layout": "IPY_MODEL_4154da44314c44f1898f325f4f56ca50"
     }
    },
    "41aefd66176f4509bc17a4aafc4113ea": {
     "model_module": "@jupyter-widgets/base",
     "model_name": "LayoutModel",
     "state": {
      "_model_module": "@jupyter-widgets/base",
      "_model_module_version": "1.2.0",
      "_model_name": "LayoutModel",
      "_view_count": null,
      "_view_module": "@jupyter-widgets/base",
      "_view_module_version": "1.2.0",
      "_view_name": "LayoutView",
      "align_content": null,
      "align_items": null,
      "align_self": null,
      "border": null,
      "bottom": null,
      "display": null,
      "flex": null,
      "flex_flow": null,
      "grid_area": null,
      "grid_auto_columns": null,
      "grid_auto_flow": null,
      "grid_auto_rows": null,
      "grid_column": null,
      "grid_gap": null,
      "grid_row": null,
      "grid_template_areas": null,
      "grid_template_columns": null,
      "grid_template_rows": null,
      "height": null,
      "justify_content": null,
      "justify_items": null,
      "left": null,
      "margin": null,
      "max_height": null,
      "max_width": null,
      "min_height": null,
      "min_width": null,
      "object_fit": null,
      "object_position": null,
      "order": null,
      "overflow": null,
      "overflow_x": null,
      "overflow_y": null,
      "padding": null,
      "right": null,
      "top": null,
      "visibility": null,
      "width": null
     }
    },
    "448c8e2f45ef4702ba0aa75368fbcd9e": {
     "model_module": "@jupyter-widgets/controls",
     "model_name": "SliderStyleModel",
     "state": {
      "_model_module": "@jupyter-widgets/controls",
      "_model_module_version": "1.5.0",
      "_model_name": "SliderStyleModel",
      "_view_count": null,
      "_view_module": "@jupyter-widgets/base",
      "_view_module_version": "1.2.0",
      "_view_name": "StyleView",
      "description_width": "",
      "handle_color": null
     }
    },
    "4680a6e24d2d4cc48ebfbcf4aee7c702": {
     "model_module": "@jupyter-widgets/base",
     "model_name": "LayoutModel",
     "state": {
      "_model_module": "@jupyter-widgets/base",
      "_model_module_version": "1.2.0",
      "_model_name": "LayoutModel",
      "_view_count": null,
      "_view_module": "@jupyter-widgets/base",
      "_view_module_version": "1.2.0",
      "_view_name": "LayoutView",
      "align_content": null,
      "align_items": null,
      "align_self": null,
      "border": null,
      "bottom": null,
      "display": null,
      "flex": null,
      "flex_flow": null,
      "grid_area": null,
      "grid_auto_columns": null,
      "grid_auto_flow": null,
      "grid_auto_rows": null,
      "grid_column": null,
      "grid_gap": null,
      "grid_row": null,
      "grid_template_areas": null,
      "grid_template_columns": null,
      "grid_template_rows": null,
      "height": null,
      "justify_content": null,
      "justify_items": null,
      "left": null,
      "margin": null,
      "max_height": null,
      "max_width": null,
      "min_height": null,
      "min_width": null,
      "object_fit": null,
      "object_position": null,
      "order": null,
      "overflow": null,
      "overflow_x": null,
      "overflow_y": null,
      "padding": null,
      "right": null,
      "top": null,
      "visibility": null,
      "width": null
     }
    },
    "4d96c6d90365430a88493a40a2ce0d43": {
     "model_module": "@jupyter-widgets/base",
     "model_name": "LayoutModel",
     "state": {
      "_model_module": "@jupyter-widgets/base",
      "_model_module_version": "1.2.0",
      "_model_name": "LayoutModel",
      "_view_count": null,
      "_view_module": "@jupyter-widgets/base",
      "_view_module_version": "1.2.0",
      "_view_name": "LayoutView",
      "align_content": null,
      "align_items": null,
      "align_self": null,
      "border": null,
      "bottom": null,
      "display": null,
      "flex": null,
      "flex_flow": null,
      "grid_area": null,
      "grid_auto_columns": null,
      "grid_auto_flow": null,
      "grid_auto_rows": null,
      "grid_column": null,
      "grid_gap": null,
      "grid_row": null,
      "grid_template_areas": null,
      "grid_template_columns": null,
      "grid_template_rows": null,
      "height": null,
      "justify_content": null,
      "justify_items": null,
      "left": null,
      "margin": null,
      "max_height": null,
      "max_width": null,
      "min_height": null,
      "min_width": null,
      "object_fit": null,
      "object_position": null,
      "order": null,
      "overflow": null,
      "overflow_x": null,
      "overflow_y": null,
      "padding": null,
      "right": null,
      "top": null,
      "visibility": null,
      "width": null
     }
    },
    "5382aa8990ac4eb18a6899ac9401ff94": {
     "model_module": "@jupyter-widgets/controls",
     "model_name": "SliderStyleModel",
     "state": {
      "_model_module": "@jupyter-widgets/controls",
      "_model_module_version": "1.5.0",
      "_model_name": "SliderStyleModel",
      "_view_count": null,
      "_view_module": "@jupyter-widgets/base",
      "_view_module_version": "1.2.0",
      "_view_name": "StyleView",
      "description_width": "",
      "handle_color": null
     }
    },
    "604f53df5dac4214b7ba2fe21013e986": {
     "model_module": "@jupyter-widgets/controls",
     "model_name": "FloatSliderModel",
     "state": {
      "_dom_classes": [],
      "_model_module": "@jupyter-widgets/controls",
      "_model_module_version": "1.5.0",
      "_model_name": "FloatSliderModel",
      "_view_count": null,
      "_view_module": "@jupyter-widgets/controls",
      "_view_module_version": "1.5.0",
      "_view_name": "FloatSliderView",
      "continuous_update": true,
      "description": "scale",
      "description_tooltip": null,
      "disabled": false,
      "layout": "IPY_MODEL_a80923d66db84f1ea7de7cf4f66c4097",
      "max": 3,
      "min": 0,
      "orientation": "horizontal",
      "readout": true,
      "readout_format": ".2f",
      "step": 0.1,
      "style": "IPY_MODEL_9ca2cc6f04f44305a607583125aab9fd",
      "value": 0
     }
    },
    "688a6672386148b8a0312c213e65b036": {
     "model_module": "@jupyter-widgets/output",
     "model_name": "OutputModel",
     "state": {
      "_dom_classes": [],
      "_model_module": "@jupyter-widgets/output",
      "_model_module_version": "1.0.0",
      "_model_name": "OutputModel",
      "_view_count": null,
      "_view_module": "@jupyter-widgets/output",
      "_view_module_version": "1.0.0",
      "_view_name": "OutputView",
      "layout": "IPY_MODEL_b609bb99ef574749bbaecd45e2726ec0",
      "msg_id": "",
      "outputs": [
       {
        "image/png": "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\n",
        "metadata": {
         "needs_background": "light",
         "tags": []
        },
        "output_type": "display_data",
        "text/plain": "<Figure size 936x288 with 3 Axes>"
       }
      ]
     }
    },
    "6d4d8638f7fa4abf880369bd298d982f": {
     "model_module": "@jupyter-widgets/output",
     "model_name": "OutputModel",
     "state": {
      "_dom_classes": [],
      "_model_module": "@jupyter-widgets/output",
      "_model_module_version": "1.0.0",
      "_model_name": "OutputModel",
      "_view_count": null,
      "_view_module": "@jupyter-widgets/output",
      "_view_module_version": "1.0.0",
      "_view_name": "OutputView",
      "layout": "IPY_MODEL_4680a6e24d2d4cc48ebfbcf4aee7c702",
      "msg_id": "",
      "outputs": [
       {
        "image/png": "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\n",
        "metadata": {
         "needs_background": "light",
         "tags": []
        },
        "output_type": "display_data",
        "text/plain": "<Figure size 936x288 with 3 Axes>"
       }
      ]
     }
    },
    "7b08f2610593444ea827ee1cf770d290": {
     "model_module": "@jupyter-widgets/controls",
     "model_name": "DropdownModel",
     "state": {
      "_dom_classes": [],
      "_model_module": "@jupyter-widgets/controls",
      "_model_module_version": "1.5.0",
      "_model_name": "DropdownModel",
      "_options_labels": [
       "20",
       "100",
       "500"
      ],
      "_view_count": null,
      "_view_module": "@jupyter-widgets/controls",
      "_view_module_version": "1.5.0",
      "_view_name": "DropdownView",
      "description": "Размер выборки:",
      "description_tooltip": null,
      "disabled": false,
      "index": 1,
      "layout": "IPY_MODEL_7eb82da46bc541bc9f5bdc4a46208f0f",
      "style": "IPY_MODEL_8003d28e9b594fbe80bfcd4fdc041eb3"
     }
    },
    "7d2de77a5edd4113a813717e946460ec": {
     "model_module": "@jupyter-widgets/controls",
     "model_name": "FloatSliderModel",
     "state": {
      "_dom_classes": [],
      "_model_module": "@jupyter-widgets/controls",
      "_model_module_version": "1.5.0",
      "_model_name": "FloatSliderModel",
      "_view_count": null,
      "_view_module": "@jupyter-widgets/controls",
      "_view_module_version": "1.5.0",
      "_view_name": "FloatSliderView",
      "continuous_update": true,
      "description": "radius_scale",
      "description_tooltip": null,
      "disabled": false,
      "layout": "IPY_MODEL_41aefd66176f4509bc17a4aafc4113ea",
      "max": 0.6,
      "min": 0,
      "orientation": "horizontal",
      "readout": true,
      "readout_format": ".2f",
      "step": 0.1,
      "style": "IPY_MODEL_5382aa8990ac4eb18a6899ac9401ff94",
      "value": 0.4
     }
    },
    "7e1dc04dd3904652b410a5f2b631eb5e": {
     "model_module": "@jupyter-widgets/base",
     "model_name": "LayoutModel",
     "state": {
      "_model_module": "@jupyter-widgets/base",
      "_model_module_version": "1.2.0",
      "_model_name": "LayoutModel",
      "_view_count": null,
      "_view_module": "@jupyter-widgets/base",
      "_view_module_version": "1.2.0",
      "_view_name": "LayoutView",
      "align_content": null,
      "align_items": null,
      "align_self": null,
      "border": null,
      "bottom": null,
      "display": null,
      "flex": null,
      "flex_flow": null,
      "grid_area": null,
      "grid_auto_columns": null,
      "grid_auto_flow": null,
      "grid_auto_rows": null,
      "grid_column": null,
      "grid_gap": null,
      "grid_row": null,
      "grid_template_areas": null,
      "grid_template_columns": null,
      "grid_template_rows": null,
      "height": null,
      "justify_content": null,
      "justify_items": null,
      "left": null,
      "margin": null,
      "max_height": null,
      "max_width": null,
      "min_height": null,
      "min_width": null,
      "object_fit": null,
      "object_position": null,
      "order": null,
      "overflow": null,
      "overflow_x": null,
      "overflow_y": null,
      "padding": null,
      "right": null,
      "top": null,
      "visibility": null,
      "width": null
     }
    },
    "7eb82da46bc541bc9f5bdc4a46208f0f": {
     "model_module": "@jupyter-widgets/base",
     "model_name": "LayoutModel",
     "state": {
      "_model_module": "@jupyter-widgets/base",
      "_model_module_version": "1.2.0",
      "_model_name": "LayoutModel",
      "_view_count": null,
      "_view_module": "@jupyter-widgets/base",
      "_view_module_version": "1.2.0",
      "_view_name": "LayoutView",
      "align_content": null,
      "align_items": null,
      "align_self": null,
      "border": null,
      "bottom": null,
      "display": null,
      "flex": null,
      "flex_flow": null,
      "grid_area": null,
      "grid_auto_columns": null,
      "grid_auto_flow": null,
      "grid_auto_rows": null,
      "grid_column": null,
      "grid_gap": null,
      "grid_row": null,
      "grid_template_areas": null,
      "grid_template_columns": null,
      "grid_template_rows": null,
      "height": null,
      "justify_content": null,
      "justify_items": null,
      "left": null,
      "margin": null,
      "max_height": null,
      "max_width": null,
      "min_height": null,
      "min_width": null,
      "object_fit": null,
      "object_position": null,
      "order": null,
      "overflow": null,
      "overflow_x": null,
      "overflow_y": null,
      "padding": null,
      "right": null,
      "top": null,
      "visibility": null,
      "width": null
     }
    },
    "8003d28e9b594fbe80bfcd4fdc041eb3": {
     "model_module": "@jupyter-widgets/controls",
     "model_name": "DescriptionStyleModel",
     "state": {
      "_model_module": "@jupyter-widgets/controls",
      "_model_module_version": "1.5.0",
      "_model_name": "DescriptionStyleModel",
      "_view_count": null,
      "_view_module": "@jupyter-widgets/base",
      "_view_module_version": "1.2.0",
      "_view_name": "StyleView",
      "description_width": ""
     }
    },
    "83c4cae0254d48b9b31973a85c4986f7": {
     "model_module": "@jupyter-widgets/output",
     "model_name": "OutputModel",
     "state": {
      "_dom_classes": [],
      "_model_module": "@jupyter-widgets/output",
      "_model_module_version": "1.0.0",
      "_model_name": "OutputModel",
      "_view_count": null,
      "_view_module": "@jupyter-widgets/output",
      "_view_module_version": "1.0.0",
      "_view_name": "OutputView",
      "layout": "IPY_MODEL_4d96c6d90365430a88493a40a2ce0d43",
      "msg_id": "",
      "outputs": [
       {
        "metadata": {
         "tags": []
        },
        "output_type": "stream",
        "stream": "stdout",
        "text": "Истинная корреляция: 0.0\n"
       },
       {
        "image/png": "iVBORw0KGgoAAAANSUhEUgAAAvkAAAEVCAYAAAB60vocAAAABHNCSVQICAgIfAhkiAAAAAlwSFlzAAALEgAACxIB0t1+/AAAADh0RVh0U29mdHdhcmUAbWF0cGxvdGxpYiB2ZXJzaW9uMy4yLjIsIGh0dHA6Ly9tYXRwbG90bGliLm9yZy+WH4yJAAAgAElEQVR4nO3deZxcZZn3/883naVDAiEb0BJiwjJm2JGWyDA/EQGNCMFx2HTIAANGUUYUYYCBQWQGweVxmZFBIiAQl4D4KBGQsMdHBzKEGQgQgsYEQmI0ISFAls56/f44p5pKpXqvqlPL9/169aurTt3n1FXVdaqvuuu671sRgZmZmZmZ1Y9+WQdgZmZmZmal5STfzMzMzKzOOMk3MzMzM6szTvLNzMzMzOqMk3wzMzMzszrjJL/BSRooades4zAzMzOz0nGS32Ak7Sbpq5LmS3oT2AjMzjouMzMzMysdJ/lVRtLZkiLvZ6ukZZLukvSuPh57b+Bp4FTgW8BxwHuAE/seuZnBdufwvgXbmyT9LD2nz8gqPjOz3pJ0tSQvsFQj+mcdgHXoVGAp0ATsA/wL8IikAyLijV4ecxqwDjgqIlaVJkwz64okAbcBfwOcFxEzso3IzMzqnZP86vVMRCxML/9W0h+Bh4C/An7V04Ol3wIcC3zYCb5Zxf0ncCbwuYi4NetgzMys/rlcp3a8mf4eAG9/ZSap6Ac1Se9Pb39/uunA9Pd4Sc9KWi9puaTvStqlYN9d0u1/lLRR0kuSvpD2RhYe/28l3SbpdUlvSvqRpJEFxwtJZ+dd3zc99i8l5R7P2YVfAUoaLmlluv+4Hj5fZlVB0teBTwP/HBH/UXBbi6Q7JL2WnmvzJJ1Z0CZX/vM+Sb+QtFbSKkk3SBqc125c2u4zkr4paUV6nt9b7PyRNDV9L2hL7/8WSSOKtMu91xT+XF3Q7ouSXkzvM7/dcXltXpb0wyL38bik3xRse7nIffxLeszbCp+fgnZ+77C6knceHiTpsbz/4ddI6jCXk3SfpP8psr1F0hZJX0ivj5Z0k6Tfpcd+VdKPJe3ZRVy5952zC7YX5iC57R+T9GR6H2sk/VTS2J48F9Z9TvKrV5Ok/pIGSfpL4CvACuDxXh5vaPr7P4H/R1I28DXgbOC+3JtE+vs+4Bzg/wAnAQ8A3wSuLXLcbwMBfBy4ApgM3N1REJLeCTwCvACcEhGbO4n5WmB4tx6dWRWSdBVwMfDdiLiu4LYhJIPePwz8M/BR4DlguqSpRQ73Q2Ah8DGSMTWfBG4s0u5yYD+Sc/izwOHAg7kP1Ol9Xw/cADxMcs5eAkwCfiWpqYOHc2TeT+Hj/DvgG8CjwEfSNp/t4Di9kr53XA5s7UZzv3dYvfoFyXn7UeDHJKW8V3XSfjpwmKT9C7Z/Iv394/T3CKCN5BybRPKesB9JJUFzKQKX9GngZ8B84BTgUyQdkLMl7VyK+7DtuVynei0ouP5H4MSIeLNY427I9cLfHhEXpJdnSVpJ8iZwIjATOAH4a+CciLgtbfdgmpB8UdI3I+K1vOO+EBHnpJcfkLQa+KGkYyPike0CkN5BkuC/ApwcERs7DFZ6N8kbwHeBz/XuIZtl6gvAZ0hmsHqPpH4RsS3v9nNI/okeExGPp9t+JWl34N8k3RIR+Qnt/RFxcXr5wbT3+hpJX4mI3+W1e4vk/NoGIOl3wG+AvwduSXu2LwG+HBHX5HbKa3cSSSKRMxDYGhFP5rUtfKxHAm9GxGfz2pQkMcjzbZL3xbWdNfJ7h9W570fE9enlB5V8E/9FSd+OiDVF2t9DUgkwhSSBz5kCPBgRfwaIiJeAC3M3ph/2fwssIemI+HlfgpY0FPgq8IOI+Ie87f8NvAScS3KOWwm5J796/Q3JzDdHkHxinw/cn/bq52tSByU7HSj8qnwGsAU4Or3+PmAbb3+6z99vIDv24t1VcP2n6f6F7UaT9D7sRdKDv76jAJVkEDcAD9LHNxazDH0G+AFwMjCRJOnP9z5gWV6Cn/NDkvOlsOet8FybQfIefkTB9rvzP0xExG9JBvHnzsnj0/1+lH5b2D99D5lD8gHhfQXHG0zSw9eZRcAukv5B0tD0eB19I9BjkiaRPI+fIXl/6aid3zus3hV7HxgKHJh/Pqc/iogNJN+u/116fiDpIOAQkg6+dpLOV1LCt5YkL1iS3tSnmf1SRwK7sOP7zqskH94L33esBJzkV6/nI2JuRDwVEfeQfKUu4OqCdm3AZiV1tc9LOq+D4+XKYpbnb4yILcAqkq/qSH+vjohNBfv/Ke/2fH8uON4m4HWgsI7v39IY1gOXdhBjzjnAYbgXzmrbXcAnI2IWSbL/r9p+Ws0RFJyPqW6da3nXC8+1wna5bbl2u6W/F5Kck/k/OwMjC/YdSfIe0Zn/BG4nKR96Kz3Ww13s0y2SBgH/AdyW/21CB/zeYfWus/eBwvM513k3naSD7f3p9Skk52n7N3aS/pHkPH6YpCTwCOC96c2l+FYu977zcJE4D2LH9x0rAZfr1IiI2CBpEXBwwU3vJalRHUpSX/99SS+TfArPl0sc9iCphwcg/SQ9ElidbloNjJA0sCDR3yPv9ny751+RNJCkFnZZQbuFJLP7nAD8QNIvIuL/FT5OJavvXg98IyJ+39WgH7MqdkVeuc1FJHWuN0s6JiKC5Fwq1kPW2bn2QsF12PFc250d7Q48k17OJewfJPlAXqgwod8P+EORdu0iok3SucAEkvKkL5KMBfheZ/t108XAKLroHPB7hzWI3Um+Ocu/Dsn7wHsK2r6U/p5N0it/pqTZJPX4d6e9/DlnAI9ExBdzGySN70Y8uW/5BhZsL0zac+8rZ7P9+1jOW924L+sh9+TXCEk7kcyXv7LgpqfTHv/Hebv36t1FDvHfJL3ohYvwnE7yYe/x9PpsktfFqQXt/g7YBDxRsP20guunpvsXtvt6RLwWEXcAvwRuS2v0Cv1bGudXitxmVpPSWtnzSXrWPp1ung2MkXRUQfNPkAyyn1+wvfBcO4OkdGVOwfZT8mfbSI8/hrfPyYfS/cam7x2FP4vz9n0HyfvJr7vxMC8FDgDOjoi5vJ1g9MVYkkHJV0ZE4XtfIb93WCMo9j6wFniuyLn8FkDaqfBDksGuJ5D0+k8vOM5OvP2Nf845dO3PJB/sDyzY/pGC6/9Fksjv28H7TineL6yAe/Kr16GSRpGU6LQAF5B8ff8fBe3eJSnXk39Wum1u4cEi4i1JXwW+LGkdcD/wlyT/GH9DMqMOJHPw/wb4nqTRJJ+4TwDOA64rGHQLcICkH5DUBf4FyawWjxcOui0wNT3u/yEZIJfv08CpndXsm9WiiLhH0gzgq5LuJVkc60Lg/0q6gqRu/u9IauY/VTDoFuAEJdNxPkjyVfqXgDsi4vcF7XYGfiHpJpLa/uuA3wN3pHH8IX0v+K6S9TNmk/TG7ZXe980R8ZikU0lm7dgAfL+zxybpkDSeC/I/JHRgF0kTCrbtRDK+aJ+IyP/W4O+BeRSfRaiQ3zusEXwy/RD/FPAhkv/NV3djkczpJB+Yv0fSq/94we0PAJdK+meSTsEPkHwo6FREhKQ7gXPTwfsvkST47y9o96akS4Ab0tziV8AbJB84jibJGwrHAlofOcmvXj/Nu7wSeB6YlNb35ns+/b2OpCTmHyLi0cK5aQEi4hpJb5IMXvsM8BpJovHPuYF6EbFN0kdIesMuJfnK7WWScoNiI98vJBkvcCfJQLtf0kU9bESsSKfSujst28lf3OvhiPCAOatXnwOOA6ZFxIclHU0yle31JMn5S8CUiNhhLnmSxbS+SPKNwCaSxPviIu2uA/YlObeHAI+RJN/tvXQR8c+SXiSZ5vKzJNPgvkoy+1XuQ8OVwO+A0yOisCSoXVqidwfJV/2dfhhInZT+FPMIMC7vej/gswWzEnXE7x3WCE4m6ez7F5Ik+d+Af+1qp4hYIGku0ErSYRcFTa4BdiWZIKCZ5MP/h9i+NKgjF5Kcq1env+8C/hG4tyCGmyS9SjK71ydIctBlJNN6P4OVnHb8O5t1Lf0Q8RhwfESUZICdme1IySIzPwD2y1sFu1i7ccBiksG+N1ckuBKS9NfADyNiXNaxmFUbJQvDfQkYkE6YYdYl1+SbmVk1WE8XA3zNzKz7nOSbNThJt0paIen5Dm6XpH+XtFDSvHSxodxtZ0n6ffpzVrH9zbojIv4nIo7NOg5L9OV9wcyqg8t1zBqcpPeRzM5wR0QUzpCApBNI6itPIFnU6TsRMVHSCJJB3q0kNd1PA4dHRLFpGc2shvT2faGyUZpZZ9yTb9bgIuLX7Dgne76TSf7RR7oY0a6SWkgGZT0UEavTxP4hkrngzazG9eF9wcyqRCaz64waNSrGjRuXxV2b1aWnn376tYgYXabD70ky80rO0nRbR9t3IGkqydSpDBky5PAJEwpnUDSz3irz+d+Rjs7/HVZx9vlvVj6dnf99TvIlNZMslDIoPd7dEfGlzvYZN24cc+fuMJW7mfWSpFeyjqEzETENmAbQ2toaPv/NSsfnv1nj6uz8L0W5zkbgAxFxCHAoMEnSe0twXDOrDstIFkrKGZNu62i7mdU/n/9mVa7PPfnpggpr06sD0h+P5jWrHzOBC9LVWicCb0TEckmzgK9IGp62+yBweVZBmllFFX1fyDimuqdpT2cdQsnF1MOzDqFulaQmX1ITycwa+wI3RMScIm3aa/LGjh1birs1sxKQ9BOSJchHSVpKuuAKQER8D7ifZAaNhSRzmZ+T3rZa0r+SLK8OcE1EdDZQz8xqRG/fF8ysepQkyY+IrcChknYFfi7pwIh4vqDNdjV5pbhfq4y1W9uYvmoOC9qWM6G5hSkjJzK0qTnrsKxEIuLjXdwewGc7uO1W4NZyxGVm2enL+4KZVYeSTqEZEWuAx/A0enVl+qo5zFm3mJ36DWLOusVMX7XDFzVmZmZmVkX6nORLGp324CNpMHA8sKCvx7XqsaBtOS0DhjGoX39aBgxjQZvLLs3MzMyqWSnKdVqA29O6/H7AXRFxbwmOa1ViQnMLc9YtpmXAMJZvfoOJQ8ZnHZKZmZk1MA9C7lopZteZBxxWglisSk0ZmaxUvqBtOROHjG+/bmZmZmbVKZMVb622DG1q5vzdjs46DDMzMzPrppIOvDUzMzMzs+w5yTczMzMzqzNO8s3MzMzM6oyTfDMzMzOzOuMk38zMzMyszjjJNzMzMzOrM07yzczMzMzqjJN8MzMzM7M64yTfzMzMzKzOOMk3MzMzM6szTvLNzMzMzOqMk3wzMzMzszrjJN/MzMzMrM44yTczMzMzqzNO8s0anKRJkl6StFDSZUVu/5akZ9Kf30lak3fb1rzbZlY2cjMzM+tI/6wDMLPsSGoCbgCOB5YCT0maGRHzc20i4gt57f8ROCzvEBsi4tBKxWtmZmbd4558s8Z2BLAwIhZFxCZgBnByJ+0/DvykIpGZmZlZrznJN2tsewKv5l1fmm7bgaR3AuOBR/M2N0uaK+lJSR/t6E4kTU3bzV25cmUp4jYzM7NOOMk3s+46A7g7IrbmbXtnRLQCnwC+LWmfYjtGxLSIaI2I1tGjR1ciVjMzs4bmJN+ssS0D9sq7PibdVswZFJTqRMSy9Pci4HG2r9c3MzOzjDjJN2tsTwH7SRovaSBJIr/DLDmSJgDDgSfytg2XNCi9PAo4CphfuK+ZmZlVnmfXMWtgEbFF0gXALKAJuDUiXpB0DTA3InIJ/xnAjIiIvN3/ErhJ0jaSDoPr82flMTMzs+w4yS+TtVvbmL5qDgvaljOhuYUpIycytKk567DMdhAR9wP3F2y7quD61UX2+y/goLIGZ2ZmZr3icp0ymb5qDnPWLWanfoOYs24x01fNyTokMzMzM2sQTvLLZEHbcloGDGNQv/60DBjGgrblWYdkZmZmZg3CSX6ZTGhuYfnmN9i4bQvLN7/BhOaWrEMyMzMzswbhmvwymTJyIpD06E8cMr79upmZmZlZuTnJL5OhTc2cv9vRWYdhZmZmZg3I5TpmZmZmZnWmz0m+pL0kPSZpvqQXJF1YisDMzMwsO5ImSXpJ0kJJlxW5fWz6//9/Jc2TdEIWcZpZcaXoyd8CfDEi9gfeC3xW0v4lOK6ZmZllQFITcAPwYWB/4ONF/rdfCdwVEYeRLJj3n5WN0sw60+ckPyKWR8T/pJffAl4E9uzrcc3MzCwzRwALI2JRRGwCZgAnF7QJYJf08jDgjxWMz8y6UNKafEnjgMOAHVZ+kjRV0lxJc1euXFnKuzUzM7PS2hN4Ne/6UnbswLsaOFPSUpJVs/+x2IH8/98sGyVL8iUNBX4GfD4i3iy8PSKmRURrRLSOHj26VHdrZmZm2fg4cFtEjAFOAKZL2iGv8P9/s2yUZApNSQNIEvwfRcT/LcUxbUdrt7YxfdUcFrQtZ0JzC1NGTmRoU3PWYZmZWf1ZBuyVd31Mui3fucAkgIh4QlIzMApYUZEIzaxTpZhdR8AtwIsR8c2+h2Qdmb5qDnPWLWanfoOYs24x01ftUBVlZmZWCk8B+0kaL2kgycDamQVtlgDHAkj6S6AZcD2OWZUoRbnOUcAU4AOSnkl/PI1WGSxoW07LgGEM6teflgHDWNC2POuQzMysDkXEFuACYBbJhBp3RcQLkq6RNDlt9kXgk5KeBX4CnB0RkU3EZlaoz+U6EfEbQCWIxbowobmFOesW0zJgGMs3v8HEIeOzDsnMzOpURNxPMqA2f9tVeZfnk3T0mVkVKklNvlXGlJETgaRHf+KQ8e3Xa53HGpiZmZmVlpP8GjK0qZnzdzs66zBKLjfWoGXAMOasWwxQl4/TzMzMrFJKOk++WW94rIGZmZlZaTnJt8xNaG5h+eY32LhtC8s3v8GE5pasQ2ookiZJeknSQkmXFbn9bEkr8wbWn5d321mSfp/+nFXZyM3MzKwjLtepI7Va216vYw1qgaQm4AbgeJIVLZ+SNDMdUJfvzoi4oGDfEcCXgFaS5e2fTvd9vQKhm5mZWSec5NeRWq1tr9exBjXiCGBhRCwCkDQDOBkoTPKL+RDwUESsTvd9iGRhnJ+UKVYza0Ca9nTWIZRFTD086xCszjnJryOubX9brX6rkYE9gVfzri8Fin2V8reS3gf8DvhCRLzawb57FrsTSVOBqQBjx44tQdhmZmbWGdfkl9HarW3cuGI2Fy6ZwY0rZrN2a1tZ78+17W/z6sAl9UtgXEQcDDwE3N7TA0TEtIhojYjW0aNHlzxAMzMz256T/DKqdKI5ZeREJg4Zz/ptGxu+tt3fanTbMmCvvOtj0m3tImJVRGxMr94MHN7dfc3MzCwbLtcpo0onmq5tf5tXB+62p4D9JI0nSdDPAD6R30BSS0TkXryTSZa4h2S5+69IGp5e/yBweflDNjMzs644yS+jrBPNRq5L94w93RMRWyRdQJKwNwG3RsQLkq4B5kbETOBzkiYDW4DVwNnpvqsl/SvJBwWAa3KDcM3MzCxbTvLLKOtEM1cuNLJpCLeveoK7Xp/LacNbGyLZ97ca3RcR9wP3F2y7Ku/y5XTQQx8RtwK3ljVAMzMz6zEn+WWUdaKZKxeat2Ep67ZuZEtsrampNc3MzMysdzzwto7lZtv58+Y3Adh9wC4ehGpmZmbWANyTX8dy5UGvbHqN/mpiwqA9PAjVzMzMrAE4ya9juXKhKSMntg/A7c3YgEYewGtmZmZWi5zkN4C+jg3IDeBtGTDMNf1mZmZmNcBJfjeUsie7FnvFvbCUmZmZWW3xwNtuKOXKtZVeBbcUcgN4N27bwvLNbzChuSXrkMzMzMysE+7J74ZS9mTXYq941vP9m5mZmVnPOMnvhlKuXJv1KrjFdFVClPV8/2ZmZmbWM07yu6GUPdnV2CteqYG1tTgewczMzKwWOcnvQLkS0mrsFa9UCZFn6TEzMzOrDA+87UAtDpDtrUoNrK3F8QhmZmZmtchJfgcaKSGdMnIiE4eMZ/22jWUtIfIsPWZmZmaV4XKdDlTjANlyqVQJUTWORzAzMzOrR07yO+CEtPSqcTyCmZmZWT1ykt8BJ6RmZmZmVqtck29mZmZmVmec5JuZmZmZ1ZmSJPmSbpW0QtLzpTieNaa1W9u4ccVsLlwygxtXzGbt1rasQ2oIkiZJeknSQkmXFbn9IknzJc2T9Iikd+bdtlXSM+nPzMpGbmZmZh0pVU/+bcCkEh3LGlQjrU1QLSQ1ATcAHwb2Bz4uaf+CZv8LtEbEwcDdwNfybtsQEYemP5MrErSZmZl1qSQDbyPi15LGleJYVlrlWrm3HBppbYIqcgSwMCIWAUiaAZwMzM81iIjH8to/CZxZ0QjNzMysxypWky9pqqS5kuauXLmyUnfb8LLqHe9N6Y0Xy8rEnsCredeXpts6ci7wq7zrzel5/aSkj3a0k89/MzOzyqpYkh8R0yKiNSJaR48eXam7bXhZ9Y735sNFpVbetd6RdCbQCnw9b/M7I6IV+ATwbUn7FNvX579Z7elqvE7a5rR0zM4Lkn5c6RjNrGOeJ7/OZbVyb28+XHhtgkwsA/bKuz4m3bYdSccBVwBHR8TG3PaIWJb+XiTpceAw4A/lDNjMyi9vvM7xJN/wPSVpZkTMz2uzH3A5cFREvC5pt2yiNbNiPIVmncuqd9ylNzXjKWA/SeMlDQTOALabJUfSYcBNwOSIWJG3fbikQenlUcBR5NXym1lNax+vExGbgNx4nXyfBG6IiNcB8t8fzCx7JenJl/QT4P3AKElLgS9FxC2lOLZ1X0eDbHvaO16Kwbq5DxPzNrzKxm2bmbdhKTeumF3VA38bUURskXQBMAtoAm6NiBckXQPMjYiZJOU5Q4GfSgJYks6k85fATZK2kXQYXJ/fy2dmNa3YeJ3CXqK/AJD0W5L3j6sj4oHCA0maCkwFGDt2bFmCNbMdlWp2nY+X4jjWN7k6+JYBw5izbjFAr8pf+nKcwg8If9G8B8+uX8quTTv1KSYrn4i4H7i/YNtVeZeP62C//wIOKm90ZlbF+gP7kXTyjQF+LemgiFiT3ygipgHTAFpbW6PSQZo1Ktfkl1DW01WWapBtX45T+AHhlU2reO+QvT0tpplZbenOeJ2lwJyI2AwslvQ7kqT/qcqEaGadcU1+CWW9mFOp6uD7cpzCDwgQrs03M6s9XY7XAX5B0oufG5fzF8CiSgZpZh1zT34JZb2YU64OfkHb8j4Nsu3qOJ19Y1E4m8/kYYfS3G9An2MyM7PK6eZ4nVnAByXNB7YCl0TEquyiNrN8TvJLKKvpKnNKNQVlV8fprGa/2AcED7Q1M6s93RivE8BF6Y+ZVRkn+SVUqp70atfZNxae697MzMwse07yS6haE9yuBgT3dMBw1t9YNIqsB3KbmZlZ7XKS3wC6mhKzp1Nm9uYbCyesPVeqKVHNzMys8TjJbwBdDQju6YDh3nxj4YS157IeyG1mZma1y1No1pi1W9u4ccVsLlwygxtXzGbt1rYu9+lqSsxSTb3ZGSesPVeJv4uZmZnVJ/fk15je9Ih3VV5TjgHDheU54waN4tn1S7er43cJT+caZSC3mZmZlZ6T/BrTmx7xrspryjFguPDDyCGDxzBxyPjtElaX8HSuWgdym5mZWfVzkl9jamVmm8IPIy9veo3vjD2j0zYu4TEzMzMrDdfk15gpIycycch41m/bWJESjt6MAYDu1ZO75tzMzMysPNyTX2MqXcLx/dd+w52r57IltjJn3cu0xWa+sPtxXe7XnXpy15ybmZmZlYeTfOvUzDXPsm7rRob1H8wbWzYwc82z3Uryu/NhxDXnZmZmZuXhch3rQnRx3czMzMyqjZP8Eult7Xq1mzzsUIY0DaJt22aGNA1i8rBDsw7JzMzMzLrgcp0SqdfpID85+q9p7jdgu7nszczMzKy6OckvkXqdDtJ1841B0iTgO0ATcHNEXF9w+yDgDuBwYBVwekS8nN52OXAusBX4XETMqmDoZmZmVoTLdUrE00FarZLUBNwAfBjYH/i4pP0Lmp0LvB4R+wLfAr6a7rs/cAZwADAJ+M/0eGZmZpYh9+SXiKeDtBp2BLAwIhYBSJoBnAzMz2tzMnB1evlu4LuSlG6fEREbgcWSFqbHe6KjO1u1ahW33XZbqR+DmZmZ5XGSXyIua7Eatifwat71pUDhp9T2NhGxRdIbwMh0+5MF++5ZeAeSpgJTAUaOHNnjAM95/OUe71MLfvD+cVmHYGZmdcpJfobWbm1j+qo52w1qHdrUnHVY3VLLsZeLn5OORcQ0YBpAa2trnH322T3a/5xNT5chquydffbhWYdgdeCcc87JOgQzq0Kuyc9QbkaenfoNYs66xUxfNSfrkLqtWmKvpqlLq+U56YVlwF5518ek24q2kdQfGEYyALc7+5qZmVmFOcnPUC3PyJN17Lnk/qSFN3D7qifoT1PmiXXWz0kfPAXsJ2m8pIEkA2lnFrSZCZyVXj4FeDQiIt1+hqRBksYD+wH/XaG4zczMrAMu1+lEucsvJjS3tM+tv3zzG0wcMr5kxy6Fzh5/1rHnes3f2trGxm1bWLDxTxw8eEymiXXWz0lvpTX2FwCzSKbQvDUiXpB0DTA3ImYCtwDT04G1q0k+CJC2u4tkkO4W4LMRsbXkMU51WYuZmVlPOMnvRLkXuKr2GXk6e/z5sR8yeAxtsZkLl8yoWC16rtd85Za3WLJxNX/e/CbL+2ebWFf737MzEXE/cH/BtqvyLrcBp3aw77XAtWUN0MzMzHrESX4nyl1+Ue0z8nT2+PNjv3HF7Iqv9pvrNZ8waA9WbVnH4H79M0+sq/3vaWZmZo3DSX4narX8olS6+/izqEXP7zU/a+SRnsnGzMzMLE9JBt5KmiTpJUkLJV1WimNWgykjJzJxyHjWb9vYaS9xNc3wUkrdffxZrPab6zX/ztgzOH+3o2sqwa/X10s1+s1vfsNf/dVfMXjwYPbYYw8uuugiNmzY0K19X331VU455RSGDRvGLrvswsc+9jGWLFmyXZunn36aSZMmseeee9Lc3Mwee+zBCSecwBNPdLgWWEV15zF0pK2tjUsuuYSWlhYGDx7MkUceya9//esd2m3bto3rrruOcePG0dzczCGHHMLPfvazUj+Ukin3awLg9ddf52G/YZQAACAASURBVLzzzmPUqFEMGTKE4447jueee67UD8XMrFN97slPl7C/ATieZCGcpyTNjIj5ne9Z/bpbflHu2v2eKOVg4e4+/lquRc9CNb1e6tm8efM4/vjj+dCHPsS9997L4sWLueSSS1i2bBl33nlnp/uuX7+eD3zgAwwaNIjbb78dSVx55ZUcc8wxzJs3jyFDhgCwZs0a9t13X84++2xaWlpYsWIF3/rWtzj66KP5zW9+wxFHHFGJh9qnx9CRc889l/vuu4+vf/3r7L333txwww186EMf4oknnuDQQw9tb/cv//IvfOMb3+Daa6/l8MMPZ8aMGZx66qnce++9nHDCCeV+mD1SiddERHDSSSfx8ssv8x//8R8MHz6c6667jmOOOYZnnnmGMWPGVOKhmpmVpFznCGBhRCwCkDSDZKn7mk/yu6uapk7MIoFslFr0Un2AqqbXSz370pe+xJgxY/jpT3/KgAEDABg4cCBnnXUWl156Ke9+97s73Pf73/8+ixYt4qWXXmLfffcF4OCDD2a//fbjpptu4qKLLgLg2GOP5dhjj91u30mTJjFq1CimT5+eaZLf3cdQzLPPPsuPf/xjbr311vaFlo4++mgOOOAArrrqKmbOTGZYXbFiBd/4xje47LLLuPjiiwE45phjWLhwIZdddlnVJfmVeE3MnDmT3/72tzz66KMcc8wxABx55JGMHz+er33ta/z7v/97mR+lmVmiFOU67cvdpzpc1l7SXElzV65cWYK7rZ6yhyzKVTqSZQJZLX+PcinVYlfV9HqpV5s3b+aBBx7gtNNOa0/mAE477TQGDhzIPffc0+n+M2fO5L3vfW97Mgcwfvx4jjrqqC73HTJkCIMGDaJ//2yHPPXlMcycOZMBAwZw+umnt2/r378/Z5xxBrNmzWLjxo0AzJo1i02bNnHmmWdut/+ZZ57Jc889x+LFi0v4iPqmUq+JmTNn8o53vKM9wQcYNmwYJ510Upf3YWZWShVbDCsipkVEa0S0jh49uiTHrJYVRrtbu14JWSaQ1fL3KJdSfYCqptdLvfrDH/5AW1sbBx544Hbbm5ub2WeffZg/v/MvGl944YUd9gU44IADiu67bds2Nm/ezJIlS7jgggsA+OQnP9mHR9B3PX0MhfuOHz+enXbaaYd9N23axMKFC9vbDRo0aLvEN9cO6PJ+KqlSr4nO2i1ZsoS1a9f28hGYmfVMKbqaMlvWvlrKHqqpXCXL+vh5G5ayfPMaXmxbzq5Ng5m3YWnF7rsSSjXbUjW9XurV6tWrARg+fPgOt40YMaL99s7272jf119/fYftp512Wvtg0912243777+f/fffvzehl0xPH0N3983dnvu96667IqnTdtWgUq+J1atXM27cuKLtIBmUO3To0J6EbmbWK6VI8p8C9kuXtF9GshLmJ0pw3C41+hSXxWSZQK7Zsp4/bHyNUf2H8oeNrzGiqfOBfYXKvcJwX3mAcXWKCLZuLfkiuz3yta99jUsvvZRXX32VG264gRNPPJGHH36Y1tbWTONqVNXwmjAzy1qfk/yI2CLpAmAW0ATcGhEv9DmybqjnpKuzhLdSyXBP72fX/oPZZ9Bo1mxdzz6DRrNr/8E9ur/eDhqu1PPhHvjqNHv27O3qn+HtMpFiPdarV69uLyfpyPDhwzvct1hv7t57783ee+/Ne97zHk488UQOPPBArrzySh544IGePJSS6uljKNz3lVdeKbovvN0rPXz4cNasWUNEbNebX9iu0rJ8TXTWLne7mVkllGRkWETcD9xfimP1RD0nXYUJb9u2zTT3G8CCtuWs2PwW/dSPsQNHlHUGnZ4m3QcP3osN27bw7p3GsnzzGxw8eK8O2xbT2/IrT0nZ2A4//HCeeuqp7bbts88+DBo0iBde2L6/oa2tjUWLFnHqqad2eswDDjhgh30hSRS7KsMZOHAgBx98MM8880w3H0F59OUxHHDAAfz85z9n/fr129Xlz58/n4EDB7bX4B9wwAFs3LiRP/zhD9vV5ecS6qxKlrJ8TRxwwAE8+OCDRduNHTvWpTpmVjEVG3hrPVOY8M5845n2Qa3PbniV17asLftYhJ4m3X0dUNrbQcPVMjbDsrHzzjvT2tq63c/AgQOZNGkSd911F1u2bGlve/fdd7Nx40YmT57c6TEnT57Mk08+yaJFi9q3vfzyy/z2t7/tct/169czd+5c9tlnn749sD7qy2M46aST2Lx5Mz/96U/bt23ZsoU777yTD37wgwwaNAhIpgsdMGAAP/rRj7bb/4c//CEHHngg48dnU0KZ5Wti8uTJLFu2jNmzZ7dve/PNN/nlL3/Z5X2YmZWSk/wqVZjwgtoT2b0GjmDJptVln0Gnp0l3X1eh7e2HBE9JacVcffXVLFmyhNNOO41HHnmEW265hc997nOccsopHH744e3t7rjjDvr3779dUvbJT36ScePGcfLJJ3PPPfcwc+ZMTj75ZPbaay8+9alPtbf71Kc+xeWXX87PfvYzZs+ezR133MH73/9+li9fzpVXXlnRx1uou4/hlVdeoX///lxzzTXt2w477DBOP/10Pv/5z3PzzTfzyCOPcMYZZ7B48WK+/OUvt7fbbbfduOiii7juuuv45je/yeOPP87555/Po48+ynXXXVfRx9sdlXhNTJ48mSOPPJIzzzyTGTNmMGvWLCZPnkxE8E//9E8Vfbx91d3V7CX9raSQ5EEoZlUk24mcrUOF4w0O2WkMz65fSsuAYYzuvzMjmobskAyXuja9kmMe+hJ7PY/NsN479NBDefDBB7n00kv5yEc+wrBhw/j7v/97vvKVr2zXbtu2bWzdupWIaN82ZMgQHn30Ub7whS8wZcoUIoJjjz2Wb3/729uVW0ycOJGbb76ZadOmsW7dOvbcc08mTpzILbfcwkEHHVSxx1pMdx9DbpDqtm3bttv/Bz/4AVdccQVXXnkla9as4ZBDDuGBBx7YYcGoa6+9lqFDh/Kd73yHP/3pT7zrXe/irrvu4sQTT6zI4+yJSrwm+vXrx7333svFF1/MZz7zGdra2jjyyCN57LHH2GuvnpUwZqm7q9lL2hm4EKivOZPN6oDy38QqpbW1NebOnVvx+61l3UmCb1wxe4fZhkpVm17uwa3ljL0RSHo6ImqiF83nv1lpleP8l3QkcHVEfCi9fjlARFxX0O7bwEPAJcDFEdHpyd2b81/Tnu5R+1oRUw/vulGBenwuevM8gJ+LnM7Of/fk14juDDIuZ216OQe3rt3axk9W/zcvb1xFP4l9Bo1mcL8Bnbbv6gNHtU/HaWZW5YqtZr/d16SS3g3sFRH3SbqkowNJmgpMBRg7dmwZQjWzYqoyyXeC1jvlXDegLx8guvp7Tl81h1c3vc6b29roTz/mbVjGbv137vB43fnAkfWMO34Nm1k9k9QP+CZwdldtI2IaMA2SnvzyRmZmOVU58DaXoO3UbxBz1i1m+iqX+nVHX2e36Uyxwa1rt7Zx44rZXLhkBjeumM3arW1F9+3q77kgXSF3ZP8hDOjXxOB+AzqdY787HziynnHHr2Ezq3FdrWa/M3Ag8Likl4H3AjM9+NaselRlkp91glar+jq7TWeKfYDobiLb1d9zQnMLg/oNYCcNZFTTUN4xYNdO59jvzmw6Wc+4UwuvYUkjJD0k6ffp7x1W6ZF0qKQnJL0gaZ6k0/Nuu03SYknPpD+HVvYRmFkZta9mL2kgyWr2M3M3RsQbETEqIsZFxDjgSWByVzX5ZlY5VVmuU86yE+udwjEBa7e2cdfrT/HW1o2s3PIWew8cxV2vP1W0PKWrv+eUkRNp27aZmW88A4jJux7S6bcQ+bPpHLLTGNq2bebCJTO2u99yzbjT3TKcGnkNXwY8EhHXp9PjXQZcWtBmPfD3EfF7Se8AnpY0KyLWpLdfEhF3VzBmM6uAjlazl3QNMDciZnZ+BDPLWlUm+Y0wJWIlarbLeR/TV81hw7YtbNy2hSUbVzN/w3J2H7BLe68+vF0D39Xfc2hTM1/Y4zi+sMdx3brv/A8cN66YzZz1O9bel2s15O7W+tfIa/hk4P3p5duBxylI8iPid3mX/yhpBTAaWIOZ1bViq9lHxFUdtH1/JWIys+6ryiS/XAlaNSnXwND8xH7F5rfop36MHTii5INPF7Qt56gh+7Bg45/48+Y3eX3reo4ask/R8pRy/j0rXRbT3furkdfw7hGRewB/AnbvrLGkI4CBwB/yNl8r6SrgEeCyiNjYwb6eXcPMzKyCqrImv94lpS5zeX7DMuZtWMrIpiElS07z6+Sf3fAqr21ZW5YEeEJzC6u2ruPgwWM4cPCe/H9D92XV1nUVr4GvdO191rX+PSXpYUnPF/k5Ob9dJAtmdDjrhaQWYDpwTkTkVk26HJgAvAcYwY6lPvnHnxYRrRHROnr06L4+LDMzM+tCVfbk17uk1GVze6nLqi3rOGvkkR2270nZTX5P814DR7Bk02revW1syevCC8tR/mbXQ/n5mme6XZ5SqlKiSpfF1EgZTruI6LAGStKfJbVExPI0iV/RQbtdgPuAKyLiybxj5z41bpT0A+DiEoZuZmZmfeAkPwOFpS6D+/XvNFnsSWlP/oDP0f13ZkTTkLJMqVmsHKUn5SmlKleqdFlMjZThdNdM4Czg+vT3PYUN0lk1fg7cUTjANu8DgoCPAs+XP2QzMzPrDif5Gcgl4gcPHsPy/kkPe2e92D2pO8/vaT5q6L5VuwhTLUwx2QCuB+6SdC7wCnAaQDrP9acj4rx02/uAkZLOTvc7OyKeAX4kaTQg4Bng0xWO38zMzDrgJD8DPS356Ml0jLXS01wjU0zWtYhYBRxbZPtc4Lz08g+BH3aw/wfKGqCZmZn1mpP8DPQ0Ea+1OvDuqMfHZGZmZlYtnOTXgFL3zldijv6uFHtM+XGNGzgKBC9vfC2zGM3MzMxqlafQbED502zOWbeY6avmZB0SsH1cd74+lztXz626GM3MzMxqgXvyG1C1DnrNj2tLbAXocYzV8C2FmZmZWdac5HeiHhPGtVvbWLH5LZ7Z8CJjB45gVP+h/PXQfbMOC9h+MG5/NQG0LzqVG5jb1d+kXCsJm5mZmdUSJ/mdqMeEcfqqOTSpH2MHDufVTasY0bRT1Qx6zR+Me/rw1vaa/PyBuV39Tar1WwozMzOzSnKS34l6TBgXtC1nr4Ej2Ld5N9697Z2s37axar6d6M4A467+Jp6a08zMzMwDbzs1obmF5ZvfaC8ZmdDcknVIfVbrj6mr+KeMnMjEIePLssqvmZmZWa1wT34n6nEu91p/TF3FXyuLgZmZmZmVk5P8TvQlYayGQbsdxVDLSXCtx29mZmZWCU7yy6RSg3Y7+zBRjwOHzczMzKxrTvLLpKMBormkfN6GpazZsp5d+w/m4MF79bqnv7NEvh4HDpuZmZlZ1zzwtkw6GiCaS8oXbVzJU+tfYdHGVX1a0bWzRL7WB9mamZmZWe84yS+TjmZ5ySXla7ZuYFT/oazZur5PveydJfK5GNZsXc/GbZuZt+FVblwxm7Vb20ryGM3MzMysOvUpyZd0qqQXJG2T1FqqoOpBboDod8aewfm7Hd1eipNLyndtGsxrW9aya9NOfepl72zKyFwMBw8ew6B+A9i1aUifvjUwMzMzs9rQ15r854GPATeVIJaGkEvC521YyoimIdvV5PdGKRaQMjMzM7P60qckPyJeBJBUmmgaQBZTQHoVWDMzM7PGUrHZdSRNBaYCjB07tlJ3a9T+AlhmZmZm1jNdJvmSHgb2KHLTFRFxT3fvKCKmAdMAWltbo9sRWp9lvYBUNSwMZsVJGgHcCYwDXgZOi4jXi7TbCjyXXl0SEZPT7eOBGcBI4GlgSkRsKn/kZmZm1pkuB95GxHERcWCRn24n+NbYctOG7tRvkAf+Vp/LgEciYj/gkfR6MRsi4tD0Z3Le9q8C34qIfYHXgXPLG66ZmZl1h6fQtLLzwN+qdjJwe3r5duCj3d1RyWCcDwB392Z/MzMzK5++TqH5N5KWAkcC90maVZqwLCtrt7Zx44rZXLhkRsnm1PeiXFVt94jIfer6E7B7B+2aJc2V9KSkXCI/ElgTEVvS60uBPYvtLGlquv/clStXlix4MzMzK66vs+v8HPh5iWKpao1SV54rrWkZMIw56xYD9Lme3wN/s9XZuJr8KxERkjoaL/POiFgmaW/gUUnPAW90NwaPyTEzM6usis2uU+vKkfxWo3KU1mQ98LfRRcRxHd0m6c+SWiJiuaQWYEUHx1iW/l4k6XHgMOBnwK6S+qe9+WOAZSV/AGZmZtZjrsnvpkapK3dpTcOZCZyVXj4L2GFAvaThkgall0cBRwHzIyKAx4BTOtvfzMzMKs9Jfjc1SvI7ZeREJg4Zz/ptG11a0xiuB46X9HvguPQ6klol3Zy2+UtgrqRnSZL66yNifnrbpcBFkhaS1OjfUtHozczMrCiX63RTo9SVu7SmsUTEKuDYItvnAuell/8LOKiD/RcBR5QzRjMzM+s5J/ndlFXy2ygDfjvS6I/fzMzMrDdcrlPlslpIqhxTafaGF9IyM8uGpEmSXpK0UNIOC+VJukjSfEnzJD0i6Z1ZxGlmxTnJr3JZDfitluS6UQY8m5lVE0lNwA3Ah4H9gY9L2r+g2f8CrRFxMMmieF+rbJRm1hkn+VUuqwG/1ZJcN8qAZzOzKnMEsDAiFkXEJmAGyQrZ7SLisYhYn159kmQaXTOrEk7yq1xWs91US3Lt2X7MzDKxJ/Bq3vUOV7ROnQv8qtgNXvHaLBseeFvlshrwWy2zCXm2HzOz6ibpTKAVKPpm7RWvzbLhJN+KcnJtZtbQlgF75V0vuqK1pOOAK4CjI2JjhWIzs25wkl+DPK2kmZmV2VPAfpLGkyT3ZwCfyG8g6TDgJmBSRKyofIhm1hnX5Negapn5xszM6lNEbAEuAGYBLwJ3RcQLkq6RNDlt9nVgKPBTSc9ImplRuGZWhHvya1C5Z77xNwVmZhYR9wP3F2y7Ku/ycRUPysy6zT35NajcM9/4mwIzMzOz2uae/BpUbOabUva+9+abAvf+m5mZmVUPJ/k1qNjMNzeumM2cdYtpGTCMOesWA/R6dpwJzS3tx1q++Q0mDhnf5T653v9S3L+ZmZmZ9Y2T/DpRyjr93syRXy0r5JqZmZmZk/y60Zve9470Zo78Ut6/mZmZmfWNk/w6kfUKtVnfv5mZmZm9zUl+nch6hdqs79/MzMzM3uYpNM3MzMzM6oyTfDMzMzOzOuMk36xBSRoh6SFJv09/Dy/S5ph0ufrcT5ukj6a33SZpcd5th1b+UZiZmVkxTvLNGtdlwCMRsR/wSHp9OxHxWEQcGhGHAh8A1gMP5jW5JHd7RDxTkajNzMysS07yzRrXycDt6eXbgY920f4U4FcRsb6sUZmZmVmfOck3a1y7R0Ru1bI/Abt30f4M4CcF266VNE/StyQN6mhHSVMlzZU0d+XKlX0I2czMzLrDSb5ZHZP0sKTni/ycnN8uIgKITo7TAhwEzMrbfDkwAXgPMAK4tKP9I2JaRLRGROvo0aP78pDMzMysGzxPvlkdi4jjOrpN0p8ltUTE8jSJX9HJoU4Dfh4Rm/OOnfsWYKOkHwAXlyRoMzMz6zP35Js1rpnAWenls4B7Omn7cQpKddIPBkgSST3/82WI0czMzHqhT0m+pK9LWpDW5P5c0q6lCszMyu564HhJvweOS68jqVXSzblGksYBewGzC/b/kaTngOeAUcC/VSBmMzMz64a+lus8BFweEVskfZWkRrfDulwzqx4RsQo4tsj2ucB5eddfBvYs0u4D5YzPzMzMeq9PPfkR8WBEbEmvPgmM6XtIZmZmZmbWF6Wsyf8H4Fcd3egp9MzMzMzMKqPLch1JDwN7FLnpioi4J21zBbAF+FFHx4mIacA0gNbW1g6n6jMzMzMzs77pMsnvbAo+AElnAycCx6ZzbZuZmZmZWYb6NPBW0iTgn4CjvdS9mZmZmVl16GtN/neBnYGHJD0j6XsliMnMzMzMzPqgTz35EbFvqQIxMzMzM7PS6Os8+WZmZmbds/4tuOnqHu3ypaf/WJ5Yshbv6PEudflc9OJ5AD8X3VHKKTTNzMzMzKwKOMk3MzMzM6szLtcxMzOzythpZ/jU1T3a5cvTni5PLBm7eurhPd6nHp+L3jwP4Oei3ae/3OFN7sk3MzMzM6sz7sm3otZubWP6qjksaFvOhOYWpoycyNCm5qzDMjMzM7NucE++FTV91RzmrFvMTv0GMWfdYqavmpN1SGZmZmbWTU7yragFbctpGTCMQf360zJgGAvalmcdkpmZmZl1k5N8K2pCcwvLN7/Bxm1bWL75DSY0t2QdkpmZmZl1k5N8K2rKyIlMHDKe9ds2MnHIeKaMnJh1SGZmVkGSJkl6SdJCSZcVuX2QpDvT2+dIGlf5KM2sIx54a0UNbWrm/N2OzjoMMzPLgKQm4AbgeGAp8JSkmRExP6/ZucDrEbGvpDOArwKnVz5aMyvGPflmDUzSqZJekLRNUmsn7Yr26Ekan/bgLUx79AZWJnIzK7MjgIURsSgiNgEzgJML2pwM3J5evhs4VpIqGKOZdcI9+WaN7XngY8BNHTXookfvq8C3ImKGpO+R9OzdWP6wzazM9gRezbu+FCis22xvExFbJL0BjARey28kaSowFWDs2LE9DiR6uVhSPfJz8TY/F11zT75ZA4uIFyPipS6aFe3RS3vsPkDSgwdJj95HyxetmdWiiJgWEa0R0Tp69OiswzFrGJn05D/99NOvSXqlTIcfRUEvQhVxbD1XrXFBdcX2zjIeu6MevZHAmojYkrd9z2IHyO/JA9ZK6uqDRZaq6e+aNT8XiWp/Hspx/i8D9sq7PibdVqzNUkn9gWHAqs4OWub//6VQ7X/rSvJzkaj256HD8z+TJD8iyvZRXtLciOiwtjhLjq3nqjUuqO7Y8kl6GNijyE1XRMQ9lYghIqYB0ypxX31VK3/XSvBzkWjQ5+EpYD9J40mS+TOATxS0mQmcBTwBnAI8GhHR2UHL+f+/FBr0b12Un4tELT8Prsk3q3MRcVwfD9FRj94qYFdJ/dPe/GI9fWZWg9Ia+wuAWUATcGtEvCDpGmBuRMwEbgGmS1oIrCb5IGBmVcJJvpl1pWiPXkSEpMdIevBmkPToVeSbATMrv4i4H7i/YNtVeZfbgFMrHZeZdU89Dryt5pIAx9Zz1RoXVHds3SLpbyQtBY4E7pM0K93+Dkn3Q9KjB+R69F4E7oqIF9JDXApclPbkjSTp2at1Nf93LSE/Fwk/D43Df+u3+blI1OzzoC7K58zMzMzMrMbUY0++mZmZmVlDc5JvZmZmZlZn6jLJl/R1SQskzZP0c0m7Zh1TjqRTJb0gaZukzKdkkjRJ0kuSFkq6LOt4ciTdKmmFpOezjqWQpL0kPSZpfvq3vDDrmMzMzMzy1WWSDzwEHBgRBwO/Ay7POJ58zwMfA36ddSCSmoAbgA8D+wMfl7R/tlG1uw2YlHUQHdgCfDEi9gfeC3y2ip43MzMzs/pM8iPiwbxVOJ8kmb+7KkTEixFRLat9HgEsjIhFEbGJZBrEkzOOCYCI+DXJvMtVJyKWR8T/pJffIplxpuhKr1YbJO0s6bOSfpH+XC9p76zjqhRJ/SVdLGmRpE2SVkq6Ouu4zCrB57/P/3rVCPPk/wNwZ9ZBVKk9gVfzri8FJmYUS02SNA44DJiTbSTWG5IOBj4IDAJ+FRE3pNvfAXxM0i7AM8ADEbEtu0jLR9IAkpVLDwKuAZYA5wJfkvRiRDTc+6ekfwau7aTJjRHxmUrFY+Xh89/nfzH1dP7XbJIv6WFgjyI3XRER96RtriAprfhRtcVmtU/SUOBnwOcj4s2s47Gei4h5wLwi2/8IfLfyEWXii8BfAQdFxBIASY8AHyL5Zq/h/smTfKv5aHr5NOALwDFAW7rt5QxishLz+Q/4/C+mbs7/mk3yI+K4zm6XdDZwInBsVHgxgK5iqyLLgL3yro9Jt1kX0t6PnwE/ioj/m3U8Zr0hqR9wEXBD7h88QERslvQKMDRtNxC4kuQ9tSndPiMirqh81OUXEYuARdD+v+TliHg8y5jMSs3nf3H1dP7XZU2+pEnAPwGTI2J91vFUsaeA/SSNT0/iM0i+trNOSBLJyq4vRsQ3s47H+q6Ba1KPAEYD9+VvTF/jewKL001fJ+kQeG9EHAIcQIW/Ic3QwRTp7bX64fPf538navr8r8skn+Rrtp2BhyQ9I+l7WQeUI+lvJC0FjgTukzQrq1jSwckXALNIBo/eFREvZBVPPkk/AZ4A3iVpqaRzs44pz1HAFOAD6evrGUknZB2U9U76rcwvgc8D1wOTgcdJalJPzzC0Snhv+ntpwfa/AoYDv0ivnwg8lA7QJyLaImJ+ZULMTprsHAg8m3UsVh4+/wGf/0XVw/mvCleymJlVlXR9iMvZviZ1ALAKuDciPpFlfOUkaTpwJklZ46Pptn4kSc4w4LCI2Cbp28D5JHWqD5KUqa3IJurKSQfWLwZOjYi7s43GysHnv8//jtTD+V+vPflmZl3qrCYVaK9JrWOHk/Ti/aekv5X0MeARkhmjPp6bUSQiPk/So3UfyTofz0sanlHMlfSO9PfLWQZh5eHz3+d/F2r+/K/ZgbdmZiXQVU3qo8V2qgeShgDvAj4LjANuAgYDs4EjC7+Oj4jfA7+X9H1gA/BO4PVKxpyBdenvUyT1j4gnM43GSs3nv8//ztT8+e+efDNrZN2tSa1Hh5H8D3gqIi6LiFERMSQiToiI53ONJH1E0s7pZQHnAQuBqhi/U2bzgO8BU4EfZhyLlZ7Pf5//nan5899Jvpk1ssPT3/vkNqRf4V9H8gY/O4ugKuRwYBPwXBftPgL8r6TngP8lSYyOS0sa6lokzo+IERGxb9bxWMn5/Pf536F6OP898NbMGpak+SQzca0DrgAC+EegFZhYSUbqwQAAALtJREFUzzNISLoDOCAiDu+ysVkd8vnv87/eOck3s4aU1qS+yds1qefxdk3qP+V/ZW1m9cXnvzUCJ/lm1pAk/TXw/4DWiHg663jMrHJ8/lsjcE2+mTWq7takmln98flvdc9Jvpk1qsOB53OrOJpZQ/H5b3XP5TpmZmZmZnXGPflmZmZmZnXGSb6ZmZmZWZ1xkm9mZmZmVmec5JuZmZmZ1Rkn+WZmZmZmdcZJvpmZmZlZnXGSb2ZmZmZWZ/5/lx9UwCe9CLsAAAAASUVORK5CYII=\n",
        "metadata": {
         "needs_background": "light",
         "tags": []
        },
        "output_type": "display_data",
        "text/plain": "<Figure size 936x288 with 3 Axes>"
       }
      ]
     }
    },
    "84b0f864a18e46c194e6cd7ea590e4c8": {
     "model_module": "@jupyter-widgets/controls",
     "model_name": "FloatSliderModel",
     "state": {
      "_dom_classes": [],
      "_model_module": "@jupyter-widgets/controls",
      "_model_module_version": "1.5.0",
      "_model_name": "FloatSliderModel",
      "_view_count": null,
      "_view_module": "@jupyter-widgets/controls",
      "_view_module_version": "1.5.0",
      "_view_name": "FloatSliderView",
      "continuous_update": true,
      "description": "Положение выброса:",
      "description_tooltip": null,
      "disabled": false,
      "layout": "IPY_MODEL_b289171cbb4044558cd3043c8371936e",
      "max": 34,
      "min": 0,
      "orientation": "horizontal",
      "readout": true,
      "readout_format": ".2f",
      "step": 1,
      "style": "IPY_MODEL_d1824f1eda064bb1b0d828cfb83bdf39",
      "value": 6
     }
    },
    "898cd2632f3a45fe93a0ed52a078078e": {
     "model_module": "@jupyter-widgets/controls",
     "model_name": "IntSliderModel",
     "state": {
      "_dom_classes": [],
      "_model_module": "@jupyter-widgets/controls",
      "_model_module_version": "1.5.0",
      "_model_name": "IntSliderModel",
      "_view_count": null,
      "_view_module": "@jupyter-widgets/controls",
      "_view_module_version": "1.5.0",
      "_view_name": "IntSliderView",
      "continuous_update": true,
      "description": "angle",
      "description_tooltip": null,
      "disabled": false,
      "layout": "IPY_MODEL_fc26a2ac2a564db987cebe16fc8bd7a2",
      "max": 180,
      "min": 0,
      "orientation": "horizontal",
      "readout": true,
      "readout_format": "d",
      "step": 5,
      "style": "IPY_MODEL_8b5d5df2a1dd4184ac0fc5ccc9c7c3fb",
      "value": 45
     }
    },
    "8b5d5df2a1dd4184ac0fc5ccc9c7c3fb": {
     "model_module": "@jupyter-widgets/controls",
     "model_name": "SliderStyleModel",
     "state": {
      "_model_module": "@jupyter-widgets/controls",
      "_model_module_version": "1.5.0",
      "_model_name": "SliderStyleModel",
      "_view_count": null,
      "_view_module": "@jupyter-widgets/base",
      "_view_module_version": "1.2.0",
      "_view_name": "StyleView",
      "description_width": "",
      "handle_color": null
     }
    },
    "934e72b007b64b2ba1b2fdd265eec560": {
     "model_module": "@jupyter-widgets/base",
     "model_name": "LayoutModel",
     "state": {
      "_model_module": "@jupyter-widgets/base",
      "_model_module_version": "1.2.0",
      "_model_name": "LayoutModel",
      "_view_count": null,
      "_view_module": "@jupyter-widgets/base",
      "_view_module_version": "1.2.0",
      "_view_name": "LayoutView",
      "align_content": null,
      "align_items": null,
      "align_self": null,
      "border": null,
      "bottom": null,
      "display": null,
      "flex": null,
      "flex_flow": null,
      "grid_area": null,
      "grid_auto_columns": null,
      "grid_auto_flow": null,
      "grid_auto_rows": null,
      "grid_column": null,
      "grid_gap": null,
      "grid_row": null,
      "grid_template_areas": null,
      "grid_template_columns": null,
      "grid_template_rows": null,
      "height": null,
      "justify_content": null,
      "justify_items": null,
      "left": null,
      "margin": null,
      "max_height": null,
      "max_width": null,
      "min_height": null,
      "min_width": null,
      "object_fit": null,
      "object_position": null,
      "order": null,
      "overflow": null,
      "overflow_x": null,
      "overflow_y": null,
      "padding": null,
      "right": null,
      "top": null,
      "visibility": null,
      "width": null
     }
    },
    "9ca2cc6f04f44305a607583125aab9fd": {
     "model_module": "@jupyter-widgets/controls",
     "model_name": "SliderStyleModel",
     "state": {
      "_model_module": "@jupyter-widgets/controls",
      "_model_module_version": "1.5.0",
      "_model_name": "SliderStyleModel",
      "_view_count": null,
      "_view_module": "@jupyter-widgets/base",
      "_view_module_version": "1.2.0",
      "_view_name": "StyleView",
      "description_width": "",
      "handle_color": null
     }
    },
    "a80923d66db84f1ea7de7cf4f66c4097": {
     "model_module": "@jupyter-widgets/base",
     "model_name": "LayoutModel",
     "state": {
      "_model_module": "@jupyter-widgets/base",
      "_model_module_version": "1.2.0",
      "_model_name": "LayoutModel",
      "_view_count": null,
      "_view_module": "@jupyter-widgets/base",
      "_view_module_version": "1.2.0",
      "_view_name": "LayoutView",
      "align_content": null,
      "align_items": null,
      "align_self": null,
      "border": null,
      "bottom": null,
      "display": null,
      "flex": null,
      "flex_flow": null,
      "grid_area": null,
      "grid_auto_columns": null,
      "grid_auto_flow": null,
      "grid_auto_rows": null,
      "grid_column": null,
      "grid_gap": null,
      "grid_row": null,
      "grid_template_areas": null,
      "grid_template_columns": null,
      "grid_template_rows": null,
      "height": null,
      "justify_content": null,
      "justify_items": null,
      "left": null,
      "margin": null,
      "max_height": null,
      "max_width": null,
      "min_height": null,
      "min_width": null,
      "object_fit": null,
      "object_position": null,
      "order": null,
      "overflow": null,
      "overflow_x": null,
      "overflow_y": null,
      "padding": null,
      "right": null,
      "top": null,
      "visibility": null,
      "width": null
     }
    },
    "b008590e260545ca87fb4eb6e067e9c0": {
     "model_module": "@jupyter-widgets/base",
     "model_name": "LayoutModel",
     "state": {
      "_model_module": "@jupyter-widgets/base",
      "_model_module_version": "1.2.0",
      "_model_name": "LayoutModel",
      "_view_count": null,
      "_view_module": "@jupyter-widgets/base",
      "_view_module_version": "1.2.0",
      "_view_name": "LayoutView",
      "align_content": null,
      "align_items": null,
      "align_self": null,
      "border": null,
      "bottom": null,
      "display": null,
      "flex": null,
      "flex_flow": null,
      "grid_area": null,
      "grid_auto_columns": null,
      "grid_auto_flow": null,
      "grid_auto_rows": null,
      "grid_column": null,
      "grid_gap": null,
      "grid_row": null,
      "grid_template_areas": null,
      "grid_template_columns": null,
      "grid_template_rows": null,
      "height": null,
      "justify_content": null,
      "justify_items": null,
      "left": null,
      "margin": null,
      "max_height": null,
      "max_width": null,
      "min_height": null,
      "min_width": null,
      "object_fit": null,
      "object_position": null,
      "order": null,
      "overflow": null,
      "overflow_x": null,
      "overflow_y": null,
      "padding": null,
      "right": null,
      "top": null,
      "visibility": null,
      "width": null
     }
    },
    "b289171cbb4044558cd3043c8371936e": {
     "model_module": "@jupyter-widgets/base",
     "model_name": "LayoutModel",
     "state": {
      "_model_module": "@jupyter-widgets/base",
      "_model_module_version": "1.2.0",
      "_model_name": "LayoutModel",
      "_view_count": null,
      "_view_module": "@jupyter-widgets/base",
      "_view_module_version": "1.2.0",
      "_view_name": "LayoutView",
      "align_content": null,
      "align_items": null,
      "align_self": null,
      "border": null,
      "bottom": null,
      "display": null,
      "flex": null,
      "flex_flow": null,
      "grid_area": null,
      "grid_auto_columns": null,
      "grid_auto_flow": null,
      "grid_auto_rows": null,
      "grid_column": null,
      "grid_gap": null,
      "grid_row": null,
      "grid_template_areas": null,
      "grid_template_columns": null,
      "grid_template_rows": null,
      "height": null,
      "justify_content": null,
      "justify_items": null,
      "left": null,
      "margin": null,
      "max_height": null,
      "max_width": null,
      "min_height": null,
      "min_width": null,
      "object_fit": null,
      "object_position": null,
      "order": null,
      "overflow": null,
      "overflow_x": null,
      "overflow_y": null,
      "padding": null,
      "right": null,
      "top": null,
      "visibility": null,
      "width": null
     }
    },
    "b4ead18155064f8c9bc30d33fab1f79d": {
     "model_module": "@jupyter-widgets/controls",
     "model_name": "VBoxModel",
     "state": {
      "_dom_classes": [
       "widget-interact"
      ],
      "_model_module": "@jupyter-widgets/controls",
      "_model_module_version": "1.5.0",
      "_model_name": "VBoxModel",
      "_view_count": null,
      "_view_module": "@jupyter-widgets/controls",
      "_view_module_version": "1.5.0",
      "_view_name": "VBoxView",
      "box_style": "",
      "children": [
       "IPY_MODEL_7d2de77a5edd4113a813717e946460ec",
       "IPY_MODEL_688a6672386148b8a0312c213e65b036"
      ],
      "layout": "IPY_MODEL_3570bdcf4f8849d4b212380a8919b89a"
     }
    },
    "b609bb99ef574749bbaecd45e2726ec0": {
     "model_module": "@jupyter-widgets/base",
     "model_name": "LayoutModel",
     "state": {
      "_model_module": "@jupyter-widgets/base",
      "_model_module_version": "1.2.0",
      "_model_name": "LayoutModel",
      "_view_count": null,
      "_view_module": "@jupyter-widgets/base",
      "_view_module_version": "1.2.0",
      "_view_name": "LayoutView",
      "align_content": null,
      "align_items": null,
      "align_self": null,
      "border": null,
      "bottom": null,
      "display": null,
      "flex": null,
      "flex_flow": null,
      "grid_area": null,
      "grid_auto_columns": null,
      "grid_auto_flow": null,
      "grid_auto_rows": null,
      "grid_column": null,
      "grid_gap": null,
      "grid_row": null,
      "grid_template_areas": null,
      "grid_template_columns": null,
      "grid_template_rows": null,
      "height": null,
      "justify_content": null,
      "justify_items": null,
      "left": null,
      "margin": null,
      "max_height": null,
      "max_width": null,
      "min_height": null,
      "min_width": null,
      "object_fit": null,
      "object_position": null,
      "order": null,
      "overflow": null,
      "overflow_x": null,
      "overflow_y": null,
      "padding": null,
      "right": null,
      "top": null,
      "visibility": null,
      "width": null
     }
    },
    "c49897c531454f98a0b8e5db59b63082": {
     "model_module": "@jupyter-widgets/controls",
     "model_name": "VBoxModel",
     "state": {
      "_dom_classes": [
       "widget-interact"
      ],
      "_model_module": "@jupyter-widgets/controls",
      "_model_module_version": "1.5.0",
      "_model_name": "VBoxModel",
      "_view_count": null,
      "_view_module": "@jupyter-widgets/controls",
      "_view_module_version": "1.5.0",
      "_view_name": "VBoxView",
      "box_style": "",
      "children": [
       "IPY_MODEL_84b0f864a18e46c194e6cd7ea590e4c8",
       "IPY_MODEL_6d4d8638f7fa4abf880369bd298d982f"
      ],
      "layout": "IPY_MODEL_dd6bbdb2b2dc4bd799b8e0bbbd075053"
     }
    },
    "d1824f1eda064bb1b0d828cfb83bdf39": {
     "model_module": "@jupyter-widgets/controls",
     "model_name": "SliderStyleModel",
     "state": {
      "_model_module": "@jupyter-widgets/controls",
      "_model_module_version": "1.5.0",
      "_model_name": "SliderStyleModel",
      "_view_count": null,
      "_view_module": "@jupyter-widgets/base",
      "_view_module_version": "1.2.0",
      "_view_name": "StyleView",
      "description_width": "",
      "handle_color": null
     }
    },
    "d261d153465046efa91c56999154f3ac": {
     "model_module": "@jupyter-widgets/base",
     "model_name": "LayoutModel",
     "state": {
      "_model_module": "@jupyter-widgets/base",
      "_model_module_version": "1.2.0",
      "_model_name": "LayoutModel",
      "_view_count": null,
      "_view_module": "@jupyter-widgets/base",
      "_view_module_version": "1.2.0",
      "_view_name": "LayoutView",
      "align_content": null,
      "align_items": null,
      "align_self": null,
      "border": null,
      "bottom": null,
      "display": null,
      "flex": null,
      "flex_flow": null,
      "grid_area": null,
      "grid_auto_columns": null,
      "grid_auto_flow": null,
      "grid_auto_rows": null,
      "grid_column": null,
      "grid_gap": null,
      "grid_row": null,
      "grid_template_areas": null,
      "grid_template_columns": null,
      "grid_template_rows": null,
      "height": null,
      "justify_content": null,
      "justify_items": null,
      "left": null,
      "margin": null,
      "max_height": null,
      "max_width": null,
      "min_height": null,
      "min_width": null,
      "object_fit": null,
      "object_position": null,
      "order": null,
      "overflow": null,
      "overflow_x": null,
      "overflow_y": null,
      "padding": null,
      "right": null,
      "top": null,
      "visibility": null,
      "width": null
     }
    },
    "dd6bbdb2b2dc4bd799b8e0bbbd075053": {
     "model_module": "@jupyter-widgets/base",
     "model_name": "LayoutModel",
     "state": {
      "_model_module": "@jupyter-widgets/base",
      "_model_module_version": "1.2.0",
      "_model_name": "LayoutModel",
      "_view_count": null,
      "_view_module": "@jupyter-widgets/base",
      "_view_module_version": "1.2.0",
      "_view_name": "LayoutView",
      "align_content": null,
      "align_items": null,
      "align_self": null,
      "border": null,
      "bottom": null,
      "display": null,
      "flex": null,
      "flex_flow": null,
      "grid_area": null,
      "grid_auto_columns": null,
      "grid_auto_flow": null,
      "grid_auto_rows": null,
      "grid_column": null,
      "grid_gap": null,
      "grid_row": null,
      "grid_template_areas": null,
      "grid_template_columns": null,
      "grid_template_rows": null,
      "height": null,
      "justify_content": null,
      "justify_items": null,
      "left": null,
      "margin": null,
      "max_height": null,
      "max_width": null,
      "min_height": null,
      "min_width": null,
      "object_fit": null,
      "object_position": null,
      "order": null,
      "overflow": null,
      "overflow_x": null,
      "overflow_y": null,
      "padding": null,
      "right": null,
      "top": null,
      "visibility": null,
      "width": null
     }
    },
    "fc26a2ac2a564db987cebe16fc8bd7a2": {
     "model_module": "@jupyter-widgets/base",
     "model_name": "LayoutModel",
     "state": {
      "_model_module": "@jupyter-widgets/base",
      "_model_module_version": "1.2.0",
      "_model_name": "LayoutModel",
      "_view_count": null,
      "_view_module": "@jupyter-widgets/base",
      "_view_module_version": "1.2.0",
      "_view_name": "LayoutView",
      "align_content": null,
      "align_items": null,
      "align_self": null,
      "border": null,
      "bottom": null,
      "display": null,
      "flex": null,
      "flex_flow": null,
      "grid_area": null,
      "grid_auto_columns": null,
      "grid_auto_flow": null,
      "grid_auto_rows": null,
      "grid_column": null,
      "grid_gap": null,
      "grid_row": null,
      "grid_template_areas": null,
      "grid_template_columns": null,
      "grid_template_rows": null,
      "height": null,
      "justify_content": null,
      "justify_items": null,
      "left": null,
      "margin": null,
      "max_height": null,
      "max_width": null,
      "min_height": null,
      "min_width": null,
      "object_fit": null,
      "object_position": null,
      "order": null,
      "overflow": null,
      "overflow_x": null,
      "overflow_y": null,
      "padding": null,
      "right": null,
      "top": null,
      "visibility": null,
      "width": null
     }
    }
   }
  }
 },
 "nbformat": 4,
 "nbformat_minor": 1
}
