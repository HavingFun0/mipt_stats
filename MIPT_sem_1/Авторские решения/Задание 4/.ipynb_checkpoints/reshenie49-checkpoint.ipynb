{
 "cells": [
  {
   "cell_type": "code",
   "execution_count": 2,
   "metadata": {
    "id": "-Vcnxd3o5aVi"
   },
   "outputs": [],
   "source": [
    "import numpy as np\n",
    "import scipy.stats as sps\n",
    "import matplotlib.pyplot as plt\n",
    "from tqdm import tqdm_notebook\n",
    "import seaborn as sns\n",
    "import pandas as pd\n",
    "sns.set(palette='Set2', font_scale=1.4)\n",
    "\n",
    "%matplotlib inline"
   ]
  },
  {
   "cell_type": "markdown",
   "metadata": {
    "id": "P7_OPlAu5aVp"
   },
   "source": [
    "### Задача 9.\n",
    "Существует примета, что если перед вами дорогу перебегает черный кот, то скоро случится неудача. \n",
    "Вы же уже достаточно хорошо знаете статистику и хотите проверить данную примету. \n",
    "Сформулируем задачу на математическом языке. \n",
    "\n",
    "Пусть $X_1, ..., X_n \\sim Bern(p)$ --- проведенные наблюдения, где $X_i = 1$, если в $i$-м испытании случилась неудача после того, как черный кот перебежал дорогу, а $p$ --- неизвестная вероятность такого события. \n",
    "Вы хотите проверить гипотезу $\\mathsf{H}_0\\colon p=1/2$ (отсутствие связи между черным котом и неудачей) против альтернативы $\\mathsf{H}_1\\colon p>1/2$ (неудача происходит чаще если черный кот перебегает дорогу).\n",
    "\n",
    "Известно, что $S = \\left\\{T(X) \\geqslant c_\\alpha\\right\\}$, где $T(X) = \\sum X_i$, является равномерно наиболее мощным критерием для проверки этих гипотез. \n",
    "Чему при этом равно $c_\\alpha$ и как определяется p-value?"
   ]
  },
  {
   "cell_type": "markdown",
   "metadata": {
    "id": "YzNF_I755aVq"
   },
   "source": [
    "**Ответ:** \n",
    "\n",
    "1. $c_\\alpha = u_{1-\\alpha} + 1$, где $u_p$ &mdash; $p$-квантиль $Bin(n, 0.5)$. Квантиль $u_{1-\\alpha}$ означает $\\mathsf{P}_{0.5}(T(X) \\leqslant u_{1-\\alpha}) \\geqslant 1 - \\alpha$, а значит $\\mathsf{P}_{0.5}(T(X) > u_{1-\\alpha}) \\leqslant \\alpha$. Поскольку распределение дискретно, то $\\mathsf{P}_{0.5}(T(X) = u_{1-\\alpha}) > 0$, и поэтому может случится (и даже случится) так, что $\\mathsf{P}_{0.5}(T(X) \\geqslant u_{1-\\alpha}) > \\alpha$. Этим объясняется то, что $c_\\alpha = u_{1-\\alpha} + 1$, а не $c_\\alpha = u_{1-\\alpha}$.\n",
    "\n",
    "2. p-value определяется как $p(t) = \\mathsf{P}_{0.5}(T(X) \\geqslant t)$, где $t = \\sum x_i$ &mdash; реализация статистики $T(X)$. Здесь важен нестрогий знак. В определении p-value говорится: *такое же* или еще более экстремальное."
   ]
  },
  {
   "cell_type": "markdown",
   "metadata": {
    "id": "BHuY0P2a5aVr"
   },
   "source": [
    "Для начала проверьте, что критерий работает.\n",
    "Возьмите несколько значений $n$ и реализаций статистики $T(X)$.\n",
    "В каждом случае найдите значение $c_\\alpha$ и p-value.\n",
    "Оформите это в виде таблицы (можно через `pandas.DataFrame`).\n",
    "\n",
    "Пользуйтесь функциями из `scipy.stats`. Внимательно проверьте правильность строгих и нестрогих знаков."
   ]
  },
  {
   "cell_type": "code",
   "execution_count": 3,
   "metadata": {
    "colab": {
     "base_uri": "https://localhost:8080/",
     "height": 196
    },
    "id": "Apm61Kxt5aVr",
    "outputId": "cbf7bfd0-48c7-4cc1-b51b-31edf90f5056"
   },
   "outputs": [
    {
     "data": {
      "text/html": [
       "<div>\n",
       "<style scoped>\n",
       "    .dataframe tbody tr th:only-of-type {\n",
       "        vertical-align: middle;\n",
       "    }\n",
       "\n",
       "    .dataframe tbody tr th {\n",
       "        vertical-align: top;\n",
       "    }\n",
       "\n",
       "    .dataframe thead th {\n",
       "        text-align: right;\n",
       "    }\n",
       "</style>\n",
       "<table border=\"1\" class=\"dataframe\">\n",
       "  <thead>\n",
       "    <tr style=\"text-align: right;\">\n",
       "      <th></th>\n",
       "      <th>size</th>\n",
       "      <th>T(x)</th>\n",
       "      <th>c_alpha</th>\n",
       "      <th>pvalue</th>\n",
       "      <th>rejected</th>\n",
       "    </tr>\n",
       "  </thead>\n",
       "  <tbody>\n",
       "    <tr>\n",
       "      <th>0</th>\n",
       "      <td>5</td>\n",
       "      <td>3</td>\n",
       "      <td>5.0</td>\n",
       "      <td>0.500000</td>\n",
       "      <td>False</td>\n",
       "    </tr>\n",
       "    <tr>\n",
       "      <th>1</th>\n",
       "      <td>10</td>\n",
       "      <td>5</td>\n",
       "      <td>9.0</td>\n",
       "      <td>0.623047</td>\n",
       "      <td>False</td>\n",
       "    </tr>\n",
       "    <tr>\n",
       "      <th>2</th>\n",
       "      <td>20</td>\n",
       "      <td>15</td>\n",
       "      <td>15.0</td>\n",
       "      <td>0.020695</td>\n",
       "      <td>True</td>\n",
       "    </tr>\n",
       "    <tr>\n",
       "      <th>3</th>\n",
       "      <td>30</td>\n",
       "      <td>20</td>\n",
       "      <td>20.0</td>\n",
       "      <td>0.049369</td>\n",
       "      <td>True</td>\n",
       "    </tr>\n",
       "    <tr>\n",
       "      <th>4</th>\n",
       "      <td>50</td>\n",
       "      <td>20</td>\n",
       "      <td>32.0</td>\n",
       "      <td>0.940540</td>\n",
       "      <td>False</td>\n",
       "    </tr>\n",
       "  </tbody>\n",
       "</table>\n",
       "</div>"
      ],
      "text/plain": [
       "   size  T(x)  c_alpha    pvalue  rejected\n",
       "0     5     3      5.0  0.500000     False\n",
       "1    10     5      9.0  0.623047     False\n",
       "2    20    15     15.0  0.020695      True\n",
       "3    30    20     20.0  0.049369      True\n",
       "4    50    20     32.0  0.940540     False"
      ]
     },
     "execution_count": 3,
     "metadata": {
      "tags": []
     },
     "output_type": "execute_result"
    }
   ],
   "source": [
    "alpha = 0.05\n",
    "table = []\n",
    "\n",
    "#  Здесь сгенерируем значения статистики руками, для наглядности\n",
    "\n",
    "for size, t in zip([5, 10, 20, 30, 50], [3, 5, 15, 20, 20]):\n",
    "    c_alpha = sps.binom(n=size, p=0.5).ppf(1 - alpha) + 1\n",
    "    # -0.5 гарантирует, что берем нестрогий знак\n",
    "    p_value = sps.binom(n=size, p=0.5).sf(t-0.5)\n",
    "    table.append([size, t, c_alpha, p_value, p_value < alpha])\n",
    "    \n",
    "pd.DataFrame(table, columns=['size','T(x)','c_alpha','pvalue','rejected'])"
   ]
  },
  {
   "cell_type": "markdown",
   "metadata": {
    "id": "LMZLkkCe5aVs"
   },
   "source": [
    "Для каких истинных значений $p$ с точки зрения практики можно считать, что связь между черным котом и неудачей есть? "
   ]
  },
  {
   "cell_type": "markdown",
   "metadata": {
    "id": "HYgosLYg5aVs"
   },
   "source": [
    "**Ответ:** С точки зрения практики можем считать, что если $p \\geqslant 0.6$, то связь есть. Вообще говоря, пороговое значение должно выбираться отдельно для каждой задачи."
   ]
  },
  {
   "cell_type": "markdown",
   "metadata": {
    "id": "DLnApSAE5aVt"
   },
   "source": [
    "Теперь сгенерируйте 10 выборок для двух случаев: 1). $n=5, p=0.75$; 2). $n=10^5, p=0.51$. \n",
    "В каждом случае в виде таблицы выведите реализацию статистики $T(X)$, соответствующее p-value и 0/1 &mdash; отвергается ли $\\mathsf{H}_0$ (выводите 1, если отвергается)."
   ]
  },
  {
   "cell_type": "code",
   "execution_count": null,
   "metadata": {
    "id": "yvWIWUN05aVt",
    "outputId": "e37dee91-1aea-4693-e080-0e916f26d691"
   },
   "outputs": [
    {
     "data": {
      "text/html": [
       "<div>\n",
       "<style scoped>\n",
       "    .dataframe tbody tr th:only-of-type {\n",
       "        vertical-align: middle;\n",
       "    }\n",
       "\n",
       "    .dataframe tbody tr th {\n",
       "        vertical-align: top;\n",
       "    }\n",
       "\n",
       "    .dataframe thead th {\n",
       "        text-align: right;\n",
       "    }\n",
       "</style>\n",
       "<table border=\"1\" class=\"dataframe\">\n",
       "  <thead>\n",
       "    <tr style=\"text-align: right;\">\n",
       "      <th></th>\n",
       "      <th>T(x)</th>\n",
       "      <th>pvalue</th>\n",
       "      <th>rejected</th>\n",
       "    </tr>\n",
       "  </thead>\n",
       "  <tbody>\n",
       "    <tr>\n",
       "      <th>0</th>\n",
       "      <td>4</td>\n",
       "      <td>0.18750</td>\n",
       "      <td>False</td>\n",
       "    </tr>\n",
       "    <tr>\n",
       "      <th>1</th>\n",
       "      <td>4</td>\n",
       "      <td>0.18750</td>\n",
       "      <td>False</td>\n",
       "    </tr>\n",
       "    <tr>\n",
       "      <th>2</th>\n",
       "      <td>4</td>\n",
       "      <td>0.18750</td>\n",
       "      <td>False</td>\n",
       "    </tr>\n",
       "    <tr>\n",
       "      <th>3</th>\n",
       "      <td>4</td>\n",
       "      <td>0.18750</td>\n",
       "      <td>False</td>\n",
       "    </tr>\n",
       "    <tr>\n",
       "      <th>4</th>\n",
       "      <td>4</td>\n",
       "      <td>0.18750</td>\n",
       "      <td>False</td>\n",
       "    </tr>\n",
       "    <tr>\n",
       "      <th>5</th>\n",
       "      <td>5</td>\n",
       "      <td>0.03125</td>\n",
       "      <td>True</td>\n",
       "    </tr>\n",
       "    <tr>\n",
       "      <th>6</th>\n",
       "      <td>4</td>\n",
       "      <td>0.18750</td>\n",
       "      <td>False</td>\n",
       "    </tr>\n",
       "    <tr>\n",
       "      <th>7</th>\n",
       "      <td>4</td>\n",
       "      <td>0.18750</td>\n",
       "      <td>False</td>\n",
       "    </tr>\n",
       "    <tr>\n",
       "      <th>8</th>\n",
       "      <td>4</td>\n",
       "      <td>0.18750</td>\n",
       "      <td>False</td>\n",
       "    </tr>\n",
       "    <tr>\n",
       "      <th>9</th>\n",
       "      <td>5</td>\n",
       "      <td>0.03125</td>\n",
       "      <td>True</td>\n",
       "    </tr>\n",
       "  </tbody>\n",
       "</table>\n",
       "</div>"
      ],
      "text/plain": [
       "   T(x)   pvalue  rejected\n",
       "0     4  0.18750     False\n",
       "1     4  0.18750     False\n",
       "2     4  0.18750     False\n",
       "3     4  0.18750     False\n",
       "4     4  0.18750     False\n",
       "5     5  0.03125      True\n",
       "6     4  0.18750     False\n",
       "7     4  0.18750     False\n",
       "8     4  0.18750     False\n",
       "9     5  0.03125      True"
      ]
     },
     "execution_count": 7,
     "metadata": {
      "tags": []
     },
     "output_type": "execute_result"
    }
   ],
   "source": [
    "size = 5\n",
    "theta = 0.75\n",
    "table = []\n",
    "\n",
    "for _ in range(10):\n",
    "    t = sps.bernoulli(p=theta).rvs(size=size).sum()\n",
    "    # -0.5 гарантирует, что берем нестрогий знак\n",
    "    p_value = sps.binom(n=size, p=0.5).sf(t-0.5)\n",
    "    table.append([t, p_value, p_value < alpha])\n",
    "    \n",
    "pd.DataFrame(table, columns=['T(x)','pvalue','rejected'])"
   ]
  },
  {
   "cell_type": "code",
   "execution_count": 6,
   "metadata": {
    "colab": {
     "base_uri": "https://localhost:8080/",
     "height": 345
    },
    "id": "I_F11I8E5aVt",
    "outputId": "0e9a1afe-7400-432e-e7a7-78838275cf43"
   },
   "outputs": [
    {
     "data": {
      "text/html": [
       "<div>\n",
       "<style scoped>\n",
       "    .dataframe tbody tr th:only-of-type {\n",
       "        vertical-align: middle;\n",
       "    }\n",
       "\n",
       "    .dataframe tbody tr th {\n",
       "        vertical-align: top;\n",
       "    }\n",
       "\n",
       "    .dataframe thead th {\n",
       "        text-align: right;\n",
       "    }\n",
       "</style>\n",
       "<table border=\"1\" class=\"dataframe\">\n",
       "  <thead>\n",
       "    <tr style=\"text-align: right;\">\n",
       "      <th></th>\n",
       "      <th>T(x)</th>\n",
       "      <th>pvalue</th>\n",
       "      <th>rejected</th>\n",
       "    </tr>\n",
       "  </thead>\n",
       "  <tbody>\n",
       "    <tr>\n",
       "      <th>0</th>\n",
       "      <td>51230</td>\n",
       "      <td>3.730104e-15</td>\n",
       "      <td>True</td>\n",
       "    </tr>\n",
       "    <tr>\n",
       "      <th>1</th>\n",
       "      <td>50916</td>\n",
       "      <td>3.513305e-09</td>\n",
       "      <td>True</td>\n",
       "    </tr>\n",
       "    <tr>\n",
       "      <th>2</th>\n",
       "      <td>51039</td>\n",
       "      <td>2.544965e-11</td>\n",
       "      <td>True</td>\n",
       "    </tr>\n",
       "    <tr>\n",
       "      <th>3</th>\n",
       "      <td>51030</td>\n",
       "      <td>3.723811e-11</td>\n",
       "      <td>True</td>\n",
       "    </tr>\n",
       "    <tr>\n",
       "      <th>4</th>\n",
       "      <td>50893</td>\n",
       "      <td>8.268149e-09</td>\n",
       "      <td>True</td>\n",
       "    </tr>\n",
       "    <tr>\n",
       "      <th>5</th>\n",
       "      <td>51064</td>\n",
       "      <td>8.694851e-12</td>\n",
       "      <td>True</td>\n",
       "    </tr>\n",
       "    <tr>\n",
       "      <th>6</th>\n",
       "      <td>51006</td>\n",
       "      <td>1.011732e-10</td>\n",
       "      <td>True</td>\n",
       "    </tr>\n",
       "    <tr>\n",
       "      <th>7</th>\n",
       "      <td>51068</td>\n",
       "      <td>7.305450e-12</td>\n",
       "      <td>True</td>\n",
       "    </tr>\n",
       "    <tr>\n",
       "      <th>8</th>\n",
       "      <td>50923</td>\n",
       "      <td>2.696587e-09</td>\n",
       "      <td>True</td>\n",
       "    </tr>\n",
       "    <tr>\n",
       "      <th>9</th>\n",
       "      <td>50969</td>\n",
       "      <td>4.519445e-10</td>\n",
       "      <td>True</td>\n",
       "    </tr>\n",
       "  </tbody>\n",
       "</table>\n",
       "</div>"
      ],
      "text/plain": [
       "    T(x)        pvalue  rejected\n",
       "0  51230  3.730104e-15      True\n",
       "1  50916  3.513305e-09      True\n",
       "2  51039  2.544965e-11      True\n",
       "3  51030  3.723811e-11      True\n",
       "4  50893  8.268149e-09      True\n",
       "5  51064  8.694851e-12      True\n",
       "6  51006  1.011732e-10      True\n",
       "7  51068  7.305450e-12      True\n",
       "8  50923  2.696587e-09      True\n",
       "9  50969  4.519445e-10      True"
      ]
     },
     "execution_count": 6,
     "metadata": {
      "tags": []
     },
     "output_type": "execute_result"
    }
   ],
   "source": [
    "size = 10 ** 5\n",
    "theta = 0.51\n",
    "table = []\n",
    "\n",
    "for _ in range(10):\n",
    "    t = sps.bernoulli(p=theta).rvs(size=size).sum()\n",
    "    # -0.5 гарантирует, что берем нестрогий знак\n",
    "    p_value = sps.binom(n=size, p=0.5).sf(t-0.5)\n",
    "    table.append([t, p_value, p_value < alpha])\n",
    "    \n",
    "pd.DataFrame(table, columns=['T(x)','pvalue','rejected'])"
   ]
  },
  {
   "cell_type": "markdown",
   "metadata": {
    "id": "Td8MBeZP5aVu"
   },
   "source": [
    "**Вывод:**"
   ]
  },
  {
   "cell_type": "markdown",
   "metadata": {
    "id": "_G7ZTVf_5aVu"
   },
   "source": [
    "Если выборка мала, то даже при сильном отклонении от основной гипотезы сложно что-либо отвергуть. При большой выборке даже при малом отклонении от основной гипотезы она отвергается практически всегда. "
   ]
  },
  {
   "cell_type": "markdown",
   "metadata": {
    "id": "SqGu7k_S5aVu"
   },
   "source": [
    "Возникает задача подбора оптимального размера выборки.\n",
    "\n",
    "Для этого сначала зафиксируйте значение $p^* > 1/2$, которое будет обладать следующим свойством.\n",
    "Если истинное $p > p^*$, то такое отклонение от $1/2$ с практической точки зрения признается существенным, то есть действительно чаще случается неудача после того, как черный кот перебегает дорогу.\n",
    "В противном случае отклонение с практической точки зрения признается несущественным.\n",
    "\n",
    "Теперь для некоторых $n$ постройте графики функции мощности критерия при $1/2 < p < 1$ и уровне значимости 0.05.\n",
    "Выберите такое $n^*$, для которого функция мощности дает значение 0.8 при $p^*$."
   ]
  },
  {
   "cell_type": "code",
   "execution_count": null,
   "metadata": {
    "id": "w6IPHMjR5aVv",
    "outputId": "1e6effdd-932a-4d8e-c50b-70a819b4c675"
   },
   "outputs": [
    {
     "data": {
      "image/png": "[encoded data removed]",
      "text/plain": [
       "<Figure size 864x504 with 1 Axes>"
      ]
     },
     "metadata": {
      "needs_background": "light",
      "tags": []
     },
     "output_type": "display_data"
    }
   ],
   "source": [
    "alpha = 0.05\n",
    "\n",
    "plt.figure(figsize=(12, 7))\n",
    "for size in [10, 20, 50, 150, 1000]:\n",
    "    c = size - sps.binom(n=size, p=0.5).ppf(alpha)\n",
    "    alternative_theta = np.linspace(0.5, 1, 100)\n",
    "    power = sps.binom(n=size, p=alternative_theta).sf(c)\n",
    "    plt.plot(alternative_theta, power, label='n = %d'%size, lw=3)\n",
    "    \n",
    "plt.hlines(0.8, 0.5, 1, 'r', '--')\n",
    "plt.xlabel('$\\\\theta$')\n",
    "plt.ylabel('$\\\\beta(\\\\theta)$')\n",
    "plt.legend()\n",
    "plt.show()"
   ]
  },
  {
   "cell_type": "markdown",
   "metadata": {
    "id": "hp7QmOXM5aVv"
   },
   "source": [
    "В данном случае при $p^* = 0.6$ оптимальный размер выборки равен $n^* = 150$."
   ]
  },
  {
   "cell_type": "markdown",
   "metadata": {
    "id": "pirhK3x65aVv"
   },
   "source": [
    "Для выбранного $n^*$ проведите эксперимент, аналогичный проведенным ранее экспериментам, сгенерировав выборки для следующих истинных значений $p$: 1). $1/2 < p < p^*$; 2). $p > p^*$."
   ]
  },
  {
   "cell_type": "code",
   "execution_count": null,
   "metadata": {
    "id": "M84eEePp5aVv",
    "outputId": "5d919014-c185-491a-fb43-734b3a95dd7b"
   },
   "outputs": [
    {
     "data": {
      "text/html": [
       "<div>\n",
       "<style scoped>\n",
       "    .dataframe tbody tr th:only-of-type {\n",
       "        vertical-align: middle;\n",
       "    }\n",
       "\n",
       "    .dataframe tbody tr th {\n",
       "        vertical-align: top;\n",
       "    }\n",
       "\n",
       "    .dataframe thead th {\n",
       "        text-align: right;\n",
       "    }\n",
       "</style>\n",
       "<table border=\"1\" class=\"dataframe\">\n",
       "  <thead>\n",
       "    <tr style=\"text-align: right;\">\n",
       "      <th></th>\n",
       "      <th>T(x)</th>\n",
       "      <th>pvalue</th>\n",
       "      <th>rejected</th>\n",
       "    </tr>\n",
       "  </thead>\n",
       "  <tbody>\n",
       "    <tr>\n",
       "      <th>0</th>\n",
       "      <td>95</td>\n",
       "      <td>0.000685</td>\n",
       "      <td>True</td>\n",
       "    </tr>\n",
       "    <tr>\n",
       "      <th>1</th>\n",
       "      <td>100</td>\n",
       "      <td>0.000027</td>\n",
       "      <td>True</td>\n",
       "    </tr>\n",
       "    <tr>\n",
       "      <th>2</th>\n",
       "      <td>104</td>\n",
       "      <td>0.000001</td>\n",
       "      <td>True</td>\n",
       "    </tr>\n",
       "    <tr>\n",
       "      <th>3</th>\n",
       "      <td>97</td>\n",
       "      <td>0.000205</td>\n",
       "      <td>True</td>\n",
       "    </tr>\n",
       "    <tr>\n",
       "      <th>4</th>\n",
       "      <td>103</td>\n",
       "      <td>0.000003</td>\n",
       "      <td>True</td>\n",
       "    </tr>\n",
       "    <tr>\n",
       "      <th>5</th>\n",
       "      <td>96</td>\n",
       "      <td>0.000380</td>\n",
       "      <td>True</td>\n",
       "    </tr>\n",
       "    <tr>\n",
       "      <th>6</th>\n",
       "      <td>93</td>\n",
       "      <td>0.002057</td>\n",
       "      <td>True</td>\n",
       "    </tr>\n",
       "    <tr>\n",
       "      <th>7</th>\n",
       "      <td>98</td>\n",
       "      <td>0.000108</td>\n",
       "      <td>True</td>\n",
       "    </tr>\n",
       "    <tr>\n",
       "      <th>8</th>\n",
       "      <td>104</td>\n",
       "      <td>0.000001</td>\n",
       "      <td>True</td>\n",
       "    </tr>\n",
       "    <tr>\n",
       "      <th>9</th>\n",
       "      <td>102</td>\n",
       "      <td>0.000006</td>\n",
       "      <td>True</td>\n",
       "    </tr>\n",
       "  </tbody>\n",
       "</table>\n",
       "</div>"
      ],
      "text/plain": [
       "   T(x)    pvalue  rejected\n",
       "0    95  0.000685      True\n",
       "1   100  0.000027      True\n",
       "2   104  0.000001      True\n",
       "3    97  0.000205      True\n",
       "4   103  0.000003      True\n",
       "5    96  0.000380      True\n",
       "6    93  0.002057      True\n",
       "7    98  0.000108      True\n",
       "8   104  0.000001      True\n",
       "9   102  0.000006      True"
      ]
     },
     "execution_count": 19,
     "metadata": {
      "tags": []
     },
     "output_type": "execute_result"
    }
   ],
   "source": [
    "size = 150\n",
    "theta = 0.65\n",
    "table = []\n",
    "\n",
    "for _ in range(10):\n",
    "    t = sps.bernoulli(p=theta).rvs(size=size).sum()\n",
    "    # -0.5 гарантирует, что берем нестрогий знак\n",
    "    p_value = sps.binom(n=size, p=0.5).sf(t-0.5)\n",
    "    table.append([t, p_value, p_value < alpha])\n",
    "    \n",
    "pd.DataFrame(table, columns=['T(x)','pvalue','rejected'])"
   ]
  },
  {
   "cell_type": "code",
   "execution_count": null,
   "metadata": {
    "id": "pYLGltuJ5aVw",
    "outputId": "5ac9add2-4bf4-4db6-b3e6-bf9f2bdac45f"
   },
   "outputs": [
    {
     "data": {
      "text/html": [
       "<div>\n",
       "<style scoped>\n",
       "    .dataframe tbody tr th:only-of-type {\n",
       "        vertical-align: middle;\n",
       "    }\n",
       "\n",
       "    .dataframe tbody tr th {\n",
       "        vertical-align: top;\n",
       "    }\n",
       "\n",
       "    .dataframe thead th {\n",
       "        text-align: right;\n",
       "    }\n",
       "</style>\n",
       "<table border=\"1\" class=\"dataframe\">\n",
       "  <thead>\n",
       "    <tr style=\"text-align: right;\">\n",
       "      <th></th>\n",
       "      <th>T(x)</th>\n",
       "      <th>pvalue</th>\n",
       "      <th>rejected</th>\n",
       "    </tr>\n",
       "  </thead>\n",
       "  <tbody>\n",
       "    <tr>\n",
       "      <th>0</th>\n",
       "      <td>83</td>\n",
       "      <td>0.110272</td>\n",
       "      <td>False</td>\n",
       "    </tr>\n",
       "    <tr>\n",
       "      <th>1</th>\n",
       "      <td>83</td>\n",
       "      <td>0.110272</td>\n",
       "      <td>False</td>\n",
       "    </tr>\n",
       "    <tr>\n",
       "      <th>2</th>\n",
       "      <td>89</td>\n",
       "      <td>0.013576</td>\n",
       "      <td>True</td>\n",
       "    </tr>\n",
       "    <tr>\n",
       "      <th>3</th>\n",
       "      <td>82</td>\n",
       "      <td>0.144228</td>\n",
       "      <td>False</td>\n",
       "    </tr>\n",
       "    <tr>\n",
       "      <th>4</th>\n",
       "      <td>93</td>\n",
       "      <td>0.002057</td>\n",
       "      <td>True</td>\n",
       "    </tr>\n",
       "    <tr>\n",
       "      <th>5</th>\n",
       "      <td>87</td>\n",
       "      <td>0.030014</td>\n",
       "      <td>True</td>\n",
       "    </tr>\n",
       "    <tr>\n",
       "      <th>6</th>\n",
       "      <td>76</td>\n",
       "      <td>0.467481</td>\n",
       "      <td>False</td>\n",
       "    </tr>\n",
       "    <tr>\n",
       "      <th>7</th>\n",
       "      <td>76</td>\n",
       "      <td>0.467481</td>\n",
       "      <td>False</td>\n",
       "    </tr>\n",
       "    <tr>\n",
       "      <th>8</th>\n",
       "      <td>82</td>\n",
       "      <td>0.144228</td>\n",
       "      <td>False</td>\n",
       "    </tr>\n",
       "    <tr>\n",
       "      <th>9</th>\n",
       "      <td>77</td>\n",
       "      <td>0.403298</td>\n",
       "      <td>False</td>\n",
       "    </tr>\n",
       "  </tbody>\n",
       "</table>\n",
       "</div>"
      ],
      "text/plain": [
       "   T(x)    pvalue  rejected\n",
       "0    83  0.110272     False\n",
       "1    83  0.110272     False\n",
       "2    89  0.013576      True\n",
       "3    82  0.144228     False\n",
       "4    93  0.002057      True\n",
       "5    87  0.030014      True\n",
       "6    76  0.467481     False\n",
       "7    76  0.467481     False\n",
       "8    82  0.144228     False\n",
       "9    77  0.403298     False"
      ]
     },
     "execution_count": 18,
     "metadata": {
      "tags": []
     },
     "output_type": "execute_result"
    }
   ],
   "source": [
    "size = 150\n",
    "theta = 0.55\n",
    "table = []\n",
    "\n",
    "for _ in range(10):\n",
    "    t = sps.bernoulli(p=theta).rvs(size=size).sum()\n",
    "    # -0.5 гарантирует, что берем нестрогий знак\n",
    "    p_value = sps.binom(n=size, p=0.5).sf(t-0.5)\n",
    "    table.append([t, p_value, p_value < alpha])\n",
    "    \n",
    "pd.DataFrame(table, columns=['T(x)','pvalue','rejected'])"
   ]
  },
  {
   "cell_type": "markdown",
   "metadata": {
    "id": "SBECetoE5aVw"
   },
   "source": [
    "**Вывод:**"
   ]
  },
  {
   "cell_type": "markdown",
   "metadata": {
    "id": "C8bAOMWi5aVw"
   },
   "source": [
    "Многие критерии состоятельны (мощность сходится к 1), но это означает, что на практике основная гипотеза в большинстве случаев будет отвергаться, поскольку часто происходят несущественные отклонения от нее. На практике при наличии уже имеющейся выборки нужно оценивать практическую значимость результата. Если же стоит задача получения адекватного размера выборки, то ее можно решить с помощью кривых мощности, зависиксировав желаемую мощность и значимый результат."
   ]
  },
  {
   "cell_type": "code",
   "execution_count": null,
   "metadata": {
    "id": "KuoKn73x9kfM"
   },
   "outputs": [],
   "source": []
  }
 ],
 "metadata": {
  "colab": {
   "collapsed_sections": [],
   "name": "UPD Решение 4-9.ipynb",
   "provenance": []
  },
  "kernelspec": {
   "display_name": "Python 3",
   "language": "python",
   "name": "python3"
  },
  "language_info": {
   "codemirror_mode": {
    "name": "ipython",
    "version": 3
   },
   "file_extension": ".py",
   "mimetype": "text/x-python",
   "name": "python",
   "nbconvert_exporter": "python",
   "pygments_lexer": "ipython3",
   "version": "3.8.10"
  }
 },
 "nbformat": 4,
 "nbformat_minor": 1
}
